{
 "cells": [
  {
   "cell_type": "markdown",
   "metadata": {},
   "source": [
    "**<center><font size=\"40\">Kaggle Tips</font></center>**\n",
    "\n",
    "Notebook created based on [DataCamp](https://www.datacamp.com/) \"Winning a Kaggle Competition in Python\" course in the Machine Learning Scientist Career Track."
   ]
  },
  {
   "cell_type": "markdown",
   "metadata": {},
   "source": [
    "# Process\n",
    "The general outlook of the kaggle competition:<br>\n",
    "<img src=\"img/process.png\" alt=\"Drawing\" caption='tere' style=\"width: 500px;\"/>"
   ]
  },
  {
   "cell_type": "markdown",
   "metadata": {},
   "source": [
    "## Data\n",
    "After choosing a competition on [kaggle](https://www.kaggle.com/) and reading about the given infromation about it on kaggel website, one should:\n",
    "1. compare train & test set columns<br>\n",
    "As one of the examples we use **\"Store Item Demand Forecasting Challenge\"** dataset on kaggle."
   ]
  },
  {
   "cell_type": "code",
   "execution_count": 1,
   "metadata": {},
   "outputs": [],
   "source": [
    "import pandas as pd\n",
    "\n",
    "#read in train and test data into DFs\n",
    "store_tr = pd.read_csv('regression/data/store_item_demand/train.csv')\n",
    "store_te = pd.read_csv('regression/data/store_item_demand/test.csv')"
   ]
  },
  {
   "cell_type": "code",
   "execution_count": 2,
   "metadata": {},
   "outputs": [
    {
     "data": {
      "text/html": [
       "<div>\n",
       "<style scoped>\n",
       "    .dataframe tbody tr th:only-of-type {\n",
       "        vertical-align: middle;\n",
       "    }\n",
       "\n",
       "    .dataframe tbody tr th {\n",
       "        vertical-align: top;\n",
       "    }\n",
       "\n",
       "    .dataframe thead th {\n",
       "        text-align: right;\n",
       "    }\n",
       "</style>\n",
       "<table border=\"1\" class=\"dataframe\">\n",
       "  <thead>\n",
       "    <tr style=\"text-align: right;\">\n",
       "      <th></th>\n",
       "      <th>date</th>\n",
       "      <th>store</th>\n",
       "      <th>item</th>\n",
       "      <th>sales</th>\n",
       "    </tr>\n",
       "  </thead>\n",
       "  <tbody>\n",
       "    <tr>\n",
       "      <th>0</th>\n",
       "      <td>2013-01-01</td>\n",
       "      <td>1</td>\n",
       "      <td>1</td>\n",
       "      <td>13</td>\n",
       "    </tr>\n",
       "  </tbody>\n",
       "</table>\n",
       "</div>"
      ],
      "text/plain": [
       "         date  store  item  sales\n",
       "0  2013-01-01      1     1     13"
      ]
     },
     "execution_count": 2,
     "metadata": {},
     "output_type": "execute_result"
    }
   ],
   "source": [
    "store_tr.head(1)"
   ]
  },
  {
   "cell_type": "code",
   "execution_count": 3,
   "metadata": {},
   "outputs": [
    {
     "data": {
      "text/html": [
       "<div>\n",
       "<style scoped>\n",
       "    .dataframe tbody tr th:only-of-type {\n",
       "        vertical-align: middle;\n",
       "    }\n",
       "\n",
       "    .dataframe tbody tr th {\n",
       "        vertical-align: top;\n",
       "    }\n",
       "\n",
       "    .dataframe thead th {\n",
       "        text-align: right;\n",
       "    }\n",
       "</style>\n",
       "<table border=\"1\" class=\"dataframe\">\n",
       "  <thead>\n",
       "    <tr style=\"text-align: right;\">\n",
       "      <th></th>\n",
       "      <th>id</th>\n",
       "      <th>date</th>\n",
       "      <th>store</th>\n",
       "      <th>item</th>\n",
       "    </tr>\n",
       "  </thead>\n",
       "  <tbody>\n",
       "    <tr>\n",
       "      <th>0</th>\n",
       "      <td>0</td>\n",
       "      <td>2018-01-01</td>\n",
       "      <td>1</td>\n",
       "      <td>1</td>\n",
       "    </tr>\n",
       "  </tbody>\n",
       "</table>\n",
       "</div>"
      ],
      "text/plain": [
       "   id        date  store  item\n",
       "0   0  2018-01-01      1     1"
      ]
     },
     "execution_count": 3,
     "metadata": {},
     "output_type": "execute_result"
    }
   ],
   "source": [
    "store_te.head(1)"
   ]
  },
  {
   "cell_type": "code",
   "execution_count": 4,
   "metadata": {},
   "outputs": [
    {
     "data": {
      "text/plain": [
       "dtype('int64')"
      ]
     },
     "execution_count": 4,
     "metadata": {},
     "output_type": "execute_result"
    }
   ],
   "source": [
    "store_tr.sales.dtype"
   ]
  },
  {
   "cell_type": "markdown",
   "metadata": {},
   "source": [
    "The **target** variable here is <code>sales</code>, which coutns a number of articles sold in a given date."
   ]
  },
  {
   "cell_type": "markdown",
   "metadata": {},
   "source": [
    "## Pre-Submission\n",
    "After getting familiar with the data: \n",
    "* get familiar with the **expected output format** of the submission (.csv) file.<br>\n",
    "This can be done by reading in a sample submission .csv file."
   ]
  },
  {
   "cell_type": "code",
   "execution_count": 5,
   "metadata": {},
   "outputs": [
    {
     "data": {
      "text/html": [
       "<div>\n",
       "<style scoped>\n",
       "    .dataframe tbody tr th:only-of-type {\n",
       "        vertical-align: middle;\n",
       "    }\n",
       "\n",
       "    .dataframe tbody tr th {\n",
       "        vertical-align: top;\n",
       "    }\n",
       "\n",
       "    .dataframe thead th {\n",
       "        text-align: right;\n",
       "    }\n",
       "</style>\n",
       "<table border=\"1\" class=\"dataframe\">\n",
       "  <thead>\n",
       "    <tr style=\"text-align: right;\">\n",
       "      <th></th>\n",
       "      <th>id</th>\n",
       "      <th>sales</th>\n",
       "    </tr>\n",
       "  </thead>\n",
       "  <tbody>\n",
       "    <tr>\n",
       "      <th>0</th>\n",
       "      <td>0</td>\n",
       "      <td>52</td>\n",
       "    </tr>\n",
       "    <tr>\n",
       "      <th>1</th>\n",
       "      <td>1</td>\n",
       "      <td>52</td>\n",
       "    </tr>\n",
       "    <tr>\n",
       "      <th>2</th>\n",
       "      <td>2</td>\n",
       "      <td>52</td>\n",
       "    </tr>\n",
       "    <tr>\n",
       "      <th>3</th>\n",
       "      <td>3</td>\n",
       "      <td>52</td>\n",
       "    </tr>\n",
       "    <tr>\n",
       "      <th>4</th>\n",
       "      <td>4</td>\n",
       "      <td>52</td>\n",
       "    </tr>\n",
       "  </tbody>\n",
       "</table>\n",
       "</div>"
      ],
      "text/plain": [
       "   id  sales\n",
       "0   0     52\n",
       "1   1     52\n",
       "2   2     52\n",
       "3   3     52\n",
       "4   4     52"
      ]
     },
     "execution_count": 5,
     "metadata": {},
     "output_type": "execute_result"
    }
   ],
   "source": [
    "store_sample_submission = pd.read_csv(\n",
    "    'regression/data/store_item_demand/sample_submission.csv')\n",
    "store_sample_submission.head()"
   ]
  },
  {
   "cell_type": "markdown",
   "metadata": {},
   "source": [
    "### Problem Type\n",
    "Determine problem type, e.g. is it classification, regression or clustering.\n",
    "* plot a **histogram** of a target variable"
   ]
  },
  {
   "cell_type": "code",
   "execution_count": 6,
   "metadata": {},
   "outputs": [
    {
     "data": {
      "image/png": "[encoded data removed]",
      "text/plain": [
       "<Figure size 432x288 with 1 Axes>"
      ]
     },
     "metadata": {
      "needs_background": "light"
     },
     "output_type": "display_data"
    }
   ],
   "source": [
    "import matplotlib.pyplot as plt\n",
    "\n",
    "store_tr.sales.plot(kind='hist', bins=20, ec='k')\n",
    "plt.title('Sales')\n",
    "plt.xlabel('# of articles')\n",
    "plt.show()"
   ]
  },
  {
   "cell_type": "markdown",
   "metadata": {},
   "source": [
    "From the plot we can see it is a *continuous* variable - **regression** problem."
   ]
  },
  {
   "cell_type": "markdown",
   "metadata": {},
   "source": [
    "### Submission\n",
    "First submission should be very easy, just to preapare for a proper submission format. Let's builda  simple regression model and make first predictions."
   ]
  },
  {
   "cell_type": "code",
   "execution_count": 7,
   "metadata": {},
   "outputs": [],
   "source": [
    "from sklearn.linear_model import LinearRegression"
   ]
  },
  {
   "cell_type": "code",
   "execution_count": 8,
   "metadata": {},
   "outputs": [
    {
     "data": {
      "text/plain": [
       "LinearRegression(copy_X=True, fit_intercept=True, n_jobs=None, normalize=False)"
      ]
     },
     "execution_count": 8,
     "metadata": {},
     "output_type": "execute_result"
    }
   ],
   "source": [
    "#init LR object\n",
    "lr = LinearRegression()\n",
    "\n",
    "#train model using features 'store' and 'item'\n",
    "lr.fit(X=store_tr[['store','item']], y=store_tr.sales)"
   ]
  },
  {
   "cell_type": "code",
   "execution_count": 9,
   "metadata": {},
   "outputs": [
    {
     "data": {
      "text/html": [
       "<div>\n",
       "<style scoped>\n",
       "    .dataframe tbody tr th:only-of-type {\n",
       "        vertical-align: middle;\n",
       "    }\n",
       "\n",
       "    .dataframe tbody tr th {\n",
       "        vertical-align: top;\n",
       "    }\n",
       "\n",
       "    .dataframe thead th {\n",
       "        text-align: right;\n",
       "    }\n",
       "</style>\n",
       "<table border=\"1\" class=\"dataframe\">\n",
       "  <thead>\n",
       "    <tr style=\"text-align: right;\">\n",
       "      <th></th>\n",
       "      <th>id</th>\n",
       "      <th>sales</th>\n",
       "    </tr>\n",
       "  </thead>\n",
       "  <tbody>\n",
       "    <tr>\n",
       "      <th>0</th>\n",
       "      <td>0</td>\n",
       "      <td>55</td>\n",
       "    </tr>\n",
       "    <tr>\n",
       "      <th>1</th>\n",
       "      <td>1</td>\n",
       "      <td>55</td>\n",
       "    </tr>\n",
       "    <tr>\n",
       "      <th>2</th>\n",
       "      <td>2</td>\n",
       "      <td>55</td>\n",
       "    </tr>\n",
       "    <tr>\n",
       "      <th>3</th>\n",
       "      <td>3</td>\n",
       "      <td>55</td>\n",
       "    </tr>\n",
       "    <tr>\n",
       "      <th>4</th>\n",
       "      <td>4</td>\n",
       "      <td>55</td>\n",
       "    </tr>\n",
       "  </tbody>\n",
       "</table>\n",
       "</div>"
      ],
      "text/plain": [
       "   id  sales\n",
       "0   0     55\n",
       "1   1     55\n",
       "2   2     55\n",
       "3   3     55\n",
       "4   4     55"
      ]
     },
     "execution_count": 9,
     "metadata": {},
     "output_type": "execute_result"
    }
   ],
   "source": [
    "#getting the predictions for the test set\n",
    "store_te['sales'] = lr.predict(X=store_te[['store', 'item']]).astype('int64')\n",
    "\n",
    "#glimpse of the predictions\n",
    "store_te[['id', 'sales']].head()"
   ]
  },
  {
   "cell_type": "markdown",
   "metadata": {},
   "source": [
    "We stored the **prediction** to orignal test dataset DF since the 'id' variable is already linked with the correct observation. This result can be now written to a csv file. "
   ]
  },
  {
   "cell_type": "code",
   "execution_count": 10,
   "metadata": {},
   "outputs": [],
   "source": [
    "store_te[['id', 'sales']].to_csv('regression/data/store_item_demand/submissions/'\n",
    "                                 'first_sample_submission.csv', index=False)"
   ]
  },
  {
   "cell_type": "markdown",
   "metadata": {},
   "source": [
    "# Workflow\n",
    "Solution workflow:\n",
    "\n",
    "<img src=\"img/workflow.png\" alt=\"Drawing\" style=\"width: 600px;\"/>\n",
    "\n",
    "1. Understand the problem\n",
    "    1. **Data type**: tabular data, time series, images, text...\n",
    "    2. **Problem type**: classification, regression, ranking, clustering\n",
    "    3. **Evaluation metric**: ROC AUC, F1-Score, MAE, MSE, Log Loss.\n",
    "<br>\n",
    "<br>\n",
    "2. EDA (Exploratory Data Analysis)\n",
    "    *  **Size** of the data\n",
    "    * Properties of the **target** variables and **features**\n",
    "    * Generate ideas for feature engineering\n",
    "<br>\n",
    "<br>\n",
    "3. Local validation\n",
    "    * Establish Local Validation strategy - valuating the model locally to **prevent overfitting**.\n",
    "    * split local train data into train and holdout data\n",
    "    * K-fold cross-validation\n",
    "<br>\n",
    "<br>\n",
    "4. Modeling\n",
    "    * Continuous improvements of the solution\n",
    "    <img src=\"img/modelling_loop.png\" alt=\"Drawing\" style=\"width: 500px;\"/>\n",
    "    * **One change at a time!!!** To see what actually worked or didn't worked. If several changes are done then the improvement might be hidden or even cancelled out.<br>\n",
    "    \n",
    "    * Feature engineering is one of the keys here. Ideas for new features may come from:\n",
    "        * Prior experience\n",
    "        * EDA\n",
    "        * Domain knowledge"
   ]
  },
  {
   "cell_type": "markdown",
   "metadata": {},
   "source": [
    "# Modeling\n",
    "## Feature Engineering\n",
    "* When at the modeling cycle - make a one change at a time and evaluate the outcome.\n",
    "### Creating features\n",
    "When creating the features we need to concat train and test data into single DF so test data features are also changed and then separate them by ID."
   ]
  },
  {
   "cell_type": "code",
   "execution_count": 11,
   "metadata": {},
   "outputs": [
    {
     "name": "stdout",
     "output_type": "stream",
     "text": [
      "Train data index range [0:912999]\n",
      "Test data index range [0:44999]\n"
     ]
    }
   ],
   "source": [
    "#train data index range\n",
    "print('Train data index range [{}:{}]'.format(store_tr.index[0], store_tr.index[-1]))\n",
    "\n",
    "#test data index range\n",
    "print('Test data index range [{}:{}]'.format(store_te.index[0], store_te.index[-1]))"
   ]
  },
  {
   "cell_type": "code",
   "execution_count": 12,
   "metadata": {},
   "outputs": [
    {
     "name": "stdout",
     "output_type": "stream",
     "text": [
      "         date  store  item  sales\n",
      "0  2013-01-01      1     1     13\n",
      "1  2013-01-02      1     1     11\n",
      "2  2013-01-03      1     1     14\n",
      "-----------\n",
      "   id        date  store  item  sales\n",
      "0   0  2018-01-01      1     1     55\n",
      "1   1  2018-01-02      1     1     55\n",
      "2   2  2018-01-03      1     1     55\n"
     ]
    }
   ],
   "source": [
    "print(store_tr.head(3))\n",
    "print('-----------')\n",
    "print(store_te.head(3))"
   ]
  },
  {
   "cell_type": "code",
   "execution_count": 13,
   "metadata": {},
   "outputs": [
    {
     "data": {
      "text/html": [
       "<div>\n",
       "<style scoped>\n",
       "    .dataframe tbody tr th:only-of-type {\n",
       "        vertical-align: middle;\n",
       "    }\n",
       "\n",
       "    .dataframe tbody tr th {\n",
       "        vertical-align: top;\n",
       "    }\n",
       "\n",
       "    .dataframe thead th {\n",
       "        text-align: right;\n",
       "    }\n",
       "</style>\n",
       "<table border=\"1\" class=\"dataframe\">\n",
       "  <thead>\n",
       "    <tr style=\"text-align: right;\">\n",
       "      <th></th>\n",
       "      <th>id</th>\n",
       "      <th>date</th>\n",
       "      <th>store</th>\n",
       "      <th>item</th>\n",
       "      <th>sales</th>\n",
       "    </tr>\n",
       "  </thead>\n",
       "  <tbody>\n",
       "    <tr>\n",
       "      <th>44997</th>\n",
       "      <td>44997</td>\n",
       "      <td>2018-03-29</td>\n",
       "      <td>10</td>\n",
       "      <td>50</td>\n",
       "      <td>49</td>\n",
       "    </tr>\n",
       "    <tr>\n",
       "      <th>44998</th>\n",
       "      <td>44998</td>\n",
       "      <td>2018-03-30</td>\n",
       "      <td>10</td>\n",
       "      <td>50</td>\n",
       "      <td>49</td>\n",
       "    </tr>\n",
       "    <tr>\n",
       "      <th>44999</th>\n",
       "      <td>44999</td>\n",
       "      <td>2018-03-31</td>\n",
       "      <td>10</td>\n",
       "      <td>50</td>\n",
       "      <td>49</td>\n",
       "    </tr>\n",
       "  </tbody>\n",
       "</table>\n",
       "</div>"
      ],
      "text/plain": [
       "          id        date  store  item  sales\n",
       "44997  44997  2018-03-29     10    50     49\n",
       "44998  44998  2018-03-30     10    50     49\n",
       "44999  44999  2018-03-31     10    50     49"
      ]
     },
     "execution_count": 13,
     "metadata": {},
     "output_type": "execute_result"
    }
   ],
   "source": [
    "store_te.tail(3)"
   ]
  },
  {
   "cell_type": "code",
   "execution_count": 14,
   "metadata": {},
   "outputs": [
    {
     "data": {
      "text/html": [
       "<div>\n",
       "<style scoped>\n",
       "    .dataframe tbody tr th:only-of-type {\n",
       "        vertical-align: middle;\n",
       "    }\n",
       "\n",
       "    .dataframe tbody tr th {\n",
       "        vertical-align: top;\n",
       "    }\n",
       "\n",
       "    .dataframe thead th {\n",
       "        text-align: right;\n",
       "    }\n",
       "</style>\n",
       "<table border=\"1\" class=\"dataframe\">\n",
       "  <thead>\n",
       "    <tr style=\"text-align: right;\">\n",
       "      <th></th>\n",
       "      <th>date</th>\n",
       "      <th>store</th>\n",
       "      <th>item</th>\n",
       "      <th>sales</th>\n",
       "    </tr>\n",
       "  </thead>\n",
       "  <tbody>\n",
       "    <tr>\n",
       "      <th>45000</th>\n",
       "      <td>2013-01-01</td>\n",
       "      <td>1</td>\n",
       "      <td>1</td>\n",
       "      <td>13</td>\n",
       "    </tr>\n",
       "    <tr>\n",
       "      <th>45001</th>\n",
       "      <td>2013-01-02</td>\n",
       "      <td>1</td>\n",
       "      <td>1</td>\n",
       "      <td>11</td>\n",
       "    </tr>\n",
       "    <tr>\n",
       "      <th>45002</th>\n",
       "      <td>2013-01-03</td>\n",
       "      <td>1</td>\n",
       "      <td>1</td>\n",
       "      <td>14</td>\n",
       "    </tr>\n",
       "  </tbody>\n",
       "</table>\n",
       "</div>"
      ],
      "text/plain": [
       "             date  store  item  sales\n",
       "45000  2013-01-01      1     1     13\n",
       "45001  2013-01-02      1     1     11\n",
       "45002  2013-01-03      1     1     14"
      ]
     },
     "execution_count": 14,
     "metadata": {},
     "output_type": "execute_result"
    }
   ],
   "source": [
    "#create dummy index for train set from 45000 to len(train)\n",
    "store_tr_dummy = store_tr.copy()\n",
    "store_tr_dummy.index = range(store_te.id.values[-1]+1, store_tr.shape[0] + store_te.shape[0])\n",
    "store_tr_dummy.head(3)"
   ]
  },
  {
   "cell_type": "markdown",
   "metadata": {},
   "source": [
    "We had to set a dummy index because train data has index from 0 to 900k and test data index also starts from 0."
   ]
  },
  {
   "cell_type": "code",
   "execution_count": 15,
   "metadata": {},
   "outputs": [
    {
     "name": "stdout",
     "output_type": "stream",
     "text": [
      "Train data index RangeIndex(start=45000, stop=958000, step=1)\n",
      "Test data index RangeIndex(start=0, stop=45000, step=1)\n"
     ]
    }
   ],
   "source": [
    "#train data index range\n",
    "print('Train data index', store_tr_dummy.index)\n",
    "\n",
    "#test data index range\n",
    "print('Test data index', store_te.index)"
   ]
  },
  {
   "cell_type": "code",
   "execution_count": 16,
   "metadata": {},
   "outputs": [
    {
     "data": {
      "text/plain": [
       "(958000, 5)"
      ]
     },
     "execution_count": 16,
     "metadata": {},
     "output_type": "execute_result"
    }
   ],
   "source": [
    "combined = pd.concat([store_te, store_tr_dummy], axis='index', sort=False)\n",
    "combined.shape"
   ]
  },
  {
   "cell_type": "code",
   "execution_count": 17,
   "metadata": {},
   "outputs": [
    {
     "data": {
      "text/plain": [
       "RangeIndex(start=0, stop=958000, step=1)"
      ]
     },
     "execution_count": 17,
     "metadata": {},
     "output_type": "execute_result"
    }
   ],
   "source": [
    "combined.index"
   ]
  },
  {
   "cell_type": "code",
   "execution_count": 18,
   "metadata": {},
   "outputs": [],
   "source": [
    "#create new feature(s)"
   ]
  },
  {
   "cell_type": "code",
   "execution_count": 19,
   "metadata": {},
   "outputs": [],
   "source": [
    "#divide back into train and test data\n",
    "store_tr2 = combined[combined.index.isin(store_tr_dummy.index)][['date','store','item','sales']]\n",
    "store_te2 = combined[combined.id.isin(store_te.id)]"
   ]
  },
  {
   "cell_type": "markdown",
   "metadata": {},
   "source": [
    "### Numeric data\n",
    "Numeric features can be added or divided.\n",
    "### Categorical data\n",
    "Can be encoded into :\n",
    "* Integer umber labels (with sklearn <code>LabelEncoder</code>) producing **1 column**, but since Linear models are sensitive to numeric labels (2 > 1) it might not work well.\n",
    "<br>\n",
    "<br>\n",
    "* Each category value is converted to a new column has a new feature and has a value 1 if this category is present and 0 otherwise. (<code>OneHotEncoder</code> in sklearn). This can in essence explode the size of the data very quickly.\n",
    "<br>\n",
    "<br>\n",
    "* For high cardinality categorical features: **Target encoding**. Produces **single column** feature and embeds correlation between teh categories and the target variable."
   ]
  },
  {
   "cell_type": "markdown",
   "metadata": {},
   "source": [
    "#### Mean Target Encoding\n",
    "There are different functions for target encoding but most popular is the **mean**.<br>\n",
    "**The idea:**<br>\n",
    "\n",
    "Let's have an example train and test data with **binary** target value:\n",
    "<img src=\"img/mean_target_enc_data.png\" alt=\"Drawing\" style=\"width: 500px;\"/>\n",
    "<br>\n",
    "Obviously, train data has the target column but test data doesn't since we want to predict it. To apply mean target encoding to a particular feature we have to:<br>\n",
    "1. Calculate mean target value on the train data --> apply to the test data.\n",
    "    * For binary target we calculate the mean encoded target value to the test set from training. For example here, cat value **A** mean based on 7 training set rows is $\\frac{1+1+0}{3} = 0.66$ and for value **B** it is $\\frac{0+0+0+1}{4}=0.25$. These values are applied to the test data set and as a result we have obtained a new feature:\n",
    "<img src=\"img/target_enc2.png\" alt=\"Drawing\" style=\"width: 600px;\"/><br>\n",
    "    * We need to calculate the mean encoded target value for the train data.\n",
    "<br>\n",
    "<br>\n",
    "2. Divide train data into K folds. For an example K=3: \n",
    "    * For each fold target mean is calculated based on K-1 = 2 other folds.\n",
    "    * Result statistics based on these other 2 folds are applied to the current fold. This is called out-of-fold data and is impelmented to prevent overfitting. Rather than using the actual mean values it is better to generalise it and use an estimate from 2 independent folds.\n",
    "    * This process is carried out for each fold sequentially.<br>\n",
    "    As an example:\n",
    "    <img src=\"img/target_enc3.png\" alt=\"Drawing\" style=\"width: 350px;\"/><br>\n",
    "    * We have two folds: 1 and 2.\n",
    "    * For fold 1 the mean encoded values are calculated based on fold 2 target values (in **<font color='green'>green</font>**). Thus for **A** mean encoded value is $\\frac{0}{1}=0$ and for **B** it is $\\frac{0+1}{2}=0.5$. \n",
    "    * For fold 2 the mean encoded values are calculated based on fold 1 target values (in **<font color='red'>red</font>**). Thus **A** is $\\frac{1+1}{2}=1$ and **B** is $\\frac{0+0}{2}=0$\n",
    "3. Train and test data has this new feature <code>Mean encoded</code> which can be added our model."
   ]
  },
  {
   "cell_type": "markdown",
   "metadata": {},
   "source": [
    "**Practical tips**<br>\n",
    "##### Smoothing\n",
    "For a simple categorical variable we take a mean:\n",
    "$$\\overline{enc_i}=\\frac{1}{n_i}\\sum t_i$$ \n",
    "$enc_i$ - encoded value<br>\n",
    "$n_i$ - count of cat value<br>\n",
    "$t_i$ - target value for the cat value<br>\n",
    "This works well when there are many cat values represented in the data. However, if we have some categories represented only for once or twice then their value is exactly 0 or 1 in this case. This can lead to **overfitting**. Therefore a regularization is introduced:\n",
    "\n",
    "$$(\\overline{enc_i})_{smoothed} = \\frac{\\sum t_i + \\alpha \\cdot \\overline{global}}{n_i + \\alpha}$$\n",
    "\n",
    "$(\\overline{enc_i})_{smoothed}$ - Smoothed mean encoding<br>\n",
    "$\\alpha$ - hyperparameter that has to be specified manually. By default, values $\\alpha \\in [5;10]$ work well.\n",
    "$\\overline{global}$ - global target mean value for all the train data<br>\n",
    "\n",
    "If the category is large $\\alpha=0$ and it is equal to ordinary mean encoding, otherwise we stick to the global mean\n",
    "\n",
    "##### New categories in the test data\n",
    "* Fill new categories in the test data with target global mean $\\overline{global}$\n",
    "For example with $\\alpha = 5$:\n",
    "<img src=\"img/global_mean.png\" alt=\"Drawing\" style=\"width: 550px;\"/><br>\n",
    "$\\overline{global}=\\frac{1+0+0+0+1}{5}=0.4$<br>\n",
    "$\\overline{enc_A}_{smoothed}=\\frac{1+0+5*0.4}{2+5}=0.4285$<br>\n",
    "$\\overline{enc_B}_{smoothed}=\\frac{0+0+1+5*0.4}{3+5}=0.375$"
   ]
  },
  {
   "cell_type": "markdown",
   "metadata": {},
   "source": [
    "There is a <code>TargetEncoder</code> implemented in **category_encoders** package (+ many more). But first let's create our own smoothed target encoder for categorical data.\n",
    "* We want to create a function that encodes categorical data classes into mean target encodings of the category. \n",
    "* Input arguments are train, test DFs, category to be encoded, alpha."
   ]
  },
  {
   "cell_type": "code",
   "execution_count": 20,
   "metadata": {
    "code_folding": []
   },
   "outputs": [],
   "source": [
    "def test_smooth_target_encoder(train, test, target, category, alpha=5):\n",
    "    \"\"\"Categorical feature encodeing to test data based on train data, \n",
    "    using smoothed mean of the target value for each class in the categorical feature.\n",
    "    \n",
    "    Global target mean is added to the class mean term to compensate for overfitting.\n",
    "    Especially so when classes are unpalanced or a class has very small sample size.\n",
    "    \n",
    "    Parameters\n",
    "    ----------\n",
    "    \n",
    "    train : df\n",
    "        Training dataframe, based of which the encoding is calculated \n",
    "        but not assigned to. Encodings are assigned to test dataframe.\n",
    "    \n",
    "    test :  df\n",
    "        Test dataframe, where encodings are assigned to.\n",
    "    \n",
    "    target : str\n",
    "        Name of the target variable in the df.\n",
    "        \n",
    "    category : str\n",
    "        Name of the categorical feature in the df.\n",
    "    \n",
    "    alpha : float\n",
    "        Value of the regularization of the smoothing.\n",
    "    \n",
    "    Returns\n",
    "    -------\n",
    "    Array\n",
    "        Array of encoded feature values.\n",
    "            \n",
    "    \"\"\"\n",
    "    \n",
    "    #global mean of the target values\n",
    "    global_target_mean = train[target].mean()\n",
    "    \n",
    "    #category class properties\n",
    "    cat_grouped = train.groupby(category)\n",
    "    cat_target_total_sums = cat_grouped[target].sum()\n",
    "    cat_class_counts = cat_grouped.size()\n",
    "    \n",
    "    #encoded values for each class in the category\n",
    "    smoothed_encodings = (cat_target_total_sums + alpha * global_target_mean) / (cat_class_counts + alpha)\n",
    "    \n",
    "    #target encode the category in test data\n",
    "    test_enc_cat_series = test[category].map(smoothed_encodings).fillna(global_target_mean)\n",
    "    \n",
    "    return test_enc_cat_series.values"
   ]
  },
  {
   "cell_type": "code",
   "execution_count": 21,
   "metadata": {},
   "outputs": [],
   "source": [
    "def train_smooth_target_encoder(train, target, category, alpha, cv=5):\n",
    "    \"\"\"Categorical feature encodeing to train data based on out-of-fold train data, \n",
    "    using smoothed mean of the target value for each class in the categorical feature.\n",
    "    \n",
    "    Parameters\n",
    "    ----------\n",
    "    \n",
    "    train : df\n",
    "        Training dataframe, based of which the encoding is calculated \n",
    "        but not assigned to. Encodings are assigned to test dataframe.\n",
    "    \n",
    "    test :  df\n",
    "        Test dataframe, where encodings are assigned to.\n",
    "    \n",
    "    target : str\n",
    "        Name of the target variable in the df.\n",
    "        \n",
    "    category : str\n",
    "        Name of the categorical feature in the df.\n",
    "    \n",
    "    alpha : float\n",
    "        Value of the regularization of the smoothing.\n",
    "    \n",
    "    Returns\n",
    "    -------\n",
    "    Array\n",
    "        Array of encoded feature values.\n",
    "        \n",
    "    \"\"\"\n",
    "    #import cross-validator where the folds are made by \n",
    "    #preserving the percentage of samples for each class.\n",
    "    from sklearn.model_selection import StratifiedKFold\n",
    "    \n",
    "    "
   ]
  },
  {
   "cell_type": "code",
   "execution_count": 22,
   "metadata": {},
   "outputs": [],
   "source": [
    "from sklearn.model_selection import StratifiedKFold\n",
    "from sklearn.model_selection import KFold"
   ]
  },
  {
   "cell_type": "code",
   "execution_count": 23,
   "metadata": {},
   "outputs": [
    {
     "name": "stdout",
     "output_type": "stream",
     "text": [
      "[304334 304335 304336 ... 912997 912998 912999] [     0      1      2 ... 304331 304332 304333]\n",
      "[     0      1      2 ... 912997 912998 912999] [304334 304335 304336 ... 608664 608665 608666]\n",
      "[     0      1      2 ... 608664 608665 608666] [608667 608668 608669 ... 912997 912998 912999]\n"
     ]
    },
    {
     "name": "stderr",
     "output_type": "stream",
     "text": [
      "/home/tonu_ilves/anaconda3/lib/python3.7/site-packages/sklearn/model_selection/_split.py:629: FutureWarning: The default value of n_split will change from 3 to 5 in version 0.22. Specify it explicitly to silence this warning.\n",
      "  warnings.warn(NSPLIT_WARNING, FutureWarning)\n"
     ]
    }
   ],
   "source": [
    "skf = StratifiedKFold(shuffle=True, random_state=11)\n",
    "kf = KFold(n_splits=3)\n",
    "for i, j in kf.split(store_tr.drop('sales',axis='columns'), y=store_tr.sales.values):\n",
    "    print(i,j)"
   ]
  },
  {
   "cell_type": "code",
   "execution_count": 24,
   "metadata": {},
   "outputs": [],
   "source": [
    "import category_encoders as ce\n",
    "from category_encoders.target_encoder import TargetEncoder"
   ]
  },
  {
   "cell_type": "code",
   "execution_count": 25,
   "metadata": {},
   "outputs": [
    {
     "data": {
      "text/html": [
       "<div>\n",
       "<style scoped>\n",
       "    .dataframe tbody tr th:only-of-type {\n",
       "        vertical-align: middle;\n",
       "    }\n",
       "\n",
       "    .dataframe tbody tr th {\n",
       "        vertical-align: top;\n",
       "    }\n",
       "\n",
       "    .dataframe thead th {\n",
       "        text-align: right;\n",
       "    }\n",
       "</style>\n",
       "<table border=\"1\" class=\"dataframe\">\n",
       "  <thead>\n",
       "    <tr style=\"text-align: right;\">\n",
       "      <th></th>\n",
       "      <th>date</th>\n",
       "      <th>store</th>\n",
       "      <th>item</th>\n",
       "      <th>sales</th>\n",
       "    </tr>\n",
       "  </thead>\n",
       "  <tbody>\n",
       "    <tr>\n",
       "      <th>0</th>\n",
       "      <td>2013-01-01</td>\n",
       "      <td>1</td>\n",
       "      <td>1</td>\n",
       "      <td>13</td>\n",
       "    </tr>\n",
       "    <tr>\n",
       "      <th>1</th>\n",
       "      <td>2013-01-02</td>\n",
       "      <td>1</td>\n",
       "      <td>1</td>\n",
       "      <td>11</td>\n",
       "    </tr>\n",
       "    <tr>\n",
       "      <th>2</th>\n",
       "      <td>2013-01-03</td>\n",
       "      <td>1</td>\n",
       "      <td>1</td>\n",
       "      <td>14</td>\n",
       "    </tr>\n",
       "  </tbody>\n",
       "</table>\n",
       "</div>"
      ],
      "text/plain": [
       "         date  store  item  sales\n",
       "0  2013-01-01      1     1     13\n",
       "1  2013-01-02      1     1     11\n",
       "2  2013-01-03      1     1     14"
      ]
     },
     "execution_count": 25,
     "metadata": {},
     "output_type": "execute_result"
    }
   ],
   "source": [
    "store_tr.head(3)"
   ]
  },
  {
   "cell_type": "code",
   "execution_count": 26,
   "metadata": {},
   "outputs": [
    {
     "data": {
      "text/html": [
       "<div>\n",
       "<style scoped>\n",
       "    .dataframe tbody tr th:only-of-type {\n",
       "        vertical-align: middle;\n",
       "    }\n",
       "\n",
       "    .dataframe tbody tr th {\n",
       "        vertical-align: top;\n",
       "    }\n",
       "\n",
       "    .dataframe thead th {\n",
       "        text-align: right;\n",
       "    }\n",
       "</style>\n",
       "<table border=\"1\" class=\"dataframe\">\n",
       "  <thead>\n",
       "    <tr style=\"text-align: right;\">\n",
       "      <th></th>\n",
       "      <th>id</th>\n",
       "      <th>date</th>\n",
       "      <th>store</th>\n",
       "      <th>item</th>\n",
       "      <th>sales</th>\n",
       "    </tr>\n",
       "  </thead>\n",
       "  <tbody>\n",
       "    <tr>\n",
       "      <th>0</th>\n",
       "      <td>0</td>\n",
       "      <td>2018-01-01</td>\n",
       "      <td>1</td>\n",
       "      <td>1</td>\n",
       "      <td>55</td>\n",
       "    </tr>\n",
       "    <tr>\n",
       "      <th>1</th>\n",
       "      <td>1</td>\n",
       "      <td>2018-01-02</td>\n",
       "      <td>1</td>\n",
       "      <td>1</td>\n",
       "      <td>55</td>\n",
       "    </tr>\n",
       "    <tr>\n",
       "      <th>2</th>\n",
       "      <td>2</td>\n",
       "      <td>2018-01-03</td>\n",
       "      <td>1</td>\n",
       "      <td>1</td>\n",
       "      <td>55</td>\n",
       "    </tr>\n",
       "  </tbody>\n",
       "</table>\n",
       "</div>"
      ],
      "text/plain": [
       "   id        date  store  item  sales\n",
       "0   0  2018-01-01      1     1     55\n",
       "1   1  2018-01-02      1     1     55\n",
       "2   2  2018-01-03      1     1     55"
      ]
     },
     "execution_count": 26,
     "metadata": {},
     "output_type": "execute_result"
    }
   ],
   "source": [
    "store_te.head(3)"
   ]
  },
  {
   "cell_type": "code",
   "execution_count": 27,
   "metadata": {},
   "outputs": [],
   "source": [
    "te = TargetEncoder(cols=['item'])"
   ]
  },
  {
   "cell_type": "code",
   "execution_count": 28,
   "metadata": {},
   "outputs": [
    {
     "data": {
      "text/html": [
       "<div>\n",
       "<style scoped>\n",
       "    .dataframe tbody tr th:only-of-type {\n",
       "        vertical-align: middle;\n",
       "    }\n",
       "\n",
       "    .dataframe tbody tr th {\n",
       "        vertical-align: top;\n",
       "    }\n",
       "\n",
       "    .dataframe thead th {\n",
       "        text-align: right;\n",
       "    }\n",
       "</style>\n",
       "<table border=\"1\" class=\"dataframe\">\n",
       "  <thead>\n",
       "    <tr style=\"text-align: right;\">\n",
       "      <th></th>\n",
       "      <th>date</th>\n",
       "      <th>store</th>\n",
       "      <th>item</th>\n",
       "    </tr>\n",
       "  </thead>\n",
       "  <tbody>\n",
       "    <tr>\n",
       "      <th>0</th>\n",
       "      <td>2013-01-01</td>\n",
       "      <td>1</td>\n",
       "      <td>21.981599</td>\n",
       "    </tr>\n",
       "    <tr>\n",
       "      <th>1</th>\n",
       "      <td>2013-01-02</td>\n",
       "      <td>1</td>\n",
       "      <td>21.981599</td>\n",
       "    </tr>\n",
       "    <tr>\n",
       "      <th>2</th>\n",
       "      <td>2013-01-03</td>\n",
       "      <td>1</td>\n",
       "      <td>21.981599</td>\n",
       "    </tr>\n",
       "    <tr>\n",
       "      <th>3</th>\n",
       "      <td>2013-01-04</td>\n",
       "      <td>1</td>\n",
       "      <td>21.981599</td>\n",
       "    </tr>\n",
       "    <tr>\n",
       "      <th>4</th>\n",
       "      <td>2013-01-05</td>\n",
       "      <td>1</td>\n",
       "      <td>21.981599</td>\n",
       "    </tr>\n",
       "    <tr>\n",
       "      <th>...</th>\n",
       "      <td>...</td>\n",
       "      <td>...</td>\n",
       "      <td>...</td>\n",
       "    </tr>\n",
       "    <tr>\n",
       "      <th>912995</th>\n",
       "      <td>2017-12-27</td>\n",
       "      <td>10</td>\n",
       "      <td>65.882202</td>\n",
       "    </tr>\n",
       "    <tr>\n",
       "      <th>912996</th>\n",
       "      <td>2017-12-28</td>\n",
       "      <td>10</td>\n",
       "      <td>65.882202</td>\n",
       "    </tr>\n",
       "    <tr>\n",
       "      <th>912997</th>\n",
       "      <td>2017-12-29</td>\n",
       "      <td>10</td>\n",
       "      <td>65.882202</td>\n",
       "    </tr>\n",
       "    <tr>\n",
       "      <th>912998</th>\n",
       "      <td>2017-12-30</td>\n",
       "      <td>10</td>\n",
       "      <td>65.882202</td>\n",
       "    </tr>\n",
       "    <tr>\n",
       "      <th>912999</th>\n",
       "      <td>2017-12-31</td>\n",
       "      <td>10</td>\n",
       "      <td>65.882202</td>\n",
       "    </tr>\n",
       "  </tbody>\n",
       "</table>\n",
       "<p>913000 rows × 3 columns</p>\n",
       "</div>"
      ],
      "text/plain": [
       "              date  store       item\n",
       "0       2013-01-01      1  21.981599\n",
       "1       2013-01-02      1  21.981599\n",
       "2       2013-01-03      1  21.981599\n",
       "3       2013-01-04      1  21.981599\n",
       "4       2013-01-05      1  21.981599\n",
       "...            ...    ...        ...\n",
       "912995  2017-12-27     10  65.882202\n",
       "912996  2017-12-28     10  65.882202\n",
       "912997  2017-12-29     10  65.882202\n",
       "912998  2017-12-30     10  65.882202\n",
       "912999  2017-12-31     10  65.882202\n",
       "\n",
       "[913000 rows x 3 columns]"
      ]
     },
     "execution_count": 28,
     "metadata": {},
     "output_type": "execute_result"
    }
   ],
   "source": [
    "te.fit_transform(X=store_tr.drop('sales', axis='columns'), y=store_tr.sales.values)"
   ]
  },
  {
   "cell_type": "code",
   "execution_count": null,
   "metadata": {},
   "outputs": [],
   "source": []
  }
 ],
 "metadata": {
  "kernelspec": {
   "display_name": "Python 3",
   "language": "python",
   "name": "python3"
  },
  "language_info": {
   "codemirror_mode": {
    "name": "ipython",
    "version": 3
   },
   "file_extension": ".py",
   "mimetype": "text/x-python",
   "name": "python",
   "nbconvert_exporter": "python",
   "pygments_lexer": "ipython3",
   "version": "3.7.5"
  },
  "latex_envs": {
   "LaTeX_envs_menu_present": true,
   "autoclose": true,
   "autocomplete": true,
   "bibliofile": "biblio.bib",
   "cite_by": "apalike",
   "current_citInitial": 1,
   "eqLabelWithNumbers": true,
   "eqNumInitial": 1,
   "hotkeys": {
    "equation": "Ctrl-E",
    "itemize": "Ctrl-I"
   },
   "labels_anchors": false,
   "latex_user_defs": false,
   "report_style_numbering": false,
   "user_envs_cfg": false
  },
  "toc": {
   "base_numbering": 1,
   "nav_menu": {},
   "number_sections": true,
   "sideBar": true,
   "skip_h1_title": false,
   "title_cell": "Table of Contents",
   "title_sidebar": "Contents",
   "toc_cell": false,
   "toc_position": {},
   "toc_section_display": true,
   "toc_window_display": false
  }
 },
 "nbformat": 4,
 "nbformat_minor": 2
}
