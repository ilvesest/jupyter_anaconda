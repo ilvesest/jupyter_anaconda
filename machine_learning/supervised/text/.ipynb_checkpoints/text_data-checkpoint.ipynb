{
 "cells": [
  {
   "cell_type": "code",
   "execution_count": 27,
   "metadata": {},
   "outputs": [],
   "source": [
    "from sklearn.datasets import load_files\n",
    "from sklearn.feature_extraction.text import CountVectorizer, TfidfVectorizer\n",
    "from sklearn.linear_model import LogisticRegression\n",
    "from sklearn.model_selection import cross_val_score, GridSearchCV, StratifiedShuffleSplit\n",
    "from sklearn.feature_extraction.text import ENGLISH_STOP_WORDS\n",
    "from sklearn.pipeline import make_pipeline\n",
    "from sklearn.decomposition import LatentDirichletAllocation\n",
    "import pandas as pd\n",
    "import numpy as np\n",
    "import matplotlib.pyplot as plt\n",
    "import spacy\n",
    "import nltk\n",
    "import re\n",
    "import mglearn\n",
    "from matplotlib.colors import ListedColormap"
   ]
  },
  {
   "cell_type": "markdown",
   "metadata": {},
   "source": [
    "# Text Data\n",
    "\n",
    "Three kinds of features:\n",
    "* Continous - describe quantity\n",
    "* Categorical - items from a list (descrete values)\n",
    "* **Text** - usually just a string\n",
    "\n",
    "<font color='red'>**Not all string features should be treated as text!**</font>\n",
    "\n",
    "**String data types**:\n",
    "* <font color='green'>**Categorical data**</font><br>\n",
    "    * data from a fixed list\n",
    "    * confirm it by finding unique values in the dataset\n",
    "    * possibly compose histogram of words as well\n",
    "* <font color='green'>**Free strings (semantically mapped to categories)**</font><br>\n",
    "    * data that is collected by free entry\n",
    "    * probably best is to convert it to categories, e.g. keep msot popular categories \n",
    "* <font color='green'>**Structured string data<br>**</font>\n",
    "    * e.g. addresses, palce names, dates, phone numbers\n",
    "* <font color='green'>**Text data**</font>\n",
    "    * phrases, sentences \n",
    "    * e.g. tweets, chat logs, hotel reviews\n",
    "    \n",
    "In text analysis:\n",
    "* **corpus** - text dataset\n",
    "* **document** - each data point in corpus"
   ]
  },
  {
   "cell_type": "markdown",
   "metadata": {},
   "source": [
    "## Loading Text Data\n",
    "\n",
    "Dataset:\n",
    "* The data is obtained from http://ai.stanford.edu/~amaas/data/sentiment/ and collected by Stanford researcher Andrew Maas from IMDb\n",
    "* contains text of reviews and labels wether review was \"positive\" or \"negative\"\n",
    "* Binary class classification where rating 1-5 is negative and 6-10 is positive\n",
    "* training and test datasets are provided in separate folders\n",
    "* each folder has subfolders, corresponding to positive and negative reviews\n",
    "* each review has a separate .txt file\n",
    "\n",
    "<img src=\"img/text1.png\" alt=\"Drawing\" style=\"width: 100px;\"/>\n",
    "\n",
    "There is a helper function **load_files()** in sklearn to load files in such a file structure, where each subfolder corresponds to a label"
   ]
  },
  {
   "cell_type": "code",
   "execution_count": 7,
   "metadata": {},
   "outputs": [
    {
     "data": {
      "text/plain": [
       "dict_keys(['data', 'filenames', 'target_names', 'target', 'DESCR'])"
      ]
     },
     "execution_count": 7,
     "metadata": {},
     "output_type": "execute_result"
    }
   ],
   "source": [
    "rev_train = load_files(\"data/aclImdb/train/\")\n",
    "rev_train.keys()"
   ]
  },
  {
   "cell_type": "code",
   "execution_count": 8,
   "metadata": {},
   "outputs": [
    {
     "name": "stdout",
     "output_type": "stream",
     "text": [
      "Type of text_train: <class 'list'>\n",
      "Length of text_train: 25000\n"
     ]
    }
   ],
   "source": [
    "# load_files() returns bunch, contains tarining texts & labels\n",
    "text_train, y_train = rev_train.data, rev_train.target\n",
    "\n",
    "print('Type of text_train: {}'.format(type(text_train)))\n",
    "print('Length of text_train: {}'.format(len(text_train)))"
   ]
  },
  {
   "cell_type": "markdown",
   "metadata": {},
   "source": [
    "* Since dataset contained unsupervised data aswell, we disregard it, for now\n",
    "* Each entry in *text_train* is a string of a review"
   ]
  },
  {
   "cell_type": "code",
   "execution_count": 31,
   "metadata": {},
   "outputs": [
    {
     "data": {
      "text/plain": [
       "b\"Zero Day leads you to think, even re-think why two boys/young men would do what they did - commit mutual suicide via slaughtering their classmates. It captures what must be beyond a bizarre mode of being for two humans who have decided to withdraw from common civility in order to define their own/mutual world via coupled destruction.<br /><br />It is not a perfect movie but given what money/time the filmmaker and actors had - it is a remarkable product. In terms of explaining the motives and actions of the two young suicide/murderers it is better than 'Elephant' - in terms of being a film that gets under our 'rationalistic' skin it is a far, far better film than almost anything you are likely to see. <br /><br />Flawed but honest with a terrible honesty.\""
      ]
     },
     "execution_count": 31,
     "metadata": {},
     "output_type": "execute_result"
    }
   ],
   "source": [
    "text_train[0]"
   ]
  },
  {
   "cell_type": "markdown",
   "metadata": {},
   "source": [
    "* These reviews contain some **HTML** code\n",
    "* Lets clean the reviews from them"
   ]
  },
  {
   "cell_type": "code",
   "execution_count": 33,
   "metadata": {},
   "outputs": [
    {
     "data": {
      "text/plain": [
       "b\"Zero Day leads you to think, even re-think why two boys/young men would do what they did - commit mutual suicide via slaughtering their classmates. It captures what must be beyond a bizarre mode of being for two humans who have decided to withdraw from common civility in order to define their own/mutual world via coupled destruction.  It is not a perfect movie but given what money/time the filmmaker and actors had - it is a remarkable product. In terms of explaining the motives and actions of the two young suicide/murderers it is better than 'Elephant' - in terms of being a film that gets under our 'rationalistic' skin it is a far, far better film than almost anything you are likely to see.   Flawed but honest with a terrible honesty.\""
      ]
     },
     "execution_count": 33,
     "metadata": {},
     "output_type": "execute_result"
    }
   ],
   "source": [
    "text_train = [doc.replace(b\"<br />\", b\" \") for doc in text_train]\n",
    "text_train[0]"
   ]
  },
  {
   "cell_type": "code",
   "execution_count": 35,
   "metadata": {},
   "outputs": [
    {
     "name": "stdout",
     "output_type": "stream",
     "text": [
      "Samples per class (traiing): [12500 12500]\n"
     ]
    }
   ],
   "source": [
    "print('Samples per class (traiing): {}'.format(np.bincount(y_train)))"
   ]
  },
  {
   "cell_type": "markdown",
   "metadata": {},
   "source": [
    "* the dataset is balanced - equal number of 'neg' and 'pos' reviews\n",
    "* similarly extract test data"
   ]
  },
  {
   "cell_type": "code",
   "execution_count": 37,
   "metadata": {},
   "outputs": [
    {
     "name": "stdout",
     "output_type": "stream",
     "text": [
      "Length of text_test: 25000\n",
      "Samples per class (testing): [12500 12500]\n"
     ]
    }
   ],
   "source": [
    "rev_test = load_files(\"data/aclImdb/test/\")\n",
    "text_test, y_test = rev_test.data, rev_test.target\n",
    "text_test = [doc.replace(b\"<br />\", b\" \") for doc in text_test]\n",
    "print('Length of text_test: {}'.format(len(text_test)))\n",
    "print('Samples per class (testing): {}'.format(np.bincount(y_test)))"
   ]
  },
  {
   "cell_type": "markdown",
   "metadata": {},
   "source": [
    "* <font color='red'>**GOAL:**</font> Classify each review as 'pos' or 'neg'\n",
    "* Text data is not in a proper format\n",
    "\n",
    "## Formatting Data (Bag-of-Words)\n",
    "\n",
    "* Sentences need to be split into separate strings\n",
    "* Each string occurance has to be counted\n",
    "* Eventually: converting text into numeric\n",
    "\n",
    "Computing the **bag-of-words** representation for a *corpus* of *documents* steps:\n",
    "1. **Tokenization**: Splitting (by whitespace & punctuations) raw strings (reviews) into words (*tokens*).\n",
    "2. **Vocabulary building**: Collect vocabulay of all words in *documents* and **number** them (e.g. alphabetically)\n",
    "3. **Encoding**: For each *document* and word in it count the word occurance\n",
    "\n",
    "<img src=\"img/text2.png\" alt=\"Drawing\" style=\"width: 600px;\"/>"
   ]
  },
  {
   "cell_type": "markdown",
   "metadata": {},
   "source": [
    "**BoW on Toy-Dataset**:"
   ]
  },
  {
   "cell_type": "code",
   "execution_count": 40,
   "metadata": {},
   "outputs": [
    {
     "name": "stdout",
     "output_type": "stream",
     "text": [
      "Vocaulary size: 13\n",
      "Vocabulary content:\n",
      "{'the': 9, 'fool': 3, 'doth': 2, 'think': 10, 'he': 4, 'is': 6, 'wise': 12, 'but': 1, 'man': 8, 'knows': 7, 'himself': 5, 'to': 11, 'be': 0}\n"
     ]
    }
   ],
   "source": [
    "documents = [\"The fool doth think he is wise,\",\n",
    "            \"but the wise man knows himself to be a fool\"]\n",
    "\n",
    "# initialize CountVectorizer() which tokenizes the strings\n",
    "# and constructs bag of words (acessed by 'vocabulary_' attr)\n",
    "c_vec = CountVectorizer().fit(documents)\n",
    "\n",
    "print('Vocaulary size: {}'.format(len(c_vec.vocabulary_)))\n",
    "print('Vocabulary content:\\n{}'.format(c_vec.vocabulary_))"
   ]
  },
  {
   "cell_type": "code",
   "execution_count": 41,
   "metadata": {},
   "outputs": [
    {
     "name": "stdout",
     "output_type": "stream",
     "text": [
      "Bag-of-Words: <2x13 sparse matrix of type '<class 'numpy.int64'>'\n",
      "\twith 16 stored elements in Compressed Sparse Row format>\n"
     ]
    }
   ],
   "source": [
    "bag = c_vec.transform(documents)\n",
    "print('Bag-of-Words: {}'.format(repr(bag)))"
   ]
  },
  {
   "cell_type": "markdown",
   "metadata": {},
   "source": [
    "* The bag-of-words representation is stored in a SciPy sparse matrix \n",
    "* The matrix stores only the non-zero entries\n",
    "* Matrix shape (2, 13), row for each document, column for each word in the vocabulary\n",
    "* To view the matrix, we convert it to dense NumPy array"
   ]
  },
  {
   "cell_type": "code",
   "execution_count": 42,
   "metadata": {},
   "outputs": [
    {
     "name": "stdout",
     "output_type": "stream",
     "text": [
      "Dense representation of the bag-of-words:\n",
      "[[0 0 1 1 1 0 1 0 0 1 1 0 1]\n",
      " [1 1 0 1 0 1 0 1 1 1 0 1 1]]\n"
     ]
    }
   ],
   "source": [
    "print('Dense representation of the bag-of-words:\\n{}'.format(\n",
    "    bag.toarray()))"
   ]
  },
  {
   "cell_type": "markdown",
   "metadata": {},
   "source": [
    "**BoW on Movie Reviews**"
   ]
  },
  {
   "cell_type": "code",
   "execution_count": 46,
   "metadata": {},
   "outputs": [
    {
     "name": "stdout",
     "output_type": "stream",
     "text": [
      "Vocabulary shape: (25000, 74849)\n",
      "Number of features: 74849\n",
      "\n",
      "Every 5000nth feature:\n",
      "['00', 'augustine', 'bête', 'cost', 'draper', 'fleece', 'hasan', 'jardine', 'maars', 'nathaniel', 'pincher', 'replica', 'shunning', 'swordmen', 'unproven']\n"
     ]
    }
   ],
   "source": [
    "c_vec = CountVectorizer().fit(text_train)\n",
    "X_train = c_vec.transform(text_train)\n",
    "feature_names = c_vec.get_feature_names()\n",
    "\n",
    "print('Vocabulary shape: {}'.format(X_train.shape))\n",
    "print('Number of features: {}'.format(len(feature_names)))\n",
    "print('\\nEvery 5000nth feature:\\n{}'.format(feature_names[::5000]))"
   ]
  },
  {
   "cell_type": "markdown",
   "metadata": {},
   "source": [
    "* Let's build our first classifier model \n",
    "* With high dimensional sparse data lin models like *LogisticRegression* often work best"
   ]
  },
  {
   "cell_type": "code",
   "execution_count": 49,
   "metadata": {},
   "outputs": [
    {
     "name": "stdout",
     "output_type": "stream",
     "text": [
      "Mean cv accuracy: 0.881\n"
     ]
    }
   ],
   "source": [
    "scores = cross_val_score(LogisticRegression(), X=X_train, y=y_train, cv=5,\n",
    "                         n_jobs=-1)\n",
    "print('Mean cv accuracy: {:.3f}'.format(np.mean(scores)))"
   ]
  },
  {
   "cell_type": "markdown",
   "metadata": {},
   "source": [
    "* Let's optimize LogisticRegression 'C' paramter with GridSearchCV"
   ]
  },
  {
   "cell_type": "raw",
   "metadata": {},
   "source": [
    "param_grid = {'C': np.logspace(-3, 2, 6)}\n",
    "grid_cv = GridSearchCV(LogisticRegression(solver='lbfgs'), param_grid, cv=5, iid=False,\n",
    "                      return_train_score=False, n_jobs=-1).fit(X_train, y_train)\n",
    "\n",
    "print('Best cv score: {:.3f}'.format(grid_cv.best_score_))\n",
    "print('Best parameters: {}'.format(grid_cv.best_params_))"
   ]
  },
  {
   "cell_type": "code",
   "execution_count": 54,
   "metadata": {},
   "outputs": [
    {
     "name": "stdout",
     "output_type": "stream",
     "text": [
      "Generalization performance 0.879\n"
     ]
    }
   ],
   "source": [
    "X_test = c_vec.transform(text_test)\n",
    "print('Generalization performance {:.3f}'.format(grid_cv.score(X_test, y_test)))"
   ]
  },
  {
   "cell_type": "markdown",
   "metadata": {},
   "source": [
    "* Performance is already reasonably good\n",
    "* Let's try to improve the performance\n",
    "\n",
    "## Dropping Features\n",
    "\n",
    "* The *CountVectorizer* uses regex for extracting tokens\n",
    "* The default regex is **\"\\b\\w\\w+\\b\"** - sequence of characters consistng of at least 2 letters **\\w**, separated by word boundries **\\b**\n",
    "* It dismisses single letter words \n",
    "* It splits up \"doesn't\" and \"bit.ly\"\n",
    "* *CountVectorizer* lowercases all tokens\n",
    "* we got uninformative fatures like numbers, with the exception of \"007\"\n",
    "\n",
    "\n",
    "### Minimum Token Threshold:\n",
    "* Use features that are represented at least in **X** number of documents (5 ors). \n",
    "* Token appearing only in a single or a couple of documents is hardly being helpful for generalization.\n",
    "* Use **min_df** parameter in CountVectorizer()"
   ]
  },
  {
   "cell_type": "code",
   "execution_count": 55,
   "metadata": {},
   "outputs": [
    {
     "name": "stdout",
     "output_type": "stream",
     "text": [
      "X_train shape: (25000, 27271)\n"
     ]
    }
   ],
   "source": [
    "c_vec = CountVectorizer(min_df=5).fit(text_train)\n",
    "X_train = c_vec.transform(text_train)\n",
    "print('X_train shape: {}'.format(X_train.shape))"
   ]
  },
  {
   "cell_type": "markdown",
   "metadata": {},
   "source": [
    "* Reduced features from 74849 to 27271\n",
    "* Lets eyeball some of these features\n",
    "* Use GridSearchCV and model performance"
   ]
  },
  {
   "cell_type": "code",
   "execution_count": 57,
   "metadata": {},
   "outputs": [
    {
     "name": "stdout",
     "output_type": "stream",
     "text": [
      "First 50 tokens:\n",
      "['00', '000', '007', '00s', '01', '02', '03', '04', '05', '06', '07', '08', '09', '10', '100', '1000', '100th', '101', '102', '103', '104', '105', '107', '108', '10s', '10th', '11', '110', '112', '116', '117', '11th', '12', '120', '12th', '13', '135', '13th', '14', '140', '14th', '15', '150', '15th', '16', '160', '1600', '16mm', '16s', '16th']\n",
      "\n",
      "Every 5000th token:\n",
      "['00', 'complicity', 'gaining', 'martin', 'repartee', 'trend']\n"
     ]
    }
   ],
   "source": [
    "feature_names = c_vec.get_feature_names()\n",
    "\n",
    "print('First 50 tokens:\\n{}\\n'.format(feature_names[:50]))\n",
    "print('Every 5000th token:\\n{}'.format(feature_names[::5000]))"
   ]
  },
  {
   "cell_type": "code",
   "execution_count": 59,
   "metadata": {},
   "outputs": [
    {
     "name": "stdout",
     "output_type": "stream",
     "text": [
      "Best cv score: 0.888\n",
      "Best parameters: {'C': 0.1}\n"
     ]
    }
   ],
   "source": [
    "param_grid = {'C': np.logspace(-2, 2, 5)}\n",
    "\n",
    "grid_cv = GridSearchCV(LogisticRegression(solver='lbfgs', max_iter=10000),\n",
    "                       param_grid, cv=5, iid=False,\n",
    "                       return_train_score=False, n_jobs=-1).fit(X_train, y_train)\n",
    "\n",
    "print('Best cv score: {:.3f}'.format(grid_cv.best_score_))\n",
    "print('Best parameters: {}'.format(grid_cv.best_params_))"
   ]
  },
  {
   "cell_type": "markdown",
   "metadata": {},
   "source": [
    "* model accuracy didn't improve \n",
    "* model speed increased since we threw away many features"
   ]
  },
  {
   "cell_type": "markdown",
   "metadata": {},
   "source": [
    "### Maximum Token Threshold\n",
    "\n",
    "* another way of getting rid of uninformative features is to delete the tokens that are too frequent\n",
    "* two main strategies:\n",
    "    * using predefined **stopwords**\n",
    "    * discarding words by their occuring frequency\n",
    "\n",
    "#### Stopwords\n",
    "\n",
    "* **sklearn.feature_extraction.text** module contains English stopwords"
   ]
  },
  {
   "cell_type": "code",
   "execution_count": 62,
   "metadata": {},
   "outputs": [
    {
     "name": "stdout",
     "output_type": "stream",
     "text": [
      "Number of English stopwords: 318\n",
      "\n",
      "Every 20th English stopword:\n",
      "['onto', 'which', 'along', 'next', 'has', 'some', 'no', 'together', 'between', 'with', 'couldnt', 'several', 'without', 'wherein', 'seeming', 'back']\n"
     ]
    }
   ],
   "source": [
    "print('Number of English stopwords: {}'.format(len(ENGLISH_STOP_WORDS)))\n",
    "print('\\nEvery 20th English stopword:\\n{}'.format(list(ENGLISH_STOP_WORDS)[::20]))"
   ]
  },
  {
   "cell_type": "code",
   "execution_count": 63,
   "metadata": {},
   "outputs": [
    {
     "name": "stdout",
     "output_type": "stream",
     "text": [
      "X_train shape: (25000, 26966)\n"
     ]
    }
   ],
   "source": [
    "c_vec = CountVectorizer(min_df=5, stop_words='english').fit(text_train)\n",
    "X_train = c_vec.transform(text_train)\n",
    "\n",
    "print('X_train shape: {}'.format(X_train.shape))"
   ]
  },
  {
   "cell_type": "code",
   "execution_count": 67,
   "metadata": {},
   "outputs": [
    {
     "name": "stdout",
     "output_type": "stream",
     "text": [
      "Best cv score: 0.883\n"
     ]
    }
   ],
   "source": [
    "grid_cv = GridSearchCV(LogisticRegression(solver='lbfgs', max_iter=1000), param_grid=param_grid, \n",
    "                       cv=5, iid=False, return_train_score=False, n_jobs=-1).fit(X_train, y_train)\n",
    "\n",
    "print('Best cv score: {:.3f}'.format(grid_cv.best_score_))"
   ]
  },
  {
   "cell_type": "markdown",
   "metadata": {},
   "source": [
    "#### Max Token Frequency"
   ]
  },
  {
   "cell_type": "code",
   "execution_count": 70,
   "metadata": {},
   "outputs": [
    {
     "name": "stdout",
     "output_type": "stream",
     "text": [
      "Best cv score: 0.886\n"
     ]
    }
   ],
   "source": [
    "c_vec = CountVectorizer(min_df=5, max_df=0.45).fit(text_train)\n",
    "X_train = c_vec.transform(text_train)\n",
    "\n",
    "grid_cv = GridSearchCV(LogisticRegression(solver='lbfgs', max_iter=1000), param_grid=param_grid, \n",
    "                       cv=5, iid=False, return_train_score=False, n_jobs=-1).fit(X_train, y_train)\n",
    "\n",
    "print('Best cv score: {:.3f}'.format(grid_cv.best_score_))"
   ]
  },
  {
   "cell_type": "code",
   "execution_count": 71,
   "metadata": {},
   "outputs": [
    {
     "name": "stdout",
     "output_type": "stream",
     "text": [
      "X_train.shape: (25000, 27240)\n"
     ]
    }
   ],
   "source": [
    "print('X_train.shape: {}'.format(X_train.shape))"
   ]
  },
  {
   "cell_type": "markdown",
   "metadata": {},
   "source": [
    "* we eliminated features that were present at least 45% of the data"
   ]
  },
  {
   "cell_type": "markdown",
   "metadata": {},
   "source": [
    "## Rescaling Features\n",
    "\n",
    "* instead of dropping features we can rescale them\n",
    "* **term frequency–inverse document frequency (tf–idf)** is most popular method\n",
    "* method gives high *weights* to terms that appear often in a particualr *document* but not in many documents in the *corpus*\n",
    "* two possibilities in sklearn:\n",
    "    * **TfidfTransformer**\n",
    "        * Input: Sparse Matrix produced by CountVectorizer\n",
    "        * Output: Scaled Data with Feature Extraction\n",
    "    * **TfidVectorizer**\n",
    "        * Input: Raw text data (does vectorization, scaling)\n",
    "        * Output: Scaled Data with Feature Extraction\n",
    "* Both classes apply L2 normalization"
   ]
  },
  {
   "cell_type": "code",
   "execution_count": 75,
   "metadata": {},
   "outputs": [
    {
     "name": "stdout",
     "output_type": "stream",
     "text": [
      "Best cv accuracy score: 0.892\n"
     ]
    }
   ],
   "source": [
    "pipe = make_pipeline(TfidfVectorizer(min_df=5),\n",
    "                     LogisticRegression(solver='lbfgs', max_iter=1000))\n",
    "\n",
    "param_grid = {'logisticregression__C': np.logspace(-3, 1, 5)}\n",
    "\n",
    "grid = GridSearchCV(pipe, param_grid, cv=5, iid=False, return_train_score=False,\n",
    "                   n_jobs=-1).fit(text_train, y_train)\n",
    "\n",
    "print('Best cv accuracy score: {:.3f}'.format(grid.best_score_))"
   ]
  },
  {
   "cell_type": "markdown",
   "metadata": {},
   "source": [
    "* Let's inspect the words the TfidfVectorizer found to be most important"
   ]
  },
  {
   "cell_type": "code",
   "execution_count": 76,
   "metadata": {},
   "outputs": [
    {
     "name": "stdout",
     "output_type": "stream",
     "text": [
      "Features with lowest tfidf:\n",
      "['suplexes' 'gauche' 'hypocrites' 'oncoming' 'songwriting' 'galadriel'\n",
      " 'emerald' 'mclaughlin' 'sylvain' 'oversee' 'cataclysmic' 'pressuring'\n",
      " 'uphold' 'thieving' 'inconsiderate' 'ware' 'denim' 'reverting' 'booed'\n",
      " 'spacious']\n",
      "Features with highest tfidf: \n",
      "['gadget' 'sucks' 'zatoichi' 'demons' 'lennon' 'bye' 'dev' 'weller'\n",
      " 'sasquatch' 'botched' 'xica' 'darkman' 'woo' 'casper' 'doodlebops'\n",
      " 'smallville' 'wei' 'scanners' 'steve' 'pokemon']\n"
     ]
    }
   ],
   "source": [
    "tfidf_vec = grid.best_estimator_.named_steps[\"tfidfvectorizer\"]\n",
    "\n",
    "# transform the training dataset\n",
    "X_train = tfidf_vec.transform(text_train)\n",
    "\n",
    "# find maximum value for each of the features over the dataset\n",
    "max_value = X_train.max(axis=0).toarray().ravel()\n",
    "sorted_by_tfidf = max_value.argsort()\n",
    "\n",
    "# get feature names\n",
    "feature_names = np.array(tfidf_vec.get_feature_names())\n",
    "print(\"Features with lowest tfidf:\\n{}\".format(feature_names[sorted_by_tfidf[:20]]))\n",
    "print(\"Features with highest tfidf: \\n{}\".format(feature_names[sorted_by_tfidf[-20:]]))"
   ]
  },
  {
   "cell_type": "markdown",
   "metadata": {},
   "source": [
    "* Features with low tfidf:\n",
    "    * very commonly used across documents \n",
    "    * or only used sparingly\n",
    "    * or in very long documents.\n",
    "* Features with high tfidf:\n",
    "    * only appear in reviews for this particular show or franchise\n",
    "    * These words are unlikely to help us in our sentiment classification task\n",
    "    * contain a lot of specific information about the reviews <br>\n",
    "<br>\n",
    "\n",
    "* We can also find the words that have low inverse document frequency—that is, those that appear frequently and are therefore deemed less important. \n",
    "* The inverse document frequency values found on the training set are stored in the **idf_** attribute:"
   ]
  },
  {
   "cell_type": "code",
   "execution_count": 77,
   "metadata": {},
   "outputs": [
    {
     "name": "stdout",
     "output_type": "stream",
     "text": [
      "Features with lowest idf:\n",
      "['the' 'and' 'of' 'to' 'this' 'is' 'it' 'in' 'that' 'but']\n"
     ]
    }
   ],
   "source": [
    "stored_by_idf = np.argsort(tfidf_vec.idf_)\n",
    "print(\"Features with lowest idf:\\n{}\".format(feature_names[stored_by_idf[:10]]))"
   ]
  },
  {
   "cell_type": "markdown",
   "metadata": {},
   "source": [
    "* these are mostly english stopwords\n",
    "* these might be importatn for sentiment analysis but not for tfidf"
   ]
  },
  {
   "cell_type": "markdown",
   "metadata": {},
   "source": [
    "## Model Coefficients"
   ]
  },
  {
   "cell_type": "markdown",
   "metadata": {},
   "source": [
    "* we have 27k coefficents, lets try to extract the top features with highest coefficients in logisticregression"
   ]
  },
  {
   "cell_type": "code",
   "execution_count": 158,
   "metadata": {},
   "outputs": [
    {
     "data": {
      "image/png": "[encoded data removed]",
      "text/plain": [
       "<Figure size 1080x288 with 1 Axes>"
      ]
     },
     "metadata": {
      "needs_background": "light"
     },
     "output_type": "display_data"
    }
   ],
   "source": [
    "coefs = grid.best_estimator_.named_steps['logisticregression'].coef_.ravel()\n",
    "\n",
    "# coefs with large abs values\n",
    "max_coefs_args = np.argsort(coefs)[-15:]\n",
    "min_coefs_args = np.argsort(coefs)[:15]\n",
    "min_max_coefs_args = np.hstack([min_coefs_args, max_coefs_args])\n",
    "\n",
    "# plotting the coefs\n",
    "colors = [\"#FF0000\" if coef < 0 else '#0000FF' for coef in coefs[min_max_coefs_args]]\n",
    "feature_names = np.array(feature_names)\n",
    "\n",
    "plt.figure(figsize=(15, 4))\n",
    "plt.gca().xaxis.grid(linestyle='-.')\n",
    "plt.bar(x=np.arange(30), height=coefs[min_max_coefs_args], color=colors, \n",
    "       linewidth=2, edgecolor='black', zorder=2)\n",
    "plt.xticks(ticks=np.arange(0, 2 * 15), labels=feature_names[min_max_coefs], \n",
    "           rotation=45, ha=\"right\")\n",
    "plt.tick_params(top=True, bottom=True, right=True, left=True, direction='in')\n",
    "\n",
    "plt.xlabel('Feature Names')\n",
    "plt.ylabel('Coefficient Magnitude')\n",
    "plt.title('Features with highest coefficients', weight='bold')\n",
    "plt.margins(x=0.01)\n",
    "plt.show()"
   ]
  },
  {
   "cell_type": "markdown",
   "metadata": {},
   "source": [
    "* The negative coefficients on the left belong to words that according to the model are indicative of negative reviews\n",
    "* the positive coefficients on the right belong to words that according to the model indicate positive reviews."
   ]
  },
  {
   "cell_type": "markdown",
   "metadata": {},
   "source": [
    "## Context: n-Grams\n",
    "\n",
    "* by counting tokens we disrecard the context of it, example\n",
    "    * \"it’s bad, not good at all\"\n",
    "    * \"it’s good, not bad at all\"\n",
    "* these will yield in same results, while meaning opposite things\n",
    "* context can be captured if we do not separate only individual words but also pair-wise or triplets\n",
    "* sequence of tokens are called **n-grams**\n",
    "* need to specify **ngram_range** parameter in *CountVectorizer* or *TfidfVectorizer*\n",
    "\n",
    "**On toy dataset**:"
   ]
  },
  {
   "cell_type": "code",
   "execution_count": 159,
   "metadata": {},
   "outputs": [
    {
     "name": "stdout",
     "output_type": "stream",
     "text": [
      "Vocabulary size: 39\n",
      "\n",
      "Vocabulary:\n",
      "['be', 'be fool', 'but', 'but the', 'but the wise', 'dont', 'dont think', 'dont think he', 'fool', 'fool dont', 'fool dont think', 'he', 'he is', 'he is wise', 'himself', 'himself to', 'himself to be', 'is', 'is wise', 'knows', 'knows himself', 'knows himself to', 'man', 'man knows', 'man knows himself', 'the', 'the fool', 'the fool dont', 'the wise', 'the wise man', 'think', 'think he', 'think he is', 'to', 'to be', 'to be fool', 'wise', 'wise man', 'wise man knows']\n"
     ]
    }
   ],
   "source": [
    "docs = ['The fool dont think he is wise,',\n",
    "             'but the wise man knows himself to be a fool']\n",
    "\n",
    "tf_vec = TfidfVectorizer(ngram_range=(1, 3)).fit(docs)\n",
    "\n",
    "print('Vocabulary size: {}'.format(len(tf_vec.vocabulary_)))\n",
    "print('\\nVocabulary:\\n{}'.format(tf_vec.get_feature_names()))"
   ]
  },
  {
   "cell_type": "markdown",
   "metadata": {},
   "source": [
    "**Lets try to figure out the best n-gram representation for IMDb dataset with GridSearchCV**"
   ]
  },
  {
   "cell_type": "code",
   "execution_count": 164,
   "metadata": {},
   "outputs": [
    {
     "name": "stdout",
     "output_type": "stream",
     "text": [
      "Best cv score: 0.906\n",
      "Best parameters: {'logisticregression__C': 10.0, 'tfidfvectorizer__ngram_range': (1, 3)}\n"
     ]
    }
   ],
   "source": [
    "pipe = make_pipeline(TfidfVectorizer(min_df=5), \n",
    "                     LogisticRegression(max_iter=1000, solver='lbfgs'))\n",
    "\n",
    "param_grid = {'tfidfvectorizer__ngram_range': [(1,1), (1, 2), (1, 3)],\n",
    "              'logisticregression__C': np.logspace(-2, 1, 4)}\n",
    "\n",
    "grid = GridSearchCV(pipe, param_grid, cv=5, return_train_score=False,\n",
    "                    iid=False, n_jobs=-1).fit(text_train, y_train)\n",
    "\n",
    "print('Best cv score: {:.3f}'.format(grid.best_score_))\n",
    "print('Best parameters: {}'.format(grid.best_params_))"
   ]
  },
  {
   "cell_type": "code",
   "execution_count": 185,
   "metadata": {},
   "outputs": [
    {
     "data": {
      "image/png": "[encoded data removed]",
      "text/plain": [
       "<Figure size 720x360 with 2 Axes>"
      ]
     },
     "metadata": {
      "needs_background": "light"
     },
     "output_type": "display_data"
    }
   ],
   "source": [
    "# extract accuracy scores and transpose the array\n",
    "acc_scores = grid.cv_results_['mean_test_score'].reshape(-1, 3).T\n",
    "\n",
    "# construct heatmap\n",
    "plt.figure(figsize=(10, 5))\n",
    "ax = plt.gca()\n",
    "img = ax.pcolor(acc_scores, cmap='viridis')\n",
    "img.update_scalarmappable()\n",
    "ax.set_xlabel('C')\n",
    "ax.set_ylabel('n-Gram Ranges')\n",
    "ax.set_xticks(np.arange(len(param_grid['logisticregression__C'])) + .5)\n",
    "ax.set_yticks(np.arange(len(param_grid['tfidfvectorizer__ngram_range'])) + .5)\n",
    "ax.set_xticklabels(param_grid['logisticregression__C'])\n",
    "ax.set_yticklabels(param_grid['tfidfvectorizer__ngram_range'])\n",
    "ax.tick_params(top=True, bottom=True, right=True, left=True, direction='in')\n",
    "ax.set_title('Heatmap visualization of cv accuracies', weight='bold')\n",
    "ax.set_aspect(1)\n",
    "# construct values on top of heatmap so they are easily readable\n",
    "for patch, color, value in zip(img.get_paths(), \n",
    "                               img.get_facecolors(),\n",
    "                               img.get_array()):\n",
    "    \n",
    "    x, y = patch.vertices[:-2, :].mean(0)\n",
    "    if np.mean(color[:3]) > 0.5:\n",
    "        c = 'k'\n",
    "    else:\n",
    "        c = 'w'\n",
    "    ax.text(x, y, \"%0.3f\" % value, color=c, ha=\"center\", va=\"center\", weight='bold')\n",
    "plt.colorbar(img)\n",
    "plt.show()"
   ]
  },
  {
   "cell_type": "markdown",
   "metadata": {},
   "source": [
    "* Using bigrams increased model accuracy by 1%\n",
    "* Trigrams basically didn't alter the model accuracy anymore\n",
    "* Lets visualize top features with highest coeffiecnts"
   ]
  },
  {
   "cell_type": "code",
   "execution_count": 210,
   "metadata": {},
   "outputs": [
    {
     "data": {
      "image/png": "[encoded data removed]",
      "text/plain": [
       "<Figure size 1224x288 with 1 Axes>"
      ]
     },
     "metadata": {
      "needs_background": "light"
     },
     "output_type": "display_data"
    }
   ],
   "source": [
    "tf_vec = grid.best_estimator_.named_steps['tfidfvectorizer']\n",
    "\n",
    "feature_names = np.array(tf_vec.get_feature_names())\n",
    "coefs = grid.best_estimator_.named_steps['logisticregression'].coef_.ravel()\n",
    "\n",
    "# coefs with large abs values\n",
    "max_coefs_args = np.argsort(coefs)[-20:]\n",
    "min_coefs_args = np.argsort(coefs)[:20]\n",
    "min_max_coefs_args = np.hstack([min_coefs_args, max_coefs_args])\n",
    "\n",
    "# plotting the coefs\n",
    "colors = [\"#FF0000\" if coef < 0 else '#0000FF' for coef in coefs[min_max_coefs_args]]\n",
    "\n",
    "plt.figure(figsize=(17, 4))\n",
    "plt.gca().xaxis.grid(linestyle='-.')\n",
    "plt.bar(x=np.arange(40), height=coefs[min_max_coefs_args], color=colors,\n",
    "        linewidth=2, edgecolor='black', zorder=2)\n",
    "plt.xticks(ticks=np.arange(0, 2 * 20), labels=feature_names[min_max_coefs_args],\n",
    "           rotation=45, ha=\"right\")\n",
    "plt.tick_params(top=True, bottom=True, right=True, left=True, direction='in')\n",
    "\n",
    "plt.xlabel('Feature Names')\n",
    "plt.ylabel('Coefficient Magnitude')\n",
    "plt.title('Features with highest coefficients', weight='bold')\n",
    "plt.margins(x=0.01)\n",
    "plt.show()"
   ]
  },
  {
   "cell_type": "markdown",
   "metadata": {},
   "source": [
    "## Stemming & Lemmatization\n",
    "\n",
    "* Tokenization cannot make difference in suffixes: \"replace\", \"replacing\", \"replacement\", \"replaced\" etc\n",
    "* So tokenization counts each word by its own - thus increasing model overfitting\n",
    "* By capturing word **stems** this probelm can be solved\n",
    "* **Stemming** - a rule-based heuristic, dropping common suffixes\n",
    "* **Lemmatization** - an explicit human-verified dictionary of known word forms, also taking into account the role of the word\n",
    "* **lemma** - a standardized form of the word\n",
    "* Both processes (stemming & lemmatization) are forms of *normalization*\n",
    "* Another normalization form is spelling correction\n",
    "\n",
    "### Porter Stemmer\n",
    "\n",
    "* compare stemming (nltk package) and lemmatization (spacy package)"
   ]
  },
  {
   "cell_type": "code",
   "execution_count": 3,
   "metadata": {
    "code_folding": []
   },
   "outputs": [
    {
     "name": "stdout",
     "output_type": "stream",
     "text": [
      "Lemmatization:\n",
      "['-PRON-', 'meeting', 'today', 'be', 'bad', 'than', 'yesterday', ',', '    ', '-PRON-', 'be', 'scared', 'of', 'meet', 'the', 'client', 'tomorrow', '.']\n",
      "\n",
      "Stemming:\n",
      "['our', 'meet', 'today', 'wa', 'wors', 'than', 'yesterday', ',', '    ', 'i', 'am', 'scare', 'of', 'meet', 'the', 'client', 'tomorrow', '.']\n"
     ]
    }
   ],
   "source": [
    "# load spacy's English-language models\n",
    "en_nlp = spacy.load('en')\n",
    "\n",
    "# instantiate nltk's Porter stemmer\n",
    "stemmer = nltk.stem.PorterStemmer()\n",
    "\n",
    "# define function to compare lemmatization in spacy with stemming in nltk\n",
    "def compare_normalization(doc):\n",
    "    # tokenize document in spacy\n",
    "    doc_spacy = en_nlp(doc)\n",
    "    \n",
    "    # print lemmas found by spacy\n",
    "    print(\"Lemmatization:\")\n",
    "    print([token.lemma_ for token in doc_spacy])\n",
    "    \n",
    "    # print tokens found by Porter stemmer\n",
    "    print(\"\\nStemming:\")\n",
    "    print([stemmer.stem(token.norm_.lower()) for token in doc_spacy])\n",
    "    \n",
    "sentence = u\"Our meeting today was worse than yesterday, \\\n",
    "    I'm scared of meeting the clients tomorrow.\"\n",
    "\n",
    "compare_normalization(sentence)"
   ]
  },
  {
   "cell_type": "markdown",
   "metadata": {},
   "source": [
    "* lemmatization detected words and changed to their base verb form:\n",
    "    * was, I'm $\\rightarrow$ *be*\n",
    "    * *worse* $\\rightarrow$ *bad*\n",
    "    * *meeting* $\\rightarrow$ *meet*\n",
    "    * *clients* $\\rightarrow$ *client*\n",
    "* lemmatization detects first \"*meeting*\" as noun and leaves it as it is, the other one as a verb and changes to its base verb form\n",
    "* stemming trims the words:\n",
    "    * *meeting* $\\rightarrow$ *meet*\n",
    "    * *was* $\\rightarrow$ *wa*\n",
    "    * *worse* $\\rightarrow$ *wors*\n",
    "* in general lemmatization produces better results than word stemming\n",
    "* by default sklearn doesn't implement neither normalization it can be brought into *CountVectorizer* with **tokenizer** parameter"
   ]
  },
  {
   "cell_type": "markdown",
   "metadata": {},
   "source": [
    "### Lemmatization with Spacy\n",
    "\n",
    "* we want to use lemmatization from spacy\n",
    "* we need to replace spacy tokenizer with regex-based tokenization"
   ]
  },
  {
   "cell_type": "code",
   "execution_count": 12,
   "metadata": {},
   "outputs": [],
   "source": [
    "# CountVectorizer default regex-python. (?u) - matches chars by unicode,\n",
    "# probably redundant in Python 3\n",
    "regexp = re.compile('(?u)\\\\b\\\\w\\\\w+\\\\b')\n",
    "\n",
    "# load spacy english language model, save old tokenizer\n",
    "en_nlp = spacy.load('en')\n",
    "old_tokenizer = en_nlp.tokenizer\n",
    "# replace spacy tokenizer with regexp based tokenizer\n",
    "en_nlp.tokenizer = lambda string: old_tokenizer.tokens_from_list(\n",
    "    regexp.findall(string))\n",
    "\n",
    "# define our custom tokenizer\n",
    "def lemma_tokenizer(document):\n",
    "    doc_spacy = en_nlp(document)\n",
    "    return [token.lemma_ for token in doc_spacy]\n",
    "\n",
    "# define CountVectorizer with spacy lemmatization\n",
    "lemma_vec = CountVectorizer(tokenizer=lemma_tokenizer, min_df=5)"
   ]
  },
  {
   "cell_type": "code",
   "execution_count": 13,
   "metadata": {},
   "outputs": [
    {
     "name": "stdout",
     "output_type": "stream",
     "text": [
      "X_train_lemma shape: (25000, 21543)\n",
      "X_train shape: (25000, 27272)\n"
     ]
    }
   ],
   "source": [
    "# transform our imdb reviews with lemma_vec\n",
    "X_train_lemma = lemma_vec.fit_transform(text_train)\n",
    "print(\"X_train_lemma shape: {}\".format(X_train_lemma.shape))\n",
    "\n",
    "# build standard CountVectorizer for comparison\n",
    "c_vec = CountVectorizer(min_df=5).fit(text_train)\n",
    "X_train = c_vec.transform(text_train)\n",
    "print(\"X_train shape: {}\".format(X_train.shape))"
   ]
  },
  {
   "cell_type": "markdown",
   "metadata": {},
   "source": [
    "* lemmatization reduced 6000 features\n",
    "* lets comapre lemmatizier model with regular one\n",
    "* lets use only 1% of the data for training since lemmatization works well when the sample size is small"
   ]
  },
  {
   "cell_type": "code",
   "execution_count": 18,
   "metadata": {},
   "outputs": [
    {
     "name": "stdout",
     "output_type": "stream",
     "text": [
      "Best cv score (default CountVectorizer): 0.717\n",
      "Best cv score (lemmatization): 0.731\n"
     ]
    }
   ],
   "source": [
    "param_grid = {'C': np.logspace(2,-2, 5)}\n",
    "\n",
    "cross_v = StratifiedShuffleSplit(n_splits=5, test_size=0.99, train_size=0.01,\n",
    "                            random_state=0)\n",
    "\n",
    "grid_cv = GridSearchCV(LogisticRegression(solver='lbfgs', max_iter=1000), param_grid, cv=cross_v,\n",
    "                       iid=False, return_train_score=False, n_jobs=-1)\n",
    "grid_cv.fit(X_train, y_train)\n",
    "print(\"Best cv score (default CountVectorizer): {:.3f}\".format(grid_cv.best_score_))\n",
    "\n",
    "grid_cv.fit(X_train_lemma, y_train)\n",
    "print(\"Best cv score (lemmatization): {:.3f}\".format(grid_cv.best_score_))"
   ]
  },
  {
   "cell_type": "markdown",
   "metadata": {},
   "source": [
    "* lemmatization gave minor increase in model performance\n",
    "* the result depends on datasets"
   ]
  },
  {
   "cell_type": "markdown",
   "metadata": {},
   "source": [
    "## Topic Modelling & Document Clustering\n",
    "\n",
    "* **Topic modelling** - assigning a document to a or multiple topics, usually unsupervised. \n",
    "* **Document Clustering** - each document is categorized into single class.\n",
    "* If document can belong to more than 1 topic, the task relates to decomposition problem.\n",
    "* Document consists then with components, each corresponding to particualr topic with some (coefficient) strength\n",
    "* **Latent Dirichlet Allocation** - decompositon mehtod for topic modelling\n",
    "\n",
    "### Latent Dirichlet Allocation (LDA)\n",
    "\n",
    "* tries to capture group of words (topics) that appear frequently together\n",
    "* each document is seen as mixture of topics\n",
    "* topics captured by decomposition algorithms might not have a semantic meaning\n",
    "* lets apply LDA on IMDb data\n",
    "* for unsupervised models it is good practice to remove very common words, since they tend to dominate the results\n",
    "* lets remove words that appear at least in 1/5 th of the documents \n",
    "* also limit the BoW to top 10k words"
   ]
  },
  {
   "cell_type": "code",
   "execution_count": 23,
   "metadata": {},
   "outputs": [],
   "source": [
    "c_vec = CountVectorizer(max_df=.20, max_features=10000)\n",
    "X_unsup = c_vec.fit_transform(text_train)"
   ]
  },
  {
   "cell_type": "markdown",
   "metadata": {},
   "source": [
    "* lets say we have 10 different topics\n",
    "* as for Non-negative Matrix Factorization, topics aren't ordered in any way \n",
    "* changing the number of topics will change all the topics\n",
    "* we could also use NMF for this matter"
   ]
  },
  {
   "cell_type": "code",
   "execution_count": 26,
   "metadata": {},
   "outputs": [],
   "source": [
    "lda = LatentDirichletAllocation(n_components=10, learning_method='batch',\n",
    "                                random_state=0, max_iter=30, n_jobs=-1)\n",
    "\n",
    "topics = lda.fit_transform(X_unsup)"
   ]
  },
  {
   "cell_type": "markdown",
   "metadata": {},
   "source": [
    "* lets print 10 most important words from each topic"
   ]
  },
  {
   "cell_type": "code",
   "execution_count": 28,
   "metadata": {},
   "outputs": [
    {
     "name": "stdout",
     "output_type": "stream",
     "text": [
      "topic 0       topic 1       topic 2       topic 3       topic 4       \n",
      "--------      --------      --------      --------      --------      \n",
      "films         show          your          role          action        \n",
      "such          love          why           cast          effects       \n",
      "world         funny         know          performance   films         \n",
      "these         series        ever          character     scenes        \n",
      "us            tv            did           best          budget        \n",
      "work          best          ve            actor         horror        \n",
      "life          still         thing         actors        special       \n",
      "those         episode       say           play          pretty        \n",
      "cinema        years         something     performances  low           \n",
      "yet           saw           didn          plays         better        \n",
      "\n",
      "\n",
      "topic 5       topic 6       topic 7       topic 8       topic 9       \n",
      "--------      --------      --------      --------      --------      \n",
      "horror        original      musical       life          character     \n",
      "man           series        love          man           director      \n",
      "house         years         best          war           little        \n",
      "killer        animation     dance         family        does          \n",
      "off           book          jane          father        seems         \n",
      "where         disney        john          young         scenes        \n",
      "scene         now           version       world         interesting   \n",
      "little        back          two           men           such          \n",
      "while         new           comedy        two           nothing       \n",
      "gets          version       mr            us            films         \n",
      "\n",
      "\n"
     ]
    }
   ],
   "source": [
    "# Invert rows with [:, ::-1] to make sorting descending\n",
    "sorting = np.argsort(lda.components_, axis=1)[:, ::-1]\n",
    "# Get the feature names from the vectorizer\n",
    "feature_names = np.array(c_vec.get_feature_names())\n",
    "\n",
    "mglearn.tools.print_topics(topics=range(10), feature_names=feature_names,\n",
    "                           sorting=sorting, topics_per_chunk=5, n_words=10)"
   ]
  },
  {
   "cell_type": "markdown",
   "metadata": {},
   "source": [
    "* since we used only 10 topics, the topics are very broad\n",
    "* the word *horror* was captured in topic 4 and 5\n",
    "* we could specifiy more topics and see how the data is distributed then\n",
    "* we skip this since this process is quite slow\n",
    "* topic 7 seems to be moview reviews abot musical plays, let's check if this is the case "
   ]
  },
  {
   "cell_type": "code",
   "execution_count": 39,
   "metadata": {},
   "outputs": [
    {
     "name": "stdout",
     "output_type": "stream",
     "text": [
      "b'This film is a jolt of punk rock fun, from start to finish. The Ramones, reigning princes of late-70s Punk rock, appear as themselves'\n",
      "b'Of course, the story line for this movie isn\\'t the best, but the dances are wonderful. This story line is different from other Astaire-Rogers movies in that neither one is \"chasing\" the other'\n",
      "b'One of the best of the Fred Astaire and Giner Rogers films. Great music by Irving Berlin'\n",
      "b'Errol Flynn is \"Gentleman Jim\" in this 1942 film about boxer Jim Corbett, known as the man who beat John L. Sullivan'\n",
      "b'Astaire and Rogers at the height of their popularity. In 1936 Americans thought of the Navy as a place for song and dance'\n"
     ]
    }
   ],
   "source": [
    "# sort by weight of \"music\" topic 7\n",
    "music = np.argsort(topics[:, 7])[::-1]\n",
    "\n",
    "# print the five documents where the topic is most important\n",
    "for i in music[:5]:\n",
    "    # show first two sentences\n",
    "    print(b\".\".join(text_train[i].split(b\".\")[:2]))"
   ]
  },
  {
   "cell_type": "markdown",
   "metadata": {},
   "source": [
    "* we can also visualize how much weight each topic gets overall\n",
    "* lets name each topic by their 2 most common workds"
   ]
  },
  {
   "cell_type": "code",
   "execution_count": 53,
   "metadata": {},
   "outputs": [
    {
     "data": {
      "image/png": "[encoded data removed]",
      "text/plain": [
       "<Figure size 864x216 with 2 Axes>"
      ]
     },
     "metadata": {
      "needs_background": "light"
     },
     "output_type": "display_data"
    }
   ],
   "source": [
    "fig, ax = plt.subplots(1, 2, figsize=(12, 3))\n",
    "topic_names = [\"{:>2} \".format(i) + \" \".join(words) \n",
    "               for i, words in enumerate(feature_names[sorting[:, :2]])]\n",
    "# two column bar chart:\n",
    "for col in [0, 1]:\n",
    "    start = col * 5\n",
    "    end = (col + 1) * 5\n",
    "    ax[col].barh(np.arange(5), np.sum(topics, axis=0)[start:end], edgecolor='k', lw=1)\n",
    "    ax[col].set_yticks(np.arange(5))\n",
    "    ax[col].set_yticklabels(topic_names[start:end], ha=\"left\", va=\"center\", fontsize=13)\n",
    "    ax[col].invert_yaxis()\n",
    "    ax[col].set_xlim(0, 6000)\n",
    "    yax = ax[col].get_yaxis()\n",
    "    yax.set_tick_params(pad=130)\n",
    "plt.tight_layout()"
   ]
  },
  {
   "cell_type": "code",
   "execution_count": null,
   "metadata": {},
   "outputs": [],
   "source": []
  }
 ],
 "metadata": {
  "kernelspec": {
   "display_name": "Python 3",
   "language": "python",
   "name": "python3"
  },
  "language_info": {
   "codemirror_mode": {
    "name": "ipython",
    "version": 3
   },
   "file_extension": ".py",
   "mimetype": "text/x-python",
   "name": "python",
   "nbconvert_exporter": "python",
   "pygments_lexer": "ipython3",
   "version": "3.7.2"
  },
  "latex_envs": {
   "LaTeX_envs_menu_present": true,
   "autoclose": true,
   "autocomplete": true,
   "bibliofile": "biblio.bib",
   "cite_by": "apalike",
   "current_citInitial": 1,
   "eqLabelWithNumbers": true,
   "eqNumInitial": 1,
   "hotkeys": {
    "equation": "Ctrl-E",
    "itemize": "Ctrl-I"
   },
   "labels_anchors": false,
   "latex_user_defs": false,
   "report_style_numbering": false,
   "user_envs_cfg": false
  },
  "toc": {
   "base_numbering": 1,
   "nav_menu": {},
   "number_sections": true,
   "sideBar": true,
   "skip_h1_title": false,
   "title_cell": "Table of Contents",
   "title_sidebar": "Contents",
   "toc_cell": false,
   "toc_position": {
    "height": "calc(100% - 180px)",
    "left": "10px",
    "top": "150px",
    "width": "223.8px"
   },
   "toc_section_display": true,
   "toc_window_display": true
  }
 },
 "nbformat": 4,
 "nbformat_minor": 2
}
