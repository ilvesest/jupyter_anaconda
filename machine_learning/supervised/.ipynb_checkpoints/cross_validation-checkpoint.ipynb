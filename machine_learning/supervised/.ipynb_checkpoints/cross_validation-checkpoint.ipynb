{
 "cells": [
  {
   "cell_type": "code",
   "execution_count": 59,
   "metadata": {},
   "outputs": [],
   "source": [
    "import pandas as pd\n",
    "import numpy as np\n",
    "from sklearn.model_selection import cross_val_score\n",
    "from sklearn.linear_model import LinearRegression\n",
    "from sklearn import datasets\n",
    "from sklearn.linear_model import LogisticRegression\n",
    "from sklearn.model_selection import train_test_split\n",
    "from sklearn.neighbors import KNeighborsClassifier\n",
    "from sklearn.svm import SVC\n",
    "from sklearn.model_selection import GridSearchCV\n",
    "import matplotlib.pyplot as plt"
   ]
  },
  {
   "cell_type": "markdown",
   "metadata": {},
   "source": [
    "# Cross Validation (CV)"
   ]
  },
  {
   "cell_type": "markdown",
   "metadata": {},
   "source": [
    "* To evaluate how well a given algorithm will **generalize** when trained on a specific dataset\n",
    "* The data is split into n equal chuncks. \n",
    "* In each run one chunck is taken as the test data and others for training data. \n",
    "* The R^2, mean, median, 95% confidence intervals calculated is more precise on 5 values. \n",
    "* Thus its called **k-fold** cross calidation or in general **n-fold CV**.\n",
    "\n",
    "* It maximizes the amount of data that is used to train the model, as during the course of training, the model is not only trained, but also tested on all of the available data."
   ]
  },
  {
   "cell_type": "markdown",
   "metadata": {},
   "source": [
    "## CV on Regression"
   ]
  },
  {
   "cell_type": "code",
   "execution_count": 2,
   "metadata": {},
   "outputs": [
    {
     "data": {
      "text/html": [
       "<div>\n",
       "<style scoped>\n",
       "    .dataframe tbody tr th:only-of-type {\n",
       "        vertical-align: middle;\n",
       "    }\n",
       "\n",
       "    .dataframe tbody tr th {\n",
       "        vertical-align: top;\n",
       "    }\n",
       "\n",
       "    .dataframe thead th {\n",
       "        text-align: right;\n",
       "    }\n",
       "</style>\n",
       "<table border=\"1\" class=\"dataframe\">\n",
       "  <thead>\n",
       "    <tr style=\"text-align: right;\">\n",
       "      <th></th>\n",
       "      <th>population</th>\n",
       "      <th>fertility</th>\n",
       "      <th>HIV</th>\n",
       "      <th>CO2</th>\n",
       "      <th>BMI_male</th>\n",
       "      <th>GDP</th>\n",
       "      <th>BMI_female</th>\n",
       "      <th>life</th>\n",
       "      <th>child_mortality</th>\n",
       "      <th>Region</th>\n",
       "    </tr>\n",
       "  </thead>\n",
       "  <tbody>\n",
       "    <tr>\n",
       "      <th>0</th>\n",
       "      <td>34811059.0</td>\n",
       "      <td>2.73</td>\n",
       "      <td>0.1</td>\n",
       "      <td>3.328945</td>\n",
       "      <td>24.59620</td>\n",
       "      <td>12314.0</td>\n",
       "      <td>129.9049</td>\n",
       "      <td>75.3</td>\n",
       "      <td>29.5</td>\n",
       "      <td>Middle East &amp; North Africa</td>\n",
       "    </tr>\n",
       "    <tr>\n",
       "      <th>1</th>\n",
       "      <td>19842251.0</td>\n",
       "      <td>6.43</td>\n",
       "      <td>2.0</td>\n",
       "      <td>1.474353</td>\n",
       "      <td>22.25083</td>\n",
       "      <td>7103.0</td>\n",
       "      <td>130.1247</td>\n",
       "      <td>58.3</td>\n",
       "      <td>192.0</td>\n",
       "      <td>Sub-Saharan Africa</td>\n",
       "    </tr>\n",
       "  </tbody>\n",
       "</table>\n",
       "</div>"
      ],
      "text/plain": [
       "   population  fertility  HIV       CO2  BMI_male      GDP  BMI_female  life  \\\n",
       "0  34811059.0       2.73  0.1  3.328945  24.59620  12314.0    129.9049  75.3   \n",
       "1  19842251.0       6.43  2.0  1.474353  22.25083   7103.0    130.1247  58.3   \n",
       "\n",
       "   child_mortality                      Region  \n",
       "0             29.5  Middle East & North Africa  \n",
       "1            192.0          Sub-Saharan Africa  "
      ]
     },
     "execution_count": 2,
     "metadata": {},
     "output_type": "execute_result"
    }
   ],
   "source": [
    "gapminder = pd.read_csv('regression/data/gm_2008_region.csv', header=0)\n",
    "gapminder.head(2)"
   ]
  },
  {
   "cell_type": "code",
   "execution_count": 8,
   "metadata": {},
   "outputs": [
    {
     "name": "stdout",
     "output_type": "stream",
     "text": [
      "[0.81720569 0.82917058 0.90214134 0.80633989 0.94495637]\n",
      "\n",
      "The average R^2 score is 0.86\n"
     ]
    }
   ],
   "source": [
    "# data\n",
    "X = gapminder.drop(['Region', 'life'], axis=1).values\n",
    "y = gapminder.life.values\n",
    "\n",
    "# init regression obj\n",
    "reg = LinearRegression()\n",
    "\n",
    "# compute 5-fold CV scores\n",
    "cv_scores = cross_val_score(estimator=reg, X=X, y=y, cv=5)\n",
    "\n",
    "# print the R^2 scores\n",
    "print(cv_scores)\n",
    "\n",
    "# compute mean R^2 score\n",
    "print(\"\\nThe average R^2 score is {:.2f}\".format(np.mean(cv_scores)))"
   ]
  },
  {
   "cell_type": "markdown",
   "metadata": {},
   "source": [
    "The more folds we use the more computationally expensive it gets."
   ]
  },
  {
   "cell_type": "code",
   "execution_count": 9,
   "metadata": {},
   "outputs": [
    {
     "name": "stdout",
     "output_type": "stream",
     "text": [
      "3.35 ms ± 45.8 µs per loop (mean ± std. dev. of 7 runs, 100 loops each)\n"
     ]
    }
   ],
   "source": [
    "%timeit cross_val_score(reg, X, y, cv=3)"
   ]
  },
  {
   "cell_type": "code",
   "execution_count": 10,
   "metadata": {},
   "outputs": [
    {
     "name": "stdout",
     "output_type": "stream",
     "text": [
      "15.8 ms ± 459 µs per loop (mean ± std. dev. of 7 runs, 10 loops each)\n"
     ]
    }
   ],
   "source": [
    "%timeit cross_val_score(reg, X, y, cv=15)"
   ]
  },
  {
   "cell_type": "markdown",
   "metadata": {},
   "source": [
    "## CV on Classifiaction\n",
    "\n",
    "* stratiied k-fold cross-validaton\n",
    "* the data is split such that the proportions between classes are the same in each fold as they are in the whole dataset\n",
    "\n",
    "![title](classification/img/cv.png)\n",
    "\n",
    "* if (binary) data has class labels 90% A and 10% B it can happen that data is split such that one fold contains labels only from class A\n",
    "* stratification eliminates this possibility\n",
    "* <font color='red'>**By not dividing data with train_test_split and usng cross_val_score striaght away the CV will stratify the data by default for classification algorithms**</font>\n",
    "\n",
    "#### Compare stratified CV vs non-startified CV"
   ]
  },
  {
   "cell_type": "code",
   "execution_count": 46,
   "metadata": {},
   "outputs": [
    {
     "name": "stdout",
     "output_type": "stream",
     "text": [
      "CV scores non-strat: [0.85714286 0.76923077 1.        ]\n",
      "Mean CV non-strat: 0.88\n",
      "\n",
      "CV scores strat: [0.92857143 1.         0.91666667]\n",
      "Mean CV strat: 0.95\n"
     ]
    }
   ],
   "source": [
    "iris = datasets.load_iris()\n",
    "X = iris.data\n",
    "y = iris.target\n",
    "\n",
    "X_train, X_test, y_train, y_test = train_test_split(X, y, random_state=7)\n",
    "X_train_s, X_test_s, y_train_s, y_test_s = train_test_split(X, y, random_state=7, stratify=y)\n",
    "\n",
    "clf1 = LogisticRegression(solver='liblinear', multi_class='auto').fit(X_train, y_train)\n",
    "clf2 = LogisticRegression(solver='liblinear', multi_class='auto').fit(X_train_s, y_train_s)\n",
    "\n",
    "cv_3 = cross_val_score(clf1, X_test, y_test, cv=3)\n",
    "cv_3_s = cross_val_score(clf2, X_test_s, y_test_s, cv=3)\n",
    "\n",
    "print('CV scores non-strat: {}'.format(cv_3))\n",
    "print('Mean CV non-strat: {:.2f}'.format(np.mean(cv_3)))\n",
    "print('\\nCV scores strat: {}'.format(cv_3_s))\n",
    "print('Mean CV strat: {:.2f}'.format(np.mean(cv_3_s)))"
   ]
  },
  {
   "cell_type": "markdown",
   "metadata": {},
   "source": [
    "# Grid Search\n",
    "\n",
    "* One way to improve the models generaization further is to **tune** its parameters\n",
    "* **Goal**: find parameter values that provide bets performance\n",
    "* **Grid Searc** tries different combinations of parameters and provides the results for each combintion\n",
    "\n",
    "<img src=\"classification/img/grid_cv.png\" alt=\"Drawing\" style=\"width: 300px;\"/>\n",
    "\n",
    "#### Grid Search Demo"
   ]
  },
  {
   "cell_type": "code",
   "execution_count": 52,
   "metadata": {},
   "outputs": [
    {
     "name": "stdout",
     "output_type": "stream",
     "text": [
      "Best score: 0.97\n",
      "Best Parameters: {'C': 100.0, 'gamma': 0.001}\n"
     ]
    }
   ],
   "source": [
    "iris = datasets.load_iris()\n",
    "X = iris.data\n",
    "y = iris.target\n",
    "\n",
    "X_train, X_test, y_train, y_test = train_test_split(X, y, random_state=0)\n",
    "\n",
    "gamma_space = np.logspace(-3, 2, 6)\n",
    "C_space = np.logspace(-3, 2, 6)\n",
    "\n",
    "best_score = 0\n",
    "for gamma in gamma_space:\n",
    "    for C in C_space:\n",
    "        # SVC model with each gamma and C combo\n",
    "        svm = SVC(C=C, gamma=gamma).fit(X_train, y_train)\n",
    "        score = svm.score(X_test, y_test)\n",
    "        \n",
    "        if score > best_score:\n",
    "            best_score = score\n",
    "            best_parameters = {'C':C, 'gamma':gamma}\n",
    "\n",
    "print(\"Best score: {:.2f}\".format(best_score))\n",
    "print(\"Best Parameters: {}\".format(best_parameters))"
   ]
  },
  {
   "cell_type": "code",
   "execution_count": 57,
   "metadata": {},
   "outputs": [
    {
     "name": "stdout",
     "output_type": "stream",
     "text": [
      "Best score: 0.97\n",
      "Best paramters: {'C': 100.0, 'gamma': 0.01}\n"
     ]
    }
   ],
   "source": [
    "iris = datasets.load_iris()\n",
    "X = iris.data\n",
    "y = iris.target\n",
    "\n",
    "X_train, X_test, y_train, y_test = train_test_split(X, y, random_state=0)\n",
    "\n",
    "gamma_space = np.logspace(-3, 2, 6)\n",
    "C_space = np.logspace(-3, 2, 6)\n",
    "\n",
    "param_grid = {'gamma':gamma_space,\n",
    "             'C':C_space}\n",
    "\n",
    "svm = SVC()\n",
    "svm_cv = GridSearchCV(svm, param_grid=param_grid, cv=5, \n",
    "                      return_train_score=False, iid=False).fit(X_train, y_train)\n",
    "\n",
    "print(\"Best score: {:.2f}\".format(svm_cv.best_score_))\n",
    "print('Best paramters: {}'.format(svm_cv.best_params_))"
   ]
  },
  {
   "cell_type": "markdown",
   "metadata": {},
   "source": [
    "## Validation Set\n",
    "\n",
    "* The model accuracy result 0.97 received previously would indicated our model performance is excellent yet it is stricktly speaking too optimistic/**WRONG**\n",
    "* Even though we tested the paramter combinations on **test set** it does not carry over to totally new data.\n",
    "* Because we used the test data to adjust the parameters we cannot assess model performance!\n",
    "* One way to overcome this trouble is to split the data into 3 parts:\n",
    "    * Training Set\n",
    "    * Validation Set\n",
    "    * Test Set\n",
    "    \n",
    "![title](classification/img/cv2.png)\n",
    "\n",
    "* Use validation set for parameter tuning\n",
    "* Use test set for model performance estimating\n",
    "\n",
    "#### Validation Set Demo"
   ]
  },
  {
   "cell_type": "markdown",
   "metadata": {},
   "source": [
    "##### With GridSearchCV"
   ]
  },
  {
   "cell_type": "code",
   "execution_count": 49,
   "metadata": {},
   "outputs": [
    {
     "name": "stdout",
     "output_type": "stream",
     "text": [
      "Training Set Size: 84, Validation Set Size: 28, Test Set Size: 38\n",
      "\n",
      "Best score on validation set: 0.96\n",
      "Best parameters: {'C': 10.0, 'gamma': 0.1}\n",
      "Model accuracy with best parameters and test set: 0.97\n"
     ]
    }
   ],
   "source": [
    "iris = datasets.load_iris()\n",
    "X = iris.data\n",
    "y = iris.target\n",
    "\n",
    "X_trainval, X_test, y_trainval, y_test = train_test_split(X, y, \\\n",
    "    random_state=0)\n",
    "X_train, X_val, y_train, y_val = train_test_split(X_trainval, \\\n",
    "    y_trainval, random_state=1)\n",
    "\n",
    "print('Training Set Size: {}, Validation Set Size: {}, Test Set Size: {}'.format(\n",
    "    X_train.shape[0], X_val.shape[0], X_test.shape[0]))\n",
    "\n",
    "gamma_space = np.logspace(-3, 2, 6)\n",
    "C_space = np.logspace(-3, 2, 6)\n",
    "param_grid = {'gamma':gamma_space, 'C':C_space}\n",
    "\n",
    "svm = SVC(random_state=0)\n",
    "svm_cv = GridSearchCV(svm, param_grid=param_grid, cv=3, \n",
    "                      return_train_score=False, iid=False).fit(X_train, y_train)\n",
    "\n",
    "val_score = svm_cv.score(X_val, y_val)\n",
    "\n",
    "# rebuild\n",
    "svm2 = SVC(**svm_cv.best_params_).fit(X_trainval, y_trainval)\n",
    "test_score = svm2.score(X_test, y_test)\n",
    "\n",
    "print('\\nBest score on validation set: {:.2f}'.format(val_score))\n",
    "print('Best parameters: {}'.format(svm_cv.best_params_))\n",
    "print('Model accuracy with best parameters and test set: {:.2f}'.format(test_score))"
   ]
  },
  {
   "cell_type": "markdown",
   "metadata": {},
   "source": [
    "### Plotting the scores as heatmap"
   ]
  },
  {
   "cell_type": "code",
   "execution_count": 51,
   "metadata": {},
   "outputs": [
    {
     "data": {
      "text/html": [
       "<div>\n",
       "<style scoped>\n",
       "    .dataframe tbody tr th:only-of-type {\n",
       "        vertical-align: middle;\n",
       "    }\n",
       "\n",
       "    .dataframe tbody tr th {\n",
       "        vertical-align: top;\n",
       "    }\n",
       "\n",
       "    .dataframe thead th {\n",
       "        text-align: right;\n",
       "    }\n",
       "</style>\n",
       "<table border=\"1\" class=\"dataframe\">\n",
       "  <thead>\n",
       "    <tr style=\"text-align: right;\">\n",
       "      <th></th>\n",
       "      <th>mean_fit_time</th>\n",
       "      <th>std_fit_time</th>\n",
       "      <th>mean_score_time</th>\n",
       "      <th>std_score_time</th>\n",
       "      <th>param_C</th>\n",
       "      <th>param_gamma</th>\n",
       "      <th>params</th>\n",
       "      <th>split0_test_score</th>\n",
       "      <th>split1_test_score</th>\n",
       "      <th>split2_test_score</th>\n",
       "      <th>mean_test_score</th>\n",
       "      <th>std_test_score</th>\n",
       "      <th>rank_test_score</th>\n",
       "    </tr>\n",
       "  </thead>\n",
       "  <tbody>\n",
       "    <tr>\n",
       "      <th>0</th>\n",
       "      <td>0.001088</td>\n",
       "      <td>0.000138</td>\n",
       "      <td>0.000531</td>\n",
       "      <td>0.000035</td>\n",
       "      <td>0.001</td>\n",
       "      <td>0.001</td>\n",
       "      <td>{'C': 0.001, 'gamma': 0.001}</td>\n",
       "      <td>0.344828</td>\n",
       "      <td>0.678571</td>\n",
       "      <td>0.333333</td>\n",
       "      <td>0.452244</td>\n",
       "      <td>0.160106</td>\n",
       "      <td>21</td>\n",
       "    </tr>\n",
       "    <tr>\n",
       "      <th>1</th>\n",
       "      <td>0.000827</td>\n",
       "      <td>0.000069</td>\n",
       "      <td>0.000451</td>\n",
       "      <td>0.000044</td>\n",
       "      <td>0.001</td>\n",
       "      <td>0.01</td>\n",
       "      <td>{'C': 0.001, 'gamma': 0.01}</td>\n",
       "      <td>0.344828</td>\n",
       "      <td>0.678571</td>\n",
       "      <td>0.333333</td>\n",
       "      <td>0.452244</td>\n",
       "      <td>0.160106</td>\n",
       "      <td>21</td>\n",
       "    </tr>\n",
       "  </tbody>\n",
       "</table>\n",
       "</div>"
      ],
      "text/plain": [
       "   mean_fit_time  std_fit_time  mean_score_time  std_score_time param_C  \\\n",
       "0       0.001088      0.000138         0.000531        0.000035   0.001   \n",
       "1       0.000827      0.000069         0.000451        0.000044   0.001   \n",
       "\n",
       "  param_gamma                        params  split0_test_score  \\\n",
       "0       0.001  {'C': 0.001, 'gamma': 0.001}           0.344828   \n",
       "1        0.01   {'C': 0.001, 'gamma': 0.01}           0.344828   \n",
       "\n",
       "   split1_test_score  split2_test_score  mean_test_score  std_test_score  \\\n",
       "0           0.678571           0.333333         0.452244        0.160106   \n",
       "1           0.678571           0.333333         0.452244        0.160106   \n",
       "\n",
       "   rank_test_score  \n",
       "0               21  \n",
       "1               21  "
      ]
     },
     "execution_count": 51,
     "metadata": {},
     "output_type": "execute_result"
    }
   ],
   "source": [
    "results = pd.DataFrame(svm_cv.cv_results_)\n",
    "results.head(2)"
   ]
  },
  {
   "cell_type": "code",
   "execution_count": 57,
   "metadata": {},
   "outputs": [
    {
     "data": {
      "text/plain": [
       "array([[0.45, 0.45, 0.45, 0.45, 0.43, 0.4 ],\n",
       "       [0.45, 0.45, 0.45, 0.45, 0.43, 0.4 ],\n",
       "       [0.45, 0.45, 0.87, 0.93, 0.43, 0.4 ],\n",
       "       [0.68, 0.89, 0.96, 0.99, 0.93, 0.51],\n",
       "       [0.88, 0.98, 0.99, 0.99, 0.94, 0.55],\n",
       "       [0.98, 0.99, 0.99, 0.99, 0.94, 0.55]])"
      ]
     },
     "execution_count": 57,
     "metadata": {},
     "output_type": "execute_result"
    }
   ],
   "source": [
    "scores = np.round(np.array(results.mean_test_score).reshape(6, 6), 2)\n",
    "scores"
   ]
  },
  {
   "cell_type": "code",
   "execution_count": 112,
   "metadata": {},
   "outputs": [
    {
     "data": {
      "image/png": "[encoded data removed]",
      "text/plain": [
       "<Figure size 576x576 with 2 Axes>"
      ]
     },
     "metadata": {
      "needs_background": "light"
     },
     "output_type": "display_data"
    }
   ],
   "source": [
    "plt.figure(figsize=(8,8))\n",
    "ax = plt.gca()\n",
    "\n",
    "img = ax.pcolormesh(scores, cmap='viridis', )\n",
    "img.update_scalarmappable()\n",
    "ax.set_xlabel('gamma')\n",
    "ax.set_ylabel('C')\n",
    "ax.set_xticks(np.arange(len(param_grid['gamma'])) +.5)\n",
    "ax.set_yticks(np.arange(len(param_grid['C'])) +.5)\n",
    "ax.set_xticklabels(param_grid['gamma'])\n",
    "ax.set_yticklabels(param_grid['C'])\n",
    "ax.set_title('Mean CV Scores as a function of C and gamma', weight='bold')\n",
    "ax.set_aspect(1)\n",
    "plt.colorbar(img, orientation='horizontal')\n",
    "\n",
    "# adding text\n",
    "for p, color, value in zip(img.get_paths(), img.get_facecolors(), img.get_array()):\n",
    "    fmt = \"%0.2f\"\n",
    "    x, y = p.vertices[:-2, :].mean(0)\n",
    "    if np.mean(color[:3]) > 0.5:\n",
    "        c = 'k'\n",
    "    else:\n",
    "        c = 'w'\n",
    "    ax.text(x, y, fmt % value, color=c, ha=\"center\", va=\"center\", weight='bold')\n",
    "plt.show()"
   ]
  },
  {
   "cell_type": "markdown",
   "metadata": {},
   "source": [
    "* the adjusted parameters are very important for obtaining good performance"
   ]
  },
  {
   "cell_type": "markdown",
   "metadata": {},
   "source": [
    "##### Without GridSearchCV"
   ]
  },
  {
   "cell_type": "code",
   "execution_count": 48,
   "metadata": {},
   "outputs": [
    {
     "name": "stdout",
     "output_type": "stream",
     "text": [
      "Training Set Size: 84, Validation Set Size: 28, Test Set Size: 38\n",
      "\n",
      "Best score on validation set: 0.96\n",
      "Best parameters: {'C': 10.0, 'gamma': 0.001}\n",
      "Model accuracy with best parameters and test set: 0.92\n"
     ]
    }
   ],
   "source": [
    "iris = datasets.load_iris()\n",
    "X = iris.data\n",
    "y = iris.target\n",
    "\n",
    "X_trainval, X_test, y_trainval, y_test = train_test_split(X, y, \\\n",
    "    random_state=0)\n",
    "X_train, X_val, y_train, y_val = train_test_split(X_trainval, \\\n",
    "    y_trainval, random_state=1)\n",
    "\n",
    "print('Training Set Size: {}, Validation Set Size: {}, Test Set Size: {}'.format(\n",
    "    X_train.shape[0], X_val.shape[0], X_test.shape[0]))\n",
    "\n",
    "gamma_space = np.logspace(-3, 2, 6)\n",
    "C_space = np.logspace(-3, 2, 6)\n",
    "#param_grid = {'gamma':gamma_space, 'C':C_space}\n",
    "\n",
    "best_score = 0\n",
    "for gamma in gamma_space:\n",
    "    for C in C_space:\n",
    "        svm = SVC(C=C, gamma=gamma)\n",
    "        svm.fit(X_train, y_train)\n",
    "        score = svm.score(X_val, y_val)\n",
    "        \n",
    "        if score > best_score:\n",
    "            best_score = score\n",
    "            best_parameters = {'C':C, 'gamma':gamma}\n",
    "\n",
    "# rebuild model with best params and evaluate with test set data\n",
    "svm = SVC(**best_parameters).fit(X_trainval, y_trainval)\n",
    "test_score = svm.score(X_test, y_test)\n",
    "\n",
    "print('\\nBest score on validation set: {:.2f}'.format(best_score))\n",
    "print('Best parameters: {}'.format(best_parameters))\n",
    "print('Model accuracy with best parameters and test set: {:.2f}'.format(test_score))"
   ]
  },
  {
   "cell_type": "markdown",
   "metadata": {},
   "source": [
    "* Since GridSearchCV found different gamma value for best describing the validation set, the end result here is little bit different."
   ]
  },
  {
   "cell_type": "code",
   "execution_count": null,
   "metadata": {},
   "outputs": [],
   "source": []
  }
 ],
 "metadata": {
  "kernelspec": {
   "display_name": "Python 3",
   "language": "python",
   "name": "python3"
  },
  "language_info": {
   "codemirror_mode": {
    "name": "ipython",
    "version": 3
   },
   "file_extension": ".py",
   "mimetype": "text/x-python",
   "name": "python",
   "nbconvert_exporter": "python",
   "pygments_lexer": "ipython3",
   "version": "3.7.2"
  },
  "latex_envs": {
   "LaTeX_envs_menu_present": true,
   "autoclose": true,
   "autocomplete": true,
   "bibliofile": "biblio.bib",
   "cite_by": "apalike",
   "current_citInitial": 1,
   "eqLabelWithNumbers": true,
   "eqNumInitial": 1,
   "hotkeys": {
    "equation": "Ctrl-E",
    "itemize": "Ctrl-I"
   },
   "labels_anchors": false,
   "latex_user_defs": false,
   "report_style_numbering": false,
   "user_envs_cfg": false
  }
 },
 "nbformat": 4,
 "nbformat_minor": 2
}
