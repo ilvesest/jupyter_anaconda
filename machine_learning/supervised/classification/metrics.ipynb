{
 "cells": [
  {
   "cell_type": "code",
   "execution_count": 1,
   "metadata": {},
   "outputs": [],
   "source": [
    "from sklearn import datasets\n",
    "from sklearn.model_selection import train_test_split, cross_val_predict, GridSearchCV\n",
    "from sklearn.linear_model import LogisticRegression\n",
    "from sklearn.metrics import precision_recall_curve, roc_auc_score, roc_curve, f1_score, \\\n",
    "    classification_report, confusion_matrix\n",
    "from sklearn.ensemble import GradientBoostingClassifier\n",
    "import pandas as pd\n",
    "import matplotlib.pyplot as plt\n",
    "import seaborn as sns\n",
    "import numpy as np\n",
    "import mglearn"
   ]
  },
  {
   "cell_type": "markdown",
   "metadata": {},
   "source": [
    "# Metrics for Binary Classification\n",
    "\n",
    " * For **binary** classification, we often speak of a **positive class** and a **negative class**, with the understanding that the positive class is the one we are looking for.\n",
    " * Often, accuracy is not a good measure of predictive performance. Consider this: Let us assume 99% of emails are real and 1% is spam. If we create a model which predicts the emails to be 100% real we would essentially get 99% accurate model, which is in this case would be useless for us since it does not predict any spam emails.\n",
    " \n",
    "**Logistic Regression Demo**"
   ]
  },
  {
   "cell_type": "code",
   "execution_count": 2,
   "metadata": {},
   "outputs": [
    {
     "name": "stdout",
     "output_type": "stream",
     "text": [
      "Logistic Regression accuracy: 0.978\n"
     ]
    }
   ],
   "source": [
    "# data where target is number 9\n",
    "digits = datasets.load_digits()\n",
    "\n",
    "X = digits.data\n",
    "y = digits.target == 9\n",
    "\n",
    "X_train, X_test, y_train, y_test = train_test_split(X, y, random_state=0)\n",
    "\n",
    "# init, train, predict\n",
    "logi_reg = LogisticRegression(C=0.1, solver='liblinear').fit(X_train, y_train)\n",
    "y_pred = logi_reg.predict(X_test)\n",
    "print(\"Logistic Regression accuracy: {:.3f}\".format(logi_reg.score(X_test, y_test)))"
   ]
  },
  {
   "cell_type": "markdown",
   "metadata": {},
   "source": [
    "Let’s inspect the predictions of LogisticRegression using the confusion_matrix function."
   ]
  },
  {
   "cell_type": "code",
   "execution_count": 15,
   "metadata": {},
   "outputs": [
    {
     "name": "stdout",
     "output_type": "stream",
     "text": [
      "Confusion matrix:\n",
      "[[401   2]\n",
      " [  8  39]]\n"
     ]
    }
   ],
   "source": [
    "# confusion matrix\n",
    "confusion = confusion_matrix(y_test, y_pred)\n",
    "print(\"Confusion matrix:\\n{}\".format(confusion))"
   ]
  },
  {
   "cell_type": "markdown",
   "metadata": {},
   "source": [
    "## Confusion matrix\n",
    "\n",
    "The output of binary classification confusion_matrix is a two-by-two array, where the rows correspond to the true classes and the columns correspond to the predicted classes. Each entry counts how often a sample that belongs to the class corresponding to the row (here, “not nine” and “nine”) was classified as the class corresponding to the column. The following plot illustrates this meaning:\n",
    "\n",
    "<img src=\"img/conf.png\" alt=\"Drawing\" style=\"width: 400px;\"/>\n",
    "\n",
    "Entries on the main diagonal of the confusion matrix correspond to correct classifications, while other entries tell us how many samples of one class got mistakenly classified as another class. \n",
    "\n",
    "If we declare “a nine” the positive class, we can relate the entries of the confusion matrix with the terms false positive and false negative. To complete the picture, we call correctly classified samples belonging to the positive class true positives and correctly classified samples belonging to the negative class true negatives. These terms are usually abbreviated FP, FN, TP, and TN and lead to the following interpretation for the confusion matrix:\n",
    "\n",
    "<img src=\"img/conf2.png\" alt=\"Drawing\" style=\"width: 400px;\"/>"
   ]
  },
  {
   "cell_type": "markdown",
   "metadata": {},
   "source": [
    "Confusion matrices help determining which model classifies better."
   ]
  },
  {
   "cell_type": "markdown",
   "metadata": {},
   "source": [
    "## Accuracy\n",
    "\n",
    "We know that accuracy is the number of correct predictions (TP and TN) divided by the number of all samples:\n",
    "\n",
    "$$\\text{Accuracy} = \\frac{TP+TN}{TP+TN+FP+FN}$$"
   ]
  },
  {
   "cell_type": "markdown",
   "metadata": {},
   "source": [
    "## Precision\n",
    "\n",
    " * Precision measures how many of the samples predicted as positive are actually positive:\n",
    " \n",
    " $$\\text{Precision} = \\frac{TP}{TP+FP} $$\n",
    " <br>\n",
    " * Used as a performance metric when the goal is to **limit** the number of **false positives**.\n",
    " * Precision is also known as positive predictive value (PPV).\n",
    " \n",
    "## Recall\n",
    "\n",
    " * Measures how many of the positive samples are captured by the positive predictions:\n",
    " \n",
    " $$\\text{Recall} = \\frac{TP}{TP+FN} $$\n",
    " <br>\n",
    " * Used as performance metric when it is important to avoid false negatives.\n",
    " * Other names for recall are sensitivity, hit rate, or true positive rate (TPR)\n",
    " \n",
    "**NB!** In the machine learning community, precision and recall are arguably the most commonly used\n",
    "measures for binary classification, but other communities might use other related metrics."
   ]
  },
  {
   "cell_type": "markdown",
   "metadata": {},
   "source": [
    "There is a trade-off between optimizing recall and optimizing precision. while precision and recall are very important measures, looking at only one of them will not provide you with the full picture. \n",
    "\n",
    "## f1-score\n",
    "\n",
    " * One way to summarize them is the **f-score** or f-measure, which is with the harmonic mean of precision and recall:\n",
    " \n",
    " $$ \\text{F}_1 = 2 \\cdot \\frac{\\text{precision}\\cdot \\text{recall}}{\\text{precision}+\\text{recall}}$$\n",
    "<br>\n",
    "* The $F_1$ score favors classifiers that have similar precision and recall.\n",
    "\n",
    "Let’s run it on the predictions for the “nine vs. rest” dataset that we computed earlier. Here, we will assume that the “nine” class is the positive class (it is labeled as True while the rest is labeled as False ), so the positive class is the minority class:"
   ]
  },
  {
   "cell_type": "code",
   "execution_count": 17,
   "metadata": {},
   "outputs": [
    {
     "name": "stdout",
     "output_type": "stream",
     "text": [
      "f1 score logistic regression: 0.886\n"
     ]
    }
   ],
   "source": [
    "print(\"f1 score logistic regression: {:.3f}\".format(f1_score(y_test, y_pred)))"
   ]
  },
  {
   "cell_type": "markdown",
   "metadata": {},
   "source": [
    " * A disadvantage of the f-score, however, is that it is harder to interpret and explain than accuracy."
   ]
  },
  {
   "cell_type": "markdown",
   "metadata": {},
   "source": [
    "## Precision-Recall Tradeoff\n",
    "\n",
    "* For each instance, classifier computes a score based on a `decision function`\n",
    "* if `decision function` score is greater than a threshold, it assigns the instance to the positive class, or else it assigns it to the negative class.\n",
    "* image below brings an example about different threshold values from digit recognition classifier, classifier detects 'not fives' and 'fives'\n",
    "\n",
    "\n",
    "<img src=\"img/precrec.png\" alt=\"Drawing\" style=\"width: 600px;\"/>\n",
    "\n",
    "* increasing thrshold increases precision but lowers recall\n",
    "* we cannot set threshold directly in **sklearn** but have access to decision scores which clssifier uses to make predicitons\n",
    "* we can set a threshold mask on these decision function values "
   ]
  },
  {
   "cell_type": "code",
   "execution_count": 3,
   "metadata": {},
   "outputs": [
    {
     "name": "stdout",
     "output_type": "stream",
     "text": [
      "Last 5 y_test true values (True == 9):\n",
      "[False False False False  True]\n",
      "\n",
      "Last 5 predicted values (threshold = 0):\n",
      "[False False False False  True]\n",
      "\n",
      "Last 5 predicted values (threshold = 2000):\n",
      "[False False False False False]\n"
     ]
    }
   ],
   "source": [
    "print('Last 5 y_test true values (True == 9):\\n{}'.format(y_test[-5:]))\n",
    "\n",
    "threshold=0\n",
    "y_score_9 = logi_reg.decision_function(X_test[-5:])\n",
    "y_pred_9 = (y_score_9 > threshold)\n",
    "print('\\nLast 5 predicted values (threshold = 0):\\n{}'.format(y_pred_9))\n",
    "\n",
    "threshold = 2000\n",
    "y_pred_9 = (y_score_9 > threshold)\n",
    "print('\\nLast 5 predicted values (threshold = 2000):\\n{}'.format(y_pred_9))"
   ]
  },
  {
   "cell_type": "markdown",
   "metadata": {},
   "source": [
    "* This confirms that raising the threshold decreases recall\n",
    "* How to determine which thresholds to use?\n",
    "* Need to get decision_function scores for all instances in the training_set using `cross_val_predict`"
   ]
  },
  {
   "cell_type": "code",
   "execution_count": 4,
   "metadata": {},
   "outputs": [],
   "source": [
    "# create cross_val_predict for 9-detector training set\n",
    "y_scores_9 = cross_val_predict(logi_reg, X_train, y_train, cv=3, \n",
    "                               method='decision_function')\n",
    "\n",
    "# compute precision and recall for all possible thresholds\n",
    "precisions, recalls, thresholds = precision_recall_curve(y_train, y_scores_9)"
   ]
  },
  {
   "cell_type": "markdown",
   "metadata": {},
   "source": [
    "* Plot the precision and recall as a function of threshold value"
   ]
  },
  {
   "cell_type": "code",
   "execution_count": 18,
   "metadata": {},
   "outputs": [
    {
     "data": {
      "image/png": "[encoded data removed]",
      "text/plain": [
       "<Figure size 720x432 with 1 Axes>"
      ]
     },
     "metadata": {
      "needs_background": "light"
     },
     "output_type": "display_data"
    }
   ],
   "source": [
    "plt.figure(figsize=(10, 6))\n",
    "plt.plot(thresholds, precisions[:-1], \"b--\", label='Precision')\n",
    "plt.plot(thresholds, recalls[:-1], \"g-\", label='Recall')\n",
    "plt.title('Precision & Recall against Thresholds', weight='bold')\n",
    "plt.xlabel('Thresholds')\n",
    "plt.legend(loc='center right')\n",
    "plt.show()"
   ]
  },
  {
   "cell_type": "markdown",
   "metadata": {},
   "source": [
    "* from the plot we can find the threshold value we need to set in order to achieve preferred precision pr recall.\n",
    "* another way, we can plot precision against recall"
   ]
  },
  {
   "cell_type": "code",
   "execution_count": 21,
   "metadata": {},
   "outputs": [
    {
     "data": {
      "image/png": "[encoded data removed]",
      "text/plain": [
       "<Figure size 720x432 with 1 Axes>"
      ]
     },
     "metadata": {
      "needs_background": "light"
     },
     "output_type": "display_data"
    }
   ],
   "source": [
    "plt.figure(figsize=(10, 6))\n",
    "plt.plot(recalls, precisions)\n",
    "plt.xlabel('Recall', fontsize=14)\n",
    "plt.ylabel('Precision', fontsize=14)\n",
    "plt.title('Precision vs Recall', weight='bold', fontsize=16)\n",
    "plt.show()"
   ]
  },
  {
   "cell_type": "markdown",
   "metadata": {},
   "source": [
    "* let's assume we'd like to achive at minimum 90% precision, we would then select it on this plot"
   ]
  },
  {
   "cell_type": "code",
   "execution_count": 24,
   "metadata": {},
   "outputs": [
    {
     "data": {
      "image/png": "[encoded data removed]",
      "text/plain": [
       "<Figure size 720x432 with 1 Axes>"
      ]
     },
     "metadata": {
      "needs_background": "light"
     },
     "output_type": "display_data"
    }
   ],
   "source": [
    "prec_90_arg = np.argwhere(precisions > 0.9)[0][0]\n",
    "\n",
    "plt.figure(figsize=(10, 6))\n",
    "plt.plot(recalls, precisions, lw=3)\n",
    "plt.xticks(np.arange(0,1.1,0.1))\n",
    "plt.yticks(np.arange(0,1.1,0.1))\n",
    "plt.xlabel('Recall', fontsize=14)\n",
    "plt.ylabel('Precision', fontsize=14)\n",
    "plt.title('Precision vs Recall', weight='bold', fontsize=16)\n",
    "plt.plot([0, recalls[prec_90_arg]], [precisions[prec_90_arg], precisions[prec_90_arg]], c='gray', ls='--')\n",
    "plt.plot([recalls[prec_90_arg], recalls[prec_90_arg]], [0, precisions[prec_90_arg]], c='gray', ls='--')\n",
    "plt.annotate(s='Recall at 0.9 Precision', xytext=(0.5, 0.7),\n",
    "             xy=(precisions[prec_90_arg], recalls[prec_90_arg]),\n",
    "             arrowprops={'color':'k'}, fontsize=14)\n",
    "plt.show()"
   ]
  },
  {
   "cell_type": "markdown",
   "metadata": {},
   "source": [
    "## Classification Report\n",
    " * If we want a more comprehensive summary of precision, recall, and f 1 -score, we can use the classification_report convenience function to compute all three at once, and print them in a nice format:"
   ]
  },
  {
   "cell_type": "code",
   "execution_count": 19,
   "metadata": {},
   "outputs": [
    {
     "name": "stdout",
     "output_type": "stream",
     "text": [
      "              precision    recall  f1-score   support\n",
      "\n",
      "    not nine       0.98      1.00      0.99       403\n",
      "        nine       0.95      0.83      0.89        47\n",
      "\n",
      "   micro avg       0.98      0.98      0.98       450\n",
      "   macro avg       0.97      0.91      0.94       450\n",
      "weighted avg       0.98      0.98      0.98       450\n",
      "\n"
     ]
    }
   ],
   "source": [
    "print(classification_report(y_true=y_test, y_pred=y_pred, target_names=['not nine', 'nine']))"
   ]
  },
  {
   "cell_type": "markdown",
   "metadata": {},
   "source": [
    " * Setting a requirement on a classifier like 90% recall is often called setting the operating point. Fixing an operating point is often helpful in business settings to make performance guarantees to customers or other groups inside your organization.\n",
    " * Often, when developing a new model, it is not entirely clear what the operating point will be. For this reason, and to understand a modeling problem better, it is instructive to look at all possible thresholds, or all possible trade-offs of precision and recalls at once."
   ]
  },
  {
   "cell_type": "markdown",
   "metadata": {},
   "source": [
    "## ROC (Receiver Operating Characteristics) Curve\n",
    "\n",
    " * Visual evaluation of models contrary to confusion matrix and classification report.\n",
    " * Used to analyze the behavior of classifiers at different thresholds.\n",
    " * ROC curve considers all possible thresholds for a given classifier, it shows the false positive rate (FPR) against the true positive rate (TPR).\n",
    " * TPR == Recall\n",
    " * The false positive rate is the fraction of false positives out of all negative samples:\n",
    " $$\\text{FPR} = \\frac{FP}{FP+TN}$$\n",
    " <br>"
   ]
  },
  {
   "cell_type": "code",
   "execution_count": 26,
   "metadata": {},
   "outputs": [
    {
     "data": {
      "text/html": [
       "<div>\n",
       "<style scoped>\n",
       "    .dataframe tbody tr th:only-of-type {\n",
       "        vertical-align: middle;\n",
       "    }\n",
       "\n",
       "    .dataframe tbody tr th {\n",
       "        vertical-align: top;\n",
       "    }\n",
       "\n",
       "    .dataframe thead th {\n",
       "        text-align: right;\n",
       "    }\n",
       "</style>\n",
       "<table border=\"1\" class=\"dataframe\">\n",
       "  <thead>\n",
       "    <tr style=\"text-align: right;\">\n",
       "      <th></th>\n",
       "      <th>pregnancies</th>\n",
       "      <th>glucose</th>\n",
       "      <th>diastolic</th>\n",
       "      <th>triceps</th>\n",
       "      <th>insulin</th>\n",
       "      <th>bmi</th>\n",
       "      <th>dpf</th>\n",
       "      <th>age</th>\n",
       "      <th>diabetes</th>\n",
       "    </tr>\n",
       "  </thead>\n",
       "  <tbody>\n",
       "    <tr>\n",
       "      <th>0</th>\n",
       "      <td>6</td>\n",
       "      <td>148</td>\n",
       "      <td>72</td>\n",
       "      <td>35</td>\n",
       "      <td>0</td>\n",
       "      <td>33.6</td>\n",
       "      <td>0.627</td>\n",
       "      <td>50</td>\n",
       "      <td>1</td>\n",
       "    </tr>\n",
       "    <tr>\n",
       "      <th>1</th>\n",
       "      <td>1</td>\n",
       "      <td>85</td>\n",
       "      <td>66</td>\n",
       "      <td>29</td>\n",
       "      <td>0</td>\n",
       "      <td>26.6</td>\n",
       "      <td>0.351</td>\n",
       "      <td>31</td>\n",
       "      <td>0</td>\n",
       "    </tr>\n",
       "  </tbody>\n",
       "</table>\n",
       "</div>"
      ],
      "text/plain": [
       "   pregnancies  glucose  diastolic  triceps  insulin   bmi    dpf  age  \\\n",
       "0            6      148         72       35        0  33.6  0.627   50   \n",
       "1            1       85         66       29        0  26.6  0.351   31   \n",
       "\n",
       "   diabetes  \n",
       "0         1  \n",
       "1         0  "
      ]
     },
     "execution_count": 26,
     "metadata": {},
     "output_type": "execute_result"
    }
   ],
   "source": [
    "# import diabetes data\n",
    "diab = pd.read_csv('data/diabetes.csv', header=0)\n",
    "diab.head(2)"
   ]
  },
  {
   "cell_type": "code",
   "execution_count": 28,
   "metadata": {},
   "outputs": [
    {
     "data": {
      "text/plain": [
       "array([[0.6631067 , 0.3368933 ],\n",
       "       [0.77597349, 0.22402651]])"
      ]
     },
     "execution_count": 28,
     "metadata": {},
     "output_type": "execute_result"
    }
   ],
   "source": [
    "# data\n",
    "X = diab.drop('diabetes', axis=1)\n",
    "y = diab.diabetes\n",
    "\n",
    "X_train, X_test, y_train, y_test = train_test_split(X, y, random_state=42)\n",
    "\n",
    "# init, fit, predict probabilities\n",
    "logi_reg = LogisticRegression(solver='liblinear').fit(X_train, y_train)\n",
    "y_pred_proba = logi_reg.predict_proba(X_test)\n",
    "y_pred_proba[:2,] "
   ]
  },
  {
   "cell_type": "markdown",
   "metadata": {},
   "source": [
    "The classifier outputs a probability matrix of dimension (N,2). The first index refers to the probability that the data belong to class 0, and the second refers to the probability that the data belong to class 1. These two would sum to 1."
   ]
  },
  {
   "cell_type": "code",
   "execution_count": 95,
   "metadata": {
    "code_folding": []
   },
   "outputs": [
    {
     "data": {
      "image/png": "[encoded data removed]",
      "text/plain": [
       "<Figure size 864x504 with 1 Axes>"
      ]
     },
     "metadata": {},
     "output_type": "display_data"
    }
   ],
   "source": [
    "# extract probabilities that the patient has diabetes\n",
    "y_pred_prob = y_pred_proba[:,1]\n",
    "\n",
    "# Generate ROC curve values: fpr, tpr, thresholds\n",
    "fpr, tpr, thresholds = roc_curve(y_test, y_pred_prob)\n",
    "\n",
    "'''fpr - Increasing false positive rates such that element i \n",
    "       is the false positive rate of predictions with score >= thresholds[i].\n",
    "\n",
    "tpr - Increasing true positive rates such that element i \n",
    "       is the true positive rate of predictions with score >= thresholds[i].\n",
    "\n",
    "thresholds - Increasing true positive rates such that element i \n",
    "              is the true positive rate of predictions with score >= thresholds[i].'''\n",
    "\n",
    "# Plot ROC curve\n",
    "sns.set(style='whitegrid')\n",
    "plt.figure(figsize=[12,7])\n",
    "plt.plot([0, 1], [0, 0], 'k--')\n",
    "plt.plot([1, 1], [0, 1], 'k--')\n",
    "plt.plot(fpr, tpr, color='blue', label='ROC Curve')\n",
    "plt.xlabel('False Positive Rate')\n",
    "plt.ylabel('TPR (Recall)')\n",
    "plt.legend()\n",
    "plt.title('ROC Curve')\n",
    "plt.show()"
   ]
  },
  {
   "cell_type": "markdown",
   "metadata": {},
   "source": [
    "**The ideal curve is close to the top left: you want a classifier that produces a high recall while keeping a low false positive rate. Depending on the problem at hand this may vary.**"
   ]
  },
  {
   "cell_type": "markdown",
   "metadata": {},
   "source": [
    "* The ROC curve is similar to the Precision-Recall (PR) curve\n",
    "* Which one to use?\n",
    "* Opt for PR:\n",
    "    * whenever the positive class is rare\n",
    "    * when you care more about the false positives than the false negatives\n",
    "* Opt for ROC otherwise"
   ]
  },
  {
   "cell_type": "markdown",
   "metadata": {},
   "source": [
    "## AUC (Area Under ROC Curve)\n",
    "\n",
    " * We often want to summarize the ROC curve using single number, the area under the curve."
   ]
  },
  {
   "cell_type": "code",
   "execution_count": 77,
   "metadata": {},
   "outputs": [
    {
     "name": "stdout",
     "output_type": "stream",
     "text": [
      "Logistic Regression AUC: 0.803\n"
     ]
    }
   ],
   "source": [
    "logi_reg_auc = roc_auc_score(y_test, logi_reg.predict_proba(X_test)[:,1])\n",
    "\n",
    "print(\"Logistic Regression AUC: {:.3f}\".format(logi_reg_auc))"
   ]
  },
  {
   "cell_type": "code",
   "execution_count": 98,
   "metadata": {},
   "outputs": [
    {
     "data": {
      "image/png": "[encoded data removed]",
      "text/plain": [
       "<Figure size 864x504 with 1 Axes>"
      ]
     },
     "metadata": {},
     "output_type": "display_data"
    }
   ],
   "source": [
    "# Plot ROC curve with AUC colored\n",
    "sns.set(style='whitegrid')\n",
    "plt.figure(figsize=[12,7])\n",
    "plt.plot([0, 1], [0, 0], 'k--')\n",
    "plt.plot([1, 1], [0, 1], 'k--')\n",
    "plt.plot(fpr, tpr, color='blue', label='ROC Curve')\n",
    "plt.fill_between(fpr, tpr, alpha=0.25, color='red')\n",
    "plt.xlabel('False Positive Rate')\n",
    "plt.ylabel('TPR (Recall)')\n",
    "plt.legend()\n",
    "plt.title('ROC Curve colored AUC')\n",
    "plt.show()"
   ]
  },
  {
   "cell_type": "markdown",
   "metadata": {},
   "source": [
    " * Recall that because average precision is the area under a curve that goes from 0 to 1, average precision always returns a value between 0 (worst) and 1 (best). Predicting randomly always produces an AUC of 0.5, no matter how imbalanced the classes in a dataset are. This makes AUC a much better metric for imbalanced classification problems than accuracy.\n",
    " * If the AUC is greater than 0.5, the model is better than random guessing."
   ]
  },
  {
   "cell_type": "markdown",
   "metadata": {},
   "source": [
    "# Uncertainty Estimates\n",
    "\n",
    " * Two functions to obtain uncertainty estimates from classifiers: **decision_function** and **predict_proba**.\n",
    " * Most classifiers have one of them, some has both.\n",
    "\n",
    "Example on GradientBoostingClassifier, which has both estimate functions"
   ]
  },
  {
   "cell_type": "code",
   "execution_count": 12,
   "metadata": {},
   "outputs": [
    {
     "data": {
      "text/plain": [
       "GradientBoostingClassifier(criterion='friedman_mse', init=None,\n",
       "              learning_rate=0.1, loss='deviance', max_depth=3,\n",
       "              max_features=None, max_leaf_nodes=None,\n",
       "              min_impurity_decrease=0.0, min_impurity_split=None,\n",
       "              min_samples_leaf=1, min_samples_split=2,\n",
       "              min_weight_fraction_leaf=0.0, n_estimators=100,\n",
       "              n_iter_no_change=None, presort='auto', random_state=0,\n",
       "              subsample=1.0, tol=0.0001, validation_fraction=0.1,\n",
       "              verbose=0, warm_start=False)"
      ]
     },
     "execution_count": 12,
     "metadata": {},
     "output_type": "execute_result"
    }
   ],
   "source": [
    "# use synthetic data\n",
    "X, y = datasets.make_circles(noise=0.25, factor=0.5, random_state=1)\n",
    "\n",
    "# rename the classes \"blue\" and \"red\" for illustration purposes\n",
    "y_named = np.array([\"blue\", \"red\"])[y]\n",
    "\n",
    "# we can call train_test_split with arbitrarily many arrays;\n",
    "# all will be split in a consistent manner\n",
    "X_train, X_test, y_train_named, y_test_named, y_train, y_test = \\\n",
    "train_test_split(X, y_named, y, random_state=0)\n",
    "\n",
    "# build the gradient boosting model\n",
    "gbrt = GradientBoostingClassifier(random_state=0)\n",
    "gbrt.fit(X_train, y_train_named)"
   ]
  },
  {
   "cell_type": "markdown",
   "metadata": {},
   "source": [
    "## The Decision Function\n",
    "\n",
    " * In the binary classification case, the return value of decision_function is of shape (n_samples,)\n",
    " * it returns one floating-point number for each sample:"
   ]
  },
  {
   "cell_type": "code",
   "execution_count": 13,
   "metadata": {},
   "outputs": [
    {
     "name": "stdout",
     "output_type": "stream",
     "text": [
      "X_test.shape: (25, 2)\n",
      "Decision function shape: (25,)\n"
     ]
    }
   ],
   "source": [
    "print('X_test.shape: {}'.format(X_test.shape))\n",
    "print('Decision function shape: {}'.format(gbrt.decision_function(X_test).shape))"
   ]
  },
  {
   "cell_type": "markdown",
   "metadata": {},
   "source": [
    " * This value encodes how strongly the model believes a data point to belong to the “positive” class, in this case class 1. \n",
    " * Positive values indicate a preference for the positive class,\n",
    " * negative values indicate a preference for the “negative” (other) class.\n",
    " * For binary classification, the “negative” class is always the first entry of the classes_ attribute.\n",
    " * the “positive” class is the second entry of classes_."
   ]
  },
  {
   "cell_type": "code",
   "execution_count": 25,
   "metadata": {},
   "outputs": [
    {
     "name": "stdout",
     "output_type": "stream",
     "text": [
      "Decision function:\n",
      "[ 4.136 -1.702 -3.951 -3.626  4.29   3.662]\n",
      "\n",
      "Is red:\n",
      "[ True False False False  True  True]\n",
      "\n",
      "Predictions:\n",
      "['red' 'blue' 'blue' 'blue' 'red' 'red']\n"
     ]
    }
   ],
   "source": [
    "# show the first few entries of decision_function\n",
    "print('Decision function:\\n{}'.format(np.array([round(i, 3) for i in gbrt.decision_function(X_test)[:6]])))\n",
    "\n",
    "# we can encode entries by sign and recover model predicitons\n",
    "print(\"\\nIs red:\\n{}\".format((gbrt.decision_function(X_test) > 0)[:6]))\n",
    "\n",
    "# printing predicitons\n",
    "print(\"\\nPredictions:\\n{}\".format(gbrt.predict(X_test)[:6]))"
   ]
  },
  {
   "cell_type": "markdown",
   "metadata": {},
   "source": [
    "The range of decision_function can be arbitrary, and depends on the data and the model parameters:"
   ]
  },
  {
   "cell_type": "code",
   "execution_count": 31,
   "metadata": {},
   "outputs": [
    {
     "name": "stdout",
     "output_type": "stream",
     "text": [
      "Decision function minimum: -7.69\n",
      "Decision function maximum: 4.29\n"
     ]
    }
   ],
   "source": [
    "dec_func = gbrt.decision_function(X_test)\n",
    "print(\"Decision function minimum: {:.2f}\\nDecision function maximum: {:.2f}\".format(np.min(dec_func), \n",
    "                                                                  np.max(dec_func)))"
   ]
  },
  {
   "cell_type": "markdown",
   "metadata": {},
   "source": [
    " * This arbitrary scaling makes the output of decision_function often hard to interpret."
   ]
  },
  {
   "cell_type": "markdown",
   "metadata": {},
   "source": [
    "## Predicting Probabilities\n",
    "\n",
    " * The output of predict_proba is a probability for each class, and is often more easily understood than the output of decision_function.\n",
    " * It is always of shape (n_samples, 2) for binary classification:"
   ]
  },
  {
   "cell_type": "code",
   "execution_count": 35,
   "metadata": {},
   "outputs": [
    {
     "name": "stdout",
     "output_type": "stream",
     "text": [
      "Shape of probabilities: (25, 2)\n"
     ]
    }
   ],
   "source": [
    "print(\"Shape of probabilities: {}\".format(gbrt.predict_proba(X_test).shape))"
   ]
  },
  {
   "cell_type": "markdown",
   "metadata": {},
   "source": [
    " * The first entry in each row is the estimated probability of the first class\n",
    " * the second entry is the estimated probability of the second class. \n",
    " * The output of predict_proba is always between 0 and 1.\n",
    " * The sum of the entries for both classes is always 1."
   ]
  },
  {
   "cell_type": "code",
   "execution_count": 44,
   "metadata": {},
   "outputs": [
    {
     "name": "stdout",
     "output_type": "stream",
     "text": [
      "Predicted probabilities:\n",
      "\n",
      "[[0.016 0.984]\n",
      " [0.846 0.154]\n",
      " [0.981 0.019]\n",
      " [0.974 0.026]\n",
      " [0.014 0.986]\n",
      " [0.025 0.975]]\n"
     ]
    }
   ],
   "source": [
    "# show the first few entries of predict_proba\n",
    "print('Predicted probabilities:\\n\\n{}'.format(np.array( \\\n",
    "    [[round(i[0], 3), round(i[1], 3)] for i in gbrt.predict_proba(X_test)[:6]])))"
   ]
  },
  {
   "cell_type": "markdown",
   "metadata": {},
   "source": [
    " * the classifier is relatively certain for most points.\n",
    " * Because the probabilities are floating point numbers, almost always one class exceeds 50% certainty. That class will be predicted.\n",
    " * If the certainty would be equal, the class is chosen at random!\n",
    " * A model that is more overfitted tends to make more certain predictions, even if they might be wrong.\n",
    " * A model with less complexity usually has more uncertainty in its predictions.\n",
    " * A model is called calibrated if the reported uncertainty actually matches how correct it is—in a calibrated model, a prediction made with 70% certainty would be correct 70% of the time."
   ]
  },
  {
   "cell_type": "markdown",
   "metadata": {},
   "source": [
    "# Metrics for Multiclass Classification\n",
    "\n",
    "* Most of the metrics that apply for binary case do apply for multiclass case as well."
   ]
  },
  {
   "cell_type": "markdown",
   "metadata": {},
   "source": [
    "## Confusion Matrix\n",
    "\n",
    "1. Extract best parameters with GridSearchCV\n",
    "2. Measure best model generalization accuracy\n",
    "3. Construct confusion matrix with best params"
   ]
  },
  {
   "cell_type": "code",
   "execution_count": 6,
   "metadata": {},
   "outputs": [
    {
     "name": "stdout",
     "output_type": "stream",
     "text": [
      "Best parameters: {'C': 0.2782559402207126, 'penalty': 'l1'}\n"
     ]
    }
   ],
   "source": [
    "# 1. Finding best parameters\n",
    "digits = datasets.load_digits()\n",
    "X = digits.data\n",
    "y = digits.target\n",
    "\n",
    "X_trainval, X_test, y_trainval, y_test = train_test_split(X, y, random_state=0)\n",
    "X_train, X_val, y_train, y_val = train_test_split(X_trainval, y_trainval, random_state=1)\n",
    "\n",
    "C_space = np.logspace(-5, 5, 10)\n",
    "\n",
    "param_grid = {'C':C_space, 'penalty':['l1', 'l2']}\n",
    "\n",
    "clf = LogisticRegression(solver='liblinear', multi_class='auto')\n",
    "clf_cv = GridSearchCV(clf, param_grid=param_grid, cv=5,\n",
    "                     iid=False, return_train_score=False).fit(X_train, y_train)\n",
    "\n",
    "print(\"Best parameters: {}\".format(clf_cv.best_params_))"
   ]
  },
  {
   "cell_type": "code",
   "execution_count": 9,
   "metadata": {},
   "outputs": [
    {
     "name": "stdout",
     "output_type": "stream",
     "text": [
      "Accuracy: 0.953\n",
      "Confusion matrix:\n",
      "[[37  0  0  0  0  0  0  0  0  0]\n",
      " [ 0 40  0  0  0  0  1  0  2  0]\n",
      " [ 0  0 43  1  0  0  0  0  0  0]\n",
      " [ 0  0  0 43  0  0  0  0  1  1]\n",
      " [ 0  0  0  0 37  0  0  1  0  0]\n",
      " [ 0  1  0  0  0 47  0  0  0  0]\n",
      " [ 0  1  0  0  0  0 51  0  0  0]\n",
      " [ 0  1  0  0  1  0  0 46  0  0]\n",
      " [ 0  3  1  0  0  1  0  0 43  0]\n",
      " [ 0  0  0  1  0  1  0  0  3 42]]\n"
     ]
    }
   ],
   "source": [
    "# 2. Rebuild the model with optimum paramters\n",
    "clf_opted = LogisticRegression(**clf_cv.best_params_, solver='liblinear',\n",
    "                              multi_class='auto').fit(X_trainval, y_trainval)\n",
    "\n",
    "y_pred = clf_opted.predict(X_test)\n",
    "\n",
    "print('Accuracy: {:.3f}'.format(clf_opted.score(X_test, y_test)))\n",
    "print('Confusion matrix:\\n{}'.format(confusion_matrix(y_test, y_pred)))"
   ]
  },
  {
   "cell_type": "code",
   "execution_count": 13,
   "metadata": {},
   "outputs": [
    {
     "data": {
      "image/png": "[encoded data removed]",
      "text/plain": [
       "<Figure size 432x432 with 1 Axes>"
      ]
     },
     "metadata": {
      "needs_background": "light"
     },
     "output_type": "display_data"
    }
   ],
   "source": [
    "# visually more appealing:\n",
    "plt.figure(figsize=(6,6))\n",
    "scores_image = mglearn.tools.heatmap(\n",
    "    confusion_matrix(y_test, y_pred), xlabel='Predicted label',\n",
    "    ylabel='True label', xticklabels=digits.target_names,\n",
    "    yticklabels=digits.target_names, cmap=plt.cm.gray_r, fmt=\"%d\")\n",
    "plt.title(\"Confusion matrix\")\n",
    "plt.gca().invert_yaxis()\n",
    "plt.show()"
   ]
  },
  {
   "cell_type": "markdown",
   "metadata": {},
   "source": [
    "* For the first class (number 0) all 37 entries were correctly predicted. (All 0s in top row))\n",
    "* No other classes (numbers) were mistakenly classified as 0. (All 0s in first column)\n",
    "* The digit 8 was three times mistakenly labeld as digit 1"
   ]
  },
  {
   "cell_type": "markdown",
   "metadata": {},
   "source": [
    "## Uncertainty in Multiclass Classification\n",
    "\n",
    "### Classification Report\n",
    "Explore this on iris dataset, which has 3 classes:"
   ]
  },
  {
   "cell_type": "code",
   "execution_count": 64,
   "metadata": {},
   "outputs": [
    {
     "name": "stdout",
     "output_type": "stream",
     "text": [
      "Decision function:\n",
      "[[-0.53  1.47 -0.5 ]\n",
      " [ 1.51 -0.5  -0.5 ]\n",
      " [-0.52 -0.47  1.52]\n",
      " [-0.53  1.47 -0.5 ]\n",
      " [-0.53  1.28  0.22]\n",
      " [ 1.51 -0.5  -0.5 ]]\n",
      "\n",
      "Maximum scores:\n",
      "[1 0 2 1 1 0]\n"
     ]
    }
   ],
   "source": [
    "iris = datasets.load_iris()\n",
    "\n",
    "X = iris.data\n",
    "y = iris.target\n",
    "\n",
    "X_train, X_test, y_train, y_test = train_test_split(X, y, random_state=42)\n",
    "\n",
    "gbrt = GradientBoostingClassifier(learning_rate=0.01, random_state=0).fit(X_train, y_train)\n",
    "\n",
    "decision_func = gbrt.decision_function(X_test)\n",
    "dec_vals = np.array([[round(i, 2) for i in j] for j in decision_func[:6, :]])\n",
    "\n",
    "# print decision functions\n",
    "print(\"Decision function:\\n{}\".format(dec_vals))\n",
    "\n",
    "# print predicitons\n",
    "print(\"\\nMaximum scores:\\n{}\".format(np.argmax(decision_func[:6, :], axis=1)))"
   ]
  },
  {
   "cell_type": "code",
   "execution_count": 65,
   "metadata": {},
   "outputs": [
    {
     "name": "stdout",
     "output_type": "stream",
     "text": [
      "Probabilities:\n",
      "[[0.107 0.784 0.109]\n",
      " [0.789 0.106 0.105]\n",
      " [0.102 0.108 0.789]\n",
      " [0.107 0.784 0.109]\n",
      " [0.108 0.663 0.228]\n",
      " [0.789 0.106 0.105]]\n"
     ]
    }
   ],
   "source": [
    "# predicted probabilities\n",
    "probs = np.array([[round(i, 3) for i in j] for j in gbrt.predict_proba(X_test)[:6, :]])\n",
    "print(\"Probabilities:\\n{}\".format(probs))"
   ]
  },
  {
   "cell_type": "code",
   "execution_count": 14,
   "metadata": {},
   "outputs": [
    {
     "name": "stdout",
     "output_type": "stream",
     "text": [
      "Classification report\n",
      "\n",
      "              precision    recall  f1-score   support\n",
      "\n",
      "           0       1.00      1.00      1.00        37\n",
      "           1       0.87      0.93      0.90        43\n",
      "           2       0.98      0.98      0.98        44\n",
      "           3       0.96      0.96      0.96        45\n",
      "           4       0.97      0.97      0.97        38\n",
      "           5       0.96      0.98      0.97        48\n",
      "           6       0.98      0.98      0.98        52\n",
      "           7       0.98      0.96      0.97        48\n",
      "           8       0.88      0.90      0.89        48\n",
      "           9       0.98      0.89      0.93        47\n",
      "\n",
      "   micro avg       0.95      0.95      0.95       450\n",
      "   macro avg       0.95      0.95      0.95       450\n",
      "weighted avg       0.95      0.95      0.95       450\n",
      "\n"
     ]
    }
   ],
   "source": [
    "print('Classification report\\n')\n",
    "print(classification_report(y_test, y_pred))"
   ]
  },
  {
   "cell_type": "code",
   "execution_count": null,
   "metadata": {},
   "outputs": [],
   "source": []
  }
 ],
 "metadata": {
  "kernelspec": {
   "display_name": "Python 3",
   "language": "python",
   "name": "python3"
  },
  "language_info": {
   "codemirror_mode": {
    "name": "ipython",
    "version": 3
   },
   "file_extension": ".py",
   "mimetype": "text/x-python",
   "name": "python",
   "nbconvert_exporter": "python",
   "pygments_lexer": "ipython3",
   "version": "3.7.5"
  },
  "latex_envs": {
   "LaTeX_envs_menu_present": true,
   "autoclose": true,
   "autocomplete": true,
   "bibliofile": "biblio.bib",
   "cite_by": "apalike",
   "current_citInitial": 1,
   "eqLabelWithNumbers": true,
   "eqNumInitial": 1,
   "hotkeys": {
    "equation": "Ctrl-E",
    "itemize": "Ctrl-I"
   },
   "labels_anchors": false,
   "latex_user_defs": false,
   "report_style_numbering": false,
   "user_envs_cfg": false
  },
  "toc": {
   "base_numbering": 1,
   "nav_menu": {},
   "number_sections": true,
   "sideBar": true,
   "skip_h1_title": false,
   "title_cell": "Table of Contents",
   "title_sidebar": "Contents",
   "toc_cell": false,
   "toc_position": {
    "height": "calc(100% - 180px)",
    "left": "10px",
    "top": "150px",
    "width": "259.8px"
   },
   "toc_section_display": true,
   "toc_window_display": true
  }
 },
 "nbformat": 4,
 "nbformat_minor": 2
}
