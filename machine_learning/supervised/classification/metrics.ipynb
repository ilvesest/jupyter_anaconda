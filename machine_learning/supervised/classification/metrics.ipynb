{
 "cells": [
  {
   "cell_type": "code",
   "execution_count": 76,
   "metadata": {},
   "outputs": [],
   "source": [
    "from sklearn import datasets\n",
    "from sklearn.model_selection import train_test_split\n",
    "from sklearn.metrics import confusion_matrix\n",
    "from sklearn.linear_model import LogisticRegression\n",
    "from sklearn.metrics import f1_score\n",
    "from sklearn.metrics import classification_report\n",
    "from sklearn.metrics import precision_recall_curve\n",
    "from sklearn.metrics import roc_curve\n",
    "from sklearn.metrics import roc_auc_score\n",
    "import pandas as pd\n",
    "import matplotlib.pyplot as plt\n",
    "import seaborn as sns\n",
    "import numpy as np"
   ]
  },
  {
   "cell_type": "markdown",
   "metadata": {},
   "source": [
    "# Metrics for Binary Classification\n",
    "\n",
    " * For **binary** classification, we often speak of a **positive class** and a **negative class**, with the understanding that the positive class is the one we are looking for.\n",
    " * Often, accuracy is not a good measure of predictive performance. Consider this: Let us assume 99% of emails are real and 1% is spam. If we create a model which predicts the emails to be 100% real we would essentially get 99% accurate model, which is in this case would be useless for us since it does not predict any spam emails.\n",
    " \n",
    "#### Let's use Logistic Regression for demo"
   ]
  },
  {
   "cell_type": "code",
   "execution_count": 14,
   "metadata": {},
   "outputs": [
    {
     "name": "stdout",
     "output_type": "stream",
     "text": [
      "Logistic Regression accuracy: 0.978\n"
     ]
    }
   ],
   "source": [
    "# data where target is number 9\n",
    "digits = datasets.load_digits()\n",
    "\n",
    "X = digits.data\n",
    "y = digits.target == 9\n",
    "\n",
    "X_train, X_test, y_train, y_test = train_test_split(X, y, random_state=0)\n",
    "\n",
    "# init, train, predict\n",
    "logi_reg = LogisticRegression(C=0.1, solver='liblinear').fit(X_train, y_train)\n",
    "y_pred = logi_reg.predict(X_test)\n",
    "print(\"Logistic Regression accuracy: {:.3f}\".format(logi_reg.score(X_test, y_test)))"
   ]
  },
  {
   "cell_type": "markdown",
   "metadata": {},
   "source": [
    "Let’s inspect the predictions of LogisticRegression using the confusion_matrix function."
   ]
  },
  {
   "cell_type": "code",
   "execution_count": 15,
   "metadata": {},
   "outputs": [
    {
     "name": "stdout",
     "output_type": "stream",
     "text": [
      "Confusion matrix:\n",
      "[[401   2]\n",
      " [  8  39]]\n"
     ]
    }
   ],
   "source": [
    "# confusion matrix\n",
    "confusion = confusion_matrix(y_test, y_pred)\n",
    "print(\"Confusion matrix:\\n{}\".format(confusion))"
   ]
  },
  {
   "cell_type": "markdown",
   "metadata": {},
   "source": [
    "## Confusion matrix\n",
    "\n",
    "The output of binary classification confusion_matrix is a two-by-two array, where the rows correspond to the true classes and the columns correspond to the predicted classes. Each entry counts how often a sample that belongs to the class corresponding to the row (here, “not nine” and “nine”) was classified as the class corresponding to the column. The following plot illustrates this meaning:\n",
    "\n",
    "<img src=\"img/conf.png\" alt=\"Drawing\" style=\"width: 400px;\"/>\n",
    "\n",
    "Entries on the main diagonal of the confusion matrix correspond to correct classifications, while other entries tell us how many samples of one class got mistakenly classified as another class. \n",
    "\n",
    "If we declare “a nine” the positive class, we can relate the entries of the confusion matrix with the terms false positive and false negative. To complete the picture, we call correctly classified samples belonging to the positive class true positives and correctly classified samples belonging to the negative class true negatives. These terms are usually abbreviated FP, FN, TP, and TN and lead to the following interpretation for the confusion matrix:\n",
    "\n",
    "<img src=\"img/conf2.png\" alt=\"Drawing\" style=\"width: 400px;\"/>"
   ]
  },
  {
   "cell_type": "markdown",
   "metadata": {},
   "source": [
    "Confusion matrices help determining which model classifies better."
   ]
  },
  {
   "cell_type": "markdown",
   "metadata": {},
   "source": [
    "### Accuracy\n",
    "\n",
    "We know that accuracy is the number of correct predictions (TP and TN) divided by the number of all samples:\n",
    "$$\\text{Accuracy} = \\frac{TP+TN}{TP+TN+FP+FN}$$"
   ]
  },
  {
   "cell_type": "markdown",
   "metadata": {},
   "source": [
    "### Precision\n",
    "\n",
    " * Precision measures how many of the samples predicted as positive are actually positive:\n",
    " \n",
    " $$\\text{Precision} = \\frac{TP}{TP+FP} $$\n",
    " <br>\n",
    " * Used as a performance metric when the goal is to **limit** the number of **false positives**.\n",
    " * Precision is also known as positive predictive value (PPV).\n",
    " \n",
    "### Recall\n",
    "\n",
    " * Measures how many of the positive samples are captured by the positive predictions:\n",
    " \n",
    " $$\\text{Recall} = \\frac{TP}{TP+FN} $$\n",
    " <br>\n",
    " * Used as performance metric when it is important to avoid false negatives.\n",
    " * Other names for recall are sensitivity, hit rate, or true positive rate (TPR)\n",
    " \n",
    "**NB!** In the machine learning community, precision and recall are arguably the most commonly used\n",
    "measures for binary classification, but other communities might use other related metrics."
   ]
  },
  {
   "cell_type": "markdown",
   "metadata": {},
   "source": [
    "There is a trade-off between optimizing recall and optimizing precision. while precision and recall are very important measures, looking at only one of them will not provide you with the full picture. \n",
    "\n",
    "### f-score\n",
    "\n",
    " * One way to summarize them is the **f-score** or f-measure, which is with the harmonic mean of precision and recall:\n",
    " \n",
    " $$ \\text{F} = 2 \\cdot \\frac{\\text{precision}\\cdot \\text{recall}}{\\text{precision}+\\text{recall}}$$\n",
    "<br>\n",
    "Let’s run it on the predictions for the “nine vs. rest” dataset that we computed earlier. Here, we will assume that the “nine” class is the positive class (it is labeled as True while the rest is labeled as False ), so the positive class is the minority class:"
   ]
  },
  {
   "cell_type": "code",
   "execution_count": 17,
   "metadata": {},
   "outputs": [
    {
     "name": "stdout",
     "output_type": "stream",
     "text": [
      "f1 score logistic regression: 0.886\n"
     ]
    }
   ],
   "source": [
    "print(\"f1 score logistic regression: {:.3f}\".format(f1_score(y_test, y_pred)))"
   ]
  },
  {
   "cell_type": "markdown",
   "metadata": {},
   "source": [
    " * A disadvantage of the f-score, however, is that it is harder to interpret and explain than accuracy."
   ]
  },
  {
   "cell_type": "markdown",
   "metadata": {},
   "source": [
    "### Classification Report\n",
    " * If we want a more comprehensive summary of precision, recall, and f 1 -score, we can use the classification_report convenience function to compute all three at once, and print them in a nice format:"
   ]
  },
  {
   "cell_type": "code",
   "execution_count": 19,
   "metadata": {},
   "outputs": [
    {
     "name": "stdout",
     "output_type": "stream",
     "text": [
      "              precision    recall  f1-score   support\n",
      "\n",
      "    not nine       0.98      1.00      0.99       403\n",
      "        nine       0.95      0.83      0.89        47\n",
      "\n",
      "   micro avg       0.98      0.98      0.98       450\n",
      "   macro avg       0.97      0.91      0.94       450\n",
      "weighted avg       0.98      0.98      0.98       450\n",
      "\n"
     ]
    }
   ],
   "source": [
    "print(classification_report(y_true=y_test, y_pred=y_pred, target_names=['not nine', 'nine']))"
   ]
  },
  {
   "cell_type": "markdown",
   "metadata": {},
   "source": [
    " * Setting a requirement on a classifier like 90% recall is often called setting the operating point. Fixing an operating point is often helpful in business settings to make performance guarantees to customers or other groups inside your organization.\n",
    " * Often, when developing a new model, it is not entirely clear what the operating point will be. For this reason, and to understand a modeling problem better, it is instructive to look at all possible thresholds, or all possible trade-offs of precision and recalls at once."
   ]
  },
  {
   "cell_type": "markdown",
   "metadata": {},
   "source": [
    "### ROC (Receiver Operating Characteristics) Curve\n",
    "\n",
    " * Visual evaluation of models contrary to confusion matrix and classification report.\n",
    " * Used to analyze the behavior of classifiers at different thresholds.\n",
    " * ROC curve considers all possible thresholds for a given classifier, it shows the false positive rate (FPR) against the true positive rate (TPR).\n",
    " * TPR == Recall\n",
    " * The false positive rate is the fraction of false positives out of all negative samples:\n",
    " $$\\text{FPR} = \\frac{FP}{FP+TN}$$\n",
    " <br>"
   ]
  },
  {
   "cell_type": "code",
   "execution_count": 26,
   "metadata": {},
   "outputs": [
    {
     "data": {
      "text/html": [
       "<div>\n",
       "<style scoped>\n",
       "    .dataframe tbody tr th:only-of-type {\n",
       "        vertical-align: middle;\n",
       "    }\n",
       "\n",
       "    .dataframe tbody tr th {\n",
       "        vertical-align: top;\n",
       "    }\n",
       "\n",
       "    .dataframe thead th {\n",
       "        text-align: right;\n",
       "    }\n",
       "</style>\n",
       "<table border=\"1\" class=\"dataframe\">\n",
       "  <thead>\n",
       "    <tr style=\"text-align: right;\">\n",
       "      <th></th>\n",
       "      <th>pregnancies</th>\n",
       "      <th>glucose</th>\n",
       "      <th>diastolic</th>\n",
       "      <th>triceps</th>\n",
       "      <th>insulin</th>\n",
       "      <th>bmi</th>\n",
       "      <th>dpf</th>\n",
       "      <th>age</th>\n",
       "      <th>diabetes</th>\n",
       "    </tr>\n",
       "  </thead>\n",
       "  <tbody>\n",
       "    <tr>\n",
       "      <th>0</th>\n",
       "      <td>6</td>\n",
       "      <td>148</td>\n",
       "      <td>72</td>\n",
       "      <td>35</td>\n",
       "      <td>0</td>\n",
       "      <td>33.6</td>\n",
       "      <td>0.627</td>\n",
       "      <td>50</td>\n",
       "      <td>1</td>\n",
       "    </tr>\n",
       "    <tr>\n",
       "      <th>1</th>\n",
       "      <td>1</td>\n",
       "      <td>85</td>\n",
       "      <td>66</td>\n",
       "      <td>29</td>\n",
       "      <td>0</td>\n",
       "      <td>26.6</td>\n",
       "      <td>0.351</td>\n",
       "      <td>31</td>\n",
       "      <td>0</td>\n",
       "    </tr>\n",
       "  </tbody>\n",
       "</table>\n",
       "</div>"
      ],
      "text/plain": [
       "   pregnancies  glucose  diastolic  triceps  insulin   bmi    dpf  age  \\\n",
       "0            6      148         72       35        0  33.6  0.627   50   \n",
       "1            1       85         66       29        0  26.6  0.351   31   \n",
       "\n",
       "   diabetes  \n",
       "0         1  \n",
       "1         0  "
      ]
     },
     "execution_count": 26,
     "metadata": {},
     "output_type": "execute_result"
    }
   ],
   "source": [
    "# import diabetes data\n",
    "diab = pd.read_csv('data/diabetes.csv', header=0)\n",
    "diab.head(2)"
   ]
  },
  {
   "cell_type": "code",
   "execution_count": 28,
   "metadata": {},
   "outputs": [
    {
     "data": {
      "text/plain": [
       "array([[0.6631067 , 0.3368933 ],\n",
       "       [0.77597349, 0.22402651]])"
      ]
     },
     "execution_count": 28,
     "metadata": {},
     "output_type": "execute_result"
    }
   ],
   "source": [
    "# data\n",
    "X = diab.drop('diabetes', axis=1)\n",
    "y = diab.diabetes\n",
    "\n",
    "X_train, X_test, y_train, y_test = train_test_split(X, y, random_state=42)\n",
    "\n",
    "# init, fit, predict probabilities\n",
    "logi_reg = LogisticRegression(solver='liblinear').fit(X_train, y_train)\n",
    "y_pred_proba = logi_reg.predict_proba(X_test)\n",
    "y_pred_proba[:2,] "
   ]
  },
  {
   "cell_type": "markdown",
   "metadata": {},
   "source": [
    "The classifier outputs a probability matrix of dimension (N,2). The first index refers to the probability that the data belong to class 0, and the second refers to the probability that the data belong to class 1. These two would sum to 1."
   ]
  },
  {
   "cell_type": "code",
   "execution_count": 95,
   "metadata": {
    "code_folding": []
   },
   "outputs": [
    {
     "data": {
      "image/png": "[encoded data removed]",
      "text/plain": [
       "<Figure size 864x504 with 1 Axes>"
      ]
     },
     "metadata": {},
     "output_type": "display_data"
    }
   ],
   "source": [
    "# extract probabilities that the patient has diabetes\n",
    "y_pred_prob = y_pred_proba[:,1]\n",
    "\n",
    "# Generate ROC curve values: fpr, tpr, thresholds\n",
    "fpr, tpr, thresholds = roc_curve(y_test, y_pred_prob)\n",
    "\n",
    "'''fpr - Increasing false positive rates such that element i \n",
    "       is the false positive rate of predictions with score >= thresholds[i].\n",
    "\n",
    "tpr - Increasing true positive rates such that element i \n",
    "       is the true positive rate of predictions with score >= thresholds[i].\n",
    "\n",
    "thresholds - Increasing true positive rates such that element i \n",
    "              is the true positive rate of predictions with score >= thresholds[i].'''\n",
    "\n",
    "# Plot ROC curve\n",
    "sns.set(style='whitegrid')\n",
    "plt.figure(figsize=[12,7])\n",
    "plt.plot([0, 1], [0, 0], 'k--')\n",
    "plt.plot([1, 1], [0, 1], 'k--')\n",
    "plt.plot(fpr, tpr, color='blue', label='ROC Curve')\n",
    "plt.xlabel('False Positive Rate')\n",
    "plt.ylabel('TPR (Recall)')\n",
    "plt.legend()\n",
    "plt.title('ROC Curve')\n",
    "plt.show()"
   ]
  },
  {
   "cell_type": "markdown",
   "metadata": {},
   "source": [
    "**The ideal curve is close to the top left: you want a classifier that produces a high recall while keeping a low false positive rate. Depending on the problem at hand this may vary.**"
   ]
  },
  {
   "cell_type": "markdown",
   "metadata": {},
   "source": [
    "### AUC (Area Under ROC Curve)\n",
    "\n",
    " * We often want to summarize the ROC curve using single number, the area under the curve."
   ]
  },
  {
   "cell_type": "code",
   "execution_count": 77,
   "metadata": {},
   "outputs": [
    {
     "name": "stdout",
     "output_type": "stream",
     "text": [
      "Logistic Regression AUC: 0.803\n"
     ]
    }
   ],
   "source": [
    "logi_reg_auc = roc_auc_score(y_test, logi_reg.predict_proba(X_test)[:,1])\n",
    "\n",
    "print(\"Logistic Regression AUC: {:.3f}\".format(logi_reg_auc))"
   ]
  },
  {
   "cell_type": "code",
   "execution_count": 98,
   "metadata": {},
   "outputs": [
    {
     "data": {
      "image/png": "[encoded data removed]",
      "text/plain": [
       "<Figure size 864x504 with 1 Axes>"
      ]
     },
     "metadata": {},
     "output_type": "display_data"
    }
   ],
   "source": [
    "# Plot ROC curve with AUC colored\n",
    "sns.set(style='whitegrid')\n",
    "plt.figure(figsize=[12,7])\n",
    "plt.plot([0, 1], [0, 0], 'k--')\n",
    "plt.plot([1, 1], [0, 1], 'k--')\n",
    "plt.plot(fpr, tpr, color='blue', label='ROC Curve')\n",
    "plt.fill_between(fpr, tpr, alpha=0.25, color='red')\n",
    "plt.xlabel('False Positive Rate')\n",
    "plt.ylabel('TPR (Recall)')\n",
    "plt.legend()\n",
    "plt.title('ROC Curve colored AUC')\n",
    "plt.show()"
   ]
  },
  {
   "cell_type": "markdown",
   "metadata": {},
   "source": [
    " * Recall that because average precision is the area under a curve that goes from 0 to 1, average precision always returns a value between 0 (worst) and 1 (best). Predicting randomly always produces an AUC of 0.5, no matter how imbalanced the classes in a dataset are. This makes AUC a much better metric for imbalanced classification problems than accuracy.\n",
    " * If the AUC is greater than 0.5, the model is better than random guessing."
   ]
  },
  {
   "cell_type": "code",
   "execution_count": null,
   "metadata": {},
   "outputs": [],
   "source": []
  }
 ],
 "metadata": {
  "kernelspec": {
   "display_name": "Python 3",
   "language": "python",
   "name": "python3"
  },
  "language_info": {
   "codemirror_mode": {
    "name": "ipython",
    "version": 3
   },
   "file_extension": ".py",
   "mimetype": "text/x-python",
   "name": "python",
   "nbconvert_exporter": "python",
   "pygments_lexer": "ipython3",
   "version": "3.7.2"
  },
  "latex_envs": {
   "LaTeX_envs_menu_present": true,
   "autoclose": true,
   "autocomplete": true,
   "bibliofile": "biblio.bib",
   "cite_by": "apalike",
   "current_citInitial": 1,
   "eqLabelWithNumbers": true,
   "eqNumInitial": 1,
   "hotkeys": {
    "equation": "Ctrl-E",
    "itemize": "Ctrl-I"
   },
   "labels_anchors": false,
   "latex_user_defs": false,
   "report_style_numbering": false,
   "user_envs_cfg": false
  }
 },
 "nbformat": 4,
 "nbformat_minor": 2
}
