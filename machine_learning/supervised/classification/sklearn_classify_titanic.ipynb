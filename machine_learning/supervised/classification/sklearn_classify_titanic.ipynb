{
 "cells": [
  {
   "cell_type": "code",
   "execution_count": 879,
   "metadata": {},
   "outputs": [],
   "source": [
    "import pandas as pd\n",
    "import numpy as np\n",
    "import matplotlib.pyplot as plt\n",
    "from sklearn.base import BaseEstimator, TransformerMixin\n",
    "from sklearn.impute import SimpleImputer\n",
    "from sklearn.pipeline import Pipeline\n",
    "from sklearn.preprocessing import OneHotEncoder, StandardScaler\n",
    "from sklearn.compose import ColumnTransformer\n",
    "from sklearn.utils.estimator_checks import check_estimator\n",
    "from sklearn.model_selection import train_test_split, GridSearchCV, cross_val_score\n",
    "from sklearn.neighbors import KNeighborsClassifier\n",
    "from sklearn.linear_model import LogisticRegression\n",
    "from sklearn.svm import LinearSVC, SVC\n",
    "from sklearn.ensemble import RandomForestClassifier, GradientBoostingClassifier, \\\n",
    "    VotingClassifier, AdaBoostClassifier"
   ]
  },
  {
   "cell_type": "markdown",
   "metadata": {},
   "source": [
    "# Binary Classification on Titanic Dataset"
   ]
  },
  {
   "cell_type": "markdown",
   "metadata": {},
   "source": [
    "## Big Picture\n",
    "\n",
    "**Objective**: Predict if a passenger survived or not.<br>\n",
    "**Problem type**: Supervised machine learning.<br>\n",
    "**Performance measure**: Accuracy<br>\n",
    "**Assumptions**:<br>\n",
    "\n",
    "    1. Missing Cabins = person didn't have a cabin (lower class)\n",
    "    2. 'Ticket' feature is probably obsolete, so we do not include it into our models in any way"
   ]
  },
  {
   "cell_type": "markdown",
   "metadata": {},
   "source": [
    "## Get the Data\n",
    "\n",
    "* Data is stored in *\"data/titanic\"* folder\n",
    "* Data is divided into two files: *train.csv* and *test.csv*\n",
    "* Training data contains ground-truth on passenger survival (labelled)\n",
    "* Test data has no ground-truth on passenger survival (unlabelled)"
   ]
  },
  {
   "cell_type": "code",
   "execution_count": 2,
   "metadata": {},
   "outputs": [],
   "source": [
    "tit_train = pd.read_csv('data/titanic/train.csv', header=0)\n",
    "tit_test = pd.read_csv('data/titanic/test.csv', header=0)"
   ]
  },
  {
   "cell_type": "markdown",
   "metadata": {},
   "source": [
    "## Explore the Data (EDA)"
   ]
  },
  {
   "cell_type": "code",
   "execution_count": 4,
   "metadata": {},
   "outputs": [
    {
     "data": {
      "text/html": [
       "<div>\n",
       "<style scoped>\n",
       "    .dataframe tbody tr th:only-of-type {\n",
       "        vertical-align: middle;\n",
       "    }\n",
       "\n",
       "    .dataframe tbody tr th {\n",
       "        vertical-align: top;\n",
       "    }\n",
       "\n",
       "    .dataframe thead th {\n",
       "        text-align: right;\n",
       "    }\n",
       "</style>\n",
       "<table border=\"1\" class=\"dataframe\">\n",
       "  <thead>\n",
       "    <tr style=\"text-align: right;\">\n",
       "      <th></th>\n",
       "      <th>PassengerId</th>\n",
       "      <th>Survived</th>\n",
       "      <th>Pclass</th>\n",
       "      <th>Name</th>\n",
       "      <th>Sex</th>\n",
       "      <th>Age</th>\n",
       "      <th>SibSp</th>\n",
       "      <th>Parch</th>\n",
       "      <th>Ticket</th>\n",
       "      <th>Fare</th>\n",
       "      <th>Cabin</th>\n",
       "      <th>Embarked</th>\n",
       "    </tr>\n",
       "  </thead>\n",
       "  <tbody>\n",
       "    <tr>\n",
       "      <th>0</th>\n",
       "      <td>1</td>\n",
       "      <td>0</td>\n",
       "      <td>3</td>\n",
       "      <td>Braund, Mr. Owen Harris</td>\n",
       "      <td>male</td>\n",
       "      <td>22.0</td>\n",
       "      <td>1</td>\n",
       "      <td>0</td>\n",
       "      <td>A/5 21171</td>\n",
       "      <td>7.2500</td>\n",
       "      <td>NaN</td>\n",
       "      <td>S</td>\n",
       "    </tr>\n",
       "    <tr>\n",
       "      <th>1</th>\n",
       "      <td>2</td>\n",
       "      <td>1</td>\n",
       "      <td>1</td>\n",
       "      <td>Cumings, Mrs. John Bradley (Florence Briggs Th...</td>\n",
       "      <td>female</td>\n",
       "      <td>38.0</td>\n",
       "      <td>1</td>\n",
       "      <td>0</td>\n",
       "      <td>PC 17599</td>\n",
       "      <td>71.2833</td>\n",
       "      <td>C85</td>\n",
       "      <td>C</td>\n",
       "    </tr>\n",
       "    <tr>\n",
       "      <th>2</th>\n",
       "      <td>3</td>\n",
       "      <td>1</td>\n",
       "      <td>3</td>\n",
       "      <td>Heikkinen, Miss. Laina</td>\n",
       "      <td>female</td>\n",
       "      <td>26.0</td>\n",
       "      <td>0</td>\n",
       "      <td>0</td>\n",
       "      <td>STON/O2. 3101282</td>\n",
       "      <td>7.9250</td>\n",
       "      <td>NaN</td>\n",
       "      <td>S</td>\n",
       "    </tr>\n",
       "  </tbody>\n",
       "</table>\n",
       "</div>"
      ],
      "text/plain": [
       "   PassengerId  Survived  Pclass  \\\n",
       "0            1         0       3   \n",
       "1            2         1       1   \n",
       "2            3         1       3   \n",
       "\n",
       "                                                Name     Sex   Age  SibSp  \\\n",
       "0                            Braund, Mr. Owen Harris    male  22.0      1   \n",
       "1  Cumings, Mrs. John Bradley (Florence Briggs Th...  female  38.0      1   \n",
       "2                             Heikkinen, Miss. Laina  female  26.0      0   \n",
       "\n",
       "   Parch            Ticket     Fare Cabin Embarked  \n",
       "0      0         A/5 21171   7.2500   NaN        S  \n",
       "1      0          PC 17599  71.2833   C85        C  \n",
       "2      0  STON/O2. 3101282   7.9250   NaN        S  "
      ]
     },
     "execution_count": 4,
     "metadata": {},
     "output_type": "execute_result"
    }
   ],
   "source": [
    "tit_train.head(3)"
   ]
  },
  {
   "cell_type": "code",
   "execution_count": 30,
   "metadata": {},
   "outputs": [
    {
     "data": {
      "text/html": [
       "<div>\n",
       "<style scoped>\n",
       "    .dataframe tbody tr th:only-of-type {\n",
       "        vertical-align: middle;\n",
       "    }\n",
       "\n",
       "    .dataframe tbody tr th {\n",
       "        vertical-align: top;\n",
       "    }\n",
       "\n",
       "    .dataframe thead th {\n",
       "        text-align: right;\n",
       "    }\n",
       "</style>\n",
       "<table border=\"1\" class=\"dataframe\">\n",
       "  <thead>\n",
       "    <tr style=\"text-align: right;\">\n",
       "      <th></th>\n",
       "      <th>PassengerId</th>\n",
       "      <th>Pclass</th>\n",
       "      <th>Name</th>\n",
       "      <th>Sex</th>\n",
       "      <th>Age</th>\n",
       "      <th>SibSp</th>\n",
       "      <th>Parch</th>\n",
       "      <th>Ticket</th>\n",
       "      <th>Fare</th>\n",
       "      <th>Cabin</th>\n",
       "      <th>Embarked</th>\n",
       "    </tr>\n",
       "  </thead>\n",
       "  <tbody>\n",
       "    <tr>\n",
       "      <th>0</th>\n",
       "      <td>892</td>\n",
       "      <td>3</td>\n",
       "      <td>Kelly, Mr. James</td>\n",
       "      <td>male</td>\n",
       "      <td>34.5</td>\n",
       "      <td>0</td>\n",
       "      <td>0</td>\n",
       "      <td>330911</td>\n",
       "      <td>7.8292</td>\n",
       "      <td>NaN</td>\n",
       "      <td>Q</td>\n",
       "    </tr>\n",
       "    <tr>\n",
       "      <th>1</th>\n",
       "      <td>893</td>\n",
       "      <td>3</td>\n",
       "      <td>Wilkes, Mrs. James (Ellen Needs)</td>\n",
       "      <td>female</td>\n",
       "      <td>47.0</td>\n",
       "      <td>1</td>\n",
       "      <td>0</td>\n",
       "      <td>363272</td>\n",
       "      <td>7.0000</td>\n",
       "      <td>NaN</td>\n",
       "      <td>S</td>\n",
       "    </tr>\n",
       "    <tr>\n",
       "      <th>2</th>\n",
       "      <td>894</td>\n",
       "      <td>2</td>\n",
       "      <td>Myles, Mr. Thomas Francis</td>\n",
       "      <td>male</td>\n",
       "      <td>62.0</td>\n",
       "      <td>0</td>\n",
       "      <td>0</td>\n",
       "      <td>240276</td>\n",
       "      <td>9.6875</td>\n",
       "      <td>NaN</td>\n",
       "      <td>Q</td>\n",
       "    </tr>\n",
       "  </tbody>\n",
       "</table>\n",
       "</div>"
      ],
      "text/plain": [
       "   PassengerId  Pclass                              Name     Sex   Age  SibSp  \\\n",
       "0          892       3                  Kelly, Mr. James    male  34.5      0   \n",
       "1          893       3  Wilkes, Mrs. James (Ellen Needs)  female  47.0      1   \n",
       "2          894       2         Myles, Mr. Thomas Francis    male  62.0      0   \n",
       "\n",
       "   Parch  Ticket    Fare Cabin Embarked  \n",
       "0      0  330911  7.8292   NaN        Q  \n",
       "1      0  363272  7.0000   NaN        S  \n",
       "2      0  240276  9.6875   NaN        Q  "
      ]
     },
     "execution_count": 30,
     "metadata": {},
     "output_type": "execute_result"
    }
   ],
   "source": [
    "tit_test.head(3)"
   ]
  },
  {
   "cell_type": "code",
   "execution_count": 5,
   "metadata": {},
   "outputs": [
    {
     "name": "stdout",
     "output_type": "stream",
     "text": [
      "Titanic train DF dimensions: (891, 12)\n",
      "Titanic test DF dimensions: (418, 11)\n"
     ]
    }
   ],
   "source": [
    "print('Titanic train DF dimensions: {}'.format(tit_train.shape))\n",
    "print('Titanic test DF dimensions: {}'.format(tit_test.shape))"
   ]
  },
  {
   "cell_type": "code",
   "execution_count": 6,
   "metadata": {},
   "outputs": [
    {
     "name": "stdout",
     "output_type": "stream",
     "text": [
      "<class 'pandas.core.frame.DataFrame'>\n",
      "RangeIndex: 891 entries, 0 to 890\n",
      "Data columns (total 12 columns):\n",
      "PassengerId    891 non-null int64\n",
      "Survived       891 non-null int64\n",
      "Pclass         891 non-null int64\n",
      "Name           891 non-null object\n",
      "Sex            891 non-null object\n",
      "Age            714 non-null float64\n",
      "SibSp          891 non-null int64\n",
      "Parch          891 non-null int64\n",
      "Ticket         891 non-null object\n",
      "Fare           891 non-null float64\n",
      "Cabin          204 non-null object\n",
      "Embarked       889 non-null object\n",
      "dtypes: float64(2), int64(5), object(5)\n",
      "memory usage: 83.6+ KB\n"
     ]
    }
   ],
   "source": [
    "tit_train.info()"
   ]
  },
  {
   "cell_type": "code",
   "execution_count": 7,
   "metadata": {
    "scrolled": true
   },
   "outputs": [
    {
     "name": "stdout",
     "output_type": "stream",
     "text": [
      "<class 'pandas.core.frame.DataFrame'>\n",
      "RangeIndex: 418 entries, 0 to 417\n",
      "Data columns (total 11 columns):\n",
      "PassengerId    418 non-null int64\n",
      "Pclass         418 non-null int64\n",
      "Name           418 non-null object\n",
      "Sex            418 non-null object\n",
      "Age            332 non-null float64\n",
      "SibSp          418 non-null int64\n",
      "Parch          418 non-null int64\n",
      "Ticket         418 non-null object\n",
      "Fare           417 non-null float64\n",
      "Cabin          91 non-null object\n",
      "Embarked       418 non-null object\n",
      "dtypes: float64(2), int64(4), object(5)\n",
      "memory usage: 36.0+ KB\n"
     ]
    }
   ],
   "source": [
    "tit_test.info()"
   ]
  },
  {
   "cell_type": "markdown",
   "metadata": {},
   "source": [
    "* 3 features that contan NaN's for training set:\n",
    "    * **Age**\n",
    "    * **Cabin**\n",
    "    * **Embarked**\n",
    "    \n",
    "* 3 features that contan NaN's for test set:\n",
    "    * **Age**\n",
    "    * **Cabin**\n",
    "    * **Fare**"
   ]
  },
  {
   "cell_type": "markdown",
   "metadata": {},
   "source": [
    "### Examine missing values"
   ]
  },
  {
   "cell_type": "code",
   "execution_count": 17,
   "metadata": {},
   "outputs": [
    {
     "name": "stdout",
     "output_type": "stream",
     "text": [
      "2 Embarked missing values:\n"
     ]
    },
    {
     "data": {
      "text/html": [
       "<div>\n",
       "<style scoped>\n",
       "    .dataframe tbody tr th:only-of-type {\n",
       "        vertical-align: middle;\n",
       "    }\n",
       "\n",
       "    .dataframe tbody tr th {\n",
       "        vertical-align: top;\n",
       "    }\n",
       "\n",
       "    .dataframe thead th {\n",
       "        text-align: right;\n",
       "    }\n",
       "</style>\n",
       "<table border=\"1\" class=\"dataframe\">\n",
       "  <thead>\n",
       "    <tr style=\"text-align: right;\">\n",
       "      <th></th>\n",
       "      <th>PassengerId</th>\n",
       "      <th>Survived</th>\n",
       "      <th>Pclass</th>\n",
       "      <th>Name</th>\n",
       "      <th>Sex</th>\n",
       "      <th>Age</th>\n",
       "      <th>SibSp</th>\n",
       "      <th>Parch</th>\n",
       "      <th>Ticket</th>\n",
       "      <th>Fare</th>\n",
       "      <th>Cabin</th>\n",
       "      <th>Embarked</th>\n",
       "    </tr>\n",
       "  </thead>\n",
       "  <tbody>\n",
       "    <tr>\n",
       "      <th>61</th>\n",
       "      <td>62</td>\n",
       "      <td>1</td>\n",
       "      <td>1</td>\n",
       "      <td>Icard, Miss. Amelie</td>\n",
       "      <td>female</td>\n",
       "      <td>38.0</td>\n",
       "      <td>0</td>\n",
       "      <td>0</td>\n",
       "      <td>113572</td>\n",
       "      <td>80.0</td>\n",
       "      <td>B28</td>\n",
       "      <td>NaN</td>\n",
       "    </tr>\n",
       "    <tr>\n",
       "      <th>829</th>\n",
       "      <td>830</td>\n",
       "      <td>1</td>\n",
       "      <td>1</td>\n",
       "      <td>Stone, Mrs. George Nelson (Martha Evelyn)</td>\n",
       "      <td>female</td>\n",
       "      <td>62.0</td>\n",
       "      <td>0</td>\n",
       "      <td>0</td>\n",
       "      <td>113572</td>\n",
       "      <td>80.0</td>\n",
       "      <td>B28</td>\n",
       "      <td>NaN</td>\n",
       "    </tr>\n",
       "  </tbody>\n",
       "</table>\n",
       "</div>"
      ],
      "text/plain": [
       "     PassengerId  Survived  Pclass                                       Name  \\\n",
       "61            62         1       1                        Icard, Miss. Amelie   \n",
       "829          830         1       1  Stone, Mrs. George Nelson (Martha Evelyn)   \n",
       "\n",
       "        Sex   Age  SibSp  Parch  Ticket  Fare Cabin Embarked  \n",
       "61   female  38.0      0      0  113572  80.0   B28      NaN  \n",
       "829  female  62.0      0      0  113572  80.0   B28      NaN  "
      ]
     },
     "execution_count": 17,
     "metadata": {},
     "output_type": "execute_result"
    }
   ],
   "source": [
    "def show_missing(df, feature, nr_of_rows=None):\n",
    "    df_with_missing = df[df[feature].isna().head(nr_of_rows)]\n",
    "    print(\"{} {} missing values:\".format(len(df_with_missing), feature))\n",
    "    return df_with_missing\n",
    "\n",
    "show_missing(tit_train, 'Embarked')"
   ]
  },
  {
   "cell_type": "code",
   "execution_count": 20,
   "metadata": {},
   "outputs": [
    {
     "name": "stdout",
     "output_type": "stream",
     "text": [
      "1 Fare missing values:\n"
     ]
    },
    {
     "data": {
      "text/html": [
       "<div>\n",
       "<style scoped>\n",
       "    .dataframe tbody tr th:only-of-type {\n",
       "        vertical-align: middle;\n",
       "    }\n",
       "\n",
       "    .dataframe tbody tr th {\n",
       "        vertical-align: top;\n",
       "    }\n",
       "\n",
       "    .dataframe thead th {\n",
       "        text-align: right;\n",
       "    }\n",
       "</style>\n",
       "<table border=\"1\" class=\"dataframe\">\n",
       "  <thead>\n",
       "    <tr style=\"text-align: right;\">\n",
       "      <th></th>\n",
       "      <th>PassengerId</th>\n",
       "      <th>Pclass</th>\n",
       "      <th>Name</th>\n",
       "      <th>Sex</th>\n",
       "      <th>Age</th>\n",
       "      <th>SibSp</th>\n",
       "      <th>Parch</th>\n",
       "      <th>Ticket</th>\n",
       "      <th>Fare</th>\n",
       "      <th>Cabin</th>\n",
       "      <th>Embarked</th>\n",
       "    </tr>\n",
       "  </thead>\n",
       "  <tbody>\n",
       "    <tr>\n",
       "      <th>152</th>\n",
       "      <td>1044</td>\n",
       "      <td>3</td>\n",
       "      <td>Storey, Mr. Thomas</td>\n",
       "      <td>male</td>\n",
       "      <td>60.5</td>\n",
       "      <td>0</td>\n",
       "      <td>0</td>\n",
       "      <td>3701</td>\n",
       "      <td>NaN</td>\n",
       "      <td>NaN</td>\n",
       "      <td>S</td>\n",
       "    </tr>\n",
       "  </tbody>\n",
       "</table>\n",
       "</div>"
      ],
      "text/plain": [
       "     PassengerId  Pclass                Name   Sex   Age  SibSp  Parch Ticket  \\\n",
       "152         1044       3  Storey, Mr. Thomas  male  60.5      0      0   3701   \n",
       "\n",
       "     Fare Cabin Embarked  \n",
       "152   NaN   NaN        S  "
      ]
     },
     "execution_count": 20,
     "metadata": {},
     "output_type": "execute_result"
    }
   ],
   "source": [
    "show_missing(tit_test, 'Fare')"
   ]
  },
  {
   "cell_type": "markdown",
   "metadata": {},
   "source": [
    "### Describe relevant features"
   ]
  },
  {
   "cell_type": "code",
   "execution_count": 21,
   "metadata": {},
   "outputs": [
    {
     "data": {
      "text/html": [
       "<div>\n",
       "<style scoped>\n",
       "    .dataframe tbody tr th:only-of-type {\n",
       "        vertical-align: middle;\n",
       "    }\n",
       "\n",
       "    .dataframe tbody tr th {\n",
       "        vertical-align: top;\n",
       "    }\n",
       "\n",
       "    .dataframe thead th {\n",
       "        text-align: right;\n",
       "    }\n",
       "</style>\n",
       "<table border=\"1\" class=\"dataframe\">\n",
       "  <thead>\n",
       "    <tr style=\"text-align: right;\">\n",
       "      <th></th>\n",
       "      <th>Pclass</th>\n",
       "      <th>Age</th>\n",
       "      <th>SibSp</th>\n",
       "      <th>Parch</th>\n",
       "      <th>Fare</th>\n",
       "    </tr>\n",
       "  </thead>\n",
       "  <tbody>\n",
       "    <tr>\n",
       "      <th>count</th>\n",
       "      <td>891.00</td>\n",
       "      <td>714.00</td>\n",
       "      <td>891.00</td>\n",
       "      <td>891.00</td>\n",
       "      <td>891.00</td>\n",
       "    </tr>\n",
       "    <tr>\n",
       "      <th>mean</th>\n",
       "      <td>2.31</td>\n",
       "      <td>29.70</td>\n",
       "      <td>0.52</td>\n",
       "      <td>0.38</td>\n",
       "      <td>32.20</td>\n",
       "    </tr>\n",
       "    <tr>\n",
       "      <th>std</th>\n",
       "      <td>0.84</td>\n",
       "      <td>14.53</td>\n",
       "      <td>1.10</td>\n",
       "      <td>0.81</td>\n",
       "      <td>49.69</td>\n",
       "    </tr>\n",
       "    <tr>\n",
       "      <th>min</th>\n",
       "      <td>1.00</td>\n",
       "      <td>0.42</td>\n",
       "      <td>0.00</td>\n",
       "      <td>0.00</td>\n",
       "      <td>0.00</td>\n",
       "    </tr>\n",
       "    <tr>\n",
       "      <th>25%</th>\n",
       "      <td>2.00</td>\n",
       "      <td>20.12</td>\n",
       "      <td>0.00</td>\n",
       "      <td>0.00</td>\n",
       "      <td>7.91</td>\n",
       "    </tr>\n",
       "    <tr>\n",
       "      <th>50%</th>\n",
       "      <td>3.00</td>\n",
       "      <td>28.00</td>\n",
       "      <td>0.00</td>\n",
       "      <td>0.00</td>\n",
       "      <td>14.45</td>\n",
       "    </tr>\n",
       "    <tr>\n",
       "      <th>75%</th>\n",
       "      <td>3.00</td>\n",
       "      <td>38.00</td>\n",
       "      <td>1.00</td>\n",
       "      <td>0.00</td>\n",
       "      <td>31.00</td>\n",
       "    </tr>\n",
       "    <tr>\n",
       "      <th>max</th>\n",
       "      <td>3.00</td>\n",
       "      <td>80.00</td>\n",
       "      <td>8.00</td>\n",
       "      <td>6.00</td>\n",
       "      <td>512.33</td>\n",
       "    </tr>\n",
       "  </tbody>\n",
       "</table>\n",
       "</div>"
      ],
      "text/plain": [
       "       Pclass     Age   SibSp   Parch    Fare\n",
       "count  891.00  714.00  891.00  891.00  891.00\n",
       "mean     2.31   29.70    0.52    0.38   32.20\n",
       "std      0.84   14.53    1.10    0.81   49.69\n",
       "min      1.00    0.42    0.00    0.00    0.00\n",
       "25%      2.00   20.12    0.00    0.00    7.91\n",
       "50%      3.00   28.00    0.00    0.00   14.45\n",
       "75%      3.00   38.00    1.00    0.00   31.00\n",
       "max      3.00   80.00    8.00    6.00  512.33"
      ]
     },
     "execution_count": 21,
     "metadata": {},
     "output_type": "execute_result"
    }
   ],
   "source": [
    "tit_train.drop(['PassengerId', 'Survived'], axis='columns').describe().round(2)"
   ]
  },
  {
   "cell_type": "code",
   "execution_count": 22,
   "metadata": {},
   "outputs": [
    {
     "data": {
      "image/png": "[encoded data removed]",
      "text/plain": [
       "<Figure size 1080x1080 with 6 Axes>"
      ]
     },
     "metadata": {
      "needs_background": "light"
     },
     "output_type": "display_data"
    }
   ],
   "source": [
    "tit_train.drop(['PassengerId', 'Survived'], axis='columns').hist(figsize=(15,15), grid=False, edgecolor='k')\n",
    "plt.show()"
   ]
  },
  {
   "cell_type": "markdown",
   "metadata": {},
   "source": [
    "#### Rebinning Age feature"
   ]
  },
  {
   "cell_type": "code",
   "execution_count": 23,
   "metadata": {},
   "outputs": [
    {
     "data": {
      "image/png": "[encoded data removed]",
      "text/plain": [
       "<Figure size 432x288 with 1 Axes>"
      ]
     },
     "metadata": {
      "needs_background": "light"
     },
     "output_type": "display_data"
    }
   ],
   "source": [
    "tit_train.Age.hist(grid=False, edgecolor='k')\n",
    "plt.show()"
   ]
  },
  {
   "cell_type": "code",
   "execution_count": 24,
   "metadata": {},
   "outputs": [
    {
     "data": {
      "image/png": "[encoded data removed]",
      "text/plain": [
       "<Figure size 432x288 with 1 Axes>"
      ]
     },
     "metadata": {
      "needs_background": "light"
     },
     "output_type": "display_data"
    }
   ],
   "source": [
    "tit_train.Age.hist(grid=False, bins=[0.0, 16.0, 32.0, 48.0, 64.0, 100.0], edgecolor='k')\n",
    "plt.show()"
   ]
  },
  {
   "cell_type": "code",
   "execution_count": 25,
   "metadata": {},
   "outputs": [
    {
     "data": {
      "image/png": "[encoded data removed]",
      "text/plain": [
       "<Figure size 432x288 with 1 Axes>"
      ]
     },
     "metadata": {
      "needs_background": "light"
     },
     "output_type": "display_data"
    }
   ],
   "source": [
    "tit_train.Age.hist(grid=False, bins=5, edgecolor='k')\n",
    "plt.show()"
   ]
  },
  {
   "cell_type": "code",
   "execution_count": 64,
   "metadata": {},
   "outputs": [
    {
     "data": {
      "text/html": [
       "<div>\n",
       "<style scoped>\n",
       "    .dataframe tbody tr th:only-of-type {\n",
       "        vertical-align: middle;\n",
       "    }\n",
       "\n",
       "    .dataframe tbody tr th {\n",
       "        vertical-align: top;\n",
       "    }\n",
       "\n",
       "    .dataframe thead th {\n",
       "        text-align: right;\n",
       "    }\n",
       "</style>\n",
       "<table border=\"1\" class=\"dataframe\">\n",
       "  <thead>\n",
       "    <tr style=\"text-align: right;\">\n",
       "      <th></th>\n",
       "      <th>PassengerId</th>\n",
       "      <th>Survived</th>\n",
       "      <th>Pclass</th>\n",
       "      <th>Name</th>\n",
       "      <th>Sex</th>\n",
       "      <th>Age</th>\n",
       "      <th>SibSp</th>\n",
       "      <th>Parch</th>\n",
       "      <th>Ticket</th>\n",
       "      <th>Fare</th>\n",
       "      <th>Cabin</th>\n",
       "      <th>Embarked</th>\n",
       "    </tr>\n",
       "  </thead>\n",
       "  <tbody>\n",
       "    <tr>\n",
       "      <th>0</th>\n",
       "      <td>1</td>\n",
       "      <td>0</td>\n",
       "      <td>3</td>\n",
       "      <td>Braund, Mr. Owen Harris</td>\n",
       "      <td>male</td>\n",
       "      <td>22.0</td>\n",
       "      <td>1</td>\n",
       "      <td>0</td>\n",
       "      <td>A/5 21171</td>\n",
       "      <td>7.2500</td>\n",
       "      <td>NaN</td>\n",
       "      <td>S</td>\n",
       "    </tr>\n",
       "    <tr>\n",
       "      <th>1</th>\n",
       "      <td>2</td>\n",
       "      <td>1</td>\n",
       "      <td>1</td>\n",
       "      <td>Cumings, Mrs. John Bradley (Florence Briggs Th...</td>\n",
       "      <td>female</td>\n",
       "      <td>38.0</td>\n",
       "      <td>1</td>\n",
       "      <td>0</td>\n",
       "      <td>PC 17599</td>\n",
       "      <td>71.2833</td>\n",
       "      <td>C85</td>\n",
       "      <td>C</td>\n",
       "    </tr>\n",
       "    <tr>\n",
       "      <th>2</th>\n",
       "      <td>3</td>\n",
       "      <td>1</td>\n",
       "      <td>3</td>\n",
       "      <td>Heikkinen, Miss. Laina</td>\n",
       "      <td>female</td>\n",
       "      <td>26.0</td>\n",
       "      <td>0</td>\n",
       "      <td>0</td>\n",
       "      <td>STON/O2. 3101282</td>\n",
       "      <td>7.9250</td>\n",
       "      <td>NaN</td>\n",
       "      <td>S</td>\n",
       "    </tr>\n",
       "  </tbody>\n",
       "</table>\n",
       "</div>"
      ],
      "text/plain": [
       "   PassengerId  Survived  Pclass  \\\n",
       "0            1         0       3   \n",
       "1            2         1       1   \n",
       "2            3         1       3   \n",
       "\n",
       "                                                Name     Sex   Age  SibSp  \\\n",
       "0                            Braund, Mr. Owen Harris    male  22.0      1   \n",
       "1  Cumings, Mrs. John Bradley (Florence Briggs Th...  female  38.0      1   \n",
       "2                             Heikkinen, Miss. Laina  female  26.0      0   \n",
       "\n",
       "   Parch            Ticket     Fare Cabin Embarked  \n",
       "0      0         A/5 21171   7.2500   NaN        S  \n",
       "1      0          PC 17599  71.2833   C85        C  \n",
       "2      0  STON/O2. 3101282   7.9250   NaN        S  "
      ]
     },
     "execution_count": 64,
     "metadata": {},
     "output_type": "execute_result"
    }
   ],
   "source": [
    "tit_train.head(3)"
   ]
  },
  {
   "cell_type": "markdown",
   "metadata": {},
   "source": [
    "## Preprocesing Data\n",
    "\n",
    "1. Drop: *Name*, *Ticket*, *Cabin*\n",
    "2. Imbute: \n",
    "    * Train: *Age*, *Embarked*\n",
    "    * Test: *Age*, *Fare*\n",
    "3. Dummify: *Pclass*, *Sex*, *SibSp*, *Parch* *Embarked*\n",
    "\n",
    "Extra (later):\n",
    "1. Select titles from the names Mr. Mrs. Miss. Dr. etc\n",
    "2. Do not drop Cabin\n",
    "3. Rebin: *Age* into 5 categories, *Fare*, *SibSp*"
   ]
  },
  {
   "cell_type": "markdown",
   "metadata": {},
   "source": [
    "### Dropping features"
   ]
  },
  {
   "cell_type": "code",
   "execution_count": 27,
   "metadata": {},
   "outputs": [],
   "source": [
    "drop_features = ['Name', 'Ticket', 'Cabin']\n",
    "tit_train_2 = tit_train.drop(drop_features, axis='columns')\n",
    "tit_test_2 = tit_test.drop(drop_features, axis='columns')"
   ]
  },
  {
   "cell_type": "code",
   "execution_count": 29,
   "metadata": {},
   "outputs": [
    {
     "name": "stdout",
     "output_type": "stream",
     "text": [
      "(891, 12) (891, 9)\n",
      "(418, 11) (418, 8)\n"
     ]
    }
   ],
   "source": [
    "print(tit_train.shape, tit_train_2.shape)\n",
    "print(tit_test.shape, tit_test_2.shape)"
   ]
  },
  {
   "cell_type": "markdown",
   "metadata": {},
   "source": [
    "### Remapping features"
   ]
  },
  {
   "cell_type": "code",
   "execution_count": 76,
   "metadata": {},
   "outputs": [
    {
     "name": "stdout",
     "output_type": "stream",
     "text": [
      "Unique values for 'Sex': ['male' 'female']\n",
      "Unique values for 'Embarked': ['S' 'C' 'Q' nan]\n"
     ]
    }
   ],
   "source": [
    "print(\"Unique values for 'Sex': {}\".format(tit_train_2.Sex.unique()))\n",
    "print(\"Unique values for 'Embarked': {}\".format(tit_train_2.Embarked.unique()))"
   ]
  },
  {
   "cell_type": "code",
   "execution_count": 77,
   "metadata": {},
   "outputs": [],
   "source": [
    "for df in [tit_train_2, tit_test_2]:\n",
    "    df['Sex'] =  df['Sex'].map({'male':1, 'female':0})\n",
    "    df['Embarked'] = df['Embarked'].map({'S':0, 'C':1, 'Q':2, np.nan:np.nan})"
   ]
  },
  {
   "cell_type": "markdown",
   "metadata": {},
   "source": [
    "### Imputing features "
   ]
  },
  {
   "cell_type": "code",
   "execution_count": 79,
   "metadata": {},
   "outputs": [],
   "source": [
    "def impute_features(df, strategy='most_frequent'):\n",
    "    imputer = SimpleImputer(missing_values=np.nan, strategy=strategy)\n",
    "    return pd.DataFrame(data=imputer.fit_transform(df.values), \n",
    "                        index=None,\n",
    "                        columns=df.columns.values)"
   ]
  },
  {
   "cell_type": "code",
   "execution_count": 80,
   "metadata": {},
   "outputs": [],
   "source": [
    "tit_train_3 = impute_features(tit_train_2)\n",
    "tit_test_3 = impute_features(tit_test_2)"
   ]
  },
  {
   "cell_type": "code",
   "execution_count": 81,
   "metadata": {},
   "outputs": [
    {
     "name": "stdout",
     "output_type": "stream",
     "text": [
      "<class 'pandas.core.frame.DataFrame'>\n",
      "RangeIndex: 418 entries, 0 to 417\n",
      "Data columns (total 8 columns):\n",
      "PassengerId    418 non-null float64\n",
      "Pclass         418 non-null float64\n",
      "Sex            418 non-null float64\n",
      "Age            418 non-null float64\n",
      "SibSp          418 non-null float64\n",
      "Parch          418 non-null float64\n",
      "Fare           418 non-null float64\n",
      "Embarked       418 non-null float64\n",
      "dtypes: float64(8)\n",
      "memory usage: 26.2 KB\n"
     ]
    }
   ],
   "source": [
    "tit_test_3.info()"
   ]
  },
  {
   "cell_type": "markdown",
   "metadata": {},
   "source": [
    "## First model run"
   ]
  },
  {
   "cell_type": "code",
   "execution_count": 83,
   "metadata": {},
   "outputs": [
    {
     "data": {
      "text/html": [
       "<div>\n",
       "<style scoped>\n",
       "    .dataframe tbody tr th:only-of-type {\n",
       "        vertical-align: middle;\n",
       "    }\n",
       "\n",
       "    .dataframe tbody tr th {\n",
       "        vertical-align: top;\n",
       "    }\n",
       "\n",
       "    .dataframe thead th {\n",
       "        text-align: right;\n",
       "    }\n",
       "</style>\n",
       "<table border=\"1\" class=\"dataframe\">\n",
       "  <thead>\n",
       "    <tr style=\"text-align: right;\">\n",
       "      <th></th>\n",
       "      <th>PassengerId</th>\n",
       "      <th>Survived</th>\n",
       "      <th>Pclass</th>\n",
       "      <th>Sex</th>\n",
       "      <th>Age</th>\n",
       "      <th>SibSp</th>\n",
       "      <th>Parch</th>\n",
       "      <th>Fare</th>\n",
       "      <th>Embarked</th>\n",
       "    </tr>\n",
       "  </thead>\n",
       "  <tbody>\n",
       "    <tr>\n",
       "      <th>0</th>\n",
       "      <td>1.0</td>\n",
       "      <td>0.0</td>\n",
       "      <td>3.0</td>\n",
       "      <td>1.0</td>\n",
       "      <td>22.0</td>\n",
       "      <td>1.0</td>\n",
       "      <td>0.0</td>\n",
       "      <td>7.2500</td>\n",
       "      <td>0.0</td>\n",
       "    </tr>\n",
       "    <tr>\n",
       "      <th>1</th>\n",
       "      <td>2.0</td>\n",
       "      <td>1.0</td>\n",
       "      <td>1.0</td>\n",
       "      <td>0.0</td>\n",
       "      <td>38.0</td>\n",
       "      <td>1.0</td>\n",
       "      <td>0.0</td>\n",
       "      <td>71.2833</td>\n",
       "      <td>1.0</td>\n",
       "    </tr>\n",
       "  </tbody>\n",
       "</table>\n",
       "</div>"
      ],
      "text/plain": [
       "   PassengerId  Survived  Pclass  Sex   Age  SibSp  Parch     Fare  Embarked\n",
       "0          1.0       0.0     3.0  1.0  22.0    1.0    0.0   7.2500       0.0\n",
       "1          2.0       1.0     1.0  0.0  38.0    1.0    0.0  71.2833       1.0"
      ]
     },
     "execution_count": 83,
     "metadata": {},
     "output_type": "execute_result"
    }
   ],
   "source": [
    "tit_train_3.head(2)"
   ]
  },
  {
   "cell_type": "code",
   "execution_count": 85,
   "metadata": {},
   "outputs": [
    {
     "data": {
      "text/html": [
       "<div>\n",
       "<style scoped>\n",
       "    .dataframe tbody tr th:only-of-type {\n",
       "        vertical-align: middle;\n",
       "    }\n",
       "\n",
       "    .dataframe tbody tr th {\n",
       "        vertical-align: top;\n",
       "    }\n",
       "\n",
       "    .dataframe thead th {\n",
       "        text-align: right;\n",
       "    }\n",
       "</style>\n",
       "<table border=\"1\" class=\"dataframe\">\n",
       "  <thead>\n",
       "    <tr style=\"text-align: right;\">\n",
       "      <th></th>\n",
       "      <th>Pclass</th>\n",
       "      <th>Sex</th>\n",
       "      <th>Age</th>\n",
       "      <th>SibSp</th>\n",
       "      <th>Parch</th>\n",
       "      <th>Fare</th>\n",
       "      <th>Embarked</th>\n",
       "    </tr>\n",
       "  </thead>\n",
       "  <tbody>\n",
       "    <tr>\n",
       "      <th>0</th>\n",
       "      <td>3.0</td>\n",
       "      <td>1.0</td>\n",
       "      <td>22.0</td>\n",
       "      <td>1.0</td>\n",
       "      <td>0.0</td>\n",
       "      <td>7.2500</td>\n",
       "      <td>0.0</td>\n",
       "    </tr>\n",
       "    <tr>\n",
       "      <th>1</th>\n",
       "      <td>1.0</td>\n",
       "      <td>0.0</td>\n",
       "      <td>38.0</td>\n",
       "      <td>1.0</td>\n",
       "      <td>0.0</td>\n",
       "      <td>71.2833</td>\n",
       "      <td>1.0</td>\n",
       "    </tr>\n",
       "  </tbody>\n",
       "</table>\n",
       "</div>"
      ],
      "text/plain": [
       "   Pclass  Sex   Age  SibSp  Parch     Fare  Embarked\n",
       "0     3.0  1.0  22.0    1.0    0.0   7.2500       0.0\n",
       "1     1.0  0.0  38.0    1.0    0.0  71.2833       1.0"
      ]
     },
     "execution_count": 85,
     "metadata": {},
     "output_type": "execute_result"
    }
   ],
   "source": [
    "# features to use on the model\n",
    "model_features = ['Pclass', 'Sex', 'Age', 'SibSp', 'Parch', 'Fare', 'Embarked']\n",
    "target = 'Survived'\n",
    "tit_train_3[model_features].head(2)"
   ]
  },
  {
   "cell_type": "markdown",
   "metadata": {},
   "source": [
    "### Crate model"
   ]
  },
  {
   "cell_type": "code",
   "execution_count": 86,
   "metadata": {},
   "outputs": [
    {
     "data": {
      "text/plain": [
       "LogisticRegression(C=1.0, class_weight=None, dual=False, fit_intercept=True,\n",
       "          intercept_scaling=1, max_iter=100, multi_class='warn',\n",
       "          n_jobs=None, penalty='l2', random_state=None, solver='liblinear',\n",
       "          tol=0.0001, verbose=0, warm_start=False)"
      ]
     },
     "execution_count": 86,
     "metadata": {},
     "output_type": "execute_result"
    }
   ],
   "source": [
    "clf = LogisticRegression(solver='liblinear')\n",
    "clf.fit(X=tit_train_3[model_features], y=tit_train[target])"
   ]
  },
  {
   "cell_type": "markdown",
   "metadata": {},
   "source": [
    "### Predictions"
   ]
  },
  {
   "cell_type": "code",
   "execution_count": 88,
   "metadata": {},
   "outputs": [
    {
     "data": {
      "text/plain": [
       "array([0, 0, 0, 0, 1, 0, 1, 0, 1, 0, 0, 0, 1, 0, 1, 1, 0, 0, 1, 1, 0, 0,\n",
       "       1, 1, 1, 0, 1, 0, 0, 0, 0, 0, 0, 1, 0, 0, 1, 1, 0, 0, 0, 0, 0, 1,\n",
       "       1, 0, 0, 0, 1, 1, 0, 0, 1, 1, 0, 0, 0, 0, 0, 1, 0, 0, 0, 1, 1, 1,\n",
       "       1, 0, 0, 1, 1, 0, 1, 0, 1, 1, 0, 1, 0, 1, 0, 0, 0, 0, 0, 0, 1, 1,\n",
       "       1, 0, 1, 0, 1, 0, 1, 0, 1, 0, 1, 0, 1, 0, 0, 0, 1, 0, 0, 0, 0, 0,\n",
       "       0, 1, 1, 1, 1, 0, 0, 1, 0, 1, 1, 0, 1, 0, 0, 1, 0, 1, 0, 0, 0, 0,\n",
       "       1, 0, 0, 0, 0, 0, 1, 0, 0, 1, 0, 0, 0, 0, 1, 0, 0, 0, 1, 0, 0, 1,\n",
       "       0, 0, 1, 1, 0, 1, 1, 0, 1, 0, 0, 1, 0, 0, 1, 1, 0, 0, 0, 0, 0, 1,\n",
       "       1, 0, 1, 1, 0, 0, 1, 0, 1, 0, 1, 0, 0, 0, 0, 0, 0, 0, 0, 0, 1, 1,\n",
       "       0, 1, 1, 0, 1, 1, 0, 1, 1, 0, 1, 0, 0, 0, 0, 1, 0, 0, 1, 0, 1, 0,\n",
       "       1, 0, 1, 0, 1, 1, 0, 1, 0, 0, 0, 1, 0, 0, 0, 0, 0, 0, 1, 1, 1, 1,\n",
       "       0, 0, 0, 0, 1, 0, 1, 1, 1, 0, 1, 0, 0, 0, 0, 0, 1, 0, 0, 0, 1, 1,\n",
       "       0, 0, 0, 0, 1, 0, 0, 0, 1, 1, 0, 1, 0, 0, 0, 0, 1, 0, 1, 1, 1, 0,\n",
       "       0, 0, 0, 0, 0, 1, 0, 0, 0, 0, 1, 0, 0, 0, 0, 0, 0, 0, 1, 1, 0, 0,\n",
       "       0, 0, 0, 0, 0, 1, 1, 1, 0, 0, 0, 0, 0, 0, 0, 0, 1, 0, 1, 0, 0, 0,\n",
       "       1, 0, 0, 1, 0, 0, 0, 0, 0, 0, 0, 0, 0, 1, 0, 1, 0, 1, 0, 1, 1, 0,\n",
       "       0, 0, 1, 0, 1, 0, 0, 1, 0, 1, 1, 0, 1, 0, 0, 1, 1, 0, 0, 1, 0, 0,\n",
       "       1, 1, 0, 0, 0, 0, 0, 0, 1, 1, 0, 1, 0, 0, 0, 0, 1, 1, 0, 0, 0, 1,\n",
       "       0, 1, 0, 0, 1, 0, 1, 1, 0, 0, 0, 0, 1, 1, 1, 1, 1, 0, 1, 0, 0, 0])"
      ]
     },
     "execution_count": 88,
     "metadata": {},
     "output_type": "execute_result"
    }
   ],
   "source": [
    "predictions = clf.predict(tit_test_3[model_features])\n",
    "predictions"
   ]
  },
  {
   "cell_type": "markdown",
   "metadata": {},
   "source": [
    "### Create .csv of 'PassengerId' and 'Survived'"
   ]
  },
  {
   "cell_type": "code",
   "execution_count": 93,
   "metadata": {},
   "outputs": [
    {
     "data": {
      "text/html": [
       "<div>\n",
       "<style scoped>\n",
       "    .dataframe tbody tr th:only-of-type {\n",
       "        vertical-align: middle;\n",
       "    }\n",
       "\n",
       "    .dataframe tbody tr th {\n",
       "        vertical-align: top;\n",
       "    }\n",
       "\n",
       "    .dataframe thead th {\n",
       "        text-align: right;\n",
       "    }\n",
       "</style>\n",
       "<table border=\"1\" class=\"dataframe\">\n",
       "  <thead>\n",
       "    <tr style=\"text-align: right;\">\n",
       "      <th></th>\n",
       "      <th>PassengerId</th>\n",
       "      <th>Survived</th>\n",
       "    </tr>\n",
       "  </thead>\n",
       "  <tbody>\n",
       "    <tr>\n",
       "      <th>0</th>\n",
       "      <td>892</td>\n",
       "      <td>0</td>\n",
       "    </tr>\n",
       "    <tr>\n",
       "      <th>1</th>\n",
       "      <td>893</td>\n",
       "      <td>0</td>\n",
       "    </tr>\n",
       "    <tr>\n",
       "      <th>2</th>\n",
       "      <td>894</td>\n",
       "      <td>0</td>\n",
       "    </tr>\n",
       "    <tr>\n",
       "      <th>3</th>\n",
       "      <td>895</td>\n",
       "      <td>0</td>\n",
       "    </tr>\n",
       "    <tr>\n",
       "      <th>4</th>\n",
       "      <td>896</td>\n",
       "      <td>1</td>\n",
       "    </tr>\n",
       "  </tbody>\n",
       "</table>\n",
       "</div>"
      ],
      "text/plain": [
       "   PassengerId  Survived\n",
       "0          892         0\n",
       "1          893         0\n",
       "2          894         0\n",
       "3          895         0\n",
       "4          896         1"
      ]
     },
     "execution_count": 93,
     "metadata": {},
     "output_type": "execute_result"
    }
   ],
   "source": [
    "sub_df = pd.DataFrame(data={'PassengerId':tit_test_3['PassengerId'],\n",
    "                            'Survived':predictions}, dtype=np.int64)\n",
    "sub_df.head()"
   ]
  },
  {
   "cell_type": "code",
   "execution_count": 91,
   "metadata": {},
   "outputs": [
    {
     "data": {
      "text/plain": [
       "(418, 2)"
      ]
     },
     "execution_count": 91,
     "metadata": {},
     "output_type": "execute_result"
    }
   ],
   "source": [
    "sub_df.shape"
   ]
  },
  {
   "cell_type": "code",
   "execution_count": 94,
   "metadata": {},
   "outputs": [],
   "source": [
    "prepath = 'data/titanic/submissions/'\n",
    "sub_df.to_csv(prepath + 'titanic_predictions_1.csv', index=False)\n",
    "# 0.75119 accuracy"
   ]
  },
  {
   "cell_type": "markdown",
   "metadata": {},
   "source": [
    "## Automating preprocessing\n",
    "\n",
    "What we would like to do:\n",
    "* Create a pipeline on a DF\n",
    "* Each specified column or series of columns will get their own transformations:\n",
    "    * Dropping\n",
    "    * Rebinning\n",
    "    * Imputing \n",
    "    * Dummifying"
   ]
  },
  {
   "cell_type": "code",
   "execution_count": 95,
   "metadata": {},
   "outputs": [],
   "source": [
    "# starting from the raw data\n",
    "train = pd.read_csv('data/titanic/train.csv', header=0)\n",
    "test = pd.read_csv('data/titanic/test.csv', header=0)"
   ]
  },
  {
   "cell_type": "code",
   "execution_count": 96,
   "metadata": {},
   "outputs": [
    {
     "data": {
      "text/html": [
       "<div>\n",
       "<style scoped>\n",
       "    .dataframe tbody tr th:only-of-type {\n",
       "        vertical-align: middle;\n",
       "    }\n",
       "\n",
       "    .dataframe tbody tr th {\n",
       "        vertical-align: top;\n",
       "    }\n",
       "\n",
       "    .dataframe thead th {\n",
       "        text-align: right;\n",
       "    }\n",
       "</style>\n",
       "<table border=\"1\" class=\"dataframe\">\n",
       "  <thead>\n",
       "    <tr style=\"text-align: right;\">\n",
       "      <th></th>\n",
       "      <th>PassengerId</th>\n",
       "      <th>Survived</th>\n",
       "      <th>Pclass</th>\n",
       "      <th>Name</th>\n",
       "      <th>Sex</th>\n",
       "      <th>Age</th>\n",
       "      <th>SibSp</th>\n",
       "      <th>Parch</th>\n",
       "      <th>Ticket</th>\n",
       "      <th>Fare</th>\n",
       "      <th>Cabin</th>\n",
       "      <th>Embarked</th>\n",
       "    </tr>\n",
       "  </thead>\n",
       "  <tbody>\n",
       "    <tr>\n",
       "      <th>0</th>\n",
       "      <td>1</td>\n",
       "      <td>0</td>\n",
       "      <td>3</td>\n",
       "      <td>Braund, Mr. Owen Harris</td>\n",
       "      <td>male</td>\n",
       "      <td>22.0</td>\n",
       "      <td>1</td>\n",
       "      <td>0</td>\n",
       "      <td>A/5 21171</td>\n",
       "      <td>7.25</td>\n",
       "      <td>NaN</td>\n",
       "      <td>S</td>\n",
       "    </tr>\n",
       "  </tbody>\n",
       "</table>\n",
       "</div>"
      ],
      "text/plain": [
       "   PassengerId  Survived  Pclass                     Name   Sex   Age  SibSp  \\\n",
       "0            1         0       3  Braund, Mr. Owen Harris  male  22.0      1   \n",
       "\n",
       "   Parch     Ticket  Fare Cabin Embarked  \n",
       "0      0  A/5 21171  7.25   NaN        S  "
      ]
     },
     "execution_count": 96,
     "metadata": {},
     "output_type": "execute_result"
    }
   ],
   "source": [
    "train.head(1)"
   ]
  },
  {
   "cell_type": "markdown",
   "metadata": {},
   "source": [
    "Order of preprocessing:\n",
    "1. Dropping columns we do not want or selecting columns we want\n",
    "2. Imputing missing values\n",
    "3. Rebinning \n",
    "4. Dummifying"
   ]
  },
  {
   "cell_type": "markdown",
   "metadata": {},
   "source": [
    "### Feature Selector\n",
    "\n",
    "* Build an sklearn class that takes DF as input \n",
    "* Selects specified columns\n",
    "* Comes handy if no preprocessing has to be done for a feature"
   ]
  },
  {
   "cell_type": "code",
   "execution_count": 155,
   "metadata": {},
   "outputs": [],
   "source": [
    "class FeatureSelector(BaseEstimator, TransformerMixin):\n",
    "    def __init__(self, features=None):\n",
    "        self.features = features\n",
    "    def fit(self, X, y=None):\n",
    "        return self\n",
    "    def transform(self, X):\n",
    "        if self.features != None:\n",
    "            return X[self.features]\n",
    "        else:\n",
    "            return X[X.columns.values]"
   ]
  },
  {
   "cell_type": "code",
   "execution_count": 158,
   "metadata": {},
   "outputs": [
    {
     "data": {
      "text/html": [
       "<div>\n",
       "<style scoped>\n",
       "    .dataframe tbody tr th:only-of-type {\n",
       "        vertical-align: middle;\n",
       "    }\n",
       "\n",
       "    .dataframe tbody tr th {\n",
       "        vertical-align: top;\n",
       "    }\n",
       "\n",
       "    .dataframe thead th {\n",
       "        text-align: right;\n",
       "    }\n",
       "</style>\n",
       "<table border=\"1\" class=\"dataframe\">\n",
       "  <thead>\n",
       "    <tr style=\"text-align: right;\">\n",
       "      <th></th>\n",
       "      <th>Survived</th>\n",
       "      <th>Sex</th>\n",
       "    </tr>\n",
       "  </thead>\n",
       "  <tbody>\n",
       "    <tr>\n",
       "      <th>0</th>\n",
       "      <td>0</td>\n",
       "      <td>male</td>\n",
       "    </tr>\n",
       "    <tr>\n",
       "      <th>1</th>\n",
       "      <td>1</td>\n",
       "      <td>female</td>\n",
       "    </tr>\n",
       "  </tbody>\n",
       "</table>\n",
       "</div>"
      ],
      "text/plain": [
       "   Survived     Sex\n",
       "0         0    male\n",
       "1         1  female"
      ]
     },
     "execution_count": 158,
     "metadata": {},
     "output_type": "execute_result"
    }
   ],
   "source": [
    "train_x = FeatureSelector(['Survived', 'Sex']).fit_transform(train)\n",
    "train_x.head(2)"
   ]
  },
  {
   "cell_type": "markdown",
   "metadata": {},
   "source": [
    "### Feature Rebinner\n",
    "\n",
    "* Build a sklearn class that rebins specified feature"
   ]
  },
  {
   "cell_type": "code",
   "execution_count": 867,
   "metadata": {},
   "outputs": [],
   "source": [
    "class FeatureRebinner(BaseEstimator, TransformerMixin):\n",
    "    def __init__(self, bins=5, edges=None):\n",
    "        self.bins = bins\n",
    "        self.edges = edges\n",
    "    def fit(self, X, y=None):\n",
    "        return self\n",
    "    def transform(self, X, y=None):\n",
    "        minimum = int(train.Age.min() // 1)\n",
    "        maximum = int(train.Age.max())\n",
    "        step = (maximum - minimum) // self.bins\n",
    "        labels = [i for i in range(self.bins)]    \n",
    "        if self.edges == None:\n",
    "            edges = [np.inf if ndx == self.bins else edge for ndx, edge in \\\n",
    "                     enumerate(range(minimum, maximum + 1, step))]\n",
    "            return pd.cut(x=X[X.columns[0]], bins=edges, labels=labels).to_frame()\n",
    "        else:\n",
    "            if type(X) == type(np.array([])):\n",
    "                X = pd.DataFrame(X)\n",
    "            return pd.cut(x=X[X.columns[0]], bins=self.edges).to_frame()"
   ]
  },
  {
   "cell_type": "code",
   "execution_count": 287,
   "metadata": {},
   "outputs": [
    {
     "name": "stdout",
     "output_type": "stream",
     "text": [
      "Raw distribution\n"
     ]
    },
    {
     "data": {
      "image/png": "[encoded data removed]",
      "text/plain": [
       "<Figure size 432x288 with 1 Axes>"
      ]
     },
     "metadata": {
      "needs_background": "light"
     },
     "output_type": "display_data"
    }
   ],
   "source": [
    "print('Raw distribution')\n",
    "train.Age.hist(grid=False, ec='k')\n",
    "plt.show()"
   ]
  },
  {
   "cell_type": "code",
   "execution_count": 295,
   "metadata": {},
   "outputs": [
    {
     "name": "stdout",
     "output_type": "stream",
     "text": [
      "Automatically rebinned distribution\n"
     ]
    },
    {
     "data": {
      "image/png": "[encoded data removed]",
      "text/plain": [
       "<Figure size 432x288 with 1 Axes>"
      ]
     },
     "metadata": {
      "needs_background": "light"
     },
     "output_type": "display_data"
    }
   ],
   "source": [
    "print('Automatically rebinned distribution')\n",
    "train_x = FeatureRebinner(bins=5).fit_transform(train[['Age']])\n",
    "train_x.hist(grid=False, ec='k', bins=5)\n",
    "plt.show()"
   ]
  },
  {
   "cell_type": "code",
   "execution_count": 299,
   "metadata": {},
   "outputs": [
    {
     "name": "stdout",
     "output_type": "stream",
     "text": [
      "Manually rebinned distribution\n"
     ]
    },
    {
     "data": {
      "text/plain": [
       "<matplotlib.axes._subplots.AxesSubplot at 0x7f7e7cce4748>"
      ]
     },
     "execution_count": 299,
     "metadata": {},
     "output_type": "execute_result"
    },
    {
     "data": {
      "image/png": "[encoded data removed]",
      "text/plain": [
       "<Figure size 432x288 with 1 Axes>"
      ]
     },
     "metadata": {
      "needs_background": "light"
     },
     "output_type": "display_data"
    }
   ],
   "source": [
    "print('Manually rebinned distribution')\n",
    "train_x = FeatureRebinner(bins=4, edges=[0, 18, 36, 54, np.inf]).fit_transform(train[['Age']])\n",
    "train_x.hist(grid=False, ec='k', bins=4)"
   ]
  },
  {
   "cell_type": "markdown",
   "metadata": {},
   "source": [
    "### Feature Remapper\n",
    "\n",
    "* Re-categorizes features with skewed classes"
   ]
  },
  {
   "cell_type": "code",
   "execution_count": 307,
   "metadata": {},
   "outputs": [
    {
     "data": {
      "text/plain": [
       "0    324\n",
       "1     52\n",
       "2     33\n",
       "3      3\n",
       "9      2\n",
       "4      2\n",
       "6      1\n",
       "5      1\n",
       "Name: Parch, dtype: int64"
      ]
     },
     "execution_count": 307,
     "metadata": {},
     "output_type": "execute_result"
    }
   ],
   "source": [
    "test.Parch.value_counts()"
   ]
  },
  {
   "cell_type": "code",
   "execution_count": 598,
   "metadata": {},
   "outputs": [],
   "source": [
    "class FeatureRemapper(BaseEstimator, TransformerMixin):\n",
    "    def __init__(self, n_classes=3):\n",
    "        self.n_classes = n_classes\n",
    "    def fit(self, X, y=None):\n",
    "        self._columns = X.columns.values\n",
    "        return self\n",
    "    def transform(self, X, y=None):\n",
    "        EX = pd.DataFrame()\n",
    "        for feature in self._columns:\n",
    "            EX[feature] = np.where(X[feature] >= self.n_classes, self.n_classes - 1, X[feature])\n",
    "        return EX.values"
   ]
  },
  {
   "cell_type": "markdown",
   "metadata": {},
   "source": [
    "### Short-listing models"
   ]
  },
  {
   "cell_type": "code",
   "execution_count": 817,
   "metadata": {},
   "outputs": [],
   "source": [
    "# function to measure estimator performance \n",
    "def test_model(estimator, preds=False):\n",
    "    \"\"\"Outputs specified estimator performance with cv=3. If\n",
    "    preds=True returns predictions on a Titanic test set.\"\"\"\n",
    "    cv_scores = cross_val_score(estimator, X=train_prepped, y=train['Survived'], cv=3)\n",
    "    \n",
    "    print('{} accuracy: {:.3f} (+/- {:.3f})'.format(\n",
    "        estimator.__class__.__name__,\n",
    "        cv_scores.mean(), cv_scores.std() * 2))\n",
    "    if preds == True:\n",
    "        clf = estimator.fit(train_prepped, train['Survived'])\n",
    "        return clf.predict(test_prepped)\n",
    "    else:\n",
    "        pass"
   ]
  },
  {
   "cell_type": "code",
   "execution_count": 33,
   "metadata": {
    "scrolled": true
   },
   "outputs": [
    {
     "name": "stdout",
     "output_type": "stream",
     "text": [
      "SVC accuracy: 0.808 (+/- 0.048)\n"
     ]
    }
   ],
   "source": [
    "# testing Support Vector Machine\n",
    "test_model(SVC(gamma='auto'))"
   ]
  },
  {
   "cell_type": "code",
   "execution_count": 815,
   "metadata": {
    "scrolled": true
   },
   "outputs": [
    {
     "name": "stdout",
     "output_type": "stream",
     "text": [
      "LogistiCregression best parameters: {'C': 160.55555555555554, 'gamma': 0.007333333333333333}\n",
      "Best accuracy score: 0.832\n"
     ]
    }
   ],
   "source": [
    "# let's tune SVM parameters\n",
    "param_grid = {'C': np.linspace(110, 175, 10),\n",
    "              'gamma': np.linspace(0.001, 0.02, 10)}\n",
    "\n",
    "svm = SVC(kernel='rbf',random_state=0)\n",
    "\n",
    "svm_grid = GridSearchCV(svm, param_grid, cv=5, iid=False,\n",
    "                        return_train_score=False, n_jobs=-1).fit(train_prepped, train['Survived'])\n",
    "\n",
    "print('LogistiCregression best parameters: {}'.format(svm_grid.best_params_))\n",
    "print('Best accuracy score: {:.3f}'.format(svm_grid.best_score_))"
   ]
  },
  {
   "cell_type": "code",
   "execution_count": 531,
   "metadata": {
    "scrolled": true
   },
   "outputs": [
    {
     "name": "stdout",
     "output_type": "stream",
     "text": [
      "LinearSVC accuracy: 0.790 (+/- 0.037)\n"
     ]
    }
   ],
   "source": [
    "# testing LinearSVC\n",
    "test_model(LinearSVC(max_iter=10000))"
   ]
  },
  {
   "cell_type": "code",
   "execution_count": 532,
   "metadata": {
    "scrolled": true
   },
   "outputs": [
    {
     "name": "stdout",
     "output_type": "stream",
     "text": [
      "RandomForestClassifier accuracy: 0.796 (+/- 0.047)\n"
     ]
    }
   ],
   "source": [
    "# testing random forest\n",
    "test_model(RandomForestClassifier(n_estimators=100))"
   ]
  },
  {
   "cell_type": "code",
   "execution_count": 533,
   "metadata": {},
   "outputs": [
    {
     "name": "stdout",
     "output_type": "stream",
     "text": [
      "LogisticRegression accuracy: 0.795 (+/- 0.039)\n"
     ]
    }
   ],
   "source": [
    "# testing LogisticRegression\n",
    "test_model(LogisticRegression(solver='liblinear'))"
   ]
  },
  {
   "cell_type": "markdown",
   "metadata": {},
   "source": [
    "## Second model run"
   ]
  },
  {
   "cell_type": "code",
   "execution_count": 309,
   "metadata": {},
   "outputs": [
    {
     "data": {
      "text/html": [
       "<div>\n",
       "<style scoped>\n",
       "    .dataframe tbody tr th:only-of-type {\n",
       "        vertical-align: middle;\n",
       "    }\n",
       "\n",
       "    .dataframe tbody tr th {\n",
       "        vertical-align: top;\n",
       "    }\n",
       "\n",
       "    .dataframe thead th {\n",
       "        text-align: right;\n",
       "    }\n",
       "</style>\n",
       "<table border=\"1\" class=\"dataframe\">\n",
       "  <thead>\n",
       "    <tr style=\"text-align: right;\">\n",
       "      <th></th>\n",
       "      <th>PassengerId</th>\n",
       "      <th>Survived</th>\n",
       "      <th>Pclass</th>\n",
       "      <th>Name</th>\n",
       "      <th>Sex</th>\n",
       "      <th>Age</th>\n",
       "      <th>SibSp</th>\n",
       "      <th>Parch</th>\n",
       "      <th>Ticket</th>\n",
       "      <th>Fare</th>\n",
       "      <th>Cabin</th>\n",
       "      <th>Embarked</th>\n",
       "    </tr>\n",
       "  </thead>\n",
       "  <tbody>\n",
       "    <tr>\n",
       "      <th>0</th>\n",
       "      <td>1</td>\n",
       "      <td>0</td>\n",
       "      <td>3</td>\n",
       "      <td>Braund, Mr. Owen Harris</td>\n",
       "      <td>male</td>\n",
       "      <td>22.0</td>\n",
       "      <td>1</td>\n",
       "      <td>0</td>\n",
       "      <td>A/5 21171</td>\n",
       "      <td>7.25</td>\n",
       "      <td>NaN</td>\n",
       "      <td>S</td>\n",
       "    </tr>\n",
       "  </tbody>\n",
       "</table>\n",
       "</div>"
      ],
      "text/plain": [
       "   PassengerId  Survived  Pclass                     Name   Sex   Age  SibSp  \\\n",
       "0            1         0       3  Braund, Mr. Owen Harris  male  22.0      1   \n",
       "\n",
       "   Parch     Ticket  Fare Cabin Embarked  \n",
       "0      0  A/5 21171  7.25   NaN        S  "
      ]
     },
     "execution_count": 309,
     "metadata": {},
     "output_type": "execute_result"
    }
   ],
   "source": [
    "train.head(1)"
   ]
  },
  {
   "cell_type": "code",
   "execution_count": 911,
   "metadata": {},
   "outputs": [
    {
     "name": "stdout",
     "output_type": "stream",
     "text": [
      "LogisticRegression accuracy: 0.787 (+/- 0.006)\n",
      "LinearSVC accuracy: 0.791 (+/- 0.016)\n",
      "RandomForestClassifier accuracy: 0.799 (+/- 0.049)\n",
      "GradientBoostingClassifier accuracy: 0.799 (+/- 0.035)\n",
      "KNeighborsClassifier accuracy: 0.779 (+/- 0.006)\n",
      "VotingClassifier accuracy: 0.808 (+/- 0.010)\n"
     ]
    }
   ],
   "source": [
    "cat_imp = ['Pclass', 'Sex', 'Embarked']\n",
    "cat_remap = ['SibSp', 'Parch']\n",
    "num_age = ['Age']\n",
    "num_fare = ['Fare']\n",
    "\n",
    "ct = ColumnTransformer([\n",
    "    ('cat_imp_enc', Pipeline([\n",
    "        ('imputer', SimpleImputer(strategy='most_frequent')),\n",
    "        ('encoder', OneHotEncoder(categories='auto'))\n",
    "    ]), cat_imp),\n",
    "    ('cat_remap', Pipeline([\n",
    "        ('remapper', FeatureRemapper()),\n",
    "        ('encoder', OneHotEncoder(categories='auto'))\n",
    "    ]), cat_remap),\n",
    "    ('age_rebin_imp', Pipeline([\n",
    "        ('rebinner', FeatureRebinner(bins=5)),\n",
    "        ('imputer', SimpleImputer(strategy='most_frequent')),\n",
    "        ('encoder', OneHotEncoder(categories='auto'))\n",
    "    ]), num_age),\n",
    "    ('fare_imp_scale', Pipeline([\n",
    "        ('imputer', SimpleImputer(strategy='mean')),\n",
    "        ('scaler', StandardScaler())\n",
    "    ]), num_fare)\n",
    "])\n",
    "\n",
    "train_prepped = ct.fit_transform(train)\n",
    "test_prepped = ct.fit_transform(test)\n",
    "\n",
    "lr = LogisticRegression(penalty='l1', C=25, solver='liblinear', random_state=7)\n",
    "lsvc = LinearSVC(C=0.07, random_state=7)\n",
    "svc = SVC(kernel='rbf', C=160, gamma=0.0073, random_state=7, probability=True)\n",
    "rf = RandomForestClassifier(n_estimators=100, max_depth=5, min_samples_leaf=5, \n",
    "    min_samples_split=15, random_state=7)\n",
    "gb = GradientBoostingClassifier(n_estimators=100, learning_rate=0.01,\n",
    "    min_samples_split=20, max_depth=4, random_state=7)\n",
    "knn = KNeighborsClassifier(n_neighbors=5, algorithm='brute')\n",
    "\n",
    "ensemble_clf = VotingClassifier([('lr', lr),('svc', svc),('knn', knn),\n",
    "                                 ('rf', rf),('gb', gb_clf)], voting='soft')\n",
    "\n",
    "clfs = [lr, lsvc, rf, gb, knn, ensemble_clf]\n",
    "for clf in clfs:\n",
    "    test_model(clf)"
   ]
  },
  {
   "cell_type": "code",
   "execution_count": 810,
   "metadata": {},
   "outputs": [
    {
     "name": "stdout",
     "output_type": "stream",
     "text": [
      "LogisticRegression accuracy: 0.795 (+/- 0.039)\n"
     ]
    }
   ],
   "source": [
    "pred = test_model(LogisticRegression(solver='liblinear'))"
   ]
  },
  {
   "cell_type": "code",
   "execution_count": 524,
   "metadata": {
    "code_folding": [
     2
    ]
   },
   "outputs": [],
   "source": [
    "def submit_model(predictions, file_number):\n",
    "    print('Creating submission DF:\\n')\n",
    "    submission_df = pd.DataFrame(data={'PassengerId':test['PassengerId'],\n",
    "                                      'Survived':predictions}, dtype=np.int64)\n",
    "    print('DF shape: {}'.format(submission_df.shape))\n",
    "    prepath = 'data/titanic/submissions/titanic_predictions_'\n",
    "    submission_df.to_csv(prepath + str(file_number) + '.csv', index=False)\n",
    "    print('{} file created.'.format('titanic_predictions_' + str(file_number) + '.csv'))"
   ]
  },
  {
   "cell_type": "code",
   "execution_count": 525,
   "metadata": {},
   "outputs": [
    {
     "name": "stdout",
     "output_type": "stream",
     "text": [
      "Creating submission DF:\n",
      "\n",
      "DF shape: (418, 2)\n",
      "titanic_predictions_2.csv file created.\n"
     ]
    }
   ],
   "source": [
    "submit_model(pred, 2)"
   ]
  },
  {
   "cell_type": "markdown",
   "metadata": {},
   "source": [
    "## Hyperparameter tuning"
   ]
  },
  {
   "cell_type": "code",
   "execution_count": 592,
   "metadata": {},
   "outputs": [],
   "source": [
    "# function for hyperparameter tuning. Outputs best\n",
    "# accuracy at best parameters\n",
    "def tune_hyper(estimator, param_grid, X, y, cv=5, n_jobs=-1):\n",
    "    grid = GridSearchCV(estimator, param_grid, cv=cv, iid=False,\n",
    "                        return_train_score=False, n_jobs=-1).fit(X, y)\n",
    "    \n",
    "    print('GridSearchCV results for {}:\\n'.format(estimator.__class__.__name__))\n",
    "    print('Best accuracy score: {:.3f}'.format(grid.best_score_))\n",
    "    \n",
    "    best_param_dict = {k:(round(v, 2)) if type(v) == float else v \\\n",
    "                       for (k, v) in grid.best_params_.items()}\n",
    "    print('Best parameters: {}'.format(best_param_dict))"
   ]
  },
  {
   "cell_type": "code",
   "execution_count": 600,
   "metadata": {},
   "outputs": [
    {
     "name": "stdout",
     "output_type": "stream",
     "text": [
      "GridSearchCV results for LogisticRegression:\n",
      "\n",
      "Best accuracy score: 0.791\n",
      "Best parameters: {'C': 25, 'penalty': 'l1'}\n"
     ]
    }
   ],
   "source": [
    "tune_hyper(LogisticRegression(solver='liblinear', random_state=6), \n",
    "           param_grid={'penalty':['l1', 'l2'], \n",
    "                       'C': np.arange(25, 40)},\n",
    "           X=train_prepped, y=train['Survived'])"
   ]
  },
  {
   "cell_type": "code",
   "execution_count": 588,
   "metadata": {},
   "outputs": [
    {
     "name": "stdout",
     "output_type": "stream",
     "text": [
      "RandomForestClassifier accuracy: 0.804 (+/- 0.044)\n"
     ]
    }
   ],
   "source": [
    "test_model(RandomForestClassifier(n_estimators=100, max_depth=6, min_samples_split=5,\n",
    "                                  min_samples_leaf=8))"
   ]
  },
  {
   "cell_type": "code",
   "execution_count": 593,
   "metadata": {},
   "outputs": [
    {
     "name": "stdout",
     "output_type": "stream",
     "text": [
      "GridSearchCV results for RandomForestClassifier:\n",
      "\n",
      "Best accuracy score: 0.820\n",
      "Best parameters: {'max_depth': 8, 'min_samples_leaf': 4, 'min_samples_split': 9}\n"
     ]
    }
   ],
   "source": [
    "tune_hyper(estimator=RandomForestClassifier(n_estimators=50), \n",
    "           param_grid={'max_depth': np.arange(1,10),\n",
    "                       'min_samples_split': np.arange(2,10),\n",
    "                       'min_samples_leaf': np.arange(4,10)},\n",
    "           X=train_prepped, y=train['Survived'])"
   ]
  },
  {
   "cell_type": "code",
   "execution_count": 597,
   "metadata": {},
   "outputs": [
    {
     "name": "stdout",
     "output_type": "stream",
     "text": [
      "RandomForestClassifier accuracy: 0.811 (+/- 0.038)\n",
      "Creating submission DF:\n",
      "\n",
      "DF shape: (418, 2)\n",
      "titanic_predictions_3.csv file created.\n"
     ]
    }
   ],
   "source": [
    "# submit randomforestclassifer model to kaggle\n",
    "preds = test_model(RandomForestClassifier(n_estimators=100, max_depth=5,\n",
    "                                          min_samples_leaf=5, min_samples_split=9),\n",
    "                   preds=True)\n",
    "submit_model(predictions=preds, file_number=3)"
   ]
  },
  {
   "cell_type": "code",
   "execution_count": 706,
   "metadata": {},
   "outputs": [
    {
     "name": "stdout",
     "output_type": "stream",
     "text": [
      "GridSearchCV results for LinearSVC:\n",
      "\n",
      "Best accuracy score: 0.811\n",
      "Best parameters: {'C': 0.06905513520162328}\n"
     ]
    }
   ],
   "source": [
    "tune_hyper(LinearSVC(), \n",
    "           param_grid={'C': np.logspace(-3, -1, 200)},\n",
    "           X=train_prepped, y=train['Survived'])"
   ]
  },
  {
   "cell_type": "markdown",
   "metadata": {},
   "source": [
    "## Extra Feature-Engineering\n",
    "\n",
    "1. Change *SibSp* and *Parch* mapping:\n",
    "    * before we had 3 classes, 0, 1 and +1\n",
    "    * now lets try classes 0 and any\n",
    "2. Playing around with 'Age' rebinning   \n",
    "2. Try extracting name titles from the names\n",
    "3. Eperiment rebinning and categorizing fare fature\n",
    "4. Experiment with cabin amounts, and letters"
   ]
  },
  {
   "cell_type": "markdown",
   "metadata": {},
   "source": [
    "### Chaning 'SibSp' and 'Parch' mapping from 3 classes to 2"
   ]
  },
  {
   "cell_type": "code",
   "execution_count": 602,
   "metadata": {},
   "outputs": [
    {
     "name": "stdout",
     "output_type": "stream",
     "text": [
      "LogisticRegression accuracy: 0.795 (+/- 0.043)\n"
     ]
    }
   ],
   "source": [
    "# before feature engineering\n",
    "test_model(LogisticRegression(penalty='l1', C=25, solver='liblinear'))"
   ]
  },
  {
   "cell_type": "code",
   "execution_count": 912,
   "metadata": {},
   "outputs": [
    {
     "name": "stdout",
     "output_type": "stream",
     "text": [
      "LogisticRegression accuracy: 0.791 (+/- 0.015)\n",
      "LinearSVC accuracy: 0.777 (+/- 0.008)\n",
      "RandomForestClassifier accuracy: 0.808 (+/- 0.034)\n",
      "GradientBoostingClassifier accuracy: 0.800 (+/- 0.037)\n",
      "KNeighborsClassifier accuracy: 0.787 (+/- 0.014)\n",
      "VotingClassifier accuracy: 0.813 (+/- 0.006)\n"
     ]
    }
   ],
   "source": [
    "# remap the 'SibSp' and 'Parch' from 3 classes to two\n",
    "cat_imp = ['Pclass', 'Sex', 'Embarked']\n",
    "cat_remap = ['SibSp', 'Parch']\n",
    "num_age = ['Age']\n",
    "num_fare = ['Fare']\n",
    "\n",
    "ct = ColumnTransformer([\n",
    "    ('cat_imp_enc', Pipeline([\n",
    "        ('imputer', SimpleImputer(strategy='most_frequent')),\n",
    "        ('encoder', OneHotEncoder(categories='auto'))\n",
    "    ]), cat_imp),\n",
    "    ('cat_remap', Pipeline([\n",
    "        ('remapper', FeatureRemapper(n_classes=2)),\n",
    "        ('encoder', OneHotEncoder(categories='auto'))\n",
    "    ]), cat_remap),\n",
    "    ('age_rebin_imp', Pipeline([\n",
    "        ('rebinner', FeatureRebinner(bins=5)),\n",
    "        ('imputer', SimpleImputer(strategy='most_frequent')),\n",
    "        ('encoder', OneHotEncoder(categories='auto'))\n",
    "    ]), num_age),\n",
    "    ('fare_imp_scale', Pipeline([\n",
    "        ('imputer', SimpleImputer(strategy='mean')),\n",
    "        ('scaler', StandardScaler())\n",
    "    ]), num_fare)\n",
    "])\n",
    "\n",
    "train_prepped = ct.fit_transform(train)\n",
    "test_prepped = ct.fit_transform(test)\n",
    "\n",
    "lr = LogisticRegression(penalty='l1', C=25, solver='liblinear', random_state=7)\n",
    "lsvc = LinearSVC(C=0.07, random_state=7)\n",
    "svc = SVC(kernel='rbf', C=160, gamma=0.0073, random_state=7, probability=True)\n",
    "rf = RandomForestClassifier(n_estimators=100, max_depth=5, min_samples_leaf=5, \n",
    "    min_samples_split=15, random_state=7)\n",
    "gb = GradientBoostingClassifier(n_estimators=100, learning_rate=0.01,\n",
    "    min_samples_split=20, max_depth=4, random_state=7)\n",
    "knn = KNeighborsClassifier(n_neighbors=5, algorithm='brute')\n",
    "\n",
    "ensemble_clf = VotingClassifier([('lr', lr),('svc', svc),('knn', knn),\n",
    "                                 ('rf', rf),('gb', gb_clf)], voting='soft')\n",
    "\n",
    "clfs = [lr, lsvc, rf, gb, knn, ensemble_clf]\n",
    "for clf in clfs:\n",
    "    test_model(clf)"
   ]
  },
  {
   "cell_type": "markdown",
   "metadata": {},
   "source": [
    "We lost some of the accuracy, thus we keep 3 classes for 'SibSp' and 'Parch'"
   ]
  },
  {
   "cell_type": "markdown",
   "metadata": {},
   "source": [
    "### 'Age' rebinning"
   ]
  },
  {
   "cell_type": "code",
   "execution_count": 913,
   "metadata": {},
   "outputs": [
    {
     "name": "stdout",
     "output_type": "stream",
     "text": [
      "LogisticRegression accuracy: 0.807 (+/- 0.008)\n",
      "LinearSVC accuracy: 0.785 (+/- 0.016)\n",
      "RandomForestClassifier accuracy: 0.810 (+/- 0.014)\n",
      "GradientBoostingClassifier accuracy: 0.800 (+/- 0.066)\n",
      "KNeighborsClassifier accuracy: 0.788 (+/- 0.063)\n",
      "VotingClassifier accuracy: 0.807 (+/- 0.017)\n"
     ]
    }
   ],
   "source": [
    "ct = ColumnTransformer([\n",
    "    ('cat_imp_enc', Pipeline([\n",
    "        ('imputer', SimpleImputer(strategy='most_frequent')),\n",
    "        ('encoder', OneHotEncoder(categories='auto'))\n",
    "    ]), cat_imp),\n",
    "    ('cat_remap', Pipeline([\n",
    "        ('remapper', FeatureRemapper(n_classes=2)),\n",
    "        ('encoder', OneHotEncoder(categories='auto'))\n",
    "    ]), cat_remap),\n",
    "    ('age_rebin_imp', Pipeline([\n",
    "        ('rebinner', FeatureRebinner(bins=4, edges=[0.0, 8, 18, 50, np.inf])),\n",
    "        ('imputer', SimpleImputer(strategy='most_frequent')),\n",
    "        ('encoder', OneHotEncoder(categories='auto'))\n",
    "    ]), num_age),\n",
    "    ('fare_imp_scale', Pipeline([\n",
    "        ('imputer', SimpleImputer(strategy='mean')),\n",
    "        ('scaler', StandardScaler())\n",
    "    ]), num_fare)\n",
    "])\n",
    "\n",
    "train_prepped = ct.fit_transform(train)\n",
    "test_prepped = ct.fit_transform(test)\n",
    "\n",
    "lr = LogisticRegression(penalty='l1', C=25, solver='liblinear', random_state=7)\n",
    "lsvc = LinearSVC(C=0.07, random_state=7)\n",
    "svc = SVC(kernel='rbf', C=160, gamma=0.0073, random_state=7, probability=True)\n",
    "rf = RandomForestClassifier(n_estimators=100, max_depth=5, min_samples_leaf=5, \n",
    "    min_samples_split=15, random_state=7)\n",
    "gb = GradientBoostingClassifier(n_estimators=100, learning_rate=0.01,\n",
    "    min_samples_split=20, max_depth=4, random_state=7)\n",
    "knn = KNeighborsClassifier(n_neighbors=5, algorithm='brute')\n",
    "\n",
    "ensemble_clf = VotingClassifier([('lr', lr),('svc', svc),('knn', knn),\n",
    "                                 ('rf', rf),('gb', gb_clf)], voting='soft')\n",
    "\n",
    "clfs = [lr, lsvc, rf, gb, knn, ensemble_clf]\n",
    "for clf in clfs:\n",
    "    test_model(clf)"
   ]
  },
  {
   "cell_type": "markdown",
   "metadata": {},
   "source": [
    "### Titles from 'Name'"
   ]
  },
  {
   "cell_type": "code",
   "execution_count": 632,
   "metadata": {},
   "outputs": [
    {
     "data": {
      "text/html": [
       "<div>\n",
       "<style scoped>\n",
       "    .dataframe tbody tr th:only-of-type {\n",
       "        vertical-align: middle;\n",
       "    }\n",
       "\n",
       "    .dataframe tbody tr th {\n",
       "        vertical-align: top;\n",
       "    }\n",
       "\n",
       "    .dataframe thead th {\n",
       "        text-align: right;\n",
       "    }\n",
       "</style>\n",
       "<table border=\"1\" class=\"dataframe\">\n",
       "  <thead>\n",
       "    <tr style=\"text-align: right;\">\n",
       "      <th></th>\n",
       "      <th>Name</th>\n",
       "    </tr>\n",
       "  </thead>\n",
       "  <tbody>\n",
       "    <tr>\n",
       "      <th>0</th>\n",
       "      <td>Braund, Mr. Owen Harris</td>\n",
       "    </tr>\n",
       "    <tr>\n",
       "      <th>1</th>\n",
       "      <td>Cumings, Mrs. John Bradley (Florence Briggs Th...</td>\n",
       "    </tr>\n",
       "    <tr>\n",
       "      <th>2</th>\n",
       "      <td>Heikkinen, Miss. Laina</td>\n",
       "    </tr>\n",
       "    <tr>\n",
       "      <th>3</th>\n",
       "      <td>Futrelle, Mrs. Jacques Heath (Lily May Peel)</td>\n",
       "    </tr>\n",
       "    <tr>\n",
       "      <th>4</th>\n",
       "      <td>Allen, Mr. William Henry</td>\n",
       "    </tr>\n",
       "  </tbody>\n",
       "</table>\n",
       "</div>"
      ],
      "text/plain": [
       "                                                Name\n",
       "0                            Braund, Mr. Owen Harris\n",
       "1  Cumings, Mrs. John Bradley (Florence Briggs Th...\n",
       "2                             Heikkinen, Miss. Laina\n",
       "3       Futrelle, Mrs. Jacques Heath (Lily May Peel)\n",
       "4                           Allen, Mr. William Henry"
      ]
     },
     "execution_count": 632,
     "metadata": {},
     "output_type": "execute_result"
    }
   ],
   "source": [
    "train[['Name']].head()"
   ]
  },
  {
   "cell_type": "code",
   "execution_count": 640,
   "metadata": {},
   "outputs": [
    {
     "data": {
      "text/plain": [
       "Mr.          517\n",
       "Miss.        182\n",
       "Mrs.         125\n",
       "Master.       40\n",
       "Dr.            7\n",
       "Rev.           6\n",
       "Mlle.          2\n",
       "Major.         2\n",
       "Col.           2\n",
       "Mme.           1\n",
       "Don.           1\n",
       "Sir.           1\n",
       "Lady.          1\n",
       "Ms.            1\n",
       "Countess.      1\n",
       "Jonkheer.      1\n",
       "Capt.          1\n",
       "Name: 0, dtype: int64"
      ]
     },
     "execution_count": 640,
     "metadata": {},
     "output_type": "execute_result"
    }
   ],
   "source": [
    "# finding name titles in trainign set\n",
    "train.Name.str.extract(pat=r'(\\b[A-Z][a-z]*\\.)')[0].value_counts()"
   ]
  },
  {
   "cell_type": "code",
   "execution_count": 641,
   "metadata": {},
   "outputs": [
    {
     "data": {
      "text/plain": [
       "Mr.        240\n",
       "Miss.       78\n",
       "Mrs.        72\n",
       "Master.     21\n",
       "Col.         2\n",
       "Rev.         2\n",
       "Ms.          1\n",
       "Dr.          1\n",
       "Dona.        1\n",
       "Name: 0, dtype: int64"
      ]
     },
     "execution_count": 641,
     "metadata": {},
     "output_type": "execute_result"
    }
   ],
   "source": [
    "# finding name titles in test set\n",
    "test.Name.str.extract(pat=r'(\\b[A-Z][a-z]*\\.)')[0].value_counts()"
   ]
  },
  {
   "cell_type": "markdown",
   "metadata": {},
   "source": [
    "All instances in trainign and test sets contain a title. Let's try to group them down into few general titles, special one go to tile 'Vip.'"
   ]
  },
  {
   "cell_type": "code",
   "execution_count": 643,
   "metadata": {},
   "outputs": [],
   "source": [
    "title_dict = {'Mlle.': 'Miss.', \n",
    "              'Col.': 'Vip.',\n",
    "              'Major.': 'Vip.',\n",
    "              'Lady.': 'Mrs.',\n",
    "              'Ms.': 'Miss.',\n",
    "              'Capt.': 'Vip.',\n",
    "              'Countess.': 'Vip.',\n",
    "              'Sir.': 'Vip.',\n",
    "              'Don.': 'Vip.',\n",
    "              'Mme.': 'Mrs.',\n",
    "              'Dona.': 'Vip.',\n",
    "              'Rev.': 'Vip.',\n",
    "              'Dr.': 'Vip.',\n",
    "              'Jonkheer.': 'Vip.'}"
   ]
  },
  {
   "cell_type": "code",
   "execution_count": 687,
   "metadata": {
    "code_folding": []
   },
   "outputs": [],
   "source": [
    "# sklearn transformer that extarcts name titles\n",
    "# from names and remaps some unique titles by\n",
    "# provided dictionary\n",
    "class TitleExtractor(BaseEstimator, TransformerMixin):\n",
    "    def __init__(self, re_pattern=r'(\\b[A-Z][a-z]*\\.)', title_dict=title_dict):\n",
    "        self.re_pattern = re_pattern\n",
    "        self.title_dict = title_dict\n",
    "    def fit(self, X, y=None):\n",
    "        self.col = X.columns[0]\n",
    "        return self\n",
    "    def transform(self, X, y=None):\n",
    "        return X[self.col].str.extract(pat=self.re_pattern).replace(to_replace=title_dict)"
   ]
  },
  {
   "cell_type": "code",
   "execution_count": 916,
   "metadata": {},
   "outputs": [
    {
     "name": "stdout",
     "output_type": "stream",
     "text": [
      "LogisticRegression accuracy: 0.804 (+/- 0.052)\n",
      "LinearSVC accuracy: 0.799 (+/- 0.026)\n",
      "RandomForestClassifier accuracy: 0.813 (+/- 0.022)\n",
      "GradientBoostingClassifier accuracy: 0.820 (+/- 0.050)\n",
      "VotingClassifier accuracy: 0.824 (+/- 0.018)\n"
     ]
    }
   ],
   "source": [
    "ct = ColumnTransformer([\n",
    "    ('cat_imp_enc', Pipeline([\n",
    "        ('imputer', SimpleImputer(strategy='most_frequent')),\n",
    "        ('encoder', OneHotEncoder(categories='auto'))\n",
    "    ]), cat_imp),\n",
    "    ('cat_remap', Pipeline([\n",
    "        ('remapper', FeatureRemapper(n_classes=2)),\n",
    "        ('encoder', OneHotEncoder(categories='auto'))\n",
    "    ]), cat_remap),\n",
    "    ('age_rebin_imp', Pipeline([\n",
    "        ('rebinner', FeatureRebinner(bins=4, edges=[0.0, 8, 18, 50, np.inf])),\n",
    "        ('imputer', SimpleImputer(strategy='most_frequent')),\n",
    "        ('encoder', OneHotEncoder(categories='auto'))\n",
    "    ]), num_age),\n",
    "    ('fare_imp_scale', Pipeline([\n",
    "        ('imputer', SimpleImputer(strategy='mean')),\n",
    "        ('scaler', StandardScaler())\n",
    "    ]), num_fare),\n",
    "    ('name_title', Pipeline([\n",
    "        ('ext_titles', TitleExtractor()),\n",
    "        ('encoder', OneHotEncoder(categories='auto'))\n",
    "    ]), ['Name'])\n",
    "])\n",
    "\n",
    "train_prepped = ct.fit_transform(train)\n",
    "test_prepped = ct.fit_transform(test)\n",
    "\n",
    "lr = LogisticRegression(penalty='l1', C=25, solver='liblinear', random_state=7)\n",
    "lsvc = LinearSVC(C=0.07, random_state=7)\n",
    "svc = SVC(kernel='rbf', C=160, gamma=0.0073, random_state=7, probability=True)\n",
    "rf = RandomForestClassifier(n_estimators=100, max_depth=5, min_samples_leaf=5, \n",
    "    min_samples_split=15, random_state=7)\n",
    "gb = GradientBoostingClassifier(n_estimators=100, learning_rate=0.01,\n",
    "    min_samples_split=20, max_depth=4, random_state=7)\n",
    "\n",
    "ensemble_clf = VotingClassifier([('lr', lr),('svc', svc),\n",
    "                                 ('rf', rf),('gb', gb_clf)], voting='soft')\n",
    "\n",
    "clfs = [lr, lsvc, rf, gb, ensemble_clf]\n",
    "for clf in clfs:\n",
    "    test_model(clf)"
   ]
  },
  {
   "cell_type": "markdown",
   "metadata": {},
   "source": [
    "### Rebin and categorize 'Fare' feature"
   ]
  },
  {
   "cell_type": "code",
   "execution_count": 149,
   "metadata": {},
   "outputs": [
    {
     "data": {
      "image/png": "[encoded data removed]",
      "text/plain": [
       "<Figure size 432x288 with 1 Axes>"
      ]
     },
     "metadata": {
      "needs_background": "light"
     },
     "output_type": "display_data"
    }
   ],
   "source": [
    "titanic.Fare.hist(bins=25, edgecolor='black')\n",
    "plt.show()"
   ]
  },
  {
   "cell_type": "markdown",
   "metadata": {},
   "source": [
    "Zoom into 100"
   ]
  },
  {
   "cell_type": "code",
   "execution_count": 150,
   "metadata": {},
   "outputs": [
    {
     "data": {
      "image/png": "[encoded data removed]",
      "text/plain": [
       "<Figure size 432x288 with 1 Axes>"
      ]
     },
     "metadata": {
      "needs_background": "light"
     },
     "output_type": "display_data"
    }
   ],
   "source": [
    "titanic.Fare[titanic.Fare < 100].hist(bins=20, edgecolor='black')\n",
    "plt.show()"
   ]
  },
  {
   "cell_type": "markdown",
   "metadata": {},
   "source": [
    "Let's try with various bins:\n",
    "* (0, 10, 20, 30, 40, inf)\n",
    "* (0, 25, 50, inf)"
   ]
  },
  {
   "cell_type": "code",
   "execution_count": 918,
   "metadata": {},
   "outputs": [
    {
     "name": "stdout",
     "output_type": "stream",
     "text": [
      "LogisticRegression accuracy: 0.809 (+/- 0.055)\n",
      "LinearSVC accuracy: 0.809 (+/- 0.042)\n",
      "RandomForestClassifier accuracy: 0.815 (+/- 0.020)\n",
      "GradientBoostingClassifier accuracy: 0.820 (+/- 0.061)\n",
      "KNeighborsClassifier accuracy: 0.790 (+/- 0.063)\n",
      "VotingClassifier accuracy: 0.823 (+/- 0.021)\n"
     ]
    }
   ],
   "source": [
    "ct = ColumnTransformer([\n",
    "    ('cat_imp_enc', Pipeline([\n",
    "        ('imputer', SimpleImputer(strategy='most_frequent')),\n",
    "        ('encoder', OneHotEncoder(categories='auto'))\n",
    "    ]), cat_imp),\n",
    "    ('cat_remap', Pipeline([\n",
    "        ('remapper', FeatureRemapper(n_classes=2)),\n",
    "        ('encoder', OneHotEncoder(categories='auto'))\n",
    "    ]), cat_remap),\n",
    "    ('age_rebin_imp', Pipeline([\n",
    "        ('rebinner', FeatureRebinner(bins=4, edges=[0.0, 8, 18, 50, np.inf])),\n",
    "        ('imputer', SimpleImputer(strategy='most_frequent')),\n",
    "        ('encoder', OneHotEncoder(categories='auto'))\n",
    "    ]), num_age),\n",
    "    ('fare_imp_scale', Pipeline([\n",
    "        ('rebinner', FeatureRebinner(bins=3, edges=[0,25,50,np.inf])),\n",
    "        ('imputer', SimpleImputer(strategy='most_frequent')),\n",
    "        ('encoder', OneHotEncoder(categories='auto'))\n",
    "    ]), ['Fare']),\n",
    "    ('name_title', Pipeline([\n",
    "        ('ext_titles', TitleExtractor()),\n",
    "        ('encoder', OneHotEncoder(categories='auto'))\n",
    "    ]), ['Name'])\n",
    "])\n",
    "\n",
    "train_prepped = ct.fit_transform(train)\n",
    "test_prepped = ct.fit_transform(test)\n",
    "\n",
    "lr = LogisticRegression(penalty='l1', C=25, solver='liblinear', random_state=7)\n",
    "lsvc = LinearSVC(C=0.07, random_state=7)\n",
    "svc = SVC(kernel='rbf', C=160, gamma=0.0073, random_state=7, probability=True)\n",
    "rf = RandomForestClassifier(n_estimators=100, max_depth=5, min_samples_leaf=5, \n",
    "    min_samples_split=15, random_state=7)\n",
    "gb = GradientBoostingClassifier(n_estimators=100, learning_rate=0.01,\n",
    "    min_samples_split=20, max_depth=4, random_state=7)\n",
    "\n",
    "knn = KNeighborsClassifier(n_neighbors=5, algorithm='brute')\n",
    "\n",
    "ensemble_clf = VotingClassifier([('lr', lr),('svc', svc),('knn', knn),\n",
    "                                 ('rf', rf),('gb', gb_clf)], voting='hard')\n",
    "\n",
    "clfs = [lr, lsvc, rf, gb, knn, ensemble_clf]\n",
    "for clf in clfs:\n",
    "    test_model(clf)"
   ]
  },
  {
   "cell_type": "code",
   "execution_count": 709,
   "metadata": {},
   "outputs": [],
   "source": [
    "test_prepped = ct.fit_transform(test)"
   ]
  },
  {
   "cell_type": "code",
   "execution_count": 710,
   "metadata": {},
   "outputs": [
    {
     "name": "stdout",
     "output_type": "stream",
     "text": [
      "RandomForestClassifier accuracy: 0.816 (+/- 0.035)\n",
      "Creating submission DF:\n",
      "\n",
      "DF shape: (418, 2)\n",
      "titanic_predictions_4.csv file created.\n"
     ]
    }
   ],
   "source": [
    "# submit this result with RFC\n",
    "preds = test_model(RandomForestClassifier(n_estimators=100, max_depth=5, min_samples_leaf=5, \n",
    "                                  min_samples_split=15, random_state=6), preds=True)\n",
    "submit_model(preds, 4)"
   ]
  },
  {
   "cell_type": "code",
   "execution_count": 712,
   "metadata": {},
   "outputs": [
    {
     "name": "stdout",
     "output_type": "stream",
     "text": [
      "LinearSVC accuracy: 0.809 (+/- 0.045)\n",
      "Creating submission DF:\n",
      "\n",
      "DF shape: (418, 2)\n",
      "titanic_predictions_5.csv file created.\n"
     ]
    }
   ],
   "source": [
    "# submit the result with LinearSVC\n",
    "preds = test_model(LinearSVC(C=0.07), preds=True)\n",
    "submit_model(preds, 5)"
   ]
  },
  {
   "cell_type": "markdown",
   "metadata": {},
   "source": [
    "### Experiment with 'Cabin' feature"
   ]
  },
  {
   "cell_type": "code",
   "execution_count": 152,
   "metadata": {},
   "outputs": [
    {
     "name": "stdout",
     "output_type": "stream",
     "text": [
      "<class 'pandas.core.frame.DataFrame'>\n",
      "RangeIndex: 891 entries, 0 to 890\n",
      "Data columns (total 12 columns):\n",
      "PassengerId    891 non-null int64\n",
      "Survived       891 non-null int64\n",
      "Pclass         891 non-null int64\n",
      "Name           891 non-null object\n",
      "Sex            891 non-null object\n",
      "Age            714 non-null float64\n",
      "SibSp          891 non-null int64\n",
      "Parch          891 non-null int64\n",
      "Ticket         891 non-null object\n",
      "Fare           891 non-null float64\n",
      "Cabin          204 non-null object\n",
      "Embarked       889 non-null object\n",
      "dtypes: float64(2), int64(5), object(5)\n",
      "memory usage: 83.6+ KB\n"
     ]
    }
   ],
   "source": [
    "titanic.info()"
   ]
  },
  {
   "cell_type": "code",
   "execution_count": 713,
   "metadata": {},
   "outputs": [
    {
     "data": {
      "text/plain": [
       "C    59\n",
       "B    47\n",
       "D    33\n",
       "E    32\n",
       "A    15\n",
       "F    13\n",
       "G     4\n",
       "T     1\n",
       "Name: 0, dtype: int64"
      ]
     },
     "execution_count": 713,
     "metadata": {},
     "output_type": "execute_result"
    }
   ],
   "source": [
    "train[train.Cabin.notna()].Cabin.str.extract(pat=r'(\\b[A-Z]{1})')[0].value_counts()"
   ]
  },
  {
   "cell_type": "code",
   "execution_count": 770,
   "metadata": {},
   "outputs": [
    {
     "data": {
      "text/plain": [
       "C    35\n",
       "B    18\n",
       "D    13\n",
       "E     9\n",
       "F     8\n",
       "A     7\n",
       "G     1\n",
       "Name: 0, dtype: int64"
      ]
     },
     "execution_count": 770,
     "metadata": {},
     "output_type": "execute_result"
    }
   ],
   "source": [
    "test[test.Cabin.notna()].Cabin.str.extract(pat=r'(\\b[A-Z]{1})')[0].value_counts()"
   ]
  },
  {
   "cell_type": "code",
   "execution_count": 875,
   "metadata": {},
   "outputs": [],
   "source": [
    "cabin_dict = {\n",
    "    'A':1,\n",
    "    'B':1,\n",
    "    'C':1,\n",
    "    'D':1,\n",
    "    'E':2,\n",
    "    'F':3,\n",
    "    'G':3,\n",
    "    'T':3,\n",
    "    'X':3\n",
    "}"
   ]
  },
  {
   "cell_type": "code",
   "execution_count": 775,
   "metadata": {},
   "outputs": [],
   "source": [
    "cabin_dict2 = {\n",
    "    'A':1,\n",
    "    'B':1,\n",
    "    'C':1,\n",
    "    'D':2,\n",
    "    'E':3,\n",
    "    'F':3,\n",
    "    'G':3,\n",
    "    'T':3,\n",
    "    'X':3\n",
    "}"
   ]
  },
  {
   "cell_type": "code",
   "execution_count": 876,
   "metadata": {},
   "outputs": [],
   "source": [
    "# finds cabin letter if applicable, extracts it, replaces nans with 'X',\n",
    "# converts cabins to respective classes 1,2,3. It is presumed that most\n",
    "# of nans correspond to class 3 people\n",
    "class CabinFormatter(BaseEstimator, TransformerMixin):\n",
    "    def __init__(self):\n",
    "        return None\n",
    "    def fit(self, X, y=None):\n",
    "        self._columns = X.columns.values\n",
    "        return self\n",
    "    def transform(self, X, y=None):\n",
    "        return X[self._columns[0]].apply(lambda x: x[0] if x is not np.nan else 'X')\\\n",
    "    .to_frame().replace(to_replace=cabin_dict)"
   ]
  },
  {
   "cell_type": "code",
   "execution_count": 851,
   "metadata": {},
   "outputs": [],
   "source": [
    "class HasCabin(BaseEstimator, TransformerMixin):\n",
    "    def __init__(self):\n",
    "        return None\n",
    "    def fit(self, X, y=None):\n",
    "        self.data = X[X.columns[0]].to_frame()\n",
    "        return self\n",
    "    def transform(self, X, y=None):\n",
    "        return ~self.data.isna()"
   ]
  },
  {
   "cell_type": "code",
   "execution_count": 921,
   "metadata": {},
   "outputs": [
    {
     "name": "stdout",
     "output_type": "stream",
     "text": [
      "LogisticRegression accuracy: 0.809 (+/- 0.041)\n",
      "LinearSVC accuracy: 0.808 (+/- 0.029)\n",
      "RandomForestClassifier accuracy: 0.815 (+/- 0.019)\n",
      "GradientBoostingClassifier accuracy: 0.819 (+/- 0.059)\n",
      "KNeighborsClassifier accuracy: 0.800 (+/- 0.014)\n",
      "VotingClassifier accuracy: 0.822 (+/- 0.016)\n"
     ]
    }
   ],
   "source": [
    "ct = ColumnTransformer([\n",
    "    ('cat_imp_enc', Pipeline([\n",
    "        ('imputer', SimpleImputer(strategy='most_frequent')),\n",
    "        ('encoder', OneHotEncoder(categories='auto'))\n",
    "    ]), cat_imp),\n",
    "    ('cat_remap', Pipeline([\n",
    "        ('remapper', FeatureRemapper(n_classes=2)),\n",
    "        ('encoder', OneHotEncoder(categories='auto'))\n",
    "    ]), cat_remap),\n",
    "    ('age_rebin_imp', Pipeline([\n",
    "        ('rebinner', FeatureRebinner(bins=4, edges=[0.0, 8, 18, 50, np.inf])),\n",
    "        ('imputer', SimpleImputer(strategy='most_frequent')),\n",
    "        ('encoder', OneHotEncoder(categories='auto'))\n",
    "    ]), num_age),\n",
    "    ('fare_imp_scale', Pipeline([\n",
    "        ('rebinner', FeatureRebinner(bins=3, edges=[0,25,50,np.inf])),\n",
    "        ('imputer', SimpleImputer(strategy='most_frequent')),\n",
    "        ('encoder', OneHotEncoder(categories='auto'))\n",
    "    ]), ['Fare']),\n",
    "    ('name_title', Pipeline([\n",
    "        ('ext_titles', TitleExtractor()),\n",
    "        ('encoder', OneHotEncoder(categories='auto'))\n",
    "    ]), ['Name']),\n",
    "    ('has_cabin', Pipeline([\n",
    "        ('has', HasCabin()),\n",
    "        ('encoder', OneHotEncoder(categories='auto'))\n",
    "    ]), ['Cabin'])\n",
    "])\n",
    "\n",
    "train_prepped = ct.fit_transform(train)\n",
    "test_prepped = ct.fit_transform(test)\n",
    "\n",
    "train_prepped = ct.fit_transform(train)\n",
    "test_prepped = ct.fit_transform(test)\n",
    "\n",
    "lr = LogisticRegression(penalty='l1', C=25, solver='liblinear', random_state=7)\n",
    "lsvc = LinearSVC(C=0.07, random_state=7)\n",
    "svc = SVC(kernel='rbf', C=160, gamma=0.0073, random_state=7, probability=True)\n",
    "rf = RandomForestClassifier(n_estimators=100, max_depth=5, min_samples_leaf=5, \n",
    "    min_samples_split=15, random_state=7)\n",
    "gb = GradientBoostingClassifier(n_estimators=100, learning_rate=0.01,\n",
    "    min_samples_split=20, max_depth=4, random_state=7)\n",
    "\n",
    "knn = KNeighborsClassifier(n_neighbors=5, algorithm='brute')\n",
    "\n",
    "ensemble_clf = VotingClassifier([('lr', lr),('svc', svc),('knn', knn),\n",
    "                                 ('rf', rf),('gb', gb_clf)], voting='soft')\n",
    "\n",
    "clfs = [lr, lsvc, rf, gb, knn, ensemble_clf]\n",
    "for clf in clfs:\n",
    "    test_model(clf)"
   ]
  },
  {
   "cell_type": "code",
   "execution_count": 726,
   "metadata": {},
   "outputs": [
    {
     "name": "stdout",
     "output_type": "stream",
     "text": [
      "LogisticRegression accuracy: 0.807 (+/- 0.071)\n",
      "Creating submission DF:\n",
      "\n",
      "DF shape: (418, 2)\n",
      "titanic_predictions_6.csv file created.\n"
     ]
    }
   ],
   "source": [
    "# submit the result with LinearSVC\n",
    "preds = test_model(LogisticRegression(penalty='l1', C=25, solver='liblinear', random_state=6), preds=True)\n",
    "submit_model(preds, 6)"
   ]
  },
  {
   "cell_type": "code",
   "execution_count": 727,
   "metadata": {},
   "outputs": [
    {
     "name": "stdout",
     "output_type": "stream",
     "text": [
      "RandomForestClassifier accuracy: 0.817 (+/- 0.034)\n",
      "Creating submission DF:\n",
      "\n",
      "DF shape: (418, 2)\n",
      "titanic_predictions_7.csv file created.\n"
     ]
    }
   ],
   "source": [
    "# submit the result with LinearSVC\n",
    "preds = test_model(RandomForestClassifier(n_estimators=100, max_depth=5, min_samples_leaf=5, \n",
    "                                  min_samples_split=15, random_state=6), preds=True)\n",
    "submit_model(preds, 7)"
   ]
  },
  {
   "cell_type": "code",
   "execution_count": 732,
   "metadata": {},
   "outputs": [
    {
     "name": "stdout",
     "output_type": "stream",
     "text": [
      "GridSearchCV results for RandomForestClassifier:\n",
      "\n",
      "Best accuracy score: 0.815\n",
      "Best parameters: {'min_samples_leaf': 5, 'min_samples_split': 20}\n"
     ]
    }
   ],
   "source": [
    "# tune hyper paramters for RFC\n",
    "tune_hyper(estimator=RandomForestClassifier(n_estimators=100, max_depth=4), \n",
    "           param_grid={'min_samples_split': np.arange(5,25,5),\n",
    "                       'min_samples_leaf': np.arange(5, 25, 5)},\n",
    "           X=train_prepped, y=train['Survived'])"
   ]
  },
  {
   "cell_type": "code",
   "execution_count": 739,
   "metadata": {},
   "outputs": [
    {
     "name": "stdout",
     "output_type": "stream",
     "text": [
      "GridSearchCV results for GradientBoostingClassifier:\n",
      "\n",
      "Best accuracy score: 0.832\n",
      "Best parameters: {'learning_rate': 0.01, 'max_depth': 5, 'min_samples_split': 20}\n"
     ]
    }
   ],
   "source": [
    "# tune hyper paramters for GBC\n",
    "tune_hyper(estimator=GradientBoostingClassifier(n_estimators=100), \n",
    "           param_grid={'learning_rate': [0.01],\n",
    "                       'min_samples_split': [20],\n",
    "                       'max_depth': [5]},\n",
    "           X=train_prepped, y=train['Survived'])"
   ]
  },
  {
   "cell_type": "code",
   "execution_count": 740,
   "metadata": {},
   "outputs": [
    {
     "name": "stdout",
     "output_type": "stream",
     "text": [
      "GradientBoostingClassifier accuracy: 0.815 (+/- 0.071)\n",
      "Creating submission DF:\n",
      "\n",
      "DF shape: (418, 2)\n",
      "titanic_predictions_8.csv file created.\n"
     ]
    }
   ],
   "source": [
    "# submit the result with GBC\n",
    "preds = test_model(GradientBoostingClassifier(n_estimators=100, learning_rate=0.01,\n",
    "                                              min_samples_split=20, max_depth=4), preds=True)\n",
    "submit_model(preds, 9)"
   ]
  },
  {
   "cell_type": "code",
   "execution_count": 741,
   "metadata": {},
   "outputs": [
    {
     "name": "stdout",
     "output_type": "stream",
     "text": [
      "GradientBoostingClassifier accuracy: 0.805 (+/- 0.047)\n",
      "Creating submission DF:\n",
      "\n",
      "DF shape: (418, 2)\n",
      "titanic_predictions_9.csv file created.\n"
     ]
    }
   ],
   "source": [
    "# submit the result with GBC\n",
    "preds = test_model(GradientBoostingClassifier(n_estimators=100, learning_rate=0.01,\n",
    "                                              min_samples_split=20, max_depth=4), preds=True)\n",
    "submit_model(preds, 9)"
   ]
  },
  {
   "cell_type": "code",
   "execution_count": 774,
   "metadata": {},
   "outputs": [
    {
     "name": "stdout",
     "output_type": "stream",
     "text": [
      "LogisticRegression accuracy: 0.812 (+/- 0.053)\n",
      "Creating submission DF:\n",
      "\n",
      "DF shape: (418, 2)\n",
      "titanic_predictions_10.csv file created.\n"
     ]
    }
   ],
   "source": [
    "# submit the result with LG\n",
    "preds = test_model(LogisticRegression(penalty='l1', C=25, solver='liblinear',\n",
    "                                      random_state=7), preds=True)\n",
    "submit_model(preds, 10)"
   ]
  },
  {
   "cell_type": "markdown",
   "metadata": {},
   "source": [
    "### Feature engineer extra features\n",
    "\n",
    "* Sum 'SibSp' and 'Parch'"
   ]
  },
  {
   "cell_type": "code",
   "execution_count": 787,
   "metadata": {},
   "outputs": [],
   "source": [
    "class FeatureEngineer(BaseEstimator, TransformerMixin):\n",
    "    def __init__(self, method='sum'):\n",
    "        self.method = method\n",
    "    def fit(self, X, y=None):\n",
    "        self.cols = X.columns\n",
    "        return self\n",
    "    def transform(self, X):\n",
    "        EX = pd.DataFrame()\n",
    "        if self.method == 'sum':\n",
    "            return (X[self.cols[0]] + X[self.cols[1]]).to_frame()\n",
    "        elif self.method == 'multiply':\n",
    "            return (X[self.cols[0]] + X[self.cols[1]]).to_frame()\n",
    "        else:\n",
    "            raise('Choose correct method.')"
   ]
  },
  {
   "cell_type": "code",
   "execution_count": 904,
   "metadata": {},
   "outputs": [
    {
     "name": "stdout",
     "output_type": "stream",
     "text": [
      "LogisticRegression accuracy: 0.815 (+/- 0.043)\n",
      "LinearSVC accuracy: 0.814 (+/- 0.021)\n",
      "KNeighborsClassifier accuracy: 0.789 (+/- 0.078)\n",
      "RandomForestClassifier accuracy: 0.805 (+/- 0.045)\n",
      "GradientBoostingClassifier accuracy: 0.819 (+/- 0.062)\n",
      "VotingClassifier accuracy: 0.823 (+/- 0.011)\n"
     ]
    }
   ],
   "source": [
    "ct = ColumnTransformer([\n",
    "    ('cat_imp_enc', Pipeline([\n",
    "        ('imputer', SimpleImputer(strategy='most_frequent')),\n",
    "        ('encoder', OneHotEncoder(categories='auto'))\n",
    "    ]), cat_imp),\n",
    "    ('age_rebin_imp', Pipeline([\n",
    "        ('rebinner', FeatureRebinner(bins=5, edges=[0.0, 8, 18, 50, np.inf])),\n",
    "        ('imputer', SimpleImputer(strategy='most_frequent')),\n",
    "        ('encoder', OneHotEncoder(categories='auto'))\n",
    "    ]), num_age),\n",
    "    ('fare_imp_scale', Pipeline([\n",
    "        ('rebinner', FeatureRebinner(bins=3, edges=[0,10,20,np.inf])),\n",
    "        ('imputer', SimpleImputer(strategy='most_frequent')),\n",
    "        ('encoder', OneHotEncoder(categories='auto'))\n",
    "    ]), ['Fare']),\n",
    "    ('name_title', Pipeline([\n",
    "        ('ext_titles', TitleExtractor()),\n",
    "        ('encoder', OneHotEncoder(categories='auto'))\n",
    "    ]), ['Name']),\n",
    "    ('has_cabin', Pipeline([\n",
    "        ('has', HasCabin()),\n",
    "        ('encoder', OneHotEncoder(categories='auto'))\n",
    "    ]), ['Cabin']),\n",
    "    ('f_engineer', Pipeline([\n",
    "        ('f_e', FeatureEngineer(method='sum')),\n",
    "        ('remapper', FeatureRemapper(n_classes=2)),\n",
    "        ('encoder', OneHotEncoder(categories='auto'))\n",
    "    ]), ['SibSp', 'Parch'])\n",
    "])\n",
    "\n",
    "train_prepped = ct.fit_transform(train)\n",
    "test_prepped = ct.fit_transform(test)\n",
    "\n",
    "lr = LogisticRegression(penalty='l1', C=25, solver='liblinear', random_state=7)\n",
    "lsvc = LinearSVC(C=0.07, random_state=7)\n",
    "svc = SVC(kernel='rbf', C=160, gamma=0.0073, random_state=7, probability=True)\n",
    "rf = RandomForestClassifier(n_estimators=100, max_depth=5, min_samples_leaf=5, \n",
    "    min_samples_split=15, random_state=7)\n",
    "gb = GradientBoostingClassifier(n_estimators=100, learning_rate=0.01,\n",
    "    min_samples_split=20, max_depth=4, random_state=7)\n",
    "knn = KNeighborsClassifier(n_neighbors=5, algorithm='brute')\n",
    "\n",
    "ensemble_clf = VotingClassifier([('lr', lr),('svc', svc), ('knn', knn),\n",
    "                                 ('rf', rf),('gb', gb_clf)], voting='soft')\n",
    "\n",
    "clfs = [lr, lsvc, knn, rf, gb, ensemble_clf]\n",
    "for clf in clfs:\n",
    "    test_model(clf)"
   ]
  },
  {
   "cell_type": "code",
   "execution_count": 883,
   "metadata": {},
   "outputs": [
    {
     "name": "stdout",
     "output_type": "stream",
     "text": [
      "AdaBoostClassifier accuracy: 0.811 (+/- 0.036)\n"
     ]
    }
   ],
   "source": [
    "ab = AdaBoostClassifier(ensemble_clf, n_estimators=50, learning_rate=0.01, random_state=7)\n",
    "test_model(ab)"
   ]
  },
  {
   "cell_type": "code",
   "execution_count": 828,
   "metadata": {},
   "outputs": [
    {
     "name": "stdout",
     "output_type": "stream",
     "text": [
      "VotingClassifier accuracy: 0.835 (+/- 0.019)\n",
      "Creating submission DF:\n",
      "\n",
      "DF shape: (418, 2)\n",
      "titanic_predictions_13.csv file created.\n"
     ]
    }
   ],
   "source": [
    "# submit the result with LG\n",
    "preds = test_model(ensemble_clf, preds=True)\n",
    "submit_model(preds, 13)"
   ]
  },
  {
   "cell_type": "code",
   "execution_count": 854,
   "metadata": {},
   "outputs": [
    {
     "name": "stdout",
     "output_type": "stream",
     "text": [
      "VotingClassifier accuracy: 0.841 (+/- 0.025)\n",
      "Creating submission DF:\n",
      "\n",
      "DF shape: (418, 2)\n",
      "titanic_predictions_14.csv file created.\n"
     ]
    }
   ],
   "source": [
    "# submit the result with Ensemble\n",
    "preds = test_model(ensemble_clf, preds=True)\n",
    "submit_model(preds, 14)"
   ]
  },
  {
   "cell_type": "code",
   "execution_count": 874,
   "metadata": {},
   "outputs": [
    {
     "name": "stdout",
     "output_type": "stream",
     "text": [
      "VotingClassifier accuracy: 0.833 (+/- 0.017)\n",
      "Creating submission DF:\n",
      "\n",
      "DF shape: (418, 2)\n",
      "titanic_predictions_15.csv file created.\n"
     ]
    }
   ],
   "source": [
    "# submit the result with Ensemble\n",
    "preds = test_model(ensemble_clf, preds=True)\n",
    "submit_model(preds, 15)"
   ]
  },
  {
   "cell_type": "code",
   "execution_count": 905,
   "metadata": {},
   "outputs": [
    {
     "name": "stdout",
     "output_type": "stream",
     "text": [
      "VotingClassifier accuracy: 0.823 (+/- 0.011)\n",
      "Creating submission DF:\n",
      "\n",
      "DF shape: (418, 2)\n",
      "titanic_predictions_16.csv file created.\n"
     ]
    }
   ],
   "source": [
    "# submit the result with Ensemble\n",
    "preds = test_model(ensemble_clf, preds=True)\n",
    "submit_model(preds, 16)"
   ]
  },
  {
   "cell_type": "code",
   "execution_count": 885,
   "metadata": {},
   "outputs": [
    {
     "data": {
      "text/html": [
       "<div>\n",
       "<style scoped>\n",
       "    .dataframe tbody tr th:only-of-type {\n",
       "        vertical-align: middle;\n",
       "    }\n",
       "\n",
       "    .dataframe tbody tr th {\n",
       "        vertical-align: top;\n",
       "    }\n",
       "\n",
       "    .dataframe thead th {\n",
       "        text-align: right;\n",
       "    }\n",
       "</style>\n",
       "<table border=\"1\" class=\"dataframe\">\n",
       "  <thead>\n",
       "    <tr style=\"text-align: right;\">\n",
       "      <th></th>\n",
       "      <th>PassengerId</th>\n",
       "      <th>Survived</th>\n",
       "      <th>Pclass</th>\n",
       "      <th>Name</th>\n",
       "      <th>Sex</th>\n",
       "      <th>Age</th>\n",
       "      <th>SibSp</th>\n",
       "      <th>Parch</th>\n",
       "      <th>Ticket</th>\n",
       "      <th>Fare</th>\n",
       "      <th>Cabin</th>\n",
       "      <th>Embarked</th>\n",
       "    </tr>\n",
       "  </thead>\n",
       "  <tbody>\n",
       "    <tr>\n",
       "      <th>0</th>\n",
       "      <td>1</td>\n",
       "      <td>0</td>\n",
       "      <td>3</td>\n",
       "      <td>Braund, Mr. Owen Harris</td>\n",
       "      <td>male</td>\n",
       "      <td>22.0</td>\n",
       "      <td>1</td>\n",
       "      <td>0</td>\n",
       "      <td>A/5 21171</td>\n",
       "      <td>7.2500</td>\n",
       "      <td>NaN</td>\n",
       "      <td>S</td>\n",
       "    </tr>\n",
       "    <tr>\n",
       "      <th>1</th>\n",
       "      <td>2</td>\n",
       "      <td>1</td>\n",
       "      <td>1</td>\n",
       "      <td>Cumings, Mrs. John Bradley (Florence Briggs Th...</td>\n",
       "      <td>female</td>\n",
       "      <td>38.0</td>\n",
       "      <td>1</td>\n",
       "      <td>0</td>\n",
       "      <td>PC 17599</td>\n",
       "      <td>71.2833</td>\n",
       "      <td>C85</td>\n",
       "      <td>C</td>\n",
       "    </tr>\n",
       "    <tr>\n",
       "      <th>2</th>\n",
       "      <td>3</td>\n",
       "      <td>1</td>\n",
       "      <td>3</td>\n",
       "      <td>Heikkinen, Miss. Laina</td>\n",
       "      <td>female</td>\n",
       "      <td>26.0</td>\n",
       "      <td>0</td>\n",
       "      <td>0</td>\n",
       "      <td>STON/O2. 3101282</td>\n",
       "      <td>7.9250</td>\n",
       "      <td>NaN</td>\n",
       "      <td>S</td>\n",
       "    </tr>\n",
       "    <tr>\n",
       "      <th>3</th>\n",
       "      <td>4</td>\n",
       "      <td>1</td>\n",
       "      <td>1</td>\n",
       "      <td>Futrelle, Mrs. Jacques Heath (Lily May Peel)</td>\n",
       "      <td>female</td>\n",
       "      <td>35.0</td>\n",
       "      <td>1</td>\n",
       "      <td>0</td>\n",
       "      <td>113803</td>\n",
       "      <td>53.1000</td>\n",
       "      <td>C123</td>\n",
       "      <td>S</td>\n",
       "    </tr>\n",
       "    <tr>\n",
       "      <th>4</th>\n",
       "      <td>5</td>\n",
       "      <td>0</td>\n",
       "      <td>3</td>\n",
       "      <td>Allen, Mr. William Henry</td>\n",
       "      <td>male</td>\n",
       "      <td>35.0</td>\n",
       "      <td>0</td>\n",
       "      <td>0</td>\n",
       "      <td>373450</td>\n",
       "      <td>8.0500</td>\n",
       "      <td>NaN</td>\n",
       "      <td>S</td>\n",
       "    </tr>\n",
       "  </tbody>\n",
       "</table>\n",
       "</div>"
      ],
      "text/plain": [
       "   PassengerId  Survived  Pclass  \\\n",
       "0            1         0       3   \n",
       "1            2         1       1   \n",
       "2            3         1       3   \n",
       "3            4         1       1   \n",
       "4            5         0       3   \n",
       "\n",
       "                                                Name     Sex   Age  SibSp  \\\n",
       "0                            Braund, Mr. Owen Harris    male  22.0      1   \n",
       "1  Cumings, Mrs. John Bradley (Florence Briggs Th...  female  38.0      1   \n",
       "2                             Heikkinen, Miss. Laina  female  26.0      0   \n",
       "3       Futrelle, Mrs. Jacques Heath (Lily May Peel)  female  35.0      1   \n",
       "4                           Allen, Mr. William Henry    male  35.0      0   \n",
       "\n",
       "   Parch            Ticket     Fare Cabin Embarked  \n",
       "0      0         A/5 21171   7.2500   NaN        S  \n",
       "1      0          PC 17599  71.2833   C85        C  \n",
       "2      0  STON/O2. 3101282   7.9250   NaN        S  \n",
       "3      0            113803  53.1000  C123        S  \n",
       "4      0            373450   8.0500   NaN        S  "
      ]
     },
     "execution_count": 885,
     "metadata": {},
     "output_type": "execute_result"
    }
   ],
   "source": [
    "train.head()"
   ]
  },
  {
   "cell_type": "code",
   "execution_count": 886,
   "metadata": {},
   "outputs": [
    {
     "data": {
      "image/png": "[encoded data removed]",
      "text/plain": [
       "<Figure size 720x432 with 1 Axes>"
      ]
     },
     "metadata": {
      "needs_background": "light"
     },
     "output_type": "display_data"
    }
   ],
   "source": [
    "X_train, X_test, y_train, y_test = train_test_split(train_prepped, train['Survived'],\n",
    "                                                   random_state=7)\n",
    "\n",
    "k_values = np.arange(1, 20)\n",
    "train_accuracy = np.empty(len(k_values))\n",
    "test_accuracy = np.empty(len(k_values))\n",
    "\n",
    "for i, k in enumerate(k_values):\n",
    "    \n",
    "    knn = KNeighborsClassifier(n_neighbors=k)\n",
    "    knn.fit(X_train, y_train)\n",
    "    \n",
    "    train_accuracy[i] = knn.score(X_train, y_train)\n",
    "    test_accuracy[i] = knn.score(X_test, y_test)\n",
    "\n",
    "plt.figure(figsize=(10, 6))\n",
    "plt.title(\"Model Complexity Curve\", fontsize=20, weight='bold')\n",
    "plt.plot(k_values, train_accuracy, label=\"Training Accuracy\")\n",
    "plt.plot(k_values, test_accuracy, label=\"Test Accuracy\")\n",
    "plt.legend()\n",
    "plt.xlabel(\"Number of Neighbors\", fontsize=14)\n",
    "plt.ylabel(\"Accuracy\", fontsize=14)\n",
    "plt.xticks(k_values)\n",
    "plt.annotate(\"Overfitting\", xy=(16, 0.911), xytext=(11, 0.92), \n",
    "             arrowprops={'color' : 'black'}, weight='bold', fontsize=16)\n",
    "plt.show()"
   ]
  },
  {
   "cell_type": "code",
   "execution_count": 887,
   "metadata": {},
   "outputs": [
    {
     "name": "stdout",
     "output_type": "stream",
     "text": [
      "GridSearchCV results for KNeighborsClassifier:\n",
      "\n",
      "Best accuracy score: 0.821\n",
      "Best parameters: {'algorithm': 'brute', 'weights': 'uniform'}\n"
     ]
    }
   ],
   "source": [
    "tune_hyper(KNeighborsClassifier(n_neighbors=7, n_jobs=-1),\n",
    "           param_grid={'weights':['uniform', 'distance'],\n",
    "                       'algorithm': ['auto', 'ball_tree', 'kd_tree', 'brute']},\n",
    "           X=train_prepped, y=train['Survived'])"
   ]
  },
  {
   "cell_type": "code",
   "execution_count": 909,
   "metadata": {},
   "outputs": [
    {
     "name": "stdout",
     "output_type": "stream",
     "text": [
      "LogisticRegression accuracy: 0.815 (+/- 0.043)\n",
      "LinearSVC accuracy: 0.814 (+/- 0.021)\n",
      "KNeighborsClassifier accuracy: 0.789 (+/- 0.078)\n",
      "RandomForestClassifier accuracy: 0.805 (+/- 0.045)\n",
      "GradientBoostingClassifier accuracy: 0.819 (+/- 0.062)\n",
      "VotingClassifier accuracy: 0.823 (+/- 0.011)\n"
     ]
    }
   ],
   "source": [
    "\n",
    "ct = ColumnTransformer([\n",
    "    ('cat_imp_enc', Pipeline([\n",
    "        ('imputer', SimpleImputer(strategy='most_frequent')),\n",
    "        ('encoder', OneHotEncoder(categories='auto'))\n",
    "    ]), cat_imp),\n",
    "    ('age_rebin_imp', Pipeline([\n",
    "        ('rebinner', FeatureRebinner(bins=4, edges=[0.0, 8, 18, 50, np.inf])),\n",
    "        ('imputer', SimpleImputer(strategy='most_frequent')),\n",
    "        ('encoder', OneHotEncoder(categories='auto'))\n",
    "    ]), num_age),\n",
    "    ('fare_imp_scale', Pipeline([\n",
    "        ('rebinner', FeatureRebinner(bins=3, edges=[0,10,20,np.inf])),\n",
    "        ('imputer', SimpleImputer(strategy='most_frequent')),\n",
    "        ('encoder', OneHotEncoder(categories='auto'))\n",
    "    ]), ['Fare']),\n",
    "    ('name_title', Pipeline([\n",
    "        ('ext_titles', TitleExtractor()),\n",
    "        ('encoder', OneHotEncoder(categories='auto'))\n",
    "    ]), ['Name']),\n",
    "    ('has_cabin', Pipeline([\n",
    "        ('has', HasCabin()),\n",
    "        ('encoder', OneHotEncoder(categories='auto'))\n",
    "    ]), ['Cabin']),\n",
    "    ('f_engineer', Pipeline([\n",
    "        ('f_e', FeatureEngineer(method='sum')),\n",
    "        ('remapper', FeatureRemapper(n_classes=2)),\n",
    "        ('encoder', OneHotEncoder(categories='auto'))\n",
    "    ]), ['SibSp', 'Parch'])\n",
    "])\n",
    "\n",
    "train_prepped = ct.fit_transform(train)\n",
    "test_prepped = ct.fit_transform(test)\n",
    "\n",
    "lr = LogisticRegression(penalty='l1', C=25, solver='liblinear', random_state=7)\n",
    "lsvc = LinearSVC(C=0.07, random_state=7)\n",
    "svc = SVC(kernel='rbf', C=160, gamma=0.0073, random_state=7, probability=True)\n",
    "rf = RandomForestClassifier(n_estimators=100, max_depth=5, min_samples_leaf=5, \n",
    "    min_samples_split=15, random_state=7)\n",
    "gb = GradientBoostingClassifier(n_estimators=100, learning_rate=0.01,\n",
    "    min_samples_split=20, max_depth=4, random_state=7)\n",
    "knn = KNeighborsClassifier(n_neighbors=5, algorithm='brute')\n",
    "\n",
    "ensemble_clf = VotingClassifier([('lr', lr),('svc', svc), ('knn', knn),\n",
    "                                 ('rf', rf),('gb', gb_clf)], voting='soft')\n",
    "\n",
    "clfs = [lr, lsvc, knn, rf, gb, ensemble_clf]\n",
    "for clf in clfs:\n",
    "    test_model(clf)"
   ]
  },
  {
   "cell_type": "code",
   "execution_count": null,
   "metadata": {},
   "outputs": [],
   "source": []
  }
 ],
 "metadata": {
  "kernelspec": {
   "display_name": "Python 3",
   "language": "python",
   "name": "python3"
  },
  "language_info": {
   "codemirror_mode": {
    "name": "ipython",
    "version": 3
   },
   "file_extension": ".py",
   "mimetype": "text/x-python",
   "name": "python",
   "nbconvert_exporter": "python",
   "pygments_lexer": "ipython3",
   "version": "3.7.2"
  },
  "latex_envs": {
   "LaTeX_envs_menu_present": true,
   "autoclose": true,
   "autocomplete": true,
   "bibliofile": "biblio.bib",
   "cite_by": "apalike",
   "current_citInitial": 1,
   "eqLabelWithNumbers": true,
   "eqNumInitial": 1,
   "hotkeys": {
    "equation": "Ctrl-E",
    "itemize": "Ctrl-I"
   },
   "labels_anchors": false,
   "latex_user_defs": false,
   "report_style_numbering": false,
   "user_envs_cfg": false
  },
  "toc": {
   "base_numbering": 1,
   "nav_menu": {},
   "number_sections": true,
   "sideBar": true,
   "skip_h1_title": false,
   "title_cell": "Table of Contents",
   "title_sidebar": "Contents",
   "toc_cell": false,
   "toc_position": {
    "height": "calc(100% - 180px)",
    "left": "10px",
    "top": "150px",
    "width": "243.8px"
   },
   "toc_section_display": true,
   "toc_window_display": true
  }
 },
 "nbformat": 4,
 "nbformat_minor": 2
}
