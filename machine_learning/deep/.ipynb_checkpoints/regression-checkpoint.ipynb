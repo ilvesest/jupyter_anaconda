{
 "cells": [
  {
   "cell_type": "code",
   "execution_count": 37,
   "metadata": {},
   "outputs": [],
   "source": [
    "import tensorflow as tf\n",
    "import sklearn\n",
    "import numpy as np\n",
    "import matplotlib.pyplot as plt\n",
    "import pandas as pd\n",
    "from tensorflow.keras.layers import Dense\n",
    "from tensorflow.keras.models import Sequential\n",
    "from sklearn import datasets\n",
    "from tensorflow import keras\n",
    "from sklearn.preprocessing import StandardScaler"
   ]
  },
  {
   "cell_type": "markdown",
   "metadata": {},
   "source": [
    "# Regression with Neural Networks\n",
    "\n",
    "## Keras model building steps\n",
    "\n",
    "* **Specify Architecture**:\n",
    "    * How many layers, nodes \n",
    "    * Which activation function\n",
    "* **Compile**:\n",
    "    * Specifies the loss function \n",
    "    * details about how optimization works\n",
    "* **Fit**:\n",
    "    * Cycle of backpropagation \n",
    "    * Optimization of model weights with the data\n",
    "* **Predict**\n",
    "\n",
    "### Specifying Architecture"
   ]
  },
  {
   "cell_type": "code",
   "execution_count": 8,
   "metadata": {},
   "outputs": [],
   "source": [
    "# iris dataset\n",
    "iris = datasets.load_iris()\n",
    "X = iris.data\n",
    "y = iris.target\n",
    "n_features = X.shape[1] # 4\n",
    "\n",
    "# Sequential models require that each layer has \n",
    "# weights only to the layer directly after it.\n",
    "model = Sequential()"
   ]
  },
  {
   "cell_type": "markdown",
   "metadata": {},
   "source": [
    "* Layers are added with the **.add()** method\n",
    "* Standard layer is called **Dense**: \n",
    "    * all nodes from the previous layer connect to all of the nodes in the current layer.\n",
    "    * specify **number of nodes**\n",
    "    * specify which **activation function** is used\n",
    "    * specify **input_shape** argument for the first layer, e.g. *input_shape=(n_features, )*\n"
   ]
  },
  {
   "cell_type": "code",
   "execution_count": 11,
   "metadata": {},
   "outputs": [],
   "source": [
    "# 2 hidden layers\n",
    "model.add(Dense(units=100, activation='relu', input_shape=(n_features,)))\n",
    "model.add(Dense(100, activation='relu'))\n",
    "\n",
    "# output layer\n",
    "model.add(Dense(1))"
   ]
  },
  {
   "cell_type": "markdown",
   "metadata": {},
   "source": [
    "### Compile the model\n",
    "\n",
    "* Specifying **optimizer**:\n",
    "    * controls the learning rate \n",
    "    * in practice, the right choice of learning rate determines model speed and the quality of weights \n",
    "    * a few algorithms that automatically tune the learning rate \n",
    "    * a practical choice is to use versatile algorithm and use that for most problems. \n",
    "    * Adam' is usually a good choice. \n",
    "    * Adam will adjust the learning rate as does gradient decent to insure reasonable values troughout the weight optimization process.\n",
    "* Specifying **loss function**:\n",
    "    * 'mean_squared_error' is most common choice for regression problems \n",
    "    * for classification there is another default methods"
   ]
  },
  {
   "cell_type": "code",
   "execution_count": 12,
   "metadata": {},
   "outputs": [],
   "source": [
    "model.compile(optimizer='adam', loss='mean_squared_error')"
   ]
  },
  {
   "cell_type": "markdown",
   "metadata": {},
   "source": [
    "### Fitting a model\n",
    "\n",
    "* Specify input and target data\n",
    "* Applies backpropagation and gradient descent with the data to update the weights\n",
    "* Scaling data before fitting can ease optimization (subtract feature mean from feature and divide by std)."
   ]
  },
  {
   "cell_type": "code",
   "execution_count": 21,
   "metadata": {
    "collapsed": true
   },
   "outputs": [
    {
     "name": "stdout",
     "output_type": "stream",
     "text": [
      "Train on 112 samples, validate on 38 samples\n",
      "Epoch 1/20\n",
      "112/112 [==============================] - 0s 494us/step - loss: 0.0498 - val_loss: 0.1267\n",
      "Epoch 2/20\n",
      "112/112 [==============================] - 0s 133us/step - loss: 0.0329 - val_loss: 0.0585\n",
      "Epoch 3/20\n",
      "112/112 [==============================] - 0s 124us/step - loss: 0.0382 - val_loss: 0.1681\n",
      "Epoch 4/20\n",
      "112/112 [==============================] - 0s 121us/step - loss: 0.0322 - val_loss: 0.1025\n",
      "Epoch 5/20\n",
      "112/112 [==============================] - 0s 138us/step - loss: 0.0281 - val_loss: 0.1412\n",
      "Epoch 6/20\n",
      "112/112 [==============================] - 0s 161us/step - loss: 0.0260 - val_loss: 0.1752\n",
      "Epoch 7/20\n",
      "112/112 [==============================] - 0s 174us/step - loss: 0.0264 - val_loss: 0.1145\n",
      "Epoch 8/20\n",
      "112/112 [==============================] - 0s 132us/step - loss: 0.0260 - val_loss: 0.1309\n",
      "Epoch 9/20\n",
      "112/112 [==============================] - 0s 141us/step - loss: 0.0241 - val_loss: 0.1011\n",
      "Epoch 10/20\n",
      "112/112 [==============================] - 0s 123us/step - loss: 0.0257 - val_loss: 0.1269\n",
      "Epoch 11/20\n",
      "112/112 [==============================] - 0s 158us/step - loss: 0.0246 - val_loss: 0.1090\n",
      "Epoch 12/20\n",
      "112/112 [==============================] - 0s 152us/step - loss: 0.0244 - val_loss: 0.1308\n",
      "Epoch 13/20\n",
      "112/112 [==============================] - 0s 106us/step - loss: 0.0246 - val_loss: 0.1059\n",
      "Epoch 14/20\n",
      "112/112 [==============================] - 0s 137us/step - loss: 0.0238 - val_loss: 0.1410\n",
      "Epoch 15/20\n",
      "112/112 [==============================] - 0s 163us/step - loss: 0.0256 - val_loss: 0.1298\n",
      "Epoch 16/20\n",
      "112/112 [==============================] - 0s 124us/step - loss: 0.0235 - val_loss: 0.1002\n",
      "Epoch 17/20\n",
      "112/112 [==============================] - 0s 151us/step - loss: 0.0228 - val_loss: 0.1397\n",
      "Epoch 18/20\n",
      "112/112 [==============================] - 0s 114us/step - loss: 0.0247 - val_loss: 0.1275\n",
      "Epoch 19/20\n",
      "112/112 [==============================] - 0s 143us/step - loss: 0.0237 - val_loss: 0.1197\n",
      "Epoch 20/20\n",
      "112/112 [==============================] - 0s 125us/step - loss: 0.0236 - val_loss: 0.1397\n"
     ]
    }
   ],
   "source": [
    "# 'validation_split': Fraction of the training data to be used as validation data.\n",
    "history = model.fit(x=X, y=y, validation_split=0.25, epochs=20)"
   ]
  },
  {
   "cell_type": "code",
   "execution_count": 22,
   "metadata": {},
   "outputs": [
    {
     "name": "stdout",
     "output_type": "stream",
     "text": [
      "dict_keys(['val_loss', 'loss'])\n"
     ]
    }
   ],
   "source": [
    "# model metrics\n",
    "print(history.history.keys())"
   ]
  },
  {
   "cell_type": "code",
   "execution_count": 24,
   "metadata": {},
   "outputs": [
    {
     "data": {
      "image/png": "[encoded data removed]",
      "text/plain": [
       "<Figure size 576x432 with 1 Axes>"
      ]
     },
     "metadata": {
      "needs_background": "light"
     },
     "output_type": "display_data"
    }
   ],
   "source": [
    "plt.figure(figsize=(8, 6))\n",
    "plt.plot(history.history['loss'], label='loss')\n",
    "plt.plot(history.history['val_loss'], label='val_loss')\n",
    "plt.legend(['train', 'test'])\n",
    "plt.xlabel('Epoch')\n",
    "plt.ylabel('Mean Squared Error')\n",
    "plt.title('Model Loss on training and test set', weight='bold')\n",
    "plt.show()"
   ]
  },
  {
   "cell_type": "markdown",
   "metadata": {},
   "source": [
    "As can be seen, it was useless to use over 1 Epoch since the loss values didn't change much."
   ]
  },
  {
   "cell_type": "markdown",
   "metadata": {},
   "source": [
    "### Exercise. \n",
    "\n",
    "* predict workers wages based on characteristics like their industry, education and level of experience."
   ]
  },
  {
   "cell_type": "code",
   "execution_count": 60,
   "metadata": {
    "scrolled": true
   },
   "outputs": [
    {
     "data": {
      "text/html": [
       "<div>\n",
       "<style scoped>\n",
       "    .dataframe tbody tr th:only-of-type {\n",
       "        vertical-align: middle;\n",
       "    }\n",
       "\n",
       "    .dataframe tbody tr th {\n",
       "        vertical-align: top;\n",
       "    }\n",
       "\n",
       "    .dataframe thead th {\n",
       "        text-align: right;\n",
       "    }\n",
       "</style>\n",
       "<table border=\"1\" class=\"dataframe\">\n",
       "  <thead>\n",
       "    <tr style=\"text-align: right;\">\n",
       "      <th></th>\n",
       "      <th>wage_per_hour</th>\n",
       "      <th>union</th>\n",
       "      <th>education_yrs</th>\n",
       "      <th>experience_yrs</th>\n",
       "      <th>age</th>\n",
       "      <th>female</th>\n",
       "      <th>marr</th>\n",
       "      <th>south</th>\n",
       "      <th>manufacturing</th>\n",
       "      <th>construction</th>\n",
       "    </tr>\n",
       "  </thead>\n",
       "  <tbody>\n",
       "    <tr>\n",
       "      <th>count</th>\n",
       "      <td>534.000000</td>\n",
       "      <td>534.000000</td>\n",
       "      <td>534.000000</td>\n",
       "      <td>534.000000</td>\n",
       "      <td>534.000000</td>\n",
       "      <td>534.000000</td>\n",
       "      <td>534.000000</td>\n",
       "      <td>534.000000</td>\n",
       "      <td>534.000000</td>\n",
       "      <td>534.000000</td>\n",
       "    </tr>\n",
       "    <tr>\n",
       "      <th>mean</th>\n",
       "      <td>9.024064</td>\n",
       "      <td>0.179775</td>\n",
       "      <td>13.018727</td>\n",
       "      <td>17.822097</td>\n",
       "      <td>36.833333</td>\n",
       "      <td>0.458801</td>\n",
       "      <td>0.655431</td>\n",
       "      <td>0.292135</td>\n",
       "      <td>0.185393</td>\n",
       "      <td>0.044944</td>\n",
       "    </tr>\n",
       "    <tr>\n",
       "      <th>std</th>\n",
       "      <td>5.139097</td>\n",
       "      <td>0.384360</td>\n",
       "      <td>2.615373</td>\n",
       "      <td>12.379710</td>\n",
       "      <td>11.726573</td>\n",
       "      <td>0.498767</td>\n",
       "      <td>0.475673</td>\n",
       "      <td>0.455170</td>\n",
       "      <td>0.388981</td>\n",
       "      <td>0.207375</td>\n",
       "    </tr>\n",
       "    <tr>\n",
       "      <th>min</th>\n",
       "      <td>1.000000</td>\n",
       "      <td>0.000000</td>\n",
       "      <td>2.000000</td>\n",
       "      <td>0.000000</td>\n",
       "      <td>18.000000</td>\n",
       "      <td>0.000000</td>\n",
       "      <td>0.000000</td>\n",
       "      <td>0.000000</td>\n",
       "      <td>0.000000</td>\n",
       "      <td>0.000000</td>\n",
       "    </tr>\n",
       "    <tr>\n",
       "      <th>25%</th>\n",
       "      <td>5.250000</td>\n",
       "      <td>0.000000</td>\n",
       "      <td>12.000000</td>\n",
       "      <td>8.000000</td>\n",
       "      <td>28.000000</td>\n",
       "      <td>0.000000</td>\n",
       "      <td>0.000000</td>\n",
       "      <td>0.000000</td>\n",
       "      <td>0.000000</td>\n",
       "      <td>0.000000</td>\n",
       "    </tr>\n",
       "    <tr>\n",
       "      <th>50%</th>\n",
       "      <td>7.780000</td>\n",
       "      <td>0.000000</td>\n",
       "      <td>12.000000</td>\n",
       "      <td>15.000000</td>\n",
       "      <td>35.000000</td>\n",
       "      <td>0.000000</td>\n",
       "      <td>1.000000</td>\n",
       "      <td>0.000000</td>\n",
       "      <td>0.000000</td>\n",
       "      <td>0.000000</td>\n",
       "    </tr>\n",
       "    <tr>\n",
       "      <th>75%</th>\n",
       "      <td>11.250000</td>\n",
       "      <td>0.000000</td>\n",
       "      <td>15.000000</td>\n",
       "      <td>26.000000</td>\n",
       "      <td>44.000000</td>\n",
       "      <td>1.000000</td>\n",
       "      <td>1.000000</td>\n",
       "      <td>1.000000</td>\n",
       "      <td>0.000000</td>\n",
       "      <td>0.000000</td>\n",
       "    </tr>\n",
       "    <tr>\n",
       "      <th>max</th>\n",
       "      <td>44.500000</td>\n",
       "      <td>1.000000</td>\n",
       "      <td>18.000000</td>\n",
       "      <td>55.000000</td>\n",
       "      <td>64.000000</td>\n",
       "      <td>1.000000</td>\n",
       "      <td>1.000000</td>\n",
       "      <td>1.000000</td>\n",
       "      <td>1.000000</td>\n",
       "      <td>1.000000</td>\n",
       "    </tr>\n",
       "  </tbody>\n",
       "</table>\n",
       "</div>"
      ],
      "text/plain": [
       "       wage_per_hour       union  education_yrs  experience_yrs         age  \\\n",
       "count     534.000000  534.000000     534.000000      534.000000  534.000000   \n",
       "mean        9.024064    0.179775      13.018727       17.822097   36.833333   \n",
       "std         5.139097    0.384360       2.615373       12.379710   11.726573   \n",
       "min         1.000000    0.000000       2.000000        0.000000   18.000000   \n",
       "25%         5.250000    0.000000      12.000000        8.000000   28.000000   \n",
       "50%         7.780000    0.000000      12.000000       15.000000   35.000000   \n",
       "75%        11.250000    0.000000      15.000000       26.000000   44.000000   \n",
       "max        44.500000    1.000000      18.000000       55.000000   64.000000   \n",
       "\n",
       "           female        marr       south  manufacturing  construction  \n",
       "count  534.000000  534.000000  534.000000     534.000000    534.000000  \n",
       "mean     0.458801    0.655431    0.292135       0.185393      0.044944  \n",
       "std      0.498767    0.475673    0.455170       0.388981      0.207375  \n",
       "min      0.000000    0.000000    0.000000       0.000000      0.000000  \n",
       "25%      0.000000    0.000000    0.000000       0.000000      0.000000  \n",
       "50%      0.000000    1.000000    0.000000       0.000000      0.000000  \n",
       "75%      1.000000    1.000000    1.000000       0.000000      0.000000  \n",
       "max      1.000000    1.000000    1.000000       1.000000      1.000000  "
      ]
     },
     "execution_count": 60,
     "metadata": {},
     "output_type": "execute_result"
    }
   ],
   "source": [
    "wages = pd.read_csv('data/hourly_wages.csv', header=0)\n",
    "wages.describe()"
   ]
  },
  {
   "cell_type": "markdown",
   "metadata": {},
   "source": [
    "* Standardize education- and experience years\n",
    "* Concat to original features"
   ]
  },
  {
   "cell_type": "code",
   "execution_count": 62,
   "metadata": {
    "collapsed": true
   },
   "outputs": [
    {
     "name": "stderr",
     "output_type": "stream",
     "text": [
      "/home/tonu_ilves/anaconda3/envs/tensorflow_env/lib/python3.6/site-packages/sklearn/utils/validation.py:595: DataConversionWarning: Data with input dtype int64 was converted to float64 by StandardScaler.\n",
      "  warnings.warn(msg, DataConversionWarning)\n",
      "/home/tonu_ilves/anaconda3/envs/tensorflow_env/lib/python3.6/site-packages/sklearn/utils/validation.py:595: DataConversionWarning: Data with input dtype int64 was converted to float64 by StandardScaler.\n",
      "  warnings.warn(msg, DataConversionWarning)\n"
     ]
    }
   ],
   "source": [
    "# standardize two columns\n",
    "X_yrs = wages[['education_yrs', 'experience_yrs']].values\n",
    "X_yrs_scaled = StandardScaler().fit_transform(X_yrs)\n",
    "yrs = pd.DataFrame(X_yrs_scaled, columns=['education_yrs', 'experience_yrs'])\n",
    "\n",
    "# concat standardized columns to other features\n",
    "wages2 = wages.drop(['education_yrs', 'experience_yrs', 'wage_per_hour'], axis='columns')\n",
    "X = pd.concat([wages2, yrs], axis='columns').values\n",
    "y = wages.wage_per_hour.values"
   ]
  },
  {
   "cell_type": "code",
   "execution_count": 64,
   "metadata": {},
   "outputs": [
    {
     "name": "stdout",
     "output_type": "stream",
     "text": [
      "Train on 400 samples, validate on 134 samples\n",
      "Epoch 1/5\n",
      "400/400 [==============================] - 0s 710us/step - loss: 44.1127 - val_loss: 37.9300\n",
      "Epoch 2/5\n",
      "400/400 [==============================] - 0s 58us/step - loss: 28.0599 - val_loss: 39.5009\n",
      "Epoch 3/5\n",
      "400/400 [==============================] - 0s 52us/step - loss: 24.9163 - val_loss: 46.8029\n",
      "Epoch 4/5\n",
      "400/400 [==============================] - 0s 60us/step - loss: 23.3971 - val_loss: 38.1227\n",
      "Epoch 5/5\n",
      "400/400 [==============================] - 0s 80us/step - loss: 23.4655 - val_loss: 39.9164\n"
     ]
    }
   ],
   "source": [
    "# model set-up\n",
    "model = Sequential([\n",
    "    Dense(50, activation='relu', input_shape=(X.shape[1],)),\n",
    "    Dense(32, activation='relu'),\n",
    "    Dense(1)\n",
    "])\n",
    "\n",
    "# compile model\n",
    "model.compile(optimizer='adam', loss='mean_squared_error')\n",
    "\n",
    "# fittng the model\n",
    "history = model.fit(x=X, y=y, epochs=5, validation_split=0.25)"
   ]
  },
  {
   "cell_type": "code",
   "execution_count": null,
   "metadata": {},
   "outputs": [],
   "source": []
  }
 ],
 "metadata": {
  "kernelspec": {
   "display_name": "Python 3",
   "language": "python",
   "name": "python3"
  },
  "language_info": {
   "codemirror_mode": {
    "name": "ipython",
    "version": 3
   },
   "file_extension": ".py",
   "mimetype": "text/x-python",
   "name": "python",
   "nbconvert_exporter": "python",
   "pygments_lexer": "ipython3",
   "version": "3.6.8"
  },
  "latex_envs": {
   "LaTeX_envs_menu_present": true,
   "autoclose": true,
   "autocomplete": true,
   "bibliofile": "biblio.bib",
   "cite_by": "apalike",
   "current_citInitial": 1,
   "eqLabelWithNumbers": true,
   "eqNumInitial": 1,
   "hotkeys": {
    "equation": "Ctrl-E",
    "itemize": "Ctrl-I"
   },
   "labels_anchors": false,
   "latex_user_defs": false,
   "report_style_numbering": false,
   "user_envs_cfg": false
  }
 },
 "nbformat": 4,
 "nbformat_minor": 2
}
