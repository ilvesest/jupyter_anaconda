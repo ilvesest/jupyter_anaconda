{
 "cells": [
  {
   "cell_type": "code",
   "execution_count": 1,
   "metadata": {},
   "outputs": [],
   "source": [
    "import numpy as np\n",
    "import matplotlib.pyplot as plt\n",
    "import seaborn as sns\n",
    "from sklearn.metrics import mean_squared_error"
   ]
  },
  {
   "cell_type": "markdown",
   "metadata": {},
   "source": [
    "# Neural Networks (Deep Learning)\n",
    "\n",
    "* generalization of linear models \n",
    "* prediction by a linear regressor:\n",
    "\n",
    "    $$ y = w_0x_0 + w_1x_1 + ... + w_nx_n + b $$\n",
    "<br>\n",
    "* y: weighted sum of the input features x_0 to x_n, weighted by learned coefficent w_0 to w_n. Graphically:\n",
    "    \n",
    "<img src=\"img/deep1.png\" alt=\"Drawing\" style=\"width: 200px;\"/>\n",
    "\n",
    "* Deep Learning is used to make predicitions\n",
    "\n",
    "#### Example\n",
    "\n",
    "* Predict bank transactions based on some features: age, balance, retirement status etc .. \n",
    "\n",
    "<img src=\"img/deep0.png\" alt=\"Drawing\" style=\"width: 400px;\"/>\n",
    "\n",
    "* In linear regression we assume no interactions between features\n",
    "* In DL those are taken into account and it will yiled different results\n",
    "\n",
    "<img src=\"img/deep4.png\" alt=\"Drawing\" style=\"width: 550px;\"/>"
   ]
  },
  {
   "cell_type": "markdown",
   "metadata": {},
   "source": [
    "# Interactions (Hidden Layers)\n",
    "\n",
    "<img src=\"img/deep5.png\" alt=\"Drawing\" style=\"width: 300px;\"/>\n",
    "\n",
    "* Three types of layers:\n",
    "    * **Input Layer**: Features (age, income)\n",
    "    * **Hidden Layer**: Series of *nodes* or interactions between features. Aggregation of information from input.\n",
    "    * **Output Layer**: Model prediction layer.\n",
    "    \n",
    "<img src=\"img/deep6.png\" alt=\"Drawing\" style=\"width: 300px;\"/>\n",
    "\n",
    "#### How does it work?"
   ]
  },
  {
   "cell_type": "markdown",
   "metadata": {},
   "source": [
    "# Forward propagation (algorithm)\n",
    "\n",
    "* Forward propagation on *Number of Transactions* example\n",
    "* Let's use only 2 features (inputs): #children and #bank accounts each user has.\n",
    "* Lines connect Input to Hidden Layer with certain **weight**\n",
    "* **Weight**: how strongly input feature affects the interaction node\n",
    "* If a person has 2 children and 3 bank accounts and we have initial weights:\n",
    "\n",
    "<img src=\"img/deep7.png\" alt=\"Drawing\" style=\"width: 400px;\"/>\n",
    "\n",
    "* Top hidden node = $2\\cdot1 + 3\\cdot1 = 5$\n",
    "* Bottom hidden node = $2\\cdot(-1) + 3\\cdot1 = 1$\n",
    "* Output = $5\\cdot2 + 1\\cdot(-1) = 9$"
   ]
  },
  {
   "cell_type": "code",
   "execution_count": 2,
   "metadata": {},
   "outputs": [
    {
     "name": "stdout",
     "output_type": "stream",
     "text": [
      "Inputs: [2 3] Hidden Layer: [5 1] Output: 9\n"
     ]
    }
   ],
   "source": [
    "inp = np.array([2, 3])\n",
    "\n",
    "w = {'h0': np.array([1, 1]),\n",
    "     'h1': np.array([-1, 1]),\n",
    "     'out': np.array([2, -1])}\n",
    "\n",
    "hid_layer = np.array([(inp * w['h0']).sum(),\n",
    "                     (inp * w['h1']).sum()])\n",
    "\n",
    "output = (hid_layer * w['out']).sum()\n",
    "\n",
    "print('Inputs: {} Hidden Layer: {} Output: {}'.format(\n",
    "    inp, hid_layer, output))"
   ]
  },
  {
   "cell_type": "markdown",
   "metadata": {},
   "source": [
    "##### Exercise on Forward Propagation\n",
    "\n",
    "* user has 3 bank accounts and 5 children\n",
    "\n",
    "![title](img/deep8.png)"
   ]
  },
  {
   "cell_type": "code",
   "execution_count": 3,
   "metadata": {},
   "outputs": [
    {
     "name": "stdout",
     "output_type": "stream",
     "text": [
      "Inputs: [3 5]   Hidden Layer: [ 26 -13]   Output: -39\n"
     ]
    }
   ],
   "source": [
    "inp = np.array([3,5])\n",
    "\n",
    "w = {'h0': np.array([2, 4]),\n",
    "    'h1': np.array([4, -5]),\n",
    "    'out': np.array([2, 7])}\n",
    "\n",
    "h_layer = np.array([(inp * w['h0']).sum(),\n",
    "                   (inp * w['h1']).sum()])\n",
    "\n",
    "output = (h_layer * w['out']).sum()\n",
    "\n",
    "print('Inputs: {}   Hidden Layer: {}   Output: {}'.format(\n",
    "    inp, h_layer, output))"
   ]
  },
  {
   "cell_type": "markdown",
   "metadata": {},
   "source": [
    "* While the -39 output value is correct it doesn't make sense.\n",
    "* Transactions count cannot be negative.\n",
    "* This can be fixed with an activation function applied to each node in the hidden layers."
   ]
  },
  {
   "cell_type": "markdown",
   "metadata": {},
   "source": [
    "# Activation Functions\n",
    "\n",
    "* After computing hidden node values a **nonlinear function** is applied to each node result. \n",
    "* Activation functions allow to capture nonlinear trends in the hidden layer\n",
    "* Most popular activation functions:\n",
    "    * **rectifying nonlinearity**\n",
    "    * **tangens hyperpolicus**"
   ]
  },
  {
   "cell_type": "code",
   "execution_count": 4,
   "metadata": {},
   "outputs": [
    {
     "data": {
      "image/png": "[encoded data removed]",
      "text/plain": [
       "<Figure size 576x432 with 1 Axes>"
      ]
     },
     "metadata": {
      "needs_background": "light"
     },
     "output_type": "display_data"
    }
   ],
   "source": [
    "line = np.linspace(-3, 3, 100)\n",
    "\n",
    "plt.figure(figsize=(8, 6))\n",
    "plt.plot(line, np.tanh(line), ls='--', lw=2, label=\"tanh\")\n",
    "plt.plot(line, np.maximum(line, 0), label=\"relu\", c='red', lw=2)\n",
    "plt.legend(loc=\"best\")\n",
    "plt.xlabel(\"x\", fontsize=14)\n",
    "plt.ylabel(\"relu(x), tanh(x)\", fontsize=14)\n",
    "plt.title('Two most popular activation functions', weight='bold', fontsize=14)\n",
    "plt.show()"
   ]
  },
  {
   "cell_type": "markdown",
   "metadata": {},
   "source": [
    "## ReLU (Rectified Linear Activation)\n",
    "<br>\n",
    "<img src=\"img/deep9.png\" alt=\"Drawing\" style=\"width: 500px;\"/>\n",
    "\n",
    "* This function takes a single number as an input, returning 0 if the input is negative\n",
    "* Returning the input if the input is positive. \n",
    "\n",
    "#### Demo Exercise. ReLU on small NW\n",
    "\n",
    "* number of banck accounts 3\n",
    "* number of children 5\n",
    "\n",
    "![title](img/deep8.png)"
   ]
  },
  {
   "cell_type": "code",
   "execution_count": 5,
   "metadata": {
    "code_folding": []
   },
   "outputs": [
    {
     "name": "stdout",
     "output_type": "stream",
     "text": [
      "Inputs: [3 5]   Hidden Layer: [26  0]   Output: 52\n"
     ]
    }
   ],
   "source": [
    "def relu(inp):\n",
    "    return max(inp, 0)\n",
    "\n",
    "inp = np.array([3, 5])\n",
    "\n",
    "w = {'h0': np.array([2, 4]),\n",
    "    'h1': np.array([4, -5]),\n",
    "    'out': np.array([2, 7])}\n",
    "\n",
    "h_layer = np.array([relu((inp * w['h0']).sum()),\n",
    "                   relu((inp * w['h1']).sum())])\n",
    "\n",
    "output = (h_layer * w['out']).sum()\n",
    "\n",
    "print('Inputs: {}   Hidden Layer: {}   Output: {}'.format(\n",
    "    inp, h_layer, output))"
   ]
  },
  {
   "cell_type": "markdown",
   "metadata": {},
   "source": [
    "* The output was 52 transactions, which makes more sense as prevously got -39\n",
    "* Activation function power will be revealed when we start to tune weights!"
   ]
  },
  {
   "cell_type": "markdown",
   "metadata": {},
   "source": [
    "# Multiple Hidden Layers\n",
    "\n",
    "<img src=\"img/deep10.png\" alt=\"Drawing\" style=\"width: 500px;\"/>\n",
    "\n",
    "Lets calculate the output with ReLU"
   ]
  },
  {
   "cell_type": "code",
   "execution_count": 6,
   "metadata": {},
   "outputs": [
    {
     "name": "stdout",
     "output_type": "stream",
     "text": [
      "Input: [3 5]  h0: [26  0]  h1: [ 0 52]  output: 364\n"
     ]
    }
   ],
   "source": [
    "inp = np.array([3, 5])\n",
    "\n",
    "w = {'h00': np.array([2,4]),\n",
    "    'h01': np.array([4,-5]),\n",
    "    'h10': np.array([-1, 2]),\n",
    "    'h11': np.array([2, 2]),\n",
    "    'out': np.array([-3, 7])}\n",
    "\n",
    "h0_layer = np.array([relu((inp * w['h00']).sum()),\n",
    "                    relu((inp * w['h01']).sum())])\n",
    "\n",
    "h1_layer = np.array([relu((h0_layer * w['h10']).sum()),\n",
    "                    relu((h0_layer * w['h11']).sum())])\n",
    "\n",
    "output = (h1_layer * w['out']).sum()\n",
    "\n",
    "print('Input: {}  h0: {}  h1: {}  output: {}'.format(\n",
    "    inp, h0_layer, h1_layer, output))"
   ]
  },
  {
   "cell_type": "markdown",
   "metadata": {},
   "source": [
    "<img src=\"img/deep11.png\" alt=\"Drawing\" style=\"width: 500px;\"/>"
   ]
  },
  {
   "cell_type": "markdown",
   "metadata": {},
   "source": [
    "# Optimization\n",
    "\n",
    "* The more datapoints one has the harder the right prediction.\n",
    "* At any set of weights, there are many values of the error\n",
    "\n",
    "## Loss function\n",
    "\n",
    "* Aggregates errors in predictions from many data points into single number\n",
    "* Measure of model’s predictive performance\n",
    "\n",
    "### Squred Error Loss Function\n",
    "\n",
    "<img src=\"img/deep12.png\" alt=\"Drawing\" style=\"width: 400px;\"/>\n",
    "\n",
    "* total error 150\n",
    "* mean error 50\n",
    "\n",
    "* Lower loss function value means a better model\n",
    "* Goal: Find the weights that give the lowest value for the loss function\n",
    "* **Gradient descent** loss function"
   ]
  },
  {
   "cell_type": "code",
   "execution_count": 7,
   "metadata": {
    "code_folding": [
     0
    ]
   },
   "outputs": [],
   "source": [
    "def predict_neural(input_, weights):\n",
    "    '''Generate Neural Network Output with\n",
    "    given input array and weights'''\n",
    "\n",
    "    hid_layers = int((len(weights) - 1) / len(input_))\n",
    "    h_layers = []\n",
    "    \n",
    "    for h_layer in range(hid_layers + 1):\n",
    "        if h_layer == 0:\n",
    "            h0_layer = np.array([relu((input_ * weights['h0' + \n",
    "                str(i)]).sum()) for i in range(len(input_))])\n",
    "            h_layers.append(h0_layer)\n",
    "            \n",
    "        elif h_layer == hid_layers:\n",
    "            output = (h_layers[-1] * weights['out']).sum()\n",
    "            return output\n",
    "        \n",
    "        else:\n",
    "            layer = np.array([relu((h_layers[-1] * weights['h' + str(h_layer) + \n",
    "                str(i)]).sum()) for i in range(len(input_))])\n",
    "            h_layers.append(layer)"
   ]
  },
  {
   "cell_type": "markdown",
   "metadata": {},
   "source": [
    "#### Model perfrmance comparison with two set of weights"
   ]
  },
  {
   "cell_type": "code",
   "execution_count": 8,
   "metadata": {
    "code_folding": [
     0,
     4,
     8
    ]
   },
   "outputs": [],
   "source": [
    "weights_0 = {'h00': np.array([2, 1]), \n",
    "             'h01': np.array([1, 2]), \n",
    "             'out': np.array([1, 1])}\n",
    "\n",
    "weights_1 = {'h00': np.array([2, 1]),\n",
    "             'h01': np.array([1., 1.5]),\n",
    "             'out': np.array([1., 1.5])}\n",
    "\n",
    "input_data = [np.array([0, 3]), \n",
    "              np.array([1, 2]), \n",
    "              np.array([-1, -2]), \n",
    "              np.array([4, 0])]\n",
    "\n",
    "target_actuals = [1, 3, 5, 7]"
   ]
  },
  {
   "cell_type": "code",
   "execution_count": 9,
   "metadata": {},
   "outputs": [
    {
     "name": "stdout",
     "output_type": "stream",
     "text": [
      "MSE with weights_0: 37.50\n",
      "MSE with weights_1: 49.89\n"
     ]
    }
   ],
   "source": [
    "model_0_predictions = []\n",
    "model_1_predictions = []\n",
    "\n",
    "for row in input_data:\n",
    "    model_0_predictions.append(predict_neural(row, weights_0))\n",
    "    model_1_predictions.append(predict_neural(row, weights_1))\n",
    "    \n",
    "# calculate mean_squred_errors for models\n",
    "m0_mse = mean_squared_error(target_actuals, model_0_predictions)\n",
    "m1_mse = mean_squared_error(target_actuals, model_1_predictions)\n",
    "\n",
    "print('MSE with weights_0: {:.2f}'.format(m0_mse))\n",
    "print('MSE with weights_1: {:.2f}'.format(m1_mse))"
   ]
  },
  {
   "cell_type": "markdown",
   "metadata": {},
   "source": [
    "# Gradient Descent\n",
    "\n",
    "#### Gradient descent intuitively:\n",
    "    1. Imagine you are in a pitch dark field (random point)\n",
    "    2. Want to find the lowest point \n",
    "    3. Feel the ground to see how it slopes\n",
    "    4. Take a small step downhill\n",
    "    5. Repeat until it is uphill in every direction\n",
    "\n",
    "### 1D\n",
    "\n",
    "* Optimal weight at point where loss function is at <font color='red'>**minimum**</font>\n",
    "* The tangent lines at given point gives the slope/gradient of the loss function at our current weight. \n",
    "* Here the gradient is positive and therefore moving toward smaller gradient\n",
    "    \n",
    "<img src=\"img/deep14.png\" alt=\"Drawing\" style=\"width: 500px;\"/>\n",
    "\n",
    "### 2D\n",
    "\n",
    "<img src=\"img/deep13.png\" alt=\"Drawing\" style=\"width: 500px;\"/>"
   ]
  },
  {
   "cell_type": "markdown",
   "metadata": {},
   "source": [
    "* If the gradient is **positive**:\n",
    "    * Going opposite the gradient = moving to lower numbers\n",
    "    * Subtract the gradient from current value\n",
    "    * Steps cannot be too big, otherwise can skip useful balance point\n",
    "* Solution **learning rate**:\n",
    "    * Update each weight by subtracting <br>\n",
    "        **learning rate * gradient**"
   ]
  },
  {
   "cell_type": "markdown",
   "metadata": {},
   "source": [
    "# Gradient Calculation\n",
    "\n",
    "<br>\n",
    "<img src=\"img/deep27.png\" alt=\"Drawing\" style=\"width: 600px;\"/> \n",
    "<br>\n",
    "\n",
    "### General gradient descent equation: \n",
    "<br>\n",
    "<br>\n",
    "\n",
    "$$\\frac{\\partial E}{\\partial w} =  \\frac{\\partial (a^L - y)^2}{\\partial w} = \\frac{\\partial (a^L-y)^2}{\\partial a^L} \\frac{\\partial z^L}{\\partial w} \\frac{\\partial a^L}{\\partial z^L} = 2(a^L-y)\\frac{\\partial (wa^{L-1})}{\\partial w} \\frac{\\partial \\sigma(z^L)}{\\partial z^L} = 2\\Delta a^{L-1} \\sigma'(z^L)$$\n",
    "\n",
    "<br>\n",
    "<br>\n",
    "\n",
    "#### Quantities to be multiplied:\n",
    "1. **Derivative** of the **loss function** w.r.t to target $2\\Delta$<br>\n",
    "2. **Input node** value $a^{L-1}$\n",
    "3. **Activation function** <font color='red'>**DERIVATIVE**</font> w.r.t target $\\sigma'(z^L)$\n",
    "\n",
    "Activation function derivatives:\n",
    "\n",
    "<img src=\"img/deep28.png\" alt=\"Drawing\" style=\"width: 600px;\"/> \n",
    "\n",
    "Weight gradient calculation example using ReLU activation function:\n",
    "\n",
    "$$\\frac{\\partial E}{\\partial w} = 2\\Delta a^{L-1} \\sigma'(z^L) = 2(6-10)\\cdot3\\cdot 1 = -24$$   "
   ]
  },
  {
   "cell_type": "markdown",
   "metadata": {},
   "source": [
    "## Backpropagation: Updating Weights\n",
    "\n",
    "* Allows **weight upgrades** with **gradient decent**\n",
    "\n",
    "### Backpropagation process\n",
    "\n",
    "* To estimate the gradient of the loss function w.r.t each weight\n",
    "    1. Do forward propagation: find predictions and errors\n",
    "    2. From output (layer) go backwards one layer at a time\n",
    "    \n",
    "$$w_{new} = w - x_{\\text{rate}}\\frac{\\partial E}{\\partial w}$$\n",
    "\n",
    "Where $x$ is **learning rate**. If $x=0.01$:\n",
    "\n",
    "$$w_{new} = 2 - 0.01\\cdot(-24) = 2.24$$\n",
    "\n",
    "<font color='green'>__Each time you generate predictions using forward propagation, you update the weights using backward propagation!__</font>"
   ]
  },
  {
   "cell_type": "markdown",
   "metadata": {},
   "source": [
    "#### Exercise. Update the Weights\n",
    "\n",
    "<img src=\"img/deep29.png\" alt=\"Drawing\" style=\"width: 500px;\"/>"
   ]
  },
  {
   "cell_type": "code",
   "execution_count": 24,
   "metadata": {},
   "outputs": [
    {
     "name": "stdout",
     "output_type": "stream",
     "text": [
      "Input: [2 3]  Hidden Layer: [0.85 0.48]  Output: 0.191\n"
     ]
    }
   ],
   "source": [
    "# lets confirm the weight values with forward propagation\n",
    "inp = np.array([2, 3])\n",
    "w1_4 = np.array([[.11, .21], [.12, .08]])\n",
    "w5_6 = np.array([.14, .15])\n",
    "h1h2 = np.array([relu((inp * w1_4[0]).sum()),\n",
    "                relu((inp * w1_4[1]).sum())])\n",
    "out = relu((h1h2 * w5_6).sum())\n",
    "print('Input: {}  Hidden Layer: {}  Output: {}'.format(\n",
    "    inp, h1h2, out))"
   ]
  },
  {
   "cell_type": "markdown",
   "metadata": {},
   "source": [
    "Finding the weight gradients for $w_6$ and $w_1$:\n",
    "\n",
    "$\n",
    "\\begin{align*}\n",
    "\\frac{\\partial E}{\\partial w_6} &= \\frac{\\partial E}{\\partial w_6} \\frac{\\partial a^1}{\\partial a^1} \\frac{\\partial z^1}{\\partial z^1} = \\frac{\\partial E}{\\partial a^1} \\frac{\\partial z^1}{\\partial w_6} \\frac{\\partial a^1}{\\partial z^1} = \\frac{\\partial \\frac{1}{2}(a^1 - y)^2}{\\partial a^1} \\frac{\\partial(w_5h_1 + w_6h_2)}{\\partial w_6} \\frac{\\partial \\sigma(z^1)}{\\partial z^1} = (a^1-y)h_2\\sigma'(z^1) = \\Delta h_2 \\sigma'(z^1)\\\\\n",
    "\\frac{\\partial E}{\\partial w_6} &= (0.191 -1)\\cdot 0.48 ReLU'(0.191) = (0.191 - 1)\\cdot 0.48 \\cdot 1 = -0.3883 \\\\\n",
    "&.\\\\\n",
    "&.\\\\\n",
    "&.\\\\\n",
    "\\frac{\\partial E}{\\partial w_1} &= \\frac{\\partial E}{\\partial a^1} \\frac{\\partial z^1}{\\partial w_1} \\frac{\\partial a^1}{\\partial z^1} = \\frac{\\partial \\frac{1}{2}(a^1-y)^2}{\\partial a^1} \\frac{\\partial (w_5h_1 + w_6h_2)}{\\partial w_1} \\frac{\\partial \\sigma(z^1)}{\\partial z^1} = \\Delta \\frac{\\partial[w_5(w_1i_1 + w_2i_2)+w_6(w_3i_1 + w_4i_2)]}{\\partial w_1} \\sigma'(z^1) = \\\\\n",
    "&= \\Delta w_5l_1 \\sigma'(z^1) \\\\\n",
    "\\frac{\\partial E}{\\partial w_1} &= (0.191 - 1)\\cdot 0.14\\cdot 2\\cdot ReLU'(0.191) = −0.22652\n",
    "\\end{align*}\n",
    "$"
   ]
  },
  {
   "cell_type": "markdown",
   "metadata": {},
   "source": [
    "* The coefficient $\\frac{1}{2}$ in front of Error/Loss function is just added to ease the derivative calculation. It might as well can be there.\n",
    "* All weight gradients:"
   ]
  },
  {
   "cell_type": "code",
   "execution_count": 27,
   "metadata": {},
   "outputs": [
    {
     "data": {
      "text/plain": [
       "array([0.11, 0.21, 0.12, 0.08])"
      ]
     },
     "execution_count": 27,
     "metadata": {},
     "output_type": "execute_result"
    }
   ],
   "source": [
    "w1_4.ravel()"
   ]
  },
  {
   "cell_type": "code",
   "execution_count": 31,
   "metadata": {},
   "outputs": [
    {
     "data": {
      "text/plain": [
       "array([-0.22652, -0.33978, -0.2427 , -0.36405])"
      ]
     },
     "execution_count": 31,
     "metadata": {},
     "output_type": "execute_result"
    }
   ],
   "source": [
    "delta = 0.191 - 1\n",
    "w5_6_grad = np.array([delta * h1h2[0], delta * h1h2[1]])\n",
    "w1_4_grad = np.array([delta * w5_6[0] * inp[0],\n",
    "                      delta * w5_6[0] * inp[1],\n",
    "                      delta * w5_6[1] * inp[0],\n",
    "                      delta * w5_6[1] * inp[1]])\n",
    "w1_4_grad"
   ]
  },
  {
   "cell_type": "markdown",
   "metadata": {},
   "source": [
    "* New weights are calculated with:\n",
    "\n",
    "$w^* = w - x\\frac{\\partial E}{\\partial w}$,\n",
    "\n",
    "where $x$ is the learning rate. With **x=0.05** we get new weights:"
   ]
  },
  {
   "cell_type": "code",
   "execution_count": 46,
   "metadata": {},
   "outputs": [
    {
     "name": "stdout",
     "output_type": "stream",
     "text": [
      "w1 - w4:[0.12 0.23 0.13 0.1 ]\n",
      "\n",
      "h1 - h2:[0.92 0.56]\n",
      "\n",
      "w5 - w6:[0.17 0.17]\n",
      "\n",
      "New Prediction: 0.26\n"
     ]
    }
   ],
   "source": [
    "# new weights\n",
    "x = 0.05\n",
    "w5_6_new = np.array([old - (x * grad) for old, grad in zip(w5_6, w5_6_grad)])\n",
    "w1_4_new = np.array([old - (x * grad) for old, grad in zip(w1_4.ravel(), w1_4_grad)])\n",
    "w1_4_new\n",
    "\n",
    "# new hidden layer and output values\n",
    "h1h2_new = np.array([(inp * w1_4_new[:2]).sum(),\n",
    "                     (inp * w1_4_new[2:]).sum()])\n",
    "out = (h1h2_new * w5_6_new).sum()\n",
    "\n",
    "print('w1 - w4:{}'.format(np.around(w1_4_new, 2)))\n",
    "print('\\nh1 - h2:{}'.format(np.around(h1h2_new, 2)))\n",
    "print('\\nw5 - w6:{}'.format(np.around(w5_6_new, 2)))\n",
    "print('\\nNew Prediction: {}'.format(np.around(out, 2)))"
   ]
  },
  {
   "cell_type": "markdown",
   "metadata": {},
   "source": [
    "<img src=\"img/deep30.png\" alt=\"Drawing\" style=\"width: 500px;\"/>"
   ]
  },
  {
   "cell_type": "markdown",
   "metadata": {},
   "source": [
    "#### Exercise. Find new weights and plot error function evolution"
   ]
  },
  {
   "cell_type": "code",
   "execution_count": 10,
   "metadata": {},
   "outputs": [],
   "source": [
    "def get_slope_mse(input_, weights, target):\n",
    "    pred = (input_ * weights).sum()\n",
    "    error = pred - target\n",
    "    slope = 2 * error * input_\n",
    "    mse = mean_squared_error([pred], [target])\n",
    "    return slope, mse"
   ]
  },
  {
   "cell_type": "code",
   "execution_count": 11,
   "metadata": {},
   "outputs": [
    {
     "data": {
      "image/png": "[encoded data removed]",
      "text/plain": [
       "<Figure size 576x432 with 1 Axes>"
      ]
     },
     "metadata": {},
     "output_type": "display_data"
    }
   ],
   "source": [
    "input_data  = np.array([1, 2, 3])\n",
    "weights = np.array([0, 2, 1])\n",
    "target = 0\n",
    "learning_rate = 0.01\n",
    "n_updates = 20\n",
    "\n",
    "mse_vals= []\n",
    "for update in range(n_updates):\n",
    "    slope, mse = get_slope_mse(input_data, weights, target) \n",
    "    mse_vals.append(mse)\n",
    "    \n",
    "    # update the weights\n",
    "    weights = weights - learning_rate * slope\n",
    "\n",
    "# plotting the model improvement\n",
    "sns.set(style='whitegrid')\n",
    "plt.figure(figsize=(8, 6))\n",
    "plt.plot(range(n_updates), mse_vals, linestyle='--', c='red')\n",
    "plt.xticks(np.arange(0, 20, 4))\n",
    "plt.title('Model Performance Correction with 0.01 Learning Rate', weight='bold')\n",
    "plt.xlabel('Iterations')\n",
    "plt.ylabel('Mean Squared Error')\n",
    "plt.show()"
   ]
  },
  {
   "cell_type": "markdown",
   "metadata": {},
   "source": [
    "* iterations with small learning rate corrections to weights improve model performance until saturation\n",
    "* when we have many layers and number of hidden nodes it is not compuationally effective to do forward- and back propagation for each weight and node. An approximation is then used - stochastic gradient decent\n",
    "\n",
    "# Stochastic Gradient Decent (SGD)\n",
    "\n",
    "* For computational efficiency it is common to calculate gradients only on a subset o the data ('batch') for each update of the weights.\n",
    "- Uses a **different batch of data** at each run\n",
    "- Start over from the beginning once all the data is used \n",
    "- Each full cycle through the training data is called an **epoch**\n",
    "- When gradients are calculated on one epoch at the time - **Stochastic Gradient Descent**"
   ]
  },
  {
   "cell_type": "code",
   "execution_count": null,
   "metadata": {},
   "outputs": [],
   "source": []
  }
 ],
 "metadata": {
  "kernelspec": {
   "display_name": "Python 3",
   "language": "python",
   "name": "python3"
  },
  "language_info": {
   "codemirror_mode": {
    "name": "ipython",
    "version": 3
   },
   "file_extension": ".py",
   "mimetype": "text/x-python",
   "name": "python",
   "nbconvert_exporter": "python",
   "pygments_lexer": "ipython3",
   "version": "3.7.5"
  },
  "latex_envs": {
   "LaTeX_envs_menu_present": true,
   "autoclose": true,
   "autocomplete": true,
   "bibliofile": "biblio.bib",
   "cite_by": "apalike",
   "current_citInitial": 1,
   "eqLabelWithNumbers": true,
   "eqNumInitial": 1,
   "hotkeys": {
    "equation": "Ctrl-E",
    "itemize": "Ctrl-I"
   },
   "labels_anchors": false,
   "latex_user_defs": false,
   "report_style_numbering": false,
   "user_envs_cfg": false
  },
  "toc": {
   "base_numbering": 1,
   "nav_menu": {},
   "number_sections": true,
   "sideBar": true,
   "skip_h1_title": false,
   "title_cell": "Table of Contents",
   "title_sidebar": "Contents",
   "toc_cell": false,
   "toc_position": {},
   "toc_section_display": true,
   "toc_window_display": false
  }
 },
 "nbformat": 4,
 "nbformat_minor": 2
}
