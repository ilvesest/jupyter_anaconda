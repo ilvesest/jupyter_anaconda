{
 "cells": [
  {
   "cell_type": "markdown",
   "metadata": {},
   "source": [
    "# Script for changing filenames in a directory"
   ]
  },
  {
   "cell_type": "code",
   "execution_count": 1,
   "metadata": {},
   "outputs": [],
   "source": [
    "import os, sys\n",
    "import re\n",
    "\n",
    "def rename_dirs(path, pattern='19\\d{2}|20\\d{2}'):\n",
    "    '''Changing file or directory names'''\n",
    "    \n",
    "    # if such a file/folder exists\n",
    "    if os.path.exists(path) == True:\n",
    "        print('Path: ' + path + ' exists.')\n",
    "    else:\n",
    "        print('There is no such directory: ' + path)\n",
    "        return 0\n",
    "\n",
    "\n",
    "    # changes the current working directory to the given path\n",
    "    os.chdir(path)\n",
    "\n",
    "    # listing directories\n",
    "    files = os.listdir(os.getcwd())\n",
    "    \n",
    "    # printing all the files the directory contains\n",
    "    print('\\nFiles in directory are:\\n')\n",
    "    \n",
    "    for file in files: \n",
    "        print('\\t' + file)\n",
    "        \n",
    "        start_pattern = re.compile(r'^19\\d{2}\\s\\-\\-\\s|^20\\d{2}\\s\\-\\-\\s')\n",
    "        \n",
    "        # skip file if it is already renamed\n",
    "        if start_pattern.match(file):\n",
    "            continue\n",
    "        else:\n",
    "            # extracts the year from the file name \n",
    "            year = re.findall(pattern, file)\n",
    "\n",
    "            # renames the file\n",
    "            os.rename(file, year[0] + ' -- ' + file)\n",
    "    \n",
    "    # printing the renamed files\n",
    "    print('\\nRenamed files in the directory are:\\n')\n",
    "    for file in os.listdir(os.getcwd()):\n",
    "        print('\\t' + file)"
   ]
  },
  {
   "cell_type": "code",
   "execution_count": 8,
   "metadata": {},
   "outputs": [
    {
     "name": "stdout",
     "output_type": "stream",
     "text": [
      "Path: /home/tonu_ilves/Videos/Vaatamata_filmid exists.\n",
      "\n",
      "Files in directory are:\n",
      "\n",
      "\tBlindspotting (2018) [WEBRip] [1080p] [YTS.AM]\n",
      "\t1973 -- The.Holy.Mountain.1973.1080p.BluRay.H264.AAC-RARBG\n",
      "\t1970 -- Woodstock.1970.DC.720p.BluRay.H264.AAC-RARBG\n",
      "\t1976 -- In.the.Realm.of.the.Senses.[1976].1080p.Bluray.x264.UNCUT.[BHUPI]\n",
      "\tA Place in the Sun  (Drama 1951)  Eliz. Taylor 720p  HD\n",
      "\tThe.Treatment.2014.1080p.BluRay.H264.AAC-RARBG\n",
      "\t2015 -- The.Big.Short.2015.720p.BluRay.H264.AAC-RARBG\n",
      "\tFrom.Here.to.Eternity.1953.1080p.BluRay.x264.anoXmous\n",
      "\t1963 -- Contempt.1963.1080p.BluRay.H264.AAC-RARBG\n",
      "\t1975 -- The Story of O - Histoire d'O (1975) uncut\n",
      "\t2003 -- Lost in Translation (2003) [1080p]\n",
      "\t2005 -- Proof (2005)\n",
      "\tThe.Innocents.1961.720p.BRRip.x264-x0r\n",
      "\t1998 -- Pi (1998) - 1080p\n",
      "\t1948 -- Bicycle Thieves (1948) [BluRay] [1080p] [YTS.AM]\n",
      "\tThe.Graduate.1967.REMASTERED.720p.BluRay.900MB.ShAaNiG.mkv\n",
      "\t1933 -- Duck.Soup.1933.1080p.BluRay.H264.AAC-RARBG\n",
      "\t2001 -- Fat.Girl.2001.1080p.BluRay.H264.AAC-RARBG\n",
      "\t1931 -- Tabu A Story of the South Seas (1931)\n",
      "\t1964 -- Sin in the Suburbs\n",
      "\t1995 -- Strange.Days.1995.720p.BluRay.H264.AAC-RARBG\n",
      "\t1965 -- Alphaville.1965.720p.BluRay.AVC-mfcorrea\n",
      "\n",
      "Renamed files in the directory are:\n",
      "\n",
      "\t1967 -- The.Graduate.1967.REMASTERED.720p.BluRay.900MB.ShAaNiG.mkv\n",
      "\t1973 -- The.Holy.Mountain.1973.1080p.BluRay.H264.AAC-RARBG\n",
      "\t1970 -- Woodstock.1970.DC.720p.BluRay.H264.AAC-RARBG\n",
      "\t1976 -- In.the.Realm.of.the.Senses.[1976].1080p.Bluray.x264.UNCUT.[BHUPI]\n",
      "\t1961 -- The.Innocents.1961.720p.BRRip.x264-x0r\n",
      "\t2015 -- The.Big.Short.2015.720p.BluRay.H264.AAC-RARBG\n",
      "\t1963 -- Contempt.1963.1080p.BluRay.H264.AAC-RARBG\n",
      "\t2014 -- The.Treatment.2014.1080p.BluRay.H264.AAC-RARBG\n",
      "\t1975 -- The Story of O - Histoire d'O (1975) uncut\n",
      "\t2003 -- Lost in Translation (2003) [1080p]\n",
      "\t2005 -- Proof (2005)\n",
      "\t1998 -- Pi (1998) - 1080p\n",
      "\t2018 -- Blindspotting (2018) [WEBRip] [1080p] [YTS.AM]\n",
      "\t1951 -- A Place in the Sun  (Drama 1951)  Eliz. Taylor 720p  HD\n",
      "\t1948 -- Bicycle Thieves (1948) [BluRay] [1080p] [YTS.AM]\n",
      "\t1933 -- Duck.Soup.1933.1080p.BluRay.H264.AAC-RARBG\n",
      "\t2001 -- Fat.Girl.2001.1080p.BluRay.H264.AAC-RARBG\n",
      "\t1931 -- Tabu A Story of the South Seas (1931)\n",
      "\t1964 -- Sin in the Suburbs\n",
      "\t1995 -- Strange.Days.1995.720p.BluRay.H264.AAC-RARBG\n",
      "\t1953 -- From.Here.to.Eternity.1953.1080p.BluRay.x264.anoXmous\n",
      "\t1965 -- Alphaville.1965.720p.BluRay.AVC-mfcorrea\n"
     ]
    }
   ],
   "source": [
    "rename_dirs(path='/home/tonu_ilves/Videos/Vaatamata_filmid')"
   ]
  },
  {
   "cell_type": "code",
   "execution_count": 19,
   "metadata": {},
   "outputs": [
    {
     "name": "stdout",
     "output_type": "stream",
     "text": [
      "Lucky!\n"
     ]
    }
   ],
   "source": [
    "a = [3, 'a', 6, 7]\n",
    "\n",
    "if any(x == 6 for x in a): \n",
    "    print('Lucky!')\n",
    "else:\n",
    "    print('Not Lucky!')"
   ]
  },
  {
   "cell_type": "code",
   "execution_count": 22,
   "metadata": {},
   "outputs": [
    {
     "name": "stdout",
     "output_type": "stream",
     "text": [
      "Mis toimub\n"
     ]
    }
   ],
   "source": [
    "def dummy():\n",
    "    return print(f\"Mis toimub\")\n",
    "dummy()"
   ]
  },
  {
   "cell_type": "code",
   "execution_count": null,
   "metadata": {},
   "outputs": [],
   "source": []
  }
 ],
 "metadata": {
  "kernelspec": {
   "display_name": "Python 3 (ipykernel)",
   "language": "python",
   "name": "python3"
  },
  "language_info": {
   "codemirror_mode": {
    "name": "ipython",
    "version": 3
   },
   "file_extension": ".py",
   "mimetype": "text/x-python",
   "name": "python",
   "nbconvert_exporter": "python",
   "pygments_lexer": "ipython3",
   "version": "3.7.9"
  },
  "latex_envs": {
   "LaTeX_envs_menu_present": true,
   "autoclose": true,
   "autocomplete": true,
   "bibliofile": "biblio.bib",
   "cite_by": "apalike",
   "current_citInitial": 1,
   "eqLabelWithNumbers": true,
   "eqNumInitial": 1,
   "hotkeys": {
    "equation": "Ctrl-E",
    "itemize": "Ctrl-I"
   },
   "labels_anchors": false,
   "latex_user_defs": false,
   "report_style_numbering": false,
   "user_envs_cfg": false
  },
  "toc": {
   "base_numbering": 1,
   "nav_menu": {},
   "number_sections": true,
   "sideBar": true,
   "skip_h1_title": false,
   "title_cell": "Table of Contents",
   "title_sidebar": "Contents",
   "toc_cell": false,
   "toc_position": {},
   "toc_section_display": true,
   "toc_window_display": false
  },
  "varInspector": {
   "cols": {
    "lenName": 16,
    "lenType": 16,
    "lenVar": 40
   },
   "kernels_config": {
    "python": {
     "delete_cmd_postfix": "",
     "delete_cmd_prefix": "del ",
     "library": "var_list.py",
     "varRefreshCmd": "print(var_dic_list())"
    },
    "r": {
     "delete_cmd_postfix": ") ",
     "delete_cmd_prefix": "rm(",
     "library": "var_list.r",
     "varRefreshCmd": "cat(var_dic_list()) "
    }
   },
   "types_to_exclude": [
    "module",
    "function",
    "builtin_function_or_method",
    "instance",
    "_Feature"
   ],
   "window_display": false
  }
 },
 "nbformat": 4,
 "nbformat_minor": 2
}
