{
 "cells": [
  {
   "cell_type": "markdown",
   "id": "dc60395c",
   "metadata": {},
   "source": [
    "# Script for unziping compressed sub files"
   ]
  },
  {
   "cell_type": "code",
   "execution_count": 8,
   "id": "0f7c6935",
   "metadata": {},
   "outputs": [],
   "source": [
    "import os, sys, re\n",
    "import zipfile as zf\n",
    "import shutil"
   ]
  },
  {
   "cell_type": "code",
   "execution_count": 7,
   "id": "8fe66379",
   "metadata": {
    "code_folding": []
   },
   "outputs": [
    {
     "name": "stdout",
     "output_type": "stream",
     "text": [
      "Path: /home/tonu/Downloads exists.\n",
      "Everything.Is.Illuminated.2005.720P.Webrip.X264.[Moviesfd].mkv\n",
      "The Big Lebowski (1998) (1080p BluRay x265 HDR afm72).mkv\n",
      "Contact.1997.1080p.BluRay.x264.YIFY.mp4\n",
      "[ www.UsaBit.com ] - The Boat That Rocked 2009 720p BRRip x264-PLAYNOW.mp4\n",
      "Harry_Potter_and_the_Half_Blood_Prince_2009.mkv\n",
      "Nights.Of.Cabiria.1957.1080p.BluRay.x264.AAC-[YTS.MX].mp4\n",
      "The.Polar.Express.2004.1080p.BluRay.x265-RARBG.mp4\n",
      "The Impossible (2012) 720p_BRrip_scOrp_sujaidr.mkv\n",
      "The.Wind.Will.Carry.Us.1999.1080p.BluRay.x264-[YTS.LT].mp4\n",
      "Long.Day's.Journey.Into.Night.2018.1080p.BluRay.x264.AAC5.1-[YTS.MX].mp4\n",
      "Red River (1948) Criterion (1080p BluRay x265 10bit Tigole).mkv\n",
      "Breathe.2014.1080p.BluRay.x264.AAC5.1-[YTS.MX].mp4\n",
      "The.Grey.2011.1080p.BluRay.x264.x264.YIFY.mp4\n",
      "Kon-Tiki.2012.1080p.BluRay.x264-[YTS.LT].mp4\n",
      "Ikiru.1952.1080p.BluRay.x264-[YTS.AM].mp4\n"
     ]
    }
   ],
   "source": [
    "def unzip_rename(f_path=os.getcwd()):\n",
    "    \"\"\"Move subs zip files to correct folders, \n",
    "    unpack & rename to video filename.\"\"\"\n",
    "    \n",
    "    # if such a file/folder exists\n",
    "    if os.path.exists(f_path) == True:\n",
    "        print('Path: ' + f_path + ' exists.')\n",
    "    else:\n",
    "        print('There is no such directory: ' + path)\n",
    "        return 0\n",
    "    \n",
    "    # regex patterns\n",
    "    start_p = re.compile(r'^19\\d{2}--|^20\\d{2}--')\n",
    "    year_p = re.compile(r\"19\\d{2}|20\\d{2}\")\n",
    "    name_p = re.compile(r\"^(?=.*\\d{4})(?!.*\\.zip)[A-Za-z\\s\\.'-]+[^\\(\\.\\s\\-]\\b\", re.I)\n",
    "    sep_p = re.compile(r\"\\s|\\.|\\_|\\-\")\n",
    "    \n",
    "    # rename movie folders if not already\n",
    "    for file in os.listdir(f_path): \n",
    "        \n",
    "        # skip file if it is already renamed\n",
    "        if name_p.match(file) is not None:\n",
    "            \n",
    "            # extracts the year & name from the file\n",
    "            year = re.search(year_p, file)\n",
    "            name_raw = re.match(name_p, file)\n",
    "            name = re.sub(sep_p, ' ', name_raw[0].lower())\n",
    "            \n",
    "            if os.path.exists(f\"{f_path}/{file}\") == True:\n",
    "                os.rename(f\"{f_path}/{file}\", f\"{f_path}/{year[0]}--{name}\")\n",
    "        \n",
    "    \"\"\"\"\"\"\n",
    "    # regex patterns\n",
    "    mfile_p = re.compile(r\"^(?=.*\\.mp4$|.*\\.avi$|.*\\.mkv$).*\")\n",
    "    mfile_ext = re.compile(r\"\\.(mp4|.*avi|.*mkv)$\")\n",
    "    subs_folder_p = re.compile(r\"^Subs$\", re.I)\n",
    "    eng_p = re.compile(r\"(?i)eng|EN\")\n",
    "    sub_p = re.compile(r\"\\.srt$\")\n",
    "    zip_p = re.compile(r\"^.*\\.zip\")\n",
    "    zip_name_p = re.compile(r\"^(?=.*\\.zip)[A-Za-z\\s\\.'-]+[^\\(\\.\\s\\-]\\b\")\n",
    "    \n",
    "    # rename movie & sub files in folders to same name\n",
    "    for file in os.listdir(f_path):\n",
    "        if start_p.match(file) is not None:\n",
    "            for dir_file in os.listdir(f\"{f_path}/{file}\"):\n",
    "                \n",
    "                if mfile_p.match(dir_file) is not None:\n",
    "                    ext = mfile_ext.search(dir_file)\n",
    "                    os.rename(f\"{f_path}/{file}/{dir_file}\", \n",
    "                              f\"{f_path}/{file}/{file}{ext}\")\n",
    "                    \n",
    "                if sub_p.search(dir_file) is not None:\n",
    "                    if f\"{f_path}/{file}/{file}.en.srt\"  \n",
    "                       f\"{f_path}/{file}/{file}.srt\"\n",
    "                    \n",
    "                    os.rename(f\"{f_path}/{file}/{dir_file}\",\n",
    "                              f\"{f_path}/{file}/{file}.en.srt\")\n",
    "                    shutil.copy(f\"{f_path}/{file}/{file}.en.srt\",\n",
    "                                f\"{f_path}/{file}/{file}.srt\")\n",
    "                    \n",
    "                if subs_folder_p.match(dir_file) is not None:\n",
    "                    for sub in os.listdir(f\"{f_path}/{file}/{dir_file}\"):\n",
    "                        if eng_p.search(subs) is not None:\n",
    "                            os.rename(f\"{f_path}/{file}/{dir_file}/{sub}\",\n",
    "                                      f\"{f_path}/{file}/{file}.en.srt\")\n",
    "                            shutil.copy(f\"{f_path}/{file}/{file}.en.srt\",\n",
    "                                f\"{f_path}/{file}/{file}.srt\")\n",
    "\n",
    "#     # move zip file to corresponding folder\n",
    "#     for file in os.listdir(f_path):\n",
    "        \n",
    "#         if zip_p.match(file):\n",
    "            \n",
    "#             print(file)\n",
    "#             # extract movie name\n",
    "#             year = re.search(year_p, file)\n",
    "#             name_raw = re.match(zip_name_p, file)\n",
    "#             name = re.sub(sep_p, ' ', name_raw[0].lower())\n",
    "            \n",
    "#             movie_dir = f\"{year[0]}--{name}\"\n",
    "            \n",
    "#             # cut zip file to movie folder if not already\n",
    "#             if not os.path.exists(f\"{f_path}/{movie_dir}/{file}\"):\n",
    "#                 os.rename(f\"{f_path}/{file}\", f\"{f_path}/{movie_dir}/{file}\")\n",
    "                \n",
    "#                 # unzip file\n",
    "#                 with zf.ZipFile(f\"{f_path}/{movie_dir}/{file}\", 'r') as zip_ref:\n",
    "#                     zip_ref.extractall(f\"{f_path}/{movie_dir}\")\n",
    "                \n",
    "#             else:\n",
    "#                 os.remove(f\"{f_path}/{file}\")\n",
    "\n",
    "unzip_rename('/home/tonu/Downloads')"
   ]
  },
  {
   "cell_type": "code",
   "execution_count": 6,
   "id": "c792ce00",
   "metadata": {},
   "outputs": [
    {
     "name": "stdout",
     "output_type": "stream",
     "text": [
      "Everything.Is.Illuminated.2005.720P.Webrip.X264.[Moviesfd].mkv\n"
     ]
    }
   ],
   "source": [
    "pat = re.compile(r'^19\\d{2}--|^20\\d{2}--')\n",
    "for f in os.listdir('/home/tonu/Downloads'):\n",
    "    for fi in os.listdir(f'/home/tonu/Downloads/{f}'):\n",
    "        print(fi)\n",
    "    break"
   ]
  },
  {
   "cell_type": "code",
   "execution_count": 11,
   "id": "1595a936",
   "metadata": {},
   "outputs": [
    {
     "data": {
      "text/plain": [
       "True"
      ]
     },
     "execution_count": 11,
     "metadata": {},
     "output_type": "execute_result"
    }
   ],
   "source": [
    "\"Ikiru.1952.1080p.BluRay.x264-[YTS.AM].srt\" in os.listdir('/home/tonu/Downloads/1952--ikiru/')"
   ]
  },
  {
   "cell_type": "code",
   "execution_count": null,
   "id": "39cf1256",
   "metadata": {},
   "outputs": [],
   "source": []
  }
 ],
 "metadata": {
  "kernelspec": {
   "display_name": "Python 3 (ipykernel)",
   "language": "python",
   "name": "python3"
  },
  "language_info": {
   "codemirror_mode": {
    "name": "ipython",
    "version": 3
   },
   "file_extension": ".py",
   "mimetype": "text/x-python",
   "name": "python",
   "nbconvert_exporter": "python",
   "pygments_lexer": "ipython3",
   "version": "3.7.9"
  },
  "latex_envs": {
   "LaTeX_envs_menu_present": true,
   "autoclose": false,
   "autocomplete": true,
   "bibliofile": "biblio.bib",
   "cite_by": "apalike",
   "current_citInitial": 1,
   "eqLabelWithNumbers": true,
   "eqNumInitial": 1,
   "hotkeys": {
    "equation": "Ctrl-E",
    "itemize": "Ctrl-I"
   },
   "labels_anchors": false,
   "latex_user_defs": false,
   "report_style_numbering": false,
   "user_envs_cfg": false
  },
  "toc": {
   "base_numbering": 1,
   "nav_menu": {},
   "number_sections": true,
   "sideBar": true,
   "skip_h1_title": false,
   "title_cell": "Table of Contents",
   "title_sidebar": "Contents",
   "toc_cell": false,
   "toc_position": {},
   "toc_section_display": true,
   "toc_window_display": false
  },
  "varInspector": {
   "cols": {
    "lenName": 16,
    "lenType": 16,
    "lenVar": 40
   },
   "kernels_config": {
    "python": {
     "delete_cmd_postfix": "",
     "delete_cmd_prefix": "del ",
     "library": "var_list.py",
     "varRefreshCmd": "print(var_dic_list())"
    },
    "r": {
     "delete_cmd_postfix": ") ",
     "delete_cmd_prefix": "rm(",
     "library": "var_list.r",
     "varRefreshCmd": "cat(var_dic_list()) "
    }
   },
   "types_to_exclude": [
    "module",
    "function",
    "builtin_function_or_method",
    "instance",
    "_Feature"
   ],
   "window_display": false
  }
 },
 "nbformat": 4,
 "nbformat_minor": 5
}
