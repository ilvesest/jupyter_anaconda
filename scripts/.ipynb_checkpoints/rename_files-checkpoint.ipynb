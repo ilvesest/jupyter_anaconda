{
 "cells": [
  {
   "cell_type": "markdown",
   "metadata": {},
   "source": [
    "# Script for changing filenames in a directory"
   ]
  },
  {
   "cell_type": "code",
   "execution_count": 12,
   "metadata": {},
   "outputs": [],
   "source": [
    "import os, sys\n",
    "import re\n",
    "\n",
    "def rename_dirs(path, pattern='19\\d{2}|20\\d{2}'):\n",
    "    '''Changing file or directory names'''\n",
    "    \n",
    "    # if such a file/folder exists\n",
    "    if os.path.exists(dir_path) == True:\n",
    "        print('Path: ' + dir_path + ' exists.')\n",
    "    else:\n",
    "        print('There is no such directory: ' + dir_path)\n",
    "        return 0\n",
    "\n",
    "\n",
    "    # changes the current working directory to the given path\n",
    "    os.chdir(path)\n",
    "\n",
    "    # listing directories\n",
    "    files = os.listdir(os.getcwd())\n",
    "    \n",
    "    # printing all the files the directory contains\n",
    "    print('\\nFiles in directory are:\\n')\n",
    "    \n",
    "    for file in files: \n",
    "        print('\\t' + file)\n",
    "        \n",
    "        start_pattern = re.compile(r'^19\\d{2}\\s\\-\\-\\s|^20\\d{2}\\s\\-\\-\\s')\n",
    "        \n",
    "        # skip file if it is already renamed\n",
    "        if start_pattern.match(file):\n",
    "            continue\n",
    "        else:\n",
    "            # extracts the year from the file name \n",
    "            year = re.findall(pattern, file)\n",
    "\n",
    "            # renames the file\n",
    "            os.rename(file, year[0] + ' -- ' + file)\n",
    "    \n",
    "    # printing the renamed files\n",
    "    print('\\nRenamed files in the directory are:\\n')\n",
    "    for file in os.listdir(os.getcwd()):\n",
    "        print('\\t' + file)"
   ]
  },
  {
   "cell_type": "code",
   "execution_count": 11,
   "metadata": {},
   "outputs": [
    {
     "name": "stdout",
     "output_type": "stream",
     "text": [
      "Path: /home/ilves/Downloads/testing.1978.blueray/ exists.\n",
      "\n",
      "Files in directory are:\n",
      "\n",
      "\tCollateral (2004)\n",
      "\tEmmanuelle.1974.1080p.BluRay.H264.AAC-RARBG\n",
      "\tKind.Hearts.and.Coronets.1949.1080p.BluRay.H264.AAC-RARBG\n",
      "\tJane Eyre (1943) [1080p]\n",
      "\tLetter.from.an.Unknown.Woman.1948.720p.BluRay.x264-PSYCHD [PublicHD]\n",
      "\tIt Happened One Night (1934) [1080p]\n",
      "\n",
      "Renamed files in the directory are:\n",
      "\n",
      "\t1934 -- It Happened One Night (1934) [1080p]\n",
      "\t1974 -- Emmanuelle.1974.1080p.BluRay.H264.AAC-RARBG\n",
      "\t2004 -- Collateral (2004)\n",
      "\t1948 -- Letter.from.an.Unknown.Woman.1948.720p.BluRay.x264-PSYCHD [PublicHD]\n",
      "\t1949 -- Kind.Hearts.and.Coronets.1949.1080p.BluRay.H264.AAC-RARBG\n",
      "\t1943 -- Jane Eyre (1943) [1080p]\n"
     ]
    }
   ],
   "source": [
    "rename_dirs('/home/ilves/Downloads/Vaadatud Filmid/')"
   ]
  },
  {
   "cell_type": "code",
   "execution_count": null,
   "metadata": {},
   "outputs": [],
   "source": []
  }
 ],
 "metadata": {
  "kernelspec": {
   "display_name": "Python 3",
   "language": "python",
   "name": "python3"
  },
  "language_info": {
   "codemirror_mode": {
    "name": "ipython",
    "version": 3
   },
   "file_extension": ".py",
   "mimetype": "text/x-python",
   "name": "python",
   "nbconvert_exporter": "python",
   "pygments_lexer": "ipython3",
   "version": "3.7.2"
  }
 },
 "nbformat": 4,
 "nbformat_minor": 2
}
