{
 "cells": [
  {
   "cell_type": "markdown",
   "id": "dc60395c",
   "metadata": {},
   "source": [
    "# Script for unziping compressed sub files"
   ]
  },
  {
   "cell_type": "code",
   "execution_count": 1,
   "id": "0f7c6935",
   "metadata": {},
   "outputs": [],
   "source": [
    "import os, sys, re\n",
    "import zipfile as zf"
   ]
  },
  {
   "cell_type": "code",
   "execution_count": 6,
   "id": "8fe66379",
   "metadata": {},
   "outputs": [
    {
     "name": "stdout",
     "output_type": "stream",
     "text": [
      "Path: /home/tonu/Downloads exists.\n",
      "Ikiru (1952) [BluRay] [1080p] [YTS.AM]\n",
      "Everything Is Illuminated (2005) 720p WebRip X264 [MoviesFD]\n",
      "installs\n",
      "The Omega Man (1971) [BluRay] [720p] [YTS.AM]\n",
      "The.Polar.Express.2004.1080p.BluRay.x265-RARBG\n",
      "Harry Potter and the Half Blood Prince (2009) [1080p]\n",
      "The Impossible (2012) 720p_BRrip_scOrp_sujaidr\n",
      "Breathe (2014) [1080p] [BluRay] [5.1] [YTS.MX]\n",
      "The Finest Hours (2016) [1080p] [YTS.AG]\n",
      "Nights Of Cabiria (1957) [1080p] [BluRay] [YTS.MX]\n",
      "Deliverance (1972) [1080p]\n",
      "The Grey (2011) [1080p]\n",
      "Long Day's Journey Into Night (2018) [1080p] [BluRay] [5.1] [YTS.MX]\n",
      "The Edge (1997) 1080p BluRay 5.1Ch x265 HEVC SUJAIDR\n",
      "Kon-Tiki (2012) [BluRay] [1080p] [YTS.LT]\n",
      "All Is Lost (2013) [1080p]\n",
      "Ten.Little.Indians.1974.720p.BluRay.x264-SADPANDA\n",
      "The Big Lebowski (1998) (1080p BluRay x265 HEVC 10bit HDR AAC 7.1 afm72)\n",
      "Rabbit-Proof.Fence.2002.720p.WEB-DL.H264-fiend [PublicHD]\n",
      "the boat that rocked 2009\n",
      "Red River (1948) Criterion (1080p BluRay x265 HEVC 10bit AAC 1.0 Tigole)\n",
      "Contact (1997) [1080p]\n",
      "Movies Hard Drive\n",
      "The Wind Will Carry Us (1999) [BluRay] [1080p] [YTS.LT]\n"
     ]
    }
   ],
   "source": [
    "def unzip_rename(f_path=os.getcwd()):\n",
    "    \"\"\"Move subs zip files to correct folders, unpack & rename.\"\"\"\n",
    "    \n",
    "    # if such a file/folder exists\n",
    "    if os.path.exists(f_path) == True:\n",
    "        print('Path: ' + f_path + ' exists.')\n",
    "    else:\n",
    "        print('There is no such directory: ' + path)\n",
    "        return 0\n",
    "    \n",
    "    # store all files in the directory\n",
    "    files = os.listdir(f_path)\n",
    "    \n",
    "    start_pattern = re.compile(r'^19\\d{2}\\s\\-\\-\\s|^20\\d{2}\\s\\-\\-\\s')\n",
    "    name_pattern = re.compile(r\"^(?=.*\\d{4})[A-Za-z\\s\\.'-]+[^\\(\\.\\s\\-]\\b\")\n",
    "    for file in files: \n",
    "        print('\\t' + file)\n",
    "        \n",
    "        # skip file if it is already renamed\n",
    "        if start_pattern.match(file):\n",
    "            continue\n",
    "        else:\n",
    "            # extracts the year from the file name \n",
    "            year = re.findall(pattern, file)\n",
    "\n",
    "            # renames the file\n",
    "            os.rename(file, year[0] + ' -- ' + file)\n",
    "            \n",
    "            \n",
    "    for f in os.listdir(f_path):\n",
    "        print(f)\n",
    "    \n",
    "unzip_rename('/home/tonu/Downloads')"
   ]
  },
  {
   "cell_type": "code",
   "execution_count": 2,
   "id": "c792ce00",
   "metadata": {},
   "outputs": [
    {
     "data": {
      "text/plain": [
       "'/home/tonu/Documents/data_science/jupyter_anaconda/scripts'"
      ]
     },
     "execution_count": 2,
     "metadata": {},
     "output_type": "execute_result"
    }
   ],
   "source": [
    "os.getcwd()"
   ]
  },
  {
   "cell_type": "code",
   "execution_count": null,
   "id": "1595a936",
   "metadata": {},
   "outputs": [],
   "source": []
  }
 ],
 "metadata": {
  "kernelspec": {
   "display_name": "Python 3 (ipykernel)",
   "language": "python",
   "name": "python3"
  },
  "language_info": {
   "codemirror_mode": {
    "name": "ipython",
    "version": 3
   },
   "file_extension": ".py",
   "mimetype": "text/x-python",
   "name": "python",
   "nbconvert_exporter": "python",
   "pygments_lexer": "ipython3",
   "version": "3.7.9"
  },
  "latex_envs": {
   "LaTeX_envs_menu_present": true,
   "autoclose": false,
   "autocomplete": true,
   "bibliofile": "biblio.bib",
   "cite_by": "apalike",
   "current_citInitial": 1,
   "eqLabelWithNumbers": true,
   "eqNumInitial": 1,
   "hotkeys": {
    "equation": "Ctrl-E",
    "itemize": "Ctrl-I"
   },
   "labels_anchors": false,
   "latex_user_defs": false,
   "report_style_numbering": false,
   "user_envs_cfg": false
  },
  "toc": {
   "base_numbering": 1,
   "nav_menu": {},
   "number_sections": true,
   "sideBar": true,
   "skip_h1_title": false,
   "title_cell": "Table of Contents",
   "title_sidebar": "Contents",
   "toc_cell": false,
   "toc_position": {},
   "toc_section_display": true,
   "toc_window_display": false
  },
  "varInspector": {
   "cols": {
    "lenName": 16,
    "lenType": 16,
    "lenVar": 40
   },
   "kernels_config": {
    "python": {
     "delete_cmd_postfix": "",
     "delete_cmd_prefix": "del ",
     "library": "var_list.py",
     "varRefreshCmd": "print(var_dic_list())"
    },
    "r": {
     "delete_cmd_postfix": ") ",
     "delete_cmd_prefix": "rm(",
     "library": "var_list.r",
     "varRefreshCmd": "cat(var_dic_list()) "
    }
   },
   "types_to_exclude": [
    "module",
    "function",
    "builtin_function_or_method",
    "instance",
    "_Feature"
   ],
   "window_display": false
  }
 },
 "nbformat": 4,
 "nbformat_minor": 5
}
