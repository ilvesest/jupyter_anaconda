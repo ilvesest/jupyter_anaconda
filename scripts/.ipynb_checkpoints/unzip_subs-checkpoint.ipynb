{
 "cells": [
  {
   "cell_type": "markdown",
   "id": "dc60395c",
   "metadata": {},
   "source": [
    "# Script for unziping compressed sub files"
   ]
  },
  {
   "cell_type": "code",
   "execution_count": 2,
   "id": "0f7c6935",
   "metadata": {},
   "outputs": [],
   "source": [
    "import os, sys, re\n",
    "import zipfile as zf"
   ]
  },
  {
   "cell_type": "code",
   "execution_count": 62,
   "id": "8fe66379",
   "metadata": {
    "code_folding": []
   },
   "outputs": [
    {
     "name": "stdout",
     "output_type": "stream",
     "text": [
      "Path: /home/tonu/Downloads exists.\n",
      "rabbit-proof-fence-2002-english-yify-113288.zip\n",
      "rabbit-proof-fence-2002-english-yify-113288\n",
      "kon-tiki-2012-english-yify-83317.zip\n",
      "kon-tiki-2012-english-yify-83317\n"
     ]
    }
   ],
   "source": [
    "def unzip_rename(f_path=os.getcwd()):\n",
    "    \"\"\"Move subs zip files to correct folders, \n",
    "    unpack & rename to video filename.\"\"\"\n",
    "    \n",
    "    # if such a file/folder exists\n",
    "    if os.path.exists(f_path) == True:\n",
    "        print('Path: ' + f_path + ' exists.')\n",
    "    else:\n",
    "        print('There is no such directory: ' + path)\n",
    "        return 0\n",
    "    \n",
    "    # store all files in the directory specified dir\n",
    "    files = os.listdir(f_path)\n",
    "    \n",
    "    # regex patterns\n",
    "    start_p = re.compile(r'^19\\d{2}--|^20\\d{2}--')\n",
    "    year_p = re.compile(r\"19\\d{2}|20\\d{2}\")\n",
    "    name_p = re.compile(r\"^(?=.*\\d{4})(?!.*\\.zip)[A-Za-z\\s\\.'-]+[^\\(\\.\\s\\-]\\b\", re.I)\n",
    "    sep_p = re.compile(r\"\\s|\\.|\\_|\\-\")\n",
    "    \n",
    "    # rename movie folders if not already\n",
    "    for file in files: \n",
    "        \n",
    "        # skip file if it is already renamed\n",
    "        if name_p.match(file) is not None:\n",
    "            \n",
    "            # extracts the year & name from the file\n",
    "            year = re.search(year_p, file)\n",
    "            name_raw = re.match(name_p, file)\n",
    "            name = re.sub(sep_p, ' ', name_raw[0].lower())\n",
    "            \n",
    "            if os.path.exists(f\"{f_path}/{file}\") == True:\n",
    "                os.rename(f\"{f_path}/{file}\", f\"{f_path}/{year[0]}--{name}\")\n",
    "        \n",
    "    \"\"\"\"\"\"\n",
    "    # regex patterns\n",
    "    mfile_p = re.compile(r\"^(?=.*\\.mp4$|.*\\.avi$|.*\\.mkv$).*\")\n",
    "    zip_p = re.compile(r\"^.*\\.zip\")\n",
    "    zip_name_p = re.compile(r\"^(?=.*\\.zip)[A-Za-z\\s\\.'-]+[^\\(\\.\\s\\-]\\b\")\n",
    "    \n",
    "    # rename movie files in folders\n",
    "        \n",
    "    \n",
    "    # move zip file to corresponding folder\n",
    "    for file in os.listdir(f_path):\n",
    "        \n",
    "        if zip_p.match(file):\n",
    "            \n",
    "            print(file)\n",
    "            # extract movie name\n",
    "            year = re.search(year_p, file)\n",
    "            name_raw = re.match(zip_name_p, file)\n",
    "            name = re.sub(sep_p, ' ', name_raw[0].lower())\n",
    "            \n",
    "            movie_dir = f\"{year[0]}--{name}\"\n",
    "            \n",
    "            # cut zip file to movie folder if not already\n",
    "            if not os.path.exists(f\"{f_path}/{movie_dir}/{file}\"):\n",
    "                os.rename(f\"{f_path}/{file}\", f\"{f_path}/{movie_dir}/{file}\")\n",
    "                \n",
    "                # unzip file\n",
    "                with zf.ZipFile(f\"{f_path}/{movie_dir}/{file}\", 'r') as zip_ref:\n",
    "                    zip_ref.extractall(f\"{f_path}/{movie_dir}\")\n",
    "                \n",
    "            else:\n",
    "                os.remove(f\"{f_path}/{file}\")\n",
    "\n",
    "unzip_rename('/home/tonu/Downloads')"
   ]
  },
  {
   "cell_type": "code",
   "execution_count": 68,
   "id": "c792ce00",
   "metadata": {},
   "outputs": [
    {
     "name": "stdout",
     "output_type": "stream",
     "text": [
      "2016--the finest hours\n",
      "<class 'str'>\n",
      "2005--everything is illuminated\n",
      "<class 'str'>\n",
      "1998--the big lebowski\n",
      "<class 'str'>\n",
      "1997--the edge\n",
      "<class 'str'>\n",
      "installs\n",
      "1997--contact\n",
      "<class 'str'>\n",
      "2009--the boat that rocked\n",
      "<class 'str'>\n",
      "2009--harry potter and the half blood prince\n",
      "<class 'str'>\n",
      "kon-tiki-2012-english-yify-83317.zip\n",
      "1957--nights of cabiria\n",
      "<class 'str'>\n",
      "2004--the polar express\n",
      "<class 'str'>\n",
      "2012--the impossible\n",
      "<class 'str'>\n",
      "1999--the wind will carry us\n",
      "<class 'str'>\n",
      "1971--the omega man\n",
      "<class 'str'>\n",
      "2018--long day's journey into night\n",
      "<class 'str'>\n",
      "1948--red river\n",
      "<class 'str'>\n",
      "1974--ten little indians\n",
      "<class 'str'>\n",
      "2014--breathe\n",
      "<class 'str'>\n",
      "2011--the grey\n",
      "<class 'str'>\n",
      "1972--deliverance\n",
      "<class 'str'>\n",
      "2012--kon tiki\n",
      "<class 'str'>\n",
      "Movies Hard Drive\n",
      "2002--rabbit proof fence\n",
      "<class 'str'>\n",
      "1952--ikiru\n",
      "<class 'str'>\n"
     ]
    }
   ],
   "source": [
    "pat = re.compile(r'^19\\d{2}--|^20\\d{2}--')\n",
    "for f in os.listdir('/home/tonu/Downloads'):\n",
    "    print(f)\n",
    "    if pat.match(f) is not None:\n",
    "        print(type(f))"
   ]
  },
  {
   "cell_type": "code",
   "execution_count": null,
   "id": "1595a936",
   "metadata": {},
   "outputs": [],
   "source": []
  }
 ],
 "metadata": {
  "kernelspec": {
   "display_name": "Python 3 (ipykernel)",
   "language": "python",
   "name": "python3"
  },
  "language_info": {
   "codemirror_mode": {
    "name": "ipython",
    "version": 3
   },
   "file_extension": ".py",
   "mimetype": "text/x-python",
   "name": "python",
   "nbconvert_exporter": "python",
   "pygments_lexer": "ipython3",
   "version": "3.7.9"
  },
  "latex_envs": {
   "LaTeX_envs_menu_present": true,
   "autoclose": false,
   "autocomplete": true,
   "bibliofile": "biblio.bib",
   "cite_by": "apalike",
   "current_citInitial": 1,
   "eqLabelWithNumbers": true,
   "eqNumInitial": 1,
   "hotkeys": {
    "equation": "Ctrl-E",
    "itemize": "Ctrl-I"
   },
   "labels_anchors": false,
   "latex_user_defs": false,
   "report_style_numbering": false,
   "user_envs_cfg": false
  },
  "toc": {
   "base_numbering": 1,
   "nav_menu": {},
   "number_sections": true,
   "sideBar": true,
   "skip_h1_title": false,
   "title_cell": "Table of Contents",
   "title_sidebar": "Contents",
   "toc_cell": false,
   "toc_position": {},
   "toc_section_display": true,
   "toc_window_display": false
  },
  "varInspector": {
   "cols": {
    "lenName": 16,
    "lenType": 16,
    "lenVar": 40
   },
   "kernels_config": {
    "python": {
     "delete_cmd_postfix": "",
     "delete_cmd_prefix": "del ",
     "library": "var_list.py",
     "varRefreshCmd": "print(var_dic_list())"
    },
    "r": {
     "delete_cmd_postfix": ") ",
     "delete_cmd_prefix": "rm(",
     "library": "var_list.r",
     "varRefreshCmd": "cat(var_dic_list()) "
    }
   },
   "types_to_exclude": [
    "module",
    "function",
    "builtin_function_or_method",
    "instance",
    "_Feature"
   ],
   "window_display": false
  }
 },
 "nbformat": 4,
 "nbformat_minor": 5
}
