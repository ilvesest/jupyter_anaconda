{
 "cells": [
  {
   "cell_type": "markdown",
   "metadata": {},
   "source": [
    "# Date or Time related notes"
   ]
  },
  {
   "cell_type": "markdown",
   "metadata": {},
   "source": [
    "### Converting datetime from UTC/GMT to 'X' timezone"
   ]
  },
  {
   "cell_type": "code",
   "execution_count": 3,
   "metadata": {},
   "outputs": [
    {
     "name": "stdout",
     "output_type": "stream",
     "text": [
      "2019-02-07 00:00:00\n",
      "2019-02-07 00:00:00+00:00 UTC\n",
      "2019-02-07 02:00:00+02:00 Europe/Tallinn\n"
     ]
    }
   ],
   "source": [
    "from datetime import datetime\n",
    "import pytz\n",
    "\n",
    "# create timezone object for Estonia and UTC\n",
    "est_tz = pytz.timezone('Europe/Tallinn')\n",
    "utc_tz = pytz.timezone('UTC')\n",
    "\n",
    "# convert date to python naive datetime object\n",
    "old_date = datetime.strptime('2019-02-07 12:00AM', '%Y-%m-%d %I:%M%p')\n",
    "print(cad_time)\n",
    "\n",
    "# convert naive datetime to UTC Coordinated Universal Time\n",
    "utc_date = pytz.utc.localize(cad_time, is_dst=None)\n",
    "print(cad_utc_time, utc_tz)\n",
    "\n",
    "# convert from utz to estonian tz\n",
    "est_time = cad_utc_time.astimezone(est_tz)\n",
    "print(est_time, est_tz)\n"
   ]
  },
  {
   "cell_type": "markdown",
   "metadata": {},
   "source": [
    "### Python program to display the current date and time."
   ]
  },
  {
   "cell_type": "code",
   "execution_count": 4,
   "metadata": {},
   "outputs": [
    {
     "name": "stdout",
     "output_type": "stream",
     "text": [
      "Current date and time:\n",
      "Mon Feb  4 14:48:17 2019\n"
     ]
    }
   ],
   "source": [
    "import time\n",
    "print('Current date and time:')\n",
    "print(time.asctime())"
   ]
  },
  {
   "cell_type": "code",
   "execution_count": 13,
   "metadata": {},
   "outputs": [
    {
     "name": "stdout",
     "output_type": "stream",
     "text": [
      "Current date and time : \n",
      "2019-02-05 12:24:58\n"
     ]
    }
   ],
   "source": [
    "import datetime\n",
    "\n",
    "now = datetime.datetime.now()\n",
    "print('Current date and time : ')\n",
    "print(now.strftime(\"%Y-%m-%d %H:%M:%S\"))"
   ]
  },
  {
   "cell_type": "markdown",
   "metadata": {},
   "source": [
    "### Python program to get the system time."
   ]
  },
  {
   "cell_type": "code",
   "execution_count": 11,
   "metadata": {},
   "outputs": [
    {
     "data": {
      "text/plain": [
       "'Mon Feb  4 14:56:50 2019'"
      ]
     },
     "execution_count": 11,
     "metadata": {},
     "output_type": "execute_result"
    }
   ],
   "source": [
    "import time\n",
    "\n",
    "time.ctime()"
   ]
  },
  {
   "cell_type": "markdown",
   "metadata": {},
   "source": [
    "### Python program to calculate number of days between two dates."
   ]
  },
  {
   "cell_type": "code",
   "execution_count": 6,
   "metadata": {},
   "outputs": [
    {
     "name": "stdout",
     "output_type": "stream",
     "text": [
      "9\n"
     ]
    }
   ],
   "source": [
    "import datetime\n",
    "\n",
    "t1 = datetime.date(2014, 7, 11)\n",
    "t2 = datetime.date(2014, 7, 2)\n",
    "delta = t1 - t2\n",
    "print(delta.days)"
   ]
  },
  {
   "cell_type": "markdown",
   "metadata": {},
   "source": [
    "### Python program to sort files by date."
   ]
  },
  {
   "cell_type": "code",
   "execution_count": 8,
   "metadata": {},
   "outputs": [
    {
     "name": "stdout",
     "output_type": "stream",
     "text": [
      "Last modified: Sat Jan 12 22:18:40 2019\n",
      "Created: Fri Jan 18 14:18:49 2019\n"
     ]
    }
   ],
   "source": [
    "import os.path, time\n",
    "\n",
    "print(\"Last modified: %s\" % time.ctime(os.path.getmtime(\"python_core/class_object.ipynb\")))\n",
    "print(\"Created: %s\" % time.ctime(os.path.getctime(\"python_core/class_object.ipynb\")))"
   ]
  },
  {
   "cell_type": "code",
   "execution_count": 10,
   "metadata": {},
   "outputs": [
    {
     "name": "stdout",
     "output_type": "stream",
     "text": [
      "python_core/generators.ipynb\n",
      "python_core/subclass_assert.ipynb\n",
      "python_core/context_managers.ipynb\n",
      "python_core/class_object.ipynb\n",
      "python_core/decorators.ipynb\n"
     ]
    }
   ],
   "source": [
    "import glob\n",
    "import os\n",
    "\n",
    "# Return a possibly-empty list of path names that match pathname, \n",
    "# which must be a string containing a path specification.\n",
    "files = glob.glob(\"python_core/*.ipynb\")\n",
    "\n",
    "# sorting the list of files by their modification time\n",
    "files.sort(key=os.path.getmtime)\n",
    "\n",
    "print(\"\\n\".join(files))"
   ]
  },
  {
   "cell_type": "code",
   "execution_count": 1,
   "metadata": {},
   "outputs": [
    {
     "data": {
      "text/plain": [
       "['__builtins__',\n",
       " '__cached__',\n",
       " '__doc__',\n",
       " '__file__',\n",
       " '__loader__',\n",
       " '__name__',\n",
       " '__package__',\n",
       " '__spec__',\n",
       " 'convert_tz',\n",
       " 'datetime',\n",
       " 'math',\n",
       " 'pd',\n",
       " 'pytz',\n",
       " 're',\n",
       " 'sleep',\n",
       " 'time',\n",
       " 'timer']"
      ]
     },
     "execution_count": 1,
     "metadata": {},
     "output_type": "execute_result"
    }
   ],
   "source": [
    "import funcs\n",
    "\n",
    "dir(funcs)"
   ]
  },
  {
   "cell_type": "code",
   "execution_count": 3,
   "metadata": {},
   "outputs": [
    {
     "name": "stdout",
     "output_type": "stream",
     "text": [
      "Directive                        Meaning                 Example\n",
      "      %a                        Weekday                Sun, Mon\n",
      "      %A                        Weekday          Sunday, Monday\n",
      "      %w          Weekday, 0 is Sunday.             0, 1, ... 6\n",
      "      %d               Day of the month        01, 02, ... , 31\n",
      "      %b                          Month      Jan, Feb, ..., Dec\n",
      "      %B                          Month       January, February\n",
      "      %m                          Month           01, 02, …, 12\n",
      "      %y                           Year           00, 01, …, 99\n",
      "      %Y                           Year     0001, 2019, …, 9999\n",
      "      %H           Hour (24-hour clock)           00, 01, …, 23\n",
      "      %I           Hour (12-hour clock)           01, 02, …, 12\n",
      "      %p                       AM or PM                  AM, PM\n",
      "      %M                         Minute           00, 01, …, 59\n",
      "      %S                         Second           00, 01, …, 59\n",
      "      %f                    Microsecond       000000, …, 999999\n",
      "      %z  UTC offset ±HHMM[SS[.ffffff]]          -030712.345216\n",
      "      %Z                 Time zone name  (empty), UTC, EST, CST\n",
      "      %j                Day of the year             001, …, 366\n",
      "      %U     Week number, Sun first day           00, 01, …, 53\n",
      "      %W     Week number, Mon first day           00, 01, …, 53\n",
      "\n",
      "Date:2019 Feb 15 12:00PM\n",
      "\n",
      "Datetime format: %Y %b %d %H:%M%p\n",
      "\n",
      "Formatting successful!\n",
      "\n",
      "From timezone?\n",
      "\n",
      "Enter exact timezone, just region or city: MT\n",
      "\n",
      "Choose one timezone from the list:\n",
      "\n",
      "Etc/GMT\n",
      "Etc/GMT+0\n",
      "Etc/GMT+1\n",
      "Etc/GMT+10\n",
      "Etc/GMT+11\n",
      "Etc/GMT+12\n",
      "Etc/GMT+2\n",
      "Etc/GMT+3\n",
      "Etc/GMT+4\n",
      "Etc/GMT+5\n",
      "Etc/GMT+6\n",
      "Etc/GMT+7\n",
      "Etc/GMT+8\n",
      "Etc/GMT+9\n",
      "Etc/GMT-0\n",
      "Etc/GMT-1\n",
      "Etc/GMT-10\n",
      "Etc/GMT-11\n",
      "Etc/GMT-12\n",
      "Etc/GMT-13\n",
      "Etc/GMT-14\n",
      "Etc/GMT-2\n",
      "Etc/GMT-3\n",
      "Etc/GMT-4\n",
      "Etc/GMT-5\n",
      "Etc/GMT-6\n",
      "Etc/GMT-7\n",
      "Etc/GMT-8\n",
      "Etc/GMT-9\n",
      "Etc/GMT0\n",
      "GMT\n",
      "GMT+0\n",
      "GMT-0\n",
      "GMT0\n",
      "\n",
      "Enter exact timezone, just region or city: Mountain\n",
      "\n",
      "Choose one timezone from the list:\n",
      "\n",
      "Canada/Mountain\n",
      "US/Mountain\n",
      "\n",
      "Enter exact timezone, just region or city: Canada/Mountain\n",
      "\n",
      "From timezone: Canada/Mountain\n",
      "\n",
      "To timezone?\n",
      "\n",
      "Enter exact timezone, just region or city: Tallinn\n",
      "\n",
      "To timezone: Europe/Tallinn\n",
      "\n",
      "\n",
      "Converted:\n",
      "\n",
      "2019-02-15 12:00:00 Canada/Mountain\n",
      "2019-02-15 21:00:00+02:00 Europe/Tallinn\n"
     ]
    },
    {
     "data": {
      "text/plain": [
       "datetime.datetime(2019, 2, 15, 21, 0, tzinfo=<DstTzInfo 'Europe/Tallinn' EET+2:00:00 STD>)"
      ]
     },
     "execution_count": 3,
     "metadata": {},
     "output_type": "execute_result"
    }
   ],
   "source": [
    "funcs.convert_tz('2019 Feb 15 12:00PM')"
   ]
  },
  {
   "cell_type": "code",
   "execution_count": null,
   "metadata": {},
   "outputs": [],
   "source": []
  }
 ],
 "metadata": {
  "kernelspec": {
   "display_name": "Python 3",
   "language": "python",
   "name": "python3"
  },
  "language_info": {
   "codemirror_mode": {
    "name": "ipython",
    "version": 3
   },
   "file_extension": ".py",
   "mimetype": "text/x-python",
   "name": "python",
   "nbconvert_exporter": "python",
   "pygments_lexer": "ipython3",
   "version": "3.7.3"
  },
  "latex_envs": {
   "LaTeX_envs_menu_present": true,
   "autoclose": true,
   "autocomplete": true,
   "bibliofile": "biblio.bib",
   "cite_by": "apalike",
   "current_citInitial": 1,
   "eqLabelWithNumbers": true,
   "eqNumInitial": 1,
   "hotkeys": {
    "equation": "Ctrl-E",
    "itemize": "Ctrl-I"
   },
   "labels_anchors": false,
   "latex_user_defs": false,
   "report_style_numbering": false,
   "user_envs_cfg": false
  },
  "toc": {
   "base_numbering": 1,
   "nav_menu": {},
   "number_sections": true,
   "sideBar": true,
   "skip_h1_title": false,
   "title_cell": "Table of Contents",
   "title_sidebar": "Contents",
   "toc_cell": false,
   "toc_position": {},
   "toc_section_display": true,
   "toc_window_display": false
  }
 },
 "nbformat": 4,
 "nbformat_minor": 2
}
