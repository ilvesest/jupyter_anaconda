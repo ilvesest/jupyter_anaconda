{
 "cells": [
  {
   "cell_type": "markdown",
   "id": "1754df3e",
   "metadata": {},
   "source": [
    "<center><font size=\"16\">Regex API</font></center>"
   ]
  },
  {
   "cell_type": "code",
   "execution_count": 1,
   "id": "a6984cd1",
   "metadata": {},
   "outputs": [],
   "source": [
    "import re"
   ]
  },
  {
   "cell_type": "markdown",
   "id": "d974fa82",
   "metadata": {},
   "source": [
    "# Assertions"
   ]
  },
  {
   "cell_type": "markdown",
   "id": "3180a90c",
   "metadata": {},
   "source": [
    "## Positive Lookahead"
   ]
  },
  {
   "cell_type": "code",
   "execution_count": 31,
   "id": "f68b92ec",
   "metadata": {},
   "outputs": [
    {
     "data": {
      "text/plain": [
       "['Ikiru (1952) [BluRay] [1080p] [YTS.AM]\\n',\n",
       " 'Everything Is Illuminated (2005) 720p WebRip X264 [MoviesFD]\\n',\n",
       " 'installs\\n',\n",
       " 'The Omega Man (1971) [BluRay] [720p] [YTS.AM]\\n',\n",
       " 'The.Polar.Express.2004.1080p.BluRay.x265-RARBG\\n']"
      ]
     },
     "execution_count": 31,
     "metadata": {},
     "output_type": "execute_result"
    }
   ],
   "source": [
    "# read in data\n",
    "lines = []\n",
    "with open('data/re_movies_list.txt', 'r')  as f: lines = f.readlines()    \n",
    "lines[:5]"
   ]
  },
  {
   "cell_type": "markdown",
   "id": "3094d116",
   "metadata": {},
   "source": [
    "Match **name** of the movie only if **year <code>(?=.*\\d{4})</code>** (lookahead) is contained somewhere in the name."
   ]
  },
  {
   "cell_type": "code",
   "execution_count": 28,
   "id": "ae804609",
   "metadata": {},
   "outputs": [
    {
     "name": "stdout",
     "output_type": "stream",
     "text": [
      "Ikiru\n",
      "Everything Is Illuminated\n",
      "The Omega Man\n",
      "The.Polar.Express\n"
     ]
    }
   ],
   "source": [
    "pattern = r\"^(?=.*\\d{4})[A-Za-z\\s\\.'-]+[^\\(\\.\\s\\-]\\b\"\n",
    "for movie in lines[:5]:\n",
    "    result = re.findall(pattern, movie)\n",
    "    if len(result) != 0: print(result[0])"
   ]
  },
  {
   "cell_type": "code",
   "execution_count": null,
   "id": "6a1514d2",
   "metadata": {},
   "outputs": [],
   "source": []
  }
 ],
 "metadata": {
  "kernelspec": {
   "display_name": "Python 3 (ipykernel)",
   "language": "python",
   "name": "python3"
  },
  "language_info": {
   "codemirror_mode": {
    "name": "ipython",
    "version": 3
   },
   "file_extension": ".py",
   "mimetype": "text/x-python",
   "name": "python",
   "nbconvert_exporter": "python",
   "pygments_lexer": "ipython3",
   "version": "3.7.9"
  },
  "latex_envs": {
   "LaTeX_envs_menu_present": true,
   "autoclose": false,
   "autocomplete": true,
   "bibliofile": "biblio.bib",
   "cite_by": "apalike",
   "current_citInitial": 1,
   "eqLabelWithNumbers": true,
   "eqNumInitial": 1,
   "hotkeys": {
    "equation": "Ctrl-E",
    "itemize": "Ctrl-I"
   },
   "labels_anchors": false,
   "latex_user_defs": false,
   "report_style_numbering": false,
   "user_envs_cfg": false
  },
  "toc": {
   "base_numbering": 1,
   "nav_menu": {},
   "number_sections": true,
   "sideBar": true,
   "skip_h1_title": false,
   "title_cell": "Table of Contents",
   "title_sidebar": "Contents",
   "toc_cell": false,
   "toc_position": {},
   "toc_section_display": true,
   "toc_window_display": false
  },
  "varInspector": {
   "cols": {
    "lenName": 16,
    "lenType": 16,
    "lenVar": 40
   },
   "kernels_config": {
    "python": {
     "delete_cmd_postfix": "",
     "delete_cmd_prefix": "del ",
     "library": "var_list.py",
     "varRefreshCmd": "print(var_dic_list())"
    },
    "r": {
     "delete_cmd_postfix": ") ",
     "delete_cmd_prefix": "rm(",
     "library": "var_list.r",
     "varRefreshCmd": "cat(var_dic_list()) "
    }
   },
   "types_to_exclude": [
    "module",
    "function",
    "builtin_function_or_method",
    "instance",
    "_Feature"
   ],
   "window_display": false
  }
 },
 "nbformat": 4,
 "nbformat_minor": 5
}
