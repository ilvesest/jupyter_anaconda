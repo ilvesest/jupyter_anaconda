{
 "cells": [
  {
   "cell_type": "markdown",
   "id": "8b8ee42a",
   "metadata": {},
   "source": [
    "<center><font size=\"20\">Flask Basics</font></center>"
   ]
  },
  {
   "cell_type": "markdown",
   "id": "9180fcc9",
   "metadata": {},
   "source": [
    "# Imports"
   ]
  },
  {
   "cell_type": "code",
   "execution_count": 1,
   "id": "93e62e11",
   "metadata": {},
   "outputs": [],
   "source": [
    "from flask import Flask\n",
    "\n",
    "app = Flask(__name__)"
   ]
  },
  {
   "cell_type": "markdown",
   "id": "8e79b514",
   "metadata": {},
   "source": [
    "# Definitons"
   ]
  },
  {
   "cell_type": "markdown",
   "id": "10d58271",
   "metadata": {},
   "source": [
    "* <code>\\__name__</code>: Refers to the current local file. If executed its equal to <code>\"__main__\"</code>, if imported equals to the **file name**.<br></br>\n",
    "\n",
    "* <code>@app.route(\"/\")</code>: function decorator that is called *routes* or *wheels*. Which URL the code is navigationg through and display some HTML code. Argument inside <code>@app.route(\"/\")</code> refers to webpage one is working on. <code>\"/\"</code> refs to the home page or root URLof the website.<br></br>\n",
    "\n"
   ]
  },
  {
   "cell_type": "markdown",
   "id": "7a3129bb",
   "metadata": {},
   "source": [
    "# Flask\n",
    "## Routes\n",
    "* Routes are webpages. \n",
    "* Each route corresponds to a separate webpage. \n",
    "* It has to have a reference to the app (via <code>@app.route(''))</code> decorator. and have designated extension to the <code>root</code> URL or just forwardslash <code>'/'</code> for the root/ home page of the website. \n",
    "* Each route can have multiple extensions:\n",
    "<code>\n",
    "    @app.route(\"/\")\n",
    "    @app.route(\"/home\")\n",
    "    def home_page():\n",
    "        return render_template('home.html')\n",
    "</code>"
   ]
  },
  {
   "cell_type": "code",
   "execution_count": 2,
   "id": "5d16bcf1",
   "metadata": {},
   "outputs": [],
   "source": [
    "@app.route(\"/\") # referes to the home page of the webpage\n",
    "def hello_world() -> str:\n",
    "    return \"<h1>Hello, World!</h1>\"\n",
    "\n",
    "@app.route(\"/about\") # referes to the about page \n",
    "def about_page() -> str:\n",
    "    return \"<h1>About Page</h1>\""
   ]
  },
  {
   "cell_type": "markdown",
   "id": "1e55f9bf",
   "metadata": {},
   "source": [
    "##### Reference same route multiple ways\n",
    "Adding several route decorators we can reference the same page via different aliases or forward slash addresses. <code>\"/home\"</code> parameter will reference to the home page of the web app."
   ]
  },
  {
   "cell_type": "code",
   "execution_count": 3,
   "id": "ae1f7aa8",
   "metadata": {},
   "outputs": [],
   "source": [
    "@app.route(\"/\")\n",
    "@app.route(\"/home\")\n",
    "def home_page():\n",
    "    return render_template('home.html')"
   ]
  },
  {
   "cell_type": "markdown",
   "id": "01e3e213",
   "metadata": {},
   "source": [
    "### Dynamic Routes\n",
    "\n",
    "Creates generic wepages per argument"
   ]
  },
  {
   "cell_type": "code",
   "execution_count": 4,
   "id": "d0a77261",
   "metadata": {},
   "outputs": [],
   "source": [
    "@app.route(\"/about/<username>\")\n",
    "def about_page2(username: str) -> str:\n",
    "    return f\"<h1>This is the about page of {username}</h1>\""
   ]
  },
  {
   "cell_type": "markdown",
   "id": "e36bf0f3",
   "metadata": {},
   "source": [
    "## Database"
   ]
  },
  {
   "cell_type": "markdown",
   "id": "cea77e2c",
   "metadata": {},
   "source": [
    "### Create Database\n",
    "When using <code>sqlite</code> with **Unix** machines, four <code>////</code> are required as well as absoulte path to the project file."
   ]
  },
  {
   "cell_type": "markdown",
   "id": "1aec5b29",
   "metadata": {},
   "source": [
    "<code>app.config['SQLALCHEMY_DATABASE_URI'] = f'sqlite:///{Path.cwd()}/market.db'\n",
    "db = SQLAlchemy(app) # database\n",
    "</code>"
   ]
  },
  {
   "cell_type": "markdown",
   "id": "58bf9888",
   "metadata": {},
   "source": [
    "To create the database file (to include the specified table(s)) use terminal when <code>flask</code> is not running and make sure to be in the projects root director. Type in the terminal:\n",
    "\n",
    "<code>flask shell</code><br>\n",
    "<code>db.create_all()</code><br>\n",
    "\n",
    "To bypass the context RuntimeError. "
   ]
  },
  {
   "cell_type": "markdown",
   "id": "39deb005",
   "metadata": {},
   "source": [
    "### Add Data\n",
    "Need to use <code>flask shell</code> in the terminal.\n",
    "\n",
    "<code>\n",
    "    item1 = Item(name='IPhone 10', price=500, barcode='123456789011', description='desc')\n",
    "    db.session.add(item1)\n",
    "    db.session.commit()\n",
    "</code>\n",
    "\n",
    "To query the elements in the DB write the following:\n",
    "\n",
    "<code>\n",
    "    Item.query.all()\n",
    "</code>"
   ]
  },
  {
   "cell_type": "markdown",
   "id": "92b8bf3f",
   "metadata": {},
   "source": [
    "## Validations"
   ]
  },
  {
   "cell_type": "markdown",
   "id": "546ade28",
   "metadata": {},
   "source": [
    "### Init Validation Class\n",
    "* Create an object (class) to be validated.\n",
    "* Inherit from FlaskForm base class\n",
    "* Import neccessary classes for different types of data\n",
    "* Import library classes to validate differnet data types"
   ]
  },
  {
   "cell_type": "markdown",
   "id": "0bc87d11",
   "metadata": {},
   "source": [
    "Python file **\"forms.py\"** where the form to-be-filled by user is defined:\n",
    "* <code>FlaskForm</code> Base form to be inherited from.\n",
    "* <code>DataRequired</code>: Validates if corresponding data is entered, only whitespaces are considered empty.\n",
    "* <code>PasswordField</code> Makes sure the input is not visible on the screen.\n",
    "* <code>EqualTo</code> Makes sure that entry equals with referred field. For confirmation form fields usually."
   ]
  },
  {
   "cell_type": "code",
   "execution_count": 5,
   "id": "e4aef0ec",
   "metadata": {},
   "outputs": [],
   "source": [
    "# 3rd party imports\n",
    "from flask_wtf import FlaskForm\n",
    "from wtforms import StringField, PasswordField, SubmitField\n",
    "from wtforms.validators import Length, EqualTo, Email, DataRequired\n",
    "\n",
    "\n",
    "class RegisteredForm(FlaskForm):\n",
    "    \n",
    "    username = StringField(\n",
    "        label='User Name:', \n",
    "        validators=[Length(min=2, max=30), DataRequired()])\n",
    "    \n",
    "    email = StringField(\n",
    "        label='Email Address:',\n",
    "        validators=[Email(), DataRequired()])\n",
    "    \n",
    "    password1 = PasswordField(\n",
    "        label='Password:',\n",
    "        validators=[Length(min=6), DataRequired()])\n",
    "    \n",
    "    password2 = PasswordField(\n",
    "        label='Confirm Password:',\n",
    "        validators=[EqualTo('password1'), DataRequired()])\n",
    "    \n",
    "    submit = SubmitField(label='Create Account')"
   ]
  },
  {
   "cell_type": "markdown",
   "id": "ef5758d0",
   "metadata": {},
   "source": [
    "### Route Methods"
   ]
  },
  {
   "cell_type": "markdown",
   "id": "0a84acf9",
   "metadata": {},
   "source": [
    "To validate that some information is input correctly a **'POST'** HTTP method has to be used for a <code>route</code> so data from HTML can be fetched. Refer to different methods below: "
   ]
  },
  {
   "cell_type": "code",
   "execution_count": 8,
   "id": "966af51a",
   "metadata": {},
   "outputs": [
    {
     "name": "stdout",
     "output_type": "stream",
     "text": [
      "  Request                                                                                                       Purpose\n",
      "0     GET                                    The most common method. A GET message is send, and the server returns data\n",
      "1    POST  Used to send HTML form data to the server. The data received by the POST method is not cached by the server.\n",
      "2    HEAD                                                                     Same as GET method, but no response body.\n",
      "3     PUT                             Replace all current representations of the target resource with uploaded content.\n",
      "4  DELETE                                  Deletes all current representations of the target resource given by the URL.\n"
     ]
    }
   ],
   "source": [
    "import pandas as pd\n",
    "import requests\n",
    "\n",
    "url = requests.get('https://pythonbasics.org/flask-http-methods/')\n",
    "\n",
    "methods_df = pd.read_html(io=url.text)[0]\n",
    "\n",
    "print(methods_df.to_string())"
   ]
  },
  {
   "cell_type": "code",
   "execution_count": 11,
   "id": "e96d9e33",
   "metadata": {},
   "outputs": [],
   "source": [
    "@app.route('/register', methods=['GET', 'POST'])\n",
    "def register_page():\n",
    "    form = RegisteredForm()\n",
    "    return render_template('register.html', form=form)"
   ]
  },
  {
   "cell_type": "markdown",
   "id": "bd64a02a",
   "metadata": {},
   "source": [
    "### Submit & Redirect\n",
    "Line 15"
   ]
  },
  {
   "cell_type": "code",
   "execution_count": 12,
   "id": "8ed67fb4",
   "metadata": {},
   "outputs": [],
   "source": [
    "app.route('/register', methods=['GET', 'POST'])\n",
    "def register_page2():\n",
    "    form = RegisteredForm()\n",
    "    \n",
    "    # submit button validation and add created data to database\n",
    "    if form.validate_on_submit():\n",
    "        user_to_create = User(username=form.username.data,\n",
    "                              email=form.email.data,\n",
    "                              password_hash=form.password1.data)\n",
    "        # send data to database\n",
    "        db.session.add(user_to_create)\n",
    "        db.session.commit()\n",
    "        \n",
    "        # redirect person to new page\n",
    "        return redirect(url_for('market_page'))\n",
    "    \n",
    "    return render_template('register.html', form=form)"
   ]
  },
  {
   "cell_type": "markdown",
   "id": "6d28c20a",
   "metadata": {},
   "source": [
    "### Error Handling\n",
    "Line 19 - 22."
   ]
  },
  {
   "cell_type": "code",
   "execution_count": 2,
   "id": "42a28ec0",
   "metadata": {},
   "outputs": [],
   "source": [
    "# routes.py\n",
    "@app.route('/register', methods=['GET', 'POST'])\n",
    "def register_page3():\n",
    "    # inits the form class from \"forms.py\"\n",
    "    form = RegisteredForm()\n",
    "    \n",
    "    # submit button validation and add created data to database\n",
    "    if form.validate_on_submit():\n",
    "        user_to_create = User(username=form.username.data,\n",
    "                              email=form.email.data,\n",
    "                              password_hash=form.password1.data)\n",
    "        # send data to database\n",
    "        db.session.add(user_to_create)\n",
    "        db.session.commit()\n",
    "        \n",
    "        # redirect person to new page\n",
    "        return redirect(url_for('market_page'))\n",
    "    \n",
    "    # if errors occur they are sent to forms.errors\n",
    "    if form.errors != {}: # if errors dict is not empty\n",
    "        for err_msg in form.errors.values():\n",
    "            print(f'There was an error with creating a user: {err_msg}')\n",
    "    \n",
    "    \n",
    "    return render_template('register.html', form=form)"
   ]
  },
  {
   "cell_type": "markdown",
   "id": "efc1c48b",
   "metadata": {},
   "source": [
    "#### Flashed Error Messages\n",
    "* <code>flash()</code>: To capture errors to be flashed for the user in \"routes.py\" file."
   ]
  },
  {
   "cell_type": "code",
   "execution_count": 3,
   "id": "c7fffc92",
   "metadata": {},
   "outputs": [],
   "source": [
    "@app.route('/register', methods=['GET', 'POST'])\n",
    "def register_page4():\n",
    "    form = RegisteredForm()\n",
    "    # ...\n",
    "    \n",
    "    # if errors occur they are sent to forms.errors\n",
    "    if form.errors != {}: # if tehre are errors\n",
    "        for err_msg in form.errors.values():\n",
    "            flash(f'There was an error with creating a user: {err_msg}', category='danger')\n",
    "    \n",
    "    \n",
    "    return render_template('register.html', form=form)"
   ]
  },
  {
   "cell_type": "markdown",
   "id": "6810c5c3",
   "metadata": {},
   "source": [
    "* <code>get_flashed_messages()</code> To nicely output the messages for the user. Embed in the <code>*.html</code> file, usually the base file. <code>with_categories</code> an Optional Parameter tuple to mention the category(error/info/warning)."
   ]
  },
  {
   "cell_type": "code",
   "execution_count": null,
   "id": "dc8edc38",
   "metadata": {},
   "outputs": [],
   "source": [
    "%%html\n",
    "<body>\n",
    "      <nav class=\"navbar navbar-expand-md navbar-dark bg-dark\">\n",
    "      </nav>\n",
    "            <!-- Use context manager -->\n",
    "            {% with messages = get_flashed_messages(with_categories=true) %}\n",
    "                {% if messages %}\n",
    "                    {% for category, message in messages %}\n",
    "                        <div class=\"alert alert-{{ category }}\">\n",
    "                            <button type=\"button\" class=\"m1-2 mb-1 close\" data-dismiss=\"alert\" aria-label=\"Close\">\n",
    "                                <span aria-hidden=\"true\">&times;</span>\n",
    "                            </button>\n",
    "                            {{ message }}\n",
    "                        </div>\n",
    "                    {% endfor %}\n",
    "                {% endif %}\n",
    "            {% endwith %}\n",
    "</body>"
   ]
  },
  {
   "cell_type": "markdown",
   "id": "656a35fa",
   "metadata": {},
   "source": [
    "#### Existing Usernames\n",
    "To validate that there are no duplicate usernames, emails etc in the database we can add validation functions for such fields in the **forms.py** file. The way <code>FlaskForm</code> validates and outputs errors works as follows:\n",
    "* FlaskForm checks for prefix <code>validate_</code> and postfix <code>field_name</code> in the function name to know to raise an error if specified field (username) duplicate is enetered."
   ]
  },
  {
   "cell_type": "code",
   "execution_count": 8,
   "id": "2ed4dbf1",
   "metadata": {},
   "outputs": [],
   "source": [
    "# forms.py\n",
    "\n",
    "# 3rd party imports\n",
    "from flask_wtf import FlaskForm\n",
    "from wtforms import StringField, PasswordField, SubmitField\n",
    "from wtforms.validators import Length, EqualTo, Email, DataRequired, ValidationError\n",
    "\n",
    "\n",
    "class RegisteredForm(FlaskForm):\n",
    "    \n",
    "    # FlaskForm will validate the username via 'validate_' 'username' function name.\n",
    "    # flask validates if it sees prefix 'validate_' in function name and looks for \n",
    "    # field 'username' in the User database.\n",
    "    def validate_username(self, username_to_check: str):\n",
    "        user = User.query.filter_by(username=username_to_check.data).first()\n",
    "        if user:\n",
    "            raise ValidationError('Username already exists! Please try a different username.')\n",
    "    \n",
    "    def validate_email(self, email_to_check: str):\n",
    "        email = User.query.filter_by(email=email_to_check.data).first()\n",
    "        if email:\n",
    "            raise ValidationError('Email address already exists! Please try a different email address.')\n",
    "        \n",
    "    \n",
    "    username = StringField(\n",
    "        label='User Name:', \n",
    "        validators=[Length(min=2, max=30), DataRequired()])\n",
    "    \n",
    "    email = StringField(\n",
    "        label='Email Address:',\n",
    "        validators=[Email(), DataRequired()])\n"
   ]
  },
  {
   "cell_type": "markdown",
   "id": "5ace528e",
   "metadata": {},
   "source": [
    "## Autenthication"
   ]
  },
  {
   "cell_type": "markdown",
   "id": "8768748b",
   "metadata": {},
   "source": [
    "### Encrypt Password\n",
    "1. Create encryption class <code>Bcrypt(app)</code> instance from <code>flask_bcrypt</code> package in the <code>__init__.py</code> file."
   ]
  },
  {
   "cell_type": "code",
   "execution_count": 6,
   "id": "e006c2c8",
   "metadata": {
    "scrolled": true
   },
   "outputs": [
    {
     "ename": "ModuleNotFoundError",
     "evalue": "No module named 'flask_sqlalchemy'",
     "output_type": "error",
     "traceback": [
      "\u001b[0;31m---------------------------------------------------------------------------\u001b[0m",
      "\u001b[0;31mModuleNotFoundError\u001b[0m                       Traceback (most recent call last)",
      "Cell \u001b[0;32mIn[6], line 3\u001b[0m\n\u001b[1;32m      1\u001b[0m \u001b[38;5;66;03m# __init__.py\u001b[39;00m\n\u001b[1;32m      2\u001b[0m \u001b[38;5;28;01mfrom\u001b[39;00m \u001b[38;5;21;01mflask_bcrypt\u001b[39;00m \u001b[38;5;28;01mimport\u001b[39;00m Bcrypt\n\u001b[0;32m----> 3\u001b[0m \u001b[38;5;28;01mfrom\u001b[39;00m \u001b[38;5;21;01mflask_sqlalchemy\u001b[39;00m \u001b[38;5;28;01mimport\u001b[39;00m SQLAlchemy\n\u001b[1;32m      5\u001b[0m app \u001b[38;5;241m=\u001b[39m Flask(\u001b[38;5;18m__name__\u001b[39m)\n\u001b[1;32m      6\u001b[0m db \u001b[38;5;241m=\u001b[39m SQLAlchemy(app)\n",
      "\u001b[0;31mModuleNotFoundError\u001b[0m: No module named 'flask_sqlalchemy'"
     ]
    }
   ],
   "source": [
    "# __init__.py\n",
    "from flask_bcrypt import Bcrypt\n",
    "from flask_sqlalchemy import SQLAlchemy\n",
    "\n",
    "app = Flask(__name__)\n",
    "db = SQLAlchemy(app)\n",
    "\n",
    "# store passwords as hashes not plain text\n",
    "bcrypt = Bcrypt(app)"
   ]
  },
  {
   "cell_type": "markdown",
   "id": "1d2c4c09",
   "metadata": {},
   "source": [
    "2. In the <code>models.py</code> file or where database table is defined add a new (password) class <code>@property</code> by returning it to <code>self</code>.\n",
    "3. After that, overwrite defiend class attribute <code>password_hash</code> with the <code>@password.setter</code> decorator and encrypt the password using <code>bcrypt</code> instance, it's ash decoded to 'utf-8 format:  "
   ]
  },
  {
   "cell_type": "code",
   "execution_count": 4,
   "id": "c3d61598",
   "metadata": {
    "scrolled": true
   },
   "outputs": [
    {
     "ename": "NameError",
     "evalue": "name 'db' is not defined",
     "output_type": "error",
     "traceback": [
      "\u001b[0;31m---------------------------------------------------------------------------\u001b[0m",
      "\u001b[0;31mNameError\u001b[0m                                 Traceback (most recent call last)",
      "Cell \u001b[0;32mIn[4], line 1\u001b[0m\n\u001b[0;32m----> 1\u001b[0m \u001b[38;5;28;01mclass\u001b[39;00m \u001b[38;5;21;01mUser\u001b[39;00m(\u001b[43mdb\u001b[49m\u001b[38;5;241m.\u001b[39mModel):\n\u001b[1;32m      2\u001b[0m     \n\u001b[1;32m      3\u001b[0m     \u001b[38;5;66;03m# 'db.relationship() creates relationla link between Item & User tables\u001b[39;00m\n\u001b[1;32m      4\u001b[0m     \u001b[38;5;28mid\u001b[39m \u001b[38;5;241m=\u001b[39m db\u001b[38;5;241m.\u001b[39mColumn(db\u001b[38;5;241m.\u001b[39mInteger(), primary_key\u001b[38;5;241m=\u001b[39m\u001b[38;5;28;01mTrue\u001b[39;00m)\n\u001b[1;32m      5\u001b[0m     username \u001b[38;5;241m=\u001b[39m db\u001b[38;5;241m.\u001b[39mColumn(db\u001b[38;5;241m.\u001b[39mString(length\u001b[38;5;241m=\u001b[39m\u001b[38;5;241m30\u001b[39m), nullable\u001b[38;5;241m=\u001b[39m\u001b[38;5;28;01mFalse\u001b[39;00m, unique\u001b[38;5;241m=\u001b[39m\u001b[38;5;28;01mTrue\u001b[39;00m)\n",
      "\u001b[0;31mNameError\u001b[0m: name 'db' is not defined"
     ]
    }
   ],
   "source": [
    "class User(db.Model):\n",
    "    \n",
    "    # 'db.relationship() creates relationla link between Item & User tables\n",
    "    id = db.Column(db.Integer(), primary_key=True)\n",
    "    username = db.Column(db.String(length=30), nullable=False, unique=True)\n",
    "    email = db.Column(db.String(length=50), nullable=False, unique=True)\n",
    "    password_hash = db.Column(db.String(length=60), nullable=False)\n",
    "    budget = db.Column(db.Integer(), nullable=False, default=1000)\n",
    "    items = db.relationship('Item', backref='owned_user', lazy=True)\n",
    "\n",
    "\n",
    "    @property\n",
    "    def password(self):\n",
    "        return self.password\n",
    "\n",
    "    @password.setter\n",
    "    def password(self, plain_text_password):\n",
    "        self.password_hash = bcrypt.generate_password_hash(plain_text_password).decode('utf-8')"
   ]
  },
  {
   "cell_type": "markdown",
   "id": "d973f98a",
   "metadata": {},
   "source": [
    "4. Finally, we have to set or change the class/table <code>User</code> parameter in the <code>routes.py</code> file to <code>password</code> which we defined as **User** method that embeds <code>password_hash</code> encryption protocol."
   ]
  },
  {
   "cell_type": "code",
   "execution_count": 7,
   "id": "5284e544",
   "metadata": {},
   "outputs": [],
   "source": [
    "# routes.py\n",
    "@app.route('/register', methods=['GET', 'POST'])\n",
    "def register_page():\n",
    "    form = RegisteredForm()\n",
    "    \n",
    "    # submit button validation and add created data to database\n",
    "    if form.validate_on_submit():\n",
    "        user_to_create = User(username=form.username.data,\n",
    "                              email=form.email.data,\n",
    "                              \n",
    "                              # change this field to password, not password_hash\n",
    "                              password=form.password1.data)"
   ]
  },
  {
   "cell_type": "markdown",
   "id": "534c6298",
   "metadata": {},
   "source": [
    "### Log In\n",
    "1. Initialize <code>login_manager</code> in <code>__init__.py</code> file"
   ]
  },
  {
   "cell_type": "code",
   "execution_count": 25,
   "id": "0d5e67d8",
   "metadata": {},
   "outputs": [],
   "source": [
    "%%script false --no-raise-error\n",
    "# __init__.py\n",
    "from flask_login import LoginManager\n",
    "\n",
    "# ...\n",
    "\n",
    "# init login manager\n",
    "login_manager = LoginManager(app)"
   ]
  },
  {
   "cell_type": "markdown",
   "id": "13dd7d3a",
   "metadata": {},
   "source": [
    "2. Create a login form in <code>forms.py</code>"
   ]
  },
  {
   "cell_type": "code",
   "execution_count": 19,
   "id": "109f2e20",
   "metadata": {},
   "outputs": [],
   "source": [
    "# forms.py\n",
    "from wtforms import StringField, PasswordField, SubmitField\n",
    "\n",
    "class LoginForm(FlaskForm):\n",
    "    \n",
    "    username = StringField(label='User Name:', validators=[DataRequired()])\n",
    "    password = PasswordField(label='Password:', validators=[DataRequired()])\n",
    "    submit = SubmitField(label='Sign In')"
   ]
  },
  {
   "cell_type": "markdown",
   "id": "99ec3e78",
   "metadata": {},
   "source": [
    "2. Add a load_user callback to <code>models.py</code> which keeps the user logged when they browse the webpage.\n",
    "3. Import <code>UserMixin</code> fom <code>flask_login</code> to provide <code>User</code> class functionality to keep user logged in when done successfully.\n",
    "4. Add User method <code>check_password_correction</code> to check if entered password matches with the password hash in the db "
   ]
  },
  {
   "cell_type": "code",
   "execution_count": 26,
   "id": "e35ef5fd",
   "metadata": {},
   "outputs": [],
   "source": [
    "%%script false --no-raise-error\n",
    "# local imports\n",
    "from market import db, bcrypt, login_manager\n",
    "\n",
    "# 3rd party imports\n",
    "from flask_login import UserMixin\n",
    "\n",
    "# callback for the web app. If user is logged in and refreshes or browses through\n",
    "# the webpage the app keeps them logged in, therefore using different session route \n",
    "@login_manager.user_loader\n",
    "def load_user(user_id):\n",
    "    return User.query.get(int(user_id))\n",
    "\n",
    "class User(db.Model, UserMixin):\n",
    "    #...\n",
    "    \n",
    "    # User class method to check input password hash matches hash in db\n",
    "    def check_password_correction(self, attempted_password) -> bool:\n",
    "        return bcrypt.check_password_hash(self.password_hash, attempted_password)"
   ]
  },
  {
   "cell_type": "markdown",
   "id": "c0b6432c",
   "metadata": {},
   "source": [
    "5. Create a login page in <code>routes.py</code>\n",
    "6. Use <code>['GET', 'POST']</code> request methods to communicate with the input data.\n",
    "7. Init <code>LoginForm()</code>\n",
    "8. Init and query entered username:<br> \n",
    "<code>attempted_user = User.query.filter_by(username=form.username.data).first()</code>\n",
    "9. Check if user exists and entered password matches with the one in db\n",
    "10. If so, login the user <code>login_user</code> and prompt success messages and redirect to market page by default."
   ]
  },
  {
   "cell_type": "code",
   "execution_count": 28,
   "id": "87691826",
   "metadata": {},
   "outputs": [],
   "source": [
    "%%script false --no-raise-error\n",
    "# routes.py\n",
    "\n",
    "# local imports\n",
    "from market.forms import LoginForm\n",
    "\n",
    "# 3rd party imports\n",
    "from flask_login import login_user\n",
    "\n",
    "@app.route('/login', methods=['GET', 'POST'])\n",
    "def login_page():\n",
    "    form = LoginForm()\n",
    "    if form.validate_on_submit():\n",
    "        # if user excists. first() is used to get the object from query\n",
    "        attempted_user = User.query.filter_by(username=form.username.data).first()\n",
    "        if attempted_user and attempted_user.check_password_correction(\n",
    "            attempted_password=form.password.data\n",
    "        ):\n",
    "            # when entered username and password are correct log in\n",
    "            login_user(attempted_user)\n",
    "            flash(f'Success! You are logged in as {attempted_user.username}', category='success')\n",
    "            \n",
    "            return redirect(url_for('market_page'))\n",
    "        \n",
    "        else:\n",
    "            flash('Username and password do not match! Please try again!', category='danger')\n",
    "        \n",
    "    return render_template('login.html', form=form)"
   ]
  },
  {
   "cell_type": "markdown",
   "id": "9433ebbb",
   "metadata": {},
   "source": [
    "### Log Out\n",
    "1. Create logout route in the <code>routes.py</code> file, with confirmation message in blue as specified by the <code>category='info'</code> argument in the <code>flash()</code> function."
   ]
  },
  {
   "cell_type": "code",
   "execution_count": 6,
   "id": "c842caa5",
   "metadata": {},
   "outputs": [],
   "source": [
    "%%script false --no-raise-error\n",
    "from flask_login import logout_user,\n",
    "\n",
    "@app.route('/logout')\n",
    "def logout_page():\n",
    "    logout_user()\n",
    "    flash('Your account has successfully logged out!', category='info')\n",
    "    return redirect(url_for('home_page'))"
   ]
  },
  {
   "cell_type": "markdown",
   "id": "9c6da0d6",
   "metadata": {},
   "source": [
    "2. Direct user to <code>logout_page</code> when clicked on the **Logout** link/button in the <code>*.html</code> file with <code>{{ url_for('logout_page') }}</code>."
   ]
  },
  {
   "cell_type": "code",
   "execution_count": 7,
   "id": "30ea6e7d",
   "metadata": {},
   "outputs": [],
   "source": [
    "%%script false --no-raise-error\n",
    "<body>\n",
    "    <div class=\"collapse navbar-collapse\" id=\"navbarNav\">\n",
    "        {% if current_user.is_authenticated %}\n",
    "            <a class=\"nav-link\" href=\"{{ url_for('logout_page') }}\">Logout</a>\n",
    "        {% else %}\n",
    "            <!-- ... -->\n",
    "        {% endif %}\n",
    "    </div>\n",
    "</body>"
   ]
  },
  {
   "cell_type": "markdown",
   "id": "36cf94ce",
   "metadata": {},
   "source": [
    "### Login Recuired\n",
    "To make certain web-pages accessible only when logged in:\n",
    "1. Add <code>login_required</code> function as decorator to the needed <code>route</code> in the <code>routes.py</code> file"
   ]
  },
  {
   "cell_type": "code",
   "execution_count": 8,
   "id": "2a3d7f7d",
   "metadata": {},
   "outputs": [],
   "source": [
    "%%script false --no-raise-error\n",
    "from flask_login import login_required\n",
    "\n",
    "@app.route('/market')\n",
    "@login_required\n",
    "def market_page():\n",
    "    items = Item.query.all()\n",
    "    return render_template('market.html', items=items)"
   ]
  },
  {
   "cell_type": "markdown",
   "id": "06bdd821",
   "metadata": {},
   "source": [
    "### Login right after Register\n",
    "To login user right after registration is complete:\n",
    "1. add <code>login_user(user_to_create)</code> line to the <code>register_page()</code> route after data has sent to the db. <code>login_user(User)</code> function handles logging in the user.\n",
    "2. Display informative message after successful login using <code>flash(msg, category='success')</code> function"
   ]
  },
  {
   "cell_type": "code",
   "execution_count": 9,
   "id": "653986df",
   "metadata": {},
   "outputs": [],
   "source": [
    "%%script false --no-raise-error\n",
    "# routes.py\n",
    "\n",
    "@app.route('/register', methods=['GET', 'POST'])\n",
    "def register_page():\n",
    "    form = RegisteredForm()\n",
    "    \n",
    "    # when submit is pressed it validates if no errors occured\n",
    "    if form.validate_on_submit():\n",
    "        user_to_create = User(username=form.username.data,\n",
    "                              email=form.email.data,\n",
    "                              password=form.password1.data)\n",
    "        # send data to database\n",
    "        db.session.add(user_to_create)\n",
    "        db.session.commit()\n",
    "        \n",
    "        # when entered username and password are correct log in\n",
    "        login_user(user_to_create)\n",
    "        flash(f\"Account created successfully! You are now logged in as {user_to_create.username}.\", category='success')\n",
    "        \n",
    "        # redirect person to new page\n",
    "        return redirect(url_for('market_page'))"
   ]
  },
  {
   "cell_type": "markdown",
   "id": "52be3efa",
   "metadata": {},
   "source": [
    "# Jinja2 Syntax\n",
    "## Print Variables\n",
    "We specify the <code>item_name</code> argument in the <code>.py</code> file and add <code>{{ }}</code> bracets to the <code>templates/foo.html</code> file."
   ]
  },
  {
   "cell_type": "code",
   "execution_count": 5,
   "id": "0627880d",
   "metadata": {},
   "outputs": [],
   "source": [
    "@app.route('/market')\n",
    "def market_page():\n",
    "    return render_template('market.html', item_name='Phone')"
   ]
  },
  {
   "cell_type": "markdown",
   "id": "bc07d004",
   "metadata": {},
   "source": [
    "<code><p>{{ item_name }}</p></code>"
   ]
  },
  {
   "cell_type": "code",
   "execution_count": 6,
   "id": "85ce4ed7",
   "metadata": {},
   "outputs": [
    {
     "data": {
      "text/html": [
       "<body>\n",
       "    <h1>Market Page</h1>\n",
       "    <p>{{ item_name }}</p>\n",
       "    \n",
       "    <script src=\"https://cdn.jsdelivr.net/npm/bootstrap@5.0.2/dist/js/bootstrap.bundle.min.js\" integrity=\"sha384-MrcW6ZMFYlzcLA8Nl+NtUVF0sA7MsXsP1UyJoMp4YLEuNSfAP+JcXn/tWtIaxVXM\" crossorigin=\"anonymous\"></script>\n",
       "</body>\n"
      ],
      "text/plain": [
       "<IPython.core.display.HTML object>"
      ]
     },
     "metadata": {},
     "output_type": "display_data"
    }
   ],
   "source": [
    "%%html\n",
    "<body>\n",
    "    <h1>Market Page</h1>\n",
    "    <p>{{ item_name }}</p>\n",
    "    \n",
    "    <script src=\"https://cdn.jsdelivr.net/npm/bootstrap@5.0.2/dist/js/bootstrap.bundle.min.js\" integrity=\"sha384-MrcW6ZMFYlzcLA8Nl+NtUVF0sA7MsXsP1UyJoMp4YLEuNSfAP+JcXn/tWtIaxVXM\" crossorigin=\"anonymous\"></script>\n",
    "</body>"
   ]
  },
  {
   "cell_type": "markdown",
   "id": "b5551c61",
   "metadata": {},
   "source": [
    "### For Loop"
   ]
  },
  {
   "cell_type": "code",
   "execution_count": 7,
   "id": "64c97b2c",
   "metadata": {},
   "outputs": [],
   "source": [
    "items = [\n",
    "        {'id': 1, 'name': 'Phone', 'barcode': '893212299897', 'price': 500},\n",
    "        {'id': 2, 'name': 'Laptop', 'barcode': '123985473165', 'price': 900},\n",
    "        {'id': 3, 'name': 'Keyboard', 'barcode': '231985128446', 'price': 150}\n",
    "    ]"
   ]
  },
  {
   "cell_type": "markdown",
   "id": "0d081e14",
   "metadata": {},
   "source": [
    "<code>\n",
    "    {% for item in items %}\n",
    "        <tr>\n",
    "            <td>{{ item.id }}</td>\n",
    "            <td>{{ item.name }}</td>\n",
    "            <td>{{ item.barcode }}</td>\n",
    "            <td>${{ item.price }}</td>\n",
    "        </tr>\n",
    "    {% endfor %}\n",
    "</code>"
   ]
  },
  {
   "cell_type": "code",
   "execution_count": 8,
   "id": "66daed5b",
   "metadata": {},
   "outputs": [
    {
     "data": {
      "text/html": [
       "<table class=\"table table-hover table-dark\">\n",
       "        <thead>\n",
       "            <tr>\n",
       "                <th scope=\"col\">ID</th>\n",
       "                <th scope=\"col\">Name</th>\n",
       "                <th scope=\"col\">Barcode</th>\n",
       "                <th sc<td>${{ item.price }}</td>ope=\"col\">Price</th>\n",
       "            </tr>\n",
       "        </thead>\n",
       "        <tbody>\n",
       "             {% for item in items %}\n",
       "                    <tr>\n",
       "                        <td>{{ item.id }}</td>\n",
       "                        <td>{{ item.name }}</td>\n",
       "                        <td>{{ item.barcode }}</td>\n",
       "                        <td>${{ item.price }}</td>\n",
       "                    </tr>\n",
       "                {% endfor %}\n",
       "        </tbody>\n",
       "    </table>\n"
      ],
      "text/plain": [
       "<IPython.core.display.HTML object>"
      ]
     },
     "metadata": {},
     "output_type": "display_data"
    }
   ],
   "source": [
    "%%html\n",
    "<table class=\"table table-hover table-dark\">\n",
    "        <thead>\n",
    "            <tr>\n",
    "                <th scope=\"col\">ID</th>\n",
    "                <th scope=\"col\">Name</th>\n",
    "                <th scope=\"col\">Barcode</th>\n",
    "                <th sc<td>${{ item.price }}</td>ope=\"col\">Price</th>\n",
    "            </tr>\n",
    "        </thead>\n",
    "        <tbody>\n",
    "             {% for item in items %}\n",
    "                    <tr>\n",
    "                        <td>{{ item.id }}</td>\n",
    "                        <td>{{ item.name }}</td>\n",
    "                        <td>{{ item.barcode }}</td>\n",
    "                        <td>${{ item.price }}</td>\n",
    "                    </tr>\n",
    "                {% endfor %}\n",
    "        </tbody>\n",
    "    </table>"
   ]
  },
  {
   "cell_type": "markdown",
   "id": "8fae3611",
   "metadata": {},
   "source": [
    "### Template Inheritage\n",
    "* Using a template inheritage so that some parts of the pages of a webpage are generic (like navigation part, header, footer etc) yet some parts are unique per page. \n",
    "* Use special <code>jinja</code> syntax in <code>{%  %}</code> brackets in the <code>base.html</code> file. "
   ]
  },
  {
   "cell_type": "markdown",
   "id": "6f49da27",
   "metadata": {},
   "source": [
    "Snippet of the <code>base.html</code> file:"
   ]
  },
  {
   "cell_type": "code",
   "execution_count": 9,
   "id": "add95a0b",
   "metadata": {
    "scrolled": true
   },
   "outputs": [
    {
     "data": {
      "text/html": [
       "<body>\n",
       "      <!-- Navbar here -->\n",
       "      <nav class=\"navbar navbar-expand-md navbar-dark bg-dark\">\n",
       "        <a class=\"navbar-brand\" href=\"#\">Flask Market</a>\n",
       "        <button class=\"navbar-toggler\" type=\"button\" data-toggle=\"collapse\" data-target=\"#navbarNav\">\n",
       "          <span class=\"navbar-toggler-icon\"></span>\n",
       "        </button>\n",
       "        <div class=\"collapse navbar-collapse\" id=\"navbarNav\">\n",
       "            <ul class=\"navbar-nav mr-auto\">\n",
       "                <li class=\"nav-item active\">\n",
       "                    <a class=\"nav-link\" href=\"{{ url_for('home_page') }}\">Home <span class=\"sr-only\">(current)</span></a>\n",
       "                </li>\n",
       "                <li class=\"nav-item\">\n",
       "                    <a class=\"nav-link\" href=\"{{ url_for('market_page') }}\">Market</a>\n",
       "                </li>\n",
       "            </ul>\n",
       "            <ul class=\"navbar-nav\">\n",
       "                <li class=\"nav-item\">\n",
       "                    <a class=\"nav-link\" href=\"#\">Login</a>\n",
       "                </li>\n",
       "                <li class=\"nav-item\">\n",
       "                    <a class=\"nav-link\" href=\"{{ url_for('register_page') }}\">Register</a>\n",
       "                </li>\n",
       "            </ul>\n",
       "        </div>\n",
       "    </nav>\n",
       "</body>\n"
      ],
      "text/plain": [
       "<IPython.core.display.HTML object>"
      ]
     },
     "metadata": {},
     "output_type": "display_data"
    }
   ],
   "source": [
    "%%html\n",
    "<body>\n",
    "      <!-- Navbar here -->\n",
    "      <nav class=\"navbar navbar-expand-md navbar-dark bg-dark\">\n",
    "        <a class=\"navbar-brand\" href=\"#\">Flask Market</a>\n",
    "        <button class=\"navbar-toggler\" type=\"button\" data-toggle=\"collapse\" data-target=\"#navbarNav\">\n",
    "          <span class=\"navbar-toggler-icon\"></span>\n",
    "        </button>\n",
    "        <div class=\"collapse navbar-collapse\" id=\"navbarNav\">\n",
    "            <ul class=\"navbar-nav mr-auto\">\n",
    "                <li class=\"nav-item active\">\n",
    "                    <a class=\"nav-link\" href=\"{{ url_for('home_page') }}\">Home <span class=\"sr-only\">(current)</span></a>\n",
    "                </li>\n",
    "                <li class=\"nav-item\">\n",
    "                    <a class=\"nav-link\" href=\"{{ url_for('market_page') }}\">Market</a>\n",
    "                </li>\n",
    "            </ul>\n",
    "            <ul class=\"navbar-nav\">\n",
    "                <li class=\"nav-item\">\n",
    "                    <a class=\"nav-link\" href=\"#\">Login</a>\n",
    "                </li>\n",
    "                <li class=\"nav-item\">\n",
    "                    <a class=\"nav-link\" href=\"{{ url_for('register_page') }}\">Register</a>\n",
    "                </li>\n",
    "            </ul>\n",
    "        </div>\n",
    "    </nav>\n",
    "</body>"
   ]
  },
  {
   "cell_type": "markdown",
   "id": "45782598",
   "metadata": {},
   "source": [
    "Snippet of <code>*.html</code> file that inherits from base:"
   ]
  },
  {
   "cell_type": "code",
   "execution_count": 10,
   "id": "d8d603df",
   "metadata": {},
   "outputs": [
    {
     "data": {
      "text/html": [
       "{% extends 'base.html' %}\n",
       "\n",
       "{% block title %}\n",
       "    Registration Page\n",
       "{% endblock %}\n"
      ],
      "text/plain": [
       "<IPython.core.display.HTML object>"
      ]
     },
     "metadata": {},
     "output_type": "display_data"
    }
   ],
   "source": [
    "%%html\n",
    "{% extends 'base.html' %}\n",
    "\n",
    "{% block title %}\n",
    "    Registration Page\n",
    "{% endblock %}\n"
   ]
  },
  {
   "cell_type": "markdown",
   "id": "aa2eee40",
   "metadata": {},
   "source": [
    "### Navigation Logic\n",
    "Need to change the <code>href</code> CSS tag programatically with jinja syntax and function <code>url_for(\"route_name\")</code> "
   ]
  },
  {
   "cell_type": "code",
   "execution_count": 11,
   "id": "3fb1e64f",
   "metadata": {
    "scrolled": false
   },
   "outputs": [
    {
     "data": {
      "text/html": [
       "<div class=\"collapse navbar-collapse\" id=\"navbarNav\">\n",
       "    <ul class=\"navbar-nav mr-auto\">\n",
       "        <li class=\"nav-item active\">\n",
       "            <a class=\"nav-link\" href=\"{{ url_for('home_page') }}\">Home <span class=\"sr-only\">(current)</span></a>\n",
       "        </li>\n",
       "        <li class=\"nav-item\">\n",
       "            <a class=\"nav-link\" href=\"{{ url_for('market_page') }}\">Market</a>\n",
       "        </li>\n",
       "    </ul>\n",
       "    <ul class=\"navbar-nav\">\n",
       "        <li class=\"nav-item\">\n",
       "            <a class=\"nav-link\" href=\"#\">Login</a>\n",
       "        </li>\n",
       "        <li class=\"nav-item\">\n",
       "            <a class=\"nav-link\" href=\"#\">Register</a>\n",
       "        </li>\n",
       "    </ul>\n",
       "</div>\n"
      ],
      "text/plain": [
       "<IPython.core.display.HTML object>"
      ]
     },
     "metadata": {},
     "output_type": "display_data"
    }
   ],
   "source": [
    "%%html\n",
    "<div class=\"collapse navbar-collapse\" id=\"navbarNav\">\n",
    "    <ul class=\"navbar-nav mr-auto\">\n",
    "        <li class=\"nav-item active\">\n",
    "            <a class=\"nav-link\" href=\"{{ url_for('home_page') }}\">Home <span class=\"sr-only\">(current)</span></a>\n",
    "        </li>\n",
    "        <li class=\"nav-item\">\n",
    "            <a class=\"nav-link\" href=\"{{ url_for('market_page') }}\">Market</a>\n",
    "        </li>\n",
    "    </ul>\n",
    "    <ul class=\"navbar-nav\">\n",
    "        <li class=\"nav-item\">\n",
    "            <a class=\"nav-link\" href=\"#\">Login</a>\n",
    "        </li>\n",
    "        <li class=\"nav-item\">\n",
    "            <a class=\"nav-link\" href=\"#\">Register</a>\n",
    "        </li>\n",
    "    </ul>\n",
    "</div>"
   ]
  },
  {
   "cell_type": "markdown",
   "id": "72679317",
   "metadata": {},
   "source": [
    "## Register Page"
   ]
  },
  {
   "cell_type": "markdown",
   "id": "1f515c9e",
   "metadata": {},
   "source": [
    "<code>forms.py</code>file"
   ]
  },
  {
   "cell_type": "code",
   "execution_count": 8,
   "id": "e2a53303",
   "metadata": {},
   "outputs": [],
   "source": [
    "# 3rd party imports\n",
    "from flask_wtf import FlaskForm\n",
    "from wtforms import StringField, PasswordField, SubmitField\n",
    "from wtforms.validators import Length, EqualTo, Email, DataRequired\n",
    "\n",
    "\n",
    "class RegisteredForm(FlaskForm):\n",
    "    \n",
    "    username = StringField(\n",
    "        label='User Name:', \n",
    "        validators=[Length(min=2, max=30), DataRequired()])\n",
    "    \n",
    "    email = StringField(\n",
    "        label='Email Address:',\n",
    "        validators=[Email(), DataRequired()])\n",
    "    \n",
    "    password1 = PasswordField(\n",
    "        label='Password:',\n",
    "        validators=[Length(min=6), DataRequired()])\n",
    "    \n",
    "    password2 = PasswordField(\n",
    "        label='Confirm Password:',\n",
    "        validators=[EqualTo('password1'), DataRequired()])\n",
    "    \n",
    "    submit = SubmitField(label='Create Account')"
   ]
  },
  {
   "cell_type": "markdown",
   "id": "b3fdc754",
   "metadata": {},
   "source": [
    "<code>*.html</code> file"
   ]
  },
  {
   "cell_type": "code",
   "execution_count": 6,
   "id": "ed054333",
   "metadata": {
    "scrolled": true
   },
   "outputs": [
    {
     "data": {
      "text/html": [
       "{% extends 'base.html' %}\n",
       "\n",
       "{% block title %}\n",
       "    Registration Page\n",
       "{% endblock %}\n",
       "\n",
       "{% block content %}\n",
       "    <body class=\"text-center\">\n",
       "        <div class=\"container\"  style=\"width: 600px\">\n",
       "            <form method=\"POST\" class=\"form-register\" style=\"color:white\">\n",
       "                {{ form.hidden_tag() }} <!-- To prevent CSRF attack on db -->\n",
       "                <img class=\"mb-4\", src=\"https://imgs.search.brave.com/YPuYCl5-EmeqfaL-FzqF8l4egROpKnuuhEcQJWq3eUY/rs:fit:180:180:1/g:ce/aHR0cDovL2Jpb3dl/Yi51d2xheC5lZHUv/YmlvMjAzL3MyMDA4/L2Fybm9sZF9tZWFn/L01DajA0MzQ3Mjkw/MDAwWzFdLnBuZw\" \n",
       "                    style=\"width:100px;height:100px;\">\n",
       "                <h1 class=\"h3 mb-3 font-weight-normal\">\n",
       "                    Please Create your Account\n",
       "                </h1>\n",
       "                <br>\n",
       "                {{ form.username.label() }}\n",
       "                {{ form.username(class=\"form-control\", placeholder=\"User Name\") }}\n",
       "\n",
       "                {{ form.email.label() }}\n",
       "                {{ form.email(class=\"form-control\", placeholder=\"Email Address\") }}\n",
       "\n",
       "                {{ form.password1.label() }}\n",
       "                {{ form.password1(class=\"form-control\", placeholder=\"Password\") }}\n",
       "\n",
       "                {{ form.password2.label() }}\n",
       "                {{ form.password2(class=\"form-control\", placeholder=\"Confirm Password\") }}\n",
       "                \n",
       "                <br>\n",
       "\n",
       "                {{ form.submit(class='btn btn-lg btn-block btn-primary') }}\n",
       "\n",
       "            </form>\n",
       "        </div>\n",
       "    </body>\n",
       "{% endblock %}\n"
      ],
      "text/plain": [
       "<IPython.core.display.HTML object>"
      ]
     },
     "metadata": {},
     "output_type": "display_data"
    }
   ],
   "source": [
    "%%html\n",
    "{% extends 'base.html' %}\n",
    "\n",
    "{% block title %}\n",
    "    Registration Page\n",
    "{% endblock %}\n",
    "\n",
    "{% block content %}\n",
    "    <body class=\"text-center\">\n",
    "        <div class=\"container\"  style=\"width: 600px\">\n",
    "            <form method=\"POST\" class=\"form-register\" style=\"color:white\">\n",
    "                {{ form.hidden_tag() }} <!-- To prevent CSRF attack on db -->\n",
    "                <img class=\"mb-4\", src=\"https://imgs.search.brave.com/YPuYCl5-EmeqfaL-FzqF8l4egROpKnuuhEcQJWq3eUY/rs:fit:180:180:1/g:ce/aHR0cDovL2Jpb3dl/Yi51d2xheC5lZHUv/YmlvMjAzL3MyMDA4/L2Fybm9sZF9tZWFn/L01DajA0MzQ3Mjkw/MDAwWzFdLnBuZw\" \n",
    "                    style=\"width:100px;height:100px;\">\n",
    "                <h1 class=\"h3 mb-3 font-weight-normal\">\n",
    "                    Please Create your Account\n",
    "                </h1>\n",
    "                <br>\n",
    "                {{ form.username.label() }}\n",
    "                {{ form.username(class=\"form-control\", placeholder=\"User Name\") }}\n",
    "\n",
    "                {{ form.email.label() }}\n",
    "                {{ form.email(class=\"form-control\", placeholder=\"Email Address\") }}\n",
    "\n",
    "                {{ form.password1.label() }}\n",
    "                {{ form.password1(class=\"form-control\", placeholder=\"Password\") }}\n",
    "\n",
    "                {{ form.password2.label() }}\n",
    "                {{ form.password2(class=\"form-control\", placeholder=\"Confirm Password\") }}\n",
    "                \n",
    "                <br>\n",
    "\n",
    "                {{ form.submit(class='btn btn-lg btn-block btn-primary') }}\n",
    "\n",
    "            </form>\n",
    "        </div>\n",
    "    </body>\n",
    "{% endblock %}"
   ]
  },
  {
   "cell_type": "markdown",
   "id": "6d4cc366",
   "metadata": {},
   "source": [
    "## Login Page"
   ]
  },
  {
   "cell_type": "code",
   "execution_count": 11,
   "id": "afcea528",
   "metadata": {},
   "outputs": [],
   "source": [
    "# forms.py\n",
    "from flask_wtf import FlaskForm\n",
    "from wtforms import StringField, PasswordField, SubmitField\n",
    "from wtforms.validators import DataRequired\n",
    "\n",
    "class LoginForm(FlaskForm):\n",
    "    username = StringField(label='User Name:', validators=[DataRequired()])\n",
    "    password = PasswordField(label='Password:', validators=[DataRequired()])\n",
    "    submit = SubmitField(label='Sign In')"
   ]
  },
  {
   "cell_type": "code",
   "execution_count": 12,
   "id": "ebc0084d",
   "metadata": {},
   "outputs": [],
   "source": [
    "# routes.py\n",
    "#from market.forms import LoginForm\n",
    "from flask import render_template\n",
    "\n",
    "@app.route('/login', methods=['GET', 'POST'])\n",
    "def login_page():\n",
    "    form = LoginForm()\n",
    "    return render_template('login.html', form=form)"
   ]
  },
  {
   "cell_type": "code",
   "execution_count": 15,
   "id": "c05158b8",
   "metadata": {
    "scrolled": true
   },
   "outputs": [
    {
     "data": {
      "text/html": [
       "<!--{% extends 'base.html' %}\n",
       "\n",
       "{% block title %}\n",
       "    Login Page\n",
       "{% endblock %}\n",
       "\n",
       "{% block content %}-->\n",
       "\n",
       "<body class=\"text-center\">\n",
       "    <div class=\"container\" style=\"width: 600px\">\n",
       "        <form method=\"POST\" class=\"form-signin\" style=\"color:white\">\n",
       "            {{ form.hidden_tag() }}\n",
       "            <img class=\"mb-4\", src=\"https://imgs.search.brave.com/YPuYCl5-EmeqfaL-FzqF8l4egROpKnuuhEcQJWq3eUY/rs:fit:180:180:1/g:ce/aHR0cDovL2Jpb3dl/Yi51d2xheC5lZHUv/YmlvMjAzL3MyMDA4/L2Fybm9sZF9tZWFn/L01DajA0MzQ3Mjkw/MDAwWzFdLnBuZw\" \n",
       "                    style=\"width:100px;height:100px;\">\n",
       "            <h1 class=\"h3 mb-3 font-weight-normal\">\n",
       "                Please Login\n",
       "            </h1>\n",
       "            <br>\n",
       "            {{ form.username.label() }}\n",
       "            {{ form.username(class='form-control', placeholder='User Name') }}\n",
       "\n",
       "            {{ form.password.label() }}\n",
       "            {{ form.password(class='form-control', placeholder='Password') }}\n",
       "\n",
       "            <br>\n",
       "\n",
       "\n",
       "\n",
       "            <div class=\"checkbox mb-3\">\n",
       "                <h6>Do not have an account?</h6>\n",
       "                <a class=\"btn btn-sm btn-secondary\" href=\"{{ url_for('register_page') }}\">Register</a>\n",
       "            </div>\n",
       "\n",
       "            {{ form.submit(class='btn btn-lg btn-block btn-primary') }}\n",
       "\n",
       "        </form>\n",
       "    </div>\n",
       "</body>\n",
       "\n",
       "<!--{% endblock %}-->\n"
      ],
      "text/plain": [
       "<IPython.core.display.HTML object>"
      ]
     },
     "metadata": {},
     "output_type": "display_data"
    }
   ],
   "source": [
    "%%html\n",
    "<!--{% extends 'base.html' %}\n",
    "\n",
    "{% block title %}\n",
    "    Login Page\n",
    "{% endblock %}\n",
    "\n",
    "{% block content %}-->\n",
    "\n",
    "<body class=\"text-center\">\n",
    "    <div class=\"container\" style=\"width: 600px\">\n",
    "        <form method=\"POST\" class=\"form-signin\" style=\"color:white\">\n",
    "            {{ form.hidden_tag() }}\n",
    "            <img class=\"mb-4\", src=\"https://imgs.search.brave.com/YPuYCl5-EmeqfaL-FzqF8l4egROpKnuuhEcQJWq3eUY/rs:fit:180:180:1/g:ce/aHR0cDovL2Jpb3dl/Yi51d2xheC5lZHUv/YmlvMjAzL3MyMDA4/L2Fybm9sZF9tZWFn/L01DajA0MzQ3Mjkw/MDAwWzFdLnBuZw\" \n",
    "                    style=\"width:100px;height:100px;\">\n",
    "            <h1 class=\"h3 mb-3 font-weight-normal\">\n",
    "                Please Login\n",
    "            </h1>\n",
    "            <br>\n",
    "            {{ form.username.label() }}\n",
    "            {{ form.username(class='form-control', placeholder='User Name') }}\n",
    "\n",
    "            {{ form.password.label() }}\n",
    "            {{ form.password(class='form-control', placeholder='Password') }}\n",
    "\n",
    "            <br>\n",
    "\n",
    "\n",
    "\n",
    "            <div class=\"checkbox mb-3\">\n",
    "                <h6>Do not have an account?</h6>\n",
    "                <a class=\"btn btn-sm btn-secondary\" href=\"{{ url_for('register_page') }}\">Register</a>\n",
    "            </div>\n",
    "\n",
    "            {{ form.submit(class='btn btn-lg btn-block btn-primary') }}\n",
    "\n",
    "        </form>\n",
    "    </div>\n",
    "</body>\n",
    "\n",
    "<!--{% endblock %}-->"
   ]
  },
  {
   "cell_type": "markdown",
   "id": "f67cf7f7",
   "metadata": {},
   "source": [
    "## Fontawesome Icons\n",
    "To easily integrate <code>fontawesome</code> icons to the webpage use <code>flask_fontawesome</code> package with the following setup:\n",
    "1. Create <code>FontAwesome</code> object in the <code>__init__.py</code> file"
   ]
  },
  {
   "cell_type": "code",
   "execution_count": 2,
   "id": "b8916e2c",
   "metadata": {},
   "outputs": [],
   "source": [
    "%%script false --no-raise-error\n",
    "from flask_fontawesome import FontAwesome\n",
    "\n",
    "app = Flask(__name__)\n",
    "fa = FontAwesome(app)"
   ]
  },
  {
   "cell_type": "markdown",
   "id": "6118edca",
   "metadata": {},
   "source": [
    "Modify respective <code>*.html</code> file:\n",
    "2. Add line <code>{{ fontawesome_html() }}</code> to the <code>head</code> of the html.\n",
    "3. Insert desired icon using <code>class=\"fas fa-coins\"</code> class:"
   ]
  },
  {
   "cell_type": "code",
   "execution_count": 5,
   "id": "d64e6ab9",
   "metadata": {},
   "outputs": [],
   "source": [
    "%%script false --no-raise-error\n",
    "<!doctype html>\n",
    "<html lang=\"en\">\n",
    "<head>\n",
    "  {{ fontawesome_html() }}\n",
    "</head>\n",
    "<body>\n",
    "    <p class=\"nav-item\">\n",
    "        <a class=\"nav-link\" style=\"color: lawngreen; font-weight: bold\">\n",
    "            <i class=\"fas fa-coins\"></i>\n",
    "        </a>\n",
    "    </p>\n",
    "</body>"
   ]
  },
  {
   "cell_type": "markdown",
   "id": "38cb5837",
   "metadata": {},
   "source": [
    "# HTML Syntax"
   ]
  },
  {
   "cell_type": "markdown",
   "id": "67f09ec0",
   "metadata": {},
   "source": [
    "## div\n",
    "Setting the size of the box on the webpage"
   ]
  },
  {
   "cell_type": "code",
   "execution_count": 9,
   "id": "64ffe01c",
   "metadata": {},
   "outputs": [
    {
     "data": {
      "text/html": [
       "<div class=\"container\">Yee</div>\n"
      ],
      "text/plain": [
       "<IPython.core.display.HTML object>"
      ]
     },
     "metadata": {},
     "output_type": "display_data"
    }
   ],
   "source": [
    "%%html\n",
    "<div class=\"container\">Yee</div>"
   ]
  },
  {
   "cell_type": "markdown",
   "id": "bd3de644",
   "metadata": {},
   "source": [
    "## Table\n",
    "### Create Table"
   ]
  },
  {
   "cell_type": "markdown",
   "id": "87c3d7e6",
   "metadata": {},
   "source": [
    "<code>'id'</code> is the convention in Flask apps No missing values are allowed with <code>nullable</code> and name has to be unique in the table.\n",
    "\n",
    "<code>\n",
    "    from flask_sqlalchemy import SQLAlchemy\n",
    "    \n",
    "    class Item(db.Model):\n",
    "        id = db.Column(db.Integer(), primary_key=True)\n",
    "        name = db.Column(db.String(length=30), nullable=False, unique=True) \n",
    "        price = db.Column(db.Integer(), nullable=False)\n",
    "        barcode = db.Column(db.String(length=12), nullable=False, unique=True)\n",
    "        description = db.Column(db.String(length=1024), nullable=False, unique=True)</code>"
   ]
  },
  {
   "cell_type": "markdown",
   "id": "8bf3adb8",
   "metadata": {},
   "source": [
    "### Bootstrap Table Template"
   ]
  },
  {
   "cell_type": "code",
   "execution_count": 12,
   "id": "e2bf7322",
   "metadata": {
    "scrolled": true
   },
   "outputs": [
    {
     "data": {
      "text/html": [
       "<table class=\"table table-hover table-dark\">\n",
       "        <thead>\n",
       "            <tr>\n",
       "                <!-- Your Columns HERE -->\n",
       "                <th scope=\"col\">ID</th>\n",
       "                <th scope=\"col\">Name</th>\n",
       "                <th scope=\"col\">Barcode</th>\n",
       "                <th scope=\"col\">Price</th>\n",
       "            </tr>\n",
       "        </thead>\n",
       "        <tbody>\n",
       "            <!-- Your rows inside the table HERE: -->\n",
       "                <tr>\n",
       "                    <td>Value for Id</td>\n",
       "                    <td>Value for Name</td>\n",
       "                    <td>Value for Barcode</td>\n",
       "                    <td>Value for Price</td>\n",
       "                </tr>\n",
       "        </tbody>\n",
       "    </table>\n"
      ],
      "text/plain": [
       "<IPython.core.display.HTML object>"
      ]
     },
     "metadata": {},
     "output_type": "display_data"
    }
   ],
   "source": [
    "%%html\n",
    "<table class=\"table table-hover table-dark\">\n",
    "        <thead>\n",
    "            <tr>\n",
    "                <!-- Your Columns HERE -->\n",
    "                <th scope=\"col\">ID</th>\n",
    "                <th scope=\"col\">Name</th>\n",
    "                <th scope=\"col\">Barcode</th>\n",
    "                <th scope=\"col\">Price</th>\n",
    "            </tr>\n",
    "        </thead>\n",
    "        <tbody>\n",
    "            <!-- Your rows inside the table HERE: -->\n",
    "                <tr>\n",
    "                    <td>Value for Id</td>\n",
    "                    <td>Value for Name</td>\n",
    "                    <td>Value for Barcode</td>\n",
    "                    <td>Value for Price</td>\n",
    "                </tr>\n",
    "        </tbody>\n",
    "    </table>"
   ]
  },
  {
   "cell_type": "markdown",
   "id": "db7d11b9",
   "metadata": {},
   "source": [
    "## Button"
   ]
  },
  {
   "cell_type": "code",
   "execution_count": 13,
   "id": "86e16695",
   "metadata": {},
   "outputs": [
    {
     "data": {
      "text/html": [
       "<h1>Market Page</h1>\n",
       "    <table class=\"table table-hover table-dark\">\n",
       "        <thead>\n",
       "            <tr>\n",
       "                <!-- Your Columns HERE -->\n",
       "                <th scope=\"col\">Name</th>\n",
       "                <th scope=\"col\">Barcode</th>\n",
       "                <th scope=\"col\">Price</th>\n",
       "                <th scope=\"col\">Options</th>\n",
       "            </tr>\n",
       "        </thead>\n",
       "        <tbody>\n",
       "            <!-- Your rows inside the table HERE: -->%%html\n",
       "                {% for item in items %}\n",
       "                    <tr>\n",
       "                        <td>{{ item.name }}</td>\n",
       "                        <td>{{ item.barcode }}</td>\n",
       "                        <td>${{ item.price }}</td> <!-- '$' adds dollar symbol -->\n",
       "                        <td>\n",
       "                            <button class=\"btn btn-outline btn-info\">More Info</button>\n",
       "                            <button class=\"btn btn-outline btn-success\">Purchase this Item</button>\n",
       "                        </td>\n",
       "                    </tr>\n",
       "                {% endfor %}\n",
       "        </tbody>\n",
       "    </table>\n"
      ],
      "text/plain": [
       "<IPython.core.display.HTML object>"
      ]
     },
     "metadata": {},
     "output_type": "display_data"
    }
   ],
   "source": [
    "%%html\n",
    "<h1>Market Page</h1>\n",
    "    <table class=\"table table-hover table-dark\">\n",
    "        <thead>\n",
    "            <tr>\n",
    "                <!-- Your Columns HERE -->\n",
    "                <th scope=\"col\">Name</th>\n",
    "                <th scope=\"col\">Barcode</th>\n",
    "                <th scope=\"col\">Price</th>\n",
    "                <th scope=\"col\">Options</th>\n",
    "            </tr>\n",
    "        </thead>\n",
    "        <tbody>\n",
    "            <!-- Your rows inside the table HERE: -->%%html\n",
    "                {% for item in items %}\n",
    "                    <tr>\n",
    "                        <td>{{ item.name }}</td>\n",
    "                        <td>{{ item.barcode }}</td>\n",
    "                        <td>${{ item.price }}</td> <!-- '$' adds dollar symbol -->\n",
    "                        <td>\n",
    "                            <button class=\"btn btn-outline btn-info\">More Info</button>\n",
    "                            <button class=\"btn btn-outline btn-success\">Purchase this Item</button>\n",
    "                        </td>\n",
    "                    </tr>\n",
    "                {% endfor %}\n",
    "        </tbody>\n",
    "    </table>"
   ]
  },
  {
   "cell_type": "markdown",
   "id": "3904bf82",
   "metadata": {},
   "source": [
    "## \"X\" to Close Window"
   ]
  },
  {
   "cell_type": "code",
   "execution_count": 6,
   "id": "30261176",
   "metadata": {
    "scrolled": true
   },
   "outputs": [
    {
     "data": {
      "text/html": [
       "<span aria-hidden=\"true\">&times;</span>\n"
      ],
      "text/plain": [
       "<IPython.core.display.HTML object>"
      ]
     },
     "metadata": {},
     "output_type": "display_data"
    }
   ],
   "source": [
    "%%html\n",
    "<span aria-hidden=\"true\">&times;</span>"
   ]
  },
  {
   "cell_type": "markdown",
   "id": "d3a9df0b",
   "metadata": {},
   "source": [
    "## Modals"
   ]
  },
  {
   "cell_type": "markdown",
   "id": "e7310597",
   "metadata": {},
   "source": [
    "### 'GET' method\n",
    "Modals are pop-up message windows that are prompted when a button, link or after action. Modals are usually implemented in separate directory in <code>templates</code> directory.\n",
    "1. Create a directory <code>includes</code> in the <code>templates</code> directory.\n",
    "2. Create a html code for the pop-up window aka <code>modal</code>\n",
    "3. If unique modals are required then modal <code>id</code> has to be parametrized using <code>jinja</code> syntax."
   ]
  },
  {
   "cell_type": "code",
   "execution_count": 11,
   "id": "64d5890d",
   "metadata": {},
   "outputs": [],
   "source": [
    "%%script false --no-raise-error\n",
    "\n",
    "<!-- \n",
    "templates/includes/items_modals.html\n",
    "Modal for More Info button \n",
    "-->\n",
    "\n",
    "<div class=\"modal fade\" id=\"Modal-MoreInfo-{{ item.id }}\"\n",
    "     tabindex=\"-1\"\n",
    "     aria-labelledby=\"exampleModalLabel\" aria-hidden=\"true\">\n",
    "  <div class=\"modal-dialog\">\n",
    "    <div class=\"modal-content\">\n",
    "      <div class=\"modal-header\">\n",
    "        <h5 class=\"modal-title\" id=\"ModalLabel\">\n",
    "          <!-- -->\n",
    "          {{ item.name }}\n",
    "        </h5>\n",
    "        <button type=\"button\" class=\"close\"\n",
    "                data-dismiss=\"modal\" aria-label=\"Close\">\n",
    "          <span aria-hidden=\"true\">&times;</span>\n",
    "        </button>\n",
    "      </div>\n",
    "      <div class=\"modal-body\">\n",
    "        {{ item.description }}\n",
    "      </div>\n",
    "      <div class=\"modal-footer\">\n",
    "        <button type=\"button\" class=\"btn btn-secondary\"\n",
    "                data-dismiss=\"modal\">Close\n",
    "        </button>\n",
    "      </div>\n",
    "    </div>\n",
    "  </div>\n",
    "</div>"
   ]
  },
  {
   "cell_type": "markdown",
   "id": "d331fbe8",
   "metadata": {},
   "source": [
    "4. Include defined modal html in desired html file using <code>jinja</code> syntax\n",
    "5. Example given in a <code>for</code> loop in a data table where unique modal <code>id</code> is required per row in the table."
   ]
  },
  {
   "cell_type": "code",
   "execution_count": 12,
   "id": "9f8e5051",
   "metadata": {},
   "outputs": [],
   "source": [
    "%%script false --no-raise-error\n",
    "\n",
    "<!--\n",
    "templates/market.html\n",
    "-->\n",
    "\n",
    "<tbody>\n",
    "    {% for item in items %} <!-- Generate row per unique item: -->\n",
    "    {% include 'includes/items_modals.html' %} <!-- Import items_modals.html per item -->\n",
    "        <tr>\n",
    "            <td>{{ item.id }}</td>\n",
    "            <td>{{ item.name }}</td>\n",
    "            <td>{{ item.barcode }}</td>\n",
    "            <td>${{ item.price }}</td>\n",
    "            <td>\n",
    "                <button class=\"btn btn-outline btn-info\" data-toggle=\"modal\" data-target=\"#Modal-MoreInfo-{{ item.id }}\">\n",
    "                    More Info\n",
    "                </button>\n",
    "                <button class=\"btn btn-outline btn-success\" data-toggle=\"modal\" data-target=\"#Modal-PurchaseConfirm-{{ item.id }}\">\n",
    "                    Purchase this Item\n",
    "                </button>\n",
    "            </td>\n",
    "        </tr>\n",
    "    {% endfor %}\n",
    "</tbody>"
   ]
  },
  {
   "cell_type": "markdown",
   "id": "2237cddf",
   "metadata": {},
   "source": [
    "### 'POST' method\n",
    "<code>form.method = 'POST'</code> means that the *User* interaction sends data to the host, which usually means information is sent via filling a form or pressing a button. In this example it is going to be pressing a button.\n",
    "\n",
    "1. Create *Flask* form <code>class</code> object inheriting from <code>FlaskForm</code> in the <code>forms.py</code> file."
   ]
  },
  {
   "cell_type": "code",
   "execution_count": 13,
   "id": "0dae05ff",
   "metadata": {},
   "outputs": [],
   "source": [
    "from flask_wtf import FlaskForm\n",
    "from wtforms import SubmitField\n",
    "\n",
    "class PurchaseItemForm(FlaskForm):\n",
    "    submit = SubmitField(label='Confirm')"
   ]
  },
  {
   "cell_type": "markdown",
   "id": "b2c13dd9",
   "metadata": {},
   "source": [
    "2. Create/modify the webpage route function by adding <code>'POST'</code> route method.\n",
    "3. Init the form object <code>PurchaseItemForm</code>\n",
    "4. Access Flask <code>request</code> object for <code>'POST'</code> method.\n",
    "5. Grab the purchased item name <code>purchased_item</code> via hidden <code>html</code> <code>input</code> tag\n",
    "6. Query item data using <code>purchased_item</code>\n",
    "7. Check if such item exists and if user has enough funds with <code>can_purchase()</code> method.\n",
    "8. Buy the item using <code>p_item_object</code> method."
   ]
  },
  {
   "cell_type": "code",
   "execution_count": 14,
   "id": "87b1e427",
   "metadata": {},
   "outputs": [],
   "source": [
    "%%script false --no-raise-error\n",
    "@app.route('/market', methods=['GET', 'POST'])\n",
    "@login_required\n",
    "def market_page():\n",
    "    purchase_form = PurchaseItemForm()\n",
    "    \n",
    "    # if data is sent from HTML to the server (aka the \"POST\" method)\n",
    "    if request.method == \"POST\":\n",
    "        \n",
    "        # since we added hidden <input> tag to our form in items_modals.html\n",
    "        # we can catch the value=\"{{ item.name }}\" of the 'purchased_id' item\n",
    "        purchased_item = request.form.get('purchased_item')\n",
    "        \n",
    "        # now we have the name of the item and query its data from the db\n",
    "        p_item_object = Item.query.filter_by(name=purchased_item).first()\n",
    "        \n",
    "        if p_item_object: \n",
    "            if current_user.can_purchase(item_object=p_item_object):\n",
    "                p_item_object.buy(user=current_user)\n",
    "                flash(f\"Congratulations! You purchased {purchased_item} for ${p_item_object.price}.\", category='success')\n",
    "            else:\n",
    "                flash(f\"Unfortunately, you don't have enough funds to purchase {p_item_object.name}.\", category='danger')\n",
    "            \n",
    "        # end the 'POST' request with return statement\n",
    "        return redirect(url_for('market_page'))\n",
    "            \n",
    "    if request.method == \"GET\":\n",
    "        # only display items that have no owners, aka bought items will disappear per user\n",
    "        items = Item.query.filter_by(owner=None)\n",
    "        \n",
    "        return render_template('market.html', items=items, purchase_form=purchase_form)"
   ]
  },
  {
   "cell_type": "code",
   "execution_count": 16,
   "id": "f09f49da",
   "metadata": {},
   "outputs": [],
   "source": [
    "%%script false --no-raise-error\n",
    "\n",
    "# models.py\n",
    "class User(db.Model, UserMixin):\n",
    "    # ...\n",
    "    def can_purchase(self, item_object):\n",
    "        return self.budget >= item_object.price\n",
    "    \n",
    "class Item(db.Model):\n",
    "    # ...\n",
    "    def buy(self, user):\n",
    "        # current_user built-in method accesses logged-in user User object.\n",
    "        # assigning user id to the Items owner field\n",
    "        self.owner = user.id\n",
    "        \n",
    "        # deduct price of the item from user's budegt\n",
    "        user.budget -= self.price\n",
    "\n",
    "        db.session.commit()"
   ]
  },
  {
   "cell_type": "code",
   "execution_count": 17,
   "id": "dc920f33",
   "metadata": {},
   "outputs": [],
   "source": [
    "%%script false --no-raise-error\n",
    "# templates/includes/items_models.html\n",
    "# ...\n",
    "<form method=\"POST\">\n",
    "    {{ purchase_form.hidden_tag() }}\n",
    "\n",
    "    <h4 class=\"text-center\">\n",
    "        Confirm purchasing {{ item.name }} for ${{ item.price}}.\n",
    "    </h4>\n",
    "    <br>\n",
    "    <br>\n",
    "    <h6 class=\"text-center\">\n",
    "        By clicking Confirm, you will purchase this item.\n",
    "    </h6>\n",
    "    <input id=\"purchased_item\" name=\"purchased_item\" type=\"hidden\" value=\"{{ item.name }}\">\n",
    "    {{ purchase_form.submit(class=\"btn btn-outline-success btn-block\") }}\n",
    "</form>"
   ]
  },
  {
   "cell_type": "code",
   "execution_count": null,
   "id": "31140315",
   "metadata": {},
   "outputs": [],
   "source": []
  }
 ],
 "metadata": {
  "kernelspec": {
   "display_name": "Python 3 (ipykernel)",
   "language": "python",
   "name": "python3"
  },
  "language_info": {
   "codemirror_mode": {
    "name": "ipython",
    "version": 3
   },
   "file_extension": ".py",
   "mimetype": "text/x-python",
   "name": "python",
   "nbconvert_exporter": "python",
   "pygments_lexer": "ipython3",
   "version": "3.10.8"
  },
  "toc": {
   "base_numbering": 1,
   "nav_menu": {},
   "number_sections": true,
   "sideBar": true,
   "skip_h1_title": false,
   "title_cell": "Table of Contents",
   "title_sidebar": "Contents",
   "toc_cell": false,
   "toc_position": {
    "height": "calc(100% - 180px)",
    "left": "10px",
    "top": "150px",
    "width": "256px"
   },
   "toc_section_display": true,
   "toc_window_display": true
  }
 },
 "nbformat": 4,
 "nbformat_minor": 5
}
