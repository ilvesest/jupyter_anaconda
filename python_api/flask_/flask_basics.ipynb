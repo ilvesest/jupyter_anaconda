{
 "cells": [
  {
   "cell_type": "markdown",
   "id": "8b8ee42a",
   "metadata": {},
   "source": [
    "<center><font size=\"20\">Flask Basics</font></center>"
   ]
  },
  {
   "cell_type": "markdown",
   "id": "9180fcc9",
   "metadata": {},
   "source": [
    "# Imports"
   ]
  },
  {
   "cell_type": "code",
   "execution_count": 1,
   "id": "93e62e11",
   "metadata": {},
   "outputs": [],
   "source": [
    "from flask import Flask\n",
    "\n",
    "app = Flask(__name__)"
   ]
  },
  {
   "cell_type": "markdown",
   "id": "8e79b514",
   "metadata": {},
   "source": [
    "# Definitons"
   ]
  },
  {
   "cell_type": "markdown",
   "id": "8d25e6df",
   "metadata": {},
   "source": [
    "<code></code>"
   ]
  },
  {
   "cell_type": "markdown",
   "id": "10d58271",
   "metadata": {},
   "source": [
    "* <code>\\__name__</code>: Refers to the current local file. If executed its equal to <code>\"__main__\"</code>, if imported equals to the **file name**.<br></br>\n",
    "\n",
    "* <code>@app.route(\"/\")</code>: function decorator that is called *routes* or *wheels*. Which URL the code is navigationg through and display some HTML code. Argument inside <code>@app.route(\"/\")</code> refers to webpage one is working on. <code>\"/\"</code> refs to the home page or root URLof the website.<br></br>\n",
    "\n"
   ]
  },
  {
   "cell_type": "markdown",
   "id": "7a3129bb",
   "metadata": {},
   "source": [
    "### Routes"
   ]
  },
  {
   "cell_type": "code",
   "execution_count": 2,
   "id": "5d16bcf1",
   "metadata": {},
   "outputs": [],
   "source": [
    "@app.route(\"/\") # referes to the home page of the webpage\n",
    "def hello_world() -> str:\n",
    "    return \"<h1>Hello, World!</h1>\"\n",
    "\n",
    "@app.route(\"/about\") # referes to the about page \n",
    "def about_page() -> str:\n",
    "    return \"<h1>About Page</h1>\""
   ]
  },
  {
   "cell_type": "markdown",
   "id": "1e55f9bf",
   "metadata": {},
   "source": [
    "#### Reference same route multiple ways\n",
    "Adding several route decorators we can reference the same page via different aliases or forward slash addresses. <code>\"/home\"</code> parameter will reference to the home page of the web app."
   ]
  },
  {
   "cell_type": "code",
   "execution_count": 3,
   "id": "ae1f7aa8",
   "metadata": {},
   "outputs": [],
   "source": [
    "@app.route(\"/\")\n",
    "@app.route(\"/home\")\n",
    "def home_page():\n",
    "    return render_template('home.html')"
   ]
  },
  {
   "cell_type": "markdown",
   "id": "01e3e213",
   "metadata": {},
   "source": [
    "#### Dynamic Routes\n",
    "\n",
    "Creates generic wepages per argument"
   ]
  },
  {
   "cell_type": "code",
   "execution_count": null,
   "id": "d0a77261",
   "metadata": {},
   "outputs": [],
   "source": [
    "@app.route(\"/about/<username>\")\n",
    "def about_page(username: str) _> str:\n",
    "    return f\"<h1>This is the about page of {username}</h1>\""
   ]
  },
  {
   "cell_type": "markdown",
   "id": "296e0b59",
   "metadata": {},
   "source": [
    "# Sending Data to Templates"
   ]
  },
  {
   "cell_type": "markdown",
   "id": "52be3efa",
   "metadata": {},
   "source": [
    "## Jinja2 Syntax\n",
    "We specify the <code>item_name</code> argument in the <code>.py</code> file and add <code>{{ }}</code> bracets to the <code>templates/foo.html</code> file."
   ]
  },
  {
   "cell_type": "code",
   "execution_count": 6,
   "id": "0627880d",
   "metadata": {},
   "outputs": [],
   "source": [
    "@app.route('/market')\n",
    "def market_page():\n",
    "    return render_template('market.html', item_name='Phone')"
   ]
  },
  {
   "cell_type": "code",
   "execution_count": 4,
   "id": "85ce4ed7",
   "metadata": {},
   "outputs": [
    {
     "data": {
      "text/html": [
       "<body>\n",
       "    <h1>Market Page</h1>\n",
       "    <p>{{ item_name }}</p>\n",
       "    \n",
       "    <script src=\"https://cdn.jsdelivr.net/npm/bootstrap@5.0.2/dist/js/bootstrap.bundle.min.js\" integrity=\"sha384-MrcW6ZMFYlzcLA8Nl+NtUVF0sA7MsXsP1UyJoMp4YLEuNSfAP+JcXn/tWtIaxVXM\" crossorigin=\"anonymous\"></script>\n",
       "</body>\n"
      ],
      "text/plain": [
       "<IPython.core.display.HTML object>"
      ]
     },
     "metadata": {},
     "output_type": "display_data"
    }
   ],
   "source": [
    "%%html\n",
    "<body>\n",
    "    <h1>Market Page</h1>\n",
    "    <p>{{ item_name }}</p>\n",
    "    \n",
    "    <script src=\"https://cdn.jsdelivr.net/npm/bootstrap@5.0.2/dist/js/bootstrap.bundle.min.js\" integrity=\"sha384-MrcW6ZMFYlzcLA8Nl+NtUVF0sA7MsXsP1UyJoMp4YLEuNSfAP+JcXn/tWtIaxVXM\" crossorigin=\"anonymous\"></script>\n",
    "</body>"
   ]
  },
  {
   "cell_type": "markdown",
   "id": "5ff5cc1e",
   "metadata": {},
   "source": [
    "### Bootstrap table template"
   ]
  },
  {
   "cell_type": "code",
   "execution_count": 5,
   "id": "d4b15e0b",
   "metadata": {},
   "outputs": [
    {
     "data": {
      "text/html": [
       "<table class=\"table table-hover table-dark\">\n",
       "        <thead>\n",
       "            <tr>\n",
       "                <!-- Your Columns HERE -->\n",
       "                <th scope=\"col\">ID</th>\n",
       "                <th scope=\"col\">Name</th>\n",
       "                <th scope=\"col\">Barcode</th>\n",
       "                <th scope=\"col\">Price</th>\n",
       "            </tr>\n",
       "        </thead>\n",
       "        <tbody>\n",
       "            <!-- Your rows inside the table HERE: -->\n",
       "                <tr>\n",
       "                    <td>Value for Id</td>\n",
       "                    <td>Value for Name</td>\n",
       "                    <td>Value for Barcode</td>\n",
       "                    <td>Value for Price</td>\n",
       "                </tr>\n",
       "        </tbody>\n",
       "    </table>\n"
      ],
      "text/plain": [
       "<IPython.core.display.HTML object>"
      ]
     },
     "metadata": {},
     "output_type": "display_data"
    }
   ],
   "source": [
    "%%html\n",
    "<table class=\"table table-hover table-dark\">\n",
    "        <thead>\n",
    "            <tr>\n",
    "                <!-- Your Columns HERE -->\n",
    "                <th scope=\"col\">ID</th>\n",
    "                <th scope=\"col\">Name</th>\n",
    "                <th scope=\"col\">Barcode</th>\n",
    "                <th scope=\"col\">Price</th>\n",
    "            </tr>\n",
    "        </thead>\n",
    "        <tbody>\n",
    "            <!-- Your rows inside the table HERE: -->\n",
    "                <tr>\n",
    "                    <td>Value for Id</td>\n",
    "                    <td>Value for Name</td>\n",
    "                    <td>Value for Barcode</td>\n",
    "                    <td>Value for Price</td>\n",
    "                </tr>\n",
    "        </tbody>\n",
    "    </table>"
   ]
  },
  {
   "cell_type": "markdown",
   "id": "b5551c61",
   "metadata": {},
   "source": [
    "### Iteration in Jinja2"
   ]
  },
  {
   "cell_type": "code",
   "execution_count": 11,
   "id": "64c97b2c",
   "metadata": {},
   "outputs": [],
   "source": [
    "items = [\n",
    "        {'id': 1, 'name': 'Phone', 'barcode': '893212299897', 'price': 500},\n",
    "        {'id': 2, 'name': 'Laptop', 'barcode': '123985473165', 'price': 900},\n",
    "        {'id': 3, 'name': 'Keyboard', 'barcode': '231985128446', 'price': 150}\n",
    "    ]"
   ]
  },
  {
   "cell_type": "code",
   "execution_count": 12,
   "id": "66daed5b",
   "metadata": {},
   "outputs": [
    {
     "data": {
      "text/html": [
       "<table class=\"table table-hover table-dark\">\n",
       "        <thead>\n",
       "            <tr>\n",
       "                <!-- Your Columns HERE -->\n",
       "                <th scope=\"col\">ID</th>\n",
       "                <th scope=\"col\">Name</th>\n",
       "                <th scope=\"col\">Barcode</th>\n",
       "                <th scope=\"col\">Price</th>\n",
       "            </tr>\n",
       "        </thead>\n",
       "        <tbody>\n",
       "             {% for item in items %}\n",
       "                    <tr>\n",
       "                        <td>{{ item.id }}</td>\n",
       "                        <td>{{ item.name }}</td>\n",
       "                        <td>{{ item.barcode }}</td>\n",
       "                        <td>${{ item.price }}</td>\n",
       "                    </tr>\n",
       "                {% endfor %}\n",
       "        </tbody>\n",
       "    </table>\n"
      ],
      "text/plain": [
       "<IPython.core.display.HTML object>"
      ]
     },
     "metadata": {},
     "output_type": "display_data"
    }
   ],
   "source": [
    "%%html\n",
    "<table class=\"table table-hover table-dark\">\n",
    "        <thead>\n",
    "            <tr>\n",
    "                <th scope=\"col\">ID</th>\n",
    "                <th scope=\"col\">Name</th>\n",
    "                <th scope=\"col\">Barcode</th>\n",
    "                <th sc<td>${{ item.price }}</td>ope=\"col\">Price</th>\n",
    "            </tr>\n",
    "        </thead>\n",
    "        <tbody>\n",
    "             {% for item in items %}\n",
    "                    <tr>\n",
    "                        <td>{{ item.id }}</td>\n",
    "                        <td>{{ item.name }}</td>\n",
    "                        <td>{{ item.barcode }}</td>\n",
    "                        <td>${{ item.price }}</td>\n",
    "                    </tr>\n",
    "                {% endfor %}\n",
    "        </tbody>\n",
    "    </table>"
   ]
  },
  {
   "cell_type": "markdown",
   "id": "8e464e53",
   "metadata": {},
   "source": [
    "### Adding a button"
   ]
  },
  {
   "cell_type": "code",
   "execution_count": 15,
   "id": "4adea2f9",
   "metadata": {},
   "outputs": [
    {
     "data": {
      "text/html": [
       "<h1>Market Page</h1>\n",
       "    <table class=\"table table-hover table-dark\">\n",
       "        <thead>\n",
       "            <tr>\n",
       "                <!-- Your Columns HERE -->\n",
       "                <th scope=\"col\">Name</th>\n",
       "                <th scope=\"col\">Barcode</th>\n",
       "                <th scope=\"col\">Price</th>\n",
       "                <th scope=\"col\">Options</th>\n",
       "            </tr>\n",
       "        </thead>\n",
       "        <tbody>\n",
       "            <!-- Your rows inside the table HERE: -->\n",
       "                {% for item in items %}\n",
       "                    <tr>\n",
       "                        <td>{{ item.name }}</td>\n",
       "                        <td>{{ item.barcode }}</td>\n",
       "                        <td>${{ item.price }}</td>\n",
       "                        <td>\n",
       "                            <button class=\"btn btn-outline btn-info\">More Info</button>\n",
       "                            <button class=\"btn btn-outline btn-success\">Purchase this Item</button>\n",
       "                        </td>\n",
       "                    </tr>\n",
       "                {% endfor %}\n",
       "        </tbody>\n",
       "    </table>\n"
      ],
      "text/plain": [
       "<IPython.core.display.HTML object>"
      ]
     },
     "metadata": {},
     "output_type": "display_data"
    }
   ],
   "source": [
    "%%html\n",
    "<h1>Market Page</h1>\n",
    "    <table class=\"table table-hover table-dark\">\n",
    "        <thead>\n",
    "            <tr>\n",
    "                <!-- Your Columns HERE -->\n",
    "                <th scope=\"col\">Name</th>\n",
    "                <th scope=\"col\">Barcode</th>\n",
    "                <th scope=\"col\">Price</th>\n",
    "                <th scope=\"col\">Options</th>\n",
    "            </tr>\n",
    "        </thead>\n",
    "        <tbody>\n",
    "            <!-- Your rows inside the table HERE: -->%%html\n",
    "                {% for item in items %}\n",
    "                    <tr>\n",
    "                        <td>{{ item.name }}</td>\n",
    "                        <td>{{ item.barcode }}</td>\n",
    "                        <td>${{ item.price }}</td>\n",
    "                        <td>\n",
    "                            <button class=\"btn btn-outline btn-info\">More Info</button>\n",
    "                            <button class=\"btn btn-outline btn-success\">Purchase this Item</button>\n",
    "                        </td>\n",
    "                    </tr>\n",
    "                {% endfor %}\n",
    "        </tbody>\n",
    "    </table>"
   ]
  },
  {
   "cell_type": "markdown",
   "id": "8fae3611",
   "metadata": {},
   "source": [
    "### Template Inheritage\n",
    "Using a template inheritage so some parts of the pages of a webpage are generic yet some parts are unique per page. Use special <code>jinja</code> syntax in <code>{%  %}</code> brackets in the <code>base.html</code> file. "
   ]
  },
  {
   "cell_type": "code",
   "execution_count": 1,
   "id": "3c8f876f",
   "metadata": {},
   "outputs": [
    {
     "data": {
      "text/html": [
       "<title>\n",
       "    {% block title %}\n",
       "\n",
       "    {% endblock %}\n",
       "</title>\n"
      ],
      "text/plain": [
       "<IPython.core.display.HTML object>"
      ]
     },
     "metadata": {},
     "output_type": "display_data"
    }
   ],
   "source": [
    "%%html\n",
    "<title>\n",
    "    {% block title %}\n",
    "\n",
    "    {% endblock %}\n",
    "</title>\n"
   ]
  },
  {
   "cell_type": "markdown",
   "id": "da0d6839",
   "metadata": {},
   "source": [
    "And similar syntax in the page <code>.html</code> file as follows"
   ]
  },
  {
   "cell_type": "markdown",
   "id": "4642729c",
   "metadata": {},
   "source": [
    "{% extends 'base.html' %}<br>\n",
    "{% block title %}<br>\n",
    "    Market Page<br>\n",
    "{% endblock %}<br>"
   ]
  },
  {
   "cell_type": "markdown",
   "id": "c87ae4ad",
   "metadata": {},
   "source": [
    "### Navigating The Pages By Clicking Buttons\n",
    "Need to change the <code>href</code> CSS tag programatically with jinja syntax and function <code>url_for(\"route_name\")</code> "
   ]
  },
  {
   "cell_type": "code",
   "execution_count": 3,
   "id": "9fb704e0",
   "metadata": {},
   "outputs": [
    {
     "data": {
      "text/html": [
       "<div class=\"collapse navbar-collapse\" id=\"navbarNav\">\n",
       "    <ul class=\"navbar-nav mr-auto\">\n",
       "        <li class=\"nav-item active\">\n",
       "            <a class=\"nav-link\" href=\"{{ url_for('home_page') }}\">Home <span class=\"sr-only\">(current)</span></a>\n",
       "        </li>\n",
       "        <li class=\"nav-item\">\n",
       "            <a class=\"nav-link\" href=\"{{ url_for('market_page') }}\">Market</a>\n",
       "        </li>\n",
       "    </ul>\n",
       "    <ul class=\"navbar-nav\">\n",
       "        <li class=\"nav-item\">\n",
       "            <a class=\"nav-link\" href=\"#\">Login</a>\n",
       "        </li>\n",
       "        <li class=\"nav-item\">\n",
       "            <a class=\"nav-link\" href=\"#\">Register</a>\n",
       "        </li>\n",
       "    </ul>\n",
       "</div>\n"
      ],
      "text/plain": [
       "<IPython.core.display.HTML object>"
      ]
     },
     "metadata": {},
     "output_type": "display_data"
    }
   ],
   "source": [
    "%%html\n",
    "<div class=\"collapse navbar-collapse\" id=\"navbarNav\">\n",
    "    <ul class=\"navbar-nav mr-auto\">\n",
    "        <li class=\"nav-item active\">\n",
    "            <a class=\"nav-link\" href=\"{{ url_for('home_page') }}\">Home <span class=\"sr-only\">(current)</span></a>\n",
    "        </li>\n",
    "        <li class=\"nav-item\">\n",
    "            <a class=\"nav-link\" href=\"{{ url_for('market_page') }}\">Market</a>\n",
    "        </li>\n",
    "    </ul>\n",
    "    <ul class=\"navbar-nav\">\n",
    "        <li class=\"nav-item\">\n",
    "            <a class=\"nav-link\" href=\"#\">Login</a>\n",
    "        </li>\n",
    "        <li class=\"nav-item\">\n",
    "            <a class=\"nav-link\" href=\"#\">Register</a>\n",
    "        </li>\n",
    "    </ul>\n",
    "</div>"
   ]
  },
  {
   "cell_type": "code",
   "execution_count": null,
   "id": "0049f46f",
   "metadata": {},
   "outputs": [],
   "source": []
  }
 ],
 "metadata": {
  "kernelspec": {
   "display_name": "Python 3 (ipykernel)",
   "language": "python",
   "name": "python3"
  },
  "language_info": {
   "codemirror_mode": {
    "name": "ipython",
    "version": 3
   },
   "file_extension": ".py",
   "mimetype": "text/x-python",
   "name": "python",
   "nbconvert_exporter": "python",
   "pygments_lexer": "ipython3",
   "version": "3.10.8"
  }
 },
 "nbformat": 4,
 "nbformat_minor": 5
}
