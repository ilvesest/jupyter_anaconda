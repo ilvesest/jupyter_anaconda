{
 "cells": [
  {
   "cell_type": "markdown",
   "metadata": {},
   "source": [
    "# Web Scraping mehtods"
   ]
  },
  {
   "cell_type": "markdown",
   "metadata": {},
   "source": [
    "## TABLES from webpages\n",
    "\n",
    "The \"**match**\" argument acts as regex object or a string in table. If this is not specified all tables from a webpage are returned. The index element has to be set **[0]** for correct DF printout."
   ]
  },
  {
   "cell_type": "code",
   "execution_count": 2,
   "metadata": {},
   "outputs": [
    {
     "data": {
      "text/html": [
       "<div>\n",
       "<style scoped>\n",
       "    .dataframe tbody tr th:only-of-type {\n",
       "        vertical-align: middle;\n",
       "    }\n",
       "\n",
       "    .dataframe tbody tr th {\n",
       "        vertical-align: top;\n",
       "    }\n",
       "\n",
       "    .dataframe thead th {\n",
       "        text-align: right;\n",
       "    }\n",
       "</style>\n",
       "<table border=\"1\" class=\"dataframe\">\n",
       "  <thead>\n",
       "    <tr style=\"text-align: right;\">\n",
       "      <th></th>\n",
       "      <th>Directive</th>\n",
       "      <th>Meaning</th>\n",
       "      <th>Example</th>\n",
       "      <th>Notes</th>\n",
       "    </tr>\n",
       "  </thead>\n",
       "  <tbody>\n",
       "    <tr>\n",
       "      <th>0</th>\n",
       "      <td>%a</td>\n",
       "      <td>Weekday as locale’s abbreviated name.</td>\n",
       "      <td>Sun, Mon, …, Sat (en_US); So, Mo, …, Sa (de_DE)</td>\n",
       "      <td>(1)</td>\n",
       "    </tr>\n",
       "    <tr>\n",
       "      <th>1</th>\n",
       "      <td>%A</td>\n",
       "      <td>Weekday as locale’s full name.</td>\n",
       "      <td>Sunday, Monday, …, Saturday (en_US); Sonntag, ...</td>\n",
       "      <td>(1)</td>\n",
       "    </tr>\n",
       "    <tr>\n",
       "      <th>2</th>\n",
       "      <td>%w</td>\n",
       "      <td>Weekday as a decimal number, where 0 is Sunday...</td>\n",
       "      <td>0, 1, …, 6</td>\n",
       "      <td>NaN</td>\n",
       "    </tr>\n",
       "    <tr>\n",
       "      <th>3</th>\n",
       "      <td>%d</td>\n",
       "      <td>Day of the month as a zero-padded decimal number.</td>\n",
       "      <td>01, 02, …, 31</td>\n",
       "      <td>NaN</td>\n",
       "    </tr>\n",
       "    <tr>\n",
       "      <th>4</th>\n",
       "      <td>%b</td>\n",
       "      <td>Month as locale’s abbreviated name.</td>\n",
       "      <td>Jan, Feb, …, Dec (en_US); Jan, Feb, …, Dez (de...</td>\n",
       "      <td>(1)</td>\n",
       "    </tr>\n",
       "  </tbody>\n",
       "</table>\n",
       "</div>"
      ],
      "text/plain": [
       "  Directive                                            Meaning  \\\n",
       "0        %a              Weekday as locale’s abbreviated name.   \n",
       "1        %A                     Weekday as locale’s full name.   \n",
       "2        %w  Weekday as a decimal number, where 0 is Sunday...   \n",
       "3        %d  Day of the month as a zero-padded decimal number.   \n",
       "4        %b                Month as locale’s abbreviated name.   \n",
       "\n",
       "                                             Example Notes  \n",
       "0    Sun, Mon, …, Sat (en_US); So, Mo, …, Sa (de_DE)   (1)  \n",
       "1  Sunday, Monday, …, Saturday (en_US); Sonntag, ...   (1)  \n",
       "2                                         0, 1, …, 6   NaN  \n",
       "3                                      01, 02, …, 31   NaN  \n",
       "4  Jan, Feb, …, Dec (en_US); Jan, Feb, …, Dez (de...   (1)  "
      ]
     },
     "execution_count": 2,
     "metadata": {},
     "output_type": "execute_result"
    }
   ],
   "source": [
    "import pandas as pd\n",
    "\n",
    "df = pd.read_html(io = 'https://docs.python.org/3/library/datetime.html#timezone-objects', \n",
    "                  match=\"Weekday as\", header=0)[0]\n",
    "df.head()"
   ]
  },
  {
   "cell_type": "code",
   "execution_count": null,
   "metadata": {},
   "outputs": [],
   "source": []
  }
 ],
 "metadata": {
  "kernelspec": {
   "display_name": "Python 3",
   "language": "python",
   "name": "python3"
  },
  "language_info": {
   "codemirror_mode": {
    "name": "ipython",
    "version": 3
   },
   "file_extension": ".py",
   "mimetype": "text/x-python",
   "name": "python",
   "nbconvert_exporter": "python",
   "pygments_lexer": "ipython3",
   "version": "3.7.1"
  }
 },
 "nbformat": 4,
 "nbformat_minor": 2
}
