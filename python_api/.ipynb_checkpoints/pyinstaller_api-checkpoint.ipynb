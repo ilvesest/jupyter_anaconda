{
 "cells": [
  {
   "cell_type": "markdown",
   "id": "7ed2da74",
   "metadata": {},
   "source": [
    "<center><font size='20'>PyInstaller API</font></center> "
   ]
  },
  {
   "cell_type": "code",
   "execution_count": 1,
   "id": "5ed7c65e",
   "metadata": {},
   "outputs": [],
   "source": [
    "from PyInstaller.utils.hooks import collect_data_files"
   ]
  },
  {
   "cell_type": "markdown",
   "id": "472661c2",
   "metadata": {},
   "source": [
    "# Hooks\n",
    "## collect_data_files\n",
    "* Collect all the data files in a given <code>package</code> and optional subdirectory <code>subdir</code>."
   ]
  },
  {
   "cell_type": "code",
   "execution_count": 8,
   "id": "62ea5df3",
   "metadata": {},
   "outputs": [
    {
     "name": "stdout",
     "output_type": "stream",
     "text": [
      "[('/home/tonu/Documents/data_science/jupyter_anaconda/python_api/data/iowa_house_prices/data_description.txt', 'data/iowa_house_prices'), ('/home/tonu/Documents/data_science/jupyter_anaconda/python_api/data/iowa_house_prices/data_description.txt', 'data/iowa_house_prices')]\n"
     ]
    }
   ],
   "source": [
    "datas = collect_data_files(\n",
    "    package='data', \n",
    "    subdir='iowa_house_prices', \n",
    "    excludes=['**/*.csv']\n",
    ")\n",
    "\n",
    "print(datas)"
   ]
  },
  {
   "cell_type": "code",
   "execution_count": null,
   "id": "e994221e",
   "metadata": {},
   "outputs": [],
   "source": []
  }
 ],
 "metadata": {
  "kernelspec": {
   "display_name": "Python 3 (ipykernel)",
   "language": "python",
   "name": "python3"
  },
  "language_info": {
   "codemirror_mode": {
    "name": "ipython",
    "version": 3
   },
   "file_extension": ".py",
   "mimetype": "text/x-python",
   "name": "python",
   "nbconvert_exporter": "python",
   "pygments_lexer": "ipython3",
   "version": "3.9.13"
  },
  "toc": {
   "base_numbering": 1,
   "nav_menu": {},
   "number_sections": true,
   "sideBar": true,
   "skip_h1_title": false,
   "title_cell": "Table of Contents",
   "title_sidebar": "Contents",
   "toc_cell": false,
   "toc_position": {},
   "toc_section_display": true,
   "toc_window_display": true
  }
 },
 "nbformat": 4,
 "nbformat_minor": 5
}
