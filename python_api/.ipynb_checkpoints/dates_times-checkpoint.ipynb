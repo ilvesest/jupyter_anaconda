{
 "cells": [
  {
   "cell_type": "markdown",
   "metadata": {},
   "source": [
    "# Date or Time related notes"
   ]
  },
  {
   "cell_type": "markdown",
   "metadata": {},
   "source": [
    "### Converting datetime from UTC/GMT to 'X' timezone"
   ]
  },
  {
   "cell_type": "code",
   "execution_count": 3,
   "metadata": {},
   "outputs": [
    {
     "name": "stdout",
     "output_type": "stream",
     "text": [
      "2019-02-07 00:00:00\n",
      "2019-02-07 00:00:00+00:00 UTC\n",
      "2019-02-07 02:00:00+02:00 Europe/Tallinn\n"
     ]
    }
   ],
   "source": [
    "from datetime import datetime\n",
    "import pytz\n",
    "\n",
    "# create timezone object for Estonia and UTC\n",
    "est_tz = pytz.timezone('Europe/Tallinn')\n",
    "utc_tz = pytz.timezone('UTC')\n",
    "\n",
    "# convert date to python naive datetime object\n",
    "old_date = datetime.strptime('2019-02-07 12:00AM', '%Y-%m-%d %I:%M%p')\n",
    "print(cad_time)\n",
    "\n",
    "# convert naive datetime to UTC Coordinated Universal Time\n",
    "utc_date = pytz.utc.localize(cad_time, is_dst=None)\n",
    "print(cad_utc_time, utc_tz)\n",
    "\n",
    "# convert from utz to estonian tz\n",
    "est_time = cad_utc_time.astimezone(est_tz)\n",
    "print(est_time, est_tz)\n"
   ]
  },
  {
   "cell_type": "markdown",
   "metadata": {},
   "source": [
    "### Python program to display the current date and time."
   ]
  },
  {
   "cell_type": "code",
   "execution_count": 4,
   "metadata": {},
   "outputs": [
    {
     "name": "stdout",
     "output_type": "stream",
     "text": [
      "Current date and time:\n",
      "Mon Feb  4 14:48:17 2019\n"
     ]
    }
   ],
   "source": [
    "import time\n",
    "print('Current date and time:')\n",
    "print(time.asctime())"
   ]
  },
  {
   "cell_type": "code",
   "execution_count": 5,
   "metadata": {},
   "outputs": [
    {
     "name": "stdout",
     "output_type": "stream",
     "text": [
      "Current date and time : \n",
      "2019-02-04 14:48:50\n"
     ]
    }
   ],
   "source": [
    "import datetime\n",
    "\n",
    "now = datetime.datetime.now()\n",
    "print('Current date and time : ')\n",
    "print(now.strftime(\"%Y-%m-%d %H:%M:%S\"))"
   ]
  },
  {
   "cell_type": "markdown",
   "metadata": {},
   "source": [
    "### Python program to get the system time."
   ]
  },
  {
   "cell_type": "code",
   "execution_count": 11,
   "metadata": {},
   "outputs": [
    {
     "data": {
      "text/plain": [
       "'Mon Feb  4 14:56:50 2019'"
      ]
     },
     "execution_count": 11,
     "metadata": {},
     "output_type": "execute_result"
    }
   ],
   "source": [
    "import time\n",
    "\n",
    "time.ctime()"
   ]
  },
  {
   "cell_type": "markdown",
   "metadata": {},
   "source": [
    "### Python program to calculate number of days between two dates."
   ]
  },
  {
   "cell_type": "code",
   "execution_count": 6,
   "metadata": {},
   "outputs": [
    {
     "name": "stdout",
     "output_type": "stream",
     "text": [
      "9\n"
     ]
    }
   ],
   "source": [
    "import datetime\n",
    "\n",
    "t1 = datetime.date(2014, 7, 11)\n",
    "t2 = datetime.date(2014, 7, 2)\n",
    "delta = t1 - t2\n",
    "print(delta.days)"
   ]
  },
  {
   "cell_type": "markdown",
   "metadata": {},
   "source": [
    "### Python program to sort files by date."
   ]
  },
  {
   "cell_type": "code",
   "execution_count": 8,
   "metadata": {},
   "outputs": [
    {
     "name": "stdout",
     "output_type": "stream",
     "text": [
      "Last modified: Sat Jan 12 22:18:40 2019\n",
      "Created: Fri Jan 18 14:18:49 2019\n"
     ]
    }
   ],
   "source": [
    "import os.path, time\n",
    "\n",
    "print(\"Last modified: %s\" % time.ctime(os.path.getmtime(\"python_core/class_object.ipynb\")))\n",
    "print(\"Created: %s\" % time.ctime(os.path.getctime(\"python_core/class_object.ipynb\")))"
   ]
  },
  {
   "cell_type": "code",
   "execution_count": 10,
   "metadata": {},
   "outputs": [
    {
     "name": "stdout",
     "output_type": "stream",
     "text": [
      "python_core/generators.ipynb\n",
      "python_core/subclass_assert.ipynb\n",
      "python_core/context_managers.ipynb\n",
      "python_core/class_object.ipynb\n",
      "python_core/decorators.ipynb\n"
     ]
    }
   ],
   "source": [
    "import glob\n",
    "import os\n",
    "\n",
    "# Return a possibly-empty list of path names that match pathname, \n",
    "# which must be a string containing a path specification.\n",
    "files = glob.glob(\"python_core/*.ipynb\")\n",
    "\n",
    "# sorting the list of files by their modification time\n",
    "files.sort(key=os.path.getmtime)\n",
    "\n",
    "print(\"\\n\".join(files))"
   ]
  },
  {
   "cell_type": "code",
   "execution_count": null,
   "metadata": {},
   "outputs": [],
   "source": []
  }
 ],
 "metadata": {
  "kernelspec": {
   "display_name": "Python 3",
   "language": "python",
   "name": "python3"
  },
  "language_info": {
   "codemirror_mode": {
    "name": "ipython",
    "version": 3
   },
   "file_extension": ".py",
   "mimetype": "text/x-python",
   "name": "python",
   "nbconvert_exporter": "python",
   "pygments_lexer": "ipython3",
   "version": "3.7.2"
  }
 },
 "nbformat": 4,
 "nbformat_minor": 2
}
