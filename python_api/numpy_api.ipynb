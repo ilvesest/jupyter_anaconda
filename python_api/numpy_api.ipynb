{
 "cells": [
  {
   "cell_type": "markdown",
   "id": "2f7cb895",
   "metadata": {},
   "source": [
    "**<center><font size='36'>numpy</font></center>** \n",
    "\n",
    "Notes of some useful **<code>numpy</code>** operations."
   ]
  },
  {
   "cell_type": "code",
   "execution_count": 1,
   "id": "4790759b",
   "metadata": {},
   "outputs": [],
   "source": [
    "import numpy as np\n",
    "import pandas as pd"
   ]
  },
  {
   "cell_type": "markdown",
   "id": "df4f0d99",
   "metadata": {},
   "source": [
    "# Data"
   ]
  },
  {
   "cell_type": "markdown",
   "id": "875a2014",
   "metadata": {},
   "source": [
    "## Line into Elements\n",
    "Read line of data into list of its elements by assigning **<code>delimiter</code>** argument to **<code>int</code>** to specify field with(s)>"
   ]
  },
  {
   "cell_type": "code",
   "execution_count": 10,
   "id": "fa263efd",
   "metadata": {},
   "outputs": [
    {
     "name": "stdout",
     "output_type": "stream",
     "text": [
      "1163751742\n",
      "1381373672\n",
      "2136511328\n",
      "3694931569\n",
      "7463417111\n",
      "1319128137\n",
      "1359912421\n",
      "3125421639\n",
      "1293138521\n",
      "2311944581\n"
     ]
    },
    {
     "data": {
      "text/plain": [
       "array([[1, 1, 6, 3, 7, 5, 1, 7, 4, 2],\n",
       "       [1, 3, 8, 1, 3, 7, 3, 6, 7, 2],\n",
       "       [2, 1, 3, 6, 5, 1, 1, 3, 2, 8],\n",
       "       [3, 6, 9, 4, 9, 3, 1, 5, 6, 9],\n",
       "       [7, 4, 6, 3, 4, 1, 7, 1, 1, 1],\n",
       "       [1, 3, 1, 9, 1, 2, 8, 1, 3, 7],\n",
       "       [1, 3, 5, 9, 9, 1, 2, 4, 2, 1],\n",
       "       [3, 1, 2, 5, 4, 2, 1, 6, 3, 9],\n",
       "       [1, 2, 9, 3, 1, 3, 8, 5, 2, 1],\n",
       "       [2, 3, 1, 1, 9, 4, 4, 5, 8, 1]])"
      ]
     },
     "execution_count": 10,
     "metadata": {},
     "output_type": "execute_result"
    }
   ],
   "source": [
    "# data listed by line\n",
    "for line in np.genfromtxt(\"data/pz15_test.txt\", dtype=int):\n",
    "    print(line)\n",
    "\n",
    "# data listed by list of line elments \n",
    "matrix_2d = np.genfromtxt(\"data/pz15_test.txt\", delimiter=1, dtype=int)\n",
    "matrix_2d"
   ]
  },
  {
   "cell_type": "markdown",
   "id": "95313935",
   "metadata": {},
   "source": [
    "# Routines"
   ]
  },
  {
   "cell_type": "markdown",
   "id": "ab52ccee",
   "metadata": {},
   "source": [
    "## Array creation"
   ]
  },
  {
   "cell_type": "markdown",
   "id": "79959693",
   "metadata": {},
   "source": [
    "### ones\n",
    "Return a new array of given shape and type, filled with ones."
   ]
  },
  {
   "cell_type": "code",
   "execution_count": 19,
   "id": "ef02a9e6",
   "metadata": {},
   "outputs": [
    {
     "data": {
      "text/plain": [
       "array([[1, 1, 1, 1],\n",
       "       [1, 1, 1, 1],\n",
       "       [1, 1, 1, 1],\n",
       "       [1, 1, 1, 1]])"
      ]
     },
     "execution_count": 19,
     "metadata": {},
     "output_type": "execute_result"
    }
   ],
   "source": [
    "np.ones((4,4), dtype=int)"
   ]
  },
  {
   "cell_type": "markdown",
   "id": "3fb4ce16",
   "metadata": {},
   "source": [
    "## Padding"
   ]
  },
  {
   "cell_type": "code",
   "execution_count": 11,
   "id": "88414579",
   "metadata": {},
   "outputs": [
    {
     "data": {
      "text/plain": [
       "array([[0, 0, 0, 0, 0, 0, 0, 0, 0, 0, 0, 0],\n",
       "       [0, 1, 1, 6, 3, 7, 5, 1, 7, 4, 2, 0],\n",
       "       [0, 1, 3, 8, 1, 3, 7, 3, 6, 7, 2, 0],\n",
       "       [0, 2, 1, 3, 6, 5, 1, 1, 3, 2, 8, 0],\n",
       "       [0, 3, 6, 9, 4, 9, 3, 1, 5, 6, 9, 0],\n",
       "       [0, 7, 4, 6, 3, 4, 1, 7, 1, 1, 1, 0],\n",
       "       [0, 1, 3, 1, 9, 1, 2, 8, 1, 3, 7, 0],\n",
       "       [0, 1, 3, 5, 9, 9, 1, 2, 4, 2, 1, 0],\n",
       "       [0, 3, 1, 2, 5, 4, 2, 1, 6, 3, 9, 0],\n",
       "       [0, 1, 2, 9, 3, 1, 3, 8, 5, 2, 1, 0],\n",
       "       [0, 2, 3, 1, 1, 9, 4, 4, 5, 8, 1, 0],\n",
       "       [0, 0, 0, 0, 0, 0, 0, 0, 0, 0, 0, 0]])"
      ]
     },
     "execution_count": 11,
     "metadata": {},
     "output_type": "execute_result"
    }
   ],
   "source": [
    "# pad a matrix on all four sides with a value\n",
    "np.pad(matrix_2d, ((1,1),(1,1)))"
   ]
  },
  {
   "cell_type": "markdown",
   "id": "897d51e4",
   "metadata": {},
   "source": [
    "## Sorting, Searching, Counting"
   ]
  },
  {
   "cell_type": "markdown",
   "id": "d56c54c1",
   "metadata": {},
   "source": [
    "### where"
   ]
  },
  {
   "cell_type": "code",
   "execution_count": 16,
   "id": "de8564c5",
   "metadata": {},
   "outputs": [
    {
     "name": "stdout",
     "output_type": "stream",
     "text": [
      "[[1 1 6]\n",
      " [1 3 8]\n",
      " [2 1 3]]\n",
      "---------\n",
      "[[0 0 6]\n",
      " [0 3 8]\n",
      " [0 0 3]]\n"
     ]
    }
   ],
   "source": [
    "sub_m = matrix_2d[:3,:3]\n",
    "print(sub_m)\n",
    "print('---------')\n",
    "print(np.where(sub_m < 3, 0, sub_m))"
   ]
  },
  {
   "cell_type": "markdown",
   "id": "1ad6b2eb",
   "metadata": {},
   "source": [
    "### argwhere\n",
    "Return positional indices of an array based on soem condition."
   ]
  },
  {
   "cell_type": "code",
   "execution_count": 18,
   "id": "d2572a15",
   "metadata": {},
   "outputs": [
    {
     "name": "stdout",
     "output_type": "stream",
     "text": [
      "[[1 1 6]\n",
      " [1 3 8]\n",
      " [2 1 3]]\n",
      "---------\n",
      "[[0 2]\n",
      " [1 2]]\n"
     ]
    }
   ],
   "source": [
    "print(sub_m)\n",
    "print('---------')\n",
    "print(np.argwhere(sub_m > 4))"
   ]
  },
  {
   "cell_type": "code",
   "execution_count": null,
   "id": "b36be113",
   "metadata": {},
   "outputs": [],
   "source": []
  }
 ],
 "metadata": {
  "kernelspec": {
   "display_name": "Python 3 (ipykernel)",
   "language": "python",
   "name": "python3"
  },
  "language_info": {
   "codemirror_mode": {
    "name": "ipython",
    "version": 3
   },
   "file_extension": ".py",
   "mimetype": "text/x-python",
   "name": "python",
   "nbconvert_exporter": "python",
   "pygments_lexer": "ipython3",
   "version": "3.7.9"
  },
  "latex_envs": {
   "LaTeX_envs_menu_present": true,
   "autoclose": false,
   "autocomplete": true,
   "bibliofile": "biblio.bib",
   "cite_by": "apalike",
   "current_citInitial": 1,
   "eqLabelWithNumbers": true,
   "eqNumInitial": 1,
   "hotkeys": {
    "equation": "Ctrl-E",
    "itemize": "Ctrl-I"
   },
   "labels_anchors": false,
   "latex_user_defs": false,
   "report_style_numbering": false,
   "user_envs_cfg": false
  },
  "toc": {
   "base_numbering": 1,
   "nav_menu": {},
   "number_sections": true,
   "sideBar": true,
   "skip_h1_title": false,
   "title_cell": "Table of Contents",
   "title_sidebar": "Contents",
   "toc_cell": false,
   "toc_position": {},
   "toc_section_display": true,
   "toc_window_display": false
  },
  "varInspector": {
   "cols": {
    "lenName": 16,
    "lenType": 16,
    "lenVar": 40
   },
   "kernels_config": {
    "python": {
     "delete_cmd_postfix": "",
     "delete_cmd_prefix": "del ",
     "library": "var_list.py",
     "varRefreshCmd": "print(var_dic_list())"
    },
    "r": {
     "delete_cmd_postfix": ") ",
     "delete_cmd_prefix": "rm(",
     "library": "var_list.r",
     "varRefreshCmd": "cat(var_dic_list()) "
    }
   },
   "types_to_exclude": [
    "module",
    "function",
    "builtin_function_or_method",
    "instance",
    "_Feature"
   ],
   "window_display": false
  }
 },
 "nbformat": 4,
 "nbformat_minor": 5
}
