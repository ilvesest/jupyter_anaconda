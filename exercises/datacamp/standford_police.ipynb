{
 "cells": [
  {
   "cell_type": "markdown",
   "metadata": {},
   "source": [
    "# Standford Open Policing Project dataset\n",
    "* Data obtained from [DataCamp](https://www.datacamp.com/) \"Analysing Police Activity with pandas\" course.\n",
    "* Dataset is about traffic stops by police officers\n"
   ]
  },
  {
   "cell_type": "code",
   "execution_count": null,
   "metadata": {
    "collapsed": true
   },
   "outputs": [],
   "source": []
  },
  {
   "cell_type": "code",
   "execution_count": 1,
   "metadata": {},
   "outputs": [],
   "source": [
    "#imports\n",
    "import pandas as pd\n",
    "import numpy as np"
   ]
  },
  {
   "cell_type": "markdown",
   "metadata": {},
   "source": [
    "## EDA n Cleaning"
   ]
  },
  {
   "cell_type": "code",
   "execution_count": 2,
   "metadata": {},
   "outputs": [],
   "source": [
    "#read in the .csv file with parsing separate date and time \n",
    "#columns into single column and datetime data type\n",
    "police = pd.read_csv('data/police.csv', parse_dates=[['stop_date','stop_time']])"
   ]
  },
  {
   "cell_type": "code",
   "execution_count": 3,
   "metadata": {},
   "outputs": [
    {
     "data": {
      "text/html": [
       "<div>\n",
       "<style scoped>\n",
       "    .dataframe tbody tr th:only-of-type {\n",
       "        vertical-align: middle;\n",
       "    }\n",
       "\n",
       "    .dataframe tbody tr th {\n",
       "        vertical-align: top;\n",
       "    }\n",
       "\n",
       "    .dataframe thead th {\n",
       "        text-align: right;\n",
       "    }\n",
       "</style>\n",
       "<table border=\"1\" class=\"dataframe\">\n",
       "  <thead>\n",
       "    <tr style=\"text-align: right;\">\n",
       "      <th></th>\n",
       "      <th>stop_date_stop_time</th>\n",
       "      <th>state</th>\n",
       "      <th>county_name</th>\n",
       "      <th>driver_gender</th>\n",
       "      <th>driver_race</th>\n",
       "      <th>violation_raw</th>\n",
       "      <th>violation</th>\n",
       "      <th>search_conducted</th>\n",
       "      <th>search_type</th>\n",
       "      <th>stop_outcome</th>\n",
       "      <th>is_arrested</th>\n",
       "      <th>stop_duration</th>\n",
       "      <th>drugs_related_stop</th>\n",
       "      <th>district</th>\n",
       "    </tr>\n",
       "  </thead>\n",
       "  <tbody>\n",
       "    <tr>\n",
       "      <th>0</th>\n",
       "      <td>2005-01-04 12:55:00</td>\n",
       "      <td>RI</td>\n",
       "      <td>NaN</td>\n",
       "      <td>M</td>\n",
       "      <td>White</td>\n",
       "      <td>Equipment/Inspection Violation</td>\n",
       "      <td>Equipment</td>\n",
       "      <td>False</td>\n",
       "      <td>NaN</td>\n",
       "      <td>Citation</td>\n",
       "      <td>False</td>\n",
       "      <td>0-15 Min</td>\n",
       "      <td>False</td>\n",
       "      <td>Zone X4</td>\n",
       "    </tr>\n",
       "    <tr>\n",
       "      <th>1</th>\n",
       "      <td>2005-01-23 23:15:00</td>\n",
       "      <td>RI</td>\n",
       "      <td>NaN</td>\n",
       "      <td>M</td>\n",
       "      <td>White</td>\n",
       "      <td>Speeding</td>\n",
       "      <td>Speeding</td>\n",
       "      <td>False</td>\n",
       "      <td>NaN</td>\n",
       "      <td>Citation</td>\n",
       "      <td>False</td>\n",
       "      <td>0-15 Min</td>\n",
       "      <td>False</td>\n",
       "      <td>Zone K3</td>\n",
       "    </tr>\n",
       "  </tbody>\n",
       "</table>\n",
       "</div>"
      ],
      "text/plain": [
       "  stop_date_stop_time state  county_name driver_gender driver_race  \\\n",
       "0 2005-01-04 12:55:00    RI          NaN             M       White   \n",
       "1 2005-01-23 23:15:00    RI          NaN             M       White   \n",
       "\n",
       "                    violation_raw  violation  search_conducted search_type  \\\n",
       "0  Equipment/Inspection Violation  Equipment             False         NaN   \n",
       "1                        Speeding   Speeding             False         NaN   \n",
       "\n",
       "  stop_outcome is_arrested stop_duration  drugs_related_stop district  \n",
       "0     Citation       False      0-15 Min               False  Zone X4  \n",
       "1     Citation       False      0-15 Min               False  Zone K3  "
      ]
     },
     "execution_count": 3,
     "metadata": {},
     "output_type": "execute_result"
    }
   ],
   "source": [
    "#eye-ball the columns\n",
    "police.head(2)"
   ]
  },
  {
   "cell_type": "code",
   "execution_count": 4,
   "metadata": {},
   "outputs": [
    {
     "name": "stdout",
     "output_type": "stream",
     "text": [
      "<class 'pandas.core.frame.DataFrame'>\n",
      "RangeIndex: 91741 entries, 0 to 91740\n",
      "Data columns (total 14 columns):\n",
      "stop_date_stop_time    91741 non-null datetime64[ns]\n",
      "state                  91741 non-null object\n",
      "county_name            0 non-null float64\n",
      "driver_gender          86536 non-null object\n",
      "driver_race            86539 non-null object\n",
      "violation_raw          86539 non-null object\n",
      "violation              86539 non-null object\n",
      "search_conducted       91741 non-null bool\n",
      "search_type            3307 non-null object\n",
      "stop_outcome           86539 non-null object\n",
      "is_arrested            86539 non-null object\n",
      "stop_duration          86539 non-null object\n",
      "drugs_related_stop     91741 non-null bool\n",
      "district               91741 non-null object\n",
      "dtypes: bool(2), datetime64[ns](1), float64(1), object(10)\n",
      "memory usage: 8.6+ MB\n"
     ]
    }
   ],
   "source": [
    "#summary information about the DF\n",
    "police.info()"
   ]
  },
  {
   "cell_type": "code",
   "execution_count": 5,
   "metadata": {},
   "outputs": [
    {
     "data": {
      "text/plain": [
       "stop_date_stop_time        0\n",
       "state                      0\n",
       "county_name            91741\n",
       "driver_gender           5205\n",
       "driver_race             5202\n",
       "violation_raw           5202\n",
       "violation               5202\n",
       "search_conducted           0\n",
       "search_type            88434\n",
       "stop_outcome            5202\n",
       "is_arrested             5202\n",
       "stop_duration           5202\n",
       "drugs_related_stop         0\n",
       "district                   0\n",
       "dtype: int64"
      ]
     },
     "execution_count": 5,
     "metadata": {},
     "output_type": "execute_result"
    }
   ],
   "source": [
    "#missing values summary\n",
    "police.isna().sum()"
   ]
  },
  {
   "cell_type": "code",
   "execution_count": 6,
   "metadata": {},
   "outputs": [
    {
     "data": {
      "text/plain": [
       "RI    91741\n",
       "Name: state, dtype: int64"
      ]
     },
     "execution_count": 6,
     "metadata": {},
     "output_type": "execute_result"
    }
   ],
   "source": [
    "police['state'].value_counts(dropna=False)"
   ]
  },
  {
   "cell_type": "markdown",
   "metadata": {},
   "source": [
    "* Column **'state'** is redundant - holds a single value for all rows - we can drop it."
   ]
  },
  {
   "cell_type": "code",
   "execution_count": 7,
   "metadata": {},
   "outputs": [],
   "source": [
    "#dropping 'state' column\n",
    "police.drop('state', axis='columns', inplace=True)"
   ]
  },
  {
   "cell_type": "code",
   "execution_count": 8,
   "metadata": {},
   "outputs": [
    {
     "data": {
      "text/plain": [
       "NaN    91741\n",
       "Name: county_name, dtype: int64"
      ]
     },
     "execution_count": 8,
     "metadata": {},
     "output_type": "execute_result"
    }
   ],
   "source": [
    "police.county_name.value_counts(dropna=False)"
   ]
  },
  {
   "cell_type": "code",
   "execution_count": 9,
   "metadata": {},
   "outputs": [],
   "source": [
    "#dropping column 'county_name' since\n",
    "#it contains nothing but NaN-s\n",
    "police.drop('county_name', axis='columns', inplace=True)"
   ]
  },
  {
   "cell_type": "code",
   "execution_count": 10,
   "metadata": {},
   "outputs": [
    {
     "name": "stdout",
     "output_type": "stream",
     "text": [
      "M      62762\n",
      "F      23774\n",
      "NaN     5205\n",
      "Name: driver_gender, dtype: int64\n"
     ]
    }
   ],
   "source": [
    "print(police['driver_gender'].value_counts(dropna=False))"
   ]
  },
  {
   "cell_type": "code",
   "execution_count": 11,
   "metadata": {},
   "outputs": [
    {
     "name": "stdout",
     "output_type": "stream",
     "text": [
      "White       61872\n",
      "Black       12285\n",
      "Hispanic     9727\n",
      "NaN          5202\n",
      "Asian        2390\n",
      "Other         265\n",
      "Name: driver_race, dtype: int64\n"
     ]
    }
   ],
   "source": [
    "print(police['driver_race'].value_counts(dropna=False))"
   ]
  },
  {
   "cell_type": "code",
   "execution_count": 12,
   "metadata": {},
   "outputs": [
    {
     "name": "stdout",
     "output_type": "stream",
     "text": [
      "Speeding                            48424\n",
      "Other Traffic Violation             16224\n",
      "Equipment/Inspection Violation      10922\n",
      "NaN                                  5202\n",
      "Registration Violation               3703\n",
      "Seatbelt Violation                   2856\n",
      "Special Detail/Directed Patrol       2467\n",
      "Call for Service                     1392\n",
      "Motorist Assist/Courtesy              205\n",
      "Violation of City/Town Ordinance      181\n",
      "APB                                    91\n",
      "Suspicious Person                      56\n",
      "Warrant                                18\n",
      "Name: violation_raw, dtype: int64\n"
     ]
    }
   ],
   "source": [
    "print(police['violation_raw'].value_counts(dropna=False))"
   ]
  },
  {
   "cell_type": "code",
   "execution_count": 13,
   "metadata": {},
   "outputs": [
    {
     "name": "stdout",
     "output_type": "stream",
     "text": [
      "Speeding               48424\n",
      "Moving violation       16224\n",
      "Equipment              10922\n",
      "NaN                     5202\n",
      "Other                   4410\n",
      "Registration/plates     3703\n",
      "Seat belt               2856\n",
      "Name: violation, dtype: int64\n"
     ]
    }
   ],
   "source": [
    "print(police['violation'].value_counts(dropna=False))"
   ]
  },
  {
   "cell_type": "code",
   "execution_count": 14,
   "metadata": {},
   "outputs": [
    {
     "name": "stdout",
     "output_type": "stream",
     "text": [
      "False    88434\n",
      "True      3307\n",
      "Name: search_conducted, dtype: int64\n"
     ]
    }
   ],
   "source": [
    "print(police['search_conducted'].value_counts(dropna=False))"
   ]
  },
  {
   "cell_type": "code",
   "execution_count": 15,
   "metadata": {},
   "outputs": [
    {
     "name": "stdout",
     "output_type": "stream",
     "text": [
      "NaN                                                         88434\n",
      "Incident to Arrest                                           1290\n",
      "Probable Cause                                                924\n",
      "Inventory                                                     219\n",
      "Reasonable Suspicion                                          214\n",
      "Protective Frisk                                              164\n",
      "Incident to Arrest,Inventory                                  123\n",
      "Incident to Arrest,Probable Cause                             100\n",
      "Probable Cause,Reasonable Suspicion                            54\n",
      "Probable Cause,Protective Frisk                                35\n",
      "Incident to Arrest,Inventory,Probable Cause                    35\n",
      "Incident to Arrest,Protective Frisk                            33\n",
      "Inventory,Probable Cause                                       25\n",
      "Protective Frisk,Reasonable Suspicion                          19\n",
      "Incident to Arrest,Inventory,Protective Frisk                  18\n",
      "Incident to Arrest,Probable Cause,Protective Frisk             13\n",
      "Inventory,Protective Frisk                                     12\n",
      "Incident to Arrest,Reasonable Suspicion                         8\n",
      "Incident to Arrest,Probable Cause,Reasonable Suspicion          5\n",
      "Probable Cause,Protective Frisk,Reasonable Suspicion            5\n",
      "Incident to Arrest,Inventory,Reasonable Suspicion               4\n",
      "Incident to Arrest,Protective Frisk,Reasonable Suspicion        2\n",
      "Inventory,Reasonable Suspicion                                  2\n",
      "Inventory,Probable Cause,Protective Frisk                       1\n",
      "Inventory,Probable Cause,Reasonable Suspicion                   1\n",
      "Inventory,Protective Frisk,Reasonable Suspicion                 1\n",
      "Name: search_type, dtype: int64\n"
     ]
    }
   ],
   "source": [
    "print(police['search_type'].value_counts(dropna=False))"
   ]
  },
  {
   "cell_type": "code",
   "execution_count": 16,
   "metadata": {},
   "outputs": [
    {
     "name": "stdout",
     "output_type": "stream",
     "text": [
      "Citation            77092\n",
      "NaN                  5202\n",
      "Warning              5137\n",
      "Arrest Driver        2735\n",
      "No Action             625\n",
      "N/D                   607\n",
      "Arrest Passenger      343\n",
      "Name: stop_outcome, dtype: int64\n"
     ]
    }
   ],
   "source": [
    "print(police['stop_outcome'].value_counts(dropna=False))"
   ]
  },
  {
   "cell_type": "code",
   "execution_count": 17,
   "metadata": {},
   "outputs": [
    {
     "name": "stdout",
     "output_type": "stream",
     "text": [
      "False    83461\n",
      "NaN       5202\n",
      "True      3078\n",
      "Name: is_arrested, dtype: int64\n"
     ]
    }
   ],
   "source": [
    "print(police['is_arrested'].value_counts(dropna=False))"
   ]
  },
  {
   "cell_type": "code",
   "execution_count": 18,
   "metadata": {},
   "outputs": [
    {
     "name": "stdout",
     "output_type": "stream",
     "text": [
      "0-15 Min     69579\n",
      "16-30 Min    13740\n",
      "NaN           5202\n",
      "30+ Min       3220\n",
      "Name: stop_duration, dtype: int64\n"
     ]
    }
   ],
   "source": [
    "print(police['stop_duration'].value_counts(dropna=False))"
   ]
  },
  {
   "cell_type": "code",
   "execution_count": 19,
   "metadata": {},
   "outputs": [
    {
     "name": "stdout",
     "output_type": "stream",
     "text": [
      "False    90879\n",
      "True       862\n",
      "Name: drugs_related_stop, dtype: int64\n"
     ]
    }
   ],
   "source": [
    "print(police['drugs_related_stop'].value_counts(dropna=False))"
   ]
  },
  {
   "cell_type": "code",
   "execution_count": 20,
   "metadata": {},
   "outputs": [
    {
     "name": "stdout",
     "output_type": "stream",
     "text": [
      "Zone X4    24279\n",
      "Zone K3    20405\n",
      "Zone K2    18397\n",
      "Zone X3    17013\n",
      "Zone K1     8678\n",
      "Zone X1     2969\n",
      "Name: district, dtype: int64\n"
     ]
    }
   ],
   "source": [
    "print(police['district'].value_counts(dropna=False))"
   ]
  },
  {
   "cell_type": "markdown",
   "metadata": {},
   "source": [
    "After initial data exploration we: <br> \n",
    "* removed **2** columns\n",
    "* noticed there are exactly **5202** NaN values for 6-7 columns. Meaning, if these NaN values are shared for the same observations we need to delete these rows.\n",
    "* the **'search_type'** field only has 3.6% other than NaN values. We need to decide if we should keep that column or not.\n",
    "* we might want to sample down **'violation_raw'** values."
   ]
  },
  {
   "cell_type": "code",
   "execution_count": 21,
   "metadata": {},
   "outputs": [
    {
     "name": "stdout",
     "output_type": "stream",
     "text": [
      "<class 'pandas.core.frame.DataFrame'>\n",
      "RangeIndex: 91741 entries, 0 to 91740\n",
      "Data columns (total 12 columns):\n",
      "stop_date_stop_time    91741 non-null datetime64[ns]\n",
      "driver_gender          86536 non-null object\n",
      "driver_race            86539 non-null object\n",
      "violation_raw          86539 non-null object\n",
      "violation              86539 non-null object\n",
      "search_conducted       91741 non-null bool\n",
      "search_type            3307 non-null object\n",
      "stop_outcome           86539 non-null object\n",
      "is_arrested            86539 non-null object\n",
      "stop_duration          86539 non-null object\n",
      "drugs_related_stop     91741 non-null bool\n",
      "district               91741 non-null object\n",
      "dtypes: bool(2), datetime64[ns](1), object(9)\n",
      "memory usage: 7.2+ MB\n"
     ]
    }
   ],
   "source": [
    "#examine what DF after removing 2 columns\n",
    "police.info()"
   ]
  },
  {
   "cell_type": "markdown",
   "metadata": {},
   "source": [
    "### Missing Values\n",
    "By looking at DF <code>info()</code>, we see that there are 5202+ **NaN** values for 7 columns:\n",
    "* driver_gender\n",
    "* driver_race\n",
    "* violation_raw\n",
    "* violation\n",
    "* stop_outcome\n",
    "* is_arrested\n",
    "* stop_duration <br>\n",
    "This may indicate that these NaN values are shared by all of those columns at the same time. Meaning, if it is True we can eliminate those redundant rows since they contain too little information per observation. The **'driver_gender'** column has 3 more NaN values but these seem to be legimate NaN-s. First let's examine if those NaN values are indeed shared."
   ]
  },
  {
   "cell_type": "code",
   "execution_count": 22,
   "metadata": {},
   "outputs": [
    {
     "data": {
      "text/html": [
       "<div>\n",
       "<style scoped>\n",
       "    .dataframe tbody tr th:only-of-type {\n",
       "        vertical-align: middle;\n",
       "    }\n",
       "\n",
       "    .dataframe tbody tr th {\n",
       "        vertical-align: top;\n",
       "    }\n",
       "\n",
       "    .dataframe thead th {\n",
       "        text-align: right;\n",
       "    }\n",
       "</style>\n",
       "<table border=\"1\" class=\"dataframe\">\n",
       "  <thead>\n",
       "    <tr style=\"text-align: right;\">\n",
       "      <th></th>\n",
       "      <th>driver_gender</th>\n",
       "      <th>driver_race</th>\n",
       "      <th>violation_raw</th>\n",
       "      <th>violation</th>\n",
       "      <th>stop_outcome</th>\n",
       "      <th>is_arrested</th>\n",
       "      <th>stop_duration</th>\n",
       "    </tr>\n",
       "  </thead>\n",
       "  <tbody>\n",
       "    <tr>\n",
       "      <th>0</th>\n",
       "      <td>M</td>\n",
       "      <td>White</td>\n",
       "      <td>Equipment/Inspection Violation</td>\n",
       "      <td>Equipment</td>\n",
       "      <td>Citation</td>\n",
       "      <td>False</td>\n",
       "      <td>0-15 Min</td>\n",
       "    </tr>\n",
       "    <tr>\n",
       "      <th>20000</th>\n",
       "      <td>M</td>\n",
       "      <td>White</td>\n",
       "      <td>Other Traffic Violation</td>\n",
       "      <td>Moving violation</td>\n",
       "      <td>Citation</td>\n",
       "      <td>False</td>\n",
       "      <td>0-15 Min</td>\n",
       "    </tr>\n",
       "    <tr>\n",
       "      <th>40000</th>\n",
       "      <td>F</td>\n",
       "      <td>White</td>\n",
       "      <td>Other Traffic Violation</td>\n",
       "      <td>Moving violation</td>\n",
       "      <td>Warning</td>\n",
       "      <td>False</td>\n",
       "      <td>0-15 Min</td>\n",
       "    </tr>\n",
       "    <tr>\n",
       "      <th>60000</th>\n",
       "      <td>M</td>\n",
       "      <td>Black</td>\n",
       "      <td>Equipment/Inspection Violation</td>\n",
       "      <td>Equipment</td>\n",
       "      <td>Citation</td>\n",
       "      <td>False</td>\n",
       "      <td>0-15 Min</td>\n",
       "    </tr>\n",
       "    <tr>\n",
       "      <th>80000</th>\n",
       "      <td>F</td>\n",
       "      <td>White</td>\n",
       "      <td>Speeding</td>\n",
       "      <td>Speeding</td>\n",
       "      <td>Citation</td>\n",
       "      <td>False</td>\n",
       "      <td>16-30 Min</td>\n",
       "    </tr>\n",
       "  </tbody>\n",
       "</table>\n",
       "</div>"
      ],
      "text/plain": [
       "      driver_gender driver_race                   violation_raw  \\\n",
       "0                 M       White  Equipment/Inspection Violation   \n",
       "20000             M       White         Other Traffic Violation   \n",
       "40000             F       White         Other Traffic Violation   \n",
       "60000             M       Black  Equipment/Inspection Violation   \n",
       "80000             F       White                        Speeding   \n",
       "\n",
       "              violation stop_outcome is_arrested stop_duration  \n",
       "0             Equipment     Citation       False      0-15 Min  \n",
       "20000  Moving violation     Citation       False      0-15 Min  \n",
       "40000  Moving violation      Warning       False      0-15 Min  \n",
       "60000         Equipment     Citation       False      0-15 Min  \n",
       "80000          Speeding     Citation       False     16-30 Min  "
      ]
     },
     "execution_count": 22,
     "metadata": {},
     "output_type": "execute_result"
    }
   ],
   "source": [
    "#select DF with these columns only\n",
    "police_nans = police[['driver_gender','driver_race','violation_raw',\n",
    "                     'violation', 'stop_outcome','is_arrested','stop_duration']]\n",
    "#visualize every 20k-th row\n",
    "police_nans.iloc[::20000,]"
   ]
  },
  {
   "cell_type": "code",
   "execution_count": 23,
   "metadata": {},
   "outputs": [
    {
     "data": {
      "text/html": [
       "<div>\n",
       "<style scoped>\n",
       "    .dataframe tbody tr th:only-of-type {\n",
       "        vertical-align: middle;\n",
       "    }\n",
       "\n",
       "    .dataframe tbody tr th {\n",
       "        vertical-align: top;\n",
       "    }\n",
       "\n",
       "    .dataframe thead th {\n",
       "        text-align: right;\n",
       "    }\n",
       "</style>\n",
       "<table border=\"1\" class=\"dataframe\">\n",
       "  <thead>\n",
       "    <tr style=\"text-align: right;\">\n",
       "      <th></th>\n",
       "      <th>driver_gender</th>\n",
       "      <th>driver_race</th>\n",
       "      <th>violation_raw</th>\n",
       "      <th>violation</th>\n",
       "      <th>stop_outcome</th>\n",
       "      <th>is_arrested</th>\n",
       "      <th>stop_duration</th>\n",
       "    </tr>\n",
       "  </thead>\n",
       "  <tbody>\n",
       "    <tr>\n",
       "      <th>15</th>\n",
       "      <td>NaN</td>\n",
       "      <td>NaN</td>\n",
       "      <td>NaN</td>\n",
       "      <td>NaN</td>\n",
       "      <td>NaN</td>\n",
       "      <td>NaN</td>\n",
       "      <td>NaN</td>\n",
       "    </tr>\n",
       "    <tr>\n",
       "      <th>130</th>\n",
       "      <td>NaN</td>\n",
       "      <td>NaN</td>\n",
       "      <td>NaN</td>\n",
       "      <td>NaN</td>\n",
       "      <td>NaN</td>\n",
       "      <td>NaN</td>\n",
       "      <td>NaN</td>\n",
       "    </tr>\n",
       "    <tr>\n",
       "      <th>209</th>\n",
       "      <td>NaN</td>\n",
       "      <td>NaN</td>\n",
       "      <td>NaN</td>\n",
       "      <td>NaN</td>\n",
       "      <td>NaN</td>\n",
       "      <td>NaN</td>\n",
       "      <td>NaN</td>\n",
       "    </tr>\n",
       "    <tr>\n",
       "      <th>291</th>\n",
       "      <td>NaN</td>\n",
       "      <td>NaN</td>\n",
       "      <td>NaN</td>\n",
       "      <td>NaN</td>\n",
       "      <td>NaN</td>\n",
       "      <td>NaN</td>\n",
       "      <td>NaN</td>\n",
       "    </tr>\n",
       "    <tr>\n",
       "      <th>331</th>\n",
       "      <td>NaN</td>\n",
       "      <td>NaN</td>\n",
       "      <td>NaN</td>\n",
       "      <td>NaN</td>\n",
       "      <td>NaN</td>\n",
       "      <td>NaN</td>\n",
       "      <td>NaN</td>\n",
       "    </tr>\n",
       "    <tr>\n",
       "      <th>...</th>\n",
       "      <td>...</td>\n",
       "      <td>...</td>\n",
       "      <td>...</td>\n",
       "      <td>...</td>\n",
       "      <td>...</td>\n",
       "      <td>...</td>\n",
       "      <td>...</td>\n",
       "    </tr>\n",
       "    <tr>\n",
       "      <th>91595</th>\n",
       "      <td>NaN</td>\n",
       "      <td>NaN</td>\n",
       "      <td>NaN</td>\n",
       "      <td>NaN</td>\n",
       "      <td>NaN</td>\n",
       "      <td>NaN</td>\n",
       "      <td>NaN</td>\n",
       "    </tr>\n",
       "    <tr>\n",
       "      <th>91611</th>\n",
       "      <td>NaN</td>\n",
       "      <td>NaN</td>\n",
       "      <td>NaN</td>\n",
       "      <td>NaN</td>\n",
       "      <td>NaN</td>\n",
       "      <td>NaN</td>\n",
       "      <td>NaN</td>\n",
       "    </tr>\n",
       "    <tr>\n",
       "      <th>91711</th>\n",
       "      <td>NaN</td>\n",
       "      <td>NaN</td>\n",
       "      <td>NaN</td>\n",
       "      <td>NaN</td>\n",
       "      <td>NaN</td>\n",
       "      <td>NaN</td>\n",
       "      <td>NaN</td>\n",
       "    </tr>\n",
       "    <tr>\n",
       "      <th>91713</th>\n",
       "      <td>NaN</td>\n",
       "      <td>NaN</td>\n",
       "      <td>NaN</td>\n",
       "      <td>NaN</td>\n",
       "      <td>NaN</td>\n",
       "      <td>NaN</td>\n",
       "      <td>NaN</td>\n",
       "    </tr>\n",
       "    <tr>\n",
       "      <th>91724</th>\n",
       "      <td>NaN</td>\n",
       "      <td>NaN</td>\n",
       "      <td>NaN</td>\n",
       "      <td>NaN</td>\n",
       "      <td>NaN</td>\n",
       "      <td>NaN</td>\n",
       "      <td>NaN</td>\n",
       "    </tr>\n",
       "  </tbody>\n",
       "</table>\n",
       "<p>5202 rows × 7 columns</p>\n",
       "</div>"
      ],
      "text/plain": [
       "      driver_gender driver_race violation_raw violation stop_outcome  \\\n",
       "15              NaN         NaN           NaN       NaN          NaN   \n",
       "130             NaN         NaN           NaN       NaN          NaN   \n",
       "209             NaN         NaN           NaN       NaN          NaN   \n",
       "291             NaN         NaN           NaN       NaN          NaN   \n",
       "331             NaN         NaN           NaN       NaN          NaN   \n",
       "...             ...         ...           ...       ...          ...   \n",
       "91595           NaN         NaN           NaN       NaN          NaN   \n",
       "91611           NaN         NaN           NaN       NaN          NaN   \n",
       "91711           NaN         NaN           NaN       NaN          NaN   \n",
       "91713           NaN         NaN           NaN       NaN          NaN   \n",
       "91724           NaN         NaN           NaN       NaN          NaN   \n",
       "\n",
       "      is_arrested stop_duration  \n",
       "15            NaN           NaN  \n",
       "130           NaN           NaN  \n",
       "209           NaN           NaN  \n",
       "291           NaN           NaN  \n",
       "331           NaN           NaN  \n",
       "...           ...           ...  \n",
       "91595         NaN           NaN  \n",
       "91611         NaN           NaN  \n",
       "91711         NaN           NaN  \n",
       "91713         NaN           NaN  \n",
       "91724         NaN           NaN  \n",
       "\n",
       "[5202 rows x 7 columns]"
      ]
     },
     "execution_count": 23,
     "metadata": {},
     "output_type": "execute_result"
    }
   ],
   "source": [
    "#capture indices where all rows are NaN-s. \n",
    "idx = police_nans.index[police_nans.isnull().all('columns')]\n",
    "\n",
    "#subset of such rows\n",
    "police_nans.iloc[idx,]"
   ]
  },
  {
   "cell_type": "markdown",
   "metadata": {},
   "source": [
    "The function <code>all('columns')</code> assures that every single column has a <code>NaN</code> value per row. And since we found 5202 of such rows we can delete these rows by **index** from the DF and re-index it."
   ]
  },
  {
   "cell_type": "code",
   "execution_count": 24,
   "metadata": {},
   "outputs": [],
   "source": [
    "#removing rows from the DF where 7 columns have NaN values\n",
    "police2 = police.drop(idx, axis='index')"
   ]
  },
  {
   "cell_type": "code",
   "execution_count": 25,
   "metadata": {},
   "outputs": [
    {
     "name": "stdout",
     "output_type": "stream",
     "text": [
      "<class 'pandas.core.frame.DataFrame'>\n",
      "Int64Index: 86539 entries, 0 to 91740\n",
      "Data columns (total 12 columns):\n",
      "stop_date_stop_time    86539 non-null datetime64[ns]\n",
      "driver_gender          86536 non-null object\n",
      "driver_race            86539 non-null object\n",
      "violation_raw          86539 non-null object\n",
      "violation              86539 non-null object\n",
      "search_conducted       86539 non-null bool\n",
      "search_type            3307 non-null object\n",
      "stop_outcome           86539 non-null object\n",
      "is_arrested            86539 non-null object\n",
      "stop_duration          86539 non-null object\n",
      "drugs_related_stop     86539 non-null bool\n",
      "district               86539 non-null object\n",
      "dtypes: bool(2), datetime64[ns](1), object(9)\n",
      "memory usage: 7.4+ MB\n"
     ]
    }
   ],
   "source": [
    "police2.info()"
   ]
  },
  {
   "cell_type": "markdown",
   "metadata": {},
   "source": [
    "We have missing values for:\n",
    "* **driver_gender**\n",
    "* **search_type**"
   ]
  },
  {
   "cell_type": "code",
   "execution_count": 26,
   "metadata": {},
   "outputs": [
    {
     "data": {
      "text/html": [
       "<div>\n",
       "<style scoped>\n",
       "    .dataframe tbody tr th:only-of-type {\n",
       "        vertical-align: middle;\n",
       "    }\n",
       "\n",
       "    .dataframe tbody tr th {\n",
       "        vertical-align: top;\n",
       "    }\n",
       "\n",
       "    .dataframe thead th {\n",
       "        text-align: right;\n",
       "    }\n",
       "</style>\n",
       "<table border=\"1\" class=\"dataframe\">\n",
       "  <thead>\n",
       "    <tr style=\"text-align: right;\">\n",
       "      <th></th>\n",
       "      <th>stop_date_stop_time</th>\n",
       "      <th>driver_gender</th>\n",
       "      <th>driver_race</th>\n",
       "      <th>violation_raw</th>\n",
       "      <th>violation</th>\n",
       "      <th>search_conducted</th>\n",
       "      <th>search_type</th>\n",
       "      <th>stop_outcome</th>\n",
       "      <th>is_arrested</th>\n",
       "      <th>stop_duration</th>\n",
       "      <th>drugs_related_stop</th>\n",
       "      <th>district</th>\n",
       "    </tr>\n",
       "  </thead>\n",
       "  <tbody>\n",
       "    <tr>\n",
       "      <th>34306</th>\n",
       "      <td>2009-04-25 23:33:00</td>\n",
       "      <td>NaN</td>\n",
       "      <td>White</td>\n",
       "      <td>Equipment/Inspection Violation</td>\n",
       "      <td>Equipment</td>\n",
       "      <td>False</td>\n",
       "      <td>NaN</td>\n",
       "      <td>Warning</td>\n",
       "      <td>False</td>\n",
       "      <td>0-15 Min</td>\n",
       "      <td>False</td>\n",
       "      <td>Zone K1</td>\n",
       "    </tr>\n",
       "    <tr>\n",
       "      <th>39818</th>\n",
       "      <td>2010-01-23 00:02:00</td>\n",
       "      <td>NaN</td>\n",
       "      <td>Asian</td>\n",
       "      <td>Speeding</td>\n",
       "      <td>Speeding</td>\n",
       "      <td>False</td>\n",
       "      <td>NaN</td>\n",
       "      <td>Citation</td>\n",
       "      <td>False</td>\n",
       "      <td>0-15 Min</td>\n",
       "      <td>False</td>\n",
       "      <td>Zone K3</td>\n",
       "    </tr>\n",
       "    <tr>\n",
       "      <th>89024</th>\n",
       "      <td>2015-09-08 18:29:00</td>\n",
       "      <td>NaN</td>\n",
       "      <td>White</td>\n",
       "      <td>Call for Service</td>\n",
       "      <td>Other</td>\n",
       "      <td>False</td>\n",
       "      <td>NaN</td>\n",
       "      <td>No Action</td>\n",
       "      <td>False</td>\n",
       "      <td>30+ Min</td>\n",
       "      <td>False</td>\n",
       "      <td>Zone K3</td>\n",
       "    </tr>\n",
       "  </tbody>\n",
       "</table>\n",
       "</div>"
      ],
      "text/plain": [
       "      stop_date_stop_time driver_gender driver_race  \\\n",
       "34306 2009-04-25 23:33:00           NaN       White   \n",
       "39818 2010-01-23 00:02:00           NaN       Asian   \n",
       "89024 2015-09-08 18:29:00           NaN       White   \n",
       "\n",
       "                        violation_raw  violation  search_conducted  \\\n",
       "34306  Equipment/Inspection Violation  Equipment             False   \n",
       "39818                        Speeding   Speeding             False   \n",
       "89024                Call for Service      Other             False   \n",
       "\n",
       "      search_type stop_outcome is_arrested stop_duration  drugs_related_stop  \\\n",
       "34306         NaN      Warning       False      0-15 Min               False   \n",
       "39818         NaN     Citation       False      0-15 Min               False   \n",
       "89024         NaN    No Action       False       30+ Min               False   \n",
       "\n",
       "      district  \n",
       "34306  Zone K1  \n",
       "39818  Zone K3  \n",
       "89024  Zone K3  "
      ]
     },
     "execution_count": 26,
     "metadata": {},
     "output_type": "execute_result"
    }
   ],
   "source": [
    "#inspect missing 'driver_gender' observations\n",
    "police2[police2.driver_gender.isna()]"
   ]
  },
  {
   "cell_type": "markdown",
   "metadata": {},
   "source": [
    "It is difficult/unpractical to **impute** the missing driver_gender values, thus we opt for the simplest solution to just remove these rows as well. And since the dataset is 85k observations long we do not lose much information while doing that."
   ]
  },
  {
   "cell_type": "code",
   "execution_count": 27,
   "metadata": {},
   "outputs": [],
   "source": [
    "#index values for NaN-s\n",
    "ndx = police2[police2.driver_gender.isna()].index\n",
    "\n",
    "#remove remaining 'driver_gender' NaN-s\n",
    "police2.drop(ndx, axis='index', inplace=True)"
   ]
  },
  {
   "cell_type": "code",
   "execution_count": 28,
   "metadata": {},
   "outputs": [
    {
     "name": "stdout",
     "output_type": "stream",
     "text": [
      "Length of the DF: 86536\n"
     ]
    }
   ],
   "source": [
    "#check if these values are indeed missing now\n",
    "print('Length of the DF:',len(police2))"
   ]
  },
  {
   "cell_type": "code",
   "execution_count": 29,
   "metadata": {},
   "outputs": [
    {
     "data": {
      "text/html": [
       "<div>\n",
       "<style scoped>\n",
       "    .dataframe tbody tr th:only-of-type {\n",
       "        vertical-align: middle;\n",
       "    }\n",
       "\n",
       "    .dataframe tbody tr th {\n",
       "        vertical-align: top;\n",
       "    }\n",
       "\n",
       "    .dataframe thead th {\n",
       "        text-align: right;\n",
       "    }\n",
       "</style>\n",
       "<table border=\"1\" class=\"dataframe\">\n",
       "  <thead>\n",
       "    <tr style=\"text-align: right;\">\n",
       "      <th></th>\n",
       "      <th>stop_date_stop_time</th>\n",
       "      <th>driver_gender</th>\n",
       "      <th>driver_race</th>\n",
       "      <th>violation_raw</th>\n",
       "      <th>violation</th>\n",
       "      <th>search_conducted</th>\n",
       "      <th>search_type</th>\n",
       "      <th>stop_outcome</th>\n",
       "      <th>is_arrested</th>\n",
       "      <th>stop_duration</th>\n",
       "      <th>drugs_related_stop</th>\n",
       "      <th>district</th>\n",
       "    </tr>\n",
       "  </thead>\n",
       "  <tbody>\n",
       "  </tbody>\n",
       "</table>\n",
       "</div>"
      ],
      "text/plain": [
       "Empty DataFrame\n",
       "Columns: [stop_date_stop_time, driver_gender, driver_race, violation_raw, violation, search_conducted, search_type, stop_outcome, is_arrested, stop_duration, drugs_related_stop, district]\n",
       "Index: []"
      ]
     },
     "execution_count": 29,
     "metadata": {},
     "output_type": "execute_result"
    }
   ],
   "source": [
    "police2[police2.driver_gender.isna()]"
   ]
  },
  {
   "cell_type": "markdown",
   "metadata": {},
   "source": [
    "**search_conducted**"
   ]
  },
  {
   "cell_type": "code",
   "execution_count": 30,
   "metadata": {},
   "outputs": [
    {
     "data": {
      "text/plain": [
       "False    83229\n",
       "True      3307\n",
       "Name: search_conducted, dtype: int64"
      ]
     },
     "execution_count": 30,
     "metadata": {},
     "output_type": "execute_result"
    }
   ],
   "source": [
    "police2.search_conducted.value_counts(dropna=False)"
   ]
  },
  {
   "cell_type": "code",
   "execution_count": 31,
   "metadata": {},
   "outputs": [
    {
     "data": {
      "text/plain": [
       "NaN                                                         83229\n",
       "Incident to Arrest                                           1290\n",
       "Probable Cause                                                924\n",
       "Inventory                                                     219\n",
       "Reasonable Suspicion                                          214\n",
       "Protective Frisk                                              164\n",
       "Incident to Arrest,Inventory                                  123\n",
       "Incident to Arrest,Probable Cause                             100\n",
       "Probable Cause,Reasonable Suspicion                            54\n",
       "Probable Cause,Protective Frisk                                35\n",
       "Incident to Arrest,Inventory,Probable Cause                    35\n",
       "Incident to Arrest,Protective Frisk                            33\n",
       "Inventory,Probable Cause                                       25\n",
       "Protective Frisk,Reasonable Suspicion                          19\n",
       "Incident to Arrest,Inventory,Protective Frisk                  18\n",
       "Incident to Arrest,Probable Cause,Protective Frisk             13\n",
       "Inventory,Protective Frisk                                     12\n",
       "Incident to Arrest,Reasonable Suspicion                         8\n",
       "Incident to Arrest,Probable Cause,Reasonable Suspicion          5\n",
       "Probable Cause,Protective Frisk,Reasonable Suspicion            5\n",
       "Incident to Arrest,Inventory,Reasonable Suspicion               4\n",
       "Incident to Arrest,Protective Frisk,Reasonable Suspicion        2\n",
       "Inventory,Reasonable Suspicion                                  2\n",
       "Inventory,Probable Cause,Protective Frisk                       1\n",
       "Inventory,Probable Cause,Reasonable Suspicion                   1\n",
       "Inventory,Protective Frisk,Reasonable Suspicion                 1\n",
       "Name: search_type, dtype: int64"
      ]
     },
     "execution_count": 31,
     "metadata": {},
     "output_type": "execute_result"
    }
   ],
   "source": [
    "police2.search_type.value_counts(dropna=False)"
   ]
  },
  {
   "cell_type": "markdown",
   "metadata": {},
   "source": [
    "### Down-sampling\n",
    "We want to downsample values that contribute to the total observation less than, lets say **3%** into a single let say *'Other'* category."
   ]
  },
  {
   "cell_type": "markdown",
   "metadata": {},
   "source": [
    "*violation_raw* should be downsampled by value counts. "
   ]
  },
  {
   "cell_type": "code",
   "execution_count": 32,
   "metadata": {},
   "outputs": [
    {
     "data": {
      "text/plain": [
       "Speeding                            0.559571\n",
       "Other Traffic Violation             0.187483\n",
       "Equipment/Inspection Violation      0.126202\n",
       "Registration Violation              0.042791\n",
       "Seatbelt Violation                  0.033004\n",
       "Special Detail/Directed Patrol      0.028508\n",
       "Call for Service                    0.016074\n",
       "Motorist Assist/Courtesy            0.002369\n",
       "Violation of City/Town Ordinance    0.002092\n",
       "APB                                 0.001052\n",
       "Suspicious Person                   0.000647\n",
       "Warrant                             0.000208\n",
       "Name: violation_raw, dtype: float64"
      ]
     },
     "execution_count": 32,
     "metadata": {},
     "output_type": "execute_result"
    }
   ],
   "source": [
    "police2.violation_raw.value_counts(normalize=True, dropna=False)"
   ]
  },
  {
   "cell_type": "code",
   "execution_count": 33,
   "metadata": {},
   "outputs": [],
   "source": [
    "#dict for replacing values\n",
    "replace_dict = {'Speeding':'Speeding',\n",
    "                'Other Traffic Violation':'Moving',\n",
    "                'Equipment/Inspection Violation':'Equipment',\n",
    "                'Registration Violation':'Registration',\n",
    "                'Seatbelt Violation':'Seat belt'}\n",
    "#copy of the df\n",
    "police3 = police2.copy()\n",
    "\n",
    "#keeping values > 3% and grouping all other\n",
    "#values into value type 'Other'\n",
    "police3.violation_raw = police2.violation_raw.apply(lambda x: x if x in replace_dict else 'Other')"
   ]
  },
  {
   "cell_type": "code",
   "execution_count": 34,
   "metadata": {},
   "outputs": [
    {
     "data": {
      "text/plain": [
       "Speeding                          48423\n",
       "Other Traffic Violation           16224\n",
       "Equipment/Inspection Violation    10921\n",
       "Other                              4409\n",
       "Registration Violation             3703\n",
       "Seatbelt Violation                 2856\n",
       "Name: violation_raw, dtype: int64"
      ]
     },
     "execution_count": 34,
     "metadata": {},
     "output_type": "execute_result"
    }
   ],
   "source": [
    "police3.violation_raw.value_counts()"
   ]
  },
  {
   "cell_type": "code",
   "execution_count": 35,
   "metadata": {},
   "outputs": [],
   "source": [
    "#dropping violation_raw column since it is equivalent to violation\n",
    "police3.drop('violation_raw', axis='columns', inplace=True)"
   ]
  },
  {
   "cell_type": "code",
   "execution_count": 36,
   "metadata": {},
   "outputs": [
    {
     "name": "stdout",
     "output_type": "stream",
     "text": [
      "<class 'pandas.core.frame.DataFrame'>\n",
      "Int64Index: 86536 entries, 0 to 91740\n",
      "Data columns (total 11 columns):\n",
      "stop_date_stop_time    86536 non-null datetime64[ns]\n",
      "driver_gender          86536 non-null object\n",
      "driver_race            86536 non-null object\n",
      "violation              86536 non-null object\n",
      "search_conducted       86536 non-null bool\n",
      "search_type            3307 non-null object\n",
      "stop_outcome           86536 non-null object\n",
      "is_arrested            86536 non-null object\n",
      "stop_duration          86536 non-null object\n",
      "drugs_related_stop     86536 non-null bool\n",
      "district               86536 non-null object\n",
      "dtypes: bool(2), datetime64[ns](1), object(8)\n",
      "memory usage: 6.8+ MB\n"
     ]
    }
   ],
   "source": [
    "police3.info()"
   ]
  },
  {
   "cell_type": "code",
   "execution_count": 37,
   "metadata": {},
   "outputs": [],
   "source": [
    "#rename 1st column\n",
    "police3.rename({'stop_date_stop_time':'stop_datetime'}, axis='columns', inplace=True)"
   ]
  },
  {
   "cell_type": "markdown",
   "metadata": {},
   "source": [
    "### Data Types"
   ]
  },
  {
   "cell_type": "markdown",
   "metadata": {},
   "source": [
    "It's beneficary to infer data types if possible."
   ]
  },
  {
   "cell_type": "code",
   "execution_count": 38,
   "metadata": {},
   "outputs": [
    {
     "data": {
      "text/plain": [
       "dtype('bool')"
      ]
     },
     "execution_count": 38,
     "metadata": {},
     "output_type": "execute_result"
    }
   ],
   "source": [
    "#change 'is_arrested' dtype to bool\n",
    "police3['is_arrested'] = police3.is_arrested.astype('bool')\n",
    "\n",
    "police3.is_arrested.dtype"
   ]
  },
  {
   "cell_type": "code",
   "execution_count": 39,
   "metadata": {},
   "outputs": [
    {
     "name": "stdout",
     "output_type": "stream",
     "text": [
      "<class 'pandas.core.frame.DataFrame'>\n",
      "Int64Index: 86536 entries, 0 to 91740\n",
      "Data columns (total 11 columns):\n",
      "stop_datetime         86536 non-null datetime64[ns]\n",
      "driver_gender         86536 non-null object\n",
      "driver_race           86536 non-null object\n",
      "violation             86536 non-null object\n",
      "search_conducted      86536 non-null bool\n",
      "search_type           3307 non-null object\n",
      "stop_outcome          86536 non-null object\n",
      "is_arrested           86536 non-null bool\n",
      "stop_duration         86536 non-null object\n",
      "drugs_related_stop    86536 non-null bool\n",
      "district              86536 non-null object\n",
      "dtypes: bool(3), datetime64[ns](1), object(7)\n",
      "memory usage: 6.2+ MB\n"
     ]
    }
   ],
   "source": [
    "police3.info()"
   ]
  },
  {
   "cell_type": "code",
   "execution_count": 40,
   "metadata": {},
   "outputs": [],
   "source": [
    "categoricals = ['driver_gender', 'driver_race', 'violation', \n",
    "        'stop_outcome', 'district']\n",
    "police3[categoricals] = police[categoricals].astype('category')"
   ]
  },
  {
   "cell_type": "code",
   "execution_count": 41,
   "metadata": {},
   "outputs": [
    {
     "name": "stdout",
     "output_type": "stream",
     "text": [
      "<class 'pandas.core.frame.DataFrame'>\n",
      "Int64Index: 86536 entries, 0 to 91740\n",
      "Data columns (total 11 columns):\n",
      "stop_datetime         86536 non-null datetime64[ns]\n",
      "driver_gender         86536 non-null category\n",
      "driver_race           86536 non-null category\n",
      "violation             86536 non-null category\n",
      "search_conducted      86536 non-null bool\n",
      "search_type           3307 non-null object\n",
      "stop_outcome          86536 non-null category\n",
      "is_arrested           86536 non-null bool\n",
      "stop_duration         86536 non-null object\n",
      "drugs_related_stop    86536 non-null bool\n",
      "district              86536 non-null category\n",
      "dtypes: bool(3), category(5), datetime64[ns](1), object(2)\n",
      "memory usage: 3.3+ MB\n"
     ]
    }
   ],
   "source": [
    "police3.info()"
   ]
  },
  {
   "cell_type": "markdown",
   "metadata": {},
   "source": [
    "Categorical dtype allows more efficient data storage and manipulation."
   ]
  },
  {
   "cell_type": "markdown",
   "metadata": {},
   "source": [
    "### Indexing"
   ]
  },
  {
   "cell_type": "code",
   "execution_count": 42,
   "metadata": {},
   "outputs": [],
   "source": [
    "#use datetime as our data index\n",
    "police_c = police3.set_index('stop_datetime')"
   ]
  },
  {
   "cell_type": "code",
   "execution_count": 43,
   "metadata": {},
   "outputs": [
    {
     "data": {
      "text/html": [
       "<div>\n",
       "<style scoped>\n",
       "    .dataframe tbody tr th:only-of-type {\n",
       "        vertical-align: middle;\n",
       "    }\n",
       "\n",
       "    .dataframe tbody tr th {\n",
       "        vertical-align: top;\n",
       "    }\n",
       "\n",
       "    .dataframe thead th {\n",
       "        text-align: right;\n",
       "    }\n",
       "</style>\n",
       "<table border=\"1\" class=\"dataframe\">\n",
       "  <thead>\n",
       "    <tr style=\"text-align: right;\">\n",
       "      <th></th>\n",
       "      <th>driver_gender</th>\n",
       "      <th>driver_race</th>\n",
       "      <th>violation</th>\n",
       "      <th>search_conducted</th>\n",
       "      <th>search_type</th>\n",
       "      <th>stop_outcome</th>\n",
       "      <th>is_arrested</th>\n",
       "      <th>stop_duration</th>\n",
       "      <th>drugs_related_stop</th>\n",
       "      <th>district</th>\n",
       "    </tr>\n",
       "    <tr>\n",
       "      <th>stop_datetime</th>\n",
       "      <th></th>\n",
       "      <th></th>\n",
       "      <th></th>\n",
       "      <th></th>\n",
       "      <th></th>\n",
       "      <th></th>\n",
       "      <th></th>\n",
       "      <th></th>\n",
       "      <th></th>\n",
       "      <th></th>\n",
       "    </tr>\n",
       "  </thead>\n",
       "  <tbody>\n",
       "    <tr>\n",
       "      <th>2005-01-04 12:55:00</th>\n",
       "      <td>M</td>\n",
       "      <td>White</td>\n",
       "      <td>Equipment</td>\n",
       "      <td>False</td>\n",
       "      <td>NaN</td>\n",
       "      <td>Citation</td>\n",
       "      <td>False</td>\n",
       "      <td>0-15 Min</td>\n",
       "      <td>False</td>\n",
       "      <td>Zone X4</td>\n",
       "    </tr>\n",
       "    <tr>\n",
       "      <th>2005-01-23 23:15:00</th>\n",
       "      <td>M</td>\n",
       "      <td>White</td>\n",
       "      <td>Speeding</td>\n",
       "      <td>False</td>\n",
       "      <td>NaN</td>\n",
       "      <td>Citation</td>\n",
       "      <td>False</td>\n",
       "      <td>0-15 Min</td>\n",
       "      <td>False</td>\n",
       "      <td>Zone K3</td>\n",
       "    </tr>\n",
       "    <tr>\n",
       "      <th>2005-02-17 04:15:00</th>\n",
       "      <td>M</td>\n",
       "      <td>White</td>\n",
       "      <td>Speeding</td>\n",
       "      <td>False</td>\n",
       "      <td>NaN</td>\n",
       "      <td>Citation</td>\n",
       "      <td>False</td>\n",
       "      <td>0-15 Min</td>\n",
       "      <td>False</td>\n",
       "      <td>Zone X4</td>\n",
       "    </tr>\n",
       "  </tbody>\n",
       "</table>\n",
       "</div>"
      ],
      "text/plain": [
       "                    driver_gender driver_race  violation  search_conducted  \\\n",
       "stop_datetime                                                                \n",
       "2005-01-04 12:55:00             M       White  Equipment             False   \n",
       "2005-01-23 23:15:00             M       White   Speeding             False   \n",
       "2005-02-17 04:15:00             M       White   Speeding             False   \n",
       "\n",
       "                    search_type stop_outcome  is_arrested stop_duration  \\\n",
       "stop_datetime                                                             \n",
       "2005-01-04 12:55:00         NaN     Citation        False      0-15 Min   \n",
       "2005-01-23 23:15:00         NaN     Citation        False      0-15 Min   \n",
       "2005-02-17 04:15:00         NaN     Citation        False      0-15 Min   \n",
       "\n",
       "                     drugs_related_stop district  \n",
       "stop_datetime                                     \n",
       "2005-01-04 12:55:00               False  Zone X4  \n",
       "2005-01-23 23:15:00               False  Zone K3  \n",
       "2005-02-17 04:15:00               False  Zone X4  "
      ]
     },
     "execution_count": 43,
     "metadata": {},
     "output_type": "execute_result"
    }
   ],
   "source": [
    "#_c stands for clean\n",
    "police_c.head(3)"
   ]
  },
  {
   "cell_type": "markdown",
   "metadata": {},
   "source": [
    "## Analysis"
   ]
  },
  {
   "cell_type": "markdown",
   "metadata": {},
   "source": [
    "### Gender"
   ]
  },
  {
   "cell_type": "markdown",
   "metadata": {},
   "source": [
    "**Do the genders commit different violations?**\n",
    "To answer that, we can simply use <code>value_counts()</code> method separately for male and female and compar the normalized values."
   ]
  },
  {
   "cell_type": "code",
   "execution_count": 44,
   "metadata": {},
   "outputs": [],
   "source": [
    "male_violation = police_c[police_c.driver_gender == 'M'].violation.value_counts(normalize=True)\n",
    "female_violation = police_c[police_c.driver_gender == 'F'].violation.value_counts(normalize=True)"
   ]
  },
  {
   "cell_type": "code",
   "execution_count": 45,
   "metadata": {},
   "outputs": [
    {
     "name": "stdout",
     "output_type": "stream",
     "text": [
      "Male violations\n",
      "\n",
      "Speeding               0.522243\n",
      "Moving violation       0.206144\n",
      "Equipment              0.134158\n",
      "Other                  0.058985\n",
      "Registration/plates    0.042175\n",
      "Seat belt              0.036296\n",
      "Name: violation, dtype: float64\n",
      "-----------------------------\n",
      "Female violations\n",
      "\n",
      "Speeding               0.658114\n",
      "Moving violation       0.138218\n",
      "Equipment              0.105199\n",
      "Registration/plates    0.044418\n",
      "Other                  0.029738\n",
      "Seat belt              0.024312\n",
      "Name: violation, dtype: float64\n"
     ]
    }
   ],
   "source": [
    "print('Male violations\\n\\n{}'.format(male_violation))\n",
    "print('-----------------------------')\n",
    "print('Female violations\\n\\n{}'.format(female_violation))"
   ]
  },
  {
   "cell_type": "markdown",
   "metadata": {},
   "source": [
    "* Female drivers violate the speed limits more (by 13,5%) than males\n",
    "* Male driver violations are more evenly distributed than females.\n",
    "<br>\n",
    "Let's visualize the results."
   ]
  },
  {
   "cell_type": "code",
   "execution_count": 46,
   "metadata": {},
   "outputs": [],
   "source": [
    "#rename violation columns to specify which\n",
    "#gender it corresponds to and turn them into DFs\n",
    "male_vio_df = male_violation.to_frame().rename(columns={'violation':'male'})\n",
    "female_vio_df = female_violation.to_frame().rename(columns={'violation':'female'})\n",
    "\n",
    "#concatenate DF-s and sort descendingly\n",
    "violations_df = pd.concat([male_vio_df,female_vio_df], axis='columns')\n",
    "violations_df.sort_values(by='male', ascending=False, inplace=True)"
   ]
  },
  {
   "cell_type": "code",
   "execution_count": 47,
   "metadata": {},
   "outputs": [
    {
     "data": {
      "text/html": [
       "<div>\n",
       "<style scoped>\n",
       "    .dataframe tbody tr th:only-of-type {\n",
       "        vertical-align: middle;\n",
       "    }\n",
       "\n",
       "    .dataframe tbody tr th {\n",
       "        vertical-align: top;\n",
       "    }\n",
       "\n",
       "    .dataframe thead th {\n",
       "        text-align: right;\n",
       "    }\n",
       "</style>\n",
       "<table border=\"1\" class=\"dataframe\">\n",
       "  <thead>\n",
       "    <tr style=\"text-align: right;\">\n",
       "      <th></th>\n",
       "      <th>male</th>\n",
       "      <th>female</th>\n",
       "    </tr>\n",
       "  </thead>\n",
       "  <tbody>\n",
       "    <tr>\n",
       "      <th>Speeding</th>\n",
       "      <td>0.522243</td>\n",
       "      <td>0.658114</td>\n",
       "    </tr>\n",
       "    <tr>\n",
       "      <th>Moving violation</th>\n",
       "      <td>0.206144</td>\n",
       "      <td>0.138218</td>\n",
       "    </tr>\n",
       "    <tr>\n",
       "      <th>Equipment</th>\n",
       "      <td>0.134158</td>\n",
       "      <td>0.105199</td>\n",
       "    </tr>\n",
       "    <tr>\n",
       "      <th>Other</th>\n",
       "      <td>0.058985</td>\n",
       "      <td>0.029738</td>\n",
       "    </tr>\n",
       "    <tr>\n",
       "      <th>Registration/plates</th>\n",
       "      <td>0.042175</td>\n",
       "      <td>0.044418</td>\n",
       "    </tr>\n",
       "    <tr>\n",
       "      <th>Seat belt</th>\n",
       "      <td>0.036296</td>\n",
       "      <td>0.024312</td>\n",
       "    </tr>\n",
       "  </tbody>\n",
       "</table>\n",
       "</div>"
      ],
      "text/plain": [
       "                         male    female\n",
       "Speeding             0.522243  0.658114\n",
       "Moving violation     0.206144  0.138218\n",
       "Equipment            0.134158  0.105199\n",
       "Other                0.058985  0.029738\n",
       "Registration/plates  0.042175  0.044418\n",
       "Seat belt            0.036296  0.024312"
      ]
     },
     "execution_count": 47,
     "metadata": {},
     "output_type": "execute_result"
    }
   ],
   "source": [
    "violations_df"
   ]
  },
  {
   "cell_type": "code",
   "execution_count": 48,
   "metadata": {},
   "outputs": [],
   "source": [
    "#import bokeh stuff\n",
    "from bokeh.plotting import figure\n",
    "from bokeh.models import ColumnDataSource, HoverTool\n",
    "from bokeh.models.glyphs import VBar\n",
    "from bokeh.io import show, output_notebook\n",
    "from bokeh.transform import dodge"
   ]
  },
  {
   "cell_type": "code",
   "execution_count": 49,
   "metadata": {},
   "outputs": [
    {
     "data": {
      "text/html": [
       "\n",
       "    <div class=\"bk-root\">\n",
       "        <a href=\"https://bokeh.org\" target=\"_blank\" class=\"bk-logo bk-logo-small bk-logo-notebook\"></a>\n",
       "        <span id=\"1001\">Loading BokehJS ...</span>\n",
       "    </div>"
      ]
     },
     "metadata": {},
     "output_type": "display_data"
    },
    {
     "data": {
      "application/javascript": [
       "\n",
       "(function(root) {\n",
       "  function now() {\n",
       "    return new Date();\n",
       "  }\n",
       "\n",
       "  var force = true;\n",
       "\n",
       "  if (typeof root._bokeh_onload_callbacks === \"undefined\" || force === true) {\n",
       "    root._bokeh_onload_callbacks = [];\n",
       "    root._bokeh_is_loading = undefined;\n",
       "  }\n",
       "\n",
       "  var JS_MIME_TYPE = 'application/javascript';\n",
       "  var HTML_MIME_TYPE = 'text/html';\n",
       "  var EXEC_MIME_TYPE = 'application/vnd.bokehjs_exec.v0+json';\n",
       "  var CLASS_NAME = 'output_bokeh rendered_html';\n",
       "\n",
       "  /**\n",
       "   * Render data to the DOM node\n",
       "   */\n",
       "  function render(props, node) {\n",
       "    var script = document.createElement(\"script\");\n",
       "    node.appendChild(script);\n",
       "  }\n",
       "\n",
       "  /**\n",
       "   * Handle when an output is cleared or removed\n",
       "   */\n",
       "  function handleClearOutput(event, handle) {\n",
       "    var cell = handle.cell;\n",
       "\n",
       "    var id = cell.output_area._bokeh_element_id;\n",
       "    var server_id = cell.output_area._bokeh_server_id;\n",
       "    // Clean up Bokeh references\n",
       "    if (id != null && id in Bokeh.index) {\n",
       "      Bokeh.index[id].model.document.clear();\n",
       "      delete Bokeh.index[id];\n",
       "    }\n",
       "\n",
       "    if (server_id !== undefined) {\n",
       "      // Clean up Bokeh references\n",
       "      var cmd = \"from bokeh.io.state import curstate; print(curstate().uuid_to_server['\" + server_id + \"'].get_sessions()[0].document.roots[0]._id)\";\n",
       "      cell.notebook.kernel.execute(cmd, {\n",
       "        iopub: {\n",
       "          output: function(msg) {\n",
       "            var id = msg.content.text.trim();\n",
       "            if (id in Bokeh.index) {\n",
       "              Bokeh.index[id].model.document.clear();\n",
       "              delete Bokeh.index[id];\n",
       "            }\n",
       "          }\n",
       "        }\n",
       "      });\n",
       "      // Destroy server and session\n",
       "      var cmd = \"import bokeh.io.notebook as ion; ion.destroy_server('\" + server_id + \"')\";\n",
       "      cell.notebook.kernel.execute(cmd);\n",
       "    }\n",
       "  }\n",
       "\n",
       "  /**\n",
       "   * Handle when a new output is added\n",
       "   */\n",
       "  function handleAddOutput(event, handle) {\n",
       "    var output_area = handle.output_area;\n",
       "    var output = handle.output;\n",
       "\n",
       "    // limit handleAddOutput to display_data with EXEC_MIME_TYPE content only\n",
       "    if ((output.output_type != \"display_data\") || (!output.data.hasOwnProperty(EXEC_MIME_TYPE))) {\n",
       "      return\n",
       "    }\n",
       "\n",
       "    var toinsert = output_area.element.find(\".\" + CLASS_NAME.split(' ')[0]);\n",
       "\n",
       "    if (output.metadata[EXEC_MIME_TYPE][\"id\"] !== undefined) {\n",
       "      toinsert[toinsert.length - 1].firstChild.textContent = output.data[JS_MIME_TYPE];\n",
       "      // store reference to embed id on output_area\n",
       "      output_area._bokeh_element_id = output.metadata[EXEC_MIME_TYPE][\"id\"];\n",
       "    }\n",
       "    if (output.metadata[EXEC_MIME_TYPE][\"server_id\"] !== undefined) {\n",
       "      var bk_div = document.createElement(\"div\");\n",
       "      bk_div.innerHTML = output.data[HTML_MIME_TYPE];\n",
       "      var script_attrs = bk_div.children[0].attributes;\n",
       "      for (var i = 0; i < script_attrs.length; i++) {\n",
       "        toinsert[toinsert.length - 1].firstChild.setAttribute(script_attrs[i].name, script_attrs[i].value);\n",
       "      }\n",
       "      // store reference to server id on output_area\n",
       "      output_area._bokeh_server_id = output.metadata[EXEC_MIME_TYPE][\"server_id\"];\n",
       "    }\n",
       "  }\n",
       "\n",
       "  function register_renderer(events, OutputArea) {\n",
       "\n",
       "    function append_mime(data, metadata, element) {\n",
       "      // create a DOM node to render to\n",
       "      var toinsert = this.create_output_subarea(\n",
       "        metadata,\n",
       "        CLASS_NAME,\n",
       "        EXEC_MIME_TYPE\n",
       "      );\n",
       "      this.keyboard_manager.register_events(toinsert);\n",
       "      // Render to node\n",
       "      var props = {data: data, metadata: metadata[EXEC_MIME_TYPE]};\n",
       "      render(props, toinsert[toinsert.length - 1]);\n",
       "      element.append(toinsert);\n",
       "      return toinsert\n",
       "    }\n",
       "\n",
       "    /* Handle when an output is cleared or removed */\n",
       "    events.on('clear_output.CodeCell', handleClearOutput);\n",
       "    events.on('delete.Cell', handleClearOutput);\n",
       "\n",
       "    /* Handle when a new output is added */\n",
       "    events.on('output_added.OutputArea', handleAddOutput);\n",
       "\n",
       "    /**\n",
       "     * Register the mime type and append_mime function with output_area\n",
       "     */\n",
       "    OutputArea.prototype.register_mime_type(EXEC_MIME_TYPE, append_mime, {\n",
       "      /* Is output safe? */\n",
       "      safe: true,\n",
       "      /* Index of renderer in `output_area.display_order` */\n",
       "      index: 0\n",
       "    });\n",
       "  }\n",
       "\n",
       "  // register the mime type if in Jupyter Notebook environment and previously unregistered\n",
       "  if (root.Jupyter !== undefined) {\n",
       "    var events = require('base/js/events');\n",
       "    var OutputArea = require('notebook/js/outputarea').OutputArea;\n",
       "\n",
       "    if (OutputArea.prototype.mime_types().indexOf(EXEC_MIME_TYPE) == -1) {\n",
       "      register_renderer(events, OutputArea);\n",
       "    }\n",
       "  }\n",
       "\n",
       "  \n",
       "  if (typeof (root._bokeh_timeout) === \"undefined\" || force === true) {\n",
       "    root._bokeh_timeout = Date.now() + 5000;\n",
       "    root._bokeh_failed_load = false;\n",
       "  }\n",
       "\n",
       "  var NB_LOAD_WARNING = {'data': {'text/html':\n",
       "     \"<div style='background-color: #fdd'>\\n\"+\n",
       "     \"<p>\\n\"+\n",
       "     \"BokehJS does not appear to have successfully loaded. If loading BokehJS from CDN, this \\n\"+\n",
       "     \"may be due to a slow or bad network connection. Possible fixes:\\n\"+\n",
       "     \"</p>\\n\"+\n",
       "     \"<ul>\\n\"+\n",
       "     \"<li>re-rerun `output_notebook()` to attempt to load from CDN again, or</li>\\n\"+\n",
       "     \"<li>use INLINE resources instead, as so:</li>\\n\"+\n",
       "     \"</ul>\\n\"+\n",
       "     \"<code>\\n\"+\n",
       "     \"from bokeh.resources import INLINE\\n\"+\n",
       "     \"output_notebook(resources=INLINE)\\n\"+\n",
       "     \"</code>\\n\"+\n",
       "     \"</div>\"}};\n",
       "\n",
       "  function display_loaded() {\n",
       "    var el = document.getElementById(\"1001\");\n",
       "    if (el != null) {\n",
       "      el.textContent = \"BokehJS is loading...\";\n",
       "    }\n",
       "    if (root.Bokeh !== undefined) {\n",
       "      if (el != null) {\n",
       "        el.textContent = \"BokehJS \" + root.Bokeh.version + \" successfully loaded.\";\n",
       "      }\n",
       "    } else if (Date.now() < root._bokeh_timeout) {\n",
       "      setTimeout(display_loaded, 100)\n",
       "    }\n",
       "  }\n",
       "\n",
       "\n",
       "  function run_callbacks() {\n",
       "    try {\n",
       "      root._bokeh_onload_callbacks.forEach(function(callback) {\n",
       "        if (callback != null)\n",
       "          callback();\n",
       "      });\n",
       "    } finally {\n",
       "      delete root._bokeh_onload_callbacks\n",
       "    }\n",
       "    console.debug(\"Bokeh: all callbacks have finished\");\n",
       "  }\n",
       "\n",
       "  function load_libs(css_urls, js_urls, callback) {\n",
       "    if (css_urls == null) css_urls = [];\n",
       "    if (js_urls == null) js_urls = [];\n",
       "\n",
       "    root._bokeh_onload_callbacks.push(callback);\n",
       "    if (root._bokeh_is_loading > 0) {\n",
       "      console.debug(\"Bokeh: BokehJS is being loaded, scheduling callback at\", now());\n",
       "      return null;\n",
       "    }\n",
       "    if (js_urls == null || js_urls.length === 0) {\n",
       "      run_callbacks();\n",
       "      return null;\n",
       "    }\n",
       "    console.debug(\"Bokeh: BokehJS not loaded, scheduling load and callback at\", now());\n",
       "    root._bokeh_is_loading = css_urls.length + js_urls.length;\n",
       "\n",
       "    function on_load() {\n",
       "      root._bokeh_is_loading--;\n",
       "      if (root._bokeh_is_loading === 0) {\n",
       "        console.debug(\"Bokeh: all BokehJS libraries/stylesheets loaded\");\n",
       "        run_callbacks()\n",
       "      }\n",
       "    }\n",
       "\n",
       "    function on_error() {\n",
       "      console.error(\"failed to load \" + url);\n",
       "    }\n",
       "\n",
       "    for (var i = 0; i < css_urls.length; i++) {\n",
       "      var url = css_urls[i];\n",
       "      const element = document.createElement(\"link\");\n",
       "      element.onload = on_load;\n",
       "      element.onerror = on_error;\n",
       "      element.rel = \"stylesheet\";\n",
       "      element.type = \"text/css\";\n",
       "      element.href = url;\n",
       "      console.debug(\"Bokeh: injecting link tag for BokehJS stylesheet: \", url);\n",
       "      document.body.appendChild(element);\n",
       "    }\n",
       "\n",
       "    for (var i = 0; i < js_urls.length; i++) {\n",
       "      var url = js_urls[i];\n",
       "      var element = document.createElement('script');\n",
       "      element.onload = on_load;\n",
       "      element.onerror = on_error;\n",
       "      element.async = false;\n",
       "      element.src = url;\n",
       "      console.debug(\"Bokeh: injecting script tag for BokehJS library: \", url);\n",
       "      document.head.appendChild(element);\n",
       "    }\n",
       "  };var element = document.getElementById(\"1001\");\n",
       "  if (element == null) {\n",
       "    console.error(\"Bokeh: ERROR: autoload.js configured with elementid '1001' but no matching script tag was found. \")\n",
       "    return false;\n",
       "  }\n",
       "\n",
       "  function inject_raw_css(css) {\n",
       "    const element = document.createElement(\"style\");\n",
       "    element.appendChild(document.createTextNode(css));\n",
       "    document.body.appendChild(element);\n",
       "  }\n",
       "\n",
       "  \n",
       "  var js_urls = [\"https://cdn.pydata.org/bokeh/release/bokeh-1.4.0.min.js\", \"https://cdn.pydata.org/bokeh/release/bokeh-widgets-1.4.0.min.js\", \"https://cdn.pydata.org/bokeh/release/bokeh-tables-1.4.0.min.js\", \"https://cdn.pydata.org/bokeh/release/bokeh-gl-1.4.0.min.js\"];\n",
       "  var css_urls = [];\n",
       "  \n",
       "\n",
       "  var inline_js = [\n",
       "    function(Bokeh) {\n",
       "      Bokeh.set_log_level(\"info\");\n",
       "    },\n",
       "    function(Bokeh) {\n",
       "    \n",
       "    \n",
       "    }\n",
       "  ];\n",
       "\n",
       "  function run_inline_js() {\n",
       "    \n",
       "    if (root.Bokeh !== undefined || force === true) {\n",
       "      \n",
       "    for (var i = 0; i < inline_js.length; i++) {\n",
       "      inline_js[i].call(root, root.Bokeh);\n",
       "    }\n",
       "    if (force === true) {\n",
       "        display_loaded();\n",
       "      }} else if (Date.now() < root._bokeh_timeout) {\n",
       "      setTimeout(run_inline_js, 100);\n",
       "    } else if (!root._bokeh_failed_load) {\n",
       "      console.log(\"Bokeh: BokehJS failed to load within specified timeout.\");\n",
       "      root._bokeh_failed_load = true;\n",
       "    } else if (force !== true) {\n",
       "      var cell = $(document.getElementById(\"1001\")).parents('.cell').data().cell;\n",
       "      cell.output_area.append_execute_result(NB_LOAD_WARNING)\n",
       "    }\n",
       "\n",
       "  }\n",
       "\n",
       "  if (root._bokeh_is_loading === 0) {\n",
       "    console.debug(\"Bokeh: BokehJS loaded, going straight to plotting\");\n",
       "    run_inline_js();\n",
       "  } else {\n",
       "    load_libs(css_urls, js_urls, function() {\n",
       "      console.debug(\"Bokeh: BokehJS plotting callback run at\", now());\n",
       "      run_inline_js();\n",
       "    });\n",
       "  }\n",
       "}(window));"
      ],
      "application/vnd.bokehjs_load.v0+json": "\n(function(root) {\n  function now() {\n    return new Date();\n  }\n\n  var force = true;\n\n  if (typeof root._bokeh_onload_callbacks === \"undefined\" || force === true) {\n    root._bokeh_onload_callbacks = [];\n    root._bokeh_is_loading = undefined;\n  }\n\n  \n\n  \n  if (typeof (root._bokeh_timeout) === \"undefined\" || force === true) {\n    root._bokeh_timeout = Date.now() + 5000;\n    root._bokeh_failed_load = false;\n  }\n\n  var NB_LOAD_WARNING = {'data': {'text/html':\n     \"<div style='background-color: #fdd'>\\n\"+\n     \"<p>\\n\"+\n     \"BokehJS does not appear to have successfully loaded. If loading BokehJS from CDN, this \\n\"+\n     \"may be due to a slow or bad network connection. Possible fixes:\\n\"+\n     \"</p>\\n\"+\n     \"<ul>\\n\"+\n     \"<li>re-rerun `output_notebook()` to attempt to load from CDN again, or</li>\\n\"+\n     \"<li>use INLINE resources instead, as so:</li>\\n\"+\n     \"</ul>\\n\"+\n     \"<code>\\n\"+\n     \"from bokeh.resources import INLINE\\n\"+\n     \"output_notebook(resources=INLINE)\\n\"+\n     \"</code>\\n\"+\n     \"</div>\"}};\n\n  function display_loaded() {\n    var el = document.getElementById(\"1001\");\n    if (el != null) {\n      el.textContent = \"BokehJS is loading...\";\n    }\n    if (root.Bokeh !== undefined) {\n      if (el != null) {\n        el.textContent = \"BokehJS \" + root.Bokeh.version + \" successfully loaded.\";\n      }\n    } else if (Date.now() < root._bokeh_timeout) {\n      setTimeout(display_loaded, 100)\n    }\n  }\n\n\n  function run_callbacks() {\n    try {\n      root._bokeh_onload_callbacks.forEach(function(callback) {\n        if (callback != null)\n          callback();\n      });\n    } finally {\n      delete root._bokeh_onload_callbacks\n    }\n    console.debug(\"Bokeh: all callbacks have finished\");\n  }\n\n  function load_libs(css_urls, js_urls, callback) {\n    if (css_urls == null) css_urls = [];\n    if (js_urls == null) js_urls = [];\n\n    root._bokeh_onload_callbacks.push(callback);\n    if (root._bokeh_is_loading > 0) {\n      console.debug(\"Bokeh: BokehJS is being loaded, scheduling callback at\", now());\n      return null;\n    }\n    if (js_urls == null || js_urls.length === 0) {\n      run_callbacks();\n      return null;\n    }\n    console.debug(\"Bokeh: BokehJS not loaded, scheduling load and callback at\", now());\n    root._bokeh_is_loading = css_urls.length + js_urls.length;\n\n    function on_load() {\n      root._bokeh_is_loading--;\n      if (root._bokeh_is_loading === 0) {\n        console.debug(\"Bokeh: all BokehJS libraries/stylesheets loaded\");\n        run_callbacks()\n      }\n    }\n\n    function on_error() {\n      console.error(\"failed to load \" + url);\n    }\n\n    for (var i = 0; i < css_urls.length; i++) {\n      var url = css_urls[i];\n      const element = document.createElement(\"link\");\n      element.onload = on_load;\n      element.onerror = on_error;\n      element.rel = \"stylesheet\";\n      element.type = \"text/css\";\n      element.href = url;\n      console.debug(\"Bokeh: injecting link tag for BokehJS stylesheet: \", url);\n      document.body.appendChild(element);\n    }\n\n    for (var i = 0; i < js_urls.length; i++) {\n      var url = js_urls[i];\n      var element = document.createElement('script');\n      element.onload = on_load;\n      element.onerror = on_error;\n      element.async = false;\n      element.src = url;\n      console.debug(\"Bokeh: injecting script tag for BokehJS library: \", url);\n      document.head.appendChild(element);\n    }\n  };var element = document.getElementById(\"1001\");\n  if (element == null) {\n    console.error(\"Bokeh: ERROR: autoload.js configured with elementid '1001' but no matching script tag was found. \")\n    return false;\n  }\n\n  function inject_raw_css(css) {\n    const element = document.createElement(\"style\");\n    element.appendChild(document.createTextNode(css));\n    document.body.appendChild(element);\n  }\n\n  \n  var js_urls = [\"https://cdn.pydata.org/bokeh/release/bokeh-1.4.0.min.js\", \"https://cdn.pydata.org/bokeh/release/bokeh-widgets-1.4.0.min.js\", \"https://cdn.pydata.org/bokeh/release/bokeh-tables-1.4.0.min.js\", \"https://cdn.pydata.org/bokeh/release/bokeh-gl-1.4.0.min.js\"];\n  var css_urls = [];\n  \n\n  var inline_js = [\n    function(Bokeh) {\n      Bokeh.set_log_level(\"info\");\n    },\n    function(Bokeh) {\n    \n    \n    }\n  ];\n\n  function run_inline_js() {\n    \n    if (root.Bokeh !== undefined || force === true) {\n      \n    for (var i = 0; i < inline_js.length; i++) {\n      inline_js[i].call(root, root.Bokeh);\n    }\n    if (force === true) {\n        display_loaded();\n      }} else if (Date.now() < root._bokeh_timeout) {\n      setTimeout(run_inline_js, 100);\n    } else if (!root._bokeh_failed_load) {\n      console.log(\"Bokeh: BokehJS failed to load within specified timeout.\");\n      root._bokeh_failed_load = true;\n    } else if (force !== true) {\n      var cell = $(document.getElementById(\"1001\")).parents('.cell').data().cell;\n      cell.output_area.append_execute_result(NB_LOAD_WARNING)\n    }\n\n  }\n\n  if (root._bokeh_is_loading === 0) {\n    console.debug(\"Bokeh: BokehJS loaded, going straight to plotting\");\n    run_inline_js();\n  } else {\n    load_libs(css_urls, js_urls, function() {\n      console.debug(\"Bokeh: BokehJS plotting callback run at\", now());\n      run_inline_js();\n    });\n  }\n}(window));"
     },
     "metadata": {},
     "output_type": "display_data"
    }
   ],
   "source": [
    "#initialize bokeh plots into jupyter output\n",
    "#rather than seprate browser page\n",
    "output_notebook()"
   ]
  },
  {
   "cell_type": "code",
   "execution_count": 50,
   "metadata": {
    "code_folding": []
   },
   "outputs": [
    {
     "data": {
      "text/html": [
       "\n",
       "\n",
       "\n",
       "\n",
       "\n",
       "\n",
       "  <div class=\"bk-root\" id=\"148dfa66-a919-43b3-b181-a0cbe2d900bf\" data-root-id=\"1003\"></div>\n"
      ]
     },
     "metadata": {},
     "output_type": "display_data"
    },
    {
     "data": {
      "application/javascript": [
       "(function(root) {\n",
       "  function embed_document(root) {\n",
       "    \n",
       "  var docs_json = {\"1e30525d-d221-4d84-8217-c6e23b331b26\":{\"roots\":{\"references\":[{\"attributes\":{\"below\":[{\"id\":\"1014\",\"type\":\"CategoricalAxis\"}],\"center\":[{\"id\":\"1017\",\"type\":\"Grid\"},{\"id\":\"1022\",\"type\":\"Grid\"},{\"id\":\"1048\",\"type\":\"Legend\"}],\"left\":[{\"id\":\"1018\",\"type\":\"LinearAxis\"}],\"plot_height\":350,\"renderers\":[{\"id\":\"1040\",\"type\":\"GlyphRenderer\"},{\"id\":\"1054\",\"type\":\"GlyphRenderer\"}],\"title\":{\"id\":\"1004\",\"type\":\"Title\"},\"toolbar\":{\"id\":\"1029\",\"type\":\"Toolbar\"},\"x_range\":{\"id\":\"1006\",\"type\":\"FactorRange\"},\"x_scale\":{\"id\":\"1010\",\"type\":\"CategoricalScale\"},\"y_range\":{\"id\":\"1008\",\"type\":\"Range1d\"},\"y_scale\":{\"id\":\"1012\",\"type\":\"LinearScale\"}},\"id\":\"1003\",\"subtype\":\"Figure\",\"type\":\"Plot\"},{\"attributes\":{\"callback\":null,\"factors\":[\"Speeding\",\"Moving violation\",\"Equipment\",\"Other\",\"Registration/plates\",\"Seat belt\"]},\"id\":\"1006\",\"type\":\"FactorRange\"},{\"attributes\":{\"fill_color\":{\"value\":\"blue\"},\"top\":{\"field\":\"male\"},\"width\":{\"value\":0.3},\"x\":{\"field\":\"index\",\"transform\":{\"id\":\"1036\",\"type\":\"Dodge\"}}},\"id\":\"1038\",\"type\":\"VBar\"},{\"attributes\":{\"data_source\":{\"id\":\"1002\",\"type\":\"ColumnDataSource\"},\"glyph\":{\"id\":\"1052\",\"type\":\"VBar\"},\"hover_glyph\":null,\"muted_glyph\":null,\"nonselection_glyph\":{\"id\":\"1053\",\"type\":\"VBar\"},\"selection_glyph\":null,\"view\":{\"id\":\"1055\",\"type\":\"CDSView\"}},\"id\":\"1054\",\"type\":\"GlyphRenderer\"},{\"attributes\":{},\"id\":\"1045\",\"type\":\"BasicTickFormatter\"},{\"attributes\":{},\"id\":\"1023\",\"type\":\"PanTool\"},{\"attributes\":{\"axis_label\":\"Violation Type\",\"formatter\":{\"id\":\"1043\",\"type\":\"CategoricalTickFormatter\"},\"major_label_orientation\":0.3141592653589793,\"ticker\":{\"id\":\"1015\",\"type\":\"CategoricalTicker\"}},\"id\":\"1014\",\"type\":\"CategoricalAxis\"},{\"attributes\":{\"fill_alpha\":{\"value\":0.1},\"fill_color\":{\"value\":\"#1f77b4\"},\"line_alpha\":{\"value\":0.1},\"line_color\":{\"value\":\"#1f77b4\"},\"top\":{\"field\":\"male\"},\"width\":{\"value\":0.3},\"x\":{\"field\":\"index\",\"transform\":{\"id\":\"1036\",\"type\":\"Dodge\"}}},\"id\":\"1039\",\"type\":\"VBar\"},{\"attributes\":{},\"id\":\"1062\",\"type\":\"Selection\"},{\"attributes\":{\"axis_label\":\"Density per Gender\",\"formatter\":{\"id\":\"1045\",\"type\":\"BasicTickFormatter\"},\"ticker\":{\"id\":\"1019\",\"type\":\"BasicTicker\"}},\"id\":\"1018\",\"type\":\"LinearAxis\"},{\"attributes\":{},\"id\":\"1024\",\"type\":\"WheelZoomTool\"},{\"attributes\":{},\"id\":\"1043\",\"type\":\"CategoricalTickFormatter\"},{\"attributes\":{\"source\":{\"id\":\"1002\",\"type\":\"ColumnDataSource\"}},\"id\":\"1055\",\"type\":\"CDSView\"},{\"attributes\":{\"overlay\":{\"id\":\"1047\",\"type\":\"BoxAnnotation\"}},\"id\":\"1025\",\"type\":\"BoxZoomTool\"},{\"attributes\":{},\"id\":\"1063\",\"type\":\"UnionRenderers\"},{\"attributes\":{},\"id\":\"1012\",\"type\":\"LinearScale\"},{\"attributes\":{},\"id\":\"1019\",\"type\":\"BasicTicker\"},{\"attributes\":{},\"id\":\"1026\",\"type\":\"SaveTool\"},{\"attributes\":{\"label\":{\"value\":\"female\"},\"renderers\":[{\"id\":\"1054\",\"type\":\"GlyphRenderer\"}]},\"id\":\"1064\",\"type\":\"LegendItem\"},{\"attributes\":{\"dimension\":1,\"ticker\":{\"id\":\"1019\",\"type\":\"BasicTicker\"}},\"id\":\"1022\",\"type\":\"Grid\"},{\"attributes\":{\"callback\":null},\"id\":\"1008\",\"type\":\"Range1d\"},{\"attributes\":{},\"id\":\"1027\",\"type\":\"ResetTool\"},{\"attributes\":{},\"id\":\"1010\",\"type\":\"CategoricalScale\"},{\"attributes\":{\"data_source\":{\"id\":\"1002\",\"type\":\"ColumnDataSource\"},\"glyph\":{\"id\":\"1038\",\"type\":\"VBar\"},\"hover_glyph\":null,\"muted_glyph\":null,\"nonselection_glyph\":{\"id\":\"1039\",\"type\":\"VBar\"},\"selection_glyph\":null,\"view\":{\"id\":\"1041\",\"type\":\"CDSView\"}},\"id\":\"1040\",\"type\":\"GlyphRenderer\"},{\"attributes\":{},\"id\":\"1028\",\"type\":\"HelpTool\"},{\"attributes\":{\"source\":{\"id\":\"1002\",\"type\":\"ColumnDataSource\"}},\"id\":\"1041\",\"type\":\"CDSView\"},{\"attributes\":{\"range\":{\"id\":\"1006\",\"type\":\"FactorRange\"},\"value\":0.18},\"id\":\"1050\",\"type\":\"Dodge\"},{\"attributes\":{},\"id\":\"1015\",\"type\":\"CategoricalTicker\"},{\"attributes\":{\"callback\":null,\"data\":{\"female\":{\"__ndarray__\":\"jNHi5EQP5T9Hf7Z6IrHBP550N59R7ro/oitKNLxznj/9lrPj/b2mPzKoYhVR5Zg/\",\"dtype\":\"float64\",\"shape\":[6]},\"index\":[\"Speeding\",\"Moving violation\",\"Equipment\",\"Other\",\"Registration/plates\",\"Seat belt\"],\"male\":{\"__ndarray__\":\"hun2cTa24D+08Ebo62LKP6TngZwTLME/rnENUD8zrj9aN8Pu/JelPzBdnY5elaI/\",\"dtype\":\"float64\",\"shape\":[6]}},\"selected\":{\"id\":\"1062\",\"type\":\"Selection\"},\"selection_policy\":{\"id\":\"1063\",\"type\":\"UnionRenderers\"}},\"id\":\"1002\",\"type\":\"ColumnDataSource\"},{\"attributes\":{\"text\":\"Driving Violation Density Normalized by Gender\"},\"id\":\"1004\",\"type\":\"Title\"},{\"attributes\":{\"active_drag\":\"auto\",\"active_inspect\":\"auto\",\"active_multi\":null,\"active_scroll\":\"auto\",\"active_tap\":\"auto\",\"tools\":[{\"id\":\"1023\",\"type\":\"PanTool\"},{\"id\":\"1024\",\"type\":\"WheelZoomTool\"},{\"id\":\"1025\",\"type\":\"BoxZoomTool\"},{\"id\":\"1026\",\"type\":\"SaveTool\"},{\"id\":\"1027\",\"type\":\"ResetTool\"},{\"id\":\"1028\",\"type\":\"HelpTool\"}]},\"id\":\"1029\",\"type\":\"Toolbar\"},{\"attributes\":{\"label\":{\"value\":\"male\"},\"renderers\":[{\"id\":\"1040\",\"type\":\"GlyphRenderer\"}]},\"id\":\"1049\",\"type\":\"LegendItem\"},{\"attributes\":{\"grid_line_color\":null,\"ticker\":{\"id\":\"1015\",\"type\":\"CategoricalTicker\"}},\"id\":\"1017\",\"type\":\"Grid\"},{\"attributes\":{\"items\":[{\"id\":\"1049\",\"type\":\"LegendItem\"},{\"id\":\"1064\",\"type\":\"LegendItem\"}]},\"id\":\"1048\",\"type\":\"Legend\"},{\"attributes\":{\"fill_color\":{\"value\":\"red\"},\"top\":{\"field\":\"female\"},\"width\":{\"value\":0.3},\"x\":{\"field\":\"index\",\"transform\":{\"id\":\"1050\",\"type\":\"Dodge\"}}},\"id\":\"1052\",\"type\":\"VBar\"},{\"attributes\":{\"bottom_units\":\"screen\",\"fill_alpha\":{\"value\":0.5},\"fill_color\":{\"value\":\"lightgrey\"},\"left_units\":\"screen\",\"level\":\"overlay\",\"line_alpha\":{\"value\":1.0},\"line_color\":{\"value\":\"black\"},\"line_dash\":[4,4],\"line_width\":{\"value\":2},\"render_mode\":\"css\",\"right_units\":\"screen\",\"top_units\":\"screen\"},\"id\":\"1047\",\"type\":\"BoxAnnotation\"},{\"attributes\":{\"range\":{\"id\":\"1006\",\"type\":\"FactorRange\"},\"value\":-0.18},\"id\":\"1036\",\"type\":\"Dodge\"},{\"attributes\":{\"fill_alpha\":{\"value\":0.1},\"fill_color\":{\"value\":\"#1f77b4\"},\"line_alpha\":{\"value\":0.1},\"line_color\":{\"value\":\"#1f77b4\"},\"top\":{\"field\":\"female\"},\"width\":{\"value\":0.3},\"x\":{\"field\":\"index\",\"transform\":{\"id\":\"1050\",\"type\":\"Dodge\"}}},\"id\":\"1053\",\"type\":\"VBar\"}],\"root_ids\":[\"1003\"]},\"title\":\"Bokeh Application\",\"version\":\"1.4.0\"}};\n",
       "  var render_items = [{\"docid\":\"1e30525d-d221-4d84-8217-c6e23b331b26\",\"roots\":{\"1003\":\"148dfa66-a919-43b3-b181-a0cbe2d900bf\"}}];\n",
       "  root.Bokeh.embed.embed_items_notebook(docs_json, render_items);\n",
       "\n",
       "  }\n",
       "  if (root.Bokeh !== undefined) {\n",
       "    embed_document(root);\n",
       "  } else {\n",
       "    var attempts = 0;\n",
       "    var timer = setInterval(function(root) {\n",
       "      if (root.Bokeh !== undefined) {\n",
       "        clearInterval(timer);\n",
       "        embed_document(root);\n",
       "      } else {\n",
       "        attempts++;\n",
       "        if (attempts > 100) {\n",
       "          clearInterval(timer);\n",
       "          console.log(\"Bokeh: ERROR: Unable to run BokehJS code because BokehJS library is missing\");\n",
       "        }\n",
       "      }\n",
       "    }, 10, root)\n",
       "  }\n",
       "})(window);"
      ],
      "application/vnd.bokehjs_exec.v0+json": ""
     },
     "metadata": {
      "application/vnd.bokehjs_exec.v0+json": {
       "id": "1003"
      }
     },
     "output_type": "display_data"
    }
   ],
   "source": [
    "#data source\n",
    "source = ColumnDataSource(data=violations_df)\n",
    "\n",
    "#define the plot (canvas)\n",
    "p = figure(x_range=violations_df.index.values.to_list(),\n",
    "           y_range=(0,1), plot_height=350,\n",
    "           title='Driving Violation Density Normalized by Gender')\n",
    "\n",
    "#axis labels and tick label orientation\n",
    "p.xaxis.axis_label = 'Violation Type'\n",
    "p.xaxis.major_label_orientation = np.pi/10\n",
    "p.yaxis.axis_label = 'Density per Gender'\n",
    "\n",
    "#define the vertical bars - glyphs\n",
    "#dodge shifts vbars accordingly from the middle\n",
    "p.vbar(x=dodge('index', -0.18, range=p.x_range), \n",
    "       top='male', bottom=0, width=0.3, source=source,\n",
    "       fill_color='blue', legend_label='male', line_color='black')\n",
    "\n",
    "p.vbar(x=dodge('index',0.18, range=p.x_range),\n",
    "       top='female',bottom=0, width=0.3, source=source, \n",
    "       fill_color='red', legend_label='female', line_color='black')\n",
    "\n",
    "p.xgrid.grid_line_color = None\n",
    "\n",
    "show(p)"
   ]
  },
  {
   "cell_type": "markdown",
   "metadata": {},
   "source": [
    "**Does gender affect who gets a ticket for speeding?**<br>\n",
    "We need to compare the stop_outcome proportions for men and woman separately and compare them."
   ]
  },
  {
   "cell_type": "code",
   "execution_count": 51,
   "metadata": {},
   "outputs": [
    {
     "data": {
      "text/html": [
       "<div>\n",
       "<style scoped>\n",
       "    .dataframe tbody tr th:only-of-type {\n",
       "        vertical-align: middle;\n",
       "    }\n",
       "\n",
       "    .dataframe tbody tr th {\n",
       "        vertical-align: top;\n",
       "    }\n",
       "\n",
       "    .dataframe thead th {\n",
       "        text-align: right;\n",
       "    }\n",
       "</style>\n",
       "<table border=\"1\" class=\"dataframe\">\n",
       "  <thead>\n",
       "    <tr style=\"text-align: right;\">\n",
       "      <th></th>\n",
       "      <th>male</th>\n",
       "      <th>female</th>\n",
       "    </tr>\n",
       "  </thead>\n",
       "  <tbody>\n",
       "    <tr>\n",
       "      <th>Arrest Driver</th>\n",
       "      <td>0.015895</td>\n",
       "      <td>0.005752</td>\n",
       "    </tr>\n",
       "    <tr>\n",
       "      <th>Arrest Passenger</th>\n",
       "      <td>0.001281</td>\n",
       "      <td>0.000639</td>\n",
       "    </tr>\n",
       "    <tr>\n",
       "      <th>Citation</th>\n",
       "      <td>0.944595</td>\n",
       "      <td>0.952192</td>\n",
       "    </tr>\n",
       "    <tr>\n",
       "      <th>N/D</th>\n",
       "      <td>0.000976</td>\n",
       "      <td>0.000959</td>\n",
       "    </tr>\n",
       "    <tr>\n",
       "      <th>No Action</th>\n",
       "      <td>0.001068</td>\n",
       "      <td>0.000383</td>\n",
       "    </tr>\n",
       "    <tr>\n",
       "      <th>Warning</th>\n",
       "      <td>0.036184</td>\n",
       "      <td>0.040074</td>\n",
       "    </tr>\n",
       "  </tbody>\n",
       "</table>\n",
       "</div>"
      ],
      "text/plain": [
       "                      male    female\n",
       "Arrest Driver     0.015895  0.005752\n",
       "Arrest Passenger  0.001281  0.000639\n",
       "Citation          0.944595  0.952192\n",
       "N/D               0.000976  0.000959\n",
       "No Action         0.001068  0.000383\n",
       "Warning           0.036184  0.040074"
      ]
     },
     "execution_count": 51,
     "metadata": {},
     "output_type": "execute_result"
    }
   ],
   "source": [
    "#separate DF-s by gender and only Speeding violations\n",
    "male_speeders = police_c[(police_c.driver_gender == 'M') & (police_c.violation == 'Speeding')]\n",
    "female_speeders = police_c[(police_c.driver_gender == 'F') & (police_c.violation == 'Speeding')]\n",
    "\n",
    "#proportions of the outcomes\n",
    "male_speed_out = male_speeders.stop_outcome.value_counts(normalize=True)\n",
    "female_speed_out = female_speeders.stop_outcome.value_counts(normalize=True)\n",
    "\n",
    "speed_outcomes = pd.concat([male_speed_out.to_frame().rename(columns={'stop_outcome':'male'}), \n",
    "                            female_speed_out.to_frame().rename(columns={'stop_outcome':'female'})], \n",
    "                            axis='columns')\n",
    "speed_outcomes"
   ]
  },
  {
   "cell_type": "code",
   "execution_count": 52,
   "metadata": {},
   "outputs": [],
   "source": [
    "speed_outcomes.columns = pd.MultiIndex.from_product([['stop_outcome'], ['male','female']])\n",
    "speed_outcomes.sort_values(by=('stop_outcome', 'male'), ascending=False, inplace=True)"
   ]
  },
  {
   "cell_type": "code",
   "execution_count": 53,
   "metadata": {},
   "outputs": [
    {
     "data": {
      "text/html": [
       "<div>\n",
       "<style scoped>\n",
       "    .dataframe tbody tr th:only-of-type {\n",
       "        vertical-align: middle;\n",
       "    }\n",
       "\n",
       "    .dataframe tbody tr th {\n",
       "        vertical-align: top;\n",
       "    }\n",
       "\n",
       "    .dataframe thead tr th {\n",
       "        text-align: left;\n",
       "    }\n",
       "</style>\n",
       "<table border=\"1\" class=\"dataframe\">\n",
       "  <thead>\n",
       "    <tr>\n",
       "      <th></th>\n",
       "      <th colspan=\"2\" halign=\"left\">stop_outcome</th>\n",
       "    </tr>\n",
       "    <tr>\n",
       "      <th></th>\n",
       "      <th>male</th>\n",
       "      <th>female</th>\n",
       "    </tr>\n",
       "  </thead>\n",
       "  <tbody>\n",
       "    <tr>\n",
       "      <th>Citation</th>\n",
       "      <td>0.944595</td>\n",
       "      <td>0.952192</td>\n",
       "    </tr>\n",
       "    <tr>\n",
       "      <th>Warning</th>\n",
       "      <td>0.036184</td>\n",
       "      <td>0.040074</td>\n",
       "    </tr>\n",
       "    <tr>\n",
       "      <th>Arrest Driver</th>\n",
       "      <td>0.015895</td>\n",
       "      <td>0.005752</td>\n",
       "    </tr>\n",
       "    <tr>\n",
       "      <th>Arrest Passenger</th>\n",
       "      <td>0.001281</td>\n",
       "      <td>0.000639</td>\n",
       "    </tr>\n",
       "    <tr>\n",
       "      <th>No Action</th>\n",
       "      <td>0.001068</td>\n",
       "      <td>0.000383</td>\n",
       "    </tr>\n",
       "    <tr>\n",
       "      <th>N/D</th>\n",
       "      <td>0.000976</td>\n",
       "      <td>0.000959</td>\n",
       "    </tr>\n",
       "  </tbody>\n",
       "</table>\n",
       "</div>"
      ],
      "text/plain": [
       "                 stop_outcome          \n",
       "                         male    female\n",
       "Citation             0.944595  0.952192\n",
       "Warning              0.036184  0.040074\n",
       "Arrest Driver        0.015895  0.005752\n",
       "Arrest Passenger     0.001281  0.000639\n",
       "No Action            0.001068  0.000383\n",
       "N/D                  0.000976  0.000959"
      ]
     },
     "execution_count": 53,
     "metadata": {},
     "output_type": "execute_result"
    }
   ],
   "source": [
    "speed_outcomes"
   ]
  },
  {
   "cell_type": "markdown",
   "metadata": {},
   "source": [
    "Gender has no role on Speeding ticketing since the ticketing values are almost exact."
   ]
  },
  {
   "cell_type": "markdown",
   "metadata": {},
   "source": [
    "**Does gender affect whose vehicle is searched?**"
   ]
  },
  {
   "cell_type": "code",
   "execution_count": 54,
   "metadata": {},
   "outputs": [],
   "source": [
    "male_searched = police_c[(police_c.driver_gender == 'M')].search_conducted.value_counts(normalize=True)\n",
    "female_searched = police_c[(police_c.driver_gender == 'F')].search_conducted.value_counts(normalize=True)"
   ]
  },
  {
   "cell_type": "code",
   "execution_count": 55,
   "metadata": {},
   "outputs": [],
   "source": [
    "searched = pd.concat([male_searched.to_frame().rename(columns={'search_conducted':'male'}), \n",
    "                      female_searched.to_frame().rename(columns={'search_conducted':'female'})],\n",
    "                      axis='columns')"
   ]
  },
  {
   "cell_type": "code",
   "execution_count": 56,
   "metadata": {},
   "outputs": [
    {
     "data": {
      "text/html": [
       "<div>\n",
       "<style scoped>\n",
       "    .dataframe tbody tr th:only-of-type {\n",
       "        vertical-align: middle;\n",
       "    }\n",
       "\n",
       "    .dataframe tbody tr th {\n",
       "        vertical-align: top;\n",
       "    }\n",
       "\n",
       "    .dataframe thead th {\n",
       "        text-align: right;\n",
       "    }\n",
       "</style>\n",
       "<table border=\"1\" class=\"dataframe\">\n",
       "  <thead>\n",
       "    <tr style=\"text-align: right;\">\n",
       "      <th></th>\n",
       "      <th>male</th>\n",
       "      <th>female</th>\n",
       "    </tr>\n",
       "  </thead>\n",
       "  <tbody>\n",
       "    <tr>\n",
       "      <th>False</th>\n",
       "      <td>0.954574</td>\n",
       "      <td>0.980819</td>\n",
       "    </tr>\n",
       "    <tr>\n",
       "      <th>True</th>\n",
       "      <td>0.045426</td>\n",
       "      <td>0.019181</td>\n",
       "    </tr>\n",
       "  </tbody>\n",
       "</table>\n",
       "</div>"
      ],
      "text/plain": [
       "           male    female\n",
       "False  0.954574  0.980819\n",
       "True   0.045426  0.019181"
      ]
     },
     "execution_count": 56,
     "metadata": {},
     "output_type": "execute_result"
    }
   ],
   "source": [
    "searched"
   ]
  },
  {
   "cell_type": "code",
   "execution_count": 57,
   "metadata": {},
   "outputs": [
    {
     "data": {
      "text/plain": [
       "driver_gender\n",
       "F    0.019181\n",
       "M    0.045426\n",
       "Name: search_conducted, dtype: float64"
      ]
     },
     "execution_count": 57,
     "metadata": {},
     "output_type": "execute_result"
    }
   ],
   "source": [
    "#another way of answering the same question\n",
    "police_c.groupby('driver_gender').search_conducted.mean()"
   ]
  },
  {
   "cell_type": "markdown",
   "metadata": {},
   "source": [
    "Males are searched twice as often as females. But this may arise just because the difference in violations they commit. Investigate this by comparing search_conducted rates by violation per gender."
   ]
  },
  {
   "cell_type": "code",
   "execution_count": 58,
   "metadata": {},
   "outputs": [
    {
     "data": {
      "text/plain": [
       "violation            driver_gender\n",
       "Equipment            F                0.039984\n",
       "                     M                0.071496\n",
       "Moving violation     F                0.039257\n",
       "                     M                0.061524\n",
       "Other                F                0.041018\n",
       "                     M                0.046191\n",
       "Registration/plates  F                0.054924\n",
       "                     M                0.108802\n",
       "Seat belt            F                0.017301\n",
       "                     M                0.035119\n",
       "Speeding             F                0.008309\n",
       "                     M                0.027885\n",
       "Name: search_conducted, dtype: float64"
      ]
     },
     "execution_count": 58,
     "metadata": {},
     "output_type": "execute_result"
    }
   ],
   "source": [
    "police_c.groupby(['violation','driver_gender']).search_conducted.mean()"
   ]
  },
  {
   "cell_type": "markdown",
   "metadata": {},
   "source": [
    "Men are searched more for each vioaltion case thus it holds water that men are more likely to be searched."
   ]
  },
  {
   "cell_type": "markdown",
   "metadata": {},
   "source": [
    "**Does gender affect who is frisked during a search?**"
   ]
  },
  {
   "cell_type": "code",
   "execution_count": 59,
   "metadata": {},
   "outputs": [
    {
     "data": {
      "text/html": [
       "<div>\n",
       "<style scoped>\n",
       "    .dataframe tbody tr th:only-of-type {\n",
       "        vertical-align: middle;\n",
       "    }\n",
       "\n",
       "    .dataframe tbody tr th {\n",
       "        vertical-align: top;\n",
       "    }\n",
       "\n",
       "    .dataframe thead th {\n",
       "        text-align: right;\n",
       "    }\n",
       "</style>\n",
       "<table border=\"1\" class=\"dataframe\">\n",
       "  <thead>\n",
       "    <tr style=\"text-align: right;\">\n",
       "      <th></th>\n",
       "      <th>driver_gender</th>\n",
       "      <th>driver_race</th>\n",
       "      <th>violation</th>\n",
       "      <th>search_conducted</th>\n",
       "      <th>search_type</th>\n",
       "      <th>stop_outcome</th>\n",
       "      <th>is_arrested</th>\n",
       "      <th>stop_duration</th>\n",
       "      <th>drugs_related_stop</th>\n",
       "      <th>district</th>\n",
       "    </tr>\n",
       "    <tr>\n",
       "      <th>stop_datetime</th>\n",
       "      <th></th>\n",
       "      <th></th>\n",
       "      <th></th>\n",
       "      <th></th>\n",
       "      <th></th>\n",
       "      <th></th>\n",
       "      <th></th>\n",
       "      <th></th>\n",
       "      <th></th>\n",
       "      <th></th>\n",
       "    </tr>\n",
       "  </thead>\n",
       "  <tbody>\n",
       "    <tr>\n",
       "      <th>2005-01-04 12:55:00</th>\n",
       "      <td>M</td>\n",
       "      <td>White</td>\n",
       "      <td>Equipment</td>\n",
       "      <td>False</td>\n",
       "      <td>NaN</td>\n",
       "      <td>Citation</td>\n",
       "      <td>False</td>\n",
       "      <td>0-15 Min</td>\n",
       "      <td>False</td>\n",
       "      <td>Zone X4</td>\n",
       "    </tr>\n",
       "    <tr>\n",
       "      <th>2005-01-23 23:15:00</th>\n",
       "      <td>M</td>\n",
       "      <td>White</td>\n",
       "      <td>Speeding</td>\n",
       "      <td>False</td>\n",
       "      <td>NaN</td>\n",
       "      <td>Citation</td>\n",
       "      <td>False</td>\n",
       "      <td>0-15 Min</td>\n",
       "      <td>False</td>\n",
       "      <td>Zone K3</td>\n",
       "    </tr>\n",
       "  </tbody>\n",
       "</table>\n",
       "</div>"
      ],
      "text/plain": [
       "                    driver_gender driver_race  violation  search_conducted  \\\n",
       "stop_datetime                                                                \n",
       "2005-01-04 12:55:00             M       White  Equipment             False   \n",
       "2005-01-23 23:15:00             M       White   Speeding             False   \n",
       "\n",
       "                    search_type stop_outcome  is_arrested stop_duration  \\\n",
       "stop_datetime                                                             \n",
       "2005-01-04 12:55:00         NaN     Citation        False      0-15 Min   \n",
       "2005-01-23 23:15:00         NaN     Citation        False      0-15 Min   \n",
       "\n",
       "                     drugs_related_stop district  \n",
       "stop_datetime                                     \n",
       "2005-01-04 12:55:00               False  Zone X4  \n",
       "2005-01-23 23:15:00               False  Zone K3  "
      ]
     },
     "execution_count": 59,
     "metadata": {},
     "output_type": "execute_result"
    }
   ],
   "source": [
    "police_c.head(2)"
   ]
  },
  {
   "cell_type": "code",
   "execution_count": 60,
   "metadata": {},
   "outputs": [
    {
     "data": {
      "text/plain": [
       "Incident to Arrest                                          1290\n",
       "Probable Cause                                               924\n",
       "Inventory                                                    219\n",
       "Reasonable Suspicion                                         214\n",
       "Protective Frisk                                             164\n",
       "Incident to Arrest,Inventory                                 123\n",
       "Incident to Arrest,Probable Cause                            100\n",
       "Probable Cause,Reasonable Suspicion                           54\n",
       "Probable Cause,Protective Frisk                               35\n",
       "Incident to Arrest,Inventory,Probable Cause                   35\n",
       "Incident to Arrest,Protective Frisk                           33\n",
       "Inventory,Probable Cause                                      25\n",
       "Protective Frisk,Reasonable Suspicion                         19\n",
       "Incident to Arrest,Inventory,Protective Frisk                 18\n",
       "Incident to Arrest,Probable Cause,Protective Frisk            13\n",
       "Inventory,Protective Frisk                                    12\n",
       "Incident to Arrest,Reasonable Suspicion                        8\n",
       "Incident to Arrest,Probable Cause,Reasonable Suspicion         5\n",
       "Probable Cause,Protective Frisk,Reasonable Suspicion           5\n",
       "Incident to Arrest,Inventory,Reasonable Suspicion              4\n",
       "Incident to Arrest,Protective Frisk,Reasonable Suspicion       2\n",
       "Inventory,Reasonable Suspicion                                 2\n",
       "Inventory,Probable Cause,Reasonable Suspicion                  1\n",
       "Inventory,Protective Frisk,Reasonable Suspicion                1\n",
       "Inventory,Probable Cause,Protective Frisk                      1\n",
       "Name: search_type, dtype: int64"
      ]
     },
     "execution_count": 60,
     "metadata": {},
     "output_type": "execute_result"
    }
   ],
   "source": [
    "police_c.search_type.value_counts()"
   ]
  },
  {
   "cell_type": "markdown",
   "metadata": {},
   "source": [
    "We want to capture all *Frisk* occurances, even those which reside in multiple search_type values."
   ]
  },
  {
   "cell_type": "code",
   "execution_count": 61,
   "metadata": {},
   "outputs": [],
   "source": [
    "#create a new boolean column that records True if a Frisk is \n",
    "#involved and False otherwise and False for NaN-s\n",
    "police_c['Frisk'] = police_c.search_type.str.contains('Frisk', na=False)"
   ]
  },
  {
   "cell_type": "code",
   "execution_count": 62,
   "metadata": {},
   "outputs": [
    {
     "data": {
      "text/plain": [
       "driver_gender\n",
       "F    0.074561\n",
       "M    0.094353\n",
       "Name: Frisk, dtype: float64"
      ]
     },
     "execution_count": 62,
     "metadata": {},
     "output_type": "execute_result"
    }
   ],
   "source": [
    "police_c[police_c.search_conducted == True].groupby('driver_gender').Frisk.mean()"
   ]
  },
  {
   "cell_type": "markdown",
   "metadata": {},
   "source": [
    "### Time"
   ]
  },
  {
   "cell_type": "markdown",
   "metadata": {},
   "source": [
    "**Does time of day affect arrest rate?**"
   ]
  },
  {
   "cell_type": "code",
   "execution_count": 63,
   "metadata": {},
   "outputs": [
    {
     "data": {
      "text/html": [
       "<div>\n",
       "<style scoped>\n",
       "    .dataframe tbody tr th:only-of-type {\n",
       "        vertical-align: middle;\n",
       "    }\n",
       "\n",
       "    .dataframe tbody tr th {\n",
       "        vertical-align: top;\n",
       "    }\n",
       "\n",
       "    .dataframe thead th {\n",
       "        text-align: right;\n",
       "    }\n",
       "</style>\n",
       "<table border=\"1\" class=\"dataframe\">\n",
       "  <thead>\n",
       "    <tr style=\"text-align: right;\">\n",
       "      <th></th>\n",
       "      <th>driver_gender</th>\n",
       "      <th>driver_race</th>\n",
       "      <th>violation</th>\n",
       "      <th>search_conducted</th>\n",
       "      <th>search_type</th>\n",
       "      <th>stop_outcome</th>\n",
       "      <th>is_arrested</th>\n",
       "      <th>stop_duration</th>\n",
       "      <th>drugs_related_stop</th>\n",
       "      <th>district</th>\n",
       "      <th>Frisk</th>\n",
       "    </tr>\n",
       "    <tr>\n",
       "      <th>stop_datetime</th>\n",
       "      <th></th>\n",
       "      <th></th>\n",
       "      <th></th>\n",
       "      <th></th>\n",
       "      <th></th>\n",
       "      <th></th>\n",
       "      <th></th>\n",
       "      <th></th>\n",
       "      <th></th>\n",
       "      <th></th>\n",
       "      <th></th>\n",
       "    </tr>\n",
       "  </thead>\n",
       "  <tbody>\n",
       "    <tr>\n",
       "      <th>2005-01-04 12:55:00</th>\n",
       "      <td>M</td>\n",
       "      <td>White</td>\n",
       "      <td>Equipment</td>\n",
       "      <td>False</td>\n",
       "      <td>NaN</td>\n",
       "      <td>Citation</td>\n",
       "      <td>False</td>\n",
       "      <td>0-15 Min</td>\n",
       "      <td>False</td>\n",
       "      <td>Zone X4</td>\n",
       "      <td>False</td>\n",
       "    </tr>\n",
       "  </tbody>\n",
       "</table>\n",
       "</div>"
      ],
      "text/plain": [
       "                    driver_gender driver_race  violation  search_conducted  \\\n",
       "stop_datetime                                                                \n",
       "2005-01-04 12:55:00             M       White  Equipment             False   \n",
       "\n",
       "                    search_type stop_outcome  is_arrested stop_duration  \\\n",
       "stop_datetime                                                             \n",
       "2005-01-04 12:55:00         NaN     Citation        False      0-15 Min   \n",
       "\n",
       "                     drugs_related_stop district  Frisk  \n",
       "stop_datetime                                            \n",
       "2005-01-04 12:55:00               False  Zone X4  False  "
      ]
     },
     "execution_count": 63,
     "metadata": {},
     "output_type": "execute_result"
    }
   ],
   "source": [
    "police_c.head(1)"
   ]
  },
  {
   "cell_type": "code",
   "execution_count": 64,
   "metadata": {},
   "outputs": [],
   "source": [
    "hourly_arrest = police_c.groupby(police_c.index.hour).is_arrested.mean().to_frame()"
   ]
  },
  {
   "cell_type": "code",
   "execution_count": 65,
   "metadata": {},
   "outputs": [
    {
     "data": {
      "text/html": [
       "<div>\n",
       "<style scoped>\n",
       "    .dataframe tbody tr th:only-of-type {\n",
       "        vertical-align: middle;\n",
       "    }\n",
       "\n",
       "    .dataframe tbody tr th {\n",
       "        vertical-align: top;\n",
       "    }\n",
       "\n",
       "    .dataframe thead th {\n",
       "        text-align: right;\n",
       "    }\n",
       "</style>\n",
       "<table border=\"1\" class=\"dataframe\">\n",
       "  <thead>\n",
       "    <tr style=\"text-align: right;\">\n",
       "      <th></th>\n",
       "      <th>is_arrested</th>\n",
       "    </tr>\n",
       "    <tr>\n",
       "      <th>stop_datetime</th>\n",
       "      <th></th>\n",
       "    </tr>\n",
       "  </thead>\n",
       "  <tbody>\n",
       "    <tr>\n",
       "      <th>0</th>\n",
       "      <td>0.051431</td>\n",
       "    </tr>\n",
       "    <tr>\n",
       "      <th>1</th>\n",
       "      <td>0.064932</td>\n",
       "    </tr>\n",
       "    <tr>\n",
       "      <th>2</th>\n",
       "      <td>0.060798</td>\n",
       "    </tr>\n",
       "    <tr>\n",
       "      <th>3</th>\n",
       "      <td>0.060549</td>\n",
       "    </tr>\n",
       "    <tr>\n",
       "      <th>4</th>\n",
       "      <td>0.048000</td>\n",
       "    </tr>\n",
       "  </tbody>\n",
       "</table>\n",
       "</div>"
      ],
      "text/plain": [
       "               is_arrested\n",
       "stop_datetime             \n",
       "0                 0.051431\n",
       "1                 0.064932\n",
       "2                 0.060798\n",
       "3                 0.060549\n",
       "4                 0.048000"
      ]
     },
     "execution_count": 65,
     "metadata": {},
     "output_type": "execute_result"
    }
   ],
   "source": [
    "hourly_arrest.head(5)"
   ]
  },
  {
   "cell_type": "code",
   "execution_count": 66,
   "metadata": {},
   "outputs": [
    {
     "data": {
      "text/html": [
       "\n",
       "\n",
       "\n",
       "\n",
       "\n",
       "\n",
       "  <div class=\"bk-root\" id=\"2cfc6ee5-acb2-4d8d-bd70-423cea6ba76b\" data-root-id=\"1122\"></div>\n"
      ]
     },
     "metadata": {},
     "output_type": "display_data"
    },
    {
     "data": {
      "application/javascript": [
       "(function(root) {\n",
       "  function embed_document(root) {\n",
       "    \n",
       "  var docs_json = {\"6fb42064-c2a4-4f3e-af69-d2131f9e3b4c\":{\"roots\":{\"references\":[{\"attributes\":{\"below\":[{\"id\":\"1133\",\"type\":\"LinearAxis\"}],\"center\":[{\"id\":\"1137\",\"type\":\"Grid\"},{\"id\":\"1142\",\"type\":\"Grid\"}],\"left\":[{\"id\":\"1138\",\"type\":\"LinearAxis\"}],\"plot_height\":350,\"renderers\":[{\"id\":\"1159\",\"type\":\"GlyphRenderer\"},{\"id\":\"1165\",\"type\":\"GlyphRenderer\"}],\"title\":{\"id\":\"1123\",\"type\":\"Title\"},\"toolbar\":{\"id\":\"1149\",\"type\":\"Toolbar\"},\"x_range\":{\"id\":\"1125\",\"type\":\"DataRange1d\"},\"x_scale\":{\"id\":\"1129\",\"type\":\"LinearScale\"},\"y_range\":{\"id\":\"1127\",\"type\":\"DataRange1d\"},\"y_scale\":{\"id\":\"1131\",\"type\":\"LinearScale\"}},\"id\":\"1122\",\"subtype\":\"Figure\",\"type\":\"Plot\"},{\"attributes\":{},\"id\":\"1139\",\"type\":\"BasicTicker\"},{\"attributes\":{\"callback\":null},\"id\":\"1125\",\"type\":\"DataRange1d\"},{\"attributes\":{},\"id\":\"1134\",\"type\":\"BasicTicker\"},{\"attributes\":{\"fill_alpha\":{\"value\":0.1},\"fill_color\":{\"value\":\"#1f77b4\"},\"line_alpha\":{\"value\":0.1},\"line_color\":{\"value\":\"#1f77b4\"},\"size\":{\"units\":\"screen\",\"value\":8},\"x\":{\"field\":\"stop_datetime\"},\"y\":{\"field\":\"is_arrested\"}},\"id\":\"1163\",\"type\":\"Circle\"},{\"attributes\":{\"ticker\":{\"id\":\"1134\",\"type\":\"BasicTicker\"}},\"id\":\"1137\",\"type\":\"Grid\"},{\"attributes\":{\"data_source\":{\"id\":\"1121\",\"type\":\"ColumnDataSource\"},\"glyph\":{\"id\":\"1162\",\"type\":\"Circle\"},\"hover_glyph\":{\"id\":\"1164\",\"type\":\"Circle\"},\"muted_glyph\":null,\"nonselection_glyph\":{\"id\":\"1163\",\"type\":\"Circle\"},\"selection_glyph\":null,\"view\":{\"id\":\"1166\",\"type\":\"CDSView\"}},\"id\":\"1165\",\"type\":\"GlyphRenderer\"},{\"attributes\":{\"dimension\":1,\"ticker\":{\"id\":\"1139\",\"type\":\"BasicTicker\"}},\"id\":\"1142\",\"type\":\"Grid\"},{\"attributes\":{\"attachment\":\"above\",\"callback\":null,\"formatters\":{\"stop_datetime\":\"datetime\"},\"tooltips\":[[\"Hour\",\"@stop_datetime\"],[\"Rate\",\"@is_arrested{0.000}\"]]},\"id\":\"1167\",\"type\":\"HoverTool\"},{\"attributes\":{\"active_drag\":\"auto\",\"active_inspect\":\"auto\",\"active_multi\":null,\"active_scroll\":\"auto\",\"active_tap\":\"auto\",\"tools\":[{\"id\":\"1143\",\"type\":\"PanTool\"},{\"id\":\"1144\",\"type\":\"WheelZoomTool\"},{\"id\":\"1145\",\"type\":\"BoxZoomTool\"},{\"id\":\"1146\",\"type\":\"SaveTool\"},{\"id\":\"1147\",\"type\":\"ResetTool\"},{\"id\":\"1148\",\"type\":\"HelpTool\"},{\"id\":\"1167\",\"type\":\"HoverTool\"}]},\"id\":\"1149\",\"type\":\"Toolbar\"},{\"attributes\":{\"source\":{\"id\":\"1121\",\"type\":\"ColumnDataSource\"}},\"id\":\"1166\",\"type\":\"CDSView\"},{\"attributes\":{\"fill_color\":{\"value\":\"#1f77b4\"},\"line_color\":{\"value\":\"#1f77b4\"},\"size\":{\"units\":\"screen\",\"value\":8},\"x\":{\"field\":\"stop_datetime\"},\"y\":{\"field\":\"is_arrested\"}},\"id\":\"1162\",\"type\":\"Circle\"},{\"attributes\":{},\"id\":\"1178\",\"type\":\"BasicTickFormatter\"},{\"attributes\":{\"source\":{\"id\":\"1121\",\"type\":\"ColumnDataSource\"}},\"id\":\"1160\",\"type\":\"CDSView\"},{\"attributes\":{},\"id\":\"1143\",\"type\":\"PanTool\"},{\"attributes\":{},\"id\":\"1180\",\"type\":\"BasicTickFormatter\"},{\"attributes\":{\"callback\":null},\"id\":\"1127\",\"type\":\"DataRange1d\"},{\"attributes\":{},\"id\":\"1144\",\"type\":\"WheelZoomTool\"},{\"attributes\":{\"fill_color\":{\"value\":\"red\"},\"line_color\":{\"value\":\"red\"},\"size\":{\"units\":\"screen\",\"value\":8},\"x\":{\"field\":\"stop_datetime\"},\"y\":{\"field\":\"is_arrested\"}},\"id\":\"1164\",\"type\":\"Circle\"},{\"attributes\":{},\"id\":\"1131\",\"type\":\"LinearScale\"},{\"attributes\":{\"bottom_units\":\"screen\",\"fill_alpha\":{\"value\":0.5},\"fill_color\":{\"value\":\"lightgrey\"},\"left_units\":\"screen\",\"level\":\"overlay\",\"line_alpha\":{\"value\":1.0},\"line_color\":{\"value\":\"black\"},\"line_dash\":[4,4],\"line_width\":{\"value\":2},\"render_mode\":\"css\",\"right_units\":\"screen\",\"top_units\":\"screen\"},\"id\":\"1182\",\"type\":\"BoxAnnotation\"},{\"attributes\":{\"data_source\":{\"id\":\"1121\",\"type\":\"ColumnDataSource\"},\"glyph\":{\"id\":\"1157\",\"type\":\"Line\"},\"hover_glyph\":null,\"muted_glyph\":null,\"nonselection_glyph\":{\"id\":\"1158\",\"type\":\"Line\"},\"selection_glyph\":null,\"view\":{\"id\":\"1160\",\"type\":\"CDSView\"}},\"id\":\"1159\",\"type\":\"GlyphRenderer\"},{\"attributes\":{\"overlay\":{\"id\":\"1182\",\"type\":\"BoxAnnotation\"}},\"id\":\"1145\",\"type\":\"BoxZoomTool\"},{\"attributes\":{\"line_alpha\":0.1,\"line_color\":\"#1f77b4\",\"line_width\":2,\"x\":{\"field\":\"stop_datetime\"},\"y\":{\"field\":\"is_arrested\"}},\"id\":\"1158\",\"type\":\"Line\"},{\"attributes\":{\"axis_label\":\"Hour\",\"formatter\":{\"id\":\"1178\",\"type\":\"BasicTickFormatter\"},\"ticker\":{\"id\":\"1134\",\"type\":\"BasicTicker\"}},\"id\":\"1133\",\"type\":\"LinearAxis\"},{\"attributes\":{\"line_color\":\"#1f77b4\",\"line_width\":2,\"x\":{\"field\":\"stop_datetime\"},\"y\":{\"field\":\"is_arrested\"}},\"id\":\"1157\",\"type\":\"Line\"},{\"attributes\":{},\"id\":\"1183\",\"type\":\"Selection\"},{\"attributes\":{},\"id\":\"1146\",\"type\":\"SaveTool\"},{\"attributes\":{\"callback\":null,\"data\":{\"is_arrested\":{\"__ndarray__\":\"IxylByhVqj8FuoScX5+wP8SB+WPxIK8/+AB8AD4Arz/6fmq8dJOoP+cV0Lhb56U/U179HwNKjD9t2uIKSbCKP3U1pJnDYJY/221O3aTPmT+ccZbay+OcP1Nlet0Wl50/77HUlgAmoz9hJl4LvoOfPzQgJ6/OVp8/qz6FpT1qnz/BQd5kVBCiPw1hDPsBzKQ/tk9WuYaPoz9oJWU8Z4KgP+sd0ADOgqM/kn1y97uFsD8omt6uwuqoP0WNeH7qXag/\",\"dtype\":\"float64\",\"shape\":[24]},\"stop_datetime\":[0,1,2,3,4,5,6,7,8,9,10,11,12,13,14,15,16,17,18,19,20,21,22,23]},\"selected\":{\"id\":\"1183\",\"type\":\"Selection\"},\"selection_policy\":{\"id\":\"1184\",\"type\":\"UnionRenderers\"}},\"id\":\"1121\",\"type\":\"ColumnDataSource\"},{\"attributes\":{},\"id\":\"1184\",\"type\":\"UnionRenderers\"},{\"attributes\":{\"text\":\"Arrest Rate by Time of Day\"},\"id\":\"1123\",\"type\":\"Title\"},{\"attributes\":{},\"id\":\"1147\",\"type\":\"ResetTool\"},{\"attributes\":{},\"id\":\"1148\",\"type\":\"HelpTool\"},{\"attributes\":{\"axis_label\":\"Rate\",\"formatter\":{\"id\":\"1180\",\"type\":\"BasicTickFormatter\"},\"ticker\":{\"id\":\"1139\",\"type\":\"BasicTicker\"}},\"id\":\"1138\",\"type\":\"LinearAxis\"},{\"attributes\":{},\"id\":\"1129\",\"type\":\"LinearScale\"}],\"root_ids\":[\"1122\"]},\"title\":\"Bokeh Application\",\"version\":\"1.4.0\"}};\n",
       "  var render_items = [{\"docid\":\"6fb42064-c2a4-4f3e-af69-d2131f9e3b4c\",\"roots\":{\"1122\":\"2cfc6ee5-acb2-4d8d-bd70-423cea6ba76b\"}}];\n",
       "  root.Bokeh.embed.embed_items_notebook(docs_json, render_items);\n",
       "\n",
       "  }\n",
       "  if (root.Bokeh !== undefined) {\n",
       "    embed_document(root);\n",
       "  } else {\n",
       "    var attempts = 0;\n",
       "    var timer = setInterval(function(root) {\n",
       "      if (root.Bokeh !== undefined) {\n",
       "        clearInterval(timer);\n",
       "        embed_document(root);\n",
       "      } else {\n",
       "        attempts++;\n",
       "        if (attempts > 100) {\n",
       "          clearInterval(timer);\n",
       "          console.log(\"Bokeh: ERROR: Unable to run BokehJS code because BokehJS library is missing\");\n",
       "        }\n",
       "      }\n",
       "    }, 10, root)\n",
       "  }\n",
       "})(window);"
      ],
      "application/vnd.bokehjs_exec.v0+json": ""
     },
     "metadata": {
      "application/vnd.bokehjs_exec.v0+json": {
       "id": "1122"
      }
     },
     "output_type": "display_data"
    }
   ],
   "source": [
    "#plotting the hourly arrest rate\n",
    "source = ColumnDataSource(hourly_arrest)\n",
    "\n",
    "p = figure(plot_height=350,\n",
    "           title='Arrest Rate by Time of Day', \n",
    "           x_axis_label='Hour',\n",
    "           y_axis_label='Rate')\n",
    "\n",
    "p.line('stop_datetime', 'is_arrested', source=source, line_width=2)\n",
    "p.circle('stop_datetime', 'is_arrested', source=source, \n",
    "         hover_fill_color='red', hover_line_color='red', size=8)\n",
    "\n",
    "p.add_tools(HoverTool(tooltips=[('Hour', '@stop_datetime'),\n",
    "                                ('Rate', '@is_arrested{0.000}')],\n",
    "                      formatters={'stop_datetime':'datetime'},\n",
    "                      point_policy='snap_to_data',\n",
    "                      attachment='above'))\n",
    "show(p)"
   ]
  },
  {
   "cell_type": "markdown",
   "metadata": {},
   "source": [
    "**Are drug-related stops on the rise?**"
   ]
  },
  {
   "cell_type": "code",
   "execution_count": 67,
   "metadata": {},
   "outputs": [
    {
     "data": {
      "text/html": [
       "<div>\n",
       "<style scoped>\n",
       "    .dataframe tbody tr th:only-of-type {\n",
       "        vertical-align: middle;\n",
       "    }\n",
       "\n",
       "    .dataframe tbody tr th {\n",
       "        vertical-align: top;\n",
       "    }\n",
       "\n",
       "    .dataframe thead th {\n",
       "        text-align: right;\n",
       "    }\n",
       "</style>\n",
       "<table border=\"1\" class=\"dataframe\">\n",
       "  <thead>\n",
       "    <tr style=\"text-align: right;\">\n",
       "      <th></th>\n",
       "      <th>drugs_related_stop</th>\n",
       "    </tr>\n",
       "    <tr>\n",
       "      <th>stop_datetime</th>\n",
       "      <th></th>\n",
       "    </tr>\n",
       "  </thead>\n",
       "  <tbody>\n",
       "    <tr>\n",
       "      <th>2005</th>\n",
       "      <td>0.006501</td>\n",
       "    </tr>\n",
       "    <tr>\n",
       "      <th>2006</th>\n",
       "      <td>0.007258</td>\n",
       "    </tr>\n",
       "    <tr>\n",
       "      <th>2007</th>\n",
       "      <td>0.007970</td>\n",
       "    </tr>\n",
       "  </tbody>\n",
       "</table>\n",
       "</div>"
      ],
      "text/plain": [
       "               drugs_related_stop\n",
       "stop_datetime                    \n",
       "2005                     0.006501\n",
       "2006                     0.007258\n",
       "2007                     0.007970"
      ]
     },
     "execution_count": 67,
     "metadata": {},
     "output_type": "execute_result"
    }
   ],
   "source": [
    "drug_related_stops = police_c.groupby(police_c.index.year).drugs_related_stop.mean().to_frame()\n",
    "drug_related_stops.head(3)"
   ]
  },
  {
   "cell_type": "code",
   "execution_count": 68,
   "metadata": {},
   "outputs": [
    {
     "data": {
      "text/html": [
       "\n",
       "\n",
       "\n",
       "\n",
       "\n",
       "\n",
       "  <div class=\"bk-root\" id=\"0a3688cb-10f4-4503-9506-04dc13413b52\" data-root-id=\"1234\"></div>\n"
      ]
     },
     "metadata": {},
     "output_type": "display_data"
    },
    {
     "data": {
      "application/javascript": [
       "(function(root) {\n",
       "  function embed_document(root) {\n",
       "    \n",
       "  var docs_json = {\"0ce6ef20-7a84-4013-a672-eb46a87702d2\":{\"roots\":{\"references\":[{\"attributes\":{\"below\":[{\"id\":\"1245\",\"type\":\"LinearAxis\"}],\"center\":[{\"id\":\"1249\",\"type\":\"Grid\"},{\"id\":\"1254\",\"type\":\"Grid\"}],\"left\":[{\"id\":\"1250\",\"type\":\"LinearAxis\"}],\"plot_height\":350,\"renderers\":[{\"id\":\"1271\",\"type\":\"GlyphRenderer\"},{\"id\":\"1277\",\"type\":\"GlyphRenderer\"}],\"title\":{\"id\":\"1235\",\"type\":\"Title\"},\"toolbar\":{\"id\":\"1261\",\"type\":\"Toolbar\"},\"x_range\":{\"id\":\"1237\",\"type\":\"DataRange1d\"},\"x_scale\":{\"id\":\"1241\",\"type\":\"LinearScale\"},\"y_range\":{\"id\":\"1239\",\"type\":\"DataRange1d\"},\"y_scale\":{\"id\":\"1243\",\"type\":\"LinearScale\"}},\"id\":\"1234\",\"subtype\":\"Figure\",\"type\":\"Plot\"},{\"attributes\":{},\"id\":\"1304\",\"type\":\"UnionRenderers\"},{\"attributes\":{\"overlay\":{\"id\":\"1302\",\"type\":\"BoxAnnotation\"}},\"id\":\"1257\",\"type\":\"BoxZoomTool\"},{\"attributes\":{\"attachment\":\"above\",\"callback\":null,\"formatters\":{\"stop_datetime\":\"datetime\"},\"tooltips\":[[\"Year\",\"@stop_datetime\"],[\"Stops\",\"@drugs_related_stop{0.0000}\"]]},\"id\":\"1279\",\"type\":\"HoverTool\"},{\"attributes\":{\"text\":\"Drugs Related Stops by Year\"},\"id\":\"1235\",\"type\":\"Title\"},{\"attributes\":{},\"id\":\"1303\",\"type\":\"Selection\"},{\"attributes\":{\"ticker\":{\"id\":\"1246\",\"type\":\"BasicTicker\"}},\"id\":\"1249\",\"type\":\"Grid\"},{\"attributes\":{},\"id\":\"1255\",\"type\":\"PanTool\"},{\"attributes\":{\"fill_alpha\":{\"value\":0.1},\"fill_color\":{\"value\":\"#1f77b4\"},\"line_alpha\":{\"value\":0.1},\"line_color\":{\"value\":\"#1f77b4\"},\"size\":{\"units\":\"screen\",\"value\":9},\"x\":{\"field\":\"stop_datetime\"},\"y\":{\"field\":\"drugs_related_stop\"}},\"id\":\"1275\",\"type\":\"Circle\"},{\"attributes\":{},\"id\":\"1246\",\"type\":\"BasicTicker\"},{\"attributes\":{},\"id\":\"1260\",\"type\":\"HelpTool\"},{\"attributes\":{\"line_color\":\"goldenrod\",\"line_width\":2,\"x\":{\"field\":\"stop_datetime\"},\"y\":{\"field\":\"drugs_related_stop\"}},\"id\":\"1269\",\"type\":\"Line\"},{\"attributes\":{},\"id\":\"1259\",\"type\":\"ResetTool\"},{\"attributes\":{},\"id\":\"1258\",\"type\":\"SaveTool\"},{\"attributes\":{\"axis_label\":\"Year\",\"formatter\":{\"id\":\"1298\",\"type\":\"BasicTickFormatter\"},\"ticker\":{\"id\":\"1246\",\"type\":\"BasicTicker\"}},\"id\":\"1245\",\"type\":\"LinearAxis\"},{\"attributes\":{},\"id\":\"1243\",\"type\":\"LinearScale\"},{\"attributes\":{\"data_source\":{\"id\":\"1233\",\"type\":\"ColumnDataSource\"},\"glyph\":{\"id\":\"1269\",\"type\":\"Line\"},\"hover_glyph\":null,\"muted_glyph\":null,\"nonselection_glyph\":{\"id\":\"1270\",\"type\":\"Line\"},\"selection_glyph\":null,\"view\":{\"id\":\"1272\",\"type\":\"CDSView\"}},\"id\":\"1271\",\"type\":\"GlyphRenderer\"},{\"attributes\":{},\"id\":\"1251\",\"type\":\"BasicTicker\"},{\"attributes\":{\"callback\":null},\"id\":\"1237\",\"type\":\"DataRange1d\"},{\"attributes\":{},\"id\":\"1241\",\"type\":\"LinearScale\"},{\"attributes\":{\"source\":{\"id\":\"1233\",\"type\":\"ColumnDataSource\"}},\"id\":\"1272\",\"type\":\"CDSView\"},{\"attributes\":{\"fill_color\":{\"value\":\"green\"},\"line_color\":{\"value\":\"green\"},\"size\":{\"units\":\"screen\",\"value\":9},\"x\":{\"field\":\"stop_datetime\"},\"y\":{\"field\":\"drugs_related_stop\"}},\"id\":\"1276\",\"type\":\"Circle\"},{\"attributes\":{\"bottom_units\":\"screen\",\"fill_alpha\":{\"value\":0.5},\"fill_color\":{\"value\":\"lightgrey\"},\"left_units\":\"screen\",\"level\":\"overlay\",\"line_alpha\":{\"value\":1.0},\"line_color\":{\"value\":\"black\"},\"line_dash\":[4,4],\"line_width\":{\"value\":2},\"render_mode\":\"css\",\"right_units\":\"screen\",\"top_units\":\"screen\"},\"id\":\"1302\",\"type\":\"BoxAnnotation\"},{\"attributes\":{\"axis_label\":\"Rate\",\"formatter\":{\"id\":\"1300\",\"type\":\"BasicTickFormatter\"},\"ticker\":{\"id\":\"1251\",\"type\":\"BasicTicker\"}},\"id\":\"1250\",\"type\":\"LinearAxis\"},{\"attributes\":{\"callback\":null,\"data\":{\"drugs_related_stop\":{\"__ndarray__\":\"sTirOjyhej8eD8vPdrp9P3jteruEUoA/BsKP7ba9fj+jLpOodkCEP2jmRhF1pYQ/ycurJBDugz9123JheFGEP/oToqXE0Io/dvJ8bA5RjD9QY1Mt/R6JPw==\",\"dtype\":\"float64\",\"shape\":[11]},\"stop_datetime\":[2005,2006,2007,2008,2009,2010,2011,2012,2013,2014,2015]},\"selected\":{\"id\":\"1303\",\"type\":\"Selection\"},\"selection_policy\":{\"id\":\"1304\",\"type\":\"UnionRenderers\"}},\"id\":\"1233\",\"type\":\"ColumnDataSource\"},{\"attributes\":{},\"id\":\"1300\",\"type\":\"BasicTickFormatter\"},{\"attributes\":{\"callback\":null},\"id\":\"1239\",\"type\":\"DataRange1d\"},{\"attributes\":{\"line_alpha\":0.1,\"line_color\":\"#1f77b4\",\"line_width\":2,\"x\":{\"field\":\"stop_datetime\"},\"y\":{\"field\":\"drugs_related_stop\"}},\"id\":\"1270\",\"type\":\"Line\"},{\"attributes\":{},\"id\":\"1298\",\"type\":\"BasicTickFormatter\"},{\"attributes\":{\"active_drag\":\"auto\",\"active_inspect\":\"auto\",\"active_multi\":null,\"active_scroll\":\"auto\",\"active_tap\":\"auto\",\"tools\":[{\"id\":\"1255\",\"type\":\"PanTool\"},{\"id\":\"1256\",\"type\":\"WheelZoomTool\"},{\"id\":\"1257\",\"type\":\"BoxZoomTool\"},{\"id\":\"1258\",\"type\":\"SaveTool\"},{\"id\":\"1259\",\"type\":\"ResetTool\"},{\"id\":\"1260\",\"type\":\"HelpTool\"},{\"id\":\"1279\",\"type\":\"HoverTool\"}]},\"id\":\"1261\",\"type\":\"Toolbar\"},{\"attributes\":{},\"id\":\"1256\",\"type\":\"WheelZoomTool\"},{\"attributes\":{\"source\":{\"id\":\"1233\",\"type\":\"ColumnDataSource\"}},\"id\":\"1278\",\"type\":\"CDSView\"},{\"attributes\":{\"dimension\":1,\"ticker\":{\"id\":\"1251\",\"type\":\"BasicTicker\"}},\"id\":\"1254\",\"type\":\"Grid\"},{\"attributes\":{\"data_source\":{\"id\":\"1233\",\"type\":\"ColumnDataSource\"},\"glyph\":{\"id\":\"1274\",\"type\":\"Circle\"},\"hover_glyph\":{\"id\":\"1276\",\"type\":\"Circle\"},\"muted_glyph\":null,\"nonselection_glyph\":{\"id\":\"1275\",\"type\":\"Circle\"},\"selection_glyph\":null,\"view\":{\"id\":\"1278\",\"type\":\"CDSView\"}},\"id\":\"1277\",\"type\":\"GlyphRenderer\"},{\"attributes\":{\"fill_color\":{\"value\":\"goldenrod\"},\"line_color\":{\"value\":\"goldenrod\"},\"size\":{\"units\":\"screen\",\"value\":9},\"x\":{\"field\":\"stop_datetime\"},\"y\":{\"field\":\"drugs_related_stop\"}},\"id\":\"1274\",\"type\":\"Circle\"}],\"root_ids\":[\"1234\"]},\"title\":\"Bokeh Application\",\"version\":\"1.4.0\"}};\n",
       "  var render_items = [{\"docid\":\"0ce6ef20-7a84-4013-a672-eb46a87702d2\",\"roots\":{\"1234\":\"0a3688cb-10f4-4503-9506-04dc13413b52\"}}];\n",
       "  root.Bokeh.embed.embed_items_notebook(docs_json, render_items);\n",
       "\n",
       "  }\n",
       "  if (root.Bokeh !== undefined) {\n",
       "    embed_document(root);\n",
       "  } else {\n",
       "    var attempts = 0;\n",
       "    var timer = setInterval(function(root) {\n",
       "      if (root.Bokeh !== undefined) {\n",
       "        clearInterval(timer);\n",
       "        embed_document(root);\n",
       "      } else {\n",
       "        attempts++;\n",
       "        if (attempts > 100) {\n",
       "          clearInterval(timer);\n",
       "          console.log(\"Bokeh: ERROR: Unable to run BokehJS code because BokehJS library is missing\");\n",
       "        }\n",
       "      }\n",
       "    }, 10, root)\n",
       "  }\n",
       "})(window);"
      ],
      "application/vnd.bokehjs_exec.v0+json": ""
     },
     "metadata": {
      "application/vnd.bokehjs_exec.v0+json": {
       "id": "1234"
      }
     },
     "output_type": "display_data"
    }
   ],
   "source": [
    "data = ColumnDataSource(data=drug_related_stops)\n",
    "\n",
    "p = figure(plot_height=350,\n",
    "           title='Drugs Related Stops by Year',\n",
    "           x_axis_label='Year', y_axis_label='Rate')\n",
    "\n",
    "p.line(x='stop_datetime', y='drugs_related_stop', source=data,\n",
    "       line_width=2, color='goldenrod')\n",
    "p.circle(x='stop_datetime', y='drugs_related_stop', source=data, color='goldenrod',\n",
    "         size=9, hover_fill_color='green', hover_line_color='green')\n",
    "\n",
    "p.add_tools(HoverTool(tooltips=[('Year', '@stop_datetime'),\n",
    "                                 ('Stops', '@drugs_related_stop{0.0000}')],\n",
    "                      formatters={'stop_datetime':'datetime'},\n",
    "                      attachment='above'))\n",
    "\n",
    "show(p)"
   ]
  },
  {
   "cell_type": "markdown",
   "metadata": {},
   "source": [
    "The drug related stop rate is increasing over the years. Let's find out if this is due to the increase of searches carried out."
   ]
  },
  {
   "cell_type": "code",
   "execution_count": 69,
   "metadata": {},
   "outputs": [
    {
     "data": {
      "text/html": [
       "<div>\n",
       "<style scoped>\n",
       "    .dataframe tbody tr th:only-of-type {\n",
       "        vertical-align: middle;\n",
       "    }\n",
       "\n",
       "    .dataframe tbody tr th {\n",
       "        vertical-align: top;\n",
       "    }\n",
       "\n",
       "    .dataframe thead th {\n",
       "        text-align: right;\n",
       "    }\n",
       "</style>\n",
       "<table border=\"1\" class=\"dataframe\">\n",
       "  <thead>\n",
       "    <tr style=\"text-align: right;\">\n",
       "      <th></th>\n",
       "      <th>drugs_related_stop</th>\n",
       "      <th>search_conducted</th>\n",
       "    </tr>\n",
       "    <tr>\n",
       "      <th>stop_datetime</th>\n",
       "      <th></th>\n",
       "      <th></th>\n",
       "    </tr>\n",
       "  </thead>\n",
       "  <tbody>\n",
       "    <tr>\n",
       "      <th>2005</th>\n",
       "      <td>0.006501</td>\n",
       "      <td>0.049167</td>\n",
       "    </tr>\n",
       "    <tr>\n",
       "      <th>2006</th>\n",
       "      <td>0.007258</td>\n",
       "      <td>0.041758</td>\n",
       "    </tr>\n",
       "    <tr>\n",
       "      <th>2007</th>\n",
       "      <td>0.007970</td>\n",
       "      <td>0.044056</td>\n",
       "    </tr>\n",
       "  </tbody>\n",
       "</table>\n",
       "</div>"
      ],
      "text/plain": [
       "               drugs_related_stop  search_conducted\n",
       "stop_datetime                                      \n",
       "2005                     0.006501          0.049167\n",
       "2006                     0.007258          0.041758\n",
       "2007                     0.007970          0.044056"
      ]
     },
     "execution_count": 69,
     "metadata": {},
     "output_type": "execute_result"
    }
   ],
   "source": [
    "#capture annual rates\n",
    "annual_searches = police_c.search_conducted.resample('A').mean()\n",
    "annual_drug_stops = police_c.drugs_related_stop.resample('A').mean()\n",
    "\n",
    "#join the annual series to a single df\n",
    "annual = pd.concat([annual_drug_stops, annual_searches], axis='columns')\n",
    "annual.index = annual.index.year\n",
    "annual.head(3)"
   ]
  },
  {
   "cell_type": "code",
   "execution_count": 70,
   "metadata": {
    "code_folding": []
   },
   "outputs": [
    {
     "data": {
      "text/html": [
       "\n",
       "\n",
       "\n",
       "\n",
       "\n",
       "\n",
       "  <div class=\"bk-root\" id=\"d3e35e73-f1e0-4a4b-ac18-0711255fb091\" data-root-id=\"1436\"></div>\n"
      ]
     },
     "metadata": {},
     "output_type": "display_data"
    },
    {
     "data": {
      "application/javascript": [
       "(function(root) {\n",
       "  function embed_document(root) {\n",
       "    \n",
       "  var docs_json = {\"1d93245c-002b-4219-b47f-0343427da4cc\":{\"roots\":{\"references\":[{\"attributes\":{\"children\":[{\"id\":\"1354\",\"subtype\":\"Figure\",\"type\":\"Plot\"},{\"id\":\"1393\",\"subtype\":\"Figure\",\"type\":\"Plot\"}]},\"id\":\"1436\",\"type\":\"Column\"},{\"attributes\":{\"active_drag\":\"auto\",\"active_inspect\":\"auto\",\"active_multi\":null,\"active_scroll\":\"auto\",\"active_tap\":\"auto\",\"tools\":[{\"id\":\"1414\",\"type\":\"PanTool\"},{\"id\":\"1415\",\"type\":\"ResetTool\"},{\"id\":\"1416\",\"type\":\"BoxZoomTool\"},{\"id\":\"1434\",\"type\":\"HoverTool\"}]},\"id\":\"1417\",\"type\":\"Toolbar\"},{\"attributes\":{},\"id\":\"1402\",\"type\":\"LinearScale\"},{\"attributes\":{},\"id\":\"1472\",\"type\":\"Selection\"},{\"attributes\":{},\"id\":\"1363\",\"type\":\"LinearScale\"},{\"attributes\":{\"line_alpha\":0.1,\"line_color\":\"#1f77b4\",\"line_width\":2,\"x\":{\"field\":\"stop_datetime\"},\"y\":{\"field\":\"drugs_related_stop\"}},\"id\":\"1384\",\"type\":\"Line\"},{\"attributes\":{\"fill_color\":{\"value\":\"red\"},\"line_color\":{\"value\":\"#1f77b4\"},\"size\":{\"units\":\"screen\",\"value\":10},\"x\":{\"field\":\"stop_datetime\"},\"y\":{\"field\":\"drugs_related_stop\"}},\"id\":\"1390\",\"type\":\"Circle\"},{\"attributes\":{\"callback\":null},\"id\":\"1359\",\"type\":\"DataRange1d\"},{\"attributes\":{\"text\":\"Annual Search Rate\"},\"id\":\"1394\",\"type\":\"Title\"},{\"attributes\":{\"fill_color\":{\"value\":\"green\"},\"line_color\":{\"value\":\"green\"},\"size\":{\"units\":\"screen\",\"value\":10},\"x\":{\"field\":\"stop_datetime\"},\"y\":{\"field\":\"search_conducted\"}},\"id\":\"1427\",\"type\":\"Circle\"},{\"attributes\":{},\"id\":\"1473\",\"type\":\"UnionRenderers\"},{\"attributes\":{\"dimension\":1,\"ticker\":{\"id\":\"1410\",\"type\":\"BasicTicker\"}},\"id\":\"1413\",\"type\":\"Grid\"},{\"attributes\":{},\"id\":\"1465\",\"type\":\"BasicTickFormatter\"},{\"attributes\":{\"fill_alpha\":{\"value\":0.1},\"fill_color\":{\"value\":\"#1f77b4\"},\"line_alpha\":{\"value\":0.1},\"line_color\":{\"value\":\"#1f77b4\"},\"size\":{\"units\":\"screen\",\"value\":10},\"x\":{\"field\":\"stop_datetime\"},\"y\":{\"field\":\"drugs_related_stop\"}},\"id\":\"1389\",\"type\":\"Circle\"},{\"attributes\":{},\"id\":\"1467\",\"type\":\"BasicTickFormatter\"},{\"attributes\":{\"bottom_units\":\"screen\",\"fill_alpha\":{\"value\":0.5},\"fill_color\":{\"value\":\"lightgrey\"},\"left_units\":\"screen\",\"level\":\"overlay\",\"line_alpha\":{\"value\":1.0},\"line_color\":{\"value\":\"black\"},\"line_dash\":[4,4],\"line_width\":{\"value\":2},\"render_mode\":\"css\",\"right_units\":\"screen\",\"top_units\":\"screen\"},\"id\":\"1474\",\"type\":\"BoxAnnotation\"},{\"attributes\":{},\"id\":\"1463\",\"type\":\"BasicTickFormatter\"},{\"attributes\":{\"below\":[{\"id\":\"1404\",\"type\":\"LinearAxis\"}],\"center\":[{\"id\":\"1408\",\"type\":\"Grid\"},{\"id\":\"1413\",\"type\":\"Grid\"}],\"left\":[{\"id\":\"1409\",\"type\":\"LinearAxis\"}],\"plot_height\":200,\"renderers\":[{\"id\":\"1424\",\"type\":\"GlyphRenderer\"},{\"id\":\"1430\",\"type\":\"GlyphRenderer\"}],\"title\":{\"id\":\"1394\",\"type\":\"Title\"},\"toolbar\":{\"id\":\"1417\",\"type\":\"Toolbar\"},\"x_range\":{\"id\":\"1396\",\"type\":\"DataRange1d\"},\"x_scale\":{\"id\":\"1400\",\"type\":\"LinearScale\"},\"y_range\":{\"id\":\"1398\",\"type\":\"DataRange1d\"},\"y_scale\":{\"id\":\"1402\",\"type\":\"LinearScale\"}},\"id\":\"1393\",\"subtype\":\"Figure\",\"type\":\"Plot\"},{\"attributes\":{},\"id\":\"1415\",\"type\":\"ResetTool\"},{\"attributes\":{\"fill_color\":{\"value\":\"red\"},\"line_color\":{\"value\":\"#1f77b4\"},\"size\":{\"units\":\"screen\",\"value\":10},\"x\":{\"field\":\"stop_datetime\"},\"y\":{\"field\":\"search_conducted\"}},\"id\":\"1429\",\"type\":\"Circle\"},{\"attributes\":{\"data_source\":{\"id\":\"1353\",\"type\":\"ColumnDataSource\"},\"glyph\":{\"id\":\"1388\",\"type\":\"Circle\"},\"hover_glyph\":{\"id\":\"1390\",\"type\":\"Circle\"},\"muted_glyph\":null,\"nonselection_glyph\":{\"id\":\"1389\",\"type\":\"Circle\"},\"selection_glyph\":null,\"view\":{\"id\":\"1392\",\"type\":\"CDSView\"}},\"id\":\"1391\",\"type\":\"GlyphRenderer\"},{\"attributes\":{\"callback\":null},\"id\":\"1398\",\"type\":\"DataRange1d\"},{\"attributes\":{\"data_source\":{\"id\":\"1353\",\"type\":\"ColumnDataSource\"},\"glyph\":{\"id\":\"1422\",\"type\":\"Line\"},\"hover_glyph\":null,\"muted_glyph\":null,\"nonselection_glyph\":{\"id\":\"1423\",\"type\":\"Line\"},\"selection_glyph\":null,\"view\":{\"id\":\"1425\",\"type\":\"CDSView\"}},\"id\":\"1424\",\"type\":\"GlyphRenderer\"},{\"attributes\":{},\"id\":\"1414\",\"type\":\"PanTool\"},{\"attributes\":{\"source\":{\"id\":\"1353\",\"type\":\"ColumnDataSource\"}},\"id\":\"1386\",\"type\":\"CDSView\"},{\"attributes\":{\"fill_color\":{\"value\":\"#1f77b4\"},\"line_color\":{\"value\":\"#1f77b4\"},\"size\":{\"units\":\"screen\",\"value\":10},\"x\":{\"field\":\"stop_datetime\"},\"y\":{\"field\":\"drugs_related_stop\"}},\"id\":\"1388\",\"type\":\"Circle\"},{\"attributes\":{\"line_color\":\"green\",\"line_width\":2,\"x\":{\"field\":\"stop_datetime\"},\"y\":{\"field\":\"search_conducted\"}},\"id\":\"1422\",\"type\":\"Line\"},{\"attributes\":{\"formatter\":{\"id\":\"1467\",\"type\":\"BasicTickFormatter\"},\"ticker\":{\"id\":\"1405\",\"type\":\"BasicTicker\"}},\"id\":\"1404\",\"type\":\"LinearAxis\"},{\"attributes\":{\"data_source\":{\"id\":\"1353\",\"type\":\"ColumnDataSource\"},\"glyph\":{\"id\":\"1427\",\"type\":\"Circle\"},\"hover_glyph\":{\"id\":\"1429\",\"type\":\"Circle\"},\"muted_glyph\":null,\"nonselection_glyph\":{\"id\":\"1428\",\"type\":\"Circle\"},\"selection_glyph\":null,\"view\":{\"id\":\"1431\",\"type\":\"CDSView\"}},\"id\":\"1430\",\"type\":\"GlyphRenderer\"},{\"attributes\":{},\"id\":\"1361\",\"type\":\"LinearScale\"},{\"attributes\":{\"data_source\":{\"id\":\"1353\",\"type\":\"ColumnDataSource\"},\"glyph\":{\"id\":\"1383\",\"type\":\"Line\"},\"hover_glyph\":null,\"muted_glyph\":null,\"nonselection_glyph\":{\"id\":\"1384\",\"type\":\"Line\"},\"selection_glyph\":null,\"view\":{\"id\":\"1386\",\"type\":\"CDSView\"}},\"id\":\"1385\",\"type\":\"GlyphRenderer\"},{\"attributes\":{},\"id\":\"1400\",\"type\":\"LinearScale\"},{\"attributes\":{},\"id\":\"1366\",\"type\":\"BasicTicker\"},{\"attributes\":{},\"id\":\"1410\",\"type\":\"BasicTicker\"},{\"attributes\":{\"source\":{\"id\":\"1353\",\"type\":\"ColumnDataSource\"}},\"id\":\"1392\",\"type\":\"CDSView\"},{\"attributes\":{\"bottom_units\":\"screen\",\"fill_alpha\":{\"value\":0.5},\"fill_color\":{\"value\":\"lightgrey\"},\"left_units\":\"screen\",\"level\":\"overlay\",\"line_alpha\":{\"value\":1.0},\"line_color\":{\"value\":\"black\"},\"line_dash\":[4,4],\"line_width\":{\"value\":2},\"render_mode\":\"css\",\"right_units\":\"screen\",\"top_units\":\"screen\"},\"id\":\"1471\",\"type\":\"BoxAnnotation\"},{\"attributes\":{\"callback\":null,\"formatters\":{\"stop_datetime\":\"datetime\"},\"tooltips\":[[\"Year\",\"@stop_datetime\"],[\"Rate\",\"@search_conducted{0.000}\"],[\"Drugs Rate\",\"@drugs_related_stop{0.000}\"]]},\"id\":\"1434\",\"type\":\"HoverTool\"},{\"attributes\":{},\"id\":\"1376\",\"type\":\"ResetTool\"},{\"attributes\":{\"line_color\":\"#1f77b4\",\"line_width\":2,\"x\":{\"field\":\"stop_datetime\"},\"y\":{\"field\":\"drugs_related_stop\"}},\"id\":\"1383\",\"type\":\"Line\"},{\"attributes\":{\"ticker\":{\"id\":\"1405\",\"type\":\"BasicTicker\"}},\"id\":\"1408\",\"type\":\"Grid\"},{\"attributes\":{\"overlay\":{\"id\":\"1471\",\"type\":\"BoxAnnotation\"}},\"id\":\"1377\",\"type\":\"BoxZoomTool\"},{\"attributes\":{\"callback\":null,\"data\":{\"drugs_related_stop\":{\"__ndarray__\":\"sTirOjyhej8eD8vPdrp9P3jteruEUoA/BsKP7ba9fj+jLpOodkCEP2jmRhF1pYQ/ycurJBDugz9123JheFGEP/oToqXE0Io/dvJ8bA5RjD9QY1Mt/R6JPw==\",\"dtype\":\"float64\",\"shape\":[11]},\"search_conducted\":{\"__ndarray__\":\"mNt172osqT/xrVtrR2GlPw7h+ft6jqY/hVordX+jpD/GMeFHWIepPzuOwPa68KY/zXqdIeREoj+ca7aLGTahPxBnPMg2vp4/agv7FzVIoD9+pNI5Vy6dPw==\",\"dtype\":\"float64\",\"shape\":[11]},\"stop_datetime\":[2005,2006,2007,2008,2009,2010,2011,2012,2013,2014,2015]},\"selected\":{\"id\":\"1472\",\"type\":\"Selection\"},\"selection_policy\":{\"id\":\"1473\",\"type\":\"UnionRenderers\"}},\"id\":\"1353\",\"type\":\"ColumnDataSource\"},{\"attributes\":{\"overlay\":{\"id\":\"1474\",\"type\":\"BoxAnnotation\"}},\"id\":\"1416\",\"type\":\"BoxZoomTool\"},{\"attributes\":{\"fill_alpha\":{\"value\":0.1},\"fill_color\":{\"value\":\"#1f77b4\"},\"line_alpha\":{\"value\":0.1},\"line_color\":{\"value\":\"#1f77b4\"},\"size\":{\"units\":\"screen\",\"value\":10},\"x\":{\"field\":\"stop_datetime\"},\"y\":{\"field\":\"search_conducted\"}},\"id\":\"1428\",\"type\":\"Circle\"},{\"attributes\":{\"formatter\":{\"id\":\"1469\",\"type\":\"BasicTickFormatter\"},\"ticker\":{\"id\":\"1410\",\"type\":\"BasicTicker\"}},\"id\":\"1409\",\"type\":\"LinearAxis\"},{\"attributes\":{\"below\":[{\"id\":\"1365\",\"type\":\"LinearAxis\"}],\"center\":[{\"id\":\"1369\",\"type\":\"Grid\"},{\"id\":\"1374\",\"type\":\"Grid\"}],\"left\":[{\"id\":\"1370\",\"type\":\"LinearAxis\"}],\"plot_height\":200,\"renderers\":[{\"id\":\"1385\",\"type\":\"GlyphRenderer\"},{\"id\":\"1391\",\"type\":\"GlyphRenderer\"}],\"title\":{\"id\":\"1355\",\"type\":\"Title\"},\"toolbar\":{\"id\":\"1378\",\"type\":\"Toolbar\"},\"x_range\":{\"id\":\"1396\",\"type\":\"DataRange1d\"},\"x_scale\":{\"id\":\"1361\",\"type\":\"LinearScale\"},\"y_range\":{\"id\":\"1359\",\"type\":\"DataRange1d\"},\"y_scale\":{\"id\":\"1363\",\"type\":\"LinearScale\"}},\"id\":\"1354\",\"subtype\":\"Figure\",\"type\":\"Plot\"},{\"attributes\":{\"callback\":null},\"id\":\"1396\",\"type\":\"DataRange1d\"},{\"attributes\":{\"source\":{\"id\":\"1353\",\"type\":\"ColumnDataSource\"}},\"id\":\"1425\",\"type\":\"CDSView\"},{\"attributes\":{\"active_drag\":\"auto\",\"active_inspect\":\"auto\",\"active_multi\":null,\"active_scroll\":\"auto\",\"active_tap\":\"auto\",\"tools\":[{\"id\":\"1375\",\"type\":\"PanTool\"},{\"id\":\"1376\",\"type\":\"ResetTool\"},{\"id\":\"1377\",\"type\":\"BoxZoomTool\"},{\"id\":\"1432\",\"type\":\"HoverTool\"}]},\"id\":\"1378\",\"type\":\"Toolbar\"},{\"attributes\":{},\"id\":\"1371\",\"type\":\"BasicTicker\"},{\"attributes\":{},\"id\":\"1405\",\"type\":\"BasicTicker\"},{\"attributes\":{\"formatter\":{\"id\":\"1463\",\"type\":\"BasicTickFormatter\"},\"ticker\":{\"id\":\"1366\",\"type\":\"BasicTicker\"}},\"id\":\"1365\",\"type\":\"LinearAxis\"},{\"attributes\":{\"formatter\":{\"id\":\"1465\",\"type\":\"BasicTickFormatter\"},\"ticker\":{\"id\":\"1371\",\"type\":\"BasicTicker\"}},\"id\":\"1370\",\"type\":\"LinearAxis\"},{\"attributes\":{\"dimension\":1,\"ticker\":{\"id\":\"1371\",\"type\":\"BasicTicker\"}},\"id\":\"1374\",\"type\":\"Grid\"},{\"attributes\":{\"line_alpha\":0.1,\"line_color\":\"#1f77b4\",\"line_width\":2,\"x\":{\"field\":\"stop_datetime\"},\"y\":{\"field\":\"search_conducted\"}},\"id\":\"1423\",\"type\":\"Line\"},{\"attributes\":{\"source\":{\"id\":\"1353\",\"type\":\"ColumnDataSource\"}},\"id\":\"1431\",\"type\":\"CDSView\"},{\"attributes\":{},\"id\":\"1469\",\"type\":\"BasicTickFormatter\"},{\"attributes\":{\"callback\":null,\"formatters\":{\"stop_datetime\":\"datetime\"},\"tooltips\":[[\"Year\",\"@stop_datetime\"],[\"Drugs Rate\",\"@drugs_related_stop{0.000}\"],[\"Search Rate\",\"@search_conducted{0.000}\"]]},\"id\":\"1432\",\"type\":\"HoverTool\"},{\"attributes\":{},\"id\":\"1375\",\"type\":\"PanTool\"},{\"attributes\":{\"ticker\":{\"id\":\"1366\",\"type\":\"BasicTicker\"}},\"id\":\"1369\",\"type\":\"Grid\"},{\"attributes\":{\"text\":\"Annual Drug Relate Stop Rate\"},\"id\":\"1355\",\"type\":\"Title\"}],\"root_ids\":[\"1436\"]},\"title\":\"Bokeh Application\",\"version\":\"1.4.0\"}};\n",
       "  var render_items = [{\"docid\":\"1d93245c-002b-4219-b47f-0343427da4cc\",\"roots\":{\"1436\":\"d3e35e73-f1e0-4a4b-ac18-0711255fb091\"}}];\n",
       "  root.Bokeh.embed.embed_items_notebook(docs_json, render_items);\n",
       "\n",
       "  }\n",
       "  if (root.Bokeh !== undefined) {\n",
       "    embed_document(root);\n",
       "  } else {\n",
       "    var attempts = 0;\n",
       "    var timer = setInterval(function(root) {\n",
       "      if (root.Bokeh !== undefined) {\n",
       "        clearInterval(timer);\n",
       "        embed_document(root);\n",
       "      } else {\n",
       "        attempts++;\n",
       "        if (attempts > 100) {\n",
       "          clearInterval(timer);\n",
       "          console.log(\"Bokeh: ERROR: Unable to run BokehJS code because BokehJS library is missing\");\n",
       "        }\n",
       "      }\n",
       "    }, 10, root)\n",
       "  }\n",
       "})(window);"
      ],
      "application/vnd.bokehjs_exec.v0+json": ""
     },
     "metadata": {
      "application/vnd.bokehjs_exec.v0+json": {
       "id": "1436"
      }
     },
     "output_type": "display_data"
    }
   ],
   "source": [
    "from bokeh.layouts import column\n",
    "from bokeh.models import CustomJS\n",
    "\n",
    "data = ColumnDataSource(annual)\n",
    "\n",
    "s1 = figure(plot_height=200,\n",
    "            title='Annual Drug Relate Stop Rate', tools=['pan', 'reset', 'box_zoom'])\n",
    "\n",
    "s1.line(x='stop_datetime', y='drugs_related_stop', source=data, line_width=2)\n",
    "s1.circle(x='stop_datetime', y='drugs_related_stop', source=data,\n",
    "          size=10, hover_fill_color='red')\n",
    "\n",
    "s2 = figure(plot_height=200, tools=['pan', 'reset', 'box_zoom'],\n",
    "            title='Annual Search Rate')\n",
    "\n",
    "s2.line(x='stop_datetime', y='search_conducted', source=data, line_width=2,\n",
    "       color='green')\n",
    "s2.circle(x='stop_datetime', y='search_conducted', source=data,\n",
    "          size=10, hover_fill_color='red', color='green')\n",
    "\n",
    "s1.add_tools(HoverTool(tooltips=[('Year', '@stop_datetime'),\n",
    "                                 ('Drugs Rate', '@drugs_related_stop{0.000}'),\n",
    "                                 ('Search Rate', '@search_conducted{0.000}')],\n",
    "                       formatters={'stop_datetime':'datetime'}))\n",
    "s2.add_tools(HoverTool(tooltips=[('Year', '@stop_datetime'),\n",
    "                                 ('Rate', '@search_conducted{0.000}'),\n",
    "                                 ('Drugs Rate', '@drugs_related_stop{0.000}')],\n",
    "                       formatters={'stop_datetime':'datetime'}))\n",
    "\n",
    "#linking the ranges of the figures\n",
    "s1.x_range = s2.x_range\n",
    "\n",
    "show(column(s1,s2))"
   ]
  },
  {
   "cell_type": "markdown",
   "metadata": {},
   "source": [
    "It is remarking that the search rate decreased but drug related stops still increased!"
   ]
  },
  {
   "cell_type": "markdown",
   "metadata": {},
   "source": [
    "**What violations are caught in each district?**"
   ]
  },
  {
   "cell_type": "markdown",
   "metadata": {},
   "source": [
    "Let's produce frequency table of *violation* counts in each *district*."
   ]
  },
  {
   "cell_type": "code",
   "execution_count": 277,
   "metadata": {},
   "outputs": [
    {
     "data": {
      "text/html": [
       "<div>\n",
       "<style scoped>\n",
       "    .dataframe tbody tr th:only-of-type {\n",
       "        vertical-align: middle;\n",
       "    }\n",
       "\n",
       "    .dataframe tbody tr th {\n",
       "        vertical-align: top;\n",
       "    }\n",
       "\n",
       "    .dataframe thead th {\n",
       "        text-align: right;\n",
       "    }\n",
       "</style>\n",
       "<table border=\"1\" class=\"dataframe\">\n",
       "  <thead>\n",
       "    <tr style=\"text-align: right;\">\n",
       "      <th>violation</th>\n",
       "      <th>Equipment</th>\n",
       "      <th>Moving violation</th>\n",
       "      <th>Other</th>\n",
       "      <th>Registration/plates</th>\n",
       "      <th>Seat belt</th>\n",
       "      <th>Speeding</th>\n",
       "    </tr>\n",
       "    <tr>\n",
       "      <th>district</th>\n",
       "      <th></th>\n",
       "      <th></th>\n",
       "      <th></th>\n",
       "      <th></th>\n",
       "      <th></th>\n",
       "      <th></th>\n",
       "    </tr>\n",
       "  </thead>\n",
       "  <tbody>\n",
       "    <tr>\n",
       "      <th>Zone K1</th>\n",
       "      <td>672</td>\n",
       "      <td>1254</td>\n",
       "      <td>290</td>\n",
       "      <td>120</td>\n",
       "      <td>0</td>\n",
       "      <td>5960</td>\n",
       "    </tr>\n",
       "    <tr>\n",
       "      <th>Zone K2</th>\n",
       "      <td>2061</td>\n",
       "      <td>2962</td>\n",
       "      <td>942</td>\n",
       "      <td>768</td>\n",
       "      <td>481</td>\n",
       "      <td>10448</td>\n",
       "    </tr>\n",
       "    <tr>\n",
       "      <th>Zone K3</th>\n",
       "      <td>2302</td>\n",
       "      <td>2898</td>\n",
       "      <td>705</td>\n",
       "      <td>695</td>\n",
       "      <td>638</td>\n",
       "      <td>12322</td>\n",
       "    </tr>\n",
       "    <tr>\n",
       "      <th>Zone X1</th>\n",
       "      <td>296</td>\n",
       "      <td>671</td>\n",
       "      <td>143</td>\n",
       "      <td>38</td>\n",
       "      <td>74</td>\n",
       "      <td>1119</td>\n",
       "    </tr>\n",
       "    <tr>\n",
       "      <th>Zone X3</th>\n",
       "      <td>2049</td>\n",
       "      <td>3086</td>\n",
       "      <td>769</td>\n",
       "      <td>671</td>\n",
       "      <td>820</td>\n",
       "      <td>8779</td>\n",
       "    </tr>\n",
       "    <tr>\n",
       "      <th>Zone X4</th>\n",
       "      <td>3541</td>\n",
       "      <td>5353</td>\n",
       "      <td>1560</td>\n",
       "      <td>1411</td>\n",
       "      <td>843</td>\n",
       "      <td>9795</td>\n",
       "    </tr>\n",
       "  </tbody>\n",
       "</table>\n",
       "</div>"
      ],
      "text/plain": [
       "violation  Equipment  Moving violation  Other  Registration/plates  Seat belt  \\\n",
       "district                                                                        \n",
       "Zone K1          672              1254    290                  120          0   \n",
       "Zone K2         2061              2962    942                  768        481   \n",
       "Zone K3         2302              2898    705                  695        638   \n",
       "Zone X1          296               671    143                   38         74   \n",
       "Zone X3         2049              3086    769                  671        820   \n",
       "Zone X4         3541              5353   1560                 1411        843   \n",
       "\n",
       "violation  Speeding  \n",
       "district             \n",
       "Zone K1        5960  \n",
       "Zone K2       10448  \n",
       "Zone K3       12322  \n",
       "Zone X1        1119  \n",
       "Zone X3        8779  \n",
       "Zone X4        9795  "
      ]
     },
     "execution_count": 277,
     "metadata": {},
     "output_type": "execute_result"
    }
   ],
   "source": [
    "district_violations = pd.crosstab(index=police_c.district,columns=police_c.violation)\n",
    "district_violations"
   ]
  },
  {
   "cell_type": "markdown",
   "metadata": {},
   "source": [
    "The result can be more-telling if we visualized the result as bar chart. For Bokeh we need to change the index and column types to object, rather than categoircal."
   ]
  },
  {
   "cell_type": "code",
   "execution_count": 278,
   "metadata": {},
   "outputs": [],
   "source": [
    "#change dtype from categorical to object for each column\n",
    "district_violations.columns = district_violations.columns.astype('str')\n",
    "\n",
    "#reset the index to ordinary column\n",
    "district_violations.reset_index(level='district', inplace=True)\n",
    "\n",
    "#change index from dtype category to object\n",
    "district_violations.district = district_violations.district.astype('object')"
   ]
  },
  {
   "cell_type": "markdown",
   "metadata": {},
   "source": [
    "*violation* is only a name for the index that is left from the <code>pd.crosstab()</code> DF"
   ]
  },
  {
   "cell_type": "code",
   "execution_count": 286,
   "metadata": {},
   "outputs": [
    {
     "data": {
      "text/html": [
       "\n",
       "\n",
       "\n",
       "\n",
       "\n",
       "\n",
       "  <div class=\"bk-root\" id=\"54801165-634f-426a-a146-4b7847e9a292\" data-root-id=\"7678\"></div>\n"
      ]
     },
     "metadata": {},
     "output_type": "display_data"
    },
    {
     "data": {
      "application/javascript": [
       "(function(root) {\n",
       "  function embed_document(root) {\n",
       "    \n",
       "  var docs_json = {\"db8712fe-f865-41f0-a809-61eba77925ce\":{\"roots\":{\"references\":[{\"attributes\":{\"below\":[{\"id\":\"7689\",\"type\":\"CategoricalAxis\"}],\"center\":[{\"id\":\"7692\",\"type\":\"Grid\"},{\"id\":\"7697\",\"type\":\"Grid\"}],\"left\":[{\"id\":\"7693\",\"type\":\"LinearAxis\"}],\"plot_height\":350,\"renderers\":[{\"id\":\"7726\",\"type\":\"GlyphRenderer\"},{\"id\":\"7731\",\"type\":\"GlyphRenderer\"},{\"id\":\"7736\",\"type\":\"GlyphRenderer\"},{\"id\":\"7741\",\"type\":\"GlyphRenderer\"},{\"id\":\"7746\",\"type\":\"GlyphRenderer\"},{\"id\":\"7751\",\"type\":\"GlyphRenderer\"}],\"title\":{\"id\":\"7679\",\"type\":\"Title\"},\"toolbar\":{\"id\":\"7704\",\"type\":\"Toolbar\"},\"x_range\":{\"id\":\"7681\",\"type\":\"FactorRange\"},\"x_scale\":{\"id\":\"7685\",\"type\":\"CategoricalScale\"},\"y_range\":{\"id\":\"7683\",\"type\":\"DataRange1d\"},\"y_scale\":{\"id\":\"7687\",\"type\":\"LinearScale\"}},\"id\":\"7678\",\"subtype\":\"Figure\",\"type\":\"Plot\"},{\"attributes\":{\"bottom\":{\"expr\":{\"id\":\"7713\",\"type\":\"Stack\"}},\"fill_color\":{\"value\":\"#ff7f0e\"},\"line_color\":{\"value\":\"#ff7f0e\"},\"top\":{\"expr\":{\"id\":\"7714\",\"type\":\"Stack\"}},\"width\":{\"value\":0.5},\"x\":{\"field\":\"district\"}},\"id\":\"7729\",\"type\":\"VBar\"},{\"attributes\":{},\"id\":\"7964\",\"type\":\"BasicTickFormatter\"},{\"attributes\":{\"fields\":[\"Equipment\",\"Moving violation\"]},\"id\":\"7715\",\"type\":\"Stack\"},{\"attributes\":{\"data_source\":{\"id\":\"7677\",\"type\":\"ColumnDataSource\"},\"glyph\":{\"id\":\"7744\",\"type\":\"VBar\"},\"hover_glyph\":null,\"muted_glyph\":null,\"name\":\"Seat belt\",\"nonselection_glyph\":{\"id\":\"7745\",\"type\":\"VBar\"},\"selection_glyph\":null,\"view\":{\"id\":\"7747\",\"type\":\"CDSView\"}},\"id\":\"7746\",\"type\":\"GlyphRenderer\"},{\"attributes\":{\"ticker\":{\"id\":\"7690\",\"type\":\"CategoricalTicker\"}},\"id\":\"7692\",\"type\":\"Grid\"},{\"attributes\":{\"fields\":[\"Equipment\",\"Moving violation\",\"Other\",\"Registration/plates\",\"Seat belt\"]},\"id\":\"7720\",\"type\":\"Stack\"},{\"attributes\":{\"data_source\":{\"id\":\"7677\",\"type\":\"ColumnDataSource\"},\"glyph\":{\"id\":\"7729\",\"type\":\"VBar\"},\"hover_glyph\":null,\"muted_glyph\":null,\"name\":\"Moving violation\",\"nonselection_glyph\":{\"id\":\"7730\",\"type\":\"VBar\"},\"selection_glyph\":null,\"view\":{\"id\":\"7732\",\"type\":\"CDSView\"}},\"id\":\"7731\",\"type\":\"GlyphRenderer\"},{\"attributes\":{},\"id\":\"7694\",\"type\":\"BasicTicker\"},{\"attributes\":{\"bottom\":{\"expr\":{\"id\":\"7719\",\"type\":\"Stack\"}},\"fill_alpha\":{\"value\":0.1},\"fill_color\":{\"value\":\"#1f77b4\"},\"line_alpha\":{\"value\":0.1},\"line_color\":{\"value\":\"#1f77b4\"},\"top\":{\"expr\":{\"id\":\"7720\",\"type\":\"Stack\"}},\"width\":{\"value\":0.5},\"x\":{\"field\":\"district\"}},\"id\":\"7745\",\"type\":\"VBar\"},{\"attributes\":{\"source\":{\"id\":\"7677\",\"type\":\"ColumnDataSource\"}},\"id\":\"7752\",\"type\":\"CDSView\"},{\"attributes\":{\"fields\":[\"Equipment\"]},\"id\":\"7713\",\"type\":\"Stack\"},{\"attributes\":{\"fields\":[\"Equipment\",\"Moving violation\",\"Other\"]},\"id\":\"7716\",\"type\":\"Stack\"},{\"attributes\":{},\"id\":\"7702\",\"type\":\"ResetTool\"},{\"attributes\":{\"fields\":[\"Equipment\",\"Moving violation\",\"Other\",\"Registration/plates\",\"Seat belt\"]},\"id\":\"7721\",\"type\":\"Stack\"},{\"attributes\":{\"source\":{\"id\":\"7677\",\"type\":\"ColumnDataSource\"}},\"id\":\"7732\",\"type\":\"CDSView\"},{\"attributes\":{\"bottom\":{\"expr\":{\"id\":\"7715\",\"type\":\"Stack\"}},\"fill_alpha\":{\"value\":0.1},\"fill_color\":{\"value\":\"#1f77b4\"},\"line_alpha\":{\"value\":0.1},\"line_color\":{\"value\":\"#1f77b4\"},\"top\":{\"expr\":{\"id\":\"7716\",\"type\":\"Stack\"}},\"width\":{\"value\":0.5},\"x\":{\"field\":\"district\"}},\"id\":\"7735\",\"type\":\"VBar\"},{\"attributes\":{},\"id\":\"7685\",\"type\":\"CategoricalScale\"},{\"attributes\":{\"axis_label\":\"Zone\",\"formatter\":{\"id\":\"7962\",\"type\":\"CategoricalTickFormatter\"},\"ticker\":{\"id\":\"7690\",\"type\":\"CategoricalTicker\"}},\"id\":\"7689\",\"type\":\"CategoricalAxis\"},{\"attributes\":{\"source\":{\"id\":\"7677\",\"type\":\"ColumnDataSource\"}},\"id\":\"7742\",\"type\":\"CDSView\"},{\"attributes\":{\"bottom\":{\"expr\":{\"id\":\"7717\",\"type\":\"Stack\"}},\"fill_alpha\":{\"value\":0.1},\"fill_color\":{\"value\":\"#1f77b4\"},\"line_alpha\":{\"value\":0.1},\"line_color\":{\"value\":\"#1f77b4\"},\"top\":{\"expr\":{\"id\":\"7718\",\"type\":\"Stack\"}},\"width\":{\"value\":0.5},\"x\":{\"field\":\"district\"}},\"id\":\"7740\",\"type\":\"VBar\"},{\"attributes\":{\"source\":{\"id\":\"7677\",\"type\":\"ColumnDataSource\"}},\"id\":\"7747\",\"type\":\"CDSView\"},{\"attributes\":{\"fields\":[\"Equipment\",\"Moving violation\",\"Other\"]},\"id\":\"7717\",\"type\":\"Stack\"},{\"attributes\":{\"axis_label\":\"Count\",\"formatter\":{\"id\":\"7964\",\"type\":\"BasicTickFormatter\"},\"ticker\":{\"id\":\"7694\",\"type\":\"BasicTicker\"}},\"id\":\"7693\",\"type\":\"LinearAxis\"},{\"attributes\":{\"active_drag\":\"auto\",\"active_inspect\":\"auto\",\"active_multi\":null,\"active_scroll\":\"auto\",\"active_tap\":\"auto\",\"tools\":[{\"id\":\"7698\",\"type\":\"PanTool\"},{\"id\":\"7699\",\"type\":\"WheelZoomTool\"},{\"id\":\"7700\",\"type\":\"BoxZoomTool\"},{\"id\":\"7701\",\"type\":\"SaveTool\"},{\"id\":\"7702\",\"type\":\"ResetTool\"},{\"id\":\"7703\",\"type\":\"HelpTool\"},{\"id\":\"7753\",\"type\":\"HoverTool\"}]},\"id\":\"7704\",\"type\":\"Toolbar\"},{\"attributes\":{\"text\":\"Violations by District\"},\"id\":\"7679\",\"type\":\"Title\"},{\"attributes\":{\"bottom\":{\"expr\":{\"id\":\"7713\",\"type\":\"Stack\"}},\"fill_alpha\":{\"value\":0.1},\"fill_color\":{\"value\":\"#1f77b4\"},\"line_alpha\":{\"value\":0.1},\"line_color\":{\"value\":\"#1f77b4\"},\"top\":{\"expr\":{\"id\":\"7714\",\"type\":\"Stack\"}},\"width\":{\"value\":0.5},\"x\":{\"field\":\"district\"}},\"id\":\"7730\",\"type\":\"VBar\"},{\"attributes\":{\"bottom\":{\"expr\":{\"id\":\"7719\",\"type\":\"Stack\"}},\"fill_color\":{\"value\":\"#9467bd\"},\"line_color\":{\"value\":\"#9467bd\"},\"top\":{\"expr\":{\"id\":\"7720\",\"type\":\"Stack\"}},\"width\":{\"value\":0.5},\"x\":{\"field\":\"district\"}},\"id\":\"7744\",\"type\":\"VBar\"},{\"attributes\":{},\"id\":\"7698\",\"type\":\"PanTool\"},{\"attributes\":{},\"id\":\"7962\",\"type\":\"CategoricalTickFormatter\"},{\"attributes\":{\"data_source\":{\"id\":\"7677\",\"type\":\"ColumnDataSource\"},\"glyph\":{\"id\":\"7749\",\"type\":\"VBar\"},\"hover_glyph\":null,\"muted_glyph\":null,\"name\":\"Speeding\",\"nonselection_glyph\":{\"id\":\"7750\",\"type\":\"VBar\"},\"selection_glyph\":null,\"view\":{\"id\":\"7752\",\"type\":\"CDSView\"}},\"id\":\"7751\",\"type\":\"GlyphRenderer\"},{\"attributes\":{},\"id\":\"7968\",\"type\":\"UnionRenderers\"},{\"attributes\":{\"bottom\":{\"expr\":{\"id\":\"7715\",\"type\":\"Stack\"}},\"fill_color\":{\"value\":\"#2ca02c\"},\"line_color\":{\"value\":\"#2ca02c\"},\"top\":{\"expr\":{\"id\":\"7716\",\"type\":\"Stack\"}},\"width\":{\"value\":0.5},\"x\":{\"field\":\"district\"}},\"id\":\"7734\",\"type\":\"VBar\"},{\"attributes\":{},\"id\":\"7701\",\"type\":\"SaveTool\"},{\"attributes\":{\"callback\":null,\"data\":{\"Equipment\":[672,2061,2302,296,2049,3541],\"Moving violation\":[1254,2962,2898,671,3086,5353],\"Other\":[290,942,705,143,769,1560],\"Registration/plates\":[120,768,695,38,671,1411],\"Seat belt\":[0,481,638,74,820,843],\"Speeding\":[5960,10448,12322,1119,8779,9795],\"district\":[\"Zone K1\",\"Zone K2\",\"Zone K3\",\"Zone X1\",\"Zone X3\",\"Zone X4\"],\"index\":[0,1,2,3,4,5]},\"selected\":{\"id\":\"7967\",\"type\":\"Selection\"},\"selection_policy\":{\"id\":\"7968\",\"type\":\"UnionRenderers\"}},\"id\":\"7677\",\"type\":\"ColumnDataSource\"},{\"attributes\":{\"source\":{\"id\":\"7677\",\"type\":\"ColumnDataSource\"}},\"id\":\"7727\",\"type\":\"CDSView\"},{\"attributes\":{\"fields\":[\"Equipment\",\"Moving violation\",\"Other\",\"Registration/plates\"]},\"id\":\"7718\",\"type\":\"Stack\"},{\"attributes\":{\"bottom\":{\"expr\":{\"id\":\"7721\",\"type\":\"Stack\"}},\"fill_color\":{\"value\":\"#8c564b\"},\"line_color\":{\"value\":\"#8c564b\"},\"top\":{\"expr\":{\"id\":\"7722\",\"type\":\"Stack\"}},\"width\":{\"value\":0.5},\"x\":{\"field\":\"district\"}},\"id\":\"7749\",\"type\":\"VBar\"},{\"attributes\":{\"fields\":[]},\"id\":\"7711\",\"type\":\"Stack\"},{\"attributes\":{\"dimension\":1,\"ticker\":{\"id\":\"7694\",\"type\":\"BasicTicker\"}},\"id\":\"7697\",\"type\":\"Grid\"},{\"attributes\":{\"bottom\":{\"expr\":{\"id\":\"7717\",\"type\":\"Stack\"}},\"fill_color\":{\"value\":\"#d62728\"},\"line_color\":{\"value\":\"#d62728\"},\"top\":{\"expr\":{\"id\":\"7718\",\"type\":\"Stack\"}},\"width\":{\"value\":0.5},\"x\":{\"field\":\"district\"}},\"id\":\"7739\",\"type\":\"VBar\"},{\"attributes\":{\"data_source\":{\"id\":\"7677\",\"type\":\"ColumnDataSource\"},\"glyph\":{\"id\":\"7724\",\"type\":\"VBar\"},\"hover_glyph\":null,\"muted_glyph\":null,\"name\":\"Equipment\",\"nonselection_glyph\":{\"id\":\"7725\",\"type\":\"VBar\"},\"selection_glyph\":null,\"view\":{\"id\":\"7727\",\"type\":\"CDSView\"}},\"id\":\"7726\",\"type\":\"GlyphRenderer\"},{\"attributes\":{\"data_source\":{\"id\":\"7677\",\"type\":\"ColumnDataSource\"},\"glyph\":{\"id\":\"7734\",\"type\":\"VBar\"},\"hover_glyph\":null,\"muted_glyph\":null,\"name\":\"Other\",\"nonselection_glyph\":{\"id\":\"7735\",\"type\":\"VBar\"},\"selection_glyph\":null,\"view\":{\"id\":\"7737\",\"type\":\"CDSView\"}},\"id\":\"7736\",\"type\":\"GlyphRenderer\"},{\"attributes\":{\"bottom\":{\"expr\":{\"id\":\"7711\",\"type\":\"Stack\"}},\"fill_color\":{\"value\":\"#1f77b4\"},\"line_color\":{\"value\":\"#1f77b4\"},\"top\":{\"expr\":{\"id\":\"7712\",\"type\":\"Stack\"}},\"width\":{\"value\":0.5},\"x\":{\"field\":\"district\"}},\"id\":\"7724\",\"type\":\"VBar\"},{\"attributes\":{\"bottom\":{\"expr\":{\"id\":\"7711\",\"type\":\"Stack\"}},\"fill_alpha\":{\"value\":0.1},\"fill_color\":{\"value\":\"#1f77b4\"},\"line_alpha\":{\"value\":0.1},\"line_color\":{\"value\":\"#1f77b4\"},\"top\":{\"expr\":{\"id\":\"7712\",\"type\":\"Stack\"}},\"width\":{\"value\":0.5},\"x\":{\"field\":\"district\"}},\"id\":\"7725\",\"type\":\"VBar\"},{\"attributes\":{\"bottom\":{\"expr\":{\"id\":\"7721\",\"type\":\"Stack\"}},\"fill_alpha\":{\"value\":0.1},\"fill_color\":{\"value\":\"#1f77b4\"},\"line_alpha\":{\"value\":0.1},\"line_color\":{\"value\":\"#1f77b4\"},\"top\":{\"expr\":{\"id\":\"7722\",\"type\":\"Stack\"}},\"width\":{\"value\":0.5},\"x\":{\"field\":\"district\"}},\"id\":\"7750\",\"type\":\"VBar\"},{\"attributes\":{\"callback\":null,\"tooltips\":[[\"Violation\",\"$name\"],[\"Count\",\"@$name\"]]},\"id\":\"7753\",\"type\":\"HoverTool\"},{\"attributes\":{},\"id\":\"7967\",\"type\":\"Selection\"},{\"attributes\":{\"fields\":[\"Equipment\"]},\"id\":\"7712\",\"type\":\"Stack\"},{\"attributes\":{\"data_source\":{\"id\":\"7677\",\"type\":\"ColumnDataSource\"},\"glyph\":{\"id\":\"7739\",\"type\":\"VBar\"},\"hover_glyph\":null,\"muted_glyph\":null,\"name\":\"Registration/plates\",\"nonselection_glyph\":{\"id\":\"7740\",\"type\":\"VBar\"},\"selection_glyph\":null,\"view\":{\"id\":\"7742\",\"type\":\"CDSView\"}},\"id\":\"7741\",\"type\":\"GlyphRenderer\"},{\"attributes\":{},\"id\":\"7690\",\"type\":\"CategoricalTicker\"},{\"attributes\":{},\"id\":\"7687\",\"type\":\"LinearScale\"},{\"attributes\":{},\"id\":\"7703\",\"type\":\"HelpTool\"},{\"attributes\":{\"callback\":null},\"id\":\"7683\",\"type\":\"DataRange1d\"},{\"attributes\":{\"source\":{\"id\":\"7677\",\"type\":\"ColumnDataSource\"}},\"id\":\"7737\",\"type\":\"CDSView\"},{\"attributes\":{\"fields\":[\"Equipment\",\"Moving violation\"]},\"id\":\"7714\",\"type\":\"Stack\"},{\"attributes\":{\"fields\":[\"Equipment\",\"Moving violation\",\"Other\",\"Registration/plates\"]},\"id\":\"7719\",\"type\":\"Stack\"},{\"attributes\":{\"fields\":[\"Equipment\",\"Moving violation\",\"Other\",\"Registration/plates\",\"Seat belt\",\"Speeding\"]},\"id\":\"7722\",\"type\":\"Stack\"},{\"attributes\":{\"callback\":null,\"factors\":[\"Zone K1\",\"Zone K2\",\"Zone K3\",\"Zone X1\",\"Zone X3\",\"Zone X4\"]},\"id\":\"7681\",\"type\":\"FactorRange\"},{\"attributes\":{\"overlay\":{\"id\":\"7966\",\"type\":\"BoxAnnotation\"}},\"id\":\"7700\",\"type\":\"BoxZoomTool\"},{\"attributes\":{\"bottom_units\":\"screen\",\"fill_alpha\":{\"value\":0.5},\"fill_color\":{\"value\":\"lightgrey\"},\"left_units\":\"screen\",\"level\":\"overlay\",\"line_alpha\":{\"value\":1.0},\"line_color\":{\"value\":\"black\"},\"line_dash\":[4,4],\"line_width\":{\"value\":2},\"render_mode\":\"css\",\"right_units\":\"screen\",\"top_units\":\"screen\"},\"id\":\"7966\",\"type\":\"BoxAnnotation\"},{\"attributes\":{},\"id\":\"7699\",\"type\":\"WheelZoomTool\"}],\"root_ids\":[\"7678\"]},\"title\":\"Bokeh Application\",\"version\":\"1.4.0\"}};\n",
       "  var render_items = [{\"docid\":\"db8712fe-f865-41f0-a809-61eba77925ce\",\"roots\":{\"7678\":\"54801165-634f-426a-a146-4b7847e9a292\"}}];\n",
       "  root.Bokeh.embed.embed_items_notebook(docs_json, render_items);\n",
       "\n",
       "  }\n",
       "  if (root.Bokeh !== undefined) {\n",
       "    embed_document(root);\n",
       "  } else {\n",
       "    var attempts = 0;\n",
       "    var timer = setInterval(function(root) {\n",
       "      if (root.Bokeh !== undefined) {\n",
       "        clearInterval(timer);\n",
       "        embed_document(root);\n",
       "      } else {\n",
       "        attempts++;\n",
       "        if (attempts > 100) {\n",
       "          clearInterval(timer);\n",
       "          console.log(\"Bokeh: ERROR: Unable to run BokehJS code because BokehJS library is missing\");\n",
       "        }\n",
       "      }\n",
       "    }, 10, root)\n",
       "  }\n",
       "})(window);"
      ],
      "application/vnd.bokehjs_exec.v0+json": ""
     },
     "metadata": {
      "application/vnd.bokehjs_exec.v0+json": {
       "id": "7678"
      }
     },
     "output_type": "display_data"
    }
   ],
   "source": [
    "#import color palette type [dictionary]\n",
    "from bokeh.palettes import Category10\n",
    "\n",
    "source = ColumnDataSource(district_violations)\n",
    "x = district_violations.district.values #district values\n",
    "\n",
    "Y = district_violations.columns.values[1:] #y values\n",
    "\n",
    "p = figure(plot_height=350, x_range=source.data['district'],\n",
    "           title='Violations by District', x_axis_label='Zone',\n",
    "           y_axis_label='Count')\n",
    "\n",
    "#n of colors must be specified\n",
    "p.vbar_stack(stackers=Y, x='district', width=0.5, \n",
    "             source=source, color=Category10[6])\n",
    "\n",
    "\n",
    "p.add_tools(HoverTool(tooltips=[('Violation', '$name'),\n",
    "                                ('Count', '@$name')]))\n",
    "\n",
    "show(p)"
   ]
  },
  {
   "cell_type": "markdown",
   "metadata": {},
   "source": [
    "We can see that zones: K2, K3 and X3 have similar distributions of violation counts."
   ]
  },
  {
   "cell_type": "markdown",
   "metadata": {},
   "source": [
    "**How long might you be stopped for a violation?**<br>\n",
    "We try to answer the question in 2 seprate ways:<br>\n",
    "1. We plot *stop_duration* frequencies for each violation separately.\n",
    "2. We estimate the given time durations by takin the mean of the intervals."
   ]
  },
  {
   "cell_type": "markdown",
   "metadata": {},
   "source": [
    "**1. plot stop_duration frequencies for each violation separately.**"
   ]
  },
  {
   "cell_type": "code",
   "execution_count": 287,
   "metadata": {},
   "outputs": [
    {
     "data": {
      "text/html": [
       "<div>\n",
       "<style scoped>\n",
       "    .dataframe tbody tr th:only-of-type {\n",
       "        vertical-align: middle;\n",
       "    }\n",
       "\n",
       "    .dataframe tbody tr th {\n",
       "        vertical-align: top;\n",
       "    }\n",
       "\n",
       "    .dataframe thead th {\n",
       "        text-align: right;\n",
       "    }\n",
       "</style>\n",
       "<table border=\"1\" class=\"dataframe\">\n",
       "  <thead>\n",
       "    <tr style=\"text-align: right;\">\n",
       "      <th></th>\n",
       "      <th>driver_gender</th>\n",
       "      <th>driver_race</th>\n",
       "      <th>violation</th>\n",
       "      <th>search_conducted</th>\n",
       "      <th>search_type</th>\n",
       "      <th>stop_outcome</th>\n",
       "      <th>is_arrested</th>\n",
       "      <th>stop_duration</th>\n",
       "      <th>drugs_related_stop</th>\n",
       "      <th>district</th>\n",
       "      <th>Frisk</th>\n",
       "    </tr>\n",
       "    <tr>\n",
       "      <th>stop_datetime</th>\n",
       "      <th></th>\n",
       "      <th></th>\n",
       "      <th></th>\n",
       "      <th></th>\n",
       "      <th></th>\n",
       "      <th></th>\n",
       "      <th></th>\n",
       "      <th></th>\n",
       "      <th></th>\n",
       "      <th></th>\n",
       "      <th></th>\n",
       "    </tr>\n",
       "  </thead>\n",
       "  <tbody>\n",
       "    <tr>\n",
       "      <th>2005-01-04 12:55:00</th>\n",
       "      <td>M</td>\n",
       "      <td>White</td>\n",
       "      <td>Equipment</td>\n",
       "      <td>False</td>\n",
       "      <td>NaN</td>\n",
       "      <td>Citation</td>\n",
       "      <td>False</td>\n",
       "      <td>0-15 Min</td>\n",
       "      <td>False</td>\n",
       "      <td>Zone X4</td>\n",
       "      <td>False</td>\n",
       "    </tr>\n",
       "    <tr>\n",
       "      <th>2005-01-23 23:15:00</th>\n",
       "      <td>M</td>\n",
       "      <td>White</td>\n",
       "      <td>Speeding</td>\n",
       "      <td>False</td>\n",
       "      <td>NaN</td>\n",
       "      <td>Citation</td>\n",
       "      <td>False</td>\n",
       "      <td>0-15 Min</td>\n",
       "      <td>False</td>\n",
       "      <td>Zone K3</td>\n",
       "      <td>False</td>\n",
       "    </tr>\n",
       "  </tbody>\n",
       "</table>\n",
       "</div>"
      ],
      "text/plain": [
       "                    driver_gender driver_race  violation  search_conducted  \\\n",
       "stop_datetime                                                                \n",
       "2005-01-04 12:55:00             M       White  Equipment             False   \n",
       "2005-01-23 23:15:00             M       White   Speeding             False   \n",
       "\n",
       "                    search_type stop_outcome  is_arrested stop_duration  \\\n",
       "stop_datetime                                                             \n",
       "2005-01-04 12:55:00         NaN     Citation        False      0-15 Min   \n",
       "2005-01-23 23:15:00         NaN     Citation        False      0-15 Min   \n",
       "\n",
       "                     drugs_related_stop district  Frisk  \n",
       "stop_datetime                                            \n",
       "2005-01-04 12:55:00               False  Zone X4  False  \n",
       "2005-01-23 23:15:00               False  Zone K3  False  "
      ]
     },
     "execution_count": 287,
     "metadata": {},
     "output_type": "execute_result"
    }
   ],
   "source": [
    "police_c.head(2)"
   ]
  },
  {
   "cell_type": "code",
   "execution_count": 289,
   "metadata": {},
   "outputs": [
    {
     "data": {
      "text/html": [
       "<div>\n",
       "<style scoped>\n",
       "    .dataframe tbody tr th:only-of-type {\n",
       "        vertical-align: middle;\n",
       "    }\n",
       "\n",
       "    .dataframe tbody tr th {\n",
       "        vertical-align: top;\n",
       "    }\n",
       "\n",
       "    .dataframe thead th {\n",
       "        text-align: right;\n",
       "    }\n",
       "</style>\n",
       "<table border=\"1\" class=\"dataframe\">\n",
       "  <thead>\n",
       "    <tr style=\"text-align: right;\">\n",
       "      <th>stop_duration</th>\n",
       "      <th>0-15 Min</th>\n",
       "      <th>16-30 Min</th>\n",
       "      <th>30+ Min</th>\n",
       "    </tr>\n",
       "    <tr>\n",
       "      <th>violation</th>\n",
       "      <th></th>\n",
       "      <th></th>\n",
       "      <th></th>\n",
       "    </tr>\n",
       "  </thead>\n",
       "  <tbody>\n",
       "    <tr>\n",
       "      <th>Equipment</th>\n",
       "      <td>9087</td>\n",
       "      <td>1374</td>\n",
       "      <td>460</td>\n",
       "    </tr>\n",
       "    <tr>\n",
       "      <th>Moving violation</th>\n",
       "      <td>11799</td>\n",
       "      <td>3132</td>\n",
       "      <td>1293</td>\n",
       "    </tr>\n",
       "    <tr>\n",
       "      <th>Other</th>\n",
       "      <td>2551</td>\n",
       "      <td>1227</td>\n",
       "      <td>631</td>\n",
       "    </tr>\n",
       "    <tr>\n",
       "      <th>Registration/plates</th>\n",
       "      <td>2627</td>\n",
       "      <td>844</td>\n",
       "      <td>232</td>\n",
       "    </tr>\n",
       "    <tr>\n",
       "      <th>Seat belt</th>\n",
       "      <td>2579</td>\n",
       "      <td>250</td>\n",
       "      <td>27</td>\n",
       "    </tr>\n",
       "    <tr>\n",
       "      <th>Speeding</th>\n",
       "      <td>40934</td>\n",
       "      <td>6913</td>\n",
       "      <td>576</td>\n",
       "    </tr>\n",
       "  </tbody>\n",
       "</table>\n",
       "</div>"
      ],
      "text/plain": [
       "stop_duration        0-15 Min  16-30 Min  30+ Min\n",
       "violation                                        \n",
       "Equipment                9087       1374      460\n",
       "Moving violation        11799       3132     1293\n",
       "Other                    2551       1227      631\n",
       "Registration/plates      2627        844      232\n",
       "Seat belt                2579        250       27\n",
       "Speeding                40934       6913      576"
      ]
     },
     "execution_count": 289,
     "metadata": {},
     "output_type": "execute_result"
    }
   ],
   "source": [
    "violation_duration = pd.crosstab(police_c.violation, police_c.stop_duration)\n",
    "violation_duration"
   ]
  },
  {
   "cell_type": "code",
   "execution_count": 295,
   "metadata": {},
   "outputs": [
    {
     "data": {
      "text/html": [
       "<div>\n",
       "<style scoped>\n",
       "    .dataframe tbody tr th:only-of-type {\n",
       "        vertical-align: middle;\n",
       "    }\n",
       "\n",
       "    .dataframe tbody tr th {\n",
       "        vertical-align: top;\n",
       "    }\n",
       "\n",
       "    .dataframe thead th {\n",
       "        text-align: right;\n",
       "    }\n",
       "</style>\n",
       "<table border=\"1\" class=\"dataframe\">\n",
       "  <thead>\n",
       "    <tr style=\"text-align: right;\">\n",
       "      <th>stop_duration</th>\n",
       "      <th>violation</th>\n",
       "      <th>0-15 Min</th>\n",
       "      <th>16-30 Min</th>\n",
       "      <th>30+ Min</th>\n",
       "    </tr>\n",
       "  </thead>\n",
       "  <tbody>\n",
       "    <tr>\n",
       "      <th>0</th>\n",
       "      <td>Equipment</td>\n",
       "      <td>9087</td>\n",
       "      <td>1374</td>\n",
       "      <td>460</td>\n",
       "    </tr>\n",
       "    <tr>\n",
       "      <th>1</th>\n",
       "      <td>Moving violation</td>\n",
       "      <td>11799</td>\n",
       "      <td>3132</td>\n",
       "      <td>1293</td>\n",
       "    </tr>\n",
       "    <tr>\n",
       "      <th>2</th>\n",
       "      <td>Other</td>\n",
       "      <td>2551</td>\n",
       "      <td>1227</td>\n",
       "      <td>631</td>\n",
       "    </tr>\n",
       "    <tr>\n",
       "      <th>3</th>\n",
       "      <td>Registration/plates</td>\n",
       "      <td>2627</td>\n",
       "      <td>844</td>\n",
       "      <td>232</td>\n",
       "    </tr>\n",
       "    <tr>\n",
       "      <th>4</th>\n",
       "      <td>Seat belt</td>\n",
       "      <td>2579</td>\n",
       "      <td>250</td>\n",
       "      <td>27</td>\n",
       "    </tr>\n",
       "    <tr>\n",
       "      <th>5</th>\n",
       "      <td>Speeding</td>\n",
       "      <td>40934</td>\n",
       "      <td>6913</td>\n",
       "      <td>576</td>\n",
       "    </tr>\n",
       "  </tbody>\n",
       "</table>\n",
       "</div>"
      ],
      "text/plain": [
       "stop_duration            violation  0-15 Min  16-30 Min  30+ Min\n",
       "0                        Equipment      9087       1374      460\n",
       "1                 Moving violation     11799       3132     1293\n",
       "2                            Other      2551       1227      631\n",
       "3              Registration/plates      2627        844      232\n",
       "4                        Seat belt      2579        250       27\n",
       "5                         Speeding     40934       6913      576"
      ]
     },
     "execution_count": 295,
     "metadata": {},
     "output_type": "execute_result"
    }
   ],
   "source": [
    "#change dtype from categorical to object for each column\n",
    "violation_duration.columns = violation_duration.columns.astype('object')\n",
    "\n",
    "#reset the index to ordinary column\n",
    "violation_duration.reset_index(level='violation', inplace=True)\n",
    "\n",
    "#change index from dtype category to object\n",
    "violation_duration.violation = violation_duration.violation.astype('object')\n",
    "violation_duration"
   ]
  },
  {
   "cell_type": "code",
   "execution_count": 296,
   "metadata": {},
   "outputs": [
    {
     "data": {
      "text/html": [
       "<div>\n",
       "<style scoped>\n",
       "    .dataframe tbody tr th:only-of-type {\n",
       "        vertical-align: middle;\n",
       "    }\n",
       "\n",
       "    .dataframe tbody tr th {\n",
       "        vertical-align: top;\n",
       "    }\n",
       "\n",
       "    .dataframe thead th {\n",
       "        text-align: right;\n",
       "    }\n",
       "</style>\n",
       "<table border=\"1\" class=\"dataframe\">\n",
       "  <thead>\n",
       "    <tr style=\"text-align: right;\">\n",
       "      <th></th>\n",
       "      <th>violation</th>\n",
       "      <th>0-15</th>\n",
       "      <th>16-30</th>\n",
       "      <th>30+</th>\n",
       "    </tr>\n",
       "  </thead>\n",
       "  <tbody>\n",
       "    <tr>\n",
       "      <th>0</th>\n",
       "      <td>Equipment</td>\n",
       "      <td>9087</td>\n",
       "      <td>1374</td>\n",
       "      <td>460</td>\n",
       "    </tr>\n",
       "    <tr>\n",
       "      <th>1</th>\n",
       "      <td>Moving violation</td>\n",
       "      <td>11799</td>\n",
       "      <td>3132</td>\n",
       "      <td>1293</td>\n",
       "    </tr>\n",
       "    <tr>\n",
       "      <th>2</th>\n",
       "      <td>Other</td>\n",
       "      <td>2551</td>\n",
       "      <td>1227</td>\n",
       "      <td>631</td>\n",
       "    </tr>\n",
       "    <tr>\n",
       "      <th>3</th>\n",
       "      <td>Registration/plates</td>\n",
       "      <td>2627</td>\n",
       "      <td>844</td>\n",
       "      <td>232</td>\n",
       "    </tr>\n",
       "    <tr>\n",
       "      <th>4</th>\n",
       "      <td>Seat belt</td>\n",
       "      <td>2579</td>\n",
       "      <td>250</td>\n",
       "      <td>27</td>\n",
       "    </tr>\n",
       "    <tr>\n",
       "      <th>5</th>\n",
       "      <td>Speeding</td>\n",
       "      <td>40934</td>\n",
       "      <td>6913</td>\n",
       "      <td>576</td>\n",
       "    </tr>\n",
       "  </tbody>\n",
       "</table>\n",
       "</div>"
      ],
      "text/plain": [
       "             violation   0-15  16-30   30+\n",
       "0            Equipment   9087   1374   460\n",
       "1     Moving violation  11799   3132  1293\n",
       "2                Other   2551   1227   631\n",
       "3  Registration/plates   2627    844   232\n",
       "4            Seat belt   2579    250    27\n",
       "5             Speeding  40934   6913   576"
      ]
     },
     "execution_count": 296,
     "metadata": {},
     "output_type": "execute_result"
    }
   ],
   "source": [
    "violation_duration.columns = ['violation', '0-15', '16-30', '30+']\n",
    "violation_duration"
   ]
  },
  {
   "cell_type": "markdown",
   "metadata": {},
   "source": [
    "Let's visualize it."
   ]
  },
  {
   "cell_type": "code",
   "execution_count": 330,
   "metadata": {},
   "outputs": [
    {
     "data": {
      "text/html": [
       "\n",
       "\n",
       "\n",
       "\n",
       "\n",
       "\n",
       "  <div class=\"bk-root\" id=\"d72fa107-9466-46c2-b97a-3d3437af3207\" data-root-id=\"12403\"></div>\n"
      ]
     },
     "metadata": {},
     "output_type": "display_data"
    },
    {
     "data": {
      "application/javascript": [
       "(function(root) {\n",
       "  function embed_document(root) {\n",
       "    \n",
       "  var docs_json = {\"4a4bcb07-2a36-4679-8b91-b460338b14bd\":{\"roots\":{\"references\":[{\"attributes\":{\"below\":[{\"id\":\"12413\",\"type\":\"CategoricalAxis\"}],\"center\":[{\"id\":\"12416\",\"type\":\"Grid\"},{\"id\":\"12421\",\"type\":\"Grid\"}],\"left\":[{\"id\":\"12417\",\"type\":\"LinearAxis\"}],\"plot_height\":350,\"plot_width\":750,\"renderers\":[{\"id\":\"12435\",\"type\":\"GlyphRenderer\"}],\"title\":{\"id\":\"12404\",\"type\":\"Title\"},\"toolbar\":{\"id\":\"12426\",\"type\":\"Toolbar\"},\"x_range\":{\"id\":\"12402\",\"type\":\"FactorRange\"},\"x_scale\":{\"id\":\"12409\",\"type\":\"CategoricalScale\"},\"y_range\":{\"id\":\"12407\",\"type\":\"DataRange1d\"},\"y_scale\":{\"id\":\"12411\",\"type\":\"LinearScale\"}},\"id\":\"12403\",\"subtype\":\"Figure\",\"type\":\"Plot\"},{\"attributes\":{},\"id\":\"12422\",\"type\":\"PanTool\"},{\"attributes\":{\"data_source\":{\"id\":\"12401\",\"type\":\"ColumnDataSource\"},\"glyph\":{\"id\":\"12433\",\"type\":\"VBar\"},\"hover_glyph\":null,\"muted_glyph\":null,\"nonselection_glyph\":{\"id\":\"12434\",\"type\":\"VBar\"},\"selection_glyph\":null,\"view\":{\"id\":\"12436\",\"type\":\"CDSView\"}},\"id\":\"12435\",\"type\":\"GlyphRenderer\"},{\"attributes\":{\"overlay\":{\"id\":\"12754\",\"type\":\"BoxAnnotation\"}},\"id\":\"12423\",\"type\":\"BoxZoomTool\"},{\"attributes\":{\"bottom_units\":\"screen\",\"fill_alpha\":{\"value\":0.5},\"fill_color\":{\"value\":\"lightgrey\"},\"left_units\":\"screen\",\"level\":\"overlay\",\"line_alpha\":{\"value\":1.0},\"line_color\":{\"value\":\"black\"},\"line_dash\":[4,4],\"line_width\":{\"value\":2},\"render_mode\":\"css\",\"right_units\":\"screen\",\"top_units\":\"screen\"},\"id\":\"12754\",\"type\":\"BoxAnnotation\"},{\"attributes\":{},\"id\":\"12424\",\"type\":\"WheelZoomTool\"},{\"attributes\":{},\"id\":\"12755\",\"type\":\"Selection\"},{\"attributes\":{},\"id\":\"12425\",\"type\":\"ResetTool\"},{\"attributes\":{\"callback\":null,\"factors\":[[\"Equipment\",\"0-15\"],[\"Equipment\",\"16-30\"],[\"Equipment\",\"30+\"],[\"Moving violation\",\"0-15\"],[\"Moving violation\",\"16-30\"],[\"Moving violation\",\"30+\"],[\"Other\",\"0-15\"],[\"Other\",\"16-30\"],[\"Other\",\"30+\"],[\"Registration/plates\",\"0-15\"],[\"Registration/plates\",\"16-30\"],[\"Registration/plates\",\"30+\"],[\"Seat belt\",\"0-15\"],[\"Seat belt\",\"16-30\"],[\"Seat belt\",\"30+\"],[\"Speeding\",\"0-15\"],[\"Speeding\",\"16-30\"],[\"Speeding\",\"30+\"]],\"range_padding\":0.1},\"id\":\"12402\",\"type\":\"FactorRange\"},{\"attributes\":{\"end\":2,\"factors\":[\"0-15\",\"16-30\",\"30+\"],\"palette\":[\"#1f77b4\",\"#ff7f0e\",\"#2ca02c\"],\"start\":1},\"id\":\"12431\",\"type\":\"CategoricalColorMapper\"},{\"attributes\":{\"callback\":null,\"start\":0},\"id\":\"12407\",\"type\":\"DataRange1d\"},{\"attributes\":{\"fill_alpha\":{\"value\":0.1},\"fill_color\":{\"value\":\"#1f77b4\"},\"line_alpha\":{\"value\":0.1},\"line_color\":{\"value\":\"#1f77b4\"},\"top\":{\"field\":\"counts\"},\"width\":{\"value\":0.9},\"x\":{\"field\":\"x\"}},\"id\":\"12434\",\"type\":\"VBar\"},{\"attributes\":{},\"id\":\"12409\",\"type\":\"CategoricalScale\"},{\"attributes\":{},\"id\":\"12756\",\"type\":\"UnionRenderers\"},{\"attributes\":{},\"id\":\"12411\",\"type\":\"LinearScale\"},{\"attributes\":{},\"id\":\"12752\",\"type\":\"BasicTickFormatter\"},{\"attributes\":{\"callback\":null,\"tooltips\":[[\"Count\",\"@counts\"]]},\"id\":\"12437\",\"type\":\"HoverTool\"},{\"attributes\":{\"axis_label\":\"Violation\",\"formatter\":{\"id\":\"12750\",\"type\":\"CategoricalTickFormatter\"},\"major_label_orientation\":1,\"ticker\":{\"id\":\"12414\",\"type\":\"CategoricalTicker\"}},\"id\":\"12413\",\"type\":\"CategoricalAxis\"},{\"attributes\":{\"source\":{\"id\":\"12401\",\"type\":\"ColumnDataSource\"}},\"id\":\"12436\",\"type\":\"CDSView\"},{\"attributes\":{\"dimension\":1,\"ticker\":{\"id\":\"12418\",\"type\":\"BasicTicker\"}},\"id\":\"12421\",\"type\":\"Grid\"},{\"attributes\":{},\"id\":\"12750\",\"type\":\"CategoricalTickFormatter\"},{\"attributes\":{\"callback\":null,\"data\":{\"counts\":[9087,11799,2551,2627,2579,40934,1374,3132,1227,844,250,6913,460,1293,631,232,27,576],\"x\":[[\"Equipment\",\"0-15\"],[\"Equipment\",\"16-30\"],[\"Equipment\",\"30+\"],[\"Moving violation\",\"0-15\"],[\"Moving violation\",\"16-30\"],[\"Moving violation\",\"30+\"],[\"Other\",\"0-15\"],[\"Other\",\"16-30\"],[\"Other\",\"30+\"],[\"Registration/plates\",\"0-15\"],[\"Registration/plates\",\"16-30\"],[\"Registration/plates\",\"30+\"],[\"Seat belt\",\"0-15\"],[\"Seat belt\",\"16-30\"],[\"Seat belt\",\"30+\"],[\"Speeding\",\"0-15\"],[\"Speeding\",\"16-30\"],[\"Speeding\",\"30+\"]]},\"selected\":{\"id\":\"12755\",\"type\":\"Selection\"},\"selection_policy\":{\"id\":\"12756\",\"type\":\"UnionRenderers\"}},\"id\":\"12401\",\"type\":\"ColumnDataSource\"},{\"attributes\":{},\"id\":\"12414\",\"type\":\"CategoricalTicker\"},{\"attributes\":{\"grid_line_color\":null,\"ticker\":{\"id\":\"12414\",\"type\":\"CategoricalTicker\"}},\"id\":\"12416\",\"type\":\"Grid\"},{\"attributes\":{},\"id\":\"12418\",\"type\":\"BasicTicker\"},{\"attributes\":{\"axis_label\":\"Count\",\"formatter\":{\"id\":\"12752\",\"type\":\"BasicTickFormatter\"},\"ticker\":{\"id\":\"12418\",\"type\":\"BasicTicker\"}},\"id\":\"12417\",\"type\":\"LinearAxis\"},{\"attributes\":{\"text\":\"Violation Durations\"},\"id\":\"12404\",\"type\":\"Title\"},{\"attributes\":{\"active_drag\":\"auto\",\"active_inspect\":\"auto\",\"active_multi\":null,\"active_scroll\":\"auto\",\"active_tap\":\"auto\",\"tools\":[{\"id\":\"12422\",\"type\":\"PanTool\"},{\"id\":\"12423\",\"type\":\"BoxZoomTool\"},{\"id\":\"12424\",\"type\":\"WheelZoomTool\"},{\"id\":\"12425\",\"type\":\"ResetTool\"},{\"id\":\"12437\",\"type\":\"HoverTool\"}]},\"id\":\"12426\",\"type\":\"Toolbar\"},{\"attributes\":{\"fill_color\":{\"field\":\"x\",\"transform\":{\"id\":\"12431\",\"type\":\"CategoricalColorMapper\"}},\"line_color\":{\"value\":\"#1f77b4\"},\"top\":{\"field\":\"counts\"},\"width\":{\"value\":0.9},\"x\":{\"field\":\"x\"}},\"id\":\"12433\",\"type\":\"VBar\"}],\"root_ids\":[\"12403\"]},\"title\":\"Bokeh Application\",\"version\":\"1.4.0\"}};\n",
       "  var render_items = [{\"docid\":\"4a4bcb07-2a36-4679-8b91-b460338b14bd\",\"roots\":{\"12403\":\"d72fa107-9466-46c2-b97a-3d3437af3207\"}}];\n",
       "  root.Bokeh.embed.embed_items_notebook(docs_json, render_items);\n",
       "\n",
       "  }\n",
       "  if (root.Bokeh !== undefined) {\n",
       "    embed_document(root);\n",
       "  } else {\n",
       "    var attempts = 0;\n",
       "    var timer = setInterval(function(root) {\n",
       "      if (root.Bokeh !== undefined) {\n",
       "        clearInterval(timer);\n",
       "        embed_document(root);\n",
       "      } else {\n",
       "        attempts++;\n",
       "        if (attempts > 100) {\n",
       "          clearInterval(timer);\n",
       "          console.log(\"Bokeh: ERROR: Unable to run BokehJS code because BokehJS library is missing\");\n",
       "        }\n",
       "      }\n",
       "    }, 10, root)\n",
       "  }\n",
       "})(window);"
      ],
      "application/vnd.bokehjs_exec.v0+json": ""
     },
     "metadata": {
      "application/vnd.bokehjs_exec.v0+json": {
       "id": "12403"
      }
     },
     "output_type": "display_data"
    }
   ],
   "source": [
    "from bokeh.models import FactorRange\n",
    "from bokeh.transform import factor_cmap\n",
    "\n",
    "durations = ['0-15', '16-30', '30+']\n",
    "\n",
    "#create duration tuples for each violation and duration\n",
    "#[('Equipment', '0-15'), ('Equipment', '16-30')...('Speeding', '30+')]\n",
    "x = [(vio, dur) for vio in violation_duration.violation.values for dur in durations]\n",
    "\n",
    "#convert duration column values into single list\n",
    "counts = [val for col in violation_duration.iloc[:,1:] for val in violation_duration[col]]\n",
    "\n",
    "source = ColumnDataSource(data={'x':x, 'counts':counts})\n",
    "\n",
    "p = figure(x_range=FactorRange(*x), plot_height=350, plot_width=750, title='Violation Durations',\n",
    "           x_axis_label='Violation', y_axis_label='Count', tools=['pan', 'box_zoom', 'wheel_zoom','reset'])\n",
    "\n",
    "p.vbar(x='x', width=0.9, top='counts', source=source,\n",
    "       fill_color=factor_cmap('x', palette=Category10[3], factors=durations, start=1,end=2))\n",
    "\n",
    "p.add_tools(HoverTool(tooltips=[('Count', '@counts')]))\n",
    "\n",
    "p.y_range.start = 0\n",
    "p.x_range.range_padding = 0.1 #add margins to the sides\n",
    "p.xaxis.major_label_orientation = 1\n",
    "p.xgrid.grid_line_color = None\n",
    "\n",
    "show(p)"
   ]
  },
  {
   "cell_type": "markdown",
   "metadata": {},
   "source": [
    "**2.Estimate the given time durations by takin the mean of the intervals.**"
   ]
  },
  {
   "cell_type": "code",
   "execution_count": 331,
   "metadata": {},
   "outputs": [
    {
     "data": {
      "text/plain": [
       "array(['0-15 Min', '16-30 Min', '30+ Min'], dtype=object)"
      ]
     },
     "execution_count": 331,
     "metadata": {},
     "output_type": "execute_result"
    }
   ],
   "source": [
    "police_c.stop_duration.unique()"
   ]
  },
  {
   "cell_type": "markdown",
   "metadata": {},
   "source": [
    "We have 3 intervals, which we can estimate to be:<br>\n",
    "* 0-15 min : 8\n",
    "* 16-30 min : 23\n",
    "* 30+ min : 45<br>\n",
    "respectively."
   ]
  },
  {
   "cell_type": "code",
   "execution_count": 342,
   "metadata": {
    "code_folding": []
   },
   "outputs": [
    {
     "data": {
      "text/html": [
       "<div>\n",
       "<style scoped>\n",
       "    .dataframe tbody tr th:only-of-type {\n",
       "        vertical-align: middle;\n",
       "    }\n",
       "\n",
       "    .dataframe tbody tr th {\n",
       "        vertical-align: top;\n",
       "    }\n",
       "\n",
       "    .dataframe thead th {\n",
       "        text-align: right;\n",
       "    }\n",
       "</style>\n",
       "<table border=\"1\" class=\"dataframe\">\n",
       "  <thead>\n",
       "    <tr style=\"text-align: right;\">\n",
       "      <th></th>\n",
       "      <th>driver_gender</th>\n",
       "      <th>driver_race</th>\n",
       "      <th>violation</th>\n",
       "      <th>search_conducted</th>\n",
       "      <th>search_type</th>\n",
       "      <th>stop_outcome</th>\n",
       "      <th>is_arrested</th>\n",
       "      <th>stop_duration</th>\n",
       "      <th>drugs_related_stop</th>\n",
       "      <th>district</th>\n",
       "      <th>Frisk</th>\n",
       "      <th>stop_minutes</th>\n",
       "    </tr>\n",
       "    <tr>\n",
       "      <th>stop_datetime</th>\n",
       "      <th></th>\n",
       "      <th></th>\n",
       "      <th></th>\n",
       "      <th></th>\n",
       "      <th></th>\n",
       "      <th></th>\n",
       "      <th></th>\n",
       "      <th></th>\n",
       "      <th></th>\n",
       "      <th></th>\n",
       "      <th></th>\n",
       "      <th></th>\n",
       "    </tr>\n",
       "  </thead>\n",
       "  <tbody>\n",
       "    <tr>\n",
       "      <th>2005-01-04 12:55:00</th>\n",
       "      <td>M</td>\n",
       "      <td>White</td>\n",
       "      <td>Equipment</td>\n",
       "      <td>False</td>\n",
       "      <td>NaN</td>\n",
       "      <td>Citation</td>\n",
       "      <td>False</td>\n",
       "      <td>0-15 Min</td>\n",
       "      <td>False</td>\n",
       "      <td>Zone X4</td>\n",
       "      <td>False</td>\n",
       "      <td>8</td>\n",
       "    </tr>\n",
       "    <tr>\n",
       "      <th>2005-01-23 23:15:00</th>\n",
       "      <td>M</td>\n",
       "      <td>White</td>\n",
       "      <td>Speeding</td>\n",
       "      <td>False</td>\n",
       "      <td>NaN</td>\n",
       "      <td>Citation</td>\n",
       "      <td>False</td>\n",
       "      <td>0-15 Min</td>\n",
       "      <td>False</td>\n",
       "      <td>Zone K3</td>\n",
       "      <td>False</td>\n",
       "      <td>8</td>\n",
       "    </tr>\n",
       "    <tr>\n",
       "      <th>2005-02-17 04:15:00</th>\n",
       "      <td>M</td>\n",
       "      <td>White</td>\n",
       "      <td>Speeding</td>\n",
       "      <td>False</td>\n",
       "      <td>NaN</td>\n",
       "      <td>Citation</td>\n",
       "      <td>False</td>\n",
       "      <td>0-15 Min</td>\n",
       "      <td>False</td>\n",
       "      <td>Zone X4</td>\n",
       "      <td>False</td>\n",
       "      <td>8</td>\n",
       "    </tr>\n",
       "  </tbody>\n",
       "</table>\n",
       "</div>"
      ],
      "text/plain": [
       "                    driver_gender driver_race  violation  search_conducted  \\\n",
       "stop_datetime                                                                \n",
       "2005-01-04 12:55:00             M       White  Equipment             False   \n",
       "2005-01-23 23:15:00             M       White   Speeding             False   \n",
       "2005-02-17 04:15:00             M       White   Speeding             False   \n",
       "\n",
       "                    search_type stop_outcome  is_arrested stop_duration  \\\n",
       "stop_datetime                                                             \n",
       "2005-01-04 12:55:00         NaN     Citation        False      0-15 Min   \n",
       "2005-01-23 23:15:00         NaN     Citation        False      0-15 Min   \n",
       "2005-02-17 04:15:00         NaN     Citation        False      0-15 Min   \n",
       "\n",
       "                     drugs_related_stop district  Frisk  stop_minutes  \n",
       "stop_datetime                                                          \n",
       "2005-01-04 12:55:00               False  Zone X4  False             8  \n",
       "2005-01-23 23:15:00               False  Zone K3  False             8  \n",
       "2005-02-17 04:15:00               False  Zone X4  False             8  "
      ]
     },
     "execution_count": 342,
     "metadata": {},
     "output_type": "execute_result"
    }
   ],
   "source": [
    "#make a copy df\n",
    "police_mapped = police_c.copy()\n",
    "\n",
    "#map mean time durations to stop_duration\n",
    "police_mapped['stop_minutes'] = police_mapped.stop_duration.map({\n",
    "    '0-15 Min':8,'16-30 Min':23,'30+ Min':45})\n",
    "\n",
    "police_mapped.head(3)"
   ]
  },
  {
   "cell_type": "code",
   "execution_count": 360,
   "metadata": {},
   "outputs": [
    {
     "data": {
      "text/html": [
       "<div>\n",
       "<style scoped>\n",
       "    .dataframe tbody tr th:only-of-type {\n",
       "        vertical-align: middle;\n",
       "    }\n",
       "\n",
       "    .dataframe tbody tr th {\n",
       "        vertical-align: top;\n",
       "    }\n",
       "\n",
       "    .dataframe thead th {\n",
       "        text-align: right;\n",
       "    }\n",
       "</style>\n",
       "<table border=\"1\" class=\"dataframe\">\n",
       "  <thead>\n",
       "    <tr style=\"text-align: right;\">\n",
       "      <th></th>\n",
       "      <th>violation</th>\n",
       "      <th>stop_minutes</th>\n",
       "    </tr>\n",
       "  </thead>\n",
       "  <tbody>\n",
       "    <tr>\n",
       "      <th>0</th>\n",
       "      <td>Other</td>\n",
       "      <td>17.469721</td>\n",
       "    </tr>\n",
       "    <tr>\n",
       "      <th>1</th>\n",
       "      <td>Moving violation</td>\n",
       "      <td>13.844490</td>\n",
       "    </tr>\n",
       "    <tr>\n",
       "      <th>2</th>\n",
       "      <td>Registration/plates</td>\n",
       "      <td>13.736970</td>\n",
       "    </tr>\n",
       "    <tr>\n",
       "      <th>3</th>\n",
       "      <td>Equipment</td>\n",
       "      <td>11.445655</td>\n",
       "    </tr>\n",
       "    <tr>\n",
       "      <th>4</th>\n",
       "      <td>Speeding</td>\n",
       "      <td>10.581562</td>\n",
       "    </tr>\n",
       "    <tr>\n",
       "      <th>5</th>\n",
       "      <td>Seat belt</td>\n",
       "      <td>9.662815</td>\n",
       "    </tr>\n",
       "  </tbody>\n",
       "</table>\n",
       "</div>"
      ],
      "text/plain": [
       "             violation  stop_minutes\n",
       "0                Other     17.469721\n",
       "1     Moving violation     13.844490\n",
       "2  Registration/plates     13.736970\n",
       "3            Equipment     11.445655\n",
       "4             Speeding     10.581562\n",
       "5            Seat belt      9.662815"
      ]
     },
     "execution_count": 360,
     "metadata": {},
     "output_type": "execute_result"
    }
   ],
   "source": [
    "#group by violation and find average\n",
    "# stop time for each violation\n",
    "stop_dur_avg = police_mapped.groupby('violation').stop_minutes.mean()\n",
    "dur_avg_df = stop_dur_avg.to_frame().sort_values('stop_minutes', ascending=False).reset_index()\n",
    "dur_avg_df.violation = dur_avg_df.violation.astype('object')\n",
    "dur_avg_df"
   ]
  },
  {
   "cell_type": "markdown",
   "metadata": {},
   "source": [
    "Lets visualize it with horizontal bar chart."
   ]
  },
  {
   "cell_type": "code",
   "execution_count": 372,
   "metadata": {},
   "outputs": [
    {
     "data": {
      "text/html": [
       "\n",
       "\n",
       "\n",
       "\n",
       "\n",
       "\n",
       "  <div class=\"bk-root\" id=\"4076b506-a0c6-461f-93ec-1f25c3fa8b02\" data-root-id=\"17343\"></div>\n"
      ]
     },
     "metadata": {},
     "output_type": "display_data"
    },
    {
     "data": {
      "application/javascript": [
       "(function(root) {\n",
       "  function embed_document(root) {\n",
       "    \n",
       "  var docs_json = {\"66f8212c-21a4-491d-83be-e0af833a1acc\":{\"roots\":{\"references\":[{\"attributes\":{\"below\":[{\"id\":\"17354\",\"type\":\"LinearAxis\"}],\"center\":[{\"id\":\"17358\",\"type\":\"Grid\"},{\"id\":\"17362\",\"type\":\"Grid\"}],\"left\":[{\"id\":\"17359\",\"type\":\"CategoricalAxis\"}],\"plot_height\":350,\"renderers\":[{\"id\":\"17379\",\"type\":\"GlyphRenderer\"}],\"title\":{\"id\":\"17344\",\"type\":\"Title\"},\"toolbar\":{\"id\":\"17369\",\"type\":\"Toolbar\"},\"x_range\":{\"id\":\"17346\",\"type\":\"DataRange1d\"},\"x_scale\":{\"id\":\"17350\",\"type\":\"LinearScale\"},\"y_range\":{\"id\":\"17348\",\"type\":\"FactorRange\"},\"y_scale\":{\"id\":\"17352\",\"type\":\"CategoricalScale\"}},\"id\":\"17343\",\"subtype\":\"Figure\",\"type\":\"Plot\"},{\"attributes\":{\"text\":\"Average Stop Duration per Violation\"},\"id\":\"17344\",\"type\":\"Title\"},{\"attributes\":{\"callback\":null,\"start\":0},\"id\":\"17346\",\"type\":\"DataRange1d\"},{\"attributes\":{\"overlay\":{\"id\":\"17786\",\"type\":\"BoxAnnotation\"}},\"id\":\"17365\",\"type\":\"BoxZoomTool\"},{\"attributes\":{},\"id\":\"17366\",\"type\":\"SaveTool\"},{\"attributes\":{},\"id\":\"17367\",\"type\":\"ResetTool\"},{\"attributes\":{\"dimension\":1,\"ticker\":{\"id\":\"17360\",\"type\":\"CategoricalTicker\"}},\"id\":\"17362\",\"type\":\"Grid\"},{\"attributes\":{},\"id\":\"17782\",\"type\":\"BasicTickFormatter\"},{\"attributes\":{\"callback\":null,\"data\":{\"index\":[0,1,2,3,4,5],\"stop_minutes\":{\"__ndarray__\":\"oV8Zoz94MUDL6l3yYLArQJQKkSJUeStAiyHB6SzkJkB62rWOwiklQIFcE4FcUyNA\",\"dtype\":\"float64\",\"shape\":[6]},\"violation\":[\"Other\",\"Moving violation\",\"Registration/plates\",\"Equipment\",\"Speeding\",\"Seat belt\"]},\"selected\":{\"id\":\"17787\",\"type\":\"Selection\"},\"selection_policy\":{\"id\":\"17788\",\"type\":\"UnionRenderers\"}},\"id\":\"17342\",\"type\":\"ColumnDataSource\"},{\"attributes\":{\"fill_alpha\":{\"value\":0.1},\"fill_color\":{\"value\":\"#1f77b4\"},\"height\":{\"value\":0.5},\"line_alpha\":{\"value\":0.1},\"line_color\":{\"value\":\"#1f77b4\"},\"right\":{\"field\":\"stop_minutes\"},\"y\":{\"field\":\"violation\"}},\"id\":\"17378\",\"type\":\"HBar\"},{\"attributes\":{},\"id\":\"17360\",\"type\":\"CategoricalTicker\"},{\"attributes\":{\"bottom_units\":\"screen\",\"fill_alpha\":{\"value\":0.5},\"fill_color\":{\"value\":\"lightgrey\"},\"left_units\":\"screen\",\"level\":\"overlay\",\"line_alpha\":{\"value\":1.0},\"line_color\":{\"value\":\"black\"},\"line_dash\":[4,4],\"line_width\":{\"value\":2},\"render_mode\":\"css\",\"right_units\":\"screen\",\"top_units\":\"screen\"},\"id\":\"17786\",\"type\":\"BoxAnnotation\"},{\"attributes\":{},\"id\":\"17368\",\"type\":\"HelpTool\"},{\"attributes\":{\"active_drag\":\"auto\",\"active_inspect\":\"auto\",\"active_multi\":null,\"active_scroll\":\"auto\",\"active_tap\":\"auto\",\"tools\":[{\"id\":\"17363\",\"type\":\"PanTool\"},{\"id\":\"17364\",\"type\":\"WheelZoomTool\"},{\"id\":\"17365\",\"type\":\"BoxZoomTool\"},{\"id\":\"17366\",\"type\":\"SaveTool\"},{\"id\":\"17367\",\"type\":\"ResetTool\"},{\"id\":\"17368\",\"type\":\"HelpTool\"},{\"id\":\"17381\",\"type\":\"HoverTool\"}]},\"id\":\"17369\",\"type\":\"Toolbar\"},{\"attributes\":{},\"id\":\"17364\",\"type\":\"WheelZoomTool\"},{\"attributes\":{},\"id\":\"17352\",\"type\":\"CategoricalScale\"},{\"attributes\":{\"source\":{\"id\":\"17342\",\"type\":\"ColumnDataSource\"}},\"id\":\"17380\",\"type\":\"CDSView\"},{\"attributes\":{},\"id\":\"17784\",\"type\":\"CategoricalTickFormatter\"},{\"attributes\":{\"fill_color\":{\"value\":\"goldenrod\"},\"height\":{\"value\":0.5},\"right\":{\"field\":\"stop_minutes\"},\"y\":{\"field\":\"violation\"}},\"id\":\"17377\",\"type\":\"HBar\"},{\"attributes\":{\"data_source\":{\"id\":\"17342\",\"type\":\"ColumnDataSource\"},\"glyph\":{\"id\":\"17377\",\"type\":\"HBar\"},\"hover_glyph\":null,\"muted_glyph\":null,\"nonselection_glyph\":{\"id\":\"17378\",\"type\":\"HBar\"},\"selection_glyph\":null,\"view\":{\"id\":\"17380\",\"type\":\"CDSView\"}},\"id\":\"17379\",\"type\":\"GlyphRenderer\"},{\"attributes\":{},\"id\":\"17787\",\"type\":\"Selection\"},{\"attributes\":{},\"id\":\"17788\",\"type\":\"UnionRenderers\"},{\"attributes\":{\"callback\":null,\"tooltips\":[[\"Duration\",\"@stop_minutes{0.0}\"]]},\"id\":\"17381\",\"type\":\"HoverTool\"},{\"attributes\":{},\"id\":\"17350\",\"type\":\"LinearScale\"},{\"attributes\":{},\"id\":\"17363\",\"type\":\"PanTool\"},{\"attributes\":{},\"id\":\"17355\",\"type\":\"BasicTicker\"},{\"attributes\":{\"axis_label\":\"Stop Duration [min]\",\"formatter\":{\"id\":\"17782\",\"type\":\"BasicTickFormatter\"},\"ticker\":{\"id\":\"17355\",\"type\":\"BasicTicker\"}},\"id\":\"17354\",\"type\":\"LinearAxis\"},{\"attributes\":{\"axis_label\":\"Violation\",\"formatter\":{\"id\":\"17784\",\"type\":\"CategoricalTickFormatter\"},\"ticker\":{\"id\":\"17360\",\"type\":\"CategoricalTicker\"}},\"id\":\"17359\",\"type\":\"CategoricalAxis\"},{\"attributes\":{\"callback\":null,\"factors\":[\"Other\",\"Moving violation\",\"Registration/plates\",\"Equipment\",\"Speeding\",\"Seat belt\"]},\"id\":\"17348\",\"type\":\"FactorRange\"},{\"attributes\":{\"ticker\":{\"id\":\"17355\",\"type\":\"BasicTicker\"}},\"id\":\"17358\",\"type\":\"Grid\"}],\"root_ids\":[\"17343\"]},\"title\":\"Bokeh Application\",\"version\":\"1.4.0\"}};\n",
       "  var render_items = [{\"docid\":\"66f8212c-21a4-491d-83be-e0af833a1acc\",\"roots\":{\"17343\":\"4076b506-a0c6-461f-93ec-1f25c3fa8b02\"}}];\n",
       "  root.Bokeh.embed.embed_items_notebook(docs_json, render_items);\n",
       "\n",
       "  }\n",
       "  if (root.Bokeh !== undefined) {\n",
       "    embed_document(root);\n",
       "  } else {\n",
       "    var attempts = 0;\n",
       "    var timer = setInterval(function(root) {\n",
       "      if (root.Bokeh !== undefined) {\n",
       "        clearInterval(timer);\n",
       "        embed_document(root);\n",
       "      } else {\n",
       "        attempts++;\n",
       "        if (attempts > 100) {\n",
       "          clearInterval(timer);\n",
       "          console.log(\"Bokeh: ERROR: Unable to run BokehJS code because BokehJS library is missing\");\n",
       "        }\n",
       "      }\n",
       "    }, 10, root)\n",
       "  }\n",
       "})(window);"
      ],
      "application/vnd.bokehjs_exec.v0+json": ""
     },
     "metadata": {
      "application/vnd.bokehjs_exec.v0+json": {
       "id": "17343"
      }
     },
     "output_type": "display_data"
    }
   ],
   "source": [
    "source = ColumnDataSource(dur_avg_df)\n",
    "\n",
    "p = figure(plot_height=350, title='Average Stop Duration per Violation',\n",
    "           y_axis_label='Violation', x_axis_label='Stop Duration [min]',\n",
    "           y_range=source.data['violation'])\n",
    "p.hbar(y='violation', height=0.5, right='stop_minutes', source=source,\n",
    "       color='goldenrod', line_color='black')\n",
    "\n",
    "p.add_tools(HoverTool(tooltips=[('Duration', '@stop_minutes{0.0}')]))\n",
    "\n",
    "p.x_range.start = 0\n",
    "\n",
    "show(p)"
   ]
  },
  {
   "cell_type": "markdown",
   "metadata": {},
   "source": [
    "# National Centers for Environmental Information Project"
   ]
  },
  {
   "cell_type": "markdown",
   "metadata": {},
   "source": [
    "## Frame the problem\n",
    "**Hypothesis**: Weather conditions impact police behaviour."
   ]
  },
  {
   "cell_type": "markdown",
   "metadata": {},
   "source": [
    "## Get the Data"
   ]
  },
  {
   "cell_type": "code",
   "execution_count": 438,
   "metadata": {},
   "outputs": [
    {
     "data": {
      "text/html": [
       "<div>\n",
       "<style scoped>\n",
       "    .dataframe tbody tr th:only-of-type {\n",
       "        vertical-align: middle;\n",
       "    }\n",
       "\n",
       "    .dataframe tbody tr th {\n",
       "        vertical-align: top;\n",
       "    }\n",
       "\n",
       "    .dataframe thead th {\n",
       "        text-align: right;\n",
       "    }\n",
       "</style>\n",
       "<table border=\"1\" class=\"dataframe\">\n",
       "  <thead>\n",
       "    <tr style=\"text-align: right;\">\n",
       "      <th></th>\n",
       "      <th>STATION</th>\n",
       "      <th>DATE</th>\n",
       "      <th>TAVG</th>\n",
       "      <th>TMIN</th>\n",
       "      <th>TMAX</th>\n",
       "      <th>AWND</th>\n",
       "      <th>WSF2</th>\n",
       "      <th>WT01</th>\n",
       "      <th>WT02</th>\n",
       "      <th>WT03</th>\n",
       "      <th>...</th>\n",
       "      <th>WT11</th>\n",
       "      <th>WT13</th>\n",
       "      <th>WT14</th>\n",
       "      <th>WT15</th>\n",
       "      <th>WT16</th>\n",
       "      <th>WT17</th>\n",
       "      <th>WT18</th>\n",
       "      <th>WT19</th>\n",
       "      <th>WT21</th>\n",
       "      <th>WT22</th>\n",
       "    </tr>\n",
       "  </thead>\n",
       "  <tbody>\n",
       "    <tr>\n",
       "      <th>0</th>\n",
       "      <td>USW00014765</td>\n",
       "      <td>2005-01-01</td>\n",
       "      <td>44.0</td>\n",
       "      <td>35</td>\n",
       "      <td>53</td>\n",
       "      <td>8.95</td>\n",
       "      <td>25.1</td>\n",
       "      <td>1.0</td>\n",
       "      <td>NaN</td>\n",
       "      <td>NaN</td>\n",
       "      <td>...</td>\n",
       "      <td>NaN</td>\n",
       "      <td>1.0</td>\n",
       "      <td>NaN</td>\n",
       "      <td>NaN</td>\n",
       "      <td>NaN</td>\n",
       "      <td>NaN</td>\n",
       "      <td>NaN</td>\n",
       "      <td>NaN</td>\n",
       "      <td>NaN</td>\n",
       "      <td>NaN</td>\n",
       "    </tr>\n",
       "    <tr>\n",
       "      <th>1</th>\n",
       "      <td>USW00014765</td>\n",
       "      <td>2005-01-02</td>\n",
       "      <td>36.0</td>\n",
       "      <td>28</td>\n",
       "      <td>44</td>\n",
       "      <td>9.40</td>\n",
       "      <td>14.1</td>\n",
       "      <td>NaN</td>\n",
       "      <td>NaN</td>\n",
       "      <td>NaN</td>\n",
       "      <td>...</td>\n",
       "      <td>NaN</td>\n",
       "      <td>NaN</td>\n",
       "      <td>NaN</td>\n",
       "      <td>NaN</td>\n",
       "      <td>1.0</td>\n",
       "      <td>NaN</td>\n",
       "      <td>1.0</td>\n",
       "      <td>NaN</td>\n",
       "      <td>NaN</td>\n",
       "      <td>NaN</td>\n",
       "    </tr>\n",
       "    <tr>\n",
       "      <th>2</th>\n",
       "      <td>USW00014765</td>\n",
       "      <td>2005-01-03</td>\n",
       "      <td>49.0</td>\n",
       "      <td>44</td>\n",
       "      <td>53</td>\n",
       "      <td>6.93</td>\n",
       "      <td>17.0</td>\n",
       "      <td>1.0</td>\n",
       "      <td>NaN</td>\n",
       "      <td>NaN</td>\n",
       "      <td>...</td>\n",
       "      <td>NaN</td>\n",
       "      <td>1.0</td>\n",
       "      <td>NaN</td>\n",
       "      <td>NaN</td>\n",
       "      <td>1.0</td>\n",
       "      <td>NaN</td>\n",
       "      <td>NaN</td>\n",
       "      <td>NaN</td>\n",
       "      <td>NaN</td>\n",
       "      <td>NaN</td>\n",
       "    </tr>\n",
       "  </tbody>\n",
       "</table>\n",
       "<p>3 rows × 27 columns</p>\n",
       "</div>"
      ],
      "text/plain": [
       "       STATION        DATE  TAVG  TMIN  TMAX  AWND  WSF2  WT01  WT02  WT03  \\\n",
       "0  USW00014765  2005-01-01  44.0    35    53  8.95  25.1   1.0   NaN   NaN   \n",
       "1  USW00014765  2005-01-02  36.0    28    44  9.40  14.1   NaN   NaN   NaN   \n",
       "2  USW00014765  2005-01-03  49.0    44    53  6.93  17.0   1.0   NaN   NaN   \n",
       "\n",
       "   ...  WT11  WT13  WT14  WT15  WT16  WT17  WT18  WT19  WT21  WT22  \n",
       "0  ...   NaN   1.0   NaN   NaN   NaN   NaN   NaN   NaN   NaN   NaN  \n",
       "1  ...   NaN   NaN   NaN   NaN   1.0   NaN   1.0   NaN   NaN   NaN  \n",
       "2  ...   NaN   1.0   NaN   NaN   1.0   NaN   NaN   NaN   NaN   NaN  \n",
       "\n",
       "[3 rows x 27 columns]"
      ]
     },
     "execution_count": 438,
     "metadata": {},
     "output_type": "execute_result"
    }
   ],
   "source": [
    "w = pd.read_csv('data/weather.csv')\n",
    "w.head(3)"
   ]
  },
  {
   "cell_type": "markdown",
   "metadata": {},
   "source": [
    "### Metadata\n",
    "* <code>TAVG, TMIN, TMAX</code>: Temperature\n",
    "* <code>AWND</code>: Average wind speed [miles/h]\n",
    "* <code>WSF2</code>: Fastest wind speed within 2 min peroid\n",
    "* <code>WT01 ... WT22</code>: Bad weather conditions\n",
    "    * E.g. <code>WT05</code> indicates \"Hail\" \n",
    "    * A value of 1 means the condition was present and NaN it wasn't."
   ]
  },
  {
   "cell_type": "markdown",
   "metadata": {},
   "source": [
    "## EDA"
   ]
  },
  {
   "cell_type": "code",
   "execution_count": 439,
   "metadata": {},
   "outputs": [
    {
     "data": {
      "text/plain": [
       "(4017, 27)"
      ]
     },
     "execution_count": 439,
     "metadata": {},
     "output_type": "execute_result"
    }
   ],
   "source": [
    "#dimensions\n",
    "w.shape"
   ]
  },
  {
   "cell_type": "code",
   "execution_count": 440,
   "metadata": {},
   "outputs": [
    {
     "name": "stdout",
     "output_type": "stream",
     "text": [
      "<class 'pandas.core.frame.DataFrame'>\n",
      "RangeIndex: 4017 entries, 0 to 4016\n",
      "Data columns (total 27 columns):\n",
      "STATION    4017 non-null object\n",
      "DATE       4017 non-null object\n",
      "TAVG       1217 non-null float64\n",
      "TMIN       4017 non-null int64\n",
      "TMAX       4017 non-null int64\n",
      "AWND       4017 non-null float64\n",
      "WSF2       4017 non-null float64\n",
      "WT01       1767 non-null float64\n",
      "WT02       221 non-null float64\n",
      "WT03       224 non-null float64\n",
      "WT04       117 non-null float64\n",
      "WT05       360 non-null float64\n",
      "WT06       25 non-null float64\n",
      "WT07       79 non-null float64\n",
      "WT08       404 non-null float64\n",
      "WT09       69 non-null float64\n",
      "WT10       2 non-null float64\n",
      "WT11       1 non-null float64\n",
      "WT13       1175 non-null float64\n",
      "WT14       575 non-null float64\n",
      "WT15       6 non-null float64\n",
      "WT16       1326 non-null float64\n",
      "WT17       12 non-null float64\n",
      "WT18       345 non-null float64\n",
      "WT19       4 non-null float64\n",
      "WT21       18 non-null float64\n",
      "WT22       32 non-null float64\n",
      "dtypes: float64(23), int64(2), object(2)\n",
      "memory usage: 847.5+ KB\n"
     ]
    }
   ],
   "source": [
    "w.info()"
   ]
  },
  {
   "cell_type": "markdown",
   "metadata": {},
   "source": [
    "**Check if data makes sense**"
   ]
  },
  {
   "cell_type": "code",
   "execution_count": 441,
   "metadata": {},
   "outputs": [
    {
     "data": {
      "text/html": [
       "<div>\n",
       "<style scoped>\n",
       "    .dataframe tbody tr th:only-of-type {\n",
       "        vertical-align: middle;\n",
       "    }\n",
       "\n",
       "    .dataframe tbody tr th {\n",
       "        vertical-align: top;\n",
       "    }\n",
       "\n",
       "    .dataframe thead th {\n",
       "        text-align: right;\n",
       "    }\n",
       "</style>\n",
       "<table border=\"1\" class=\"dataframe\">\n",
       "  <thead>\n",
       "    <tr style=\"text-align: right;\">\n",
       "      <th></th>\n",
       "      <th>TAVG</th>\n",
       "      <th>TMIN</th>\n",
       "      <th>TMAX</th>\n",
       "      <th>AWND</th>\n",
       "      <th>WSF2</th>\n",
       "      <th>WT01</th>\n",
       "      <th>WT02</th>\n",
       "      <th>WT03</th>\n",
       "      <th>WT04</th>\n",
       "      <th>WT05</th>\n",
       "      <th>...</th>\n",
       "      <th>WT11</th>\n",
       "      <th>WT13</th>\n",
       "      <th>WT14</th>\n",
       "      <th>WT15</th>\n",
       "      <th>WT16</th>\n",
       "      <th>WT17</th>\n",
       "      <th>WT18</th>\n",
       "      <th>WT19</th>\n",
       "      <th>WT21</th>\n",
       "      <th>WT22</th>\n",
       "    </tr>\n",
       "  </thead>\n",
       "  <tbody>\n",
       "    <tr>\n",
       "      <th>count</th>\n",
       "      <td>1217.000000</td>\n",
       "      <td>4017.000000</td>\n",
       "      <td>4017.000000</td>\n",
       "      <td>4017.000000</td>\n",
       "      <td>4017.000000</td>\n",
       "      <td>1767.0</td>\n",
       "      <td>221.0</td>\n",
       "      <td>224.0</td>\n",
       "      <td>117.0</td>\n",
       "      <td>360.0</td>\n",
       "      <td>...</td>\n",
       "      <td>1.0</td>\n",
       "      <td>1175.0</td>\n",
       "      <td>575.0</td>\n",
       "      <td>6.0</td>\n",
       "      <td>1326.0</td>\n",
       "      <td>12.0</td>\n",
       "      <td>345.0</td>\n",
       "      <td>4.0</td>\n",
       "      <td>18.0</td>\n",
       "      <td>32.0</td>\n",
       "    </tr>\n",
       "    <tr>\n",
       "      <th>mean</th>\n",
       "      <td>52.493016</td>\n",
       "      <td>43.484441</td>\n",
       "      <td>61.268608</td>\n",
       "      <td>8.593707</td>\n",
       "      <td>19.274782</td>\n",
       "      <td>1.0</td>\n",
       "      <td>1.0</td>\n",
       "      <td>1.0</td>\n",
       "      <td>1.0</td>\n",
       "      <td>1.0</td>\n",
       "      <td>...</td>\n",
       "      <td>1.0</td>\n",
       "      <td>1.0</td>\n",
       "      <td>1.0</td>\n",
       "      <td>1.0</td>\n",
       "      <td>1.0</td>\n",
       "      <td>1.0</td>\n",
       "      <td>1.0</td>\n",
       "      <td>1.0</td>\n",
       "      <td>1.0</td>\n",
       "      <td>1.0</td>\n",
       "    </tr>\n",
       "    <tr>\n",
       "      <th>std</th>\n",
       "      <td>17.830714</td>\n",
       "      <td>17.020298</td>\n",
       "      <td>18.199517</td>\n",
       "      <td>3.364601</td>\n",
       "      <td>5.623866</td>\n",
       "      <td>0.0</td>\n",
       "      <td>0.0</td>\n",
       "      <td>0.0</td>\n",
       "      <td>0.0</td>\n",
       "      <td>0.0</td>\n",
       "      <td>...</td>\n",
       "      <td>NaN</td>\n",
       "      <td>0.0</td>\n",
       "      <td>0.0</td>\n",
       "      <td>0.0</td>\n",
       "      <td>0.0</td>\n",
       "      <td>0.0</td>\n",
       "      <td>0.0</td>\n",
       "      <td>0.0</td>\n",
       "      <td>0.0</td>\n",
       "      <td>0.0</td>\n",
       "    </tr>\n",
       "    <tr>\n",
       "      <th>min</th>\n",
       "      <td>6.000000</td>\n",
       "      <td>-5.000000</td>\n",
       "      <td>15.000000</td>\n",
       "      <td>0.220000</td>\n",
       "      <td>4.900000</td>\n",
       "      <td>1.0</td>\n",
       "      <td>1.0</td>\n",
       "      <td>1.0</td>\n",
       "      <td>1.0</td>\n",
       "      <td>1.0</td>\n",
       "      <td>...</td>\n",
       "      <td>1.0</td>\n",
       "      <td>1.0</td>\n",
       "      <td>1.0</td>\n",
       "      <td>1.0</td>\n",
       "      <td>1.0</td>\n",
       "      <td>1.0</td>\n",
       "      <td>1.0</td>\n",
       "      <td>1.0</td>\n",
       "      <td>1.0</td>\n",
       "      <td>1.0</td>\n",
       "    </tr>\n",
       "    <tr>\n",
       "      <th>25%</th>\n",
       "      <td>39.000000</td>\n",
       "      <td>30.000000</td>\n",
       "      <td>47.000000</td>\n",
       "      <td>6.260000</td>\n",
       "      <td>15.000000</td>\n",
       "      <td>1.0</td>\n",
       "      <td>1.0</td>\n",
       "      <td>1.0</td>\n",
       "      <td>1.0</td>\n",
       "      <td>1.0</td>\n",
       "      <td>...</td>\n",
       "      <td>1.0</td>\n",
       "      <td>1.0</td>\n",
       "      <td>1.0</td>\n",
       "      <td>1.0</td>\n",
       "      <td>1.0</td>\n",
       "      <td>1.0</td>\n",
       "      <td>1.0</td>\n",
       "      <td>1.0</td>\n",
       "      <td>1.0</td>\n",
       "      <td>1.0</td>\n",
       "    </tr>\n",
       "    <tr>\n",
       "      <th>50%</th>\n",
       "      <td>54.000000</td>\n",
       "      <td>44.000000</td>\n",
       "      <td>62.000000</td>\n",
       "      <td>8.050000</td>\n",
       "      <td>17.900000</td>\n",
       "      <td>1.0</td>\n",
       "      <td>1.0</td>\n",
       "      <td>1.0</td>\n",
       "      <td>1.0</td>\n",
       "      <td>1.0</td>\n",
       "      <td>...</td>\n",
       "      <td>1.0</td>\n",
       "      <td>1.0</td>\n",
       "      <td>1.0</td>\n",
       "      <td>1.0</td>\n",
       "      <td>1.0</td>\n",
       "      <td>1.0</td>\n",
       "      <td>1.0</td>\n",
       "      <td>1.0</td>\n",
       "      <td>1.0</td>\n",
       "      <td>1.0</td>\n",
       "    </tr>\n",
       "    <tr>\n",
       "      <th>75%</th>\n",
       "      <td>68.000000</td>\n",
       "      <td>58.000000</td>\n",
       "      <td>77.000000</td>\n",
       "      <td>10.290000</td>\n",
       "      <td>21.900000</td>\n",
       "      <td>1.0</td>\n",
       "      <td>1.0</td>\n",
       "      <td>1.0</td>\n",
       "      <td>1.0</td>\n",
       "      <td>1.0</td>\n",
       "      <td>...</td>\n",
       "      <td>1.0</td>\n",
       "      <td>1.0</td>\n",
       "      <td>1.0</td>\n",
       "      <td>1.0</td>\n",
       "      <td>1.0</td>\n",
       "      <td>1.0</td>\n",
       "      <td>1.0</td>\n",
       "      <td>1.0</td>\n",
       "      <td>1.0</td>\n",
       "      <td>1.0</td>\n",
       "    </tr>\n",
       "    <tr>\n",
       "      <th>max</th>\n",
       "      <td>86.000000</td>\n",
       "      <td>77.000000</td>\n",
       "      <td>102.000000</td>\n",
       "      <td>26.840000</td>\n",
       "      <td>48.100000</td>\n",
       "      <td>1.0</td>\n",
       "      <td>1.0</td>\n",
       "      <td>1.0</td>\n",
       "      <td>1.0</td>\n",
       "      <td>1.0</td>\n",
       "      <td>...</td>\n",
       "      <td>1.0</td>\n",
       "      <td>1.0</td>\n",
       "      <td>1.0</td>\n",
       "      <td>1.0</td>\n",
       "      <td>1.0</td>\n",
       "      <td>1.0</td>\n",
       "      <td>1.0</td>\n",
       "      <td>1.0</td>\n",
       "      <td>1.0</td>\n",
       "      <td>1.0</td>\n",
       "    </tr>\n",
       "  </tbody>\n",
       "</table>\n",
       "<p>8 rows × 25 columns</p>\n",
       "</div>"
      ],
      "text/plain": [
       "              TAVG         TMIN         TMAX         AWND         WSF2  \\\n",
       "count  1217.000000  4017.000000  4017.000000  4017.000000  4017.000000   \n",
       "mean     52.493016    43.484441    61.268608     8.593707    19.274782   \n",
       "std      17.830714    17.020298    18.199517     3.364601     5.623866   \n",
       "min       6.000000    -5.000000    15.000000     0.220000     4.900000   \n",
       "25%      39.000000    30.000000    47.000000     6.260000    15.000000   \n",
       "50%      54.000000    44.000000    62.000000     8.050000    17.900000   \n",
       "75%      68.000000    58.000000    77.000000    10.290000    21.900000   \n",
       "max      86.000000    77.000000   102.000000    26.840000    48.100000   \n",
       "\n",
       "         WT01   WT02   WT03   WT04   WT05  ...  WT11    WT13   WT14  WT15  \\\n",
       "count  1767.0  221.0  224.0  117.0  360.0  ...   1.0  1175.0  575.0   6.0   \n",
       "mean      1.0    1.0    1.0    1.0    1.0  ...   1.0     1.0    1.0   1.0   \n",
       "std       0.0    0.0    0.0    0.0    0.0  ...   NaN     0.0    0.0   0.0   \n",
       "min       1.0    1.0    1.0    1.0    1.0  ...   1.0     1.0    1.0   1.0   \n",
       "25%       1.0    1.0    1.0    1.0    1.0  ...   1.0     1.0    1.0   1.0   \n",
       "50%       1.0    1.0    1.0    1.0    1.0  ...   1.0     1.0    1.0   1.0   \n",
       "75%       1.0    1.0    1.0    1.0    1.0  ...   1.0     1.0    1.0   1.0   \n",
       "max       1.0    1.0    1.0    1.0    1.0  ...   1.0     1.0    1.0   1.0   \n",
       "\n",
       "         WT16  WT17   WT18  WT19  WT21  WT22  \n",
       "count  1326.0  12.0  345.0   4.0  18.0  32.0  \n",
       "mean      1.0   1.0    1.0   1.0   1.0   1.0  \n",
       "std       0.0   0.0    0.0   0.0   0.0   0.0  \n",
       "min       1.0   1.0    1.0   1.0   1.0   1.0  \n",
       "25%       1.0   1.0    1.0   1.0   1.0   1.0  \n",
       "50%       1.0   1.0    1.0   1.0   1.0   1.0  \n",
       "75%       1.0   1.0    1.0   1.0   1.0   1.0  \n",
       "max       1.0   1.0    1.0   1.0   1.0   1.0  \n",
       "\n",
       "[8 rows x 25 columns]"
      ]
     },
     "execution_count": 441,
     "metadata": {},
     "output_type": "execute_result"
    }
   ],
   "source": [
    "w.describe()"
   ]
  },
  {
   "cell_type": "code",
   "execution_count": 442,
   "metadata": {},
   "outputs": [
    {
     "data": {
      "text/plain": [
       "0"
      ]
     },
     "execution_count": 442,
     "metadata": {},
     "output_type": "execute_result"
    }
   ],
   "source": [
    "#check if avg windspeed is less than max windspeed for all rows\n",
    "(w.WSF2 - w.AWND < 0).sum()"
   ]
  },
  {
   "cell_type": "markdown",
   "metadata": {},
   "source": [
    "Wind data looks logical and makes sense.<br>\n",
    "**Check distributions**"
   ]
  },
  {
   "cell_type": "code",
   "execution_count": 443,
   "metadata": {},
   "outputs": [
    {
     "data": {
      "image/png": "[encoded data removed]",
      "text/plain": [
       "<Figure size 720x576 with 6 Axes>"
      ]
     },
     "metadata": {},
     "output_type": "display_data"
    }
   ],
   "source": [
    "w.loc[:,'TAVG':'WSF2'].hist(bins=20, figsize=(10,8),edgecolor='k')\n",
    "plt.show()"
   ]
  },
  {
   "cell_type": "markdown",
   "metadata": {},
   "source": [
    "Average and max wind speed distributions are simialr to normal / gaussian, which adds confidence that the data is legimate since most of the natural processes in nature are normally distributed."
   ]
  },
  {
   "cell_type": "markdown",
   "metadata": {},
   "source": [
    "**Outliers**"
   ]
  },
  {
   "cell_type": "code",
   "execution_count": 444,
   "metadata": {},
   "outputs": [
    {
     "data": {
      "image/png": "[encoded data removed]",
      "text/plain": [
       "<Figure size 432x288 with 1 Axes>"
      ]
     },
     "metadata": {},
     "output_type": "display_data"
    }
   ],
   "source": [
    "w.loc[:,'TAVG':'WSF2'].plot(kind='box')\n",
    "plt.show()"
   ]
  },
  {
   "cell_type": "markdown",
   "metadata": {},
   "source": [
    "The wind related fields have outliers in their distribution."
   ]
  },
  {
   "cell_type": "markdown",
   "metadata": {},
   "source": [
    "## Prepare data"
   ]
  },
  {
   "cell_type": "markdown",
   "metadata": {},
   "source": [
    "### Missing values\n",
    "* We will fill the 'bad weather' column NaN-s with 0-s."
   ]
  },
  {
   "cell_type": "code",
   "execution_count": 445,
   "metadata": {},
   "outputs": [],
   "source": [
    "w.loc[:,'WT01':'WT22'] = w.loc[:,'WT01':'WT22'].fillna(value=0).astype('int')"
   ]
  },
  {
   "cell_type": "code",
   "execution_count": 446,
   "metadata": {},
   "outputs": [
    {
     "data": {
      "text/html": [
       "<div>\n",
       "<style scoped>\n",
       "    .dataframe tbody tr th:only-of-type {\n",
       "        vertical-align: middle;\n",
       "    }\n",
       "\n",
       "    .dataframe tbody tr th {\n",
       "        vertical-align: top;\n",
       "    }\n",
       "\n",
       "    .dataframe thead th {\n",
       "        text-align: right;\n",
       "    }\n",
       "</style>\n",
       "<table border=\"1\" class=\"dataframe\">\n",
       "  <thead>\n",
       "    <tr style=\"text-align: right;\">\n",
       "      <th></th>\n",
       "      <th>STATION</th>\n",
       "      <th>DATE</th>\n",
       "      <th>TAVG</th>\n",
       "      <th>TMIN</th>\n",
       "      <th>TMAX</th>\n",
       "      <th>AWND</th>\n",
       "      <th>WSF2</th>\n",
       "      <th>WT01</th>\n",
       "      <th>WT02</th>\n",
       "      <th>WT03</th>\n",
       "      <th>...</th>\n",
       "      <th>WT11</th>\n",
       "      <th>WT13</th>\n",
       "      <th>WT14</th>\n",
       "      <th>WT15</th>\n",
       "      <th>WT16</th>\n",
       "      <th>WT17</th>\n",
       "      <th>WT18</th>\n",
       "      <th>WT19</th>\n",
       "      <th>WT21</th>\n",
       "      <th>WT22</th>\n",
       "    </tr>\n",
       "  </thead>\n",
       "  <tbody>\n",
       "    <tr>\n",
       "      <th>0</th>\n",
       "      <td>USW00014765</td>\n",
       "      <td>2005-01-01</td>\n",
       "      <td>44.0</td>\n",
       "      <td>35</td>\n",
       "      <td>53</td>\n",
       "      <td>8.95</td>\n",
       "      <td>25.1</td>\n",
       "      <td>1</td>\n",
       "      <td>0</td>\n",
       "      <td>0</td>\n",
       "      <td>...</td>\n",
       "      <td>0</td>\n",
       "      <td>1</td>\n",
       "      <td>0</td>\n",
       "      <td>0</td>\n",
       "      <td>0</td>\n",
       "      <td>0</td>\n",
       "      <td>0</td>\n",
       "      <td>0</td>\n",
       "      <td>0</td>\n",
       "      <td>0</td>\n",
       "    </tr>\n",
       "    <tr>\n",
       "      <th>1</th>\n",
       "      <td>USW00014765</td>\n",
       "      <td>2005-01-02</td>\n",
       "      <td>36.0</td>\n",
       "      <td>28</td>\n",
       "      <td>44</td>\n",
       "      <td>9.40</td>\n",
       "      <td>14.1</td>\n",
       "      <td>0</td>\n",
       "      <td>0</td>\n",
       "      <td>0</td>\n",
       "      <td>...</td>\n",
       "      <td>0</td>\n",
       "      <td>0</td>\n",
       "      <td>0</td>\n",
       "      <td>0</td>\n",
       "      <td>1</td>\n",
       "      <td>0</td>\n",
       "      <td>1</td>\n",
       "      <td>0</td>\n",
       "      <td>0</td>\n",
       "      <td>0</td>\n",
       "    </tr>\n",
       "  </tbody>\n",
       "</table>\n",
       "<p>2 rows × 27 columns</p>\n",
       "</div>"
      ],
      "text/plain": [
       "       STATION        DATE  TAVG  TMIN  TMAX  AWND  WSF2  WT01  WT02  WT03  \\\n",
       "0  USW00014765  2005-01-01  44.0    35    53  8.95  25.1     1     0     0   \n",
       "1  USW00014765  2005-01-02  36.0    28    44  9.40  14.1     0     0     0   \n",
       "\n",
       "   ...  WT11  WT13  WT14  WT15  WT16  WT17  WT18  WT19  WT21  WT22  \n",
       "0  ...     0     1     0     0     0     0     0     0     0     0  \n",
       "1  ...     0     0     0     0     1     0     1     0     0     0  \n",
       "\n",
       "[2 rows x 27 columns]"
      ]
     },
     "execution_count": 446,
     "metadata": {},
     "output_type": "execute_result"
    }
   ],
   "source": [
    "w.head(2)"
   ]
  },
  {
   "cell_type": "markdown",
   "metadata": {},
   "source": [
    "### Parametrizing \n",
    "Since each *bad_weather* field records if the conditon was met that day or not we can create a new field that sums the number of different bad weather conditions - sort of a parametrization to weather conditions. The bigger the number the worse the weather."
   ]
  },
  {
   "cell_type": "code",
   "execution_count": 447,
   "metadata": {},
   "outputs": [
    {
     "data": {
      "text/html": [
       "<div>\n",
       "<style scoped>\n",
       "    .dataframe tbody tr th:only-of-type {\n",
       "        vertical-align: middle;\n",
       "    }\n",
       "\n",
       "    .dataframe tbody tr th {\n",
       "        vertical-align: top;\n",
       "    }\n",
       "\n",
       "    .dataframe thead th {\n",
       "        text-align: right;\n",
       "    }\n",
       "</style>\n",
       "<table border=\"1\" class=\"dataframe\">\n",
       "  <thead>\n",
       "    <tr style=\"text-align: right;\">\n",
       "      <th></th>\n",
       "      <th>STATION</th>\n",
       "      <th>DATE</th>\n",
       "      <th>TAVG</th>\n",
       "      <th>TMIN</th>\n",
       "      <th>TMAX</th>\n",
       "      <th>AWND</th>\n",
       "      <th>WSF2</th>\n",
       "      <th>WT01</th>\n",
       "      <th>WT02</th>\n",
       "      <th>WT03</th>\n",
       "      <th>...</th>\n",
       "      <th>WT13</th>\n",
       "      <th>WT14</th>\n",
       "      <th>WT15</th>\n",
       "      <th>WT16</th>\n",
       "      <th>WT17</th>\n",
       "      <th>WT18</th>\n",
       "      <th>WT19</th>\n",
       "      <th>WT21</th>\n",
       "      <th>WT22</th>\n",
       "      <th>bad_conditions</th>\n",
       "    </tr>\n",
       "  </thead>\n",
       "  <tbody>\n",
       "    <tr>\n",
       "      <th>0</th>\n",
       "      <td>USW00014765</td>\n",
       "      <td>2005-01-01</td>\n",
       "      <td>44.0</td>\n",
       "      <td>35</td>\n",
       "      <td>53</td>\n",
       "      <td>8.95</td>\n",
       "      <td>25.1</td>\n",
       "      <td>1</td>\n",
       "      <td>0</td>\n",
       "      <td>0</td>\n",
       "      <td>...</td>\n",
       "      <td>1</td>\n",
       "      <td>0</td>\n",
       "      <td>0</td>\n",
       "      <td>0</td>\n",
       "      <td>0</td>\n",
       "      <td>0</td>\n",
       "      <td>0</td>\n",
       "      <td>0</td>\n",
       "      <td>0</td>\n",
       "      <td>2</td>\n",
       "    </tr>\n",
       "    <tr>\n",
       "      <th>1</th>\n",
       "      <td>USW00014765</td>\n",
       "      <td>2005-01-02</td>\n",
       "      <td>36.0</td>\n",
       "      <td>28</td>\n",
       "      <td>44</td>\n",
       "      <td>9.40</td>\n",
       "      <td>14.1</td>\n",
       "      <td>0</td>\n",
       "      <td>0</td>\n",
       "      <td>0</td>\n",
       "      <td>...</td>\n",
       "      <td>0</td>\n",
       "      <td>0</td>\n",
       "      <td>0</td>\n",
       "      <td>1</td>\n",
       "      <td>0</td>\n",
       "      <td>1</td>\n",
       "      <td>0</td>\n",
       "      <td>0</td>\n",
       "      <td>0</td>\n",
       "      <td>2</td>\n",
       "    </tr>\n",
       "  </tbody>\n",
       "</table>\n",
       "<p>2 rows × 28 columns</p>\n",
       "</div>"
      ],
      "text/plain": [
       "       STATION        DATE  TAVG  TMIN  TMAX  AWND  WSF2  WT01  WT02  WT03  \\\n",
       "0  USW00014765  2005-01-01  44.0    35    53  8.95  25.1     1     0     0   \n",
       "1  USW00014765  2005-01-02  36.0    28    44  9.40  14.1     0     0     0   \n",
       "\n",
       "   ...  WT13  WT14  WT15  WT16  WT17  WT18  WT19  WT21  WT22  bad_conditions  \n",
       "0  ...     1     0     0     0     0     0     0     0     0               2  \n",
       "1  ...     0     0     0     1     0     1     0     0     0               2  \n",
       "\n",
       "[2 rows x 28 columns]"
      ]
     },
     "execution_count": 447,
     "metadata": {},
     "output_type": "execute_result"
    }
   ],
   "source": [
    "w['bad_conditions'] = w.loc[:,'WT01':'WT22'].sum(axis='columns').astype('int')\n",
    "w.head(2)"
   ]
  },
  {
   "cell_type": "markdown",
   "metadata": {},
   "source": [
    "### Mapping\n",
    "We can map a rating to *bad_conditions* field value."
   ]
  },
  {
   "cell_type": "code",
   "execution_count": 448,
   "metadata": {},
   "outputs": [
    {
     "data": {
      "text/plain": [
       "0    1749\n",
       "1     613\n",
       "2     367\n",
       "3     380\n",
       "4     476\n",
       "5     282\n",
       "6     101\n",
       "7      41\n",
       "8       4\n",
       "9       4\n",
       "Name: bad_conditions, dtype: int64"
      ]
     },
     "execution_count": 448,
     "metadata": {},
     "output_type": "execute_result"
    }
   ],
   "source": [
    "w.bad_conditions.value_counts().sort_index()"
   ]
  },
  {
   "cell_type": "markdown",
   "metadata": {},
   "source": [
    "The *bad_conditions* filed ranges from 0 to 9. We can rate it as:<br>\n",
    "* 0 : 'good'\n",
    "* 1 - 4 : 'bad'\n",
    "* 5 - 9 : 'worse'"
   ]
  },
  {
   "cell_type": "code",
   "execution_count": 449,
   "metadata": {},
   "outputs": [],
   "source": [
    "w['rating'] = w.bad_conditions.map(\n",
    "    lambda x: 'bad' if (x>=1) & (x<=4) else ('good' if x==0 else 'worse'))"
   ]
  },
  {
   "cell_type": "code",
   "execution_count": 450,
   "metadata": {},
   "outputs": [
    {
     "data": {
      "text/html": [
       "<div>\n",
       "<style scoped>\n",
       "    .dataframe tbody tr th:only-of-type {\n",
       "        vertical-align: middle;\n",
       "    }\n",
       "\n",
       "    .dataframe tbody tr th {\n",
       "        vertical-align: top;\n",
       "    }\n",
       "\n",
       "    .dataframe thead th {\n",
       "        text-align: right;\n",
       "    }\n",
       "</style>\n",
       "<table border=\"1\" class=\"dataframe\">\n",
       "  <thead>\n",
       "    <tr style=\"text-align: right;\">\n",
       "      <th></th>\n",
       "      <th>bad_conditions</th>\n",
       "      <th>rating</th>\n",
       "    </tr>\n",
       "  </thead>\n",
       "  <tbody>\n",
       "    <tr>\n",
       "      <th>0</th>\n",
       "      <td>2</td>\n",
       "      <td>bad</td>\n",
       "    </tr>\n",
       "    <tr>\n",
       "      <th>5</th>\n",
       "      <td>9</td>\n",
       "      <td>worse</td>\n",
       "    </tr>\n",
       "    <tr>\n",
       "      <th>10</th>\n",
       "      <td>3</td>\n",
       "      <td>bad</td>\n",
       "    </tr>\n",
       "    <tr>\n",
       "      <th>15</th>\n",
       "      <td>3</td>\n",
       "      <td>bad</td>\n",
       "    </tr>\n",
       "    <tr>\n",
       "      <th>20</th>\n",
       "      <td>0</td>\n",
       "      <td>good</td>\n",
       "    </tr>\n",
       "  </tbody>\n",
       "</table>\n",
       "</div>"
      ],
      "text/plain": [
       "    bad_conditions rating\n",
       "0                2    bad\n",
       "5                9  worse\n",
       "10               3    bad\n",
       "15               3    bad\n",
       "20               0   good"
      ]
     },
     "execution_count": 450,
     "metadata": {},
     "output_type": "execute_result"
    }
   ],
   "source": [
    "w.iloc[:25:5,-2:]"
   ]
  },
  {
   "cell_type": "markdown",
   "metadata": {},
   "source": [
    "### Data Types"
   ]
  },
  {
   "cell_type": "markdown",
   "metadata": {},
   "source": [
    "Let's change *rating* field to category and order the values."
   ]
  },
  {
   "cell_type": "code",
   "execution_count": 451,
   "metadata": {},
   "outputs": [
    {
     "data": {
      "text/plain": [
       "bad      1836\n",
       "good     1749\n",
       "worse     432\n",
       "Name: rating, dtype: int64"
      ]
     },
     "execution_count": 451,
     "metadata": {},
     "output_type": "execute_result"
    }
   ],
   "source": [
    "w.rating.value_counts()"
   ]
  },
  {
   "cell_type": "code",
   "execution_count": 452,
   "metadata": {},
   "outputs": [
    {
     "data": {
      "text/plain": [
       "0    bad\n",
       "1    bad\n",
       "2    bad\n",
       "Name: rating, dtype: category\n",
       "Categories (3, object): [good < bad < worse]"
      ]
     },
     "execution_count": 452,
     "metadata": {},
     "output_type": "execute_result"
    }
   ],
   "source": [
    "from pandas.api.types import CategoricalDtype\n",
    "\n",
    "w['rating'] = w.rating.astype(CategoricalDtype(ordered=True, \n",
    "    categories=['good','bad','worse']))\n",
    "w.rating.head(3)"
   ]
  },
  {
   "cell_type": "markdown",
   "metadata": {},
   "source": [
    "## Merging\n",
    "We want to merge police_stops df to weather df. We are interested in weather rating column and date column of the weather data."
   ]
  },
  {
   "cell_type": "code",
   "execution_count": 431,
   "metadata": {},
   "outputs": [
    {
     "data": {
      "text/html": [
       "<div>\n",
       "<style scoped>\n",
       "    .dataframe tbody tr th:only-of-type {\n",
       "        vertical-align: middle;\n",
       "    }\n",
       "\n",
       "    .dataframe tbody tr th {\n",
       "        vertical-align: top;\n",
       "    }\n",
       "\n",
       "    .dataframe thead th {\n",
       "        text-align: right;\n",
       "    }\n",
       "</style>\n",
       "<table border=\"1\" class=\"dataframe\">\n",
       "  <thead>\n",
       "    <tr style=\"text-align: right;\">\n",
       "      <th></th>\n",
       "      <th>driver_gender</th>\n",
       "      <th>driver_race</th>\n",
       "      <th>violation</th>\n",
       "      <th>search_conducted</th>\n",
       "      <th>search_type</th>\n",
       "      <th>stop_outcome</th>\n",
       "      <th>is_arrested</th>\n",
       "      <th>stop_duration</th>\n",
       "      <th>drugs_related_stop</th>\n",
       "      <th>district</th>\n",
       "      <th>Frisk</th>\n",
       "    </tr>\n",
       "    <tr>\n",
       "      <th>stop_datetime</th>\n",
       "      <th></th>\n",
       "      <th></th>\n",
       "      <th></th>\n",
       "      <th></th>\n",
       "      <th></th>\n",
       "      <th></th>\n",
       "      <th></th>\n",
       "      <th></th>\n",
       "      <th></th>\n",
       "      <th></th>\n",
       "      <th></th>\n",
       "    </tr>\n",
       "  </thead>\n",
       "  <tbody>\n",
       "    <tr>\n",
       "      <th>2005-01-04 12:55:00</th>\n",
       "      <td>M</td>\n",
       "      <td>White</td>\n",
       "      <td>Equipment</td>\n",
       "      <td>False</td>\n",
       "      <td>NaN</td>\n",
       "      <td>Citation</td>\n",
       "      <td>False</td>\n",
       "      <td>0-15 Min</td>\n",
       "      <td>False</td>\n",
       "      <td>Zone X4</td>\n",
       "      <td>False</td>\n",
       "    </tr>\n",
       "    <tr>\n",
       "      <th>2005-01-23 23:15:00</th>\n",
       "      <td>M</td>\n",
       "      <td>White</td>\n",
       "      <td>Speeding</td>\n",
       "      <td>False</td>\n",
       "      <td>NaN</td>\n",
       "      <td>Citation</td>\n",
       "      <td>False</td>\n",
       "      <td>0-15 Min</td>\n",
       "      <td>False</td>\n",
       "      <td>Zone K3</td>\n",
       "      <td>False</td>\n",
       "    </tr>\n",
       "  </tbody>\n",
       "</table>\n",
       "</div>"
      ],
      "text/plain": [
       "                    driver_gender driver_race  violation  search_conducted  \\\n",
       "stop_datetime                                                                \n",
       "2005-01-04 12:55:00             M       White  Equipment             False   \n",
       "2005-01-23 23:15:00             M       White   Speeding             False   \n",
       "\n",
       "                    search_type stop_outcome  is_arrested stop_duration  \\\n",
       "stop_datetime                                                             \n",
       "2005-01-04 12:55:00         NaN     Citation        False      0-15 Min   \n",
       "2005-01-23 23:15:00         NaN     Citation        False      0-15 Min   \n",
       "\n",
       "                     drugs_related_stop district  Frisk  \n",
       "stop_datetime                                            \n",
       "2005-01-04 12:55:00               False  Zone X4  False  \n",
       "2005-01-23 23:15:00               False  Zone K3  False  "
      ]
     },
     "execution_count": 431,
     "metadata": {},
     "output_type": "execute_result"
    }
   ],
   "source": [
    "police_c.head(2)"
   ]
  },
  {
   "cell_type": "code",
   "execution_count": 458,
   "metadata": {},
   "outputs": [
    {
     "data": {
      "text/html": [
       "<div>\n",
       "<style scoped>\n",
       "    .dataframe tbody tr th:only-of-type {\n",
       "        vertical-align: middle;\n",
       "    }\n",
       "\n",
       "    .dataframe tbody tr th {\n",
       "        vertical-align: top;\n",
       "    }\n",
       "\n",
       "    .dataframe thead th {\n",
       "        text-align: right;\n",
       "    }\n",
       "</style>\n",
       "<table border=\"1\" class=\"dataframe\">\n",
       "  <thead>\n",
       "    <tr style=\"text-align: right;\">\n",
       "      <th></th>\n",
       "      <th>DATE</th>\n",
       "      <th>rating</th>\n",
       "    </tr>\n",
       "  </thead>\n",
       "  <tbody>\n",
       "    <tr>\n",
       "      <th>0</th>\n",
       "      <td>2005-01-01</td>\n",
       "      <td>bad</td>\n",
       "    </tr>\n",
       "    <tr>\n",
       "      <th>1</th>\n",
       "      <td>2005-01-02</td>\n",
       "      <td>bad</td>\n",
       "    </tr>\n",
       "    <tr>\n",
       "      <th>2</th>\n",
       "      <td>2005-01-03</td>\n",
       "      <td>bad</td>\n",
       "    </tr>\n",
       "  </tbody>\n",
       "</table>\n",
       "</div>"
      ],
      "text/plain": [
       "        DATE rating\n",
       "0 2005-01-01    bad\n",
       "1 2005-01-02    bad\n",
       "2 2005-01-03    bad"
      ]
     },
     "execution_count": 458,
     "metadata": {},
     "output_type": "execute_result"
    }
   ],
   "source": [
    "w2 = w.loc[:,['DATE','rating']]\n",
    "w2['DATE'] = w2.DATE.astype('datetime64')\n",
    "w2.head(3)"
   ]
  },
  {
   "cell_type": "code",
   "execution_count": 459,
   "metadata": {},
   "outputs": [
    {
     "name": "stdout",
     "output_type": "stream",
     "text": [
      "<class 'pandas.core.frame.DataFrame'>\n",
      "RangeIndex: 4017 entries, 0 to 4016\n",
      "Data columns (total 2 columns):\n",
      "DATE      4017 non-null datetime64[ns]\n",
      "rating    4017 non-null category\n",
      "dtypes: category(1), datetime64[ns](1)\n",
      "memory usage: 35.5 KB\n"
     ]
    }
   ],
   "source": [
    "w2.info()"
   ]
  },
  {
   "cell_type": "code",
   "execution_count": 472,
   "metadata": {},
   "outputs": [
    {
     "data": {
      "text/html": [
       "<div>\n",
       "<style scoped>\n",
       "    .dataframe tbody tr th:only-of-type {\n",
       "        vertical-align: middle;\n",
       "    }\n",
       "\n",
       "    .dataframe tbody tr th {\n",
       "        vertical-align: top;\n",
       "    }\n",
       "\n",
       "    .dataframe thead th {\n",
       "        text-align: right;\n",
       "    }\n",
       "</style>\n",
       "<table border=\"1\" class=\"dataframe\">\n",
       "  <thead>\n",
       "    <tr style=\"text-align: right;\">\n",
       "      <th></th>\n",
       "      <th>stop_datetime</th>\n",
       "      <th>driver_gender</th>\n",
       "      <th>driver_race</th>\n",
       "      <th>violation</th>\n",
       "      <th>search_conducted</th>\n",
       "      <th>search_type</th>\n",
       "      <th>stop_outcome</th>\n",
       "      <th>is_arrested</th>\n",
       "      <th>stop_duration</th>\n",
       "      <th>drugs_related_stop</th>\n",
       "      <th>district</th>\n",
       "      <th>Frisk</th>\n",
       "      <th>stop_date</th>\n",
       "      <th>DATE</th>\n",
       "      <th>rating</th>\n",
       "    </tr>\n",
       "  </thead>\n",
       "  <tbody>\n",
       "    <tr>\n",
       "      <th>0</th>\n",
       "      <td>2005-01-04 12:55:00</td>\n",
       "      <td>M</td>\n",
       "      <td>White</td>\n",
       "      <td>Equipment</td>\n",
       "      <td>False</td>\n",
       "      <td>NaN</td>\n",
       "      <td>Citation</td>\n",
       "      <td>False</td>\n",
       "      <td>0-15 Min</td>\n",
       "      <td>False</td>\n",
       "      <td>Zone X4</td>\n",
       "      <td>False</td>\n",
       "      <td>2005-01-04</td>\n",
       "      <td>2005-01-04</td>\n",
       "      <td>bad</td>\n",
       "    </tr>\n",
       "    <tr>\n",
       "      <th>1</th>\n",
       "      <td>2005-01-23 23:15:00</td>\n",
       "      <td>M</td>\n",
       "      <td>White</td>\n",
       "      <td>Speeding</td>\n",
       "      <td>False</td>\n",
       "      <td>NaN</td>\n",
       "      <td>Citation</td>\n",
       "      <td>False</td>\n",
       "      <td>0-15 Min</td>\n",
       "      <td>False</td>\n",
       "      <td>Zone K3</td>\n",
       "      <td>False</td>\n",
       "      <td>2005-01-23</td>\n",
       "      <td>2005-01-23</td>\n",
       "      <td>worse</td>\n",
       "    </tr>\n",
       "    <tr>\n",
       "      <th>2</th>\n",
       "      <td>2005-02-17 04:15:00</td>\n",
       "      <td>M</td>\n",
       "      <td>White</td>\n",
       "      <td>Speeding</td>\n",
       "      <td>False</td>\n",
       "      <td>NaN</td>\n",
       "      <td>Citation</td>\n",
       "      <td>False</td>\n",
       "      <td>0-15 Min</td>\n",
       "      <td>False</td>\n",
       "      <td>Zone X4</td>\n",
       "      <td>False</td>\n",
       "      <td>2005-02-17</td>\n",
       "      <td>2005-02-17</td>\n",
       "      <td>good</td>\n",
       "    </tr>\n",
       "    <tr>\n",
       "      <th>3</th>\n",
       "      <td>2005-02-20 17:15:00</td>\n",
       "      <td>M</td>\n",
       "      <td>White</td>\n",
       "      <td>Other</td>\n",
       "      <td>False</td>\n",
       "      <td>NaN</td>\n",
       "      <td>Arrest Driver</td>\n",
       "      <td>True</td>\n",
       "      <td>16-30 Min</td>\n",
       "      <td>False</td>\n",
       "      <td>Zone X1</td>\n",
       "      <td>False</td>\n",
       "      <td>2005-02-20</td>\n",
       "      <td>2005-02-20</td>\n",
       "      <td>bad</td>\n",
       "    </tr>\n",
       "    <tr>\n",
       "      <th>4</th>\n",
       "      <td>2005-02-24 01:20:00</td>\n",
       "      <td>F</td>\n",
       "      <td>White</td>\n",
       "      <td>Speeding</td>\n",
       "      <td>False</td>\n",
       "      <td>NaN</td>\n",
       "      <td>Citation</td>\n",
       "      <td>False</td>\n",
       "      <td>0-15 Min</td>\n",
       "      <td>False</td>\n",
       "      <td>Zone X3</td>\n",
       "      <td>False</td>\n",
       "      <td>2005-02-24</td>\n",
       "      <td>2005-02-24</td>\n",
       "      <td>bad</td>\n",
       "    </tr>\n",
       "  </tbody>\n",
       "</table>\n",
       "</div>"
      ],
      "text/plain": [
       "        stop_datetime driver_gender driver_race  violation  search_conducted  \\\n",
       "0 2005-01-04 12:55:00             M       White  Equipment             False   \n",
       "1 2005-01-23 23:15:00             M       White   Speeding             False   \n",
       "2 2005-02-17 04:15:00             M       White   Speeding             False   \n",
       "3 2005-02-20 17:15:00             M       White      Other             False   \n",
       "4 2005-02-24 01:20:00             F       White   Speeding             False   \n",
       "\n",
       "  search_type   stop_outcome  is_arrested stop_duration  drugs_related_stop  \\\n",
       "0         NaN       Citation        False      0-15 Min               False   \n",
       "1         NaN       Citation        False      0-15 Min               False   \n",
       "2         NaN       Citation        False      0-15 Min               False   \n",
       "3         NaN  Arrest Driver         True     16-30 Min               False   \n",
       "4         NaN       Citation        False      0-15 Min               False   \n",
       "\n",
       "  district  Frisk  stop_date       DATE rating  \n",
       "0  Zone X4  False 2005-01-04 2005-01-04    bad  \n",
       "1  Zone K3  False 2005-01-23 2005-01-23  worse  \n",
       "2  Zone X4  False 2005-02-17 2005-02-17   good  \n",
       "3  Zone X1  False 2005-02-20 2005-02-20    bad  \n",
       "4  Zone X3  False 2005-02-24 2005-02-24    bad  "
      ]
     },
     "execution_count": 472,
     "metadata": {},
     "output_type": "execute_result"
    }
   ],
   "source": [
    "#reset police df index since it will be lost during the merge\n",
    "police_c2 = police_c.copy().reset_index()\n",
    "\n",
    "#extract only date from the datetime\n",
    "#since weather data has no time\n",
    "police_c2['stop_date'] = police_c2.stop_datetime.dt.strftime('%Y-%m-%d').astype('datetime64')\n",
    "\n",
    "#merge police and weather\n",
    "police_w = pd.merge(left=police_c2, right=w2, how='left',\n",
    "                    left_on='stop_date', right_on='DATE')\n",
    "police_w.head(5)"
   ]
  },
  {
   "cell_type": "code",
   "execution_count": 473,
   "metadata": {},
   "outputs": [
    {
     "data": {
      "text/plain": [
       "(86536, 15)"
      ]
     },
     "execution_count": 473,
     "metadata": {},
     "output_type": "execute_result"
    }
   ],
   "source": [
    "police_w.shape"
   ]
  },
  {
   "cell_type": "markdown",
   "metadata": {},
   "source": [
    "## Analysis"
   ]
  },
  {
   "cell_type": "markdown",
   "metadata": {},
   "source": [
    "**Does weather affect the arrest rate?**"
   ]
  },
  {
   "cell_type": "code",
   "execution_count": 476,
   "metadata": {},
   "outputs": [
    {
     "data": {
      "text/plain": [
       "0.0355690117407784"
      ]
     },
     "execution_count": 476,
     "metadata": {},
     "output_type": "execute_result"
    }
   ],
   "source": [
    "#overall arrest rate\n",
    "police_w.is_arrested.mean()"
   ]
  },
  {
   "cell_type": "code",
   "execution_count": 474,
   "metadata": {},
   "outputs": [
    {
     "data": {
      "text/plain": [
       "rating\n",
       "good     0.033715\n",
       "bad      0.036261\n",
       "worse    0.041667\n",
       "Name: is_arrested, dtype: float64"
      ]
     },
     "execution_count": 474,
     "metadata": {},
     "output_type": "execute_result"
    }
   ],
   "source": [
    "police_w.groupby('rating').is_arrested.mean()"
   ]
  },
  {
   "cell_type": "code",
   "execution_count": 480,
   "metadata": {},
   "outputs": [
    {
     "data": {
      "text/html": [
       "<div>\n",
       "<style scoped>\n",
       "    .dataframe tbody tr th:only-of-type {\n",
       "        vertical-align: middle;\n",
       "    }\n",
       "\n",
       "    .dataframe tbody tr th {\n",
       "        vertical-align: top;\n",
       "    }\n",
       "\n",
       "    .dataframe thead tr th {\n",
       "        text-align: left;\n",
       "    }\n",
       "\n",
       "    .dataframe thead tr:last-of-type th {\n",
       "        text-align: right;\n",
       "    }\n",
       "</style>\n",
       "<table border=\"1\" class=\"dataframe\">\n",
       "  <thead>\n",
       "    <tr>\n",
       "      <th></th>\n",
       "      <th colspan=\"3\" halign=\"left\">is_arrested</th>\n",
       "    </tr>\n",
       "    <tr>\n",
       "      <th>rating</th>\n",
       "      <th>good</th>\n",
       "      <th>bad</th>\n",
       "      <th>worse</th>\n",
       "    </tr>\n",
       "    <tr>\n",
       "      <th>violation</th>\n",
       "      <th></th>\n",
       "      <th></th>\n",
       "      <th></th>\n",
       "    </tr>\n",
       "  </thead>\n",
       "  <tbody>\n",
       "    <tr>\n",
       "      <th>Equipment</th>\n",
       "      <td>0.059007</td>\n",
       "      <td>0.066311</td>\n",
       "      <td>0.097357</td>\n",
       "    </tr>\n",
       "    <tr>\n",
       "      <th>Moving violation</th>\n",
       "      <td>0.056227</td>\n",
       "      <td>0.058050</td>\n",
       "      <td>0.065860</td>\n",
       "    </tr>\n",
       "    <tr>\n",
       "      <th>Other</th>\n",
       "      <td>0.076966</td>\n",
       "      <td>0.087443</td>\n",
       "      <td>0.062893</td>\n",
       "    </tr>\n",
       "    <tr>\n",
       "      <th>Registration/plates</th>\n",
       "      <td>0.081574</td>\n",
       "      <td>0.098160</td>\n",
       "      <td>0.115625</td>\n",
       "    </tr>\n",
       "    <tr>\n",
       "      <th>Seat belt</th>\n",
       "      <td>0.028587</td>\n",
       "      <td>0.022493</td>\n",
       "      <td>0.000000</td>\n",
       "    </tr>\n",
       "    <tr>\n",
       "      <th>Speeding</th>\n",
       "      <td>0.013405</td>\n",
       "      <td>0.013314</td>\n",
       "      <td>0.016886</td>\n",
       "    </tr>\n",
       "  </tbody>\n",
       "</table>\n",
       "</div>"
      ],
      "text/plain": [
       "                    is_arrested                    \n",
       "rating                     good       bad     worse\n",
       "violation                                          \n",
       "Equipment              0.059007  0.066311  0.097357\n",
       "Moving violation       0.056227  0.058050  0.065860\n",
       "Other                  0.076966  0.087443  0.062893\n",
       "Registration/plates    0.081574  0.098160  0.115625\n",
       "Seat belt              0.028587  0.022493  0.000000\n",
       "Speeding               0.013405  0.013314  0.016886"
      ]
     },
     "execution_count": 480,
     "metadata": {},
     "output_type": "execute_result"
    }
   ],
   "source": [
    "#arrest rate for each violation and rating\n",
    "police_w.groupby(['violation','rating']).is_arrested.mean().to_frame().unstack()"
   ]
  },
  {
   "cell_type": "code",
   "execution_count": 478,
   "metadata": {},
   "outputs": [
    {
     "data": {
      "text/html": [
       "<div>\n",
       "<style scoped>\n",
       "    .dataframe tbody tr th:only-of-type {\n",
       "        vertical-align: middle;\n",
       "    }\n",
       "\n",
       "    .dataframe tbody tr th {\n",
       "        vertical-align: top;\n",
       "    }\n",
       "\n",
       "    .dataframe thead th {\n",
       "        text-align: right;\n",
       "    }\n",
       "</style>\n",
       "<table border=\"1\" class=\"dataframe\">\n",
       "  <thead>\n",
       "    <tr style=\"text-align: right;\">\n",
       "      <th>rating</th>\n",
       "      <th>good</th>\n",
       "      <th>bad</th>\n",
       "      <th>worse</th>\n",
       "    </tr>\n",
       "    <tr>\n",
       "      <th>violation</th>\n",
       "      <th></th>\n",
       "      <th></th>\n",
       "      <th></th>\n",
       "    </tr>\n",
       "  </thead>\n",
       "  <tbody>\n",
       "    <tr>\n",
       "      <th>Equipment</th>\n",
       "      <td>0.059007</td>\n",
       "      <td>0.066311</td>\n",
       "      <td>0.097357</td>\n",
       "    </tr>\n",
       "    <tr>\n",
       "      <th>Moving violation</th>\n",
       "      <td>0.056227</td>\n",
       "      <td>0.058050</td>\n",
       "      <td>0.065860</td>\n",
       "    </tr>\n",
       "    <tr>\n",
       "      <th>Other</th>\n",
       "      <td>0.076966</td>\n",
       "      <td>0.087443</td>\n",
       "      <td>0.062893</td>\n",
       "    </tr>\n",
       "    <tr>\n",
       "      <th>Registration/plates</th>\n",
       "      <td>0.081574</td>\n",
       "      <td>0.098160</td>\n",
       "      <td>0.115625</td>\n",
       "    </tr>\n",
       "    <tr>\n",
       "      <th>Seat belt</th>\n",
       "      <td>0.028587</td>\n",
       "      <td>0.022493</td>\n",
       "      <td>0.000000</td>\n",
       "    </tr>\n",
       "    <tr>\n",
       "      <th>Speeding</th>\n",
       "      <td>0.013405</td>\n",
       "      <td>0.013314</td>\n",
       "      <td>0.016886</td>\n",
       "    </tr>\n",
       "  </tbody>\n",
       "</table>\n",
       "</div>"
      ],
      "text/plain": [
       "rating                   good       bad     worse\n",
       "violation                                        \n",
       "Equipment            0.059007  0.066311  0.097357\n",
       "Moving violation     0.056227  0.058050  0.065860\n",
       "Other                0.076966  0.087443  0.062893\n",
       "Registration/plates  0.081574  0.098160  0.115625\n",
       "Seat belt            0.028587  0.022493  0.000000\n",
       "Speeding             0.013405  0.013314  0.016886"
      ]
     },
     "execution_count": 478,
     "metadata": {},
     "output_type": "execute_result"
    }
   ],
   "source": [
    "#same table with different approach\n",
    "police_w.pivot_table(values='is_arrested',\n",
    "                     index='violation',\n",
    "                     columns='rating',\n",
    "                     aggfunc='mean')"
   ]
  },
  {
   "cell_type": "markdown",
   "metadata": {},
   "source": [
    "It turns out that weather indeed affects the arrest rate. The worse the weather the more arrests are done."
   ]
  },
  {
   "cell_type": "code",
   "execution_count": null,
   "metadata": {},
   "outputs": [],
   "source": []
  }
 ],
 "metadata": {
  "kernelspec": {
   "display_name": "Python 3",
   "language": "python",
   "name": "python3"
  },
  "language_info": {
   "codemirror_mode": {
    "name": "ipython",
    "version": 3
   },
   "file_extension": ".py",
   "mimetype": "text/x-python",
   "name": "python",
   "nbconvert_exporter": "python",
   "pygments_lexer": "ipython3",
   "version": "3.7.5"
  },
  "latex_envs": {
   "LaTeX_envs_menu_present": true,
   "autoclose": true,
   "autocomplete": true,
   "bibliofile": "biblio.bib",
   "cite_by": "apalike",
   "current_citInitial": 1,
   "eqLabelWithNumbers": true,
   "eqNumInitial": 1,
   "hotkeys": {
    "equation": "Ctrl-E",
    "itemize": "Ctrl-I"
   },
   "labels_anchors": false,
   "latex_user_defs": false,
   "report_style_numbering": false,
   "user_envs_cfg": false
  },
  "toc": {
   "base_numbering": 1,
   "nav_menu": {},
   "number_sections": true,
   "sideBar": true,
   "skip_h1_title": false,
   "title_cell": "Table of Contents",
   "title_sidebar": "Contents",
   "toc_cell": false,
   "toc_position": {
    "height": "calc(100% - 180px)",
    "left": "10px",
    "top": "150px",
    "width": "165px"
   },
   "toc_section_display": true,
   "toc_window_display": true
  }
 },
 "nbformat": 4,
 "nbformat_minor": 2
}
