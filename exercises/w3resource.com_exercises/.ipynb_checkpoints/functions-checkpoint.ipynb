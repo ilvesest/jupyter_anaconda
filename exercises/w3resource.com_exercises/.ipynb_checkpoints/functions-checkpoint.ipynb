{
 "cells": [
  {
   "cell_type": "markdown",
   "metadata": {},
   "source": [
    "https://www.w3resource.com/python-exercises/python-functions-exercises.php"
   ]
  },
  {
   "cell_type": "markdown",
   "metadata": {},
   "source": [
    "### 13. Write a Python function that prints out the first n rows of Pascal's triangle.\n",
    "\n",
    "<img src=\"pascal-traingle.png\" style=\"width: 150px;\">"
   ]
  },
  {
   "cell_type": "code",
   "execution_count": 33,
   "metadata": {},
   "outputs": [
    {
     "name": "stdout",
     "output_type": "stream",
     "text": [
      "     [1]\n",
      "    [1, 1]\n",
      "   [1, 2, 1]\n",
      "  [1, 3, 3, 1]\n",
      " [1, 4, 6, 4, 1]\n"
     ]
    }
   ],
   "source": [
    "def pairwise_sum(old_row):\n",
    "    new_row = [1]\n",
    "    for i,num in enumerate(old_row):\n",
    "        if i == len(old_row)-1:\n",
    "            new_row.append(1)\n",
    "            break\n",
    "        else:\n",
    "            new_row.append(num+old_row[i+1])\n",
    "    return new_row\n",
    "\n",
    "def pascal_triangle(n_rows):\n",
    "    pascal_triangle = [[1], [1,1]]\n",
    "    i = 1\n",
    "    while i < n_rows-1:\n",
    "        pascal_triangle.append(pairwise_sum(pascal_triangle[-1]))\n",
    "        i += 1\n",
    "\n",
    "    spaces = [i for i in range(len(pascal_triangle))]\n",
    "\n",
    "    for space,row in zip(spaces[::-1], pascal_triangle):\n",
    "        a = \" \" * space\n",
    "        print(a,row)\n",
    "        \n",
    "pascal_triangle(5)"
   ]
  },
  {
   "cell_type": "markdown",
   "metadata": {},
   "source": [
    "### 17. Write a Python program to make a chain of function decorators (bold, italic, underline etc.) in Python."
   ]
  },
  {
   "cell_type": "code",
   "execution_count": 37,
   "metadata": {},
   "outputs": [
    {
     "data": {
      "text/plain": [
       "'<b><u>Hello World!</u></b>'"
      ]
     },
     "execution_count": 37,
     "metadata": {},
     "output_type": "execute_result"
    }
   ],
   "source": [
    "def make_bold(func):\n",
    "    def wrapper():\n",
    "        return \"<b>\" + func() + \"</b>\"\n",
    "    return wrapper\n",
    "\n",
    "def make_underline(func):\n",
    "    def wrapper():\n",
    "        return \"<u>\" + func() + \"</u>\"\n",
    "    return wrapper\n",
    "\n",
    "@make_bold\n",
    "@make_underline\n",
    "def hello():\n",
    "    return 'Hello World!'\n",
    "    \n",
    "hello()"
   ]
  },
  {
   "cell_type": "markdown",
   "metadata": {},
   "source": [
    "<b><u>Hello World!</u></b>"
   ]
  },
  {
   "cell_type": "markdown",
   "metadata": {},
   "source": [
    "### 18. Write a Python program to execute a string containing Python code."
   ]
  },
  {
   "cell_type": "code",
   "execution_count": 38,
   "metadata": {},
   "outputs": [
    {
     "name": "stdout",
     "output_type": "stream",
     "text": [
      "0\n",
      "1\n",
      "2\n",
      "3\n",
      "4\n"
     ]
    }
   ],
   "source": [
    "my_code_string = \"\"\"\n",
    "for i in range(5):\n",
    "    print(i)\n",
    "\"\"\"\n",
    "exec(my_code_string)"
   ]
  },
  {
   "cell_type": "code",
   "execution_count": null,
   "metadata": {},
   "outputs": [],
   "source": []
  }
 ],
 "metadata": {
  "kernelspec": {
   "display_name": "Python 3",
   "language": "python",
   "name": "python3"
  },
  "language_info": {
   "codemirror_mode": {
    "name": "ipython",
    "version": 3
   },
   "file_extension": ".py",
   "mimetype": "text/x-python",
   "name": "python",
   "nbconvert_exporter": "python",
   "pygments_lexer": "ipython3",
   "version": "3.7.3"
  },
  "latex_envs": {
   "LaTeX_envs_menu_present": true,
   "autoclose": true,
   "autocomplete": true,
   "bibliofile": "biblio.bib",
   "cite_by": "apalike",
   "current_citInitial": 1,
   "eqLabelWithNumbers": true,
   "eqNumInitial": 1,
   "hotkeys": {
    "equation": "Ctrl-E",
    "itemize": "Ctrl-I"
   },
   "labels_anchors": false,
   "latex_user_defs": false,
   "report_style_numbering": false,
   "user_envs_cfg": false
  },
  "toc": {
   "base_numbering": 1,
   "nav_menu": {},
   "number_sections": true,
   "sideBar": true,
   "skip_h1_title": false,
   "title_cell": "Table of Contents",
   "title_sidebar": "Contents",
   "toc_cell": false,
   "toc_position": {},
   "toc_section_display": true,
   "toc_window_display": false
  }
 },
 "nbformat": 4,
 "nbformat_minor": 2
}
