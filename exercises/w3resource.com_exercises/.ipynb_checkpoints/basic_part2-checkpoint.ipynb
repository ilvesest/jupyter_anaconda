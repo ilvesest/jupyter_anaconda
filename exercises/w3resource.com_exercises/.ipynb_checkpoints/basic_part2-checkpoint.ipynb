{
 "cells": [
  {
   "cell_type": "markdown",
   "metadata": {},
   "source": [
    "# https://www.w3resource.com/python-exercises/basic/"
   ]
  },
  {
   "cell_type": "markdown",
   "metadata": {},
   "source": [
    "### 1. Write a Python function that takes a sequence of numbers and determines if all the numbers are different from each other."
   ]
  },
  {
   "cell_type": "code",
   "execution_count": 20,
   "metadata": {},
   "outputs": [
    {
     "name": "stdout",
     "output_type": "stream",
     "text": [
      "[3 6 4 9 0]\n",
      "Numbers are unique!\n"
     ]
    }
   ],
   "source": [
    "import numpy as np\n",
    "\n",
    "np.random.seed(None)\n",
    "nums = np.random.randint(0, 10, 5)\n",
    "print(nums)\n",
    "\n",
    "if len(nums) == len(set(nums)):\n",
    "    print('Numbers are unique!')\n",
    "else:\n",
    "    print('Numbers NOT unique!')"
   ]
  },
  {
   "cell_type": "markdown",
   "metadata": {},
   "source": [
    "### 2. Write a Python program to create all possible strings by using 'a', 'e', 'i', 'o', 'u'. Use the characters exactly once."
   ]
  },
  {
   "cell_type": "code",
   "execution_count": 44,
   "metadata": {},
   "outputs": [
    {
     "name": "stdout",
     "output_type": "stream",
     "text": [
      "['AEIOU', 'AEIUO', 'AEOIU', 'AEOUI', 'AEUIO', 'AEUOI', 'AIEOU', 'AIEUO', 'AIOEU', 'AIOUE', 'AIUEO', 'AIUOE', 'AOEIU', 'AOEUI', 'AOIEU', 'AOIUE', 'AOUEI', 'AOUIE', 'AUEIO', 'AUEOI', 'AUIEO', 'AUIOE', 'AUOEI', 'AUOIE', 'EAIOU', 'EAIUO', 'EAOIU', 'EAOUI', 'EAUIO', 'EAUOI', 'EIAOU', 'EIAUO', 'EIOAU', 'EIOUA', 'EIUAO', 'EIUOA', 'EOAIU', 'EOAUI', 'EOIAU', 'EOIUA', 'EOUAI', 'EOUIA', 'EUAIO', 'EUAOI', 'EUIAO', 'EUIOA', 'EUOAI', 'EUOIA', 'IAEOU', 'IAEUO', 'IAOEU', 'IAOUE', 'IAUEO', 'IAUOE', 'IEAOU', 'IEAUO', 'IEOAU', 'IEOUA', 'IEUAO', 'IEUOA', 'IOAEU', 'IOAUE', 'IOEAU', 'IOEUA', 'IOUAE', 'IOUEA', 'IUAEO', 'IUAOE', 'IUEAO', 'IUEOA', 'IUOAE', 'IUOEA', 'OAEIU', 'OAEUI', 'OAIEU', 'OAIUE', 'OAUEI', 'OAUIE', 'OEAIU', 'OEAUI', 'OEIAU', 'OEIUA', 'OEUAI', 'OEUIA', 'OIAEU', 'OIAUE', 'OIEAU', 'OIEUA', 'OIUAE', 'OIUEA', 'OUAEI', 'OUAIE', 'OUEAI', 'OUEIA', 'OUIAE', 'OUIEA', 'UAEIO', 'UAEOI', 'UAIEO', 'UAIOE', 'UAOEI', 'UAOIE', 'UEAIO', 'UEAOI', 'UEIAO', 'UEIOA', 'UEOAI', 'UEOIA', 'UIAEO', 'UIAOE', 'UIEAO', 'UIEOA', 'UIOAE', 'UIOEA', 'UOAEI', 'UOAIE', 'UOEAI', 'UOEIA', 'UOIAE', 'UOIEA']\n"
     ]
    }
   ],
   "source": [
    "import itertools\n",
    "\n",
    "string = 'AEIOU'\n",
    "\n",
    "all_strings = [\"\".join(perm) for perm in itertools.permutations(string)]\n",
    "print(all_strings)\n",
    "\n",
    "# check if all elements are unique\n",
    "assert len(all_strings) == len(set(all_strings)), \"Error!\""
   ]
  },
  {
   "cell_type": "markdown",
   "metadata": {},
   "source": [
    "### 3. Write a Python program to remove and print every third number from a list of numbers until the list becomes empty."
   ]
  },
  {
   "cell_type": "code",
   "execution_count": 61,
   "metadata": {},
   "outputs": [
    {
     "name": "stdout",
     "output_type": "stream",
     "text": [
      "[22 15 10 15 13 13 22 20  8 15  1  8 23 18 16 13  5  0  7 10]\n",
      "[22 15 15 13 13 22 20  8 15  1  8 23 18 16 13  5  0  7 10]\n",
      "[22 15 13 13 22 20  8 15  1  8 23 18 16 13  5  0  7 10]\n",
      "[22 15 13 22 20  8 15  1  8 23 18 16 13  5  0  7 10]\n",
      "[22 15 22 20  8 15  1  8 23 18 16 13  5  0  7 10]\n",
      "[22 15 20  8 15  1  8 23 18 16 13  5  0  7 10]\n",
      "[22 15  8 15  1  8 23 18 16 13  5  0  7 10]\n",
      "[22 15 15  1  8 23 18 16 13  5  0  7 10]\n",
      "[22 15  1  8 23 18 16 13  5  0  7 10]\n",
      "[22 15  8 23 18 16 13  5  0  7 10]\n",
      "[22 15 23 18 16 13  5  0  7 10]\n",
      "[22 15 18 16 13  5  0  7 10]\n",
      "[22 15 16 13  5  0  7 10]\n",
      "[22 15 13  5  0  7 10]\n",
      "[22 15  5  0  7 10]\n",
      "[22 15  0  7 10]\n",
      "[22 15  7 10]\n",
      "[22 15 10]\n",
      "[22 15]\n",
      "[15]\n",
      "[]\n"
     ]
    }
   ],
   "source": [
    "import numpy as np\n",
    "\n",
    "nums = np.random.randint(0, 25, 20)\n",
    "print(nums)\n",
    "while len(nums) > 0:\n",
    "    if len(nums) <= 2:\n",
    "        nums = np.delete(nums, 0)\n",
    "        print(nums)\n",
    "    else:\n",
    "        nums = np.delete(nums, 2)\n",
    "        print(nums)"
   ]
  },
  {
   "cell_type": "markdown",
   "metadata": {},
   "source": [
    "### 4. Write a Python program to find unique triplets whose three elements gives the sum of zero from an array of n integers."
   ]
  },
  {
   "cell_type": "code",
   "execution_count": 86,
   "metadata": {},
   "outputs": [
    {
     "name": "stdout",
     "output_type": "stream",
     "text": [
      "[  8   9   7 -10  -4   2  -2 -10   8  -4] \n",
      "\n",
      "[(8, -4, -4), (-10, 2, 8), (8, 2, -10), (8, -10, 2), (-4, 8, -4), (2, -10, 8)]\n"
     ]
    }
   ],
   "source": [
    "import numpy as np\n",
    "\n",
    "def zero_triplets(array):\n",
    "    give_zero = [comb for comb in itertools.combinations(array, 3) if sum(comb) == 0]\n",
    "    return print(list(set(give_zero)))\n",
    "\n",
    "nums = np.random.randint(-10, 10, 10)\n",
    "print(nums,'\\n')\n",
    "zero_triplets(nums)"
   ]
  },
  {
   "cell_type": "code",
   "execution_count": 87,
   "metadata": {},
   "outputs": [
    {
     "name": "stdout",
     "output_type": "stream",
     "text": [
      "[(2, 0, -2), (2, -2, 0), (1, -1, 0), (-6, 4, 2)]\n"
     ]
    }
   ],
   "source": [
    "zero_triplets([1, -6, 4, 2, -1, 2, 0, -2, 0 ])"
   ]
  },
  {
   "cell_type": "markdown",
   "metadata": {},
   "source": [
    "### 6. Write a Python program to print a long text, convert the string to a list and print all the words and their frequencies."
   ]
  },
  {
   "cell_type": "code",
   "execution_count": 88,
   "metadata": {},
   "outputs": [],
   "source": [
    "string_words = '''United States Declaration of Independence\n",
    "From Wikipedia, the free encyclopedia\n",
    "The United States Declaration of Independence is the statement\n",
    "adopted by the Second Continental Congress meeting at the Pennsylvania State\n",
    "House (Independence Hall) in Philadelphia on July 4, 1776, which announced\n",
    "that the thirteen American colonies, then at war with the Kingdom of Great\n",
    "Britain, regarded themselves as thirteen independent sovereign states, no longer\n",
    "under British rule. These states would found a new nation – the United States of\n",
    "America. John Adams was a leader in pushing for independence, which was passed\n",
    "on July 2 with no opposing vote cast. A committee of five had already drafted the\n",
    "formal declaration, to be ready when Congress voted on independence.\n",
    "\n",
    "John Adams persuaded the committee to select Thomas Jefferson to compose the original\n",
    "draft of the document, which Congress would edit to produce the final version.\n",
    "The Declaration was ultimately a formal explanation of why Congress had voted on July\n",
    "2 to declare independence from Great Britain, more than a year after the outbreak of\n",
    "the American Revolutionary War. The next day, Adams wrote to his wife Abigail: \"The\n",
    "Second Day of July 1776, will be the most memorable Epocha, in the History of America.\"\n",
    "But Independence Day is actually celebrated on July 4, the date that the Declaration of\n",
    "Independence was approved.\n",
    "\n",
    "After ratifying the text on July 4, Congress issued the Declaration of Independence in\n",
    "several forms. It was initially published as the printed Dunlap broadside that was widely\n",
    "distributed and read to the public. The source copy used for this printing has been lost,\n",
    "and may have been a copy in Thomas Jefferson's hand.[5] Jefferson's original draft, complete\n",
    "with changes made by John Adams and Benjamin Franklin, and Jefferson's notes of changes made\n",
    "by Congress, are preserved at the Library of Congress. The best-known version of the Declaration\n",
    "is a signed copy that is displayed at the National Archives in Washington, D.C., and which is\n",
    "popularly regarded as the official document. This engrossed copy was ordered by Congress on\n",
    "July 19 and signed primarily on August 2.\n",
    "\n",
    "The sources and interpretation of the Declaration have been the subject of much scholarly inquiry.\n",
    "The Declaration justified the independence of the United States by listing colonial grievances against\n",
    "King George III, and by asserting certain natural and legal rights, including a right of revolution.\n",
    "Having served its original purpose in announcing independence, references to the text of the\n",
    "Declaration were few in the following years. Abraham Lincoln made it the centerpiece of his rhetoric\n",
    "(as in the Gettysburg Address of 1863) and his policies. Since then, it has become a well-known statement\n",
    "on human rights, particularly its second sentence:\n",
    "\n",
    "We hold these truths to be self-evident, that all men are created equal, that they are endowed by their\n",
    "Creator with certain unalienable Rights, that among these are Life, Liberty and the pursuit of Happiness.\n",
    "\n",
    "This has been called \"one of the best-known sentences in the English language\", containing \"the most potent\n",
    "and consequential words in American history\". The passage came to represent a moral standard to which\n",
    "the United States should strive. This view was notably promoted by Abraham Lincoln, who considered the\n",
    "Declaration to be the foundation of his political philosophy and argued that it is a statement of principles\n",
    "through which the United States Constitution should be interpreted.\n",
    "\n",
    "The U.S. Declaration of Independence inspired many other similar documents in other countries, the first\n",
    "being the 1789 Declaration of Flanders issued during the Brabant Revolution in the Austrian Netherlands\n",
    "(modern-day Belgium). It also served as the primary model for numerous declarations of independence across\n",
    "Europe and Latin America, as well as Africa (Liberia) and Oceania (New Zealand) during the first half of the\n",
    "19th century.'''"
   ]
  },
  {
   "cell_type": "code",
   "execution_count": 97,
   "metadata": {},
   "outputs": [
    {
     "data": {
      "text/plain": [
       "[('the', 43), ('of', 27), ('and', 13)]"
      ]
     },
     "execution_count": 97,
     "metadata": {},
     "output_type": "execute_result"
    }
   ],
   "source": [
    "import collections\n",
    "\n",
    "word_list = sorted(list(string_words.split(' ')))\n",
    "\n",
    "frequencies = collections.Counter(word_list)\n",
    "\n",
    "frequencies.most_common(3)"
   ]
  },
  {
   "cell_type": "code",
   "execution_count": null,
   "metadata": {},
   "outputs": [],
   "source": []
  }
 ],
 "metadata": {
  "kernelspec": {
   "display_name": "Python 3",
   "language": "python",
   "name": "python3"
  },
  "language_info": {
   "codemirror_mode": {
    "name": "ipython",
    "version": 3
   },
   "file_extension": ".py",
   "mimetype": "text/x-python",
   "name": "python",
   "nbconvert_exporter": "python",
   "pygments_lexer": "ipython3",
   "version": "3.7.1"
  }
 },
 "nbformat": 4,
 "nbformat_minor": 2
}
