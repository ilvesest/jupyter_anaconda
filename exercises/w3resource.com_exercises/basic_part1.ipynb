{
 "cells": [
  {
   "cell_type": "markdown",
   "metadata": {},
   "source": [
    "# https://www.w3resource.com/python-exercises/python-basic-exercises.php"
   ]
  },
  {
   "cell_type": "markdown",
   "metadata": {},
   "source": [
    "### 2. Write a Python program to get the Python version you are using."
   ]
  },
  {
   "cell_type": "code",
   "execution_count": 10,
   "metadata": {},
   "outputs": [
    {
     "name": "stdout",
     "output_type": "stream",
     "text": [
      "Python version\n",
      "3.7.2 (default, Dec 29 2018, 06:19:36) \n",
      "[GCC 7.3.0]\n",
      "\n",
      "Version info\n",
      "sys.version_info(major=3, minor=7, micro=2, releaselevel='final', serial=0)\n"
     ]
    }
   ],
   "source": [
    "import sys\n",
    "\n",
    "print('Python version\\n' + sys.version)\n",
    "print('\\nVersion info')\n",
    "print(sys.version_info)"
   ]
  },
  {
   "cell_type": "markdown",
   "metadata": {},
   "source": [
    "### 3. Write a Python program to display the current date and time."
   ]
  },
  {
   "cell_type": "code",
   "execution_count": 16,
   "metadata": {},
   "outputs": [
    {
     "name": "stdout",
     "output_type": "stream",
     "text": [
      "Current date and time:\n",
      "Mon Jan 14 19:14:56 2019\n"
     ]
    }
   ],
   "source": [
    "import time\n",
    "print('Current date and time:')\n",
    "print(time.asctime())"
   ]
  },
  {
   "cell_type": "code",
   "execution_count": 20,
   "metadata": {},
   "outputs": [
    {
     "name": "stdout",
     "output_type": "stream",
     "text": [
      "Current date and time : \n",
      "2019-01-14 19:19:59\n"
     ]
    }
   ],
   "source": [
    "import datetime\n",
    "\n",
    "now = datetime.datetime.now()\n",
    "print('Current date and time : ')\n",
    "print(now.strftime(\"%Y-%m-%d %H:%M:%S\"))"
   ]
  },
  {
   "cell_type": "markdown",
   "metadata": {},
   "source": [
    "### 7. Write a Python program to accept a filename from the user and print the extension of that. "
   ]
  },
  {
   "cell_type": "code",
   "execution_count": 31,
   "metadata": {},
   "outputs": [
    {
     "name": "stdout",
     "output_type": "stream",
     "text": [
      "Input a filename: snooker.exe\n",
      "The extention of the file: snooker.exe is .exe\n"
     ]
    }
   ],
   "source": [
    "import re\n",
    "\n",
    "filename = input('Input a filename: ')\n",
    "extention = re.search(r\"\\..*\", filename).group(0)\n",
    "print('The extention of the file: ' + filename + ' is ' + extention)"
   ]
  },
  {
   "cell_type": "code",
   "execution_count": 35,
   "metadata": {},
   "outputs": [
    {
     "name": "stdout",
     "output_type": "stream",
     "text": [
      "The extentsion of the snooker.exeis: '.exe'\n"
     ]
    }
   ],
   "source": [
    "ext = filename.split('.')\n",
    "print('The extentsion of the ' + filename + 'is: ' + repr('.' + ext[-1]))"
   ]
  },
  {
   "cell_type": "markdown",
   "metadata": {},
   "source": [
    "### 11. Write a Python program to print the documents (syntax, description etc.) of Python built-in function(s). "
   ]
  },
  {
   "cell_type": "code",
   "execution_count": 64,
   "metadata": {},
   "outputs": [
    {
     "name": "stdout",
     "output_type": "stream",
     "text": [
      "Enter Python built-in function: abs\n",
      "\n",
      "Sample function: abs\n",
      "Docstring: \t Return the absolute value of the argument.\n"
     ]
    }
   ],
   "source": [
    "func = input('Enter Python built-in function: ')\n",
    "\n",
    "docs = func + '.__doc__'\n",
    "\n",
    "print(\"\\nSample function: \" + func)\n",
    "print('Docstring: \\t ' + eval(docs))"
   ]
  },
  {
   "cell_type": "markdown",
   "metadata": {},
   "source": [
    "### 12. Write a Python program to print the calendar of a given month and year."
   ]
  },
  {
   "cell_type": "code",
   "execution_count": 73,
   "metadata": {},
   "outputs": [
    {
     "name": "stdout",
     "output_type": "stream",
     "text": [
      "Enter the year: 2019\n",
      "Enter month (number)1\n",
      "\n",
      "    January 2019\n",
      "Mo Tu We Th Fr Sa Su\n",
      "    1  2  3  4  5  6\n",
      " 7  8  9 10 11 12 13\n",
      "14 15 16 17 18 19 20\n",
      "21 22 23 24 25 26 27\n",
      "28 29 30 31\n",
      "\n"
     ]
    }
   ],
   "source": [
    "import calendar\n",
    "\n",
    "year = int(input('Enter the year: '))\n",
    "month = int(input('Enter month (number)'))\n",
    "\n",
    "print('\\n' + calendar.month(year, month))"
   ]
  },
  {
   "cell_type": "markdown",
   "metadata": {},
   "source": [
    "### 14. Write a Python program to calculate number of days between two dates."
   ]
  },
  {
   "cell_type": "code",
   "execution_count": 87,
   "metadata": {},
   "outputs": [
    {
     "name": "stdout",
     "output_type": "stream",
     "text": [
      "9\n"
     ]
    }
   ],
   "source": [
    "import datetime\n",
    "\n",
    "t1 = datetime.date(2014, 7, 11)\n",
    "t2 = datetime.date(2014, 7, 2)\n",
    "delta = t1 - t2\n",
    "print(delta.days)"
   ]
  },
  {
   "cell_type": "markdown",
   "metadata": {},
   "source": [
    "### 28. Write a Python program to print all even numbers from a given numbers list in the same order and stop the printing if any numbers that come after 237 in the sequence."
   ]
  },
  {
   "cell_type": "code",
   "execution_count": 98,
   "metadata": {},
   "outputs": [
    {
     "name": "stdout",
     "output_type": "stream",
     "text": [
      "386, 462, 418, 344, 236, 566, 978, 328, 162, 758, 918, "
     ]
    }
   ],
   "source": [
    "numbers = [    \n",
    "    386, 462, 47, 418, 907, 344, 236, 375, 823, 566, 597, 978, 328, 615, 953, 345, \n",
    "    399, 162, 758, 219, 918, 237, 412, 566, 826, 248, 866, 950, 626, 949, 687, 217, \n",
    "    815, 67, 104, 58, 512, 24, 892, 894, 767, 553, 81, 379, 843, 831, 445, 742, 717, \n",
    "    958,743, 527\n",
    "    ]\n",
    "\n",
    "for nr in numbers:\n",
    "    if nr == 237:\n",
    "        break\n",
    "    elif nr % 2 == 0:\n",
    "        print(nr, end=', ')\n",
    "    else:\n",
    "        continue"
   ]
  },
  {
   "cell_type": "markdown",
   "metadata": {},
   "source": [
    "### 31. Write a Python program to compute the greatest common divisor (GCD) of two positive integers."
   ]
  },
  {
   "cell_type": "code",
   "execution_count": 108,
   "metadata": {},
   "outputs": [],
   "source": [
    "def gcd(num1, num2):\n",
    "    '''Function to compute the greatest common divisor (GCD) of two positive integers'''\n",
    "    \n",
    "    num1_divs = [i for i in range(1, num1) if num1 % i == 0]\n",
    "    num2_divs = [i for i in range(1, num2) if num1 % i == 0]\n",
    "    \n",
    "    gcd = [x for x in num1_divs if x in num2_divs]\n",
    "    print(max(gcd))"
   ]
  },
  {
   "cell_type": "code",
   "execution_count": 110,
   "metadata": {},
   "outputs": [
    {
     "name": "stdout",
     "output_type": "stream",
     "text": [
      "1\n"
     ]
    }
   ],
   "source": [
    "gcd(2,3)"
   ]
  },
  {
   "cell_type": "markdown",
   "metadata": {},
   "source": [
    "### 36. Write a Python program to add two objects if both objects are an integer type"
   ]
  },
  {
   "cell_type": "code",
   "execution_count": 118,
   "metadata": {},
   "outputs": [],
   "source": [
    "def int_type(x, y):\n",
    "    if type(x) == int and type(y) == int:\n",
    "        return x + y\n",
    "    else:\n",
    "        print('Function arguments are not both integers!')"
   ]
  },
  {
   "cell_type": "code",
   "execution_count": 124,
   "metadata": {},
   "outputs": [
    {
     "data": {
      "text/plain": [
       "7"
      ]
     },
     "execution_count": 124,
     "metadata": {},
     "output_type": "execute_result"
    }
   ],
   "source": [
    "int_type(3,4)"
   ]
  },
  {
   "cell_type": "markdown",
   "metadata": {},
   "source": [
    "### 39. Write a Python program to compute the future value of a specified principal amount, rate of interest, and a number of years."
   ]
  },
  {
   "cell_type": "code",
   "execution_count": 140,
   "metadata": {},
   "outputs": [],
   "source": [
    "def investment(amount, interest, years):\n",
    "    \n",
    "    future_value = amount\n",
    "    \n",
    "    print(\"Principial amount: $ {}\\nRate of interest: {}%\\nYears: {}\".format(amount, interest, years))\n",
    "    \n",
    "    for year in range(0, years):\n",
    "        future_value += amount * 0.01 * interest\n",
    "    \n",
    "    print(\"\\nFuture pricipial value: $ {}\".format(future_value))"
   ]
  },
  {
   "cell_type": "code",
   "execution_count": 141,
   "metadata": {},
   "outputs": [
    {
     "name": "stdout",
     "output_type": "stream",
     "text": [
      "Principial amount: $ 10000\n",
      "Rate of interest: 3.5%\n",
      "Years: 7\n",
      "\n",
      "Future pricipial value: $ 12450.0\n"
     ]
    }
   ],
   "source": [
    "investment(10000, 3.5, 7)"
   ]
  },
  {
   "cell_type": "markdown",
   "metadata": {},
   "source": [
    "### 41. Write a Python program to check whether a file exists."
   ]
  },
  {
   "cell_type": "code",
   "execution_count": 1,
   "metadata": {},
   "outputs": [
    {
     "name": "stdout",
     "output_type": "stream",
     "text": [
      "False\n"
     ]
    }
   ],
   "source": [
    "import os\n",
    "\n",
    "print(os.path.exists('test.txt'))"
   ]
  },
  {
   "cell_type": "markdown",
   "metadata": {},
   "source": [
    "### 42. Write a Python program to determine if a Python shell is executing in 32bit or 64bit mode on OS."
   ]
  },
  {
   "cell_type": "code",
   "execution_count": 2,
   "metadata": {},
   "outputs": [
    {
     "name": "stdout",
     "output_type": "stream",
     "text": [
      "64\n"
     ]
    }
   ],
   "source": [
    "import struct\n",
    "\n",
    "# For 32 bit it will return 32 and for 64 bit it will return 64\n",
    "print(struct.calcsize(\"P\") * 8)"
   ]
  },
  {
   "cell_type": "markdown",
   "metadata": {},
   "source": [
    "### 43. Write a Python program to get OS name, platform and release information."
   ]
  },
  {
   "cell_type": "code",
   "execution_count": 6,
   "metadata": {},
   "outputs": [
    {
     "name": "stdout",
     "output_type": "stream",
     "text": [
      "OS name: posix\n",
      "Platform system: Linux\n",
      "Platform release: 4.15.0-43-generic\n"
     ]
    }
   ],
   "source": [
    "import os\n",
    "import platform\n",
    "\n",
    "print('OS name: {}'.format(os.name))\n",
    "print('Platform system: ' + platform.system())\n",
    "print('Platform release: ' + platform.release())"
   ]
  },
  {
   "cell_type": "markdown",
   "metadata": {},
   "source": [
    "### 44. Write a Python program to locate Python site-packages."
   ]
  },
  {
   "cell_type": "code",
   "execution_count": 7,
   "metadata": {},
   "outputs": [
    {
     "name": "stdout",
     "output_type": "stream",
     "text": [
      "['/home/ilves/anaconda3/lib/python3.7/site-packages']\n"
     ]
    }
   ],
   "source": [
    "import site\n",
    "\n",
    "print(site.getsitepackages())"
   ]
  },
  {
   "cell_type": "markdown",
   "metadata": {},
   "source": [
    "### 47. Write a Python program to find out the number of CPUs using."
   ]
  },
  {
   "cell_type": "code",
   "execution_count": 32,
   "metadata": {},
   "outputs": [
    {
     "name": "stdout",
     "output_type": "stream",
     "text": [
      "Number of CPUs in use: 4\n"
     ]
    }
   ],
   "source": [
    "import multiprocessing as mp\n",
    "\n",
    "print('Number of CPUs in use:', mp.cpu_count())"
   ]
  },
  {
   "cell_type": "markdown",
   "metadata": {},
   "source": [
    "### 49. Write a Python program to list all files in a directory in Python."
   ]
  },
  {
   "cell_type": "code",
   "execution_count": 38,
   "metadata": {},
   "outputs": [
    {
     "data": {
      "text/plain": [
       "['w3resource.com_exercises',\n",
       " 'bdays.json',\n",
       " 'happies.txt',\n",
       " 'bdays.txt',\n",
       " 'sun_database_images.txt',\n",
       " '.ipynb_checkpoints',\n",
       " 'python_exercises.ipynb',\n",
       " 'famousbirthdays.sql',\n",
       " 'juta.txt',\n",
       " 'primes.txt',\n",
       " 'words.txt']"
      ]
     },
     "execution_count": 38,
     "metadata": {},
     "output_type": "execute_result"
    }
   ],
   "source": [
    "import os\n",
    "\n",
    "dir_path = '/home/ilves/Documents/jupyter_anaconda/exercises/'\n",
    "\n",
    "os.listdir(dir_path)"
   ]
  },
  {
   "cell_type": "markdown",
   "metadata": {},
   "source": [
    "### 51. Write a Python program to determine profiling of Python programs. "
   ]
  },
  {
   "cell_type": "code",
   "execution_count": 44,
   "metadata": {},
   "outputs": [
    {
     "name": "stdout",
     "output_type": "stream",
     "text": [
      "3\n",
      "         39 function calls in 0.001 seconds\n",
      "\n",
      "   Ordered by: standard name\n",
      "\n",
      "   ncalls  tottime  percall  cumtime  percall filename:lineno(function)\n",
      "        1    0.000    0.000    0.001    0.001 <ipython-input-44-4544e0e3cb57>:3(summ)\n",
      "        1    0.000    0.000    0.001    0.001 <string>:1(<module>)\n",
      "        3    0.000    0.000    0.001    0.000 iostream.py:195(schedule)\n",
      "        2    0.000    0.000    0.000    0.000 iostream.py:307(_is_master_process)\n",
      "        2    0.000    0.000    0.000    0.000 iostream.py:320(_schedule_flush)\n",
      "        2    0.000    0.000    0.001    0.001 iostream.py:382(write)\n",
      "        3    0.000    0.000    0.000    0.000 iostream.py:93(_event_pipe)\n",
      "        3    0.001    0.000    0.001    0.000 socket.py:334(send)\n",
      "        3    0.000    0.000    0.000    0.000 threading.py:1038(_wait_for_tstate_lock)\n",
      "        3    0.000    0.000    0.000    0.000 threading.py:1080(is_alive)\n",
      "        3    0.000    0.000    0.000    0.000 threading.py:507(is_set)\n",
      "        1    0.000    0.000    0.001    0.001 {built-in method builtins.exec}\n",
      "        2    0.000    0.000    0.000    0.000 {built-in method builtins.isinstance}\n",
      "        1    0.000    0.000    0.001    0.001 {built-in method builtins.print}\n",
      "        2    0.000    0.000    0.000    0.000 {built-in method posix.getpid}\n",
      "        3    0.000    0.000    0.000    0.000 {method 'acquire' of '_thread.lock' objects}\n",
      "        3    0.000    0.000    0.000    0.000 {method 'append' of 'collections.deque' objects}\n",
      "        1    0.000    0.000    0.000    0.000 {method 'disable' of '_lsprof.Profiler' objects}\n",
      "\n",
      "\n"
     ]
    }
   ],
   "source": [
    "import cProfile\n",
    "\n",
    "def summ():\n",
    "    print(1+2)\n",
    "\n",
    "cProfile.run('summ()')"
   ]
  },
  {
   "cell_type": "markdown",
   "metadata": {},
   "source": [
    "### 52. Write a Python program to print to stderr. "
   ]
  },
  {
   "cell_type": "markdown",
   "metadata": {},
   "source": [
    "**[stdin]  Standard input** - this is the file handle that your process reads to get information from you. <br>\n",
    "**[stdout] Standard output** - your process writes normal information to this file handle. <br>\n",
    "**[srderr] Standard error** - your process writes error information to this file handle. <br>\n",
    "\n",
    "Of course, that's mostly by convention. There's nothing stopping you from writing your error information to standard output if you wish. You can even close the three file handles totally and open your own files for I/O."
   ]
  },
  {
   "cell_type": "code",
   "execution_count": 47,
   "metadata": {},
   "outputs": [
    {
     "name": "stderr",
     "output_type": "stream",
     "text": [
      "abc--efg--xyz\n"
     ]
    }
   ],
   "source": [
    "import sys\n",
    "\n",
    "def eprint(*args, **kwargs):\n",
    "    print(*args, file=sys.stderr, **kwargs)\n",
    "\n",
    "eprint(\"abc\", \"efg\", \"xyz\", sep=\"--\")"
   ]
  },
  {
   "cell_type": "markdown",
   "metadata": {},
   "source": [
    "### 53. Write a python program to access environment variables."
   ]
  },
  {
   "cell_type": "markdown",
   "metadata": {},
   "source": [
    "**What Are Environment Variables?** <br>\n",
    "\n",
    "Environment variables are a key value pairs that can affect how a program runs. They need to be set at some point before a process is run so the process can read them in and act accordingly. A lot of times in production environments your database name and password are set as environment variables so that information does not end up in a code repository somewhere."
   ]
  },
  {
   "cell_type": "code",
   "execution_count": 54,
   "metadata": {},
   "outputs": [
    {
     "name": "stdout",
     "output_type": "stream",
     "text": [
      "/home/ilves\n",
      "-------------------\n",
      "/home/ilves\n"
     ]
    }
   ],
   "source": [
    "import os\n",
    "\n",
    "# Access to all of the environment variables\n",
    "print(os.environ)\n",
    "\n",
    "# Access a particular environment variable \n",
    "print(os.environ['HOME'])\n",
    "print('-------------------')\n",
    "print(os.environ['PWD'])"
   ]
  },
  {
   "cell_type": "markdown",
   "metadata": {},
   "source": [
    "### 54. Write a Python program to get the current username"
   ]
  },
  {
   "cell_type": "code",
   "execution_count": 55,
   "metadata": {},
   "outputs": [
    {
     "name": "stdout",
     "output_type": "stream",
     "text": [
      "ilves\n"
     ]
    }
   ],
   "source": [
    "import os\n",
    "\n",
    "print(os.environ['USER'])"
   ]
  },
  {
   "cell_type": "code",
   "execution_count": 57,
   "metadata": {},
   "outputs": [
    {
     "name": "stdout",
     "output_type": "stream",
     "text": [
      "ilves\n"
     ]
    }
   ],
   "source": [
    "import getpass\n",
    "\n",
    "print(getpass.getuser())"
   ]
  },
  {
   "cell_type": "markdown",
   "metadata": {},
   "source": [
    "### 55. Write a Python to find local IP addresses using Python's stdlib"
   ]
  },
  {
   "cell_type": "code",
   "execution_count": 59,
   "metadata": {},
   "outputs": [
    {
     "name": "stdout",
     "output_type": "stream",
     "text": [
      "192.168.1.100\n"
     ]
    }
   ],
   "source": [
    "import socket\n",
    "\n",
    "print([l for l in ([ip for ip in socket.gethostbyname_ex(socket.gethostname())[2] \n",
    "if not ip.startswith(\"127.\")][:1], [[(s.connect(('8.8.8.8', 53)), \n",
    "s.getsockname()[0], s.close()) for s in [socket.socket(socket.AF_INET, \n",
    "socket.SOCK_DGRAM)]][0][1]]) if l][0][0])"
   ]
  },
  {
   "cell_type": "markdown",
   "metadata": {},
   "source": [
    "### 57. Write a program to get execution time for a Python method/function."
   ]
  },
  {
   "cell_type": "code",
   "execution_count": 64,
   "metadata": {},
   "outputs": [
    {
     "name": "stdout",
     "output_type": "stream",
     "text": [
      "Sum from 1 to 5 is 15 ,which took 1.430511474609375e-06 seconds.\n"
     ]
    }
   ],
   "source": [
    "import time\n",
    "\n",
    "def sum_n_numbers(n):\n",
    "    '''Computes the sum from number 1 to n'''\n",
    "    start = time.time()\n",
    "    s = 0\n",
    "    for i in range(1,n+1):\n",
    "        s += i\n",
    "    end = time.time()\n",
    "    return s, end - start\n",
    "\n",
    "n = 5\n",
    "print('Sum from 1 to',n, 'is',sum_n_numbers(n)[0], ',which took',sum_n_numbers(n)[1], 'seconds.')"
   ]
  },
  {
   "cell_type": "markdown",
   "metadata": {},
   "source": [
    "### 68. Write a Python program to calculate the sum of the digits in an integer."
   ]
  },
  {
   "cell_type": "code",
   "execution_count": 68,
   "metadata": {},
   "outputs": [],
   "source": [
    "def sum_of_digits(integer):\n",
    "    \n",
    "    return sum(int(i) for i in str(integer))\n",
    "    "
   ]
  },
  {
   "cell_type": "code",
   "execution_count": 70,
   "metadata": {},
   "outputs": [
    {
     "data": {
      "text/plain": [
       "12"
      ]
     },
     "execution_count": 70,
     "metadata": {},
     "output_type": "execute_result"
    }
   ],
   "source": [
    "sum_of_digits(138)"
   ]
  },
  {
   "cell_type": "markdown",
   "metadata": {},
   "source": [
    "### 70. Write a Python program to sort files by date. "
   ]
  },
  {
   "cell_type": "code",
   "execution_count": 74,
   "metadata": {},
   "outputs": [
    {
     "name": "stdout",
     "output_type": "stream",
     "text": [
      "Last modified: Tue Jan 15 21:45:05 2019\n",
      "Created: Tue Jan 15 21:45:18 2019\n"
     ]
    }
   ],
   "source": [
    "import os.path, time\n",
    "\n",
    "print(\"Last modified: %s\" % time.ctime(os.path.getmtime(\"testing.txt\")))\n",
    "print(\"Created: %s\" % time.ctime(os.path.getctime(\"testing2.txt\")))"
   ]
  },
  {
   "cell_type": "code",
   "execution_count": 99,
   "metadata": {},
   "outputs": [
    {
     "name": "stdout",
     "output_type": "stream",
     "text": [
      "testing.txt\n",
      "testing2.txt\n"
     ]
    }
   ],
   "source": [
    "import glob\n",
    "import os\n",
    "\n",
    "# Return a possibly-empty list of path names that match pathname, \n",
    "# which must be a string containing a path specification.\n",
    "files = glob.glob(\"*.txt\")\n",
    "\n",
    "# sorting the list of files by their modification time\n",
    "files.sort(key=os.path.getmtime)\n",
    "\n",
    "print(\"\\n\".join(files))"
   ]
  },
  {
   "cell_type": "markdown",
   "metadata": {},
   "source": [
    "### 71. Write a Python program to get a directory listing, sorted by creation date."
   ]
  },
  {
   "cell_type": "code",
   "execution_count": 108,
   "metadata": {},
   "outputs": [
    {
     "name": "stdout",
     "output_type": "stream",
     "text": [
      "2003 -- Lost in Translation (2003) [1080p]\n",
      "1963 -- Contempt.1963.1080p.BluRay.H264.AAC-RARBG\n",
      "1933 -- 42nd Street (1933) [1080p]\n",
      "1965 -- Alphaville.1965.720p.BluRay.AVC-mfcorrea\n",
      "1992 -- Scent of a Woman (1992) [1080p]\n",
      "1973 -- The.Holy.Mountain.1973.1080p.BluRay.H264.AAC-RARBG\n",
      "1933 -- Duck.Soup.1933.1080p.BluRay.H264.AAC-RARBG\n",
      "1976 -- In.the.Realm.of.the.Senses.[1976].1080p.Bluray.x264.UNCUT.[BHUPI]\n",
      "1975 -- The Story of O - Histoire d'O (1975) uncut\n",
      "1998 -- Pi (1998) - 1080p\n",
      "2015 -- The.Big.Short.2015.720p.BluRay.H264.AAC-RARBG\n",
      "1942 -- The.Magnificent.Ambersons.1942.1080p.BluRay.H264.AAC-RARBG\n",
      "1970 -- Woodstock.1970.DC.720p.BluRay.H264.AAC-RARBG\n",
      "2001 -- Fat.Girl.2001.1080p.BluRay.H264.AAC-RARBG\n",
      "2005 -- Proof (2005)\n",
      "1964 -- Sin in the Suburbs (1964) Joseph W. Sarno.avi\n",
      "1995 -- Strange.Days.1995.720p.BluRay.H264.AAC-RARBG\n",
      "1943 -- The Ox-Bow Incident (1943) [1080p] [YTS.AG]\n",
      "1931 -- Tabu A Story of the South Seas (1931)\n",
      "1932 -- Shanghai Express (1932) [BluRay] [1080p] [YTS.AM]\n",
      "1948 -- Bicycle Thieves (1948) [BluRay] [1080p] [YTS.AM]\n",
      "1977 -- Goodbye.Emmanuelle.1977.720p.BluRay.x264-x0r[N1C]\n"
     ]
    }
   ],
   "source": [
    "import os\n",
    "import glob\n",
    "\n",
    "dir_path = '/home/ilves/Downloads/Vaatamata filmid'\n",
    "\n",
    "# changes the current working directory to the given path\n",
    "os.chdir(dir_path)\n",
    "\n",
    "# Return a possibly-empty list of path names that match pathname, \n",
    "# which must be a string containing a path specification. \n",
    "files = glob.glob('*')\n",
    "\n",
    "# sorts files by their creation time\n",
    "files.sort(key=os.path.getctime)\n",
    "\n",
    "print(\"\\n\".join(files))\n",
    "\n",
    "# chaning current working directory back to original\n",
    "os.chdir('/home/ilves/Documents/jupyter_anaconda/exercises/w3resource.com_exercises/')"
   ]
  },
  {
   "cell_type": "markdown",
   "metadata": {},
   "source": [
    "###  72. Write a Python program to get the details of math module."
   ]
  },
  {
   "cell_type": "code",
   "execution_count": 109,
   "metadata": {},
   "outputs": [
    {
     "name": "stdout",
     "output_type": "stream",
     "text": [
      "['__doc__', '__file__', '__loader__', '__name__', '__package__', '__spec__', 'acos', 'acosh', 'asin', 'asinh', 'atan', 'atan2', 'atanh', 'ceil', 'copysign', 'cos', 'cosh', 'degrees', 'e', 'erf', 'erfc', 'exp', 'expm1', 'fabs', 'factorial', 'floor', 'fmod', 'frexp', 'fsum', 'gamma', 'gcd', 'hypot', 'inf', 'isclose', 'isfinite', 'isinf', 'isnan', 'ldexp', 'lgamma', 'log', 'log10', 'log1p', 'log2', 'modf', 'nan', 'pi', 'pow', 'radians', 'remainder', 'sin', 'sinh', 'sqrt', 'tan', 'tanh', 'tau', 'trunc']\n"
     ]
    }
   ],
   "source": [
    "import math\n",
    "\n",
    "ls = dir(math)\n",
    "print(ls)"
   ]
  },
  {
   "cell_type": "code",
   "execution_count": 111,
   "metadata": {},
   "outputs": [
    {
     "name": "stdout",
     "output_type": "stream",
     "text": [
      "['A', 'ASCII', 'DEBUG', 'DOTALL', 'I', 'IGNORECASE', 'L', 'LOCALE', 'M', 'MULTILINE', 'Match', 'Pattern', 'RegexFlag', 'S', 'Scanner', 'T', 'TEMPLATE', 'U', 'UNICODE', 'VERBOSE', 'X', '_MAXCACHE', '__all__', '__builtins__', '__cached__', '__doc__', '__file__', '__loader__', '__name__', '__package__', '__spec__', '__version__', '_cache', '_compile', '_compile_repl', '_expand', '_locale', '_pickle', '_special_chars_map', '_subx', 'compile', 'copyreg', 'enum', 'error', 'escape', 'findall', 'finditer', 'fullmatch', 'functools', 'match', 'purge', 'search', 'split', 'sre_compile', 'sre_parse', 'sub', 'subn', 'template']\n"
     ]
    }
   ],
   "source": [
    "import re\n",
    "\n",
    "print(dir(re))"
   ]
  },
  {
   "cell_type": "markdown",
   "metadata": {},
   "source": [
    "### 74. Write a Python program to hash a word."
   ]
  },
  {
   "cell_type": "markdown",
   "metadata": {},
   "source": [
    "A hash function is a function that takes input of a variable length sequence of bytes and converts it to a fixed length sequence. It is a one way function. This means if f is the hashing function, calculating f(x) is pretty fast and simple, but trying to obtain x again will take years. The value returned by a hash function is often called a hash, message digest, hash value, or checksum. Most of the time a hash function will produce unique output for a given input."
   ]
  },
  {
   "cell_type": "code",
   "execution_count": 139,
   "metadata": {},
   "outputs": [],
   "source": [
    "import numpy as np\n",
    "\n",
    "def hasher(word):\n",
    "    \n",
    "    '''Hashes given word.'''\n",
    "    \n",
    "    np.random.seed(7)\n",
    "\n",
    "    soundex = np.random.randint(0, 6, size=26) # generating 26 random numbers\n",
    "\n",
    "    word = word.upper() # putting the word into uppercase\n",
    "\n",
    "    coded_word = word[0]\n",
    "\n",
    "    for char in word[1: len(word)]:\n",
    "        \n",
    "        i = 65 - ord(char) # Given a string representing one Unicode character, \n",
    "                           # return an integer representing the Unicode code point \n",
    "                           # of that character. For example, ord('a') returns the \n",
    "                           # integer 97 and ord('€') (Euro sign) returns 8364. \n",
    "                           # This is the inverse of chr().\n",
    "        \n",
    "        coded_word = coded_word + str(soundex[i])\n",
    "    \n",
    "    print('\\nThe hashed word: ' + coded_word)"
   ]
  },
  {
   "cell_type": "code",
   "execution_count": 140,
   "metadata": {},
   "outputs": [
    {
     "name": "stdout",
     "output_type": "stream",
     "text": [
      "\n",
      "The hashed word: J014\n"
     ]
    }
   ],
   "source": [
    "hasher('juta')"
   ]
  },
  {
   "cell_type": "code",
   "execution_count": 141,
   "metadata": {},
   "outputs": [
    {
     "name": "stdout",
     "output_type": "stream",
     "text": [
      "This is the name/path of the script:\n",
      "Number of arguments: 3\n",
      "Argument List: ['/home/ilves/anaconda3/lib/python3.7/site-packages/ipykernel_launcher.py', '-f', '/run/user/1000/jupyter/kernel-20477597-de20-457c-9664-20aac607a386.json']\n"
     ]
    }
   ],
   "source": [
    "import sys\n",
    "print(\"This is the name/path of the script:\"),sys.argv[0]\n",
    "print(\"Number of arguments:\",len(sys.argv))\n",
    "print(\"Argument List:\",str(sys.argv))"
   ]
  },
  {
   "cell_type": "markdown",
   "metadata": {},
   "source": [
    "### 78. Write a Python program to find the available built-in modules."
   ]
  },
  {
   "cell_type": "code",
   "execution_count": 144,
   "metadata": {},
   "outputs": [
    {
     "name": "stdout",
     "output_type": "stream",
     "text": [
      "('_abc', '_ast', '_codecs', '_collections', '_functools', '_imp', '_io', '_locale', '_operator', '_signal', '_sre', '_stat', '_string', '_symtable', '_thread', '_tracemalloc', '_warnings', '_weakref', 'atexit', 'builtins', 'errno', 'faulthandler', 'gc', 'itertools', 'marshal', 'posix', 'pwd', 'sys', 'time', 'xxsubtype', 'zipimport')\n"
     ]
    }
   ],
   "source": [
    "import sys\n",
    "\n",
    "print(sys.builtin_module_names)"
   ]
  },
  {
   "cell_type": "markdown",
   "metadata": {},
   "source": [
    "### 79. Write a Python program to get the size of an object in bytes."
   ]
  },
  {
   "cell_type": "code",
   "execution_count": 154,
   "metadata": {},
   "outputs": [
    {
     "name": "stdout",
     "output_type": "stream",
     "text": [
      "Sentence 'ma armastan jutat' has a size of 66 bytes.\n"
     ]
    }
   ],
   "source": [
    "import sys\n",
    "\n",
    "a = 'ma armastan jutat'\n",
    "\n",
    "print('Sentence', repr(a), 'has a size of', sys.getsizeof(a), 'bytes.')"
   ]
  },
  {
   "cell_type": "markdown",
   "metadata": {},
   "source": [
    "### 80. Write a Python program to get the current value of the recursion limit."
   ]
  },
  {
   "cell_type": "markdown",
   "metadata": {},
   "source": [
    "Recursion in computer science is a method of solving a problem where the solution depends on solutions to smaller instances of the same problem (as opposed to iteration). - Wikipedia <br>\n",
    "\n",
    "Recursion is a method of solving problems that involves breaking a problem down into smaller and smaller subproblems until you get to a small enough problem that it can be solved trivially. Usually recursion involves a function calling itself."
   ]
  },
  {
   "cell_type": "code",
   "execution_count": 155,
   "metadata": {},
   "outputs": [
    {
     "name": "stdout",
     "output_type": "stream",
     "text": [
      "The current value of the recursion limit:  3000\n"
     ]
    }
   ],
   "source": [
    "import sys\n",
    "\n",
    "print('The current value of the recursion limit: ', sys.getrecursionlimit())"
   ]
  },
  {
   "cell_type": "markdown",
   "metadata": {},
   "source": [
    "### 85. Write a Python program to check if a file path is a file or a directory."
   ]
  },
  {
   "cell_type": "code",
   "execution_count": 11,
   "metadata": {},
   "outputs": [
    {
     "name": "stdout",
     "output_type": "stream",
     "text": [
      "False\n",
      "True\n"
     ]
    }
   ],
   "source": [
    "import os\n",
    "\n",
    "# current working directory\n",
    "os.getcwd()\n",
    "\n",
    "# to check if this is a file\n",
    "print(os.path.isfile(os.getcwd()))\n",
    "\n",
    "# to check if this is a directory\n",
    "print(os.path.isdir(os.getcwd()))"
   ]
  },
  {
   "cell_type": "markdown",
   "metadata": {},
   "source": [
    "### 86. Write a Python program to get the ASCII value of a character."
   ]
  },
  {
   "cell_type": "code",
   "execution_count": 13,
   "metadata": {},
   "outputs": [
    {
     "name": "stdout",
     "output_type": "stream",
     "text": [
      "36\n",
      "64\n"
     ]
    }
   ],
   "source": [
    "print(ord('$'))\n",
    "print(ord('@'))"
   ]
  },
  {
   "cell_type": "markdown",
   "metadata": {},
   "source": [
    "### 87. Write a Python program to get the size of a file."
   ]
  },
  {
   "cell_type": "code",
   "execution_count": 39,
   "metadata": {},
   "outputs": [],
   "source": [
    "import math\n",
    "\n",
    "def bites(n):\n",
    "    '''Returns appropriate memory size unit'''\n",
    "    \n",
    "    unit = ['p', 'n', 'MB', 'GB', 'TB', 'PB']\n",
    "    n = float(n)\n",
    "    index = max(0, min(len(unit) - 1,\n",
    "                      int(math.floor(0 if n == 0 else math.log10(abs(n)) / 3))))\n",
    "\n",
    "    return '{:.2f} {}'.format(n / 10 ** (index * 3), unit[index])"
   ]
  },
  {
   "cell_type": "code",
   "execution_count": 40,
   "metadata": {},
   "outputs": [
    {
     "name": "stdout",
     "output_type": "stream",
     "text": [
      "892.62 MB\n"
     ]
    }
   ],
   "source": [
    "import os\n",
    "\n",
    "f_size = os.path.getsize('/home/ilves/Downloads/Vaadatud Filmid/2004 -- Collateral (2004)/'\n",
    "                         'Collateral.2004.720p.BrRip.x264.YIFY.mp4')\n",
    "\n",
    "print(bites(f_size))"
   ]
  },
  {
   "cell_type": "markdown",
   "metadata": {},
   "source": [
    "### 95. Write a Python program to check if a string is numeric."
   ]
  },
  {
   "cell_type": "code",
   "execution_count": 43,
   "metadata": {},
   "outputs": [
    {
     "name": "stdout",
     "output_type": "stream",
     "text": [
      "String '353' is numeric.\n"
     ]
    }
   ],
   "source": [
    "string = '353'\n",
    "\n",
    "try:\n",
    "    i = float(string)\n",
    "    print('String', repr(string), 'is numeric.')\n",
    "except (TypeError, ValueError):\n",
    "    print('String', repr(string), 'is not numeric.')"
   ]
  },
  {
   "cell_type": "markdown",
   "metadata": {},
   "source": [
    "### 96. Write a Python program to print the current call stack."
   ]
  },
  {
   "cell_type": "code",
   "execution_count": 44,
   "metadata": {},
   "outputs": [
    {
     "name": "stderr",
     "output_type": "stream",
     "text": [
      "  File \"/home/ilves/anaconda3/lib/python3.7/runpy.py\", line 193, in _run_module_as_main\n",
      "    \"__main__\", mod_spec)\n",
      "  File \"/home/ilves/anaconda3/lib/python3.7/runpy.py\", line 85, in _run_code\n",
      "    exec(code, run_globals)\n",
      "  File \"/home/ilves/anaconda3/lib/python3.7/site-packages/ipykernel_launcher.py\", line 16, in <module>\n",
      "    app.launch_new_instance()\n",
      "  File \"/home/ilves/anaconda3/lib/python3.7/site-packages/traitlets/config/application.py\", line 658, in launch_instance\n",
      "    app.start()\n",
      "  File \"/home/ilves/anaconda3/lib/python3.7/site-packages/ipykernel/kernelapp.py\", line 497, in start\n",
      "    self.io_loop.start()\n",
      "  File \"/home/ilves/anaconda3/lib/python3.7/site-packages/tornado/platform/asyncio.py\", line 132, in start\n",
      "    self.asyncio_loop.run_forever()\n",
      "  File \"/home/ilves/anaconda3/lib/python3.7/asyncio/base_events.py\", line 539, in run_forever\n",
      "    self._run_once()\n",
      "  File \"/home/ilves/anaconda3/lib/python3.7/asyncio/base_events.py\", line 1775, in _run_once\n",
      "    handle._run()\n",
      "  File \"/home/ilves/anaconda3/lib/python3.7/asyncio/events.py\", line 88, in _run\n",
      "    self._context.run(self._callback, *self._args)\n",
      "  File \"/home/ilves/anaconda3/lib/python3.7/site-packages/tornado/platform/asyncio.py\", line 122, in _handle_events\n",
      "    handler_func(fileobj, events)\n",
      "  File \"/home/ilves/anaconda3/lib/python3.7/site-packages/tornado/stack_context.py\", line 300, in null_wrapper\n",
      "    return fn(*args, **kwargs)\n",
      "  File \"/home/ilves/anaconda3/lib/python3.7/site-packages/zmq/eventloop/zmqstream.py\", line 450, in _handle_events\n",
      "    self._handle_recv()\n",
      "  File \"/home/ilves/anaconda3/lib/python3.7/site-packages/zmq/eventloop/zmqstream.py\", line 480, in _handle_recv\n",
      "    self._run_callback(callback, msg)\n",
      "  File \"/home/ilves/anaconda3/lib/python3.7/site-packages/zmq/eventloop/zmqstream.py\", line 432, in _run_callback\n",
      "    callback(*args, **kwargs)\n",
      "  File \"/home/ilves/anaconda3/lib/python3.7/site-packages/tornado/stack_context.py\", line 300, in null_wrapper\n",
      "    return fn(*args, **kwargs)\n",
      "  File \"/home/ilves/anaconda3/lib/python3.7/site-packages/ipykernel/kernelbase.py\", line 283, in dispatcher\n",
      "    return self.dispatch_shell(stream, msg)\n",
      "  File \"/home/ilves/anaconda3/lib/python3.7/site-packages/ipykernel/kernelbase.py\", line 233, in dispatch_shell\n",
      "    handler(stream, idents, msg)\n",
      "  File \"/home/ilves/anaconda3/lib/python3.7/site-packages/ipykernel/kernelbase.py\", line 399, in execute_request\n",
      "    user_expressions, allow_stdin)\n",
      "  File \"/home/ilves/anaconda3/lib/python3.7/site-packages/ipykernel/ipkernel.py\", line 208, in do_execute\n",
      "    res = shell.run_cell(code, store_history=store_history, silent=silent)\n",
      "  File \"/home/ilves/anaconda3/lib/python3.7/site-packages/ipykernel/zmqshell.py\", line 537, in run_cell\n",
      "    return super(ZMQInteractiveShell, self).run_cell(*args, **kwargs)\n",
      "  File \"/home/ilves/anaconda3/lib/python3.7/site-packages/IPython/core/interactiveshell.py\", line 2662, in run_cell\n",
      "    raw_cell, store_history, silent, shell_futures)\n",
      "  File \"/home/ilves/anaconda3/lib/python3.7/site-packages/IPython/core/interactiveshell.py\", line 2785, in _run_cell\n",
      "    interactivity=interactivity, compiler=compiler, result=result)\n",
      "  File \"/home/ilves/anaconda3/lib/python3.7/site-packages/IPython/core/interactiveshell.py\", line 2907, in run_ast_nodes\n",
      "    if self.run_code(code, result):\n",
      "  File \"/home/ilves/anaconda3/lib/python3.7/site-packages/IPython/core/interactiveshell.py\", line 2961, in run_code\n",
      "    exec(code_obj, self.user_global_ns, self.user_ns)\n",
      "  File \"<ipython-input-44-856b62a78d3c>\", line 7, in <module>\n",
      "    f()\n",
      "  File \"<ipython-input-44-856b62a78d3c>\", line 3, in f\n",
      "    def f(): return abc()\n",
      "  File \"<ipython-input-44-856b62a78d3c>\", line 5, in abc\n",
      "    def abc(): traceback.print_stack()\n"
     ]
    }
   ],
   "source": [
    "import traceback\n",
    "\n",
    "def f(): return abc()\n",
    "\n",
    "def abc(): traceback.print_stack()\n",
    "    \n",
    "f()"
   ]
  },
  {
   "cell_type": "markdown",
   "metadata": {},
   "source": [
    "### X. Create a program to print all possible Errors"
   ]
  },
  {
   "cell_type": "code",
   "execution_count": 84,
   "metadata": {},
   "outputs": [],
   "source": [
    "import re\n",
    "                      \n",
    "def all_errors():\n",
    "    '''Prints all available erros.'''\n",
    "    \n",
    "    pattern = r\"^.*Error\"\n",
    "    s_var_names = sorted(set(__builtins__.__dict__.keys()))\n",
    "    \n",
    "    errors = []\n",
    "    for i in s_var_names:\n",
    "        l = re.findall(pattern, i)\n",
    "        if len(l) == 0:\n",
    "            continue\n",
    "        else:\n",
    "            errors.append(l[0])\n",
    "    print(errors)"
   ]
  },
  {
   "cell_type": "code",
   "execution_count": 85,
   "metadata": {},
   "outputs": [
    {
     "name": "stdout",
     "output_type": "stream",
     "text": [
      "['ArithmeticError', 'AssertionError', 'AttributeError', 'BlockingIOError', 'BrokenPipeError', 'BufferError', 'ChildProcessError', 'ConnectionAbortedError', 'ConnectionError', 'ConnectionRefusedError', 'ConnectionResetError', 'EOFError', 'EnvironmentError', 'FileExistsError', 'FileNotFoundError', 'FloatingPointError', 'IOError', 'ImportError', 'IndentationError', 'IndexError', 'InterruptedError', 'IsADirectoryError', 'KeyError', 'LookupError', 'MemoryError', 'ModuleNotFoundError', 'NameError', 'NotADirectoryError', 'NotImplementedError', 'OSError', 'OverflowError', 'PermissionError', 'ProcessLookupError', 'RecursionError', 'ReferenceError', 'RuntimeError', 'SyntaxError', 'SystemError', 'TabError', 'TimeoutError', 'TypeError', 'UnboundLocalError', 'UnicodeDecodeError', 'UnicodeEncodeError', 'UnicodeError', 'UnicodeTranslateError', 'ValueError', 'ZeroDivisionError']\n"
     ]
    }
   ],
   "source": [
    "all_errors()"
   ]
  },
  {
   "cell_type": "markdown",
   "metadata": {},
   "source": [
    "### 98. Write a Python program to get the system time."
   ]
  },
  {
   "cell_type": "code",
   "execution_count": 92,
   "metadata": {},
   "outputs": [
    {
     "data": {
      "text/plain": [
       "'Wed Jan 16 12:12:54 2019'"
      ]
     },
     "execution_count": 92,
     "metadata": {},
     "output_type": "execute_result"
    }
   ],
   "source": [
    "import time\n",
    "\n",
    "time.ctime()"
   ]
  },
  {
   "cell_type": "code",
   "execution_count": 96,
   "metadata": {},
   "outputs": [
    {
     "name": "stdout",
     "output_type": "stream",
     "text": [
      "\n",
      "Host name: ilves-Lenovo-G50-70\n"
     ]
    }
   ],
   "source": [
    "import socket\n",
    "host_name = socket.gethostname()\n",
    "print()\n",
    "print(\"Host name:\", host_name)"
   ]
  },
  {
   "cell_type": "markdown",
   "metadata": {},
   "source": [
    "### 103. Write a Python program to extract the filename from a given path."
   ]
  },
  {
   "cell_type": "code",
   "execution_count": 105,
   "metadata": {},
   "outputs": [
    {
     "data": {
      "text/plain": [
       "'famousbirthdays.sql'"
      ]
     },
     "execution_count": 105,
     "metadata": {},
     "output_type": "execute_result"
    }
   ],
   "source": [
    "import os\n",
    "\n",
    "os.path.basename('/home/ilves/Documents/jupyter_anaconda/exercises/famousbirthdays.sql')"
   ]
  },
  {
   "cell_type": "markdown",
   "metadata": {},
   "source": [
    "### 107. Write a Python program to retrieve file properties."
   ]
  },
  {
   "cell_type": "code",
   "execution_count": 113,
   "metadata": {},
   "outputs": [
    {
     "name": "stdout",
     "output_type": "stream",
     "text": [
      "File:          famousbirthdays.sql\n",
      "Access time:   Sun Dec 23 11:55:17 2018\n",
      "Modified time  Thu Aug  2 13:02:42 2007\n",
      "Change time    Sun Dec 23 11:55:14 2018\n",
      "Size           357.78 kB\n"
     ]
    }
   ],
   "source": [
    "import os\n",
    "import time\n",
    "\n",
    "file = '/home/ilves/Documents/jupyter_anaconda/exercises/famousbirthdays.sql'\n",
    "\n",
    "print(\"File:         \", os.path.basename(file))\n",
    "print(\"Access time:  \", time.ctime(os.path.getatime(file)))\n",
    "print('Modified time ', time.ctime(os.path.getmtime(file)))\n",
    "print(\"Change time   \", time.ctime(os.path.getctime(file)))\n",
    "print(\"Size          \", bites(os.path.getsize(file))) # bites() is self-made function Q: 82"
   ]
  },
  {
   "cell_type": "markdown",
   "metadata": {},
   "source": [
    "### 108. Write a Python program to find path refers to a file or directory when you encounter a path name."
   ]
  },
  {
   "cell_type": "code",
   "execution_count": 138,
   "metadata": {},
   "outputs": [],
   "source": [
    "import os\n",
    "\n",
    "def file_or_dir(obj_path):\n",
    "    '''Function say if path refers to a directory, file or special file.'''\n",
    "    \n",
    "    path_list = rand_path.split(os.sep) # list of each sub folder\n",
    "    \n",
    "    if os.path.isfile(obj_path) == True:\n",
    "        print(\"{} is a file.\".format(os.path.basename(obj_path)))\n",
    "        \n",
    "    elif os.path.isdir(obj_path) == True:\n",
    "        \n",
    "        if path_list[-1] == '':\n",
    "            print(\"{} is a directory.\".format(path_list[-2]))\n",
    "        else:\n",
    "            print(\"{} is a directory.\".format(os.path.basename(obj_path)))\n",
    "    else:\n",
    "        print(\"{} is a special file.\".format(os.path.basename(obj_path)))"
   ]
  },
  {
   "cell_type": "code",
   "execution_count": 139,
   "metadata": {},
   "outputs": [
    {
     "name": "stdout",
     "output_type": "stream",
     "text": [
      "bdays.json is a special file.\n"
     ]
    }
   ],
   "source": [
    "rand_path = '/home/ilves/Documents/jupyter_anaconda/scripts/bdays.json'\n",
    "\n",
    "file_or_dir(rand_path)"
   ]
  },
  {
   "cell_type": "markdown",
   "metadata": {},
   "source": [
    "### 110. Write a Python program to get numbers divisible by fifteen from a list using an anonymous function."
   ]
  },
  {
   "cell_type": "code",
   "execution_count": 146,
   "metadata": {},
   "outputs": [
    {
     "name": "stdout",
     "output_type": "stream",
     "text": [
      "[1495  660  399  171  682 1238  100  645  958  236   32  764  942 1062\n",
      "  431  333  793  158  211  888 1078   34  827  732  971 1196 1374  117\n",
      " 1054  839 1216   16  942  111  612  346 1345 1488 1348  981  568  433\n",
      "  183  549  119  990  370  275 1302   81  953 1007  244  406  295  971\n",
      " 1472  255 1399 1414 1068  347  103  397 1371  487  251 1282   96 1090\n",
      "  333  678  524  753 1126 1385  543  476  617  943 1158  811 1379 1458\n",
      "  555  975  344  867  455 1330 1053   97  758  707  481  897  696  818\n",
      " 1027 1490]\n",
      "\n",
      " [660, 645, 990, 255, 555, 975]\n"
     ]
    }
   ],
   "source": [
    "import numpy as np\n",
    "\n",
    "np.random.seed(seed=15)\n",
    "\n",
    "# 100 random numbers\n",
    "rnd_nrs = np.random.randint(15, 1500, size = 100)\n",
    "print(rnd_nrs)\n",
    "\n",
    "div_by_15 = list(filter(lambda x: (x % 15 == 0), rnd_nrs))\n",
    "print('\\n',div_by_15)"
   ]
  },
  {
   "cell_type": "markdown",
   "metadata": {},
   "source": [
    "### 111. Write a Python program to make file lists from current directory using a wildcard."
   ]
  },
  {
   "cell_type": "code",
   "execution_count": 150,
   "metadata": {},
   "outputs": [
    {
     "data": {
      "text/plain": [
       "['basic_part1.ipynb']"
      ]
     },
     "execution_count": 150,
     "metadata": {},
     "output_type": "execute_result"
    }
   ],
   "source": [
    "import glob\n",
    "\n",
    "glob.glob('*.*')"
   ]
  },
  {
   "cell_type": "markdown",
   "metadata": {},
   "source": [
    "### 113. Write a Python program to input a number, if it is not a number generate an error message."
   ]
  },
  {
   "cell_type": "code",
   "execution_count": 174,
   "metadata": {},
   "outputs": [
    {
     "name": "stdout",
     "output_type": "stream",
     "text": [
      "Enter a number: g\n",
      "\n",
      "Insertion is not a number.\n",
      "Enter a number: 7.9\n",
      "\n",
      "Insertion is not a number.\n",
      "Enter a number: 7.a\n",
      "\n",
      "Insertion is not a number.\n",
      "Enter a number: 4\n",
      "\n",
      "It's a valid number.\n"
     ]
    }
   ],
   "source": [
    "while True:\n",
    "    x = input('Enter a number: ')\n",
    "    try:\n",
    "        int(x)\n",
    "        print(\"\\nIt's a valid number.\")\n",
    "        break\n",
    "    except ValueError:\n",
    "        print('\\nInsertion is not a number.')"
   ]
  },
  {
   "cell_type": "markdown",
   "metadata": {},
   "source": [
    "### 114. Write a Python program to filter the positive numbers from a list."
   ]
  },
  {
   "cell_type": "code",
   "execution_count": 177,
   "metadata": {},
   "outputs": [
    {
     "name": "stdout",
     "output_type": "stream",
     "text": [
      "[  75   96  -75  -33   51    3   -8   85   42  -77  -28  -11   10  -58\n",
      "   36   67  -32   76   27   35   72 -100  -25  -45  -94  -81   88  -56\n",
      "   91  -31  -44   52   83   81   12   89   92  -66  -44  -62  -96   37\n",
      "  -13   95  -28  -17   76  -99   92   44   18   59   -7   72   -8  -29\n",
      "  -77  -90  -65   92  -39   35   51   -8   49    0   63  -33   23  -81\n",
      "   55  -96  -81  -67   23  -70   85  -27   27   59   30  -17   78   46\n",
      "  -79   19  -33   86  -53  -84  -88   -7    7   37  -24  -33   10   42\n",
      "   24  -80]\n",
      "\n",
      " [75, 96, 51, 3, 85, 42, 10, 36, 67, 76, 27, 35, 72, 88, 91, 52, 83, 81, 12, 89, 92, 37, 95, 76, 92, 44, 18, 59, 72, 92, 35, 51, 49, 0, 63, 23, 55, 23, 85, 27, 59, 30, 78, 46, 19, 86, 7, 37, 10, 42, 24]\n"
     ]
    }
   ],
   "source": [
    "import numpy as np\n",
    "\n",
    "np.random.seed(7)\n",
    "nrs = np.random.randint(-100, 100, size=100)\n",
    "print(nrs)\n",
    "pos_nrs = list(filter(lambda x: x >= 0, nrs))\n",
    "print('\\n', pos_nrs)"
   ]
  },
  {
   "cell_type": "markdown",
   "metadata": {},
   "source": [
    "### 115. Write a Python program to compute the product of a list of integers (without using for loop)"
   ]
  },
  {
   "cell_type": "code",
   "execution_count": 181,
   "metadata": {},
   "outputs": [
    {
     "name": "stdout",
     "output_type": "stream",
     "text": [
      "The product of [4 1 2 3 4 4 4] is 1536\n"
     ]
    }
   ],
   "source": [
    "import numpy as np\n",
    "\n",
    "np.random.seed(7)\n",
    "\n",
    "ints = np.random.randint(1, 5, size=7)\n",
    "\n",
    "i = 0\n",
    "product = 1\n",
    "while i < len(ints):\n",
    "    product = product * ints[i]\n",
    "    i += 1\n",
    "print('The product of', ints, 'is', product)"
   ]
  },
  {
   "cell_type": "markdown",
   "metadata": {},
   "source": [
    "### 117. Write a Python program to prove that two string variables of same value point same memory location."
   ]
  },
  {
   "cell_type": "code",
   "execution_count": 190,
   "metadata": {
    "scrolled": true
   },
   "outputs": [
    {
     "name": "stdout",
     "output_type": "stream",
     "text": [
      "The strings both point to memory location: 0x7f60df8bf2d0\n"
     ]
    }
   ],
   "source": [
    "a = 'python'\n",
    "b = 'python'\n",
    "\n",
    "if hex(id(a)) == hex(id(b)):\n",
    "    print('The strings both point to memory location:', hex(id(a)))\n",
    "\n",
    "assert hex(id(a)) == hex(id(b)), 'The strings do not point to the same memory location.' "
   ]
  },
  {
   "cell_type": "markdown",
   "metadata": {},
   "source": [
    "### 119. Write a Python program to display a floating number in specified numbers."
   ]
  },
  {
   "cell_type": "code",
   "execution_count": 7,
   "metadata": {},
   "outputs": [
    {
     "name": "stdout",
     "output_type": "stream",
     "text": [
      "10.89\n"
     ]
    }
   ],
   "source": [
    "def float_decimals(number, decimals):\n",
    "    '''Outputs floating point number in desired decimals'''\n",
    "    x = round(number, decimals)\n",
    "    print(x)\n",
    "    \n",
    "float_decimals(10.88734, 2)"
   ]
  },
  {
   "cell_type": "markdown",
   "metadata": {},
   "source": [
    "### 120. Write a Python program to format a specified string to limit the number of characters to 6. "
   ]
  },
  {
   "cell_type": "code",
   "execution_count": 9,
   "metadata": {},
   "outputs": [
    {
     "name": "stdout",
     "output_type": "stream",
     "text": [
      "Insert string: kaalikas\n",
      "\n",
      "String cant be longer than 6 letters!\n",
      "Try again!\n",
      "\n",
      "Insert string: koer\n",
      "Insertion successful!\n"
     ]
    }
   ],
   "source": [
    "while True:\n",
    "    \n",
    "    string = input('Insert string: ')\n",
    "    if len(string) > 6:\n",
    "        print('\\nString cant be longer than 6 letters!\\nTry again!\\n')\n",
    "        continue\n",
    "    else:\n",
    "        print('Insertion successful!')\n",
    "        break"
   ]
  },
  {
   "cell_type": "markdown",
   "metadata": {},
   "source": [
    "### 121. Write a Python program to determine if variable is defined or not."
   ]
  },
  {
   "cell_type": "code",
   "execution_count": 11,
   "metadata": {},
   "outputs": [
    {
     "name": "stdout",
     "output_type": "stream",
     "text": [
      "Variable defined!\n",
      "Variable not defined!\n"
     ]
    }
   ],
   "source": [
    "try:\n",
    "    x = 1\n",
    "except NameError:\n",
    "    print('Variable not defined!')\n",
    "else: \n",
    "    print('Variable defined!')\n",
    "    \n",
    "try:\n",
    "    y\n",
    "except NameError:\n",
    "    print('Variable not defined!')\n",
    "else:\n",
    "    print('Variable defined!')"
   ]
  },
  {
   "cell_type": "markdown",
   "metadata": {},
   "source": [
    "### 122. Write a Python program to empty a variable without destroying it. Go to the editor\n",
    "\n",
    "Sample data: n=20 <br>\n",
    "d = {\"x\":200} <br>\n",
    "Expected Output : 0 <br>\n",
    "{} <br>"
   ]
  },
  {
   "cell_type": "code",
   "execution_count": 19,
   "metadata": {},
   "outputs": [
    {
     "name": "stdout",
     "output_type": "stream",
     "text": [
      "0\n",
      "Tuples can't be muted.\n",
      "[]\n",
      "None\n",
      "{}\n"
     ]
    }
   ],
   "source": [
    "dif_types = [20, (23, 56, 87), [1,3,5], 'juta', {'x' : 200}]\n",
    "\n",
    "for obj_type in dif_types:\n",
    "    if type(obj_type) == list or type(obj_type) == dict:\n",
    "        obj_type.clear()\n",
    "        print(obj_type)\n",
    "    elif type(obj_type) == tuple:\n",
    "        print(\"Tuples can't be muted.\")\n",
    "        continue\n",
    "    elif type(obj_type) in [int, float]:\n",
    "        obj_type = 0\n",
    "        print(obj_type)\n",
    "    else:\n",
    "        obj_type = None\n",
    "        print(obj_type)"
   ]
  },
  {
   "cell_type": "markdown",
   "metadata": {},
   "source": [
    "### 123. Write a Python program to determine the largest and smallest integers, longs, floats."
   ]
  },
  {
   "cell_type": "code",
   "execution_count": 20,
   "metadata": {},
   "outputs": [
    {
     "name": "stdout",
     "output_type": "stream",
     "text": [
      "Float value information:  sys.float_info(max=1.7976931348623157e+308, max_exp=1024, max_10_exp=308, min=2.2250738585072014e-308, min_exp=-1021, min_10_exp=-307, dig=15, mant_dig=53, epsilon=2.220446049250313e-16, radix=2, rounds=1)\n",
      "\n",
      "Integer value information:  sys.int_info(bits_per_digit=30, sizeof_digit=4)\n",
      "\n",
      "Maximum size of an integer:  9223372036854775807\n"
     ]
    }
   ],
   "source": [
    "import sys\n",
    "print(\"Float value information: \",sys.float_info)\n",
    "print(\"\\nInteger value information: \",sys.int_info)\n",
    "print(\"\\nMaximum size of an integer: \",sys.maxsize)"
   ]
  },
  {
   "cell_type": "markdown",
   "metadata": {},
   "source": [
    "### 125. Write a Python program to sum of all counts in a collections? "
   ]
  },
  {
   "cell_type": "code",
   "execution_count": 28,
   "metadata": {},
   "outputs": [
    {
     "name": "stdout",
     "output_type": "stream",
     "text": [
      "[0, 0, 2, 4, 5, 6, 7, 8, 8, 9]\n",
      "10\n"
     ]
    }
   ],
   "source": [
    "import collections\n",
    "import numpy as np\n",
    "\n",
    "nums = np.random.randint(0, 10, 10)\n",
    "print(sorted(nums))\n",
    "print(sum(collections.Counter(nums).values()))"
   ]
  },
  {
   "cell_type": "markdown",
   "metadata": {},
   "source": [
    "### 128. Write a Python program to check if lowercase letters exist in a string."
   ]
  },
  {
   "cell_type": "code",
   "execution_count": 32,
   "metadata": {},
   "outputs": [
    {
     "name": "stdout",
     "output_type": "stream",
     "text": [
      "True\n"
     ]
    }
   ],
   "source": [
    "str1 = 'A8238i823acdeOUEI'\n",
    "\n",
    "print(any(x.islower() for x in str1))"
   ]
  }
 ],
 "metadata": {
  "kernelspec": {
   "display_name": "Python 3",
   "language": "python",
   "name": "python3"
  },
  "language_info": {
   "codemirror_mode": {
    "name": "ipython",
    "version": 3
   },
   "file_extension": ".py",
   "mimetype": "text/x-python",
   "name": "python",
   "nbconvert_exporter": "python",
   "pygments_lexer": "ipython3",
   "version": "3.7.1"
  }
 },
 "nbformat": 4,
 "nbformat_minor": 2
}
