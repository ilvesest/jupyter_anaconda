{
 "cells": [
  {
   "cell_type": "markdown",
   "metadata": {},
   "source": [
    "# https://www.w3resource.com/python-exercises/basic/"
   ]
  },
  {
   "cell_type": "markdown",
   "metadata": {},
   "source": [
    "### 1. Write a Python function that takes a sequence of numbers and determines if all the numbers are different from each other."
   ]
  },
  {
   "cell_type": "code",
   "execution_count": 20,
   "metadata": {},
   "outputs": [
    {
     "name": "stdout",
     "output_type": "stream",
     "text": [
      "[3 6 4 9 0]\n",
      "Numbers are unique!\n"
     ]
    }
   ],
   "source": [
    "import numpy as np\n",
    "\n",
    "np.random.seed(None)\n",
    "nums = np.random.randint(0, 10, 5)\n",
    "print(nums)\n",
    "\n",
    "if len(nums) == len(set(nums)):\n",
    "    print('Numbers are unique!')\n",
    "else:\n",
    "    print('Numbers NOT unique!')"
   ]
  },
  {
   "cell_type": "markdown",
   "metadata": {},
   "source": [
    "### 2. Write a Python program to create all possible strings by using 'a', 'e', 'i', 'o', 'u'. Use the characters exactly once."
   ]
  },
  {
   "cell_type": "code",
   "execution_count": 44,
   "metadata": {},
   "outputs": [
    {
     "name": "stdout",
     "output_type": "stream",
     "text": [
      "['AEIOU', 'AEIUO', 'AEOIU', 'AEOUI', 'AEUIO', 'AEUOI', 'AIEOU', 'AIEUO', 'AIOEU', 'AIOUE', 'AIUEO', 'AIUOE', 'AOEIU', 'AOEUI', 'AOIEU', 'AOIUE', 'AOUEI', 'AOUIE', 'AUEIO', 'AUEOI', 'AUIEO', 'AUIOE', 'AUOEI', 'AUOIE', 'EAIOU', 'EAIUO', 'EAOIU', 'EAOUI', 'EAUIO', 'EAUOI', 'EIAOU', 'EIAUO', 'EIOAU', 'EIOUA', 'EIUAO', 'EIUOA', 'EOAIU', 'EOAUI', 'EOIAU', 'EOIUA', 'EOUAI', 'EOUIA', 'EUAIO', 'EUAOI', 'EUIAO', 'EUIOA', 'EUOAI', 'EUOIA', 'IAEOU', 'IAEUO', 'IAOEU', 'IAOUE', 'IAUEO', 'IAUOE', 'IEAOU', 'IEAUO', 'IEOAU', 'IEOUA', 'IEUAO', 'IEUOA', 'IOAEU', 'IOAUE', 'IOEAU', 'IOEUA', 'IOUAE', 'IOUEA', 'IUAEO', 'IUAOE', 'IUEAO', 'IUEOA', 'IUOAE', 'IUOEA', 'OAEIU', 'OAEUI', 'OAIEU', 'OAIUE', 'OAUEI', 'OAUIE', 'OEAIU', 'OEAUI', 'OEIAU', 'OEIUA', 'OEUAI', 'OEUIA', 'OIAEU', 'OIAUE', 'OIEAU', 'OIEUA', 'OIUAE', 'OIUEA', 'OUAEI', 'OUAIE', 'OUEAI', 'OUEIA', 'OUIAE', 'OUIEA', 'UAEIO', 'UAEOI', 'UAIEO', 'UAIOE', 'UAOEI', 'UAOIE', 'UEAIO', 'UEAOI', 'UEIAO', 'UEIOA', 'UEOAI', 'UEOIA', 'UIAEO', 'UIAOE', 'UIEAO', 'UIEOA', 'UIOAE', 'UIOEA', 'UOAEI', 'UOAIE', 'UOEAI', 'UOEIA', 'UOIAE', 'UOIEA']\n"
     ]
    }
   ],
   "source": [
    "import itertools\n",
    "\n",
    "string = 'AEIOU'\n",
    "\n",
    "all_strings = [\"\".join(perm) for perm in itertools.permutations(string)]\n",
    "print(all_strings)\n",
    "\n",
    "# check if all elements are unique\n",
    "assert len(all_strings) == len(set(all_strings)), \"Error!\""
   ]
  },
  {
   "cell_type": "markdown",
   "metadata": {},
   "source": [
    "### 3. Write a Python program to remove and print every third number from a list of numbers until the list becomes empty."
   ]
  },
  {
   "cell_type": "code",
   "execution_count": 61,
   "metadata": {},
   "outputs": [
    {
     "name": "stdout",
     "output_type": "stream",
     "text": [
      "[22 15 10 15 13 13 22 20  8 15  1  8 23 18 16 13  5  0  7 10]\n",
      "[22 15 15 13 13 22 20  8 15  1  8 23 18 16 13  5  0  7 10]\n",
      "[22 15 13 13 22 20  8 15  1  8 23 18 16 13  5  0  7 10]\n",
      "[22 15 13 22 20  8 15  1  8 23 18 16 13  5  0  7 10]\n",
      "[22 15 22 20  8 15  1  8 23 18 16 13  5  0  7 10]\n",
      "[22 15 20  8 15  1  8 23 18 16 13  5  0  7 10]\n",
      "[22 15  8 15  1  8 23 18 16 13  5  0  7 10]\n",
      "[22 15 15  1  8 23 18 16 13  5  0  7 10]\n",
      "[22 15  1  8 23 18 16 13  5  0  7 10]\n",
      "[22 15  8 23 18 16 13  5  0  7 10]\n",
      "[22 15 23 18 16 13  5  0  7 10]\n",
      "[22 15 18 16 13  5  0  7 10]\n",
      "[22 15 16 13  5  0  7 10]\n",
      "[22 15 13  5  0  7 10]\n",
      "[22 15  5  0  7 10]\n",
      "[22 15  0  7 10]\n",
      "[22 15  7 10]\n",
      "[22 15 10]\n",
      "[22 15]\n",
      "[15]\n",
      "[]\n"
     ]
    }
   ],
   "source": [
    "import numpy as np\n",
    "\n",
    "nums = np.random.randint(0, 25, 20)\n",
    "print(nums)\n",
    "while len(nums) > 0:\n",
    "    if len(nums) <= 2:\n",
    "        nums = np.delete(nums, 0)\n",
    "        print(nums)\n",
    "    else:\n",
    "        nums = np.delete(nums, 2)\n",
    "        print(nums)"
   ]
  },
  {
   "cell_type": "markdown",
   "metadata": {},
   "source": [
    "### 4. Write a Python program to find unique triplets whose three elements gives the sum of zero from an array of n integers."
   ]
  },
  {
   "cell_type": "code",
   "execution_count": 86,
   "metadata": {},
   "outputs": [
    {
     "name": "stdout",
     "output_type": "stream",
     "text": [
      "[  8   9   7 -10  -4   2  -2 -10   8  -4] \n",
      "\n",
      "[(8, -4, -4), (-10, 2, 8), (8, 2, -10), (8, -10, 2), (-4, 8, -4), (2, -10, 8)]\n"
     ]
    }
   ],
   "source": [
    "import numpy as np\n",
    "\n",
    "def zero_triplets(array):\n",
    "    give_zero = [comb for comb in itertools.combinations(array, 3) if sum(comb) == 0]\n",
    "    return print(list(set(give_zero)))\n",
    "\n",
    "nums = np.random.randint(-10, 10, 10)\n",
    "print(nums,'\\n')\n",
    "zero_triplets(nums)"
   ]
  },
  {
   "cell_type": "code",
   "execution_count": 87,
   "metadata": {},
   "outputs": [
    {
     "name": "stdout",
     "output_type": "stream",
     "text": [
      "[(2, 0, -2), (2, -2, 0), (1, -1, 0), (-6, 4, 2)]\n"
     ]
    }
   ],
   "source": [
    "zero_triplets([1, -6, 4, 2, -1, 2, 0, -2, 0 ])"
   ]
  },
  {
   "cell_type": "markdown",
   "metadata": {},
   "source": [
    "### 6. Write a Python program to print a long text, convert the string to a list and print all the words and their frequencies."
   ]
  },
  {
   "cell_type": "code",
   "execution_count": 1,
   "metadata": {
    "code_folding": [
     0
    ]
   },
   "outputs": [],
   "source": [
    "# 'string_words' : long string variable\n",
    "string_words = '''United States Declaration of Independence\n",
    "From Wikipedia, the free encyclopedia\n",
    "The United States Declaration of Independence is the statement\n",
    "adopted by the Second Continental Congress meeting at the Pennsylvania State\n",
    "House (Independence Hall) in Philadelphia on July 4, 1776, which announced\n",
    "that the thirteen American colonies, then at war with the Kingdom of Great\n",
    "Britain, regarded themselves as thirteen independent sovereign states, no longer\n",
    "under British rule. These states would found a new nation – the United States of\n",
    "America. John Adams was a leader in pushing for independence, which was passed\n",
    "on July 2 with no opposing vote cast. A committee of five had already drafted the\n",
    "formal declaration, to be ready when Congress voted on independence.\n",
    "\n",
    "John Adams persuaded the committee to select Thomas Jefferson to compose the original\n",
    "draft of the document, which Congress would edit to produce the final version.\n",
    "The Declaration was ultimately a formal explanation of why Congress had voted on July\n",
    "2 to declare independence from Great Britain, more than a year after the outbreak of\n",
    "the American Revolutionary War. The next day, Adams wrote to his wife Abigail: \"The\n",
    "Second Day of July 1776, will be the most memorable Epocha, in the History of America.\"\n",
    "But Independence Day is actually celebrated on July 4, the date that the Declaration of\n",
    "Independence was approved.\n",
    "\n",
    "After ratifying the text on July 4, Congress issued the Declaration of Independence in\n",
    "several forms. It was initially published as the printed Dunlap broadside that was widely\n",
    "distributed and read to the public. The source copy used for this printing has been lost,\n",
    "and may have been a copy in Thomas Jefferson's hand.[5] Jefferson's original draft, complete\n",
    "with changes made by John Adams and Benjamin Franklin, and Jefferson's notes of changes made\n",
    "by Congress, are preserved at the Library of Congress. The best-known version of the Declaration\n",
    "is a signed copy that is displayed at the National Archives in Washington, D.C., and which is\n",
    "popularly regarded as the official document. This engrossed copy was ordered by Congress on\n",
    "July 19 and signed primarily on August 2.\n",
    "\n",
    "The sources and interpretation of the Declaration have been the subject of much scholarly inquiry.\n",
    "The Declaration justified the independence of the United States by listing colonial grievances against\n",
    "King George III, and by asserting certain natural and legal rights, including a right of revolution.\n",
    "Having served its original purpose in announcing independence, references to the text of the\n",
    "Declaration were few in the following years. Abraham Lincoln made it the centerpiece of his rhetoric\n",
    "(as in the Gettysburg Address of 1863) and his policies. Since then, it has become a well-known statement\n",
    "on human rights, particularly its second sentence:\n",
    "\n",
    "We hold these truths to be self-evident, that all men are created equal, that they are endowed by their\n",
    "Creator with certain unalienable Rights, that among these are Life, Liberty and the pursuit of Happiness.\n",
    "\n",
    "This has been called \"one of the best-known sentences in the English language\", containing \"the most potent\n",
    "and consequential words in American history\". The passage came to represent a moral standard to which\n",
    "the United States should strive. This view was notably promoted by Abraham Lincoln, who considered the\n",
    "Declaration to be the foundation of his political philosophy and argued that it is a statement of principles\n",
    "through which the United States Constitution should be interpreted.\n",
    "\n",
    "The U.S. Declaration of Independence inspired many other similar documents in other countries, the first\n",
    "being the 1789 Declaration of Flanders issued during the Brabant Revolution in the Austrian Netherlands\n",
    "(modern-day Belgium). It also served as the primary model for numerous declarations of independence across\n",
    "Europe and Latin America, as well as Africa (Liberia) and Oceania (New Zealand) during the first half of the\n",
    "19th century.'''"
   ]
  },
  {
   "cell_type": "code",
   "execution_count": 97,
   "metadata": {},
   "outputs": [
    {
     "data": {
      "text/plain": [
       "[('the', 43), ('of', 27), ('and', 13)]"
      ]
     },
     "execution_count": 97,
     "metadata": {},
     "output_type": "execute_result"
    }
   ],
   "source": [
    "import collections\n",
    "\n",
    "word_list = sorted(list(string_words.split(' ')))\n",
    "\n",
    "frequencies = collections.Counter(word_list)\n",
    "\n",
    "frequencies.most_common(3)"
   ]
  },
  {
   "cell_type": "markdown",
   "metadata": {},
   "source": [
    "### 8. Write a Python program to get the top stories from Google news."
   ]
  },
  {
   "cell_type": "code",
   "execution_count": 57,
   "metadata": {},
   "outputs": [
    {
     "name": "stdout",
     "output_type": "stream",
     "text": [
      "US stocks set to open lower amid renewed US-China tensions; Apple to report earnings\n",
      "Democrats’ 2020 presidential contest is wide open as danger mounts for Trump, new Washington Post-ABC News poll shows\n",
      "Kamala Harris defines her fight against Trump in CNN town hall\n",
      "Our Dreams of Peace: Envisioning an End to War in Afghanistan\n",
      "PG&E files for bankruptcy after California wildfires\n",
      "Dem duo poses test for Trump, GOP | TheHill\n",
      "Passenger stabs, kills pregnant Lyft driver in Tempe, Ariz.\n",
      "Four Police Officers Shot in Houston Drug Raid\n",
      "Guaido says he's still willing to consider amnesty for Maduro, military\n",
      "Pakistan’s top court dismisses Islamists’ appeal to overturn Christian woman’s acquittal for blasphemy\n",
      "Theresa May forces lawmakers to show their cards on Brexit\n",
      "As Global Mining Fatalities Fall, Brazil Deaths Show Problems Remain\n",
      "Nevada: Wynn Resorts Executives Ignored Sexual Misconduct Claims Against Steve Wynn\n",
      "Here comes the earnings report Apple warned about — here's what to watch\n",
      "CEO’s latest bid to save Sears would leave pensioners high and dry, government says\n",
      "Apple earnings: How low can iPhone sales go?\n",
      "Apple disables group calling in FaceTime in response to eavesdropping bug\n",
      "Samsung finally launched phones with notches, but didn't copy Apple's design\n",
      "Apple Plans to Have Streaming TV Service Ready to Launch by Mid-April\n",
      "Apple and Aetna are teaming up on a new app to help track and reward healthy behavior\n",
      "Netflix Reminds Audiences to Stop Swooning Over Ted Bundy\n",
      "Movie-Goer 'Sick' After Seeing Michael Jackson Documentary\n",
      "Jenny Slate Gets Cozy With Hunky Artist at Sundance Film Festival\n",
      "Watch: Jeff Bridges Returns as The Dude Alongside Carrie Bradshaw for Super Bowl Ad\n",
      "Rob Gronkowski left his filter behind at Super Bowl media day\n",
      "NBA Trade Rumors: Anthony Davis expected to inform teams that Lakers are his ‘preferred destination’\n",
      "What Are the Lakers' Options After Anthony Davis' Trade Request?\n",
      "Most bizarre Super Bowl LIII matchup: Bill Belichick vs. comics\n",
      "New quantum system could help design better spintronics\n",
      "Curiosity snaps a selfie before heading off to new adventures\n",
      "Nobel Prize Winner Reportedly Knew About Gene-Edited Babies Months Before It Was Announced\n",
      "Glacial melts in the Canadian Arctic reveal land that hasn’t been seen in more than 40,000 years\n",
      "Treating high blood pressure could reduce risk of memory issues, study finds\n",
      "Screen Time Might Cause Delays Because Kids Miss Out On Real Life\n",
      "Washington State Officials Declare State Of Emergency As Measles Outbreak Continues\n",
      "Washington is under a state of emergency as measles cases rise\n"
     ]
    }
   ],
   "source": [
    "from bs4 import BeautifulSoup as bs\n",
    "import requests\n",
    "\n",
    "# google news main page\n",
    "url = 'https://news.google.com/?hl=en-US&gl=US&ceid=US:en'\n",
    "\n",
    "r = requests.get(url)\n",
    "soup = bs(r.text)\n",
    "\n",
    "for i in soup.find_all('div', class_='ZulkBc qNiaOd'):\n",
    "    try:\n",
    "        print(i.find('h3').find('span').get_text())\n",
    "    except AttributeError: # eliminates 'h4' possibilities\n",
    "        continue"
   ]
  },
  {
   "cell_type": "code",
   "execution_count": 88,
   "metadata": {},
   "outputs": [
    {
     "name": "stdout",
     "output_type": "stream",
     "text": [
      "Apple earnings; LVMH reports; Huawei charged\n",
      "--------------------\n",
      "'Huge selling point' for Kamala Harris is that she can go ‘crowd for crowd’ with Trump: Stirewalt\n",
      "--------------------\n",
      "Democrats’ 2020 presidential contest is wide open as danger mounts for Trump, new Washington Post-ABC News poll shows\n",
      "--------------------\n",
      "Our Dreams of Peace: Envisioning an End to War in Afghanistan\n",
      "--------------------\n",
      "PG&E files for bankruptcy after California wildfires\n",
      "--------------------\n",
      "Four Police Officers Shot in Houston Drug Raid\n",
      "--------------------\n",
      "Polar Vortex Clobbers Midwest With Record-Breaking Cold\n",
      "--------------------\n",
      "El Chapo too short to beat up rival gangsters: lawyer\n",
      "--------------------\n",
      "Brexit vote: Lawmakers try to force clarity over Theresa May's EU exit deal\n",
      "--------------------\n",
      "Guaido says he's still willing to consider amnesty for Maduro, military\n",
      "--------------------\n",
      "Pakistan blasphemy case ends with Aasia Bibi acquittal upheld, Christian woman free to leave today\n",
      "--------------------\n",
      "Palestinian PM, government resign\n",
      "--------------------\n",
      "Verizon reports mixed results for Q4 2018\n",
      "--------------------\n",
      "Fresh Fruit In 18 States Recalled Over Possible Listeria Risk\n",
      "--------------------\n",
      "Here comes the earnings report Apple warned about — here's what to watch\n",
      "--------------------\n",
      "Dow Jones Futures: Caterpillar, Nvidia, Apple's China Woes Put China Trade Talks In Focus\n",
      "--------------------\n",
      "Apple has disabled group FaceTime calls after it was humiliated on Data Privacy Day by a bug that lets people listen in on you\n",
      "--------------------\n",
      "Samsung finally launched phones with notches, but didn't copy Apple's design\n",
      "--------------------\n",
      "Jaybird's wireless Run XT earbuds are fully waterproof too\n",
      "--------------------\n",
      "Apple and Aetna are teaming up on a new app to help track and reward healthy behavior\n",
      "--------------------\n",
      "Blac Chyna Says Rob Kardashian Was Jealous She Was in Hawaii With Kid Buu\n",
      "--------------------\n",
      "Leaving Neverland Director Responds to Michael Jackson Estate Criticism\n",
      "--------------------\n",
      "The Bachelor 2019 Recap, Week 4: Caelynn's Important Conversation | The Bachelor\n",
      "--------------------\n",
      "Jeff Bridges returns as The Dude… for new Super Bowl ad\n",
      "--------------------\n",
      "Tom Brady Belichick McDaniels offense defense history vs Wade Phillips defenses\n",
      "--------------------\n",
      "What Are the Lakers' Options After Anthony Davis' Trade Request?\n",
      "--------------------\n",
      "Most bizarre Super Bowl LIII matchup: Bill Belichick vs. comics\n",
      "--------------------\n",
      "What top Anthony Davis trade contenders can actually offer\n",
      "--------------------\n",
      "Curiosity snaps a selfie before heading off to new adventures\n",
      "--------------------\n",
      "Nobel Prize Winner Reportedly Knew About Gene-Edited Babies Months Before It Was Announced\n",
      "--------------------\n",
      "Engineers translate brain signals directly into speech\n",
      "--------------------\n",
      "Glacial melts in the Canadian Arctic reveal land that hasn’t been seen in more than 40,000 years\n",
      "--------------------\n",
      "Washington State Officials Declare State Of Emergency As Measles Outbreak Continues\n",
      "--------------------\n",
      "Treating high blood pressure could reduce risk of memory issues, study finds\n",
      "--------------------\n",
      "Screen Time Might Cause Delays Because Kids Miss Out On Real Life\n",
      "--------------------\n",
      "Washington is under a state of emergency as measles cases rise\n",
      "--------------------\n"
     ]
    }
   ],
   "source": [
    "url2 = 'https://news.google.com/?hl=en-US&gl=US&ceid=US:en'\n",
    "soup2 = bs(requests.get(url2).text)\n",
    "\n",
    "x = soup2.find_all('div', class_='ZulkBc qNiaOd')\n",
    "\n",
    "for news in x:\n",
    "    try:\n",
    "        print(news.h3.a.span.get_text())\n",
    "        print('-'*20)\n",
    "    except AttributeError:\n",
    "        continue"
   ]
  },
  {
   "cell_type": "markdown",
   "metadata": {},
   "source": [
    "### 11. Write a Python program to check the sum of three elements (each from an array) from three arrays is equal to a target value. Print all those three-element combinations. Go to the editor\n",
    "\n",
    "Sample data: <br>\n",
    "X = [10, 20, 20, 20] <br>\n",
    "Y = [10, 20, 30, 40] <br>\n",
    "Z = [10, 30, 40, 20] <br>\n",
    "target = 70 <br>"
   ]
  },
  {
   "cell_type": "code",
   "execution_count": 136,
   "metadata": {},
   "outputs": [
    {
     "name": "stdout",
     "output_type": "stream",
     "text": [
      "[[10 20 40]\n",
      " [10 30 30]\n",
      " [10 40 20]\n",
      " [20 10 40]\n",
      " [20 20 30]\n",
      " [20 30 20]\n",
      " [20 40 10]]\n"
     ]
    }
   ],
   "source": [
    "import numpy as np\n",
    "import itertools\n",
    "\n",
    "x = [10, 20, 20, 20]\n",
    "y = [10, 20, 30, 40]\n",
    "z = [10, 30, 40, 20]\n",
    "\n",
    "target = 70\n",
    "\n",
    "''' Return coordinate matrices from coordinate vectors.\n",
    "    This provides all possible combinations of the three\n",
    "    lists. Before reshape we transposed the matrix. The\n",
    "    -1 in reshape acts as a placeholder for numpy to figure\n",
    "    the shape out itself to be compatible with original matrix. '''\n",
    "mesh = np.array(np.meshgrid(x, y, z)).T.reshape(-1, 3)\n",
    "vals = [i for i in mesh if sum(i) == target]\n",
    "\n",
    "# three element combiantions\n",
    "print(np.unique(vals, axis=0))"
   ]
  },
  {
   "cell_type": "markdown",
   "metadata": {},
   "source": [
    "### 12. Write a Python program to create all possible permutations from a given collection of distinct numbers."
   ]
  },
  {
   "cell_type": "code",
   "execution_count": 141,
   "metadata": {},
   "outputs": [
    {
     "data": {
      "text/plain": [
       "720"
      ]
     },
     "execution_count": 141,
     "metadata": {},
     "output_type": "execute_result"
    }
   ],
   "source": [
    "import itertools\n",
    "\n",
    "nums = [i for i in range(6)]\n",
    "perms = [i for i in itertools.permutations(nums)]\n",
    "len(perms)"
   ]
  },
  {
   "cell_type": "markdown",
   "metadata": {},
   "source": [
    "### 13. Write a Python program to get all possible two digit letter combinations from a digit (1 to 9) string."
   ]
  },
  {
   "cell_type": "code",
   "execution_count": 162,
   "metadata": {},
   "outputs": [],
   "source": [
    "import itertools\n",
    "\n",
    "def num_combs(num):\n",
    "    string_maps = {\n",
    "        \"1\": \"abc\",\n",
    "        \"2\": \"def\",\n",
    "        \"3\": \"ghi\",\n",
    "        \"4\": \"jkl\",\n",
    "        \"5\": \"mno\",\n",
    "        \"6\": \"pqrs\",\n",
    "        \"7\": \"tuv\",\n",
    "        \"8\": \"wxy\",\n",
    "        \"9\": \"z\"}\n",
    "    \n",
    "    strings = string_maps[str(num)[0]] + string_maps[str(num)[1]]\n",
    "    combs = [\"\".join(i) for i in itertools.combinations(strings, 2)]\n",
    "    print(combs)"
   ]
  },
  {
   "cell_type": "code",
   "execution_count": 163,
   "metadata": {},
   "outputs": [
    {
     "name": "stdout",
     "output_type": "stream",
     "text": [
      "['jk', 'jl', 'jt', 'ju', 'jv', 'kl', 'kt', 'ku', 'kv', 'lt', 'lu', 'lv', 'tu', 'tv', 'uv']\n"
     ]
    }
   ],
   "source": [
    "num_combs(47)"
   ]
  },
  {
   "cell_type": "markdown",
   "metadata": {},
   "source": [
    "### 16. Write a Python program to get the third side of right angled triangle from two given sides."
   ]
  },
  {
   "cell_type": "code",
   "execution_count": 227,
   "metadata": {},
   "outputs": [],
   "source": [
    "from sympy.solvers import solve\n",
    "from sympy import symbols\n",
    "\n",
    "init_printing()\n",
    "\n",
    "def third_side(cat1=None, cat2=None, hypo=None):\n",
    "    '''Find the missing side of right triangle.'''\n",
    "    \n",
    "    if cat1 == cat2 == hypo == None:\n",
    "        return print('Insert two arguments.')\n",
    "    \n",
    "    # variables\n",
    "    args = {'cat1' : cat1, 'cat2' : cat2, 'hypo' : hypo}\n",
    "    \n",
    "    # which are the symbols\n",
    "    cat1, cat2, hypo = symbols('cat1, cat2, hypo')\n",
    "    \n",
    "    # equation\n",
    "    pyth_eq = cat1**2 + cat2**2 - hypo**2\n",
    "    \n",
    "    # solution\n",
    "    solution = solve(pyth_eq.subs(args), dict=True)\n",
    "    print(solution)"
   ]
  },
  {
   "cell_type": "code",
   "execution_count": 228,
   "metadata": {},
   "outputs": [
    {
     "name": "stdout",
     "output_type": "stream",
     "text": [
      "[{cat1: -4}, {cat1: 4}]\n"
     ]
    }
   ],
   "source": [
    "third_side(cat2 = 3, hypo=5)"
   ]
  },
  {
   "cell_type": "code",
   "execution_count": 226,
   "metadata": {},
   "outputs": [
    {
     "data": {
      "image/png": "[encoded data removed]",
      "text/latex": [
       "$$\\left\\{2 n \\pi + \\frac{\\pi}{2}\\; |\\; n \\in \\mathbb{Z}\\right\\}$$"
      ],
      "text/plain": [
       "⎧        π        ⎫\n",
       "⎨2⋅n⋅π + ─ | n ∊ ℤ⎬\n",
       "⎩        2        ⎭"
      ]
     },
     "execution_count": 226,
     "metadata": {},
     "output_type": "execute_result"
    }
   ],
   "source": [
    "from sympy import *\n",
    "\n",
    "#  automatically enable the best printer available\n",
    "init_printing()\n",
    "\n",
    "x = Symbol('x')\n",
    "solveset(sin(x) - 1, x, domain=S.Reals)"
   ]
  },
  {
   "cell_type": "markdown",
   "metadata": {},
   "source": [
    "### 17. Write a Python program to get all strobogrammatic numbers that are of length n."
   ]
  },
  {
   "cell_type": "code",
   "execution_count": 306,
   "metadata": {},
   "outputs": [],
   "source": [
    "def strobogrammatic_numbers(n):\n",
    "    '''Prints the list of n length strobogrammatic numbers.'''\n",
    "    \n",
    "    mirror = {\"6\" : '9', \n",
    "              \"9\" : '6'}\n",
    "    \n",
    "    exclude = '23457'\n",
    "    \n",
    "    strobos = []\n",
    "    if n == 0:\n",
    "        return print([])\n",
    "    elif n == 1:\n",
    "        return print(['0', '1', '8'])\n",
    "    else:\n",
    "        for number in range(10**(n-1), 10**n): \n",
    "            if any(i in str(number) for i in exclude):\n",
    "                continue\n",
    "            else:\n",
    "                n = \"\".join([mirror[k] if k in mirror else k for k in str(number)])[::-1]\n",
    "                if int(n) == number:\n",
    "                    strobos.append(number)\n",
    "    print(strobos)"
   ]
  },
  {
   "cell_type": "code",
   "execution_count": 307,
   "metadata": {},
   "outputs": [
    {
     "name": "stdout",
     "output_type": "stream",
     "text": [
      "[]\n",
      "['0', '1', '8']\n",
      "[11, 69, 88, 96]\n",
      "[101, 111, 181, 609, 619, 689, 808, 818, 888, 906, 916, 986]\n",
      "[1001, 1111, 1691, 1881, 1961, 6009, 6119, 6699, 6889, 6969, 8008, 8118, 8698, 8888, 8968, 9006, 9116, 9696, 9886, 9966]\n"
     ]
    }
   ],
   "source": [
    "for i in range(0,5):\n",
    "    strobogrammatic_numbers(i)"
   ]
  },
  {
   "cell_type": "markdown",
   "metadata": {},
   "source": [
    "### 20. Write a Python program to find the number of zeros at the end of a factorial of a given positive number."
   ]
  },
  {
   "cell_type": "code",
   "execution_count": 7,
   "metadata": {},
   "outputs": [],
   "source": [
    "from time import time\n",
    "import math\n",
    "\n",
    "# create a decorator for timing function execution time\n",
    "def timer(func):\n",
    "    def wrapper(*a, **kw):\n",
    "        b4 = time()\n",
    "        rv = func(*a, **kw) # rv : return value\n",
    "        aft = time()\n",
    "        \n",
    "        # converting to appropriate second prefix\n",
    "        units = ['s', 'ms', 'μs', 'ns', 'ps']\n",
    "        n = float(aft-b4)\n",
    "        index = max(0, min(len(units) - 1, \n",
    "                           int(abs(math.floor(0 if n == 0 else math.log10(abs(n)) / 3)))))\n",
    "        print('\\nElapsed time: {:.2f} {}'.format(n * 10 ** (index * 3), units[index]))\n",
    "        return rv\n",
    "    return wrapper"
   ]
  },
  {
   "cell_type": "code",
   "execution_count": 41,
   "metadata": {},
   "outputs": [],
   "source": [
    "import math\n",
    "\n",
    "@timer\n",
    "def trailing_zeros(numb):\n",
    "    '''Print factorial of the number and the number\n",
    "    of its trailing zeros.'''\n",
    "    \n",
    "    x = math.factorial(numb)\n",
    "    zeros = 0\n",
    "    for i in range(len(str(x))):\n",
    "        y = str(x)[::-1]\n",
    "        if y[i] == '0':\n",
    "            zeros += 1\n",
    "        else:\n",
    "            break\n",
    "            \n",
    "    print('{}! = {}'.format(numb, x))\n",
    "    print('Trailing zeros count:', zeros)"
   ]
  },
  {
   "cell_type": "code",
   "execution_count": 51,
   "metadata": {},
   "outputs": [
    {
     "name": "stdout",
     "output_type": "stream",
     "text": [
      "40! = 815915283247897734345611269596115894272000000000\n",
      "Trailing zeros count: 9\n",
      "Elapsed time: 161.17 μs\n"
     ]
    }
   ],
   "source": [
    "trailing_zeros(40)"
   ]
  },
  {
   "cell_type": "markdown",
   "metadata": {},
   "source": [
    "### 21. Write a Python program to find the number of notes (Sample of notes: 10, 20, 50, 100, 200 and 500 ) against an given amount. \n",
    "Range - Number of notes(n) : n (1 = n = 1000000)."
   ]
  },
  {
   "cell_type": "code",
   "execution_count": 72,
   "metadata": {},
   "outputs": [],
   "source": [
    "@timer\n",
    "def noting(amount):\n",
    "    '''Prints the number of notes equivalent to specified amount.'''\n",
    "    notes = [10, 20, 50, 100, 200, 500]\n",
    "    dct = {}\n",
    "    for note in notes[::-1]:\n",
    "        if amount == 0:\n",
    "            break\n",
    "        else:\n",
    "            x = amount // note\n",
    "            amount = amount % note\n",
    "            dct[str(note)] = x\n",
    "    for k, v in dct.items():\n",
    "        if v != 0:\n",
    "            print(k, ':', v)\n",
    "        else:\n",
    "            continue"
   ]
  },
  {
   "cell_type": "code",
   "execution_count": 75,
   "metadata": {},
   "outputs": [
    {
     "name": "stdout",
     "output_type": "stream",
     "text": [
      "500 : 227\n",
      "200 : 2\n",
      "20 : 1\n",
      "10 : 1\n",
      "\n",
      "Elapsed time: 388.15 μs\n"
     ]
    }
   ],
   "source": [
    "noting(113930)"
   ]
  },
  {
   "cell_type": "markdown",
   "metadata": {},
   "source": [
    "### 22. Write a Python program to create a sequence where the first four members of the sequence are equal to one, and each successive term of the sequence is equal to the sum of the four previous ones. Find the Nth member of the sequence."
   ]
  },
  {
   "cell_type": "code",
   "execution_count": 79,
   "metadata": {},
   "outputs": [],
   "source": [
    "@timer\n",
    "def find_nth(n):\n",
    "    '''Only print nth element. First element has index 1 (not 0)'''\n",
    "    \n",
    "    if n in range(1, 5):\n",
    "        print('1')\n",
    "    else:\n",
    "        print(2 ** (n - 3))"
   ]
  },
  {
   "cell_type": "code",
   "execution_count": 87,
   "metadata": {},
   "outputs": [
    {
     "name": "stdout",
     "output_type": "stream",
     "text": [
      "4096\n",
      "\n",
      "Elapsed time: 105.14 μs\n"
     ]
    }
   ],
   "source": [
    "find_nth(15)"
   ]
  },
  {
   "cell_type": "code",
   "execution_count": 148,
   "metadata": {},
   "outputs": [],
   "source": [
    "@timer\n",
    "def seq_and_nth(n):\n",
    "    seq = [1,1,1,1]\n",
    "    if n < 5 and n > 0:\n",
    "        print(\"Sequence:\\n\", seq)\n",
    "        print(\"\\n{}th element is 1\".format(n))\n",
    "    else:\n",
    "        for nr in range(1, n - 3):\n",
    "            seq.append(sum(seq[-4:]))\n",
    "    print(\"Sequence:\\n\", seq)\n",
    "    print(\"\\n{}th element is {}\".format(n, seq[-1]))"
   ]
  },
  {
   "cell_type": "code",
   "execution_count": 149,
   "metadata": {},
   "outputs": [
    {
     "name": "stdout",
     "output_type": "stream",
     "text": [
      "Sequence:\n",
      " [1, 1, 1, 1, 4, 7, 13, 25, 49, 94, 181, 349, 673, 1297, 2500, 4819]\n",
      "\n",
      "16th element is 4819\n",
      "\n",
      "Elapsed time: 243.19 μs\n"
     ]
    }
   ],
   "source": [
    "seq_and_nth(16)"
   ]
  },
  {
   "cell_type": "markdown",
   "metadata": {},
   "source": [
    "### 23. Write a Python program that accept a positive number and subtract from this number the sum of its digits and so on. Continues this operation until the number is positive."
   ]
  },
  {
   "cell_type": "code",
   "execution_count": 104,
   "metadata": {},
   "outputs": [],
   "source": [
    "from time import sleep\n",
    "\n",
    "@timer\n",
    "def numb_sub(number):\n",
    "    '''Prints last remaining positive number from the sequence.'''\n",
    "    \n",
    "    print(number)\n",
    "    while True:\n",
    "        digit_sum = sum([int(digit) for digit in str(number)])\n",
    "        number -= digit_sum\n",
    "        if number <= 0:\n",
    "            break\n",
    "        else:\n",
    "            print(number)"
   ]
  },
  {
   "cell_type": "code",
   "execution_count": 107,
   "metadata": {},
   "outputs": [
    {
     "name": "stdout",
     "output_type": "stream",
     "text": [
      "78\n",
      "63\n",
      "54\n",
      "45\n",
      "36\n",
      "27\n",
      "18\n",
      "9\n",
      "\n",
      "Elapsed time: 401.02 μs\n"
     ]
    }
   ],
   "source": [
    "numb_sub(78)"
   ]
  },
  {
   "cell_type": "markdown",
   "metadata": {},
   "source": [
    "### 24. Write a Python program to find the number of divisors of a given integer is even or odd. "
   ]
  },
  {
   "cell_type": "code",
   "execution_count": 18,
   "metadata": {},
   "outputs": [],
   "source": [
    "@timer\n",
    "def even_odd_divisors(n):\n",
    "    nr_divs = len([i for i in range(2, n // 2) if n % i == 0 ])\n",
    "    if nr_divs % 2 == 0 and nr_divs != 0:\n",
    "        print('{} has even ({}) number of divisors.'.format(n, nr_divs))\n",
    "    else:\n",
    "        print('{} has odd ({}) number of divisors.'.format(n, nr_divs))"
   ]
  },
  {
   "cell_type": "code",
   "execution_count": 19,
   "metadata": {},
   "outputs": [
    {
     "name": "stdout",
     "output_type": "stream",
     "text": [
      "53 has odd (0) number of divisors.\n",
      "\n",
      "Elapsed time: 73.91 μs\n"
     ]
    }
   ],
   "source": [
    "even_odd_divisors(53)"
   ]
  },
  {
   "cell_type": "markdown",
   "metadata": {},
   "source": [
    "### 25. Write a Python program to find the digits which are absent in a given mobile number."
   ]
  },
  {
   "cell_type": "code",
   "execution_count": 34,
   "metadata": {},
   "outputs": [],
   "source": [
    "@timer\n",
    "def absent_digits(number):\n",
    "    x= [i for i in range(0, 10) if str(i) not in set(str(number))]\n",
    "    print(x)"
   ]
  },
  {
   "cell_type": "code",
   "execution_count": 35,
   "metadata": {},
   "outputs": [
    {
     "name": "stdout",
     "output_type": "stream",
     "text": [
      "[0, 2, 3, 8]\n",
      "\n",
      "Elapsed time: 98.71 μs\n"
     ]
    }
   ],
   "source": [
    "absent_digits(56471979)"
   ]
  },
  {
   "cell_type": "markdown",
   "metadata": {},
   "source": [
    "## 26. Write a Python program to compute the summation of the absolute difference of all distinct pairs in an given array (non-decreasing order). Go to the editor\n",
    "\n",
    "Sample array: [1, 2, 3] <br>\n",
    "Then all the distinct pairs will be: <br>\n",
    "1 2 <br>\n",
    "1 3 <br>\n",
    "2 3 <br>"
   ]
  },
  {
   "cell_type": "code",
   "execution_count": 7,
   "metadata": {},
   "outputs": [
    {
     "name": "stdout",
     "output_type": "stream",
     "text": [
      "[1, 4, 5]\n",
      "[3, 4, 1]\n",
      "8\n"
     ]
    }
   ],
   "source": [
    "import itertools\n",
    "\n",
    "arr = [1, 4, 5]\n",
    "# produce all combinations, no duplicates\n",
    "combs = itertools.combinations(arr, 2)\n",
    "\n",
    "abs_dif = [abs(i[0] - i[1]) for i in combs]\n",
    "sum_abs_dif = sum(abs_dif)\n",
    "\n",
    "print('{}\\n{}\\n{}'.format(arr, abs_dif, sum_abs_dif))"
   ]
  },
  {
   "cell_type": "markdown",
   "metadata": {},
   "source": [
    "### 27. Write a Python program to find the type of the progression (arithmetic progression/geometric progression) and the next successive member of a given three successive members of a sequence.\n",
    "\n",
    "According to Wikipedia, an arithmetic progression (AP) is a sequence of numbers such that the difference of any two successive members of the sequence is a constant. For instance, the sequence 3, 5, 7, 9, 11, 13, . . . is an arithmetic progression with common difference 2. For this problem, we will limit ourselves to arithmetic progression whose common difference is a non-zero integer.\n",
    "On the other hand, a geometric progression (GP) is a sequence of numbers where each term after the first is found by multiplying the previous one by a fixed non-zero number called the common ratio. For example, the sequence 2, 6, 18, 54, . . . is a geometric progression with common ratio 3. For this problem, we will limit ourselves to geometric progression whose common ratio is a non-zero integer."
   ]
  },
  {
   "cell_type": "code",
   "execution_count": 8,
   "metadata": {},
   "outputs": [
    {
     "data": {
      "text/plain": [
       "[162, 54, 18, 6, 2]"
      ]
     },
     "execution_count": 8,
     "metadata": {},
     "output_type": "execute_result"
    }
   ],
   "source": []
  },
  {
   "cell_type": "code",
   "execution_count": null,
   "metadata": {},
   "outputs": [],
   "source": []
  }
 ],
 "metadata": {
  "kernelspec": {
   "display_name": "Python 3",
   "language": "python",
   "name": "python3"
  },
  "language_info": {
   "codemirror_mode": {
    "name": "ipython",
    "version": 3
   },
   "file_extension": ".py",
   "mimetype": "text/x-python",
   "name": "python",
   "nbconvert_exporter": "python",
   "pygments_lexer": "ipython3",
   "version": "3.7.2"
  }
 },
 "nbformat": 4,
 "nbformat_minor": 2
}
