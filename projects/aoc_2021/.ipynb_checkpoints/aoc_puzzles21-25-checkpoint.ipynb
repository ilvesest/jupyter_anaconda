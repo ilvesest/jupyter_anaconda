{
 "cells": [
  {
   "cell_type": "markdown",
   "id": "8dab6521",
   "metadata": {},
   "source": [
    "<center><font size=\"20\">Aoc Puzzles 21-25</font></center>"
   ]
  },
  {
   "cell_type": "code",
   "execution_count": 1,
   "id": "6e443bdd",
   "metadata": {},
   "outputs": [],
   "source": [
    "import pandas as pd\n",
    "import numpy as np"
   ]
  },
  {
   "cell_type": "markdown",
   "id": "cc40739e",
   "metadata": {},
   "source": [
    "# Puzzle 25\n",
    "## Part I\n",
    "\n",
    "--- Day 25: Sea Cucumber ---\n",
    "This is it: the bottom of the ocean trench, the last place the sleigh keys could be. Your submarine's experimental antenna **still isn't boosted enough** to detect the keys, but they **must** be here. All you need to do is **reach the seafloor** and find them.\n",
    "\n",
    "At least, you'd touch down on the seafloor if you could; unfortunately, it's completely covered by two large herds of sea cucumbers, and there isn't an open space large enough for your submarine.\n",
    "\n",
    "You suspect that the Elves must have done this before, because just then you discover the phone number of a deep-sea marine biologist on a handwritten note taped to the wall of the submarine's cockpit.\n",
    "\n",
    "\"Sea cucumbers? Yeah, they're probably hunting for food. But don't worry, they're predictable critters: they move in perfectly straight lines, only moving forward when there's space to do so. They're actually quite polite!\"\n",
    "\n",
    "You explain that you'd like to predict when you could land your submarine.\n",
    "\n",
    "\"Oh that's easy, they'll eventually pile up and leave enough space for-- wait, did you say submarine? And the only place with that many sea cucumbers would be at the very bottom of the Mariana--\" You hang up the phone.\n",
    "\n",
    "There are two herds of sea cucumbers sharing the same region; one always moves **east (>)**, while the other always moves **south (v)**. Each location can contain at most one sea cucumber; the remaining locations are **empty (.)**. The submarine helpfully generates a map of the situation (your puzzle input). For example:\n",
    "<pre>\n",
    "v...>>.vv>\n",
    ".vv>>.vv..\n",
    ">>.>v>...v\n",
    ">>v>>.>.v.\n",
    "v>v.vv.v..\n",
    ">.>>..v...\n",
    ".vv..>.>v.\n",
    "v.v..>>v.v\n",
    "....v..v.></pre>\n",
    "\n",
    "Every **step**, the sea cucumbers in the east-facing herd attempt to move forward one location, then the sea cucumbers in the south-facing herd attempt to move forward one location. When a herd moves forward, every sea cucumber in the herd first simultaneously considers whether there is a sea cucumber in the adjacent location it's facing (even another sea cucumber facing the same direction), and then every sea cucumber facing an empty location simultaneously moves into that location.\n",
    "\n",
    "So, in a situation like this:\n",
    "<pre>\n",
    "...>>>>>...</pre>\n",
    "\n",
    "After one step, only the rightmost sea cucumber would have moved:\n",
    "<pre>\n",
    "...>>>>.>..</pre>\n",
    "\n",
    "After the next step, two sea cucumbers move:\n",
    "<pre>\n",
    "...>>>.>.>.</pre>\n",
    "\n",
    "During a single step, the east-facing herd moves first, then the south-facing herd moves. So, given this situation:\n",
    "<pre>\n",
    "..........\n",
    ".>v....v..\n",
    ".......>..\n",
    "..........</pre>\n",
    "\n",
    "After a single step, of the sea cucumbers on the left, only the south-facing sea cucumber has moved (as it wasn't out of the way in time for the east-facing cucumber on the left to move), but both sea cucumbers on the right have moved (as the east-facing sea cucumber moved out of the way of the south-facing sea cucumber):\n",
    "<pre>\n",
    "..........\n",
    ".>........\n",
    "..v....v>.\n",
    "..........</pre>\n",
    "\n",
    "Due to strong water currents in the area, sea cucumbers that move off the right edge of the map appear on the left edge, and sea cucumbers that move off the bottom edge of the map appear on the top edge. Sea cucumbers always check whether their destination location is empty before moving, even if that destination is on the opposite side of the map:\n",
    "<pre>\n",
    "Initial state:\n",
    "...>...\n",
    ".......\n",
    "......>\n",
    "v.....>\n",
    "......>\n",
    ".......\n",
    "..vvv..\n",
    "\n",
    "After 1 step:\n",
    "..vv>..\n",
    ".......\n",
    ">......\n",
    "v.....>\n",
    ">......\n",
    ".......\n",
    "....v..\n",
    "\n",
    "After 2 steps:\n",
    "....v>.\n",
    "..vv...\n",
    ".>.....\n",
    "......>\n",
    "v>.....\n",
    ".......\n",
    ".......\n",
    "\n",
    "After 3 steps:\n",
    "......>\n",
    "..v.v..\n",
    "..>v...\n",
    ">......\n",
    "..>....\n",
    "v......\n",
    ".......\n",
    "\n",
    "After 4 steps:\n",
    ">......\n",
    "..v....\n",
    "..>.v..\n",
    ".>.v...\n",
    "...>...\n",
    ".......\n",
    "v......</pre>\n",
    "\n",
    "To find a safe place to land your submarine, the sea cucumbers need to stop moving. Again consider the first example:\n",
    "<pre>\n",
    "Initial state:\n",
    "v...>>.vv>\n",
    ".vv>>.vv..\n",
    ">>.>v>...v\n",
    ">>v>>.>.v.\n",
    "v>v.vv.v..\n",
    ">.>>..v...\n",
    ".vv..>.>v.\n",
    "v.v..>>v.v\n",
    "....v..v.>\n",
    "\n",
    "After 1 step:\n",
    "....>.>v.>\n",
    "v.v>.>v.v.\n",
    ">v>>..>v..\n",
    ">>v>v>.>.v\n",
    ".>v.v...v.\n",
    "v>>.>vvv..\n",
    "..v...>>..\n",
    "vv...>>vv.\n",
    ">.v.v..v.v\n",
    "\n",
    "After 2 steps:\n",
    ">.v.v>>..v\n",
    "v.v.>>vv..\n",
    ">v>.>.>.v.\n",
    ">>v>v.>v>.\n",
    ".>..v....v\n",
    ".>v>>.v.v.\n",
    "v....v>v>.\n",
    ".vv..>>v..\n",
    "v>.....vv.\n",
    "\n",
    "\n",
    "After 5 steps:\n",
    "vv>...>v>.\n",
    "v.v.v>.>v.\n",
    ">.v.>.>.>v\n",
    ">v>.>..v>>\n",
    "..v>v.v...\n",
    "..>.>>vvv.\n",
    ".>...v>v..\n",
    "..v.v>>v.v\n",
    "v.v.>...v.\n",
    "\n",
    "...\n",
    "\n",
    "After 10 steps:\n",
    "..>..>>vv.\n",
    "v.....>>.v\n",
    "..v.v>>>v>\n",
    "v>.>v.>>>.\n",
    "..v>v.vv.v\n",
    ".v.>>>.v..\n",
    "v.v..>v>..\n",
    "..v...>v.>\n",
    ".vv..v>vv.\n",
    "\n",
    "...\n",
    "\n",
    "After 57 steps:\n",
    "..>>v>vv..\n",
    "..v.>>vv..\n",
    "..>>v>>vv.\n",
    "..>>>>>vv.\n",
    "v......>vv\n",
    "v>v....>>v\n",
    "vvv.....>>\n",
    ">vv......>\n",
    ".>v.vv.v..\n",
    "\n",
    "After 58 steps:\n",
    "..>>v>vv..\n",
    "..v.>>vv..\n",
    "..>>v>>vv.\n",
    "..>>>>>vv.\n",
    "v......>vv\n",
    "v>v....>>v\n",
    "vvv.....>>\n",
    ">vv......>\n",
    ".>v.vv.v..</pre>\n",
    "\n",
    "In this example, the sea cucumbers stop moving after **58** steps.\n",
    "\n",
    "Find somewhere safe to land your submarine. **What is the first step on which no sea cucumbers move?**"
   ]
  },
  {
   "cell_type": "code",
   "execution_count": 47,
   "id": "9bae8bed",
   "metadata": {
    "code_folding": [
     0
    ]
   },
   "outputs": [
    {
     "name": "stdout",
     "output_type": "stream",
     "text": [
      "First step when no sea cucumbers move: 58\n"
     ]
    }
   ],
   "source": [
    "def move_herd(np_array, herd='>', n_moves=0):\n",
    "    \"\"\"Move herd, return moved layout and number of moves.\"\"\"\n",
    "\n",
    "    m, n = np_array.shape[0], np_array.shape[1]\n",
    "    new_arr = np_array.copy()\n",
    "    if herd == \">\":\n",
    "        for i in range(m):\n",
    "            for j in range(n):\n",
    "                if np_array[i,j] == herd:\n",
    "                    if j == n - 1:\n",
    "                        if np_array[i,0] == '.':\n",
    "                            new_arr[i,j] = '.'\n",
    "                            new_arr[i,0] = herd\n",
    "                            n_moves += 1\n",
    "                    else:\n",
    "                        if np_array[i,j+1] == '.':\n",
    "                            new_arr[i,j] = '.'\n",
    "                            new_arr[i,j+1] = herd\n",
    "                            n_moves += 1\n",
    "        return new_arr, n_moves\n",
    "    \n",
    "    elif herd == \"v\":\n",
    "        for i in range(m):\n",
    "            for j in range(n):\n",
    "                if np_array[i,j] == herd:\n",
    "                    if i == m - 1:\n",
    "                        if np_array[0,j] == '.':\n",
    "                            new_arr[i,j] = '.'\n",
    "                            new_arr[0,j] = herd\n",
    "                            n_moves += 1\n",
    "                    else:\n",
    "                        if np_array[i+1,j] == '.':\n",
    "                            new_arr[i,j] = '.'\n",
    "                            new_arr[i+1,j] = herd\n",
    "                            n_moves += 1\n",
    "        return new_arr, n_moves\n",
    "            \n",
    "def sea_cucumber(data_file):\n",
    "    \"\"\"\"\"\"\n",
    "    data = np.genfromtxt(data_file, delimiter=1, dtype=str)\n",
    "    \n",
    "    steps = 0\n",
    "    while True:\n",
    "        data, n_moves = move_herd(data, herd='>') # east herd \n",
    "        data, n_moves = move_herd(data, herd='v', n_moves=n_moves)        \n",
    "        steps += 1\n",
    "        \n",
    "        if n_moves == 0:\n",
    "            break\n",
    "            \n",
    "    print(f\"First step when no sea cucumbers move: {steps}\")\n",
    "\n",
    "sea_cucumber(\"data/pz25_test.txt\")"
   ]
  },
  {
   "cell_type": "code",
   "execution_count": 48,
   "id": "aeb76578",
   "metadata": {},
   "outputs": [
    {
     "name": "stdout",
     "output_type": "stream",
     "text": [
      "First step when no sea cucumbers move: 458\n"
     ]
    }
   ],
   "source": [
    "sea_cucumber(\"data/pz25.txt\")"
   ]
  },
  {
   "cell_type": "markdown",
   "id": "005c2dd7",
   "metadata": {},
   "source": [
    "## Part I 2.0\n",
    "Another way of fulfillign the task."
   ]
  },
  {
   "cell_type": "code",
   "execution_count": 25,
   "id": "c8bf1763",
   "metadata": {},
   "outputs": [
    {
     "name": "stdout",
     "output_type": "stream",
     "text": [
      "Cucumbers stop moving after 58 steps.\n"
     ]
    }
   ],
   "source": [
    "def v2(data_file):\n",
    "    \n",
    "    data = np.genfromtxt(data_file, dtype=str)\n",
    "    \n",
    "    count = 0\n",
    "    while True:\n",
    "        init = data.copy()\n",
    "        for herd in ('>', 'v'):\n",
    "            if herd == 'v': \n",
    "                data = [\"\".join(i) for i in zip(*data)]\n",
    "                    \n",
    "            data = [i+'.' if (i[0]=='.' and i[-1]==f'{herd}') else i+'x' for i in data]\n",
    "            data = np.char.replace(data,f\"{herd}.\", f\".{herd}\")\n",
    "            data = [i[:-1] if i[-1]=='x' else i[-1]+i[1:-1] for i in data]\n",
    "\n",
    "            if herd == 'v': \n",
    "                data = [\"\".join(i) for i in zip(*data)]\n",
    "\n",
    "        count += 1\n",
    "        if list(init) == data:\n",
    "            break\n",
    "            \n",
    "    print(f\"Cucumbers stop moving after {count} steps.\")\n",
    "v2(\"data/pz25_test.txt\")"
   ]
  },
  {
   "cell_type": "code",
   "execution_count": 26,
   "id": "840e886e",
   "metadata": {},
   "outputs": [
    {
     "name": "stdout",
     "output_type": "stream",
     "text": [
      "Cucumbers stop moving after 458 steps.\n"
     ]
    }
   ],
   "source": [
    "v2(\"data/pz25.txt\")"
   ]
  },
  {
   "cell_type": "code",
   "execution_count": null,
   "id": "446a7376",
   "metadata": {},
   "outputs": [],
   "source": []
  }
 ],
 "metadata": {
  "kernelspec": {
   "display_name": "Python 3 (ipykernel)",
   "language": "python",
   "name": "python3"
  },
  "language_info": {
   "codemirror_mode": {
    "name": "ipython",
    "version": 3
   },
   "file_extension": ".py",
   "mimetype": "text/x-python",
   "name": "python",
   "nbconvert_exporter": "python",
   "pygments_lexer": "ipython3",
   "version": "3.7.9"
  },
  "latex_envs": {
   "LaTeX_envs_menu_present": true,
   "autoclose": false,
   "autocomplete": true,
   "bibliofile": "biblio.bib",
   "cite_by": "apalike",
   "current_citInitial": 1,
   "eqLabelWithNumbers": true,
   "eqNumInitial": 1,
   "hotkeys": {
    "equation": "Ctrl-E",
    "itemize": "Ctrl-I"
   },
   "labels_anchors": false,
   "latex_user_defs": false,
   "report_style_numbering": false,
   "user_envs_cfg": false
  },
  "toc": {
   "base_numbering": 1,
   "nav_menu": {},
   "number_sections": true,
   "sideBar": true,
   "skip_h1_title": false,
   "title_cell": "Table of Contents",
   "title_sidebar": "Contents",
   "toc_cell": false,
   "toc_position": {},
   "toc_section_display": true,
   "toc_window_display": false
  },
  "varInspector": {
   "cols": {
    "lenName": 16,
    "lenType": 16,
    "lenVar": 40
   },
   "kernels_config": {
    "python": {
     "delete_cmd_postfix": "",
     "delete_cmd_prefix": "del ",
     "library": "var_list.py",
     "varRefreshCmd": "print(var_dic_list())"
    },
    "r": {
     "delete_cmd_postfix": ") ",
     "delete_cmd_prefix": "rm(",
     "library": "var_list.r",
     "varRefreshCmd": "cat(var_dic_list()) "
    }
   },
   "types_to_exclude": [
    "module",
    "function",
    "builtin_function_or_method",
    "instance",
    "_Feature"
   ],
   "window_display": false
  }
 },
 "nbformat": 4,
 "nbformat_minor": 5
}
