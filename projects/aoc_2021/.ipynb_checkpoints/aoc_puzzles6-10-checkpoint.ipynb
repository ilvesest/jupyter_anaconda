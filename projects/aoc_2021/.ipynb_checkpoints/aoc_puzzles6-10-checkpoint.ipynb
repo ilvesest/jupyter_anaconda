{
 "cells": [
  {
   "cell_type": "markdown",
   "id": "5627c3b4",
   "metadata": {},
   "source": [
    "**<center><font size=\"40\">Advent of Code 2021</font></center>**"
   ]
  },
  {
   "cell_type": "markdown",
   "id": "3771494b",
   "metadata": {},
   "source": [
    "# Puzzle 6\n",
    "## Part I\n",
    "\n",
    "--- Day 6: Lanternfish ---\n",
    "The sea floor is getting steeper. Maybe the sleigh keys got carried this way?\n",
    "\n",
    "\n",
    "A massive school of glowing lanternfish swims past. They must spawn quickly to reach such large numbers - maybe exponentially quickly? You should model their growth rate to be sure.\n",
    "\n",
    "\n",
    "Although you know nothing about this specific species of lanternfish, you make some guesses about their attributes. Surely, each lanternfish creates a new lanternfish once every 7 days.\n",
    "\n",
    "\n",
    "However, this process isn't necessarily synchronized between every lanternfish - one lanternfish might have 2 days left until it creates another lanternfish, while another might have 4. So, you can model each fish as a single number that represents **the number of days until it creates a new lanternfish**.\n",
    "\n",
    "\n",
    "Furthermore, you reason, a **new** lanternfish would surely need slightly longer before it's capable of producing more lanternfish: two more days for its first cycle.\n",
    "\n",
    "\n",
    "So, suppose you have a lanternfish with an internal timer value of 3:\n",
    "\n",
    "\n",
    "* After one day, its internal timer would become 2.\n",
    "* After another day, its internal timer would become 1.\n",
    "* After another day, its internal timer would become 0.\n",
    "* After another day, its internal timer would reset to 6, and it would create a **new** lanternfish with an internal timer of 8.\n",
    "* After another day, the first lanternfish would have an internal timer of 5, and the second lanternfish would have an internal timer of 7.\n",
    "\n",
    "\n",
    "A lanternfish that creates a new fish resets its timer to 6, **not** 7 (because 0 is included as a valid timer value). The new lanternfish starts with an internal timer of 8 and does not start counting down until the next day.\n",
    "\n",
    "\n",
    "Realizing what you're trying to do, the submarine automatically produces a list of the ages of several hundred nearby lanternfish (your puzzle input). For example, suppose you were given the following list:\n",
    "\n",
    "\n",
    "3,4,3,1,2\n",
    "This list means that the first fish has an internal timer of 3, the second fish has an internal timer of 4, and so on until the fifth fish, which has an internal timer of 2. Simulating these fish over several days would proceed as follows:\n",
    "\n",
    "\n",
    "Initial state: 3,4,3,1,2<br>\n",
    "After  1 day:  2,3,2,0,1<br>\n",
    "After  2 days: 1,2,1,6,0,8<br>\n",
    "After  3 days: 0,1,0,5,6,7,8<br>\n",
    "After  4 days: 6,0,6,4,5,6,7,8,8<br>\n",
    "After  5 days: 5,6,5,3,4,5,6,7,7,8<br>\n",
    "\n",
    "\n",
    "Each day, a 0 becomes a 6 and adds a new 8 to the end of the list, while each other number decreases by 1 if it was present at the start of the day.\n",
    "\n",
    "\n",
    "In this example, after 18 days, there are a total of 26 fish. After 80 days, there would be a total of 5934.\n",
    "\n",
    "\n",
    "Find a way to simulate lanternfish. **How many lanternfish would there be after 80 days?**"
   ]
  },
  {
   "cell_type": "code",
   "execution_count": 49,
   "id": "a9bdc76a",
   "metadata": {},
   "outputs": [
    {
     "name": "stdout",
     "output_type": "stream",
     "text": [
      "[1 1 3 5 3 1 1 4 1 1 5 2 4 3 1 1 3 1 1 5 5 1 3 2 5 4 1 1 5 1 4 2 1 4 2 1 4\n",
      " 4 1 5 1 4 4 1 1 5 1 5 1 5 1 1 1 5 1 2 5 1 1 3 2 2 2 1 4 1 1 2 4 1 3 1 2 1\n",
      " 3 5 2 3 5 1 1 4 3 3 5 1 5 3 1 2 3 4 1 1 5 4 1 3 4 4 1 2 4 4 1 1 3 5 3 1 2\n",
      " 2 5 1 4 1 3 3 3 3 1 1 2 1 5 3 4 5 1 5 2 5 3 2 1 4 2 1 1 1 4 1 2 1 2 2 4 5\n",
      " 5 5 4 1 4 1 4 2 3 2 3 1 1 2 3 1 1 1 5 2 2 5 3 1 4 1 2 1 1 5 3 1 4 5 1 4 2\n",
      " 1 1 5 1 5 4 1 5 5 2 3 1 3 5 1 1 1 1 3 1 1 4 1 5 2 1 1 3 5 1 1 4 2 1 2 5 2\n",
      " 5 1 1 1 2 3 5 5 1 4 3 2 2 3 2 1 1 4 1 3 5 2 3 1 1 5 1 3 5 1 1 5 5 3 1 3 3\n",
      " 1 2 3 1 5 1 3 2 1 3 1 1 2 3 5 3 5 5 4 3 1 5 1 1 2 3 2 2 1 1 2 1 4 1 2 3 3\n",
      " 3 1 3 5]\n"
     ]
    }
   ],
   "source": [
    "#read data into a numpy list\n",
    "import numpy as np\n",
    "import csv\n",
    "\n",
    "with open('data/pz06.txt', newline='') as f:\n",
    "    reader = csv.reader(f)\n",
    "    data = list(reader)\n",
    "\n",
    "pz6_data = np.array([int(i) for i in data[0]])\n",
    "print(pz6_data)"
   ]
  },
  {
   "cell_type": "code",
   "execution_count": 66,
   "id": "b5c1666c",
   "metadata": {},
   "outputs": [
    {
     "name": "stdout",
     "output_type": "stream",
     "text": [
      "Total of 361169 fish after 80 days\n"
     ]
    }
   ],
   "source": [
    "#create the list of fish after 80 Days\n",
    "fish_list = pz6_data.copy()\n",
    "n_days = 80\n",
    "days = 0\n",
    "while days < n_days:\n",
    "    n_0s = (fish_list == 0).sum()\n",
    "    if n_0s >=1:\n",
    "        fish_list -= 1\n",
    "        fish_list = np.where(fish_list<0, 6, fish_list)\n",
    "        fish_list = np.append(fish_list, [8] * n_0s)\n",
    "        days += 1\n",
    "    else:\n",
    "        fish_list -= 1\n",
    "        days += 1\n",
    "\n",
    "print(\"Total of %d fish after %d days\" % (len(fish_list), days))"
   ]
  },
  {
   "cell_type": "markdown",
   "id": "2242c6fd",
   "metadata": {},
   "source": [
    "## Part II\n",
    "--- Part Two ---\n",
    "Suppose the lanternfish live forever and have unlimited food and space. Would they take over the entire ocean?\n",
    "\n",
    "\n",
    "After 256 days in the example above, there would be a total of **26984457539** lanternfish!\n",
    "\n",
    "\n",
    "**How many lanternfish would there be after 256 days?**"
   ]
  },
  {
   "cell_type": "markdown",
   "id": "9d0857c3",
   "metadata": {},
   "source": [
    "We can't approach this problem the same way we did before since we're going to run out of memory. Instead of actually appending 8-s to a list we can just count how many timer 1, timer 2, timer 8 fish are there - creating a histogram!\n",
    "\n",
    "In our list we're following total number of certain fish:\n",
    "\n",
    "[0,1,2,3,4,5,6,7,8]\n",
    "\n",
    "Since we have 9 different fish we only need a list of lenth 9. For example, if we had fish: [3,4,3,1,2] we can represent it by counting each as:\n",
    "\n",
    "* 0 - 0 fish\n",
    "* 1 - 1 fish\n",
    "* 1 - 2 fish\n",
    "* 2 - 3 fish\n",
    "* 1 - 4 fish\n",
    "* 0 - 5 fish\n",
    "* 0 - 6 fish\n",
    "* 0 - 7 fish\n",
    "* 0 - 8 fish\n",
    "\n",
    "resulting:\n",
    "\n",
    "[0,1,1,2,1,0,0,0,0]\n",
    "\n",
    "When a day passes, we just shift all the numbers to the left and **add** first element to the 6th element since that many new 6 will be now and replace 0-th element with 9-th element."
   ]
  },
  {
   "cell_type": "code",
   "execution_count": 63,
   "id": "c02ac678",
   "metadata": {},
   "outputs": [],
   "source": [
    "from collections import Counter\n",
    "#data structure in list that counts number of fishes:\n",
    "#[0,1,2,3,4,5,6,7,8]\n",
    "# test list [3,4,3,1,2] -->[ 0, 1, 1, 2, 1, 0, 0, 0, 0]\n",
    "#test_list = np.array([0, 1, 1, 2, 1, 0, 0, 0, 0])\n",
    "\n",
    "def n_lanternfish(array, n_days):\n",
    "    #create the numpy array for the loop\n",
    "    f_list = np.zeros(9)\n",
    "    \n",
    "    #find frequency of the vlaues\n",
    "    freqs = dict(Counter(array))\n",
    "    for k,v in freqs.items():\n",
    "        f_list[k] = v\n",
    "    \n",
    "    for i in range(n_days):\n",
    "        f_list[7] += f_list[0]\n",
    "        f_list = np.append(f_list[1:], f_list[0])\n",
    "\n",
    "    print(\"Total of %d after %d days.\" % (f_list.sum(), n_days))"
   ]
  },
  {
   "cell_type": "code",
   "execution_count": 65,
   "id": "6554e977",
   "metadata": {},
   "outputs": [
    {
     "name": "stdout",
     "output_type": "stream",
     "text": [
      "Total of 26984457539 after 256 days.\n"
     ]
    }
   ],
   "source": [
    "#test run\n",
    "n_lanternfish([3,4,3,1,2], 256)"
   ]
  },
  {
   "cell_type": "code",
   "execution_count": 68,
   "id": "7e685f3a",
   "metadata": {},
   "outputs": [
    {
     "name": "stdout",
     "output_type": "stream",
     "text": [
      "Total of 1634946868992 after 256 days.\n"
     ]
    }
   ],
   "source": [
    "#n lanternfish after 256 days\n",
    "n_lanternfish(pz6_data, 256)"
   ]
  }
 ],
 "metadata": {
  "kernelspec": {
   "display_name": "Python 3",
   "language": "python",
   "name": "python3"
  },
  "language_info": {
   "codemirror_mode": {
    "name": "ipython",
    "version": 3
   },
   "file_extension": ".py",
   "mimetype": "text/x-python",
   "name": "python",
   "nbconvert_exporter": "python",
   "pygments_lexer": "ipython3",
   "version": "3.7.9"
  },
  "latex_envs": {
   "LaTeX_envs_menu_present": true,
   "autoclose": false,
   "autocomplete": true,
   "bibliofile": "biblio.bib",
   "cite_by": "apalike",
   "current_citInitial": 1,
   "eqLabelWithNumbers": true,
   "eqNumInitial": 1,
   "hotkeys": {
    "equation": "Ctrl-E",
    "itemize": "Ctrl-I"
   },
   "labels_anchors": false,
   "latex_user_defs": false,
   "report_style_numbering": false,
   "user_envs_cfg": false
  },
  "toc": {
   "base_numbering": 1,
   "nav_menu": {},
   "number_sections": true,
   "sideBar": true,
   "skip_h1_title": false,
   "title_cell": "Table of Contents",
   "title_sidebar": "Contents",
   "toc_cell": false,
   "toc_position": {},
   "toc_section_display": true,
   "toc_window_display": false
  },
  "varInspector": {
   "cols": {
    "lenName": 16,
    "lenType": 16,
    "lenVar": 40
   },
   "kernels_config": {
    "python": {
     "delete_cmd_postfix": "",
     "delete_cmd_prefix": "del ",
     "library": "var_list.py",
     "varRefreshCmd": "print(var_dic_list())"
    },
    "r": {
     "delete_cmd_postfix": ") ",
     "delete_cmd_prefix": "rm(",
     "library": "var_list.r",
     "varRefreshCmd": "cat(var_dic_list()) "
    }
   },
   "types_to_exclude": [
    "module",
    "function",
    "builtin_function_or_method",
    "instance",
    "_Feature"
   ],
   "window_display": false
  }
 },
 "nbformat": 4,
 "nbformat_minor": 5
}
