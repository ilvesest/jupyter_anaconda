{
 "cells": [
  {
   "cell_type": "markdown",
   "id": "d0e39a1e",
   "metadata": {},
   "source": [
    "**<center><font size=\"40\">Advent of Code 2021</font></center>**"
   ]
  },
  {
   "cell_type": "markdown",
   "id": "34cdb09d",
   "metadata": {},
   "source": [
    "# Puzzle 1\n",
    "## Part I<br>\n",
    "1. Count the number of times a depth measurement increases from the previous measurement.Input URL: <url>https://adventofcode.com/2021/day/1/input</url><br>\n",
    "Example:<br>\n",
    "199 (N/A - no previous measurement)<br>\n",
    "200 (increased)<br>\n",
    "208 (increased)<br>\n",
    "210 (increased)<br>\n",
    "200 (decreased)<br>\n",
    "207 (increased)<br>\n",
    "240 (increased)<br>\n",
    "269 (increased)<br>\n",
    "260 (decreased)<br>\n",
    "263 (increased)<br>\n",
    "Increased **7** times.<br>"
   ]
  },
  {
   "cell_type": "code",
   "execution_count": 1,
   "id": "e644d35b",
   "metadata": {},
   "outputs": [
    {
     "data": {
      "text/html": [
       "<div>\n",
       "<style scoped>\n",
       "    .dataframe tbody tr th:only-of-type {\n",
       "        vertical-align: middle;\n",
       "    }\n",
       "\n",
       "    .dataframe tbody tr th {\n",
       "        vertical-align: top;\n",
       "    }\n",
       "\n",
       "    .dataframe thead th {\n",
       "        text-align: right;\n",
       "    }\n",
       "</style>\n",
       "<table border=\"1\" class=\"dataframe\">\n",
       "  <thead>\n",
       "    <tr style=\"text-align: right;\">\n",
       "      <th></th>\n",
       "      <th>depth</th>\n",
       "    </tr>\n",
       "  </thead>\n",
       "  <tbody>\n",
       "    <tr>\n",
       "      <th>0</th>\n",
       "      <td>182</td>\n",
       "    </tr>\n",
       "    <tr>\n",
       "      <th>1</th>\n",
       "      <td>188</td>\n",
       "    </tr>\n",
       "    <tr>\n",
       "      <th>2</th>\n",
       "      <td>204</td>\n",
       "    </tr>\n",
       "  </tbody>\n",
       "</table>\n",
       "</div>"
      ],
      "text/plain": [
       "   depth\n",
       "0    182\n",
       "1    188\n",
       "2    204"
      ]
     },
     "execution_count": 1,
     "metadata": {},
     "output_type": "execute_result"
    }
   ],
   "source": [
    "import pandas as pd\n",
    "\n",
    "#import data from txt file\n",
    "df_pz1 = pd.read_csv(\"data/pz01.txt\",\n",
    "                     header=None,\n",
    "                     names=['depth'])\n",
    "df_pz1.head(3)"
   ]
  },
  {
   "cell_type": "code",
   "execution_count": 2,
   "id": "725673a1",
   "metadata": {
    "scrolled": true
   },
   "outputs": [
    {
     "name": "stdout",
     "output_type": "stream",
     "text": [
      "Answer: 1215\n"
     ]
    }
   ],
   "source": [
    "#find measurements that increase and sum them up\n",
    "pz1_answer = (df_pz1.depth.diff() > 0).sum()\n",
    "print(\"Answer:\",pz1_answer)"
   ]
  },
  {
   "cell_type": "markdown",
   "id": "11989339",
   "metadata": {},
   "source": [
    "## Part II\n",
    "\n",
    "Considering every single measurement isn't as useful as you expected: there's just too much noise in the data.<br>\n",
    "<br>\n",
    "Instead, consider sums of a **three-measurement sliding window**. Again considering the above example:<br>\n",
    "<br>\n",
    "199  A    \n",
    "200  A B   \n",
    "208  A B C  <br>\n",
    "210    B C D<br>\n",
    "200  E   C D<br>\n",
    "207  E F   D<br>\n",
    "240  E F G  <br>\n",
    "269    F G H<br>\n",
    "260      G H<br>\n",
    "263        H<br>\n",
    "<br>\n",
    "Start by comparing the first and second three-measurement windows. The measurements in the first window are marked A (199, 200, 208); their sum is 199 + 200 + 208 = 607. The second window is marked B (200, 208, 210); its sum is 618. The sum of measurements in the second window is larger than the sum of the first, so this first comparison increased.<br>\n",
    "<br>\n",
    "Your goal now is to count the number of times the sum of measurements in this sliding window increases from the previous sum. So, compare A with B, then compare B with C, then C with D, and so on. Stop when there aren't enough measurements left to create a new three-measurement sum.<br>\n",
    "<br>\n",
    "In the above example, the sum of each three-measurement window is as follows:\n",
    "<br>\n",
    "A: 607 (N/A - no previous sum)<br>\n",
    "B: 618 (increased)<br>\n",
    "C: 618 (no change)<br>\n",
    "D: 617 (decreased)<br>\n",
    "E: 647 (increased)<br>\n",
    "F: 716 (increased)<br>\n",
    "G: 769 (increased)<br>\n",
    "H: 792 (increased)<br>\n",
    "<br>\n",
    "In this example, there are 5 sums that are larger than the previous sum.<br>\n",
    "<br>\n",
    "Consider sums of a three-measurement sliding window. How many sums are larger than the previous sum?"
   ]
  },
  {
   "cell_type": "code",
   "execution_count": 3,
   "id": "ffea1f0a",
   "metadata": {},
   "outputs": [
    {
     "data": {
      "text/html": [
       "<div>\n",
       "<style scoped>\n",
       "    .dataframe tbody tr th:only-of-type {\n",
       "        vertical-align: middle;\n",
       "    }\n",
       "\n",
       "    .dataframe tbody tr th {\n",
       "        vertical-align: top;\n",
       "    }\n",
       "\n",
       "    .dataframe thead th {\n",
       "        text-align: right;\n",
       "    }\n",
       "</style>\n",
       "<table border=\"1\" class=\"dataframe\">\n",
       "  <thead>\n",
       "    <tr style=\"text-align: right;\">\n",
       "      <th></th>\n",
       "      <th>depth</th>\n",
       "      <th>3sum</th>\n",
       "    </tr>\n",
       "  </thead>\n",
       "  <tbody>\n",
       "    <tr>\n",
       "      <th>0</th>\n",
       "      <td>182</td>\n",
       "      <td>574.0</td>\n",
       "    </tr>\n",
       "    <tr>\n",
       "      <th>1</th>\n",
       "      <td>188</td>\n",
       "      <td>595.0</td>\n",
       "    </tr>\n",
       "    <tr>\n",
       "      <th>2</th>\n",
       "      <td>204</td>\n",
       "      <td>612.0</td>\n",
       "    </tr>\n",
       "    <tr>\n",
       "      <th>3</th>\n",
       "      <td>203</td>\n",
       "      <td>614.0</td>\n",
       "    </tr>\n",
       "    <tr>\n",
       "      <th>4</th>\n",
       "      <td>205</td>\n",
       "      <td>619.0</td>\n",
       "    </tr>\n",
       "    <tr>\n",
       "      <th>...</th>\n",
       "      <td>...</td>\n",
       "      <td>...</td>\n",
       "    </tr>\n",
       "    <tr>\n",
       "      <th>1995</th>\n",
       "      <td>2573</td>\n",
       "      <td>7715.0</td>\n",
       "    </tr>\n",
       "    <tr>\n",
       "      <th>1996</th>\n",
       "      <td>2574</td>\n",
       "      <td>7718.0</td>\n",
       "    </tr>\n",
       "    <tr>\n",
       "      <th>1997</th>\n",
       "      <td>2568</td>\n",
       "      <td>7727.0</td>\n",
       "    </tr>\n",
       "    <tr>\n",
       "      <th>1998</th>\n",
       "      <td>2576</td>\n",
       "      <td>NaN</td>\n",
       "    </tr>\n",
       "    <tr>\n",
       "      <th>1999</th>\n",
       "      <td>2583</td>\n",
       "      <td>NaN</td>\n",
       "    </tr>\n",
       "  </tbody>\n",
       "</table>\n",
       "<p>2000 rows × 2 columns</p>\n",
       "</div>"
      ],
      "text/plain": [
       "      depth    3sum\n",
       "0       182   574.0\n",
       "1       188   595.0\n",
       "2       204   612.0\n",
       "3       203   614.0\n",
       "4       205   619.0\n",
       "...     ...     ...\n",
       "1995   2573  7715.0\n",
       "1996   2574  7718.0\n",
       "1997   2568  7727.0\n",
       "1998   2576     NaN\n",
       "1999   2583     NaN\n",
       "\n",
       "[2000 rows x 2 columns]"
      ]
     },
     "execution_count": 3,
     "metadata": {},
     "output_type": "execute_result"
    }
   ],
   "source": [
    "#create a copy of initial df\n",
    "df_pz1_2 = df_pz1.copy()\n",
    "\n",
    "#create column with following three measurement sums\n",
    "df_pz1_2['3sum'] = df_pz1_2.depth.rolling(3).sum().shift(-2)\n",
    "\n",
    "df_pz1_2"
   ]
  },
  {
   "cell_type": "code",
   "execution_count": 4,
   "id": "86e71524",
   "metadata": {},
   "outputs": [
    {
     "name": "stdout",
     "output_type": "stream",
     "text": [
      "Part II answer: 1150\n"
     ]
    }
   ],
   "source": [
    "#count the number of increases\n",
    "pz1_2_answer = (df_pz1_2['3sum'].diff() > 0).sum()\n",
    "print(\"Part II answer:\",pz1_2_answer)"
   ]
  },
  {
   "cell_type": "markdown",
   "id": "19e972d3",
   "metadata": {},
   "source": [
    "# Puzzle 2 \n",
    "## Part I\n",
    "\n",
    "--- Day 2: Dive! ---\n",
    "Now, you need to figure out how to pilot this thing.<br>\n",
    "<br>\n",
    "It seems like the submarine can take a series of commands like forward 1, down 2, or up 3:<br>\n",
    "<br>\n",
    "forward X increases the horizontal position by X units.<br>\n",
    "down X increases the depth by X units.<br>\n",
    "up X decreases the depth by X units.<br>\n",
    "<br>\n",
    "Note that since you're on a submarine, down and up affect your depth, and so they have the opposite result of what you might expect.\n",
    "<br>\n",
    "The submarine seems to already have a planned course (your puzzle input). You should probably figure out where it's going. For example:\n",
    "<br>\n",
    "forward 5<br>\n",
    "down 5<br>\n",
    "forward 8<br>\n",
    "up 3<br>\n",
    "down 8<br>\n",
    "forward 2<br>\n",
    "<br>\n",
    "Your horizontal position and depth both start at 0. The steps above would then modify them as follows:<br>\n",
    "<br>\n",
    "forward 5 adds 5 to your horizontal position, a total of 5.<br>\n",
    "down 5 adds 5 to your depth, resulting in a value of 5.<br>\n",
    "forward 8 adds 8 to your horizontal position, a total of 13.<br>\n",
    "up 3 decreases your depth by 3, resulting in a value of 2.<br>\n",
    "down 8 adds 8 to your depth, resulting in a value of 10.<br>\n",
    "forward 2 adds 2 to your horizontal position, a total of 15.<br>\n",
    "<br>\n",
    "After following these instructions, you would have a horizontal position of 15 and a depth of 10. (Multiplying these together produces 150.)<br>\n",
    "<br>\n",
    "Calculate the horizontal position and depth you would have after following the planned course. **What do you get if you multiply your final horizontal position by your final depth?**"
   ]
  },
  {
   "cell_type": "code",
   "execution_count": 5,
   "id": "b0c2b205",
   "metadata": {
    "code_folding": []
   },
   "outputs": [
    {
     "data": {
      "text/html": [
       "<div>\n",
       "<style scoped>\n",
       "    .dataframe tbody tr th:only-of-type {\n",
       "        vertical-align: middle;\n",
       "    }\n",
       "\n",
       "    .dataframe tbody tr th {\n",
       "        vertical-align: top;\n",
       "    }\n",
       "\n",
       "    .dataframe thead th {\n",
       "        text-align: right;\n",
       "    }\n",
       "</style>\n",
       "<table border=\"1\" class=\"dataframe\">\n",
       "  <thead>\n",
       "    <tr style=\"text-align: right;\">\n",
       "      <th></th>\n",
       "      <th>command</th>\n",
       "    </tr>\n",
       "  </thead>\n",
       "  <tbody>\n",
       "    <tr>\n",
       "      <th>0</th>\n",
       "      <td>forward 2</td>\n",
       "    </tr>\n",
       "    <tr>\n",
       "      <th>1</th>\n",
       "      <td>down 8</td>\n",
       "    </tr>\n",
       "    <tr>\n",
       "      <th>2</th>\n",
       "      <td>down 1</td>\n",
       "    </tr>\n",
       "  </tbody>\n",
       "</table>\n",
       "</div>"
      ],
      "text/plain": [
       "     command\n",
       "0  forward 2\n",
       "1     down 8\n",
       "2     down 1"
      ]
     },
     "execution_count": 5,
     "metadata": {},
     "output_type": "execute_result"
    }
   ],
   "source": [
    "#read data into df\n",
    "df_pz2 = pd.read_csv(\"data/pz02.txt\", \n",
    "                     header=None, \n",
    "                     names=['command'])\n",
    "df_pz2.head(3)"
   ]
  },
  {
   "cell_type": "code",
   "execution_count": 6,
   "id": "6cfcd772",
   "metadata": {},
   "outputs": [],
   "source": [
    "#separate directon and the value into separate columns\n",
    "df_pz2_sep = df_pz2.command.str.rsplit(\" \", expand=True).\\\n",
    "    rename(columns={0:\"command\", 1:\"step\"})"
   ]
  },
  {
   "cell_type": "code",
   "execution_count": 7,
   "id": "eb7d3eea",
   "metadata": {},
   "outputs": [
    {
     "name": "stdout",
     "output_type": "stream",
     "text": [
      "<class 'pandas.core.frame.DataFrame'>\n",
      "RangeIndex: 1000 entries, 0 to 999\n",
      "Data columns (total 2 columns):\n",
      " #   Column   Non-Null Count  Dtype \n",
      "---  ------   --------------  ----- \n",
      " 0   command  1000 non-null   object\n",
      " 1   step     1000 non-null   int64 \n",
      "dtypes: int64(1), object(1)\n",
      "memory usage: 15.8+ KB\n"
     ]
    }
   ],
   "source": [
    "#change step data type from object to int\n",
    "df_pz2_sep[\"step\"] = df_pz2_sep.step.astype(\"int64\")\n",
    "df_pz2_sep.info()"
   ]
  },
  {
   "cell_type": "code",
   "execution_count": 8,
   "id": "588a20b8",
   "metadata": {},
   "outputs": [
    {
     "data": {
      "text/plain": [
       "0"
      ]
     },
     "execution_count": 8,
     "metadata": {},
     "output_type": "execute_result"
    }
   ],
   "source": [
    "#check for negative values\n",
    "(df_pz2_sep.step < 0).sum() "
   ]
  },
  {
   "cell_type": "code",
   "execution_count": 9,
   "id": "314937a6",
   "metadata": {},
   "outputs": [
    {
     "name": "stdout",
     "output_type": "stream",
     "text": [
      "Ship went forward: 1998 units.\n"
     ]
    }
   ],
   "source": [
    "#find total forward value\n",
    "forward1 = df_pz2_sep.step[df_pz2_sep.command == \"forward\"].sum()\n",
    "print('Ship went forward:', forward1, \"units.\")"
   ]
  },
  {
   "cell_type": "code",
   "execution_count": 10,
   "id": "c7b87a3c",
   "metadata": {},
   "outputs": [
    {
     "name": "stdout",
     "output_type": "stream",
     "text": [
      "Total depth value: 741\n"
     ]
    }
   ],
   "source": [
    "#find total depth increase\n",
    "depth_inc1 = df_pz2_sep.step[df_pz2_sep.command == \"down\"].sum()\n",
    "\n",
    "#find total depth decrease\n",
    "depth_dec1 = df_pz2_sep.step[df_pz2_sep.command == \"up\"].sum()\n",
    "\n",
    "#total depth value\n",
    "depth_total1 = depth_inc1 - depth_dec1\n",
    "print(\"Total depth value:\", depth_total1)"
   ]
  },
  {
   "cell_type": "code",
   "execution_count": 11,
   "id": "daefc6d4",
   "metadata": {},
   "outputs": [
    {
     "name": "stdout",
     "output_type": "stream",
     "text": [
      "Puzzle 2.1 answer: 1480518\n"
     ]
    }
   ],
   "source": [
    "#multiply horizontal position to depth value\n",
    "pz2_answer = forward1 * depth_total1\n",
    "print(\"Puzzle 2.1 answer:\", pz2_answer)"
   ]
  },
  {
   "cell_type": "markdown",
   "id": "d5bb3924",
   "metadata": {},
   "source": [
    "## Part II\n",
    "<br>\n",
    "Based on your calculations, the planned course doesn't seem to make any sense. You find the submarine manual and discover that the process is actually slightly more complicated.\n",
    "\n",
    "\n",
    "In addition to horizontal position and depth, you'll also need to track a third value, **aim**, which also starts at 0. The commands also mean something entirely different than you first thought:<br>\n",
    "\n",
    "* down X increases your aim by X units.\n",
    "* up X decreases your aim by X units.\n",
    "* forward X does two things:\n",
    "    * It increases your horizontal position by X units.\n",
    "    * It increases your depth by your aim multiplied by X.\n",
    "<br>\n",
    "Again note that since you're on a submarine, down and up do the opposite of what you might expect: \"down\" means aiming in the positive direction.<br>\n",
    "<br>\n",
    "Now, the above example does something different:<br>\n",
    "<br>\n",
    "- forward 5 adds 5 to your horizontal position, a total of 5. Because your aim is 0, your depth does not change.\n",
    "- down 5 adds 5 to your aim, resulting in a value of 5.\n",
    "- forward 8 adds 8 to your horizontal position, a total of 13. Because your aim is 5, your depth increases by 8*5=40.\n",
    "- up 3 decreases your aim by 3, resulting in a value of 2.\n",
    "- down 8 adds 8 to your aim, resulting in a value of 10.\n",
    "- forward 2 adds 2 to your horizontal position, a total of 15. Because your aim is 10, your depth increases by 2*10=20 to a total of 60.\n",
    "\n",
    "\n",
    "After following these new instructions, you would have a horizontal position of 15 and a depth of 60. (Multiplying these produces 900.)<br>\n",
    "<br>\n",
    "Using this new interpretation of the commands, calculate the horizontal position and depth you would have after following the planned course. **What do you get if you multiply your final horizontal position by your final depth?**"
   ]
  },
  {
   "cell_type": "code",
   "execution_count": 12,
   "id": "d84c6209",
   "metadata": {},
   "outputs": [
    {
     "data": {
      "text/html": [
       "<div>\n",
       "<style scoped>\n",
       "    .dataframe tbody tr th:only-of-type {\n",
       "        vertical-align: middle;\n",
       "    }\n",
       "\n",
       "    .dataframe tbody tr th {\n",
       "        vertical-align: top;\n",
       "    }\n",
       "\n",
       "    .dataframe thead th {\n",
       "        text-align: right;\n",
       "    }\n",
       "</style>\n",
       "<table border=\"1\" class=\"dataframe\">\n",
       "  <thead>\n",
       "    <tr style=\"text-align: right;\">\n",
       "      <th></th>\n",
       "      <th>command</th>\n",
       "      <th>step</th>\n",
       "    </tr>\n",
       "  </thead>\n",
       "  <tbody>\n",
       "    <tr>\n",
       "      <th>0</th>\n",
       "      <td>forward</td>\n",
       "      <td>2</td>\n",
       "    </tr>\n",
       "    <tr>\n",
       "      <th>1</th>\n",
       "      <td>down</td>\n",
       "      <td>8</td>\n",
       "    </tr>\n",
       "    <tr>\n",
       "      <th>2</th>\n",
       "      <td>down</td>\n",
       "      <td>1</td>\n",
       "    </tr>\n",
       "    <tr>\n",
       "      <th>3</th>\n",
       "      <td>up</td>\n",
       "      <td>7</td>\n",
       "    </tr>\n",
       "    <tr>\n",
       "      <th>4</th>\n",
       "      <td>forward</td>\n",
       "      <td>4</td>\n",
       "    </tr>\n",
       "  </tbody>\n",
       "</table>\n",
       "</div>"
      ],
      "text/plain": [
       "   command  step\n",
       "0  forward     2\n",
       "1     down     8\n",
       "2     down     1\n",
       "3       up     7\n",
       "4  forward     4"
      ]
     },
     "execution_count": 12,
     "metadata": {},
     "output_type": "execute_result"
    }
   ],
   "source": [
    "df_pz2_sep.head()"
   ]
  },
  {
   "cell_type": "code",
   "execution_count": 13,
   "id": "ebc7708d",
   "metadata": {},
   "outputs": [
    {
     "name": "stdout",
     "output_type": "stream",
     "text": [
      "Final position: 1998\n",
      "Final aim: 741\n",
      "Final depth: 642047\n",
      "Final position x depth: 1282809906\n"
     ]
    }
   ],
   "source": [
    "#initialize position, aim & depth\n",
    "pz2_2_pos = 0\n",
    "pz2_2_aim = 0\n",
    "pz2_2_depth = 0\n",
    "\n",
    "#iterate through the data, line-by-line\n",
    "for i,row in df_pz2_sep.iterrows():\n",
    "    if row.command == \"forward\":\n",
    "        pz2_2_pos += row.step\n",
    "        pz2_2_depth += pz2_2_aim * row.step\n",
    "    if row.command == \"down\":\n",
    "        pz2_2_aim += row.step\n",
    "    if row.command == \"up\":\n",
    "        pz2_2_aim -= row.step\n",
    "\n",
    "print(\"Final position:\",pz2_2_pos)\n",
    "print(\"Final aim:\", pz2_2_aim)\n",
    "print(\"Final depth:\", pz2_2_depth)\n",
    "print(\"Final position x depth:\", pz2_2_pos * pz2_2_depth) "
   ]
  },
  {
   "cell_type": "markdown",
   "id": "367484fc",
   "metadata": {},
   "source": [
    "# Puzzle 3\n",
    "## Part I\n",
    "\n",
    "--- Day 3: Binary Diagnostic ---<br>\n",
    "\n",
    "\n",
    "The submarine has been making some odd creaking noises, so you ask it to produce a diagnostic report just in case.\n",
    "\n",
    "\n",
    "The diagnostic report (your puzzle input) consists of a list of binary numbers which, when decoded properly, can tell you many useful things about the conditions of the submarine. The first parameter to check is the **power consumption**.\n",
    "\n",
    "\n",
    "You need to use the binary numbers in the diagnostic report to generate two new binary numbers (called the **gamma rate** and the **epsilon rate**). The power consumption can then be found by multiplying the gamma rate by the epsilon rate.\n",
    "\n",
    "\n",
    "Each bit in the gamma rate can be determined by finding the **most common bit in the corresponding position** of all numbers in the diagnostic report. For example, given the following diagnostic report:\n",
    "\n",
    "\n",
    "00100\n",
    "11110\n",
    "10110\n",
    "10111\n",
    "10101\n",
    "01111\n",
    "00111\n",
    "11100\n",
    "10000\n",
    "11001\n",
    "00010\n",
    "01010\n",
    "\n",
    "\n",
    "Considering only the first bit of each number, there are five 0 bits and seven 1 bits. Since the most common bit is 1, the first bit of the gamma rate is 1.\n",
    "\n",
    "\n",
    "The most common second bit of the numbers in the diagnostic report is 0, so the second bit of the gamma rate is 0.\n",
    "\n",
    "\n",
    "The most common value of the third, fourth, and fifth bits are 1, 1, and 0, respectively, and so the final three bits of the gamma rate are 110.\n",
    "\n",
    "\n",
    "So, the gamma rate is the binary number 10110, or 22 in decimal.\n",
    "\n",
    "\n",
    "The epsilon rate is calculated in a similar way; rather than use the most common bit, the least common bit from each position is used. So, the epsilon rate is 01001, or 9 in decimal. Multiplying the gamma rate (22) by the epsilon rate (9) produces the power consumption, 198.\n",
    "\n",
    "\n",
    "Use the binary numbers in your diagnostic report to calculate the gamma rate and epsilon rate, then multiply them together. **What is the power consumption of the submarine?** (Be sure to represent your answer in decimal, not binary.)"
   ]
  },
  {
   "cell_type": "code",
   "execution_count": 14,
   "id": "8c7a462b",
   "metadata": {},
   "outputs": [
    {
     "data": {
      "text/html": [
       "<div>\n",
       "<style scoped>\n",
       "    .dataframe tbody tr th:only-of-type {\n",
       "        vertical-align: middle;\n",
       "    }\n",
       "\n",
       "    .dataframe tbody tr th {\n",
       "        vertical-align: top;\n",
       "    }\n",
       "\n",
       "    .dataframe thead th {\n",
       "        text-align: right;\n",
       "    }\n",
       "</style>\n",
       "<table border=\"1\" class=\"dataframe\">\n",
       "  <thead>\n",
       "    <tr style=\"text-align: right;\">\n",
       "      <th></th>\n",
       "      <th>binary</th>\n",
       "    </tr>\n",
       "  </thead>\n",
       "  <tbody>\n",
       "    <tr>\n",
       "      <th>0</th>\n",
       "      <td>010111111011</td>\n",
       "    </tr>\n",
       "    <tr>\n",
       "      <th>1</th>\n",
       "      <td>010010101110</td>\n",
       "    </tr>\n",
       "    <tr>\n",
       "      <th>2</th>\n",
       "      <td>011001001100</td>\n",
       "    </tr>\n",
       "  </tbody>\n",
       "</table>\n",
       "</div>"
      ],
      "text/plain": [
       "         binary\n",
       "0  010111111011\n",
       "1  010010101110\n",
       "2  011001001100"
      ]
     },
     "execution_count": 14,
     "metadata": {},
     "output_type": "execute_result"
    }
   ],
   "source": [
    "#read binary data in as string, won't lose leading 0-s\n",
    "df_pz3 = pd.read_csv('data/pz03.txt',\n",
    "                     header=None,\n",
    "                     names=['binary'],\n",
    "                     dtype='str')\n",
    "df_pz3.head(3)"
   ]
  },
  {
   "cell_type": "code",
   "execution_count": 15,
   "id": "7f120816",
   "metadata": {},
   "outputs": [
    {
     "name": "stdout",
     "output_type": "stream",
     "text": [
      "<class 'pandas.core.frame.DataFrame'>\n",
      "RangeIndex: 1000 entries, 0 to 999\n",
      "Data columns (total 1 columns):\n",
      " #   Column  Non-Null Count  Dtype \n",
      "---  ------  --------------  ----- \n",
      " 0   binary  1000 non-null   object\n",
      "dtypes: object(1)\n",
      "memory usage: 7.9+ KB\n"
     ]
    }
   ],
   "source": [
    "df_pz3.info()"
   ]
  },
  {
   "cell_type": "code",
   "execution_count": 16,
   "id": "a90c6db5",
   "metadata": {},
   "outputs": [
    {
     "data": {
      "text/plain": [
       "12    1000\n",
       "Name: binary, dtype: int64"
      ]
     },
     "execution_count": 16,
     "metadata": {},
     "output_type": "execute_result"
    }
   ],
   "source": [
    "#check if all the data has the same length\n",
    "df_pz3.binary.str.len().value_counts()"
   ]
  },
  {
   "cell_type": "code",
   "execution_count": 17,
   "id": "11bb9a51",
   "metadata": {},
   "outputs": [
    {
     "data": {
      "text/plain": [
       "0      0\n",
       "1      0\n",
       "2      0\n",
       "3      0\n",
       "4      1\n",
       "      ..\n",
       "995    1\n",
       "996    0\n",
       "997    1\n",
       "998    1\n",
       "999    1\n",
       "Name: binary, Length: 1000, dtype: object"
      ]
     },
     "execution_count": 17,
     "metadata": {},
     "output_type": "execute_result"
    }
   ],
   "source": [
    "df_pz3.binary.str[0]"
   ]
  },
  {
   "cell_type": "code",
   "execution_count": 18,
   "id": "df0e6b9d",
   "metadata": {},
   "outputs": [
    {
     "data": {
      "text/html": [
       "<div>\n",
       "<style scoped>\n",
       "    .dataframe tbody tr th:only-of-type {\n",
       "        vertical-align: middle;\n",
       "    }\n",
       "\n",
       "    .dataframe tbody tr th {\n",
       "        vertical-align: top;\n",
       "    }\n",
       "\n",
       "    .dataframe thead th {\n",
       "        text-align: right;\n",
       "    }\n",
       "</style>\n",
       "<table border=\"1\" class=\"dataframe\">\n",
       "  <thead>\n",
       "    <tr style=\"text-align: right;\">\n",
       "      <th></th>\n",
       "      <th>binary</th>\n",
       "      <th>1</th>\n",
       "      <th>2</th>\n",
       "      <th>3</th>\n",
       "      <th>4</th>\n",
       "      <th>5</th>\n",
       "      <th>6</th>\n",
       "      <th>7</th>\n",
       "      <th>8</th>\n",
       "      <th>9</th>\n",
       "      <th>10</th>\n",
       "      <th>11</th>\n",
       "      <th>12</th>\n",
       "    </tr>\n",
       "  </thead>\n",
       "  <tbody>\n",
       "    <tr>\n",
       "      <th>0</th>\n",
       "      <td>010111111011</td>\n",
       "      <td>0</td>\n",
       "      <td>1</td>\n",
       "      <td>0</td>\n",
       "      <td>1</td>\n",
       "      <td>1</td>\n",
       "      <td>1</td>\n",
       "      <td>1</td>\n",
       "      <td>1</td>\n",
       "      <td>1</td>\n",
       "      <td>0</td>\n",
       "      <td>1</td>\n",
       "      <td>1</td>\n",
       "    </tr>\n",
       "    <tr>\n",
       "      <th>1</th>\n",
       "      <td>010010101110</td>\n",
       "      <td>0</td>\n",
       "      <td>1</td>\n",
       "      <td>0</td>\n",
       "      <td>0</td>\n",
       "      <td>1</td>\n",
       "      <td>0</td>\n",
       "      <td>1</td>\n",
       "      <td>0</td>\n",
       "      <td>1</td>\n",
       "      <td>1</td>\n",
       "      <td>1</td>\n",
       "      <td>0</td>\n",
       "    </tr>\n",
       "    <tr>\n",
       "      <th>2</th>\n",
       "      <td>011001001100</td>\n",
       "      <td>0</td>\n",
       "      <td>1</td>\n",
       "      <td>1</td>\n",
       "      <td>0</td>\n",
       "      <td>0</td>\n",
       "      <td>1</td>\n",
       "      <td>0</td>\n",
       "      <td>0</td>\n",
       "      <td>1</td>\n",
       "      <td>1</td>\n",
       "      <td>0</td>\n",
       "      <td>0</td>\n",
       "    </tr>\n",
       "    <tr>\n",
       "      <th>3</th>\n",
       "      <td>001000001010</td>\n",
       "      <td>0</td>\n",
       "      <td>0</td>\n",
       "      <td>1</td>\n",
       "      <td>0</td>\n",
       "      <td>0</td>\n",
       "      <td>0</td>\n",
       "      <td>0</td>\n",
       "      <td>0</td>\n",
       "      <td>1</td>\n",
       "      <td>0</td>\n",
       "      <td>1</td>\n",
       "      <td>0</td>\n",
       "    </tr>\n",
       "    <tr>\n",
       "      <th>4</th>\n",
       "      <td>111100101000</td>\n",
       "      <td>1</td>\n",
       "      <td>1</td>\n",
       "      <td>1</td>\n",
       "      <td>1</td>\n",
       "      <td>0</td>\n",
       "      <td>0</td>\n",
       "      <td>1</td>\n",
       "      <td>0</td>\n",
       "      <td>1</td>\n",
       "      <td>0</td>\n",
       "      <td>0</td>\n",
       "      <td>0</td>\n",
       "    </tr>\n",
       "  </tbody>\n",
       "</table>\n",
       "</div>"
      ],
      "text/plain": [
       "         binary  1  2  3  4  5  6  7  8  9 10 11 12\n",
       "0  010111111011  0  1  0  1  1  1  1  1  1  0  1  1\n",
       "1  010010101110  0  1  0  0  1  0  1  0  1  1  1  0\n",
       "2  011001001100  0  1  1  0  0  1  0  0  1  1  0  0\n",
       "3  001000001010  0  0  1  0  0  0  0  0  1  0  1  0\n",
       "4  111100101000  1  1  1  1  0  0  1  0  1  0  0  0"
      ]
     },
     "execution_count": 18,
     "metadata": {},
     "output_type": "execute_result"
    }
   ],
   "source": [
    "#separate each bit to corresponding column\n",
    "for i in range(12):\n",
    "    df_pz3[i+1] = df_pz3.binary.str[i]\n",
    "\n",
    "df_pz3.head()"
   ]
  },
  {
   "cell_type": "code",
   "execution_count": 19,
   "id": "b2d0de5a",
   "metadata": {},
   "outputs": [
    {
     "name": "stdout",
     "output_type": "stream",
     "text": [
      "1    516\n",
      "0    484\n",
      "Name: 3, dtype: int64\n",
      "0\n"
     ]
    }
   ],
   "source": [
    "for i in range(3,4):\n",
    "    print(df_pz3[i].value_counts())\n",
    "    print(df_pz3[i].value_counts().index[1])"
   ]
  },
  {
   "cell_type": "code",
   "execution_count": 20,
   "id": "07be3e1d",
   "metadata": {},
   "outputs": [
    {
     "name": "stdout",
     "output_type": "stream",
     "text": [
      "Gamma rate:  2987\n",
      "Epsilon rate: 1108\n"
     ]
    }
   ],
   "source": [
    "#find mode 1 value from each bit column\n",
    "pz3_gamma_list = [df_pz3[i].mode().values[0] for i in range(1,13)]\n",
    "\n",
    "#join bits in the list into string\n",
    "pz3_gamma_str = \"\".join(pz3_gamma_list)\n",
    "\n",
    "#convert to binary then decimal\n",
    "pz3_gamma_decimal = int(pz3_gamma_str,base=2)\n",
    "\n",
    "print(\"Gamma rate: \",pz3_gamma_decimal)\n",
    "\n",
    "#find least frequent bit in each column\n",
    "pz3_epsilon_list = [df_pz3[i].value_counts().index[1] for i in range(1,13)]\n",
    "\n",
    "#find epsilon rate\n",
    "pz3_epsilon_decimal = int(\"\".join(pz3_epsilon_list), base=2)\n",
    "\n",
    "print(\"Epsilon rate:\",pz3_epsilon_decimal)"
   ]
  },
  {
   "cell_type": "code",
   "execution_count": 21,
   "id": "19f1abe4",
   "metadata": {},
   "outputs": [
    {
     "name": "stdout",
     "output_type": "stream",
     "text": [
      "Submarine consumption: 3309596\n"
     ]
    }
   ],
   "source": [
    "#fnding the consumption of the submarine\n",
    "pz3_consumption = pz3_epsilon_decimal * pz3_gamma_decimal\n",
    "print(\"Submarine consumption:\", pz3_consumption)"
   ]
  },
  {
   "cell_type": "markdown",
   "id": "b2e47cac",
   "metadata": {},
   "source": [
    "## Part II\n",
    "\n",
    "--- Part Two ---\n",
    "\n",
    "\n",
    "Next, you should verify the life support rating, which can be determined by multiplying the oxygen generator rating by the CO2 scrubber rating.\n",
    "\n",
    "\n",
    "Both the oxygen generator rating and the CO2 scrubber rating are values that can be found in your diagnostic report - finding them is the tricky part. Both values are located using a similar process that involves filtering out values until only one remains. Before searching for either rating value, start with the full list of binary numbers from your diagnostic report and consider just the first bit of those numbers. Then:\n",
    "\n",
    "\n",
    "* Keep only numbers selected by the bit criteria for the type of rating value for which you are searching. Discard numbers which do not match the bit criteria.\n",
    "* If you only have one number left, stop; this is the rating value for which you are searching.\n",
    "* Otherwise, repeat the process, considering the next bit to the right.\n",
    "\n",
    "\n",
    "The bit criteria depends on which type of rating value you want to find:\n",
    "\n",
    "\n",
    "* To find oxygen generator rating, determine the most common value (0 or 1) in the current bit position, and keep only numbers with that bit in that position. If 0 and 1 are equally common, keep values with a 1 in the position being considered.\n",
    "* To find CO2 scrubber rating, determine the least common value (0 or 1) in the current bit position, and keep only numbers with that bit in that position. If 0 and 1 are equally common, keep values with a 0 in the position being considered.\n",
    "\n",
    "\n",
    "Use the binary numbers in your diagnostic report to calculate the oxygen generator rating and CO2 scrubber rating, then multiply them together. **What is the life support rating of the submarine?** (Be sure to represent your answer in decimal, not binary.)"
   ]
  },
  {
   "cell_type": "code",
   "execution_count": 22,
   "id": "318b1604",
   "metadata": {},
   "outputs": [
    {
     "data": {
      "text/html": [
       "<div>\n",
       "<style scoped>\n",
       "    .dataframe tbody tr th:only-of-type {\n",
       "        vertical-align: middle;\n",
       "    }\n",
       "\n",
       "    .dataframe tbody tr th {\n",
       "        vertical-align: top;\n",
       "    }\n",
       "\n",
       "    .dataframe thead th {\n",
       "        text-align: right;\n",
       "    }\n",
       "</style>\n",
       "<table border=\"1\" class=\"dataframe\">\n",
       "  <thead>\n",
       "    <tr style=\"text-align: right;\">\n",
       "      <th></th>\n",
       "      <th>binary</th>\n",
       "      <th>1</th>\n",
       "      <th>2</th>\n",
       "      <th>3</th>\n",
       "      <th>4</th>\n",
       "      <th>5</th>\n",
       "      <th>6</th>\n",
       "      <th>7</th>\n",
       "      <th>8</th>\n",
       "      <th>9</th>\n",
       "      <th>10</th>\n",
       "      <th>11</th>\n",
       "      <th>12</th>\n",
       "    </tr>\n",
       "  </thead>\n",
       "  <tbody>\n",
       "    <tr>\n",
       "      <th>0</th>\n",
       "      <td>010111111011</td>\n",
       "      <td>0</td>\n",
       "      <td>1</td>\n",
       "      <td>0</td>\n",
       "      <td>1</td>\n",
       "      <td>1</td>\n",
       "      <td>1</td>\n",
       "      <td>1</td>\n",
       "      <td>1</td>\n",
       "      <td>1</td>\n",
       "      <td>0</td>\n",
       "      <td>1</td>\n",
       "      <td>1</td>\n",
       "    </tr>\n",
       "    <tr>\n",
       "      <th>1</th>\n",
       "      <td>010010101110</td>\n",
       "      <td>0</td>\n",
       "      <td>1</td>\n",
       "      <td>0</td>\n",
       "      <td>0</td>\n",
       "      <td>1</td>\n",
       "      <td>0</td>\n",
       "      <td>1</td>\n",
       "      <td>0</td>\n",
       "      <td>1</td>\n",
       "      <td>1</td>\n",
       "      <td>1</td>\n",
       "      <td>0</td>\n",
       "    </tr>\n",
       "    <tr>\n",
       "      <th>2</th>\n",
       "      <td>011001001100</td>\n",
       "      <td>0</td>\n",
       "      <td>1</td>\n",
       "      <td>1</td>\n",
       "      <td>0</td>\n",
       "      <td>0</td>\n",
       "      <td>1</td>\n",
       "      <td>0</td>\n",
       "      <td>0</td>\n",
       "      <td>1</td>\n",
       "      <td>1</td>\n",
       "      <td>0</td>\n",
       "      <td>0</td>\n",
       "    </tr>\n",
       "    <tr>\n",
       "      <th>3</th>\n",
       "      <td>001000001010</td>\n",
       "      <td>0</td>\n",
       "      <td>0</td>\n",
       "      <td>1</td>\n",
       "      <td>0</td>\n",
       "      <td>0</td>\n",
       "      <td>0</td>\n",
       "      <td>0</td>\n",
       "      <td>0</td>\n",
       "      <td>1</td>\n",
       "      <td>0</td>\n",
       "      <td>1</td>\n",
       "      <td>0</td>\n",
       "    </tr>\n",
       "    <tr>\n",
       "      <th>4</th>\n",
       "      <td>111100101000</td>\n",
       "      <td>1</td>\n",
       "      <td>1</td>\n",
       "      <td>1</td>\n",
       "      <td>1</td>\n",
       "      <td>0</td>\n",
       "      <td>0</td>\n",
       "      <td>1</td>\n",
       "      <td>0</td>\n",
       "      <td>1</td>\n",
       "      <td>0</td>\n",
       "      <td>0</td>\n",
       "      <td>0</td>\n",
       "    </tr>\n",
       "  </tbody>\n",
       "</table>\n",
       "</div>"
      ],
      "text/plain": [
       "         binary  1  2  3  4  5  6  7  8  9 10 11 12\n",
       "0  010111111011  0  1  0  1  1  1  1  1  1  0  1  1\n",
       "1  010010101110  0  1  0  0  1  0  1  0  1  1  1  0\n",
       "2  011001001100  0  1  1  0  0  1  0  0  1  1  0  0\n",
       "3  001000001010  0  0  1  0  0  0  0  0  1  0  1  0\n",
       "4  111100101000  1  1  1  1  0  0  1  0  1  0  0  0"
      ]
     },
     "execution_count": 22,
     "metadata": {},
     "output_type": "execute_result"
    }
   ],
   "source": [
    "df_pz3.head()"
   ]
  },
  {
   "cell_type": "code",
   "execution_count": 45,
   "id": "b778b3d2",
   "metadata": {},
   "outputs": [
    {
     "name": "stdout",
     "output_type": "stream",
     "text": [
      "Oxygen Generator Rating: 2815\n"
     ]
    }
   ],
   "source": [
    "#create a copy df\n",
    "df_pz3_2 = df_pz3.copy()\n",
    "\n",
    "#find oxygen generator rating\n",
    "oxy_gen_rate = 0\n",
    "for i in range(1,13):\n",
    "    if df_pz3_2.shape[0] == 1:\n",
    "        oxy_gen_rate = int(df_pz3_2.binary.values[0], 2)\n",
    "        break\n",
    "    \n",
    "    most_counts = df_pz3_2[i].value_counts()[0]\n",
    "    least_counts = df_pz3_2[i].value_counts()[1]\n",
    "    most_value = df_pz3_2[i].value_counts().index[0]\n",
    "    \n",
    "    if most_counts == least_counts:\n",
    "        df_pz3_2 = df_pz3_2[df_pz3_2[i] == \"1\"]\n",
    "    else:\n",
    "        df_pz3_2 = df_pz3_2[df_pz3_2[i] == most_value]\n",
    "\n",
    "print(\"Oxygen Generator Rating:\", oxy_gen_rate)"
   ]
  },
  {
   "cell_type": "code",
   "execution_count": 46,
   "id": "cb4c80ae",
   "metadata": {},
   "outputs": [
    {
     "name": "stdout",
     "output_type": "stream",
     "text": [
      "CO2 Scrubber Rating: 1059\n"
     ]
    }
   ],
   "source": [
    "#create a copy df\n",
    "df_pz3_2 = df_pz3.copy()\n",
    "\n",
    "#find CO2 scrubber rating\n",
    "co2_scrub_rate = 0\n",
    "for i in range(1,13):\n",
    "    \n",
    "    if df_pz3_2.shape[0] == 1:\n",
    "        co2_scrub_rate = int(df_pz3_2.binary.values[0], 2)\n",
    "        break\n",
    "    \n",
    "    most_counts = df_pz3_2[i].value_counts()[0]\n",
    "    least_counts = df_pz3_2[i].value_counts()[1]\n",
    "    least_value = df_pz3_2[i].value_counts().index[1]\n",
    "    \n",
    "    if most_counts == least_counts:\n",
    "        df_pz3_2 = df_pz3_2[df_pz3_2[i] == \"0\"]\n",
    "    else:\n",
    "        df_pz3_2 = df_pz3_2[df_pz3_2[i] == least_value]\n",
    "\n",
    "print(\"CO2 Scrubber Rating:\", co2_scrub_rate)"
   ]
  },
  {
   "cell_type": "code",
   "execution_count": 47,
   "id": "2e34c937",
   "metadata": {},
   "outputs": [
    {
     "name": "stdout",
     "output_type": "stream",
     "text": [
      "Life Support Rate: 2981085\n"
     ]
    }
   ],
   "source": [
    "#find the life support rating\n",
    "life_support_rate = oxy_gen_rate * co2_scrub_rate\n",
    "print(\"Life Support Rate:\",life_support_rate)"
   ]
  },
  {
   "cell_type": "code",
   "execution_count": null,
   "id": "1ba9767c",
   "metadata": {},
   "outputs": [],
   "source": []
  }
 ],
 "metadata": {
  "kernelspec": {
   "display_name": "Python 3",
   "language": "python",
   "name": "python3"
  },
  "language_info": {
   "codemirror_mode": {
    "name": "ipython",
    "version": 3
   },
   "file_extension": ".py",
   "mimetype": "text/x-python",
   "name": "python",
   "nbconvert_exporter": "python",
   "pygments_lexer": "ipython3",
   "version": "3.7.9"
  },
  "latex_envs": {
   "LaTeX_envs_menu_present": true,
   "autoclose": false,
   "autocomplete": true,
   "bibliofile": "biblio.bib",
   "cite_by": "apalike",
   "current_citInitial": 1,
   "eqLabelWithNumbers": true,
   "eqNumInitial": 1,
   "hotkeys": {
    "equation": "Ctrl-E",
    "itemize": "Ctrl-I"
   },
   "labels_anchors": false,
   "latex_user_defs": false,
   "report_style_numbering": false,
   "user_envs_cfg": false
  },
  "toc": {
   "base_numbering": 1,
   "nav_menu": {},
   "number_sections": true,
   "sideBar": true,
   "skip_h1_title": false,
   "title_cell": "Table of Contents",
   "title_sidebar": "Contents",
   "toc_cell": false,
   "toc_position": {},
   "toc_section_display": true,
   "toc_window_display": false
  },
  "varInspector": {
   "cols": {
    "lenName": 16,
    "lenType": 16,
    "lenVar": 40
   },
   "kernels_config": {
    "python": {
     "delete_cmd_postfix": "",
     "delete_cmd_prefix": "del ",
     "library": "var_list.py",
     "varRefreshCmd": "print(var_dic_list())"
    },
    "r": {
     "delete_cmd_postfix": ") ",
     "delete_cmd_prefix": "rm(",
     "library": "var_list.r",
     "varRefreshCmd": "cat(var_dic_list()) "
    }
   },
   "types_to_exclude": [
    "module",
    "function",
    "builtin_function_or_method",
    "instance",
    "_Feature"
   ],
   "window_display": false
  }
 },
 "nbformat": 4,
 "nbformat_minor": 5
}
