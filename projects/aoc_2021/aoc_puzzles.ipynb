{
 "cells": [
  {
   "cell_type": "markdown",
   "id": "d0e39a1e",
   "metadata": {},
   "source": [
    "**<center><font size=\"40\">Advent of Code 2021</font></center>**"
   ]
  },
  {
   "cell_type": "markdown",
   "id": "34cdb09d",
   "metadata": {},
   "source": [
    "# Puzzle 1\n",
    "## Part I<br>\n",
    "1. Count the number of times a depth measurement increases from the previous measurement.Input URL: <url>https://adventofcode.com/2021/day/1/input</url><br>\n",
    "Example:<br>\n",
    "199 (N/A - no previous measurement)<br>\n",
    "200 (increased)<br>\n",
    "208 (increased)<br>\n",
    "210 (increased)<br>\n",
    "200 (decreased)<br>\n",
    "207 (increased)<br>\n",
    "240 (increased)<br>\n",
    "269 (increased)<br>\n",
    "260 (decreased)<br>\n",
    "263 (increased)<br>\n",
    "Increased **7** times.<br>"
   ]
  },
  {
   "cell_type": "code",
   "execution_count": 1,
   "id": "e644d35b",
   "metadata": {},
   "outputs": [
    {
     "data": {
      "text/html": [
       "<div>\n",
       "<style scoped>\n",
       "    .dataframe tbody tr th:only-of-type {\n",
       "        vertical-align: middle;\n",
       "    }\n",
       "\n",
       "    .dataframe tbody tr th {\n",
       "        vertical-align: top;\n",
       "    }\n",
       "\n",
       "    .dataframe thead th {\n",
       "        text-align: right;\n",
       "    }\n",
       "</style>\n",
       "<table border=\"1\" class=\"dataframe\">\n",
       "  <thead>\n",
       "    <tr style=\"text-align: right;\">\n",
       "      <th></th>\n",
       "      <th>depth</th>\n",
       "    </tr>\n",
       "  </thead>\n",
       "  <tbody>\n",
       "    <tr>\n",
       "      <th>0</th>\n",
       "      <td>182</td>\n",
       "    </tr>\n",
       "    <tr>\n",
       "      <th>1</th>\n",
       "      <td>188</td>\n",
       "    </tr>\n",
       "    <tr>\n",
       "      <th>2</th>\n",
       "      <td>204</td>\n",
       "    </tr>\n",
       "  </tbody>\n",
       "</table>\n",
       "</div>"
      ],
      "text/plain": [
       "   depth\n",
       "0    182\n",
       "1    188\n",
       "2    204"
      ]
     },
     "execution_count": 1,
     "metadata": {},
     "output_type": "execute_result"
    }
   ],
   "source": [
    "import pandas as pd\n",
    "\n",
    "#import data from txt file\n",
    "df_pz1 = pd.read_csv(\"data/pz01.txt\",\n",
    "                     header=None,\n",
    "                     names=['depth'])\n",
    "df_pz1.head(3)"
   ]
  },
  {
   "cell_type": "code",
   "execution_count": 2,
   "id": "725673a1",
   "metadata": {
    "scrolled": true
   },
   "outputs": [
    {
     "name": "stdout",
     "output_type": "stream",
     "text": [
      "Answer: 1215\n"
     ]
    }
   ],
   "source": [
    "#find measurements that increase and sum them up\n",
    "pz1_answer = (df_pz1.depth.diff() > 0).sum()\n",
    "print(\"Answer:\",pz1_answer)"
   ]
  },
  {
   "cell_type": "markdown",
   "id": "11989339",
   "metadata": {},
   "source": [
    "## Part II\n",
    "\n",
    "Considering every single measurement isn't as useful as you expected: there's just too much noise in the data.<br>\n",
    "<br>\n",
    "Instead, consider sums of a **three-measurement sliding window**. Again considering the above example:<br>\n",
    "<br>\n",
    "199  A    \n",
    "200  A B   \n",
    "208  A B C  <br>\n",
    "210    B C D<br>\n",
    "200  E   C D<br>\n",
    "207  E F   D<br>\n",
    "240  E F G  <br>\n",
    "269    F G H<br>\n",
    "260      G H<br>\n",
    "263        H<br>\n",
    "<br>\n",
    "Start by comparing the first and second three-measurement windows. The measurements in the first window are marked A (199, 200, 208); their sum is 199 + 200 + 208 = 607. The second window is marked B (200, 208, 210); its sum is 618. The sum of measurements in the second window is larger than the sum of the first, so this first comparison increased.<br>\n",
    "<br>\n",
    "Your goal now is to count the number of times the sum of measurements in this sliding window increases from the previous sum. So, compare A with B, then compare B with C, then C with D, and so on. Stop when there aren't enough measurements left to create a new three-measurement sum.<br>\n",
    "<br>\n",
    "In the above example, the sum of each three-measurement window is as follows:\n",
    "<br>\n",
    "A: 607 (N/A - no previous sum)<br>\n",
    "B: 618 (increased)<br>\n",
    "C: 618 (no change)<br>\n",
    "D: 617 (decreased)<br>\n",
    "E: 647 (increased)<br>\n",
    "F: 716 (increased)<br>\n",
    "G: 769 (increased)<br>\n",
    "H: 792 (increased)<br>\n",
    "<br>\n",
    "In this example, there are 5 sums that are larger than the previous sum.<br>\n",
    "<br>\n",
    "Consider sums of a three-measurement sliding window. How many sums are larger than the previous sum?"
   ]
  },
  {
   "cell_type": "code",
   "execution_count": 3,
   "id": "ffea1f0a",
   "metadata": {},
   "outputs": [
    {
     "data": {
      "text/html": [
       "<div>\n",
       "<style scoped>\n",
       "    .dataframe tbody tr th:only-of-type {\n",
       "        vertical-align: middle;\n",
       "    }\n",
       "\n",
       "    .dataframe tbody tr th {\n",
       "        vertical-align: top;\n",
       "    }\n",
       "\n",
       "    .dataframe thead th {\n",
       "        text-align: right;\n",
       "    }\n",
       "</style>\n",
       "<table border=\"1\" class=\"dataframe\">\n",
       "  <thead>\n",
       "    <tr style=\"text-align: right;\">\n",
       "      <th></th>\n",
       "      <th>depth</th>\n",
       "      <th>3sum</th>\n",
       "    </tr>\n",
       "  </thead>\n",
       "  <tbody>\n",
       "    <tr>\n",
       "      <th>0</th>\n",
       "      <td>182</td>\n",
       "      <td>574.0</td>\n",
       "    </tr>\n",
       "    <tr>\n",
       "      <th>1</th>\n",
       "      <td>188</td>\n",
       "      <td>595.0</td>\n",
       "    </tr>\n",
       "    <tr>\n",
       "      <th>2</th>\n",
       "      <td>204</td>\n",
       "      <td>612.0</td>\n",
       "    </tr>\n",
       "    <tr>\n",
       "      <th>3</th>\n",
       "      <td>203</td>\n",
       "      <td>614.0</td>\n",
       "    </tr>\n",
       "    <tr>\n",
       "      <th>4</th>\n",
       "      <td>205</td>\n",
       "      <td>619.0</td>\n",
       "    </tr>\n",
       "    <tr>\n",
       "      <th>...</th>\n",
       "      <td>...</td>\n",
       "      <td>...</td>\n",
       "    </tr>\n",
       "    <tr>\n",
       "      <th>1995</th>\n",
       "      <td>2573</td>\n",
       "      <td>7715.0</td>\n",
       "    </tr>\n",
       "    <tr>\n",
       "      <th>1996</th>\n",
       "      <td>2574</td>\n",
       "      <td>7718.0</td>\n",
       "    </tr>\n",
       "    <tr>\n",
       "      <th>1997</th>\n",
       "      <td>2568</td>\n",
       "      <td>7727.0</td>\n",
       "    </tr>\n",
       "    <tr>\n",
       "      <th>1998</th>\n",
       "      <td>2576</td>\n",
       "      <td>NaN</td>\n",
       "    </tr>\n",
       "    <tr>\n",
       "      <th>1999</th>\n",
       "      <td>2583</td>\n",
       "      <td>NaN</td>\n",
       "    </tr>\n",
       "  </tbody>\n",
       "</table>\n",
       "<p>2000 rows × 2 columns</p>\n",
       "</div>"
      ],
      "text/plain": [
       "      depth    3sum\n",
       "0       182   574.0\n",
       "1       188   595.0\n",
       "2       204   612.0\n",
       "3       203   614.0\n",
       "4       205   619.0\n",
       "...     ...     ...\n",
       "1995   2573  7715.0\n",
       "1996   2574  7718.0\n",
       "1997   2568  7727.0\n",
       "1998   2576     NaN\n",
       "1999   2583     NaN\n",
       "\n",
       "[2000 rows x 2 columns]"
      ]
     },
     "execution_count": 3,
     "metadata": {},
     "output_type": "execute_result"
    }
   ],
   "source": [
    "#create a copy of initial df\n",
    "df_pz1_2 = df_pz1.copy()\n",
    "\n",
    "#create column with following three measurement sums\n",
    "df_pz1_2['3sum'] = df_pz1_2.depth.rolling(3).sum().shift(-2)\n",
    "\n",
    "df_pz1_2"
   ]
  },
  {
   "cell_type": "code",
   "execution_count": 4,
   "id": "86e71524",
   "metadata": {},
   "outputs": [
    {
     "name": "stdout",
     "output_type": "stream",
     "text": [
      "Part II answer: 1150\n"
     ]
    }
   ],
   "source": [
    "#count the number of increases\n",
    "pz1_2_answer = (df_pz1_2['3sum'].diff() > 0).sum()\n",
    "print(\"Part II answer:\",pz1_2_answer)"
   ]
  },
  {
   "cell_type": "markdown",
   "id": "19e972d3",
   "metadata": {},
   "source": [
    "# Puzzle 2 \n",
    "## Part I\n",
    "\n",
    "--- Day 2: Dive! ---\n",
    "Now, you need to figure out how to pilot this thing.<br>\n",
    "<br>\n",
    "It seems like the submarine can take a series of commands like forward 1, down 2, or up 3:<br>\n",
    "<br>\n",
    "forward X increases the horizontal position by X units.<br>\n",
    "down X increases the depth by X units.<br>\n",
    "up X decreases the depth by X units.<br>\n",
    "<br>\n",
    "Note that since you're on a submarine, down and up affect your depth, and so they have the opposite result of what you might expect.\n",
    "<br>\n",
    "The submarine seems to already have a planned course (your puzzle input). You should probably figure out where it's going. For example:\n",
    "<br>\n",
    "forward 5<br>\n",
    "down 5<br>\n",
    "forward 8<br>\n",
    "up 3<br>\n",
    "down 8<br>\n",
    "forward 2<br>\n",
    "<br>\n",
    "Your horizontal position and depth both start at 0. The steps above would then modify them as follows:<br>\n",
    "<br>\n",
    "forward 5 adds 5 to your horizontal position, a total of 5.<br>\n",
    "down 5 adds 5 to your depth, resulting in a value of 5.<br>\n",
    "forward 8 adds 8 to your horizontal position, a total of 13.<br>\n",
    "up 3 decreases your depth by 3, resulting in a value of 2.<br>\n",
    "down 8 adds 8 to your depth, resulting in a value of 10.<br>\n",
    "forward 2 adds 2 to your horizontal position, a total of 15.<br>\n",
    "<br>\n",
    "After following these instructions, you would have a horizontal position of 15 and a depth of 10. (Multiplying these together produces 150.)<br>\n",
    "<br>\n",
    "Calculate the horizontal position and depth you would have after following the planned course. **What do you get if you multiply your final horizontal position by your final depth?**"
   ]
  },
  {
   "cell_type": "code",
   "execution_count": 5,
   "id": "b0c2b205",
   "metadata": {
    "code_folding": []
   },
   "outputs": [
    {
     "data": {
      "text/html": [
       "<div>\n",
       "<style scoped>\n",
       "    .dataframe tbody tr th:only-of-type {\n",
       "        vertical-align: middle;\n",
       "    }\n",
       "\n",
       "    .dataframe tbody tr th {\n",
       "        vertical-align: top;\n",
       "    }\n",
       "\n",
       "    .dataframe thead th {\n",
       "        text-align: right;\n",
       "    }\n",
       "</style>\n",
       "<table border=\"1\" class=\"dataframe\">\n",
       "  <thead>\n",
       "    <tr style=\"text-align: right;\">\n",
       "      <th></th>\n",
       "      <th>command</th>\n",
       "    </tr>\n",
       "  </thead>\n",
       "  <tbody>\n",
       "    <tr>\n",
       "      <th>0</th>\n",
       "      <td>forward 2</td>\n",
       "    </tr>\n",
       "    <tr>\n",
       "      <th>1</th>\n",
       "      <td>down 8</td>\n",
       "    </tr>\n",
       "    <tr>\n",
       "      <th>2</th>\n",
       "      <td>down 1</td>\n",
       "    </tr>\n",
       "  </tbody>\n",
       "</table>\n",
       "</div>"
      ],
      "text/plain": [
       "     command\n",
       "0  forward 2\n",
       "1     down 8\n",
       "2     down 1"
      ]
     },
     "execution_count": 5,
     "metadata": {},
     "output_type": "execute_result"
    }
   ],
   "source": [
    "#read data into df\n",
    "df_pz2 = pd.read_csv(\"data/pz02.txt\", \n",
    "                     header=None, \n",
    "                     names=['command'])\n",
    "df_pz2.head(3)"
   ]
  },
  {
   "cell_type": "code",
   "execution_count": 6,
   "id": "6cfcd772",
   "metadata": {},
   "outputs": [],
   "source": [
    "#separate directon and the value into separate columns\n",
    "df_pz2_sep = df_pz2.command.str.rsplit(\" \", expand=True).\\\n",
    "    rename(columns={0:\"command\", 1:\"step\"})"
   ]
  },
  {
   "cell_type": "code",
   "execution_count": 7,
   "id": "eb7d3eea",
   "metadata": {},
   "outputs": [
    {
     "name": "stdout",
     "output_type": "stream",
     "text": [
      "<class 'pandas.core.frame.DataFrame'>\n",
      "RangeIndex: 1000 entries, 0 to 999\n",
      "Data columns (total 2 columns):\n",
      " #   Column   Non-Null Count  Dtype \n",
      "---  ------   --------------  ----- \n",
      " 0   command  1000 non-null   object\n",
      " 1   step     1000 non-null   int64 \n",
      "dtypes: int64(1), object(1)\n",
      "memory usage: 15.8+ KB\n"
     ]
    }
   ],
   "source": [
    "#change step data type from object to int\n",
    "df_pz2_sep[\"step\"] = df_pz2_sep.step.astype(\"int64\")\n",
    "df_pz2_sep.info()"
   ]
  },
  {
   "cell_type": "code",
   "execution_count": 8,
   "id": "588a20b8",
   "metadata": {},
   "outputs": [
    {
     "data": {
      "text/plain": [
       "0"
      ]
     },
     "execution_count": 8,
     "metadata": {},
     "output_type": "execute_result"
    }
   ],
   "source": [
    "#check for negative values\n",
    "(df_pz2_sep.step < 0).sum() "
   ]
  },
  {
   "cell_type": "code",
   "execution_count": 9,
   "id": "314937a6",
   "metadata": {},
   "outputs": [
    {
     "name": "stdout",
     "output_type": "stream",
     "text": [
      "Ship went forward: 1998 units.\n"
     ]
    }
   ],
   "source": [
    "#find total forward value\n",
    "forward1 = df_pz2_sep.step[df_pz2_sep.command == \"forward\"].sum()\n",
    "print('Ship went forward:', forward1, \"units.\")"
   ]
  },
  {
   "cell_type": "code",
   "execution_count": 10,
   "id": "c7b87a3c",
   "metadata": {},
   "outputs": [
    {
     "name": "stdout",
     "output_type": "stream",
     "text": [
      "Total depth value: 741\n"
     ]
    }
   ],
   "source": [
    "#find total depth increase\n",
    "depth_inc1 = df_pz2_sep.step[df_pz2_sep.command == \"down\"].sum()\n",
    "\n",
    "#find total depth decrease\n",
    "depth_dec1 = df_pz2_sep.step[df_pz2_sep.command == \"up\"].sum()\n",
    "\n",
    "#total depth value\n",
    "depth_total1 = depth_inc1 - depth_dec1\n",
    "print(\"Total depth value:\", depth_total1)"
   ]
  },
  {
   "cell_type": "code",
   "execution_count": 11,
   "id": "daefc6d4",
   "metadata": {},
   "outputs": [
    {
     "name": "stdout",
     "output_type": "stream",
     "text": [
      "Puzzle 2.1 answer: 1480518\n"
     ]
    }
   ],
   "source": [
    "#multiply horizontal position to depth value\n",
    "pz2_answer = forward1 * depth_total1\n",
    "print(\"Puzzle 2.1 answer:\", pz2_answer)"
   ]
  },
  {
   "cell_type": "markdown",
   "id": "e56b1d1f",
   "metadata": {},
   "source": [
    "## Part II\n",
    "<br>\n",
    "Based on your calculations, the planned course doesn't seem to make any sense. You find the submarine manual and discover that the process is actually slightly more complicated.\n",
    "\n",
    "\n",
    "In addition to horizontal position and depth, you'll also need to track a third value, **aim**, which also starts at 0. The commands also mean something entirely different than you first thought:<br>\n",
    "\n",
    "* down X increases your aim by X units.\n",
    "* up X decreases your aim by X units.\n",
    "* forward X does two things:\n",
    "    * It increases your horizontal position by X units.\n",
    "    * It increases your depth by your aim multiplied by X.\n",
    "<br>\n",
    "Again note that since you're on a submarine, down and up do the opposite of what you might expect: \"down\" means aiming in the positive direction.<br>\n",
    "<br>\n",
    "Now, the above example does something different:<br>\n",
    "<br>\n",
    "- forward 5 adds 5 to your horizontal position, a total of 5. Because your aim is 0, your depth does not change.\n",
    "- down 5 adds 5 to your aim, resulting in a value of 5.\n",
    "- forward 8 adds 8 to your horizontal position, a total of 13. Because your aim is 5, your depth increases by 8*5=40.\n",
    "- up 3 decreases your aim by 3, resulting in a value of 2.\n",
    "- down 8 adds 8 to your aim, resulting in a value of 10.\n",
    "- forward 2 adds 2 to your horizontal position, a total of 15. Because your aim is 10, your depth increases by 2*10=20 to a total of 60.\n",
    "\n",
    "\n",
    "After following these new instructions, you would have a horizontal position of 15 and a depth of 60. (Multiplying these produces 900.)<br>\n",
    "<br>\n",
    "Using this new interpretation of the commands, calculate the horizontal position and depth you would have after following the planned course. **What do you get if you multiply your final horizontal position by your final depth?**"
   ]
  },
  {
   "cell_type": "code",
   "execution_count": 12,
   "id": "c7edf8ff",
   "metadata": {},
   "outputs": [
    {
     "data": {
      "text/html": [
       "<div>\n",
       "<style scoped>\n",
       "    .dataframe tbody tr th:only-of-type {\n",
       "        vertical-align: middle;\n",
       "    }\n",
       "\n",
       "    .dataframe tbody tr th {\n",
       "        vertical-align: top;\n",
       "    }\n",
       "\n",
       "    .dataframe thead th {\n",
       "        text-align: right;\n",
       "    }\n",
       "</style>\n",
       "<table border=\"1\" class=\"dataframe\">\n",
       "  <thead>\n",
       "    <tr style=\"text-align: right;\">\n",
       "      <th></th>\n",
       "      <th>command</th>\n",
       "      <th>step</th>\n",
       "    </tr>\n",
       "  </thead>\n",
       "  <tbody>\n",
       "    <tr>\n",
       "      <th>0</th>\n",
       "      <td>forward</td>\n",
       "      <td>2</td>\n",
       "    </tr>\n",
       "    <tr>\n",
       "      <th>1</th>\n",
       "      <td>down</td>\n",
       "      <td>8</td>\n",
       "    </tr>\n",
       "    <tr>\n",
       "      <th>2</th>\n",
       "      <td>down</td>\n",
       "      <td>1</td>\n",
       "    </tr>\n",
       "    <tr>\n",
       "      <th>3</th>\n",
       "      <td>up</td>\n",
       "      <td>7</td>\n",
       "    </tr>\n",
       "    <tr>\n",
       "      <th>4</th>\n",
       "      <td>forward</td>\n",
       "      <td>4</td>\n",
       "    </tr>\n",
       "  </tbody>\n",
       "</table>\n",
       "</div>"
      ],
      "text/plain": [
       "   command  step\n",
       "0  forward     2\n",
       "1     down     8\n",
       "2     down     1\n",
       "3       up     7\n",
       "4  forward     4"
      ]
     },
     "execution_count": 12,
     "metadata": {},
     "output_type": "execute_result"
    }
   ],
   "source": [
    "df_pz2_sep.head()"
   ]
  },
  {
   "cell_type": "code",
   "execution_count": 13,
   "id": "859e1fac",
   "metadata": {},
   "outputs": [
    {
     "name": "stdout",
     "output_type": "stream",
     "text": [
      "Final position: 1998\n",
      "Final aim: 741\n",
      "Final depth: 642047\n",
      "Final position x depth: 1282809906\n"
     ]
    }
   ],
   "source": [
    "#initialize position, aim & depth\n",
    "pz2_2_pos = 0\n",
    "pz2_2_aim = 0\n",
    "pz2_2_depth = 0\n",
    "\n",
    "#iterate through the data, line-by-line\n",
    "for i,row in df_pz2_sep.iterrows():\n",
    "    if row.command == \"forward\":\n",
    "        pz2_2_pos += row.step\n",
    "        pz2_2_depth += pz2_2_aim * row.step\n",
    "    if row.command == \"down\":\n",
    "        pz2_2_aim += row.step\n",
    "    if row.command == \"up\":\n",
    "        pz2_2_aim -= row.step\n",
    "\n",
    "print(\"Final position:\",pz2_2_pos)\n",
    "print(\"Final aim:\", pz2_2_aim)\n",
    "print(\"Final depth:\", pz2_2_depth)\n",
    "print(\"Final position x depth:\", pz2_2_pos * pz2_2_depth) "
   ]
  },
  {
   "cell_type": "markdown",
   "id": "4095f63d",
   "metadata": {},
   "source": [
    "# Puzzle 3\n",
    "## Part I\n",
    "\n",
    "--- Day 3: Binary Diagnostic ---<br>\n",
    "\n",
    "\n",
    "The submarine has been making some odd creaking noises, so you ask it to produce a diagnostic report just in case.\n",
    "\n",
    "\n",
    "The diagnostic report (your puzzle input) consists of a list of binary numbers which, when decoded properly, can tell you many useful things about the conditions of the submarine. The first parameter to check is the **power consumption**.\n",
    "\n",
    "\n",
    "You need to use the binary numbers in the diagnostic report to generate two new binary numbers (called the **gamma rate** and the **epsilon rate**). The power consumption can then be found by multiplying the gamma rate by the epsilon rate.\n",
    "\n",
    "\n",
    "Each bit in the gamma rate can be determined by finding the **most common bit in the corresponding position** of all numbers in the diagnostic report. For example, given the following diagnostic report:\n",
    "\n",
    "\n",
    "00100\n",
    "11110\n",
    "10110\n",
    "10111\n",
    "10101\n",
    "01111\n",
    "00111\n",
    "11100\n",
    "10000\n",
    "11001\n",
    "00010\n",
    "01010\n",
    "\n",
    "\n",
    "Considering only the first bit of each number, there are five 0 bits and seven 1 bits. Since the most common bit is 1, the first bit of the gamma rate is 1.\n",
    "\n",
    "\n",
    "The most common second bit of the numbers in the diagnostic report is 0, so the second bit of the gamma rate is 0.\n",
    "\n",
    "\n",
    "The most common value of the third, fourth, and fifth bits are 1, 1, and 0, respectively, and so the final three bits of the gamma rate are 110.\n",
    "\n",
    "\n",
    "So, the gamma rate is the binary number 10110, or 22 in decimal.\n",
    "\n",
    "\n",
    "The epsilon rate is calculated in a similar way; rather than use the most common bit, the least common bit from each position is used. So, the epsilon rate is 01001, or 9 in decimal. Multiplying the gamma rate (22) by the epsilon rate (9) produces the power consumption, 198.\n",
    "\n",
    "\n",
    "Use the binary numbers in your diagnostic report to calculate the gamma rate and epsilon rate, then multiply them together. **What is the power consumption of the submarine?** (Be sure to represent your answer in decimal, not binary.)"
   ]
  },
  {
   "cell_type": "code",
   "execution_count": 14,
   "id": "153bd80d",
   "metadata": {},
   "outputs": [
    {
     "data": {
      "text/html": [
       "<div>\n",
       "<style scoped>\n",
       "    .dataframe tbody tr th:only-of-type {\n",
       "        vertical-align: middle;\n",
       "    }\n",
       "\n",
       "    .dataframe tbody tr th {\n",
       "        vertical-align: top;\n",
       "    }\n",
       "\n",
       "    .dataframe thead th {\n",
       "        text-align: right;\n",
       "    }\n",
       "</style>\n",
       "<table border=\"1\" class=\"dataframe\">\n",
       "  <thead>\n",
       "    <tr style=\"text-align: right;\">\n",
       "      <th></th>\n",
       "      <th>binary</th>\n",
       "    </tr>\n",
       "  </thead>\n",
       "  <tbody>\n",
       "    <tr>\n",
       "      <th>0</th>\n",
       "      <td>010111111011</td>\n",
       "    </tr>\n",
       "    <tr>\n",
       "      <th>1</th>\n",
       "      <td>010010101110</td>\n",
       "    </tr>\n",
       "    <tr>\n",
       "      <th>2</th>\n",
       "      <td>011001001100</td>\n",
       "    </tr>\n",
       "  </tbody>\n",
       "</table>\n",
       "</div>"
      ],
      "text/plain": [
       "         binary\n",
       "0  010111111011\n",
       "1  010010101110\n",
       "2  011001001100"
      ]
     },
     "execution_count": 14,
     "metadata": {},
     "output_type": "execute_result"
    }
   ],
   "source": [
    "#read binary data in as string, won't lose leading 0-s\n",
    "df_pz3 = pd.read_csv('data/pz03.txt',\n",
    "                     header=None,\n",
    "                     names=['binary'],\n",
    "                     dtype='str')\n",
    "df_pz3.head(3)"
   ]
  },
  {
   "cell_type": "code",
   "execution_count": 15,
   "id": "779fdfea",
   "metadata": {},
   "outputs": [
    {
     "name": "stdout",
     "output_type": "stream",
     "text": [
      "<class 'pandas.core.frame.DataFrame'>\n",
      "RangeIndex: 1000 entries, 0 to 999\n",
      "Data columns (total 1 columns):\n",
      " #   Column  Non-Null Count  Dtype \n",
      "---  ------  --------------  ----- \n",
      " 0   binary  1000 non-null   object\n",
      "dtypes: object(1)\n",
      "memory usage: 7.9+ KB\n"
     ]
    }
   ],
   "source": [
    "df_pz3.info()"
   ]
  },
  {
   "cell_type": "code",
   "execution_count": 16,
   "id": "6a4cdadf",
   "metadata": {},
   "outputs": [
    {
     "data": {
      "text/plain": [
       "12    1000\n",
       "Name: binary, dtype: int64"
      ]
     },
     "execution_count": 16,
     "metadata": {},
     "output_type": "execute_result"
    }
   ],
   "source": [
    "#check if all the data has the same length\n",
    "df_pz3.binary.str.len().value_counts()"
   ]
  },
  {
   "cell_type": "code",
   "execution_count": 17,
   "id": "2959bedd",
   "metadata": {},
   "outputs": [
    {
     "data": {
      "text/plain": [
       "0      0\n",
       "1      0\n",
       "2      0\n",
       "3      0\n",
       "4      1\n",
       "      ..\n",
       "995    1\n",
       "996    0\n",
       "997    1\n",
       "998    1\n",
       "999    1\n",
       "Name: binary, Length: 1000, dtype: object"
      ]
     },
     "execution_count": 17,
     "metadata": {},
     "output_type": "execute_result"
    }
   ],
   "source": [
    "df_pz3.binary.str[0]"
   ]
  },
  {
   "cell_type": "code",
   "execution_count": 18,
   "id": "7dead60a",
   "metadata": {},
   "outputs": [
    {
     "data": {
      "text/html": [
       "<div>\n",
       "<style scoped>\n",
       "    .dataframe tbody tr th:only-of-type {\n",
       "        vertical-align: middle;\n",
       "    }\n",
       "\n",
       "    .dataframe tbody tr th {\n",
       "        vertical-align: top;\n",
       "    }\n",
       "\n",
       "    .dataframe thead th {\n",
       "        text-align: right;\n",
       "    }\n",
       "</style>\n",
       "<table border=\"1\" class=\"dataframe\">\n",
       "  <thead>\n",
       "    <tr style=\"text-align: right;\">\n",
       "      <th></th>\n",
       "      <th>binary</th>\n",
       "      <th>1</th>\n",
       "      <th>2</th>\n",
       "      <th>3</th>\n",
       "      <th>4</th>\n",
       "      <th>5</th>\n",
       "      <th>6</th>\n",
       "      <th>7</th>\n",
       "      <th>8</th>\n",
       "      <th>9</th>\n",
       "      <th>10</th>\n",
       "      <th>11</th>\n",
       "      <th>12</th>\n",
       "    </tr>\n",
       "  </thead>\n",
       "  <tbody>\n",
       "    <tr>\n",
       "      <th>0</th>\n",
       "      <td>010111111011</td>\n",
       "      <td>0</td>\n",
       "      <td>1</td>\n",
       "      <td>0</td>\n",
       "      <td>1</td>\n",
       "      <td>1</td>\n",
       "      <td>1</td>\n",
       "      <td>1</td>\n",
       "      <td>1</td>\n",
       "      <td>1</td>\n",
       "      <td>0</td>\n",
       "      <td>1</td>\n",
       "      <td>1</td>\n",
       "    </tr>\n",
       "    <tr>\n",
       "      <th>1</th>\n",
       "      <td>010010101110</td>\n",
       "      <td>0</td>\n",
       "      <td>1</td>\n",
       "      <td>0</td>\n",
       "      <td>0</td>\n",
       "      <td>1</td>\n",
       "      <td>0</td>\n",
       "      <td>1</td>\n",
       "      <td>0</td>\n",
       "      <td>1</td>\n",
       "      <td>1</td>\n",
       "      <td>1</td>\n",
       "      <td>0</td>\n",
       "    </tr>\n",
       "    <tr>\n",
       "      <th>2</th>\n",
       "      <td>011001001100</td>\n",
       "      <td>0</td>\n",
       "      <td>1</td>\n",
       "      <td>1</td>\n",
       "      <td>0</td>\n",
       "      <td>0</td>\n",
       "      <td>1</td>\n",
       "      <td>0</td>\n",
       "      <td>0</td>\n",
       "      <td>1</td>\n",
       "      <td>1</td>\n",
       "      <td>0</td>\n",
       "      <td>0</td>\n",
       "    </tr>\n",
       "    <tr>\n",
       "      <th>3</th>\n",
       "      <td>001000001010</td>\n",
       "      <td>0</td>\n",
       "      <td>0</td>\n",
       "      <td>1</td>\n",
       "      <td>0</td>\n",
       "      <td>0</td>\n",
       "      <td>0</td>\n",
       "      <td>0</td>\n",
       "      <td>0</td>\n",
       "      <td>1</td>\n",
       "      <td>0</td>\n",
       "      <td>1</td>\n",
       "      <td>0</td>\n",
       "    </tr>\n",
       "    <tr>\n",
       "      <th>4</th>\n",
       "      <td>111100101000</td>\n",
       "      <td>1</td>\n",
       "      <td>1</td>\n",
       "      <td>1</td>\n",
       "      <td>1</td>\n",
       "      <td>0</td>\n",
       "      <td>0</td>\n",
       "      <td>1</td>\n",
       "      <td>0</td>\n",
       "      <td>1</td>\n",
       "      <td>0</td>\n",
       "      <td>0</td>\n",
       "      <td>0</td>\n",
       "    </tr>\n",
       "  </tbody>\n",
       "</table>\n",
       "</div>"
      ],
      "text/plain": [
       "         binary  1  2  3  4  5  6  7  8  9 10 11 12\n",
       "0  010111111011  0  1  0  1  1  1  1  1  1  0  1  1\n",
       "1  010010101110  0  1  0  0  1  0  1  0  1  1  1  0\n",
       "2  011001001100  0  1  1  0  0  1  0  0  1  1  0  0\n",
       "3  001000001010  0  0  1  0  0  0  0  0  1  0  1  0\n",
       "4  111100101000  1  1  1  1  0  0  1  0  1  0  0  0"
      ]
     },
     "execution_count": 18,
     "metadata": {},
     "output_type": "execute_result"
    }
   ],
   "source": [
    "#separate each bit to corresponding column\n",
    "for i in range(12):\n",
    "    df_pz3[i+1] = df_pz3.binary.str[i]\n",
    "\n",
    "df_pz3.head()"
   ]
  },
  {
   "cell_type": "code",
   "execution_count": 19,
   "id": "dee4f891",
   "metadata": {},
   "outputs": [
    {
     "name": "stdout",
     "output_type": "stream",
     "text": [
      "1    516\n",
      "0    484\n",
      "Name: 3, dtype: int64\n",
      "0\n"
     ]
    }
   ],
   "source": [
    "for i in range(3,4):\n",
    "    print(df_pz3[i].value_counts())\n",
    "    print(df_pz3[i].value_counts().index[1])"
   ]
  },
  {
   "cell_type": "code",
   "execution_count": 20,
   "id": "10142214",
   "metadata": {},
   "outputs": [
    {
     "name": "stdout",
     "output_type": "stream",
     "text": [
      "Gamma rate:  2987\n",
      "Epsilon rate: 1108\n"
     ]
    }
   ],
   "source": [
    "#find mode 1 value from each bit column\n",
    "pz3_gamma_list = [df_pz3[i].mode().values[0] for i in range(1,13)]\n",
    "\n",
    "#join bits in the list into string\n",
    "pz3_gamma_str = \"\".join(pz3_gamma_list)\n",
    "\n",
    "#convert to binary then decimal\n",
    "pz3_gamma_decimal = int(pz3_gamma_str,base=2)\n",
    "\n",
    "print(\"Gamma rate: \",pz3_gamma_decimal)\n",
    "\n",
    "#find least frequent bit in each column\n",
    "pz3_epsilon_list = [df_pz3[i].value_counts().index[1] for i in range(1,13)]\n",
    "\n",
    "#find epsilon rate\n",
    "pz3_epsilon_decimal = int(\"\".join(pz3_epsilon_list), base=2)\n",
    "\n",
    "print(\"Epsilon rate:\",pz3_epsilon_decimal)"
   ]
  },
  {
   "cell_type": "code",
   "execution_count": 21,
   "id": "87808df0",
   "metadata": {},
   "outputs": [
    {
     "name": "stdout",
     "output_type": "stream",
     "text": [
      "Submarine consumption: 3309596\n"
     ]
    }
   ],
   "source": [
    "#fnding the consumption of the submarine\n",
    "pz3_consumption = pz3_epsilon_decimal * pz3_gamma_decimal\n",
    "print(\"Submarine consumption:\", pz3_consumption)"
   ]
  },
  {
   "cell_type": "markdown",
   "id": "f8d047de",
   "metadata": {},
   "source": [
    "## Part II\n",
    "\n",
    "--- Part Two ---\n",
    "\n",
    "\n",
    "Next, you should verify the life support rating, which can be determined by multiplying the oxygen generator rating by the CO2 scrubber rating.\n",
    "\n",
    "\n",
    "Both the oxygen generator rating and the CO2 scrubber rating are values that can be found in your diagnostic report - finding them is the tricky part. Both values are located using a similar process that involves filtering out values until only one remains. Before searching for either rating value, start with the full list of binary numbers from your diagnostic report and consider just the first bit of those numbers. Then:\n",
    "\n",
    "\n",
    "* Keep only numbers selected by the bit criteria for the type of rating value for which you are searching. Discard numbers which do not match the bit criteria.\n",
    "* If you only have one number left, stop; this is the rating value for which you are searching.\n",
    "* Otherwise, repeat the process, considering the next bit to the right.\n",
    "\n",
    "\n",
    "The bit criteria depends on which type of rating value you want to find:\n",
    "\n",
    "\n",
    "* To find oxygen generator rating, determine the most common value (0 or 1) in the current bit position, and keep only numbers with that bit in that position. If 0 and 1 are equally common, keep values with a 1 in the position being considered.\n",
    "* To find CO2 scrubber rating, determine the least common value (0 or 1) in the current bit position, and keep only numbers with that bit in that position. If 0 and 1 are equally common, keep values with a 0 in the position being considered.\n",
    "\n",
    "\n",
    "Use the binary numbers in your diagnostic report to calculate the oxygen generator rating and CO2 scrubber rating, then multiply them together. **What is the life support rating of the submarine?** (Be sure to represent your answer in decimal, not binary.)"
   ]
  },
  {
   "cell_type": "code",
   "execution_count": 22,
   "id": "5c5f2e97",
   "metadata": {},
   "outputs": [
    {
     "data": {
      "text/html": [
       "<div>\n",
       "<style scoped>\n",
       "    .dataframe tbody tr th:only-of-type {\n",
       "        vertical-align: middle;\n",
       "    }\n",
       "\n",
       "    .dataframe tbody tr th {\n",
       "        vertical-align: top;\n",
       "    }\n",
       "\n",
       "    .dataframe thead th {\n",
       "        text-align: right;\n",
       "    }\n",
       "</style>\n",
       "<table border=\"1\" class=\"dataframe\">\n",
       "  <thead>\n",
       "    <tr style=\"text-align: right;\">\n",
       "      <th></th>\n",
       "      <th>binary</th>\n",
       "      <th>1</th>\n",
       "      <th>2</th>\n",
       "      <th>3</th>\n",
       "      <th>4</th>\n",
       "      <th>5</th>\n",
       "      <th>6</th>\n",
       "      <th>7</th>\n",
       "      <th>8</th>\n",
       "      <th>9</th>\n",
       "      <th>10</th>\n",
       "      <th>11</th>\n",
       "      <th>12</th>\n",
       "    </tr>\n",
       "  </thead>\n",
       "  <tbody>\n",
       "    <tr>\n",
       "      <th>0</th>\n",
       "      <td>010111111011</td>\n",
       "      <td>0</td>\n",
       "      <td>1</td>\n",
       "      <td>0</td>\n",
       "      <td>1</td>\n",
       "      <td>1</td>\n",
       "      <td>1</td>\n",
       "      <td>1</td>\n",
       "      <td>1</td>\n",
       "      <td>1</td>\n",
       "      <td>0</td>\n",
       "      <td>1</td>\n",
       "      <td>1</td>\n",
       "    </tr>\n",
       "    <tr>\n",
       "      <th>1</th>\n",
       "      <td>010010101110</td>\n",
       "      <td>0</td>\n",
       "      <td>1</td>\n",
       "      <td>0</td>\n",
       "      <td>0</td>\n",
       "      <td>1</td>\n",
       "      <td>0</td>\n",
       "      <td>1</td>\n",
       "      <td>0</td>\n",
       "      <td>1</td>\n",
       "      <td>1</td>\n",
       "      <td>1</td>\n",
       "      <td>0</td>\n",
       "    </tr>\n",
       "    <tr>\n",
       "      <th>2</th>\n",
       "      <td>011001001100</td>\n",
       "      <td>0</td>\n",
       "      <td>1</td>\n",
       "      <td>1</td>\n",
       "      <td>0</td>\n",
       "      <td>0</td>\n",
       "      <td>1</td>\n",
       "      <td>0</td>\n",
       "      <td>0</td>\n",
       "      <td>1</td>\n",
       "      <td>1</td>\n",
       "      <td>0</td>\n",
       "      <td>0</td>\n",
       "    </tr>\n",
       "    <tr>\n",
       "      <th>3</th>\n",
       "      <td>001000001010</td>\n",
       "      <td>0</td>\n",
       "      <td>0</td>\n",
       "      <td>1</td>\n",
       "      <td>0</td>\n",
       "      <td>0</td>\n",
       "      <td>0</td>\n",
       "      <td>0</td>\n",
       "      <td>0</td>\n",
       "      <td>1</td>\n",
       "      <td>0</td>\n",
       "      <td>1</td>\n",
       "      <td>0</td>\n",
       "    </tr>\n",
       "    <tr>\n",
       "      <th>4</th>\n",
       "      <td>111100101000</td>\n",
       "      <td>1</td>\n",
       "      <td>1</td>\n",
       "      <td>1</td>\n",
       "      <td>1</td>\n",
       "      <td>0</td>\n",
       "      <td>0</td>\n",
       "      <td>1</td>\n",
       "      <td>0</td>\n",
       "      <td>1</td>\n",
       "      <td>0</td>\n",
       "      <td>0</td>\n",
       "      <td>0</td>\n",
       "    </tr>\n",
       "  </tbody>\n",
       "</table>\n",
       "</div>"
      ],
      "text/plain": [
       "         binary  1  2  3  4  5  6  7  8  9 10 11 12\n",
       "0  010111111011  0  1  0  1  1  1  1  1  1  0  1  1\n",
       "1  010010101110  0  1  0  0  1  0  1  0  1  1  1  0\n",
       "2  011001001100  0  1  1  0  0  1  0  0  1  1  0  0\n",
       "3  001000001010  0  0  1  0  0  0  0  0  1  0  1  0\n",
       "4  111100101000  1  1  1  1  0  0  1  0  1  0  0  0"
      ]
     },
     "execution_count": 22,
     "metadata": {},
     "output_type": "execute_result"
    }
   ],
   "source": [
    "df_pz3.head()"
   ]
  },
  {
   "cell_type": "code",
   "execution_count": 45,
   "id": "33c9a383",
   "metadata": {},
   "outputs": [
    {
     "name": "stdout",
     "output_type": "stream",
     "text": [
      "Oxygen Generator Rating: 2815\n"
     ]
    }
   ],
   "source": [
    "#create a copy df\n",
    "df_pz3_2 = df_pz3.copy()\n",
    "\n",
    "#find oxygen generator rating\n",
    "oxy_gen_rate = 0\n",
    "for i in range(1,13):\n",
    "    if df_pz3_2.shape[0] == 1:\n",
    "        oxy_gen_rate = int(df_pz3_2.binary.values[0], 2)\n",
    "        break\n",
    "    \n",
    "    most_counts = df_pz3_2[i].value_counts()[0]\n",
    "    least_counts = df_pz3_2[i].value_counts()[1]\n",
    "    most_value = df_pz3_2[i].value_counts().index[0]\n",
    "    \n",
    "    if most_counts == least_counts:\n",
    "        df_pz3_2 = df_pz3_2[df_pz3_2[i] == \"1\"]\n",
    "    else:\n",
    "        df_pz3_2 = df_pz3_2[df_pz3_2[i] == most_value]\n",
    "\n",
    "print(\"Oxygen Generator Rating:\", oxy_gen_rate)"
   ]
  },
  {
   "cell_type": "code",
   "execution_count": 46,
   "id": "1c479c1d",
   "metadata": {},
   "outputs": [
    {
     "name": "stdout",
     "output_type": "stream",
     "text": [
      "CO2 Scrubber Rating: 1059\n"
     ]
    }
   ],
   "source": [
    "#create a copy df\n",
    "df_pz3_2 = df_pz3.copy()\n",
    "\n",
    "#find CO2 scrubber rating\n",
    "co2_scrub_rate = 0\n",
    "for i in range(1,13):\n",
    "    \n",
    "    if df_pz3_2.shape[0] == 1:\n",
    "        co2_scrub_rate = int(df_pz3_2.binary.values[0], 2)\n",
    "        break\n",
    "    \n",
    "    most_counts = df_pz3_2[i].value_counts()[0]\n",
    "    least_counts = df_pz3_2[i].value_counts()[1]\n",
    "    least_value = df_pz3_2[i].value_counts().index[1]\n",
    "    \n",
    "    if most_counts == least_counts:\n",
    "        df_pz3_2 = df_pz3_2[df_pz3_2[i] == \"0\"]\n",
    "    else:\n",
    "        df_pz3_2 = df_pz3_2[df_pz3_2[i] == least_value]\n",
    "\n",
    "print(\"CO2 Scrubber Rating:\", co2_scrub_rate)"
   ]
  },
  {
   "cell_type": "code",
   "execution_count": 47,
   "id": "e926d57d",
   "metadata": {},
   "outputs": [
    {
     "name": "stdout",
     "output_type": "stream",
     "text": [
      "Life Support Rate: 2981085\n"
     ]
    }
   ],
   "source": [
    "#find the life support rating\n",
    "life_support_rate = oxy_gen_rate * co2_scrub_rate\n",
    "print(\"Life Support Rate:\",life_support_rate)"
   ]
  },
  {
   "cell_type": "markdown",
   "id": "8b44df1f",
   "metadata": {},
   "source": [
    "# Puzzle 4\n",
    "## Part I\n",
    "\n",
    "--- Day 4: Giant Squid ---\n",
    "You're already almost 1.5km (almost a mile) below the surface of the ocean, already so deep that you can't see any sunlight. What you can see, however, is a giant squid that has attached itself to the outside of your submarine.\n",
    "\n",
    "\n",
    "Maybe it wants to play bingo?\n",
    "\n",
    "\n",
    "Bingo is played on a set of boards each consisting of a 5x5 grid of numbers. Numbers are chosen at random, and the chosen number is **marked** on all boards on which it appears. (Numbers may not appear on all boards.) If all numbers in any row or any column of a board are marked, that board wins. (Diagonals don't count.)\n",
    "\n",
    "\n",
    "The submarine has a bingo subsystem to help passengers (currently, you and the giant squid) pass the time. It automatically generates a random order in which to draw numbers and a random set of boards (your puzzle input). For example:"
   ]
  },
  {
   "cell_type": "code",
   "execution_count": 311,
   "id": "04cd7d93",
   "metadata": {},
   "outputs": [
    {
     "data": {
      "text/html": [
       "<div>\n",
       "<style scoped>\n",
       "    .dataframe tbody tr th:only-of-type {\n",
       "        vertical-align: middle;\n",
       "    }\n",
       "\n",
       "    .dataframe tbody tr th {\n",
       "        vertical-align: top;\n",
       "    }\n",
       "\n",
       "    .dataframe thead th {\n",
       "        text-align: right;\n",
       "    }\n",
       "</style>\n",
       "<table border=\"1\" class=\"dataframe\">\n",
       "  <thead>\n",
       "    <tr style=\"text-align: right;\">\n",
       "      <th></th>\n",
       "      <th>0</th>\n",
       "      <th>1</th>\n",
       "      <th>2</th>\n",
       "      <th>3</th>\n",
       "      <th>4</th>\n",
       "    </tr>\n",
       "  </thead>\n",
       "  <tbody>\n",
       "    <tr>\n",
       "      <th>0</th>\n",
       "      <td>78.0</td>\n",
       "      <td>27.0</td>\n",
       "      <td>82.0</td>\n",
       "      <td>68.0</td>\n",
       "      <td>20.0</td>\n",
       "    </tr>\n",
       "    <tr>\n",
       "      <th>1</th>\n",
       "      <td>14.0</td>\n",
       "      <td>2.0</td>\n",
       "      <td>34.0</td>\n",
       "      <td>51.0</td>\n",
       "      <td>7.0</td>\n",
       "    </tr>\n",
       "    <tr>\n",
       "      <th>2</th>\n",
       "      <td>58.0</td>\n",
       "      <td>57.0</td>\n",
       "      <td>99.0</td>\n",
       "      <td>37.0</td>\n",
       "      <td>81.0</td>\n",
       "    </tr>\n",
       "    <tr>\n",
       "      <th>3</th>\n",
       "      <td>9.0</td>\n",
       "      <td>4.0</td>\n",
       "      <td>0.0</td>\n",
       "      <td>76.0</td>\n",
       "      <td>45.0</td>\n",
       "    </tr>\n",
       "    <tr>\n",
       "      <th>4</th>\n",
       "      <td>67.0</td>\n",
       "      <td>69.0</td>\n",
       "      <td>70.0</td>\n",
       "      <td>17.0</td>\n",
       "      <td>23.0</td>\n",
       "    </tr>\n",
       "    <tr>\n",
       "      <th>5</th>\n",
       "      <td>NaN</td>\n",
       "      <td>NaN</td>\n",
       "      <td>NaN</td>\n",
       "      <td>NaN</td>\n",
       "      <td>NaN</td>\n",
       "    </tr>\n",
       "  </tbody>\n",
       "</table>\n",
       "</div>"
      ],
      "text/plain": [
       "      0     1     2     3     4\n",
       "0  78.0  27.0  82.0  68.0  20.0\n",
       "1  14.0   2.0  34.0  51.0   7.0\n",
       "2  58.0  57.0  99.0  37.0  81.0\n",
       "3   9.0   4.0   0.0  76.0  45.0\n",
       "4  67.0  69.0  70.0  17.0  23.0\n",
       "5   NaN   NaN   NaN   NaN   NaN"
      ]
     },
     "execution_count": 311,
     "metadata": {},
     "output_type": "execute_result"
    }
   ],
   "source": [
    "#read in the data\n",
    "df4 = pd.read_csv(\"data/pz04.txt\",\n",
    "                sep=r\"\\s{1,2}\", #separate with 1 or 2 whitespaces\n",
    "                dtype='float64',\n",
    "                header=None,\n",
    "                skiprows=2,\n",
    "                skip_blank_lines=False,\n",
    "                engine='python')\n",
    "df4.head(6)"
   ]
  },
  {
   "cell_type": "code",
   "execution_count": 312,
   "id": "2c483be6",
   "metadata": {},
   "outputs": [
    {
     "data": {
      "text/html": [
       "<div>\n",
       "<style scoped>\n",
       "    .dataframe tbody tr th:only-of-type {\n",
       "        vertical-align: middle;\n",
       "    }\n",
       "\n",
       "    .dataframe tbody tr th {\n",
       "        vertical-align: top;\n",
       "    }\n",
       "\n",
       "    .dataframe thead th {\n",
       "        text-align: right;\n",
       "    }\n",
       "</style>\n",
       "<table border=\"1\" class=\"dataframe\">\n",
       "  <thead>\n",
       "    <tr style=\"text-align: right;\">\n",
       "      <th></th>\n",
       "      <th>0</th>\n",
       "      <th>1</th>\n",
       "      <th>2</th>\n",
       "      <th>3</th>\n",
       "      <th>4</th>\n",
       "      <th>sum</th>\n",
       "    </tr>\n",
       "  </thead>\n",
       "  <tbody>\n",
       "    <tr>\n",
       "      <th>593</th>\n",
       "      <td>NaN</td>\n",
       "      <td>NaN</td>\n",
       "      <td>NaN</td>\n",
       "      <td>NaN</td>\n",
       "      <td>NaN</td>\n",
       "      <td>NaN</td>\n",
       "    </tr>\n",
       "    <tr>\n",
       "      <th>594</th>\n",
       "      <td>23.0</td>\n",
       "      <td>1.0</td>\n",
       "      <td>53.0</td>\n",
       "      <td>65.0</td>\n",
       "      <td>30.0</td>\n",
       "      <td>NaN</td>\n",
       "    </tr>\n",
       "    <tr>\n",
       "      <th>595</th>\n",
       "      <td>45.0</td>\n",
       "      <td>15.0</td>\n",
       "      <td>9.0</td>\n",
       "      <td>26.0</td>\n",
       "      <td>28.0</td>\n",
       "      <td>NaN</td>\n",
       "    </tr>\n",
       "    <tr>\n",
       "      <th>596</th>\n",
       "      <td>2.0</td>\n",
       "      <td>21.0</td>\n",
       "      <td>42.0</td>\n",
       "      <td>27.0</td>\n",
       "      <td>12.0</td>\n",
       "      <td>NaN</td>\n",
       "    </tr>\n",
       "    <tr>\n",
       "      <th>597</th>\n",
       "      <td>84.0</td>\n",
       "      <td>68.0</td>\n",
       "      <td>71.0</td>\n",
       "      <td>19.0</td>\n",
       "      <td>13.0</td>\n",
       "      <td>NaN</td>\n",
       "    </tr>\n",
       "    <tr>\n",
       "      <th>598</th>\n",
       "      <td>58.0</td>\n",
       "      <td>57.0</td>\n",
       "      <td>35.0</td>\n",
       "      <td>77.0</td>\n",
       "      <td>14.0</td>\n",
       "      <td>NaN</td>\n",
       "    </tr>\n",
       "    <tr>\n",
       "      <th>599</th>\n",
       "      <td>NaN</td>\n",
       "      <td>NaN</td>\n",
       "      <td>NaN</td>\n",
       "      <td>NaN</td>\n",
       "      <td>NaN</td>\n",
       "      <td>NaN</td>\n",
       "    </tr>\n",
       "  </tbody>\n",
       "</table>\n",
       "</div>"
      ],
      "text/plain": [
       "        0     1     2     3     4  sum\n",
       "593   NaN   NaN   NaN   NaN   NaN  NaN\n",
       "594  23.0   1.0  53.0  65.0  30.0  NaN\n",
       "595  45.0  15.0   9.0  26.0  28.0  NaN\n",
       "596   2.0  21.0  42.0  27.0  12.0  NaN\n",
       "597  84.0  68.0  71.0  19.0  13.0  NaN\n",
       "598  58.0  57.0  35.0  77.0  14.0  NaN\n",
       "599   NaN   NaN   NaN   NaN   NaN  NaN"
      ]
     },
     "execution_count": 312,
     "metadata": {},
     "output_type": "execute_result"
    }
   ],
   "source": [
    "#append empty line to the bottom of the DF\n",
    "df4 = df4.append(pd.Series(dtype='float64'), ignore_index=True)\n",
    "\n",
    "#add empty column to DF\n",
    "df4['sum'] = pd.Series(dtype='float64')\n",
    "\n",
    "df4.tail(7)"
   ]
  },
  {
   "cell_type": "code",
   "execution_count": 313,
   "id": "4428b888",
   "metadata": {},
   "outputs": [
    {
     "data": {
      "text/html": [
       "<div>\n",
       "<style scoped>\n",
       "    .dataframe tbody tr th:only-of-type {\n",
       "        vertical-align: middle;\n",
       "    }\n",
       "\n",
       "    .dataframe tbody tr th {\n",
       "        vertical-align: top;\n",
       "    }\n",
       "\n",
       "    .dataframe thead th {\n",
       "        text-align: right;\n",
       "    }\n",
       "</style>\n",
       "<table border=\"1\" class=\"dataframe\">\n",
       "  <thead>\n",
       "    <tr style=\"text-align: right;\">\n",
       "      <th></th>\n",
       "      <th>0</th>\n",
       "      <th>1</th>\n",
       "      <th>2</th>\n",
       "      <th>3</th>\n",
       "      <th>4</th>\n",
       "      <th>sum</th>\n",
       "    </tr>\n",
       "  </thead>\n",
       "  <tbody>\n",
       "    <tr>\n",
       "      <th>0</th>\n",
       "      <td>71</td>\n",
       "      <td>84</td>\n",
       "      <td>42</td>\n",
       "      <td>49</td>\n",
       "      <td>81</td>\n",
       "      <td>0</td>\n",
       "    </tr>\n",
       "    <tr>\n",
       "      <th>1</th>\n",
       "      <td>26</td>\n",
       "      <td>40</td>\n",
       "      <td>24</td>\n",
       "      <td>73</td>\n",
       "      <td>18</td>\n",
       "      <td>0</td>\n",
       "    </tr>\n",
       "    <tr>\n",
       "      <th>2</th>\n",
       "      <td>41</td>\n",
       "      <td>37</td>\n",
       "      <td>19</td>\n",
       "      <td>25</td>\n",
       "      <td>75</td>\n",
       "      <td>0</td>\n",
       "    </tr>\n",
       "    <tr>\n",
       "      <th>3</th>\n",
       "      <td>76</td>\n",
       "      <td>63</td>\n",
       "      <td>48</td>\n",
       "      <td>56</td>\n",
       "      <td>55</td>\n",
       "      <td>0</td>\n",
       "    </tr>\n",
       "    <tr>\n",
       "      <th>4</th>\n",
       "      <td>85</td>\n",
       "      <td>51</td>\n",
       "      <td>29</td>\n",
       "      <td>88</td>\n",
       "      <td>23</td>\n",
       "      <td>0</td>\n",
       "    </tr>\n",
       "    <tr>\n",
       "      <th>5</th>\n",
       "      <td>0</td>\n",
       "      <td>0</td>\n",
       "      <td>0</td>\n",
       "      <td>0</td>\n",
       "      <td>0</td>\n",
       "      <td>0</td>\n",
       "    </tr>\n",
       "  </tbody>\n",
       "</table>\n",
       "</div>"
      ],
      "text/plain": [
       "    0   1   2   3   4  sum\n",
       "0  71  84  42  49  81    0\n",
       "1  26  40  24  73  18    0\n",
       "2  41  37  19  25  75    0\n",
       "3  76  63  48  56  55    0\n",
       "4  85  51  29  88  23    0\n",
       "5   0   0   0   0   0    0"
      ]
     },
     "execution_count": 313,
     "metadata": {},
     "output_type": "execute_result"
    }
   ],
   "source": [
    "#fill missing values with 0\n",
    "df4 = df4.fillna(0)\n",
    "\n",
    "#convert floats to integers\n",
    "df4 = df4.astype('int64')\n",
    "\n",
    "#split df into smaller 6x6 bingo fields and store in a list\n",
    "df4_list = list(df4.groupby(df4.index // 6))\n",
    "\n",
    "#reset each df index from 0 to 5\n",
    "df4_list = [tpl[1].reset_index(drop=True) for tpl in df4_list]\n",
    "\n",
    "#sample df in the list\n",
    "df4_list[3]"
   ]
  },
  {
   "cell_type": "code",
   "execution_count": 314,
   "id": "c921ba43",
   "metadata": {},
   "outputs": [
    {
     "name": "stdout",
     "output_type": "stream",
     "text": [
      "[69, 88, 67, 56, 53, 97, 46, 29, 37, 51, 3, 93, 92, 78, 41, 22, 45, 66, 13, 82, 2, 7, 52, 40, 18, 70, 32, 95, 89, 64, 84, 68, 83, 26, 43, 0, 61, 36, 57, 34, 80, 39, 6, 63, 72, 98, 21, 54, 23, 28, 65, 16, 76, 11, 20, 33, 96, 4, 10, 25, 30, 19, 90, 24, 55, 91, 15, 8, 71, 99, 58, 14, 60, 48, 44, 17, 47, 85, 74, 87, 86, 27, 42, 38, 81, 79, 94, 73, 12, 5, 77, 35, 9, 62, 50, 31, 49, 59, 75, 1]\n"
     ]
    }
   ],
   "source": [
    "#import generated numbers into a list\n",
    "gen_number_list = pd.read_csv(\"data/pz04.txt\", nrows=1, header=None).\\\n",
    "    iloc[0,:].tolist()\n",
    "\n",
    "print(gen_number_list)"
   ]
  },
  {
   "cell_type": "code",
   "execution_count": 315,
   "id": "359a40c4",
   "metadata": {},
   "outputs": [
    {
     "name": "stdout",
     "output_type": "stream",
     "text": [
      "Winning Board:\n",
      "    0   1   2   3   4  sum\n",
      "0   2  16  50  26  84    3\n",
      "1  97  24  32  51   8    3\n",
      "2  70   0   3  52   9    3\n",
      "3   1  59  43  64  80    1\n",
      "4  22  23  17  92  88    3\n",
      "5   4   0   2   5   2    0\n",
      "---------\n",
      "Last number: 26\n"
     ]
    }
   ],
   "source": [
    "#each marked number scores 1 to corresponding row and column.\n",
    "#iterate through generated numbers till either\n",
    "#a column or a row has a score of 5\n",
    "drawed_numbers = []\n",
    "last_number = None\n",
    "board1 = None\n",
    "for n in gen_number_list:\n",
    "    drawed_numbers.append(n)\n",
    "    for df in df4_list:\n",
    "        mask = df.iloc[:5,:5].isin([n])\n",
    "        \n",
    "        if mask.any().any() == True:\n",
    "            i = np.where(mask)[0][0]\n",
    "            c = np.where(mask)[1][0]\n",
    "            df.loc[i,'sum'] += 1\n",
    "            df.loc[5,c] += 1\n",
    "            \n",
    "         #each marked number scores 1 to corresponding row and column.\n",
    "#iterate through generated numbers till either\n",
    "#a column or a row has a score of 5\n",
    "drawed_numbers = []\n",
    "last_number = None\n",
    "board1 = None\n",
    "for n in gen_number_list:\n",
    "    drawed_numbers.append(n)\n",
    "    for df in df4_list:\n",
    "        mask = df.iloc[:5,:5].isin([n])\n",
    "        \n",
    "        if mask.any().any() == True:\n",
    "            i = np.where(mask)[0][0]\n",
    "            c = np.where(mask)[1][0]\n",
    "            df.loc[i,'sum'] += 1\n",
    "            df.loc[5,c] += 1\n",
    "            \n",
    "            if (df['sum'] == 5).any() == True or (df.iloc[5,:] == 5).any() == True:\n",
    "                board1 = df\n",
    "                last_number = n\n",
    "                print(\"Winning Board:\")\n",
    "                print(board1)\n",
    "                print('---------')\n",
    "                print(\"Last number:\", last_number)\n",
    "                break\n",
    "    else:\n",
    "        continue\n",
    "    break   if (df['sum'] == 5).any() == True or (df.iloc[5,:] == 5).any() == True:\n",
    "                board1 = df\n",
    "                last_number = n\n",
    "                print(\"Winning Board:\")\n",
    "                print(board1)\n",
    "                print('---------')\n",
    "                print(\"Last number:\", last_number)\n",
    "                break\n",
    "    else:\n",
    "        continue\n",
    "    break"
   ]
  },
  {
   "cell_type": "code",
   "execution_count": 316,
   "id": "32235611",
   "metadata": {},
   "outputs": [
    {
     "name": "stdout",
     "output_type": "stream",
     "text": [
      "[2, 16, 50, 26, 84, 97, 24, 32, 51, 8, 70, 0, 3, 52, 9, 1, 59, 43, 64, 80, 22, 23, 17, 92, 88]\n"
     ]
    }
   ],
   "source": [
    "#all numbers on the board that won\n",
    "#excluing counting column and row\n",
    "board1_flat = [n for row in board1.iloc[:5,:5].values.tolist() for n in row]\n",
    "print(board1_flat)"
   ]
  },
  {
   "cell_type": "code",
   "execution_count": 317,
   "id": "bcc45b63",
   "metadata": {},
   "outputs": [
    {
     "name": "stdout",
     "output_type": "stream",
     "text": [
      "[69, 88, 67, 56, 53, 97, 46, 29, 37, 51, 3, 93, 92, 78, 41, 22, 45, 66, 13, 82, 2, 7, 52, 40, 18, 70, 32, 95, 89, 64, 84, 68, 83, 26]\n"
     ]
    }
   ],
   "source": [
    "#all drawed numbers\n",
    "print(drawed_numbers)"
   ]
  },
  {
   "cell_type": "code",
   "execution_count": 318,
   "id": "bf690142",
   "metadata": {},
   "outputs": [
    {
     "name": "stdout",
     "output_type": "stream",
     "text": [
      "Unmarked numbers:\n",
      " [0, 1, 8, 9, 16, 17, 80, 23, 24, 43, 50, 59]\n",
      "------------------\n",
      "Sum of unmarked numbers: 330\n",
      "------------------\n",
      "Final score: 8580\n"
     ]
    }
   ],
   "source": [
    "#find numbers that were not drawn on the board\n",
    "unmarked_n = [i for i in set(board1_flat).difference(drawed_numbers)]\n",
    "print(\"Unmarked numbers:\\n\",unmarked_n)\n",
    "\n",
    "#find the sum of the unmarked numbers\n",
    "unmarked_sum = sum(unmarked_n)\n",
    "print(\"------------------\")\n",
    "print(\"Sum of unmarked numbers:\",unmarked_sum)\n",
    "\n",
    "#find the final score\n",
    "pz4_final_score = unmarked_sum * last_number\n",
    "print(\"------------------\")\n",
    "print(\"Final score:\",pz4_final_score)"
   ]
  },
  {
   "cell_type": "markdown",
   "id": "1c6cc288",
   "metadata": {},
   "source": [
    "## Part II\n",
    "\n",
    "--- Part Two ---\n",
    "\n",
    "\n",
    "On the other hand, it might be wise to try a different strategy: let the giant squid win.\n",
    "\n",
    "\n",
    "You aren't sure how many bingo boards a giant squid could play at once, so rather than waste time counting its arms, the safe thing to do is to **figure out which board will win last** and choose that one. That way, no matter which boards it picks, it will win for sure.\n",
    "\n",
    "\n",
    "In the above example, the second board is the last to win, which happens after 13 is eventually called and its middle column is completely marked. If you were to keep playing until this point, the second board would have a sum of unmarked numbers equal to 148 for a final score of 148 * 13 = 1924.\n",
    "\n",
    "Figure out which board will win last. **Once it wins, what would its final score be?**"
   ]
  },
  {
   "cell_type": "code",
   "execution_count": 342,
   "id": "f44e2015",
   "metadata": {},
   "outputs": [],
   "source": [
    "#split df into smaller 6x6 bingo fields and store in a list\n",
    "df4_2_list = list(df4.groupby(df4.index // 6))\n",
    "\n",
    "#reset each df index from 0 to 5\n",
    "df4_2_list = [tpl[1].reset_index(drop=True) for tpl in df4_2_list]"
   ]
  },
  {
   "cell_type": "code",
   "execution_count": 344,
   "id": "1a0ea7b3",
   "metadata": {},
   "outputs": [],
   "source": [
    "pz4_2_idx_n_df = []\n",
    "for df in df4_2_list:\n",
    "    for idx,n in enumerate(gen_number_list):\n",
    "        mask = df.iloc[:5,:5].isin([n])\n",
    "        if mask.any().any() == True:\n",
    "            i = np.where(mask)[0][0]\n",
    "            c = np.where(mask)[1][0]\n",
    "            df.loc[i,'sum'] += 1\n",
    "            df.loc[5,c] += 1\n",
    "            \n",
    "            if (df['sum'] == 5).any() == True or (df.iloc[5,:] == 5).any() == True:\n",
    "                pz4_2_idx_n_df.append((idx, n, df))\n",
    "                break\n",
    "        else:\n",
    "            continue"
   ]
  },
  {
   "cell_type": "code",
   "execution_count": 346,
   "id": "90a0f9b2",
   "metadata": {},
   "outputs": [
    {
     "data": {
      "text/plain": [
       "(69,\n",
       " 99,\n",
       "     0   1   2   3   4  sum\n",
       " 0  78  27  82  68  20    4\n",
       " 1  14   2  34  51   7    4\n",
       " 2  58  57  99  37  81    3\n",
       " 3   9   4   0  76  45    4\n",
       " 4  67  69  70  17  23    4\n",
       " 5   2   4   5   4   4    0)"
      ]
     },
     "execution_count": 346,
     "metadata": {},
     "output_type": "execute_result"
    }
   ],
   "source": [
    "#show first element\n",
    "pz4_2_idx_n_df[0]"
   ]
  },
  {
   "cell_type": "code",
   "execution_count": 360,
   "id": "2e4e5961",
   "metadata": {},
   "outputs": [
    {
     "data": {
      "text/plain": [
       "82"
      ]
     },
     "execution_count": 360,
     "metadata": {},
     "output_type": "execute_result"
    }
   ],
   "source": [
    "#find the highest index value\n",
    "idx_highest = max([i[0] for i in pz4_2_idx_n_df])\n",
    "idx_highest"
   ]
  },
  {
   "cell_type": "code",
   "execution_count": 362,
   "id": "3f75770a",
   "metadata": {},
   "outputs": [
    {
     "data": {
      "text/plain": [
       "(82,\n",
       " 42,\n",
       "     0   1   2   3   4  sum\n",
       " 0  30  39  58  75  76    4\n",
       " 1  62  53  59  70  97    3\n",
       " 2  29  31  54  27  89    4\n",
       " 3  90  32  37  86   1    4\n",
       " 4   7  34  42  61  91    5\n",
       " 5   4   4   4   4   4    0)"
      ]
     },
     "execution_count": 362,
     "metadata": {},
     "output_type": "execute_result"
    }
   ],
   "source": [
    "#find the last iteration\n",
    "pz4_2_last=None\n",
    "for tpl in pz4_2_idx_n_df:\n",
    "    if tpl[0] == idx_highest:\n",
    "        pz4_2_last=tpl\n",
    "pz4_2_last"
   ]
  },
  {
   "cell_type": "code",
   "execution_count": 367,
   "id": "e6741d47",
   "metadata": {},
   "outputs": [],
   "source": [
    "#last number\n",
    "last_number_pz4_2 = pz4_2_last[1]"
   ]
  },
  {
   "cell_type": "code",
   "execution_count": 363,
   "id": "92b61470",
   "metadata": {},
   "outputs": [
    {
     "name": "stdout",
     "output_type": "stream",
     "text": [
      "[30, 39, 58, 75, 76, 62, 53, 59, 70, 97, 29, 31, 54, 27, 89, 90, 32, 37, 86, 1, 7, 34, 42, 61, 91]\n"
     ]
    }
   ],
   "source": [
    "#all numbers on the board that won\n",
    "#excluing counting column and row\n",
    "board_last_flat = [n for row in pz4_2_last[2].iloc[:5,:5].values.tolist() \\\n",
    "                   for n in row]\n",
    "print(board_last_flat)"
   ]
  },
  {
   "cell_type": "code",
   "execution_count": 366,
   "id": "ee5917ac",
   "metadata": {},
   "outputs": [
    {
     "name": "stdout",
     "output_type": "stream",
     "text": [
      "[69, 88, 67, 56, 53, 97, 46, 29, 37, 51, 3, 93, 92, 78, 41, 22, 45, 66, 13, 82, 2, 7, 52, 40, 18, 70, 32, 95, 89, 64, 84, 68, 83, 26, 43, 0, 61, 36, 57, 34, 80, 39, 6, 63, 72, 98, 21, 54, 23, 28, 65, 16, 76, 11, 20, 33, 96, 4, 10, 25, 30, 19, 90, 24, 55, 91, 15, 8, 71, 99, 58, 14, 60, 48, 44, 17, 47, 85, 74, 87, 86, 27, 42]\n"
     ]
    }
   ],
   "source": [
    "#drawn numbers\n",
    "pz4_2_drawn = gen_number_list[:82+1]\n",
    "print(pz4_2_drawn)"
   ]
  },
  {
   "cell_type": "code",
   "execution_count": 368,
   "id": "403f5375",
   "metadata": {},
   "outputs": [
    {
     "name": "stdout",
     "output_type": "stream",
     "text": [
      "Unmarked numbers:\n",
      " [1, 75, 59, 62, 31]\n",
      "------------------\n",
      "Sum of unmarked numbers: 228\n",
      "------------------\n",
      "Final score: 9576\n"
     ]
    }
   ],
   "source": [
    "#find numbers that were not drawn on the board\n",
    "unmarked_n_pz4_2 = [i for i in set(board_last_flat).difference(pz4_2_drawn)]\n",
    "print(\"Unmarked numbers:\\n\",unmarked_n_pz4_2)\n",
    "\n",
    "#find the sum of the unmarked numbers\n",
    "unmarked_sum_pz4_2 = sum(unmarked_n_pz4_2)\n",
    "print(\"------------------\")\n",
    "print(\"Sum of unmarked numbers:\",unmarked_sum_pz4_2)\n",
    "\n",
    "#find the final score\n",
    "pz4_2_final_score = unmarked_sum_pz4_2 * last_number_pz4_2\n",
    "print(\"------------------\")\n",
    "print(\"Final score:\",pz4_2_final_score)"
   ]
  },
  {
   "cell_type": "code",
   "execution_count": null,
   "id": "fecaf2ca",
   "metadata": {},
   "outputs": [],
   "source": []
  }
 ],
 "metadata": {
  "kernelspec": {
   "display_name": "Python 3",
   "language": "python",
   "name": "python3"
  },
  "language_info": {
   "codemirror_mode": {
    "name": "ipython",
    "version": 3
   },
   "file_extension": ".py",
   "mimetype": "text/x-python",
   "name": "python",
   "nbconvert_exporter": "python",
   "pygments_lexer": "ipython3",
   "version": "3.7.9"
  },
  "latex_envs": {
   "LaTeX_envs_menu_present": true,
   "autoclose": false,
   "autocomplete": true,
   "bibliofile": "biblio.bib",
   "cite_by": "apalike",
   "current_citInitial": 1,
   "eqLabelWithNumbers": true,
   "eqNumInitial": 1,
   "hotkeys": {
    "equation": "Ctrl-E",
    "itemize": "Ctrl-I"
   },
   "labels_anchors": false,
   "latex_user_defs": false,
   "report_style_numbering": false,
   "user_envs_cfg": false
  },
  "toc": {
   "base_numbering": 1,
   "nav_menu": {},
   "number_sections": true,
   "sideBar": true,
   "skip_h1_title": false,
   "title_cell": "Table of Contents",
   "title_sidebar": "Contents",
   "toc_cell": false,
   "toc_position": {},
   "toc_section_display": true,
   "toc_window_display": false
  },
  "varInspector": {
   "cols": {
    "lenName": 16,
    "lenType": 16,
    "lenVar": 40
   },
   "kernels_config": {
    "python": {
     "delete_cmd_postfix": "",
     "delete_cmd_prefix": "del ",
     "library": "var_list.py",
     "varRefreshCmd": "print(var_dic_list())"
    },
    "r": {
     "delete_cmd_postfix": ") ",
     "delete_cmd_prefix": "rm(",
     "library": "var_list.r",
     "varRefreshCmd": "cat(var_dic_list()) "
    }
   },
   "types_to_exclude": [
    "module",
    "function",
    "builtin_function_or_method",
    "instance",
    "_Feature"
   ],
   "window_display": false
  }
 },
 "nbformat": 4,
 "nbformat_minor": 5
}
