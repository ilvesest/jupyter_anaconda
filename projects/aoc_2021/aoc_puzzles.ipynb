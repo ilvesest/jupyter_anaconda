{
 "cells": [
  {
   "cell_type": "markdown",
   "id": "d0e39a1e",
   "metadata": {},
   "source": [
    "**<center><font size=\"40\">Advent of Code 2021</font></center>**"
   ]
  },
  {
   "cell_type": "markdown",
   "id": "34cdb09d",
   "metadata": {},
   "source": [
    "# Puzzle 1\n",
    "## Part I<br>\n",
    "1. Count the number of times a depth measurement increases from the previous measurement.Input URL: <url>https://adventofcode.com/2021/day/1/input</url><br>\n",
    "Example:<br>\n",
    "199 (N/A - no previous measurement)<br>\n",
    "200 (increased)<br>\n",
    "208 (increased)<br>\n",
    "210 (increased)<br>\n",
    "200 (decreased)<br>\n",
    "207 (increased)<br>\n",
    "240 (increased)<br>\n",
    "269 (increased)<br>\n",
    "260 (decreased)<br>\n",
    "263 (increased)<br>\n",
    "Increased **7** times.<br>"
   ]
  },
  {
   "cell_type": "code",
   "execution_count": 8,
   "id": "e644d35b",
   "metadata": {},
   "outputs": [
    {
     "data": {
      "text/html": [
       "<div>\n",
       "<style scoped>\n",
       "    .dataframe tbody tr th:only-of-type {\n",
       "        vertical-align: middle;\n",
       "    }\n",
       "\n",
       "    .dataframe tbody tr th {\n",
       "        vertical-align: top;\n",
       "    }\n",
       "\n",
       "    .dataframe thead th {\n",
       "        text-align: right;\n",
       "    }\n",
       "</style>\n",
       "<table border=\"1\" class=\"dataframe\">\n",
       "  <thead>\n",
       "    <tr style=\"text-align: right;\">\n",
       "      <th></th>\n",
       "      <th>depth</th>\n",
       "    </tr>\n",
       "  </thead>\n",
       "  <tbody>\n",
       "    <tr>\n",
       "      <th>0</th>\n",
       "      <td>182</td>\n",
       "    </tr>\n",
       "    <tr>\n",
       "      <th>1</th>\n",
       "      <td>188</td>\n",
       "    </tr>\n",
       "    <tr>\n",
       "      <th>2</th>\n",
       "      <td>204</td>\n",
       "    </tr>\n",
       "  </tbody>\n",
       "</table>\n",
       "</div>"
      ],
      "text/plain": [
       "   depth\n",
       "0    182\n",
       "1    188\n",
       "2    204"
      ]
     },
     "execution_count": 8,
     "metadata": {},
     "output_type": "execute_result"
    }
   ],
   "source": [
    "import pandas as pd\n",
    "\n",
    "#import data from txt file\n",
    "df_pz1 = pd.read_csv(\"data/pz01.txt\",\n",
    "                     header=None,\n",
    "                     names=['depth'])\n",
    "df_pz1.head(3)"
   ]
  },
  {
   "cell_type": "code",
   "execution_count": 25,
   "id": "725673a1",
   "metadata": {
    "scrolled": true
   },
   "outputs": [
    {
     "name": "stdout",
     "output_type": "stream",
     "text": [
      "Answer: 1215\n"
     ]
    }
   ],
   "source": [
    "#find measurements that increase and sum them up\n",
    "pz1_answer = (df_pz1.depth.diff() > 0).sum()\n",
    "print(\"Answer:\",pz1_answer)"
   ]
  },
  {
   "cell_type": "markdown",
   "id": "11989339",
   "metadata": {},
   "source": [
    "## Part II\n",
    "\n",
    "Considering every single measurement isn't as useful as you expected: there's just too much noise in the data.<br>\n",
    "<br>\n",
    "Instead, consider sums of a **three-measurement sliding window**. Again considering the above example:<br>\n",
    "<br>\n",
    "199  A    \n",
    "200  A B   \n",
    "208  A B C  <br>\n",
    "210    B C D<br>\n",
    "200  E   C D<br>\n",
    "207  E F   D<br>\n",
    "240  E F G  <br>\n",
    "269    F G H<br>\n",
    "260      G H<br>\n",
    "263        H<br>\n",
    "<br>\n",
    "Start by comparing the first and second three-measurement windows. The measurements in the first window are marked A (199, 200, 208); their sum is 199 + 200 + 208 = 607. The second window is marked B (200, 208, 210); its sum is 618. The sum of measurements in the second window is larger than the sum of the first, so this first comparison increased.<br>\n",
    "<br>\n",
    "Your goal now is to count the number of times the sum of measurements in this sliding window increases from the previous sum. So, compare A with B, then compare B with C, then C with D, and so on. Stop when there aren't enough measurements left to create a new three-measurement sum.<br>\n",
    "<br>\n",
    "In the above example, the sum of each three-measurement window is as follows:\n",
    "<br>\n",
    "A: 607 (N/A - no previous sum)<br>\n",
    "B: 618 (increased)<br>\n",
    "C: 618 (no change)<br>\n",
    "D: 617 (decreased)<br>\n",
    "E: 647 (increased)<br>\n",
    "F: 716 (increased)<br>\n",
    "G: 769 (increased)<br>\n",
    "H: 792 (increased)<br>\n",
    "<br>\n",
    "In this example, there are 5 sums that are larger than the previous sum.<br>\n",
    "<br>\n",
    "Consider sums of a three-measurement sliding window. How many sums are larger than the previous sum?"
   ]
  },
  {
   "cell_type": "code",
   "execution_count": 40,
   "id": "ffea1f0a",
   "metadata": {},
   "outputs": [
    {
     "data": {
      "text/html": [
       "<div>\n",
       "<style scoped>\n",
       "    .dataframe tbody tr th:only-of-type {\n",
       "        vertical-align: middle;\n",
       "    }\n",
       "\n",
       "    .dataframe tbody tr th {\n",
       "        vertical-align: top;\n",
       "    }\n",
       "\n",
       "    .dataframe thead th {\n",
       "        text-align: right;\n",
       "    }\n",
       "</style>\n",
       "<table border=\"1\" class=\"dataframe\">\n",
       "  <thead>\n",
       "    <tr style=\"text-align: right;\">\n",
       "      <th></th>\n",
       "      <th>depth</th>\n",
       "      <th>3sum</th>\n",
       "    </tr>\n",
       "  </thead>\n",
       "  <tbody>\n",
       "    <tr>\n",
       "      <th>0</th>\n",
       "      <td>182</td>\n",
       "      <td>574.0</td>\n",
       "    </tr>\n",
       "    <tr>\n",
       "      <th>1</th>\n",
       "      <td>188</td>\n",
       "      <td>595.0</td>\n",
       "    </tr>\n",
       "    <tr>\n",
       "      <th>2</th>\n",
       "      <td>204</td>\n",
       "      <td>612.0</td>\n",
       "    </tr>\n",
       "    <tr>\n",
       "      <th>3</th>\n",
       "      <td>203</td>\n",
       "      <td>614.0</td>\n",
       "    </tr>\n",
       "    <tr>\n",
       "      <th>4</th>\n",
       "      <td>205</td>\n",
       "      <td>619.0</td>\n",
       "    </tr>\n",
       "    <tr>\n",
       "      <th>...</th>\n",
       "      <td>...</td>\n",
       "      <td>...</td>\n",
       "    </tr>\n",
       "    <tr>\n",
       "      <th>1995</th>\n",
       "      <td>2573</td>\n",
       "      <td>7715.0</td>\n",
       "    </tr>\n",
       "    <tr>\n",
       "      <th>1996</th>\n",
       "      <td>2574</td>\n",
       "      <td>7718.0</td>\n",
       "    </tr>\n",
       "    <tr>\n",
       "      <th>1997</th>\n",
       "      <td>2568</td>\n",
       "      <td>7727.0</td>\n",
       "    </tr>\n",
       "    <tr>\n",
       "      <th>1998</th>\n",
       "      <td>2576</td>\n",
       "      <td>NaN</td>\n",
       "    </tr>\n",
       "    <tr>\n",
       "      <th>1999</th>\n",
       "      <td>2583</td>\n",
       "      <td>NaN</td>\n",
       "    </tr>\n",
       "  </tbody>\n",
       "</table>\n",
       "<p>2000 rows × 2 columns</p>\n",
       "</div>"
      ],
      "text/plain": [
       "      depth    3sum\n",
       "0       182   574.0\n",
       "1       188   595.0\n",
       "2       204   612.0\n",
       "3       203   614.0\n",
       "4       205   619.0\n",
       "...     ...     ...\n",
       "1995   2573  7715.0\n",
       "1996   2574  7718.0\n",
       "1997   2568  7727.0\n",
       "1998   2576     NaN\n",
       "1999   2583     NaN\n",
       "\n",
       "[2000 rows x 2 columns]"
      ]
     },
     "execution_count": 40,
     "metadata": {},
     "output_type": "execute_result"
    }
   ],
   "source": [
    "#create a copy of initial df\n",
    "df_pz1_2 = df_pz1.copy()\n",
    "\n",
    "#create column with following three measurement sums\n",
    "df_pz1_2['3sum'] = df_pz1_2.depth.rolling(3).sum().shift(-2)\n",
    "\n",
    "df_pz1_2"
   ]
  },
  {
   "cell_type": "code",
   "execution_count": 41,
   "id": "86e71524",
   "metadata": {},
   "outputs": [
    {
     "name": "stdout",
     "output_type": "stream",
     "text": [
      "Part II answer: 1150\n"
     ]
    }
   ],
   "source": [
    "#count the number of increases\n",
    "pz1_2_answer = (df_pz1_2['3sum'].diff() > 0).sum()\n",
    "print(\"Part II answer:\",pz1_2_answer)"
   ]
  },
  {
   "cell_type": "markdown",
   "id": "19e972d3",
   "metadata": {},
   "source": [
    "# Puzzle 2 \n",
    "## Part I\n",
    "\n",
    "--- Day 2: Dive! ---\n",
    "Now, you need to figure out how to pilot this thing.<br>\n",
    "<br>\n",
    "It seems like the submarine can take a series of commands like forward 1, down 2, or up 3:<br>\n",
    "<br>\n",
    "forward X increases the horizontal position by X units.<br>\n",
    "down X increases the depth by X units.<br>\n",
    "up X decreases the depth by X units.<br>\n",
    "<br>\n",
    "Note that since you're on a submarine, down and up affect your depth, and so they have the opposite result of what you might expect.\n",
    "<br>\n",
    "The submarine seems to already have a planned course (your puzzle input). You should probably figure out where it's going. For example:\n",
    "<br>\n",
    "forward 5<br>\n",
    "down 5<br>\n",
    "forward 8<br>\n",
    "up 3<br>\n",
    "down 8<br>\n",
    "forward 2<br>\n",
    "<br>\n",
    "Your horizontal position and depth both start at 0. The steps above would then modify them as follows:<br>\n",
    "<br>\n",
    "forward 5 adds 5 to your horizontal position, a total of 5.<br>\n",
    "down 5 adds 5 to your depth, resulting in a value of 5.<br>\n",
    "forward 8 adds 8 to your horizontal position, a total of 13.<br>\n",
    "up 3 decreases your depth by 3, resulting in a value of 2.<br>\n",
    "down 8 adds 8 to your depth, resulting in a value of 10.<br>\n",
    "forward 2 adds 2 to your horizontal position, a total of 15.<br>\n",
    "<br>\n",
    "After following these instructions, you would have a horizontal position of 15 and a depth of 10. (Multiplying these together produces 150.)<br>\n",
    "<br>\n",
    "Calculate the horizontal position and depth you would have after following the planned course. **What do you get if you multiply your final horizontal position by your final depth?**"
   ]
  },
  {
   "cell_type": "code",
   "execution_count": 48,
   "id": "b0c2b205",
   "metadata": {
    "code_folding": []
   },
   "outputs": [
    {
     "data": {
      "text/html": [
       "<div>\n",
       "<style scoped>\n",
       "    .dataframe tbody tr th:only-of-type {\n",
       "        vertical-align: middle;\n",
       "    }\n",
       "\n",
       "    .dataframe tbody tr th {\n",
       "        vertical-align: top;\n",
       "    }\n",
       "\n",
       "    .dataframe thead th {\n",
       "        text-align: right;\n",
       "    }\n",
       "</style>\n",
       "<table border=\"1\" class=\"dataframe\">\n",
       "  <thead>\n",
       "    <tr style=\"text-align: right;\">\n",
       "      <th></th>\n",
       "      <th>command</th>\n",
       "    </tr>\n",
       "  </thead>\n",
       "  <tbody>\n",
       "    <tr>\n",
       "      <th>0</th>\n",
       "      <td>forward 2</td>\n",
       "    </tr>\n",
       "    <tr>\n",
       "      <th>1</th>\n",
       "      <td>down 8</td>\n",
       "    </tr>\n",
       "    <tr>\n",
       "      <th>2</th>\n",
       "      <td>down 1</td>\n",
       "    </tr>\n",
       "  </tbody>\n",
       "</table>\n",
       "</div>"
      ],
      "text/plain": [
       "     command\n",
       "0  forward 2\n",
       "1     down 8\n",
       "2     down 1"
      ]
     },
     "execution_count": 48,
     "metadata": {},
     "output_type": "execute_result"
    }
   ],
   "source": [
    "#read data into df\n",
    "df_pz2 = pd.read_csv(\"data/pz02.txt\", \n",
    "                     header=None, \n",
    "                     names=['command'])\n",
    "df_pz2.head(3)"
   ]
  },
  {
   "cell_type": "code",
   "execution_count": 64,
   "id": "6cfcd772",
   "metadata": {},
   "outputs": [],
   "source": [
    "#separate directon and the value into separate columns\n",
    "df_pz2_sep = df_pz2.command.str.rsplit(\" \", expand=True).\\\n",
    "    rename(columns={0:\"command\", 1:\"step\"})"
   ]
  },
  {
   "cell_type": "code",
   "execution_count": 74,
   "id": "eb7d3eea",
   "metadata": {},
   "outputs": [
    {
     "name": "stdout",
     "output_type": "stream",
     "text": [
      "<class 'pandas.core.frame.DataFrame'>\n",
      "RangeIndex: 1000 entries, 0 to 999\n",
      "Data columns (total 2 columns):\n",
      " #   Column   Non-Null Count  Dtype \n",
      "---  ------   --------------  ----- \n",
      " 0   command  1000 non-null   object\n",
      " 1   step     1000 non-null   int64 \n",
      "dtypes: int64(1), object(1)\n",
      "memory usage: 15.8+ KB\n"
     ]
    }
   ],
   "source": [
    "#change step data type from object to int\n",
    "df_pz2_sep[\"step\"] = df_pz2_sep.step.astype(\"int64\")\n",
    "df_pz2_sep.info()"
   ]
  },
  {
   "cell_type": "code",
   "execution_count": 79,
   "id": "588a20b8",
   "metadata": {},
   "outputs": [
    {
     "data": {
      "text/plain": [
       "0"
      ]
     },
     "execution_count": 79,
     "metadata": {},
     "output_type": "execute_result"
    }
   ],
   "source": [
    "#check for negative values\n",
    "(df_pz2_sep.step < 0).sum() "
   ]
  },
  {
   "cell_type": "code",
   "execution_count": 81,
   "id": "314937a6",
   "metadata": {},
   "outputs": [
    {
     "name": "stdout",
     "output_type": "stream",
     "text": [
      "Ship went forward: 1998 units.\n"
     ]
    }
   ],
   "source": [
    "#find total forward value\n",
    "forward1 = df_pz2_sep.step[df_pz2_sep.command == \"forward\"].sum()\n",
    "print('Ship went forward:', forward1, \"units.\")"
   ]
  },
  {
   "cell_type": "code",
   "execution_count": 82,
   "id": "c7b87a3c",
   "metadata": {},
   "outputs": [
    {
     "name": "stdout",
     "output_type": "stream",
     "text": [
      "Total depth value: 741\n"
     ]
    }
   ],
   "source": [
    "#find total depth increase\n",
    "depth_inc1 = df_pz2_sep.step[df_pz2_sep.command == \"down\"].sum()\n",
    "\n",
    "#find total depth decrease\n",
    "depth_dec1 = df_pz2_sep.step[df_pz2_sep.command == \"up\"].sum()\n",
    "\n",
    "#total depth value\n",
    "depth_total1 = depth_inc1 - depth_dec1\n",
    "print(\"Total depth value:\", depth_total1)"
   ]
  },
  {
   "cell_type": "code",
   "execution_count": 83,
   "id": "daefc6d4",
   "metadata": {},
   "outputs": [
    {
     "name": "stdout",
     "output_type": "stream",
     "text": [
      "Puzzle 2.1 answer: 1480518\n"
     ]
    }
   ],
   "source": [
    "#multiply horizontal position to depth value\n",
    "pz2_answer = forward1 * depth_total1\n",
    "print(\"Puzzle 2.1 answer:\", pz2_answer)"
   ]
  },
  {
   "cell_type": "code",
   "execution_count": null,
   "id": "bff1f64e",
   "metadata": {},
   "outputs": [],
   "source": []
  }
 ],
 "metadata": {
  "kernelspec": {
   "display_name": "Python 3",
   "language": "python",
   "name": "python3"
  },
  "language_info": {
   "codemirror_mode": {
    "name": "ipython",
    "version": 3
   },
   "file_extension": ".py",
   "mimetype": "text/x-python",
   "name": "python",
   "nbconvert_exporter": "python",
   "pygments_lexer": "ipython3",
   "version": "3.7.9"
  },
  "latex_envs": {
   "LaTeX_envs_menu_present": true,
   "autoclose": false,
   "autocomplete": true,
   "bibliofile": "biblio.bib",
   "cite_by": "apalike",
   "current_citInitial": 1,
   "eqLabelWithNumbers": true,
   "eqNumInitial": 1,
   "hotkeys": {
    "equation": "Ctrl-E",
    "itemize": "Ctrl-I"
   },
   "labels_anchors": false,
   "latex_user_defs": false,
   "report_style_numbering": false,
   "user_envs_cfg": false
  },
  "toc": {
   "base_numbering": 1,
   "nav_menu": {},
   "number_sections": true,
   "sideBar": true,
   "skip_h1_title": false,
   "title_cell": "Table of Contents",
   "title_sidebar": "Contents",
   "toc_cell": false,
   "toc_position": {},
   "toc_section_display": true,
   "toc_window_display": false
  },
  "varInspector": {
   "cols": {
    "lenName": 16,
    "lenType": 16,
    "lenVar": 40
   },
   "kernels_config": {
    "python": {
     "delete_cmd_postfix": "",
     "delete_cmd_prefix": "del ",
     "library": "var_list.py",
     "varRefreshCmd": "print(var_dic_list())"
    },
    "r": {
     "delete_cmd_postfix": ") ",
     "delete_cmd_prefix": "rm(",
     "library": "var_list.r",
     "varRefreshCmd": "cat(var_dic_list()) "
    }
   },
   "types_to_exclude": [
    "module",
    "function",
    "builtin_function_or_method",
    "instance",
    "_Feature"
   ],
   "window_display": false
  }
 },
 "nbformat": 4,
 "nbformat_minor": 5
}
