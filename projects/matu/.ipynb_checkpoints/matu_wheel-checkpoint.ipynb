{
 "cells": [
  {
   "cell_type": "markdown",
   "id": "7a86cdf0",
   "metadata": {},
   "source": [
    "<center>\n",
    "    <u>\n",
    "        <font size=30>Matu the Hamster: <br><br>24h running wheel data analysis</font>\n",
    "    </u>\n",
    "</center><br><br>"
   ]
  },
  {
   "cell_type": "markdown",
   "id": "c6556f5f",
   "metadata": {},
   "source": [
    "Dataset metadata:\n",
    "- Has one feature: 10cm radius hamster wheel rotation timestamp in Unix Epoch units with [millisecond] precision\n",
    "- Each observation corresponds to 1 wheel revolution"
   ]
  },
  {
   "cell_type": "code",
   "execution_count": 1,
   "id": "ae786160",
   "metadata": {},
   "outputs": [
    {
     "data": {
      "text/html": [
       "<div>\n",
       "<style scoped>\n",
       "    .dataframe tbody tr th:only-of-type {\n",
       "        vertical-align: middle;\n",
       "    }\n",
       "\n",
       "    .dataframe tbody tr th {\n",
       "        vertical-align: top;\n",
       "    }\n",
       "\n",
       "    .dataframe thead th {\n",
       "        text-align: right;\n",
       "    }\n",
       "</style>\n",
       "<table border=\"1\" class=\"dataframe\">\n",
       "  <thead>\n",
       "    <tr style=\"text-align: right;\">\n",
       "      <th></th>\n",
       "      <th>unix_ts_ms</th>\n",
       "    </tr>\n",
       "  </thead>\n",
       "  <tbody>\n",
       "    <tr>\n",
       "      <th>0</th>\n",
       "      <td>1636217711256</td>\n",
       "    </tr>\n",
       "    <tr>\n",
       "      <th>1</th>\n",
       "      <td>1636217712103</td>\n",
       "    </tr>\n",
       "    <tr>\n",
       "      <th>2</th>\n",
       "      <td>1636217713260</td>\n",
       "    </tr>\n",
       "  </tbody>\n",
       "</table>\n",
       "</div>"
      ],
      "text/plain": [
       "      unix_ts_ms\n",
       "0  1636217711256\n",
       "1  1636217712103\n",
       "2  1636217713260"
      ]
     },
     "execution_count": 1,
     "metadata": {},
     "output_type": "execute_result"
    }
   ],
   "source": [
    "import pandas as pd\n",
    "\n",
    "#read the raw unix timestamp data into DF\n",
    "wheel_df = pd.read_csv('matu_wheel_log.csv',\n",
    "                          header=None,\n",
    "                          names=['unix_ts_ms'])\n",
    "wheel_df.head(3)"
   ]
  },
  {
   "cell_type": "code",
   "execution_count": 2,
   "id": "9cadd617",
   "metadata": {},
   "outputs": [
    {
     "data": {
      "text/plain": [
       "unix_ts_ms    0\n",
       "dtype: int64"
      ]
     },
     "execution_count": 2,
     "metadata": {},
     "output_type": "execute_result"
    }
   ],
   "source": [
    "#missing values\n",
    "wheel_df.isna().sum()"
   ]
  },
  {
   "cell_type": "code",
   "execution_count": 3,
   "id": "b94794c1",
   "metadata": {},
   "outputs": [
    {
     "data": {
      "text/plain": [
       "unix_ts_ms    int64\n",
       "dtype: object"
      ]
     },
     "execution_count": 3,
     "metadata": {},
     "output_type": "execute_result"
    }
   ],
   "source": [
    "#check the data type \n",
    "wheel_df.dtypes"
   ]
  },
  {
   "cell_type": "code",
   "execution_count": 4,
   "id": "5257fd74",
   "metadata": {},
   "outputs": [
    {
     "name": "stdout",
     "output_type": "stream",
     "text": [
      "<class 'pandas.core.frame.DataFrame'>\n",
      "RangeIndex: 12149 entries, 0 to 12148\n",
      "Data columns (total 2 columns):\n",
      " #   Column       Non-Null Count  Dtype         \n",
      "---  ------       --------------  -----         \n",
      " 0   unix_ts_ms   12149 non-null  int64         \n",
      " 1   ts_datetime  12149 non-null  datetime64[ns]\n",
      "dtypes: datetime64[ns](1), int64(1)\n",
      "memory usage: 190.0 KB\n"
     ]
    }
   ],
   "source": [
    "#convert unix to human readale datetime\n",
    "wheel_df[\"ts_datetime\"] = wheel_df.unix_ts_ms.astype('datetime64[ms]')\n",
    "\n",
    "#\n",
    "wheel_df.info()"
   ]
  },
  {
   "cell_type": "code",
   "execution_count": 5,
   "id": "db983a19",
   "metadata": {},
   "outputs": [
    {
     "data": {
      "text/html": [
       "<div>\n",
       "<style scoped>\n",
       "    .dataframe tbody tr th:only-of-type {\n",
       "        vertical-align: middle;\n",
       "    }\n",
       "\n",
       "    .dataframe tbody tr th {\n",
       "        vertical-align: top;\n",
       "    }\n",
       "\n",
       "    .dataframe thead th {\n",
       "        text-align: right;\n",
       "    }\n",
       "</style>\n",
       "<table border=\"1\" class=\"dataframe\">\n",
       "  <thead>\n",
       "    <tr style=\"text-align: right;\">\n",
       "      <th></th>\n",
       "      <th>unix_ts_ms</th>\n",
       "      <th>ts_datetime</th>\n",
       "    </tr>\n",
       "  </thead>\n",
       "  <tbody>\n",
       "    <tr>\n",
       "      <th>0</th>\n",
       "      <td>1636217711256</td>\n",
       "      <td>2021-11-06 16:55:11.256</td>\n",
       "    </tr>\n",
       "    <tr>\n",
       "      <th>1</th>\n",
       "      <td>1636217712103</td>\n",
       "      <td>2021-11-06 16:55:12.103</td>\n",
       "    </tr>\n",
       "    <tr>\n",
       "      <th>2</th>\n",
       "      <td>1636217713260</td>\n",
       "      <td>2021-11-06 16:55:13.260</td>\n",
       "    </tr>\n",
       "  </tbody>\n",
       "</table>\n",
       "</div>"
      ],
      "text/plain": [
       "      unix_ts_ms             ts_datetime\n",
       "0  1636217711256 2021-11-06 16:55:11.256\n",
       "1  1636217712103 2021-11-06 16:55:12.103\n",
       "2  1636217713260 2021-11-06 16:55:13.260"
      ]
     },
     "execution_count": 5,
     "metadata": {},
     "output_type": "execute_result"
    }
   ],
   "source": [
    "wheel_df.head(3)"
   ]
  },
  {
   "cell_type": "code",
   "execution_count": 6,
   "id": "d03e16a3",
   "metadata": {},
   "outputs": [
    {
     "name": "stdout",
     "output_type": "stream",
     "text": [
      "<class 'pandas._libs.tslibs.timedeltas.Timedelta'>\n",
      "0 days 22:49:03.246000\n"
     ]
    }
   ],
   "source": [
    "#determen time duration the data was gathered\n",
    "measurement_dur = wheel_df.loc[wheel_df.index[-1], 'ts_datetime'] - wheel_df.loc[0, 'ts_datetime']\n",
    "\n",
    "print(type(measurement_dur))\n",
    "print(measurement_dur)"
   ]
  },
  {
   "cell_type": "code",
   "execution_count": 7,
   "id": "88d883de",
   "metadata": {},
   "outputs": [
    {
     "name": "stdout",
     "output_type": "stream",
     "text": [
      "Components(days=0, hours=22, minutes=49, seconds=3, milliseconds=246, microseconds=0, nanoseconds=0)\n",
      "\n",
      "Measurement duration: 22:49:03\n"
     ]
    }
   ],
   "source": [
    "import datetime as dt\n",
    "\n",
    "#convert measurement duration into readable form H:M:S\n",
    "dur_components = measurement_dur.components\n",
    "print(dur_components)\n",
    "print('')\n",
    "duration = dt.time(dur_components.hours,\n",
    "                  dur_components.minutes,\n",
    "                  dur_components.seconds)\n",
    "print(\"Measurement duration:\", duration)"
   ]
  },
  {
   "cell_type": "code",
   "execution_count": 8,
   "id": "4535b979",
   "metadata": {},
   "outputs": [
    {
     "data": {
      "text/html": [
       "<div>\n",
       "<style scoped>\n",
       "    .dataframe tbody tr th:only-of-type {\n",
       "        vertical-align: middle;\n",
       "    }\n",
       "\n",
       "    .dataframe tbody tr th {\n",
       "        vertical-align: top;\n",
       "    }\n",
       "\n",
       "    .dataframe thead th {\n",
       "        text-align: right;\n",
       "    }\n",
       "</style>\n",
       "<table border=\"1\" class=\"dataframe\">\n",
       "  <thead>\n",
       "    <tr style=\"text-align: right;\">\n",
       "      <th></th>\n",
       "      <th>unix_ts_ms</th>\n",
       "      <th>ts_datetime</th>\n",
       "      <th>rev_time_ms</th>\n",
       "    </tr>\n",
       "  </thead>\n",
       "  <tbody>\n",
       "    <tr>\n",
       "      <th>0</th>\n",
       "      <td>1636217711256</td>\n",
       "      <td>2021-11-06 16:55:11.256</td>\n",
       "      <td>NaN</td>\n",
       "    </tr>\n",
       "    <tr>\n",
       "      <th>1</th>\n",
       "      <td>1636217712103</td>\n",
       "      <td>2021-11-06 16:55:12.103</td>\n",
       "      <td>847.0</td>\n",
       "    </tr>\n",
       "    <tr>\n",
       "      <th>2</th>\n",
       "      <td>1636217713260</td>\n",
       "      <td>2021-11-06 16:55:13.260</td>\n",
       "      <td>1157.0</td>\n",
       "    </tr>\n",
       "  </tbody>\n",
       "</table>\n",
       "</div>"
      ],
      "text/plain": [
       "      unix_ts_ms             ts_datetime  rev_time_ms\n",
       "0  1636217711256 2021-11-06 16:55:11.256          NaN\n",
       "1  1636217712103 2021-11-06 16:55:12.103        847.0\n",
       "2  1636217713260 2021-11-06 16:55:13.260       1157.0"
      ]
     },
     "execution_count": 8,
     "metadata": {},
     "output_type": "execute_result"
    }
   ],
   "source": [
    "#find times wheel made a full revolution\n",
    "wheel_df['rev_time_ms'] = wheel_df.unix_ts_ms.diff()\n",
    "wheel_df.head(3)"
   ]
  },
  {
   "cell_type": "code",
   "execution_count": 9,
   "id": "065ef7eb",
   "metadata": {},
   "outputs": [
    {
     "data": {
      "text/plain": [
       "1"
      ]
     },
     "execution_count": 9,
     "metadata": {},
     "output_type": "execute_result"
    }
   ],
   "source": [
    "#find number of missing values\n",
    "wheel_df.rev_time_ms.isna().sum()"
   ]
  },
  {
   "cell_type": "code",
   "execution_count": 10,
   "id": "83f104ab",
   "metadata": {},
   "outputs": [
    {
     "data": {
      "text/html": [
       "<div>\n",
       "<style scoped>\n",
       "    .dataframe tbody tr th:only-of-type {\n",
       "        vertical-align: middle;\n",
       "    }\n",
       "\n",
       "    .dataframe tbody tr th {\n",
       "        vertical-align: top;\n",
       "    }\n",
       "\n",
       "    .dataframe thead th {\n",
       "        text-align: right;\n",
       "    }\n",
       "</style>\n",
       "<table border=\"1\" class=\"dataframe\">\n",
       "  <thead>\n",
       "    <tr style=\"text-align: right;\">\n",
       "      <th></th>\n",
       "      <th>unix_ts_ms</th>\n",
       "      <th>ts_datetime</th>\n",
       "      <th>rev_time_ms</th>\n",
       "    </tr>\n",
       "  </thead>\n",
       "  <tbody>\n",
       "    <tr>\n",
       "      <th>0</th>\n",
       "      <td>1636217711256</td>\n",
       "      <td>2021-11-06 16:55:11.256</td>\n",
       "      <td>0.0</td>\n",
       "    </tr>\n",
       "    <tr>\n",
       "      <th>1</th>\n",
       "      <td>1636217712103</td>\n",
       "      <td>2021-11-06 16:55:12.103</td>\n",
       "      <td>847.0</td>\n",
       "    </tr>\n",
       "    <tr>\n",
       "      <th>2</th>\n",
       "      <td>1636217713260</td>\n",
       "      <td>2021-11-06 16:55:13.260</td>\n",
       "      <td>1157.0</td>\n",
       "    </tr>\n",
       "  </tbody>\n",
       "</table>\n",
       "</div>"
      ],
      "text/plain": [
       "      unix_ts_ms             ts_datetime  rev_time_ms\n",
       "0  1636217711256 2021-11-06 16:55:11.256          0.0\n",
       "1  1636217712103 2021-11-06 16:55:12.103        847.0\n",
       "2  1636217713260 2021-11-06 16:55:13.260       1157.0"
      ]
     },
     "execution_count": 10,
     "metadata": {},
     "output_type": "execute_result"
    }
   ],
   "source": [
    "#change missing value to 0\n",
    "wheel_df['rev_time_ms'] = wheel_df.rev_time_ms.fillna(0)\n",
    "wheel_df.head(3)"
   ]
  },
  {
   "cell_type": "code",
   "execution_count": 11,
   "id": "f6661a46",
   "metadata": {},
   "outputs": [
    {
     "data": {
      "text/html": [
       "<div>\n",
       "<style scoped>\n",
       "    .dataframe tbody tr th:only-of-type {\n",
       "        vertical-align: middle;\n",
       "    }\n",
       "\n",
       "    .dataframe tbody tr th {\n",
       "        vertical-align: top;\n",
       "    }\n",
       "\n",
       "    .dataframe thead th {\n",
       "        text-align: right;\n",
       "    }\n",
       "</style>\n",
       "<table border=\"1\" class=\"dataframe\">\n",
       "  <thead>\n",
       "    <tr style=\"text-align: right;\">\n",
       "      <th></th>\n",
       "      <th>unix_ts_ms</th>\n",
       "      <th>ts_datetime</th>\n",
       "      <th>rev_time_ms</th>\n",
       "    </tr>\n",
       "  </thead>\n",
       "  <tbody>\n",
       "    <tr>\n",
       "      <th>0</th>\n",
       "      <td>1636217711256</td>\n",
       "      <td>2021-11-06 16:55:11.256</td>\n",
       "      <td>0</td>\n",
       "    </tr>\n",
       "    <tr>\n",
       "      <th>1</th>\n",
       "      <td>1636217712103</td>\n",
       "      <td>2021-11-06 16:55:12.103</td>\n",
       "      <td>847</td>\n",
       "    </tr>\n",
       "    <tr>\n",
       "      <th>2</th>\n",
       "      <td>1636217713260</td>\n",
       "      <td>2021-11-06 16:55:13.260</td>\n",
       "      <td>1157</td>\n",
       "    </tr>\n",
       "  </tbody>\n",
       "</table>\n",
       "</div>"
      ],
      "text/plain": [
       "      unix_ts_ms             ts_datetime  rev_time_ms\n",
       "0  1636217711256 2021-11-06 16:55:11.256            0\n",
       "1  1636217712103 2021-11-06 16:55:12.103          847\n",
       "2  1636217713260 2021-11-06 16:55:13.260         1157"
      ]
     },
     "execution_count": 11,
     "metadata": {},
     "output_type": "execute_result"
    }
   ],
   "source": [
    "#change \"rev_time_ms\" datatype from float64 to int64\n",
    "wheel_df['rev_time_ms'] = wheel_df.rev_time_ms.astype('int64')\n",
    "wheel_df.head(3)"
   ]
  },
  {
   "cell_type": "code",
   "execution_count": 12,
   "id": "6aea5373",
   "metadata": {},
   "outputs": [
    {
     "data": {
      "text/html": [
       "<div>\n",
       "<style scoped>\n",
       "    .dataframe tbody tr th:only-of-type {\n",
       "        vertical-align: middle;\n",
       "    }\n",
       "\n",
       "    .dataframe tbody tr th {\n",
       "        vertical-align: top;\n",
       "    }\n",
       "\n",
       "    .dataframe thead th {\n",
       "        text-align: right;\n",
       "    }\n",
       "</style>\n",
       "<table border=\"1\" class=\"dataframe\">\n",
       "  <thead>\n",
       "    <tr style=\"text-align: right;\">\n",
       "      <th></th>\n",
       "      <th>unix_ts_ms</th>\n",
       "      <th>ts_datetime</th>\n",
       "      <th>rev_time_ms</th>\n",
       "      <th>rev_time_s</th>\n",
       "    </tr>\n",
       "  </thead>\n",
       "  <tbody>\n",
       "    <tr>\n",
       "      <th>0</th>\n",
       "      <td>1636217711256</td>\n",
       "      <td>2021-11-06 16:55:11.256</td>\n",
       "      <td>0</td>\n",
       "      <td>0.000</td>\n",
       "    </tr>\n",
       "    <tr>\n",
       "      <th>1</th>\n",
       "      <td>1636217712103</td>\n",
       "      <td>2021-11-06 16:55:12.103</td>\n",
       "      <td>847</td>\n",
       "      <td>0.847</td>\n",
       "    </tr>\n",
       "    <tr>\n",
       "      <th>2</th>\n",
       "      <td>1636217713260</td>\n",
       "      <td>2021-11-06 16:55:13.260</td>\n",
       "      <td>1157</td>\n",
       "      <td>1.157</td>\n",
       "    </tr>\n",
       "  </tbody>\n",
       "</table>\n",
       "</div>"
      ],
      "text/plain": [
       "      unix_ts_ms             ts_datetime  rev_time_ms  rev_time_s\n",
       "0  1636217711256 2021-11-06 16:55:11.256            0       0.000\n",
       "1  1636217712103 2021-11-06 16:55:12.103          847       0.847\n",
       "2  1636217713260 2021-11-06 16:55:13.260         1157       1.157"
      ]
     },
     "execution_count": 12,
     "metadata": {},
     "output_type": "execute_result"
    }
   ],
   "source": [
    "#create rev_time in seconds column\n",
    "wheel_df['rev_time_s'] = wheel_df.rev_time_ms * 0.001\n",
    "wheel_df.head(3)"
   ]
  },
  {
   "cell_type": "code",
   "execution_count": 13,
   "id": "db70860e",
   "metadata": {},
   "outputs": [
    {
     "name": "stdout",
     "output_type": "stream",
     "text": [
      "Wheel circumference is 0.63 m\n"
     ]
    },
    {
     "data": {
      "text/html": [
       "<div>\n",
       "<style scoped>\n",
       "    .dataframe tbody tr th:only-of-type {\n",
       "        vertical-align: middle;\n",
       "    }\n",
       "\n",
       "    .dataframe tbody tr th {\n",
       "        vertical-align: top;\n",
       "    }\n",
       "\n",
       "    .dataframe thead th {\n",
       "        text-align: right;\n",
       "    }\n",
       "</style>\n",
       "<table border=\"1\" class=\"dataframe\">\n",
       "  <thead>\n",
       "    <tr style=\"text-align: right;\">\n",
       "      <th></th>\n",
       "      <th>unix_ts_ms</th>\n",
       "      <th>ts_datetime</th>\n",
       "      <th>rev_time_ms</th>\n",
       "      <th>rev_time_s</th>\n",
       "      <th>rev_speed_m/s</th>\n",
       "    </tr>\n",
       "  </thead>\n",
       "  <tbody>\n",
       "    <tr>\n",
       "      <th>0</th>\n",
       "      <td>1636217711256</td>\n",
       "      <td>2021-11-06 16:55:11.256</td>\n",
       "      <td>0</td>\n",
       "      <td>0.000</td>\n",
       "      <td>inf</td>\n",
       "    </tr>\n",
       "    <tr>\n",
       "      <th>1</th>\n",
       "      <td>1636217712103</td>\n",
       "      <td>2021-11-06 16:55:12.103</td>\n",
       "      <td>847</td>\n",
       "      <td>0.847</td>\n",
       "      <td>0.741816</td>\n",
       "    </tr>\n",
       "    <tr>\n",
       "      <th>2</th>\n",
       "      <td>1636217713260</td>\n",
       "      <td>2021-11-06 16:55:13.260</td>\n",
       "      <td>1157</td>\n",
       "      <td>1.157</td>\n",
       "      <td>0.543058</td>\n",
       "    </tr>\n",
       "  </tbody>\n",
       "</table>\n",
       "</div>"
      ],
      "text/plain": [
       "      unix_ts_ms             ts_datetime  rev_time_ms  rev_time_s  \\\n",
       "0  1636217711256 2021-11-06 16:55:11.256            0       0.000   \n",
       "1  1636217712103 2021-11-06 16:55:12.103          847       0.847   \n",
       "2  1636217713260 2021-11-06 16:55:13.260         1157       1.157   \n",
       "\n",
       "   rev_speed_m/s  \n",
       "0            inf  \n",
       "1       0.741816  \n",
       "2       0.543058  "
      ]
     },
     "execution_count": 13,
     "metadata": {},
     "output_type": "execute_result"
    }
   ],
   "source": [
    "import numpy as np\n",
    "\n",
    "#knowing the distance of the each revolution is the\n",
    "#circumference of the wheel C = 2pi r\n",
    "wheel_radius_m = 0.1\n",
    "C_m = 2 * np.pi * wheel_radius_m\n",
    "print(\"Wheel circumference is\",np.round(C_m,2), 'm')\n",
    "\n",
    "#calculate the mean speed of each revolution\n",
    "wheel_df['rev_speed_m/s'] = C_m /  wheel_df.rev_time_s\n",
    "\n",
    "wheel_df.head(3)"
   ]
  },
  {
   "cell_type": "code",
   "execution_count": 14,
   "id": "365ae0a0",
   "metadata": {},
   "outputs": [
    {
     "data": {
      "text/plain": [
       "1"
      ]
     },
     "execution_count": 14,
     "metadata": {},
     "output_type": "execute_result"
    }
   ],
   "source": [
    "#number of infinities in df\n",
    "np.isinf(wheel_df['rev_speed_m/s']).sum()"
   ]
  },
  {
   "cell_type": "code",
   "execution_count": 15,
   "id": "8f9cf89a",
   "metadata": {},
   "outputs": [
    {
     "data": {
      "text/html": [
       "<div>\n",
       "<style scoped>\n",
       "    .dataframe tbody tr th:only-of-type {\n",
       "        vertical-align: middle;\n",
       "    }\n",
       "\n",
       "    .dataframe tbody tr th {\n",
       "        vertical-align: top;\n",
       "    }\n",
       "\n",
       "    .dataframe thead th {\n",
       "        text-align: right;\n",
       "    }\n",
       "</style>\n",
       "<table border=\"1\" class=\"dataframe\">\n",
       "  <thead>\n",
       "    <tr style=\"text-align: right;\">\n",
       "      <th></th>\n",
       "      <th>unix_ts_ms</th>\n",
       "      <th>ts_datetime</th>\n",
       "      <th>rev_time_ms</th>\n",
       "      <th>rev_time_s</th>\n",
       "      <th>rev_speed_m/s</th>\n",
       "    </tr>\n",
       "  </thead>\n",
       "  <tbody>\n",
       "    <tr>\n",
       "      <th>0</th>\n",
       "      <td>1636217711256</td>\n",
       "      <td>2021-11-06 16:55:11.256</td>\n",
       "      <td>0</td>\n",
       "      <td>0.000</td>\n",
       "      <td>NaN</td>\n",
       "    </tr>\n",
       "    <tr>\n",
       "      <th>1</th>\n",
       "      <td>1636217712103</td>\n",
       "      <td>2021-11-06 16:55:12.103</td>\n",
       "      <td>847</td>\n",
       "      <td>0.847</td>\n",
       "      <td>0.741816</td>\n",
       "    </tr>\n",
       "    <tr>\n",
       "      <th>2</th>\n",
       "      <td>1636217713260</td>\n",
       "      <td>2021-11-06 16:55:13.260</td>\n",
       "      <td>1157</td>\n",
       "      <td>1.157</td>\n",
       "      <td>0.543058</td>\n",
       "    </tr>\n",
       "  </tbody>\n",
       "</table>\n",
       "</div>"
      ],
      "text/plain": [
       "      unix_ts_ms             ts_datetime  rev_time_ms  rev_time_s  \\\n",
       "0  1636217711256 2021-11-06 16:55:11.256            0       0.000   \n",
       "1  1636217712103 2021-11-06 16:55:12.103          847       0.847   \n",
       "2  1636217713260 2021-11-06 16:55:13.260         1157       1.157   \n",
       "\n",
       "   rev_speed_m/s  \n",
       "0            NaN  \n",
       "1       0.741816  \n",
       "2       0.543058  "
      ]
     },
     "execution_count": 15,
     "metadata": {},
     "output_type": "execute_result"
    }
   ],
   "source": [
    "#convert infinities to 0\n",
    "wheel_df.replace(np.inf,np.nan, inplace=True)\n",
    "\n",
    "wheel_df.head(3)"
   ]
  },
  {
   "cell_type": "code",
   "execution_count": 16,
   "id": "c0295beb",
   "metadata": {},
   "outputs": [
    {
     "data": {
      "text/html": [
       "<div>\n",
       "<style scoped>\n",
       "    .dataframe tbody tr th:only-of-type {\n",
       "        vertical-align: middle;\n",
       "    }\n",
       "\n",
       "    .dataframe tbody tr th {\n",
       "        vertical-align: top;\n",
       "    }\n",
       "\n",
       "    .dataframe thead th {\n",
       "        text-align: right;\n",
       "    }\n",
       "</style>\n",
       "<table border=\"1\" class=\"dataframe\">\n",
       "  <thead>\n",
       "    <tr style=\"text-align: right;\">\n",
       "      <th></th>\n",
       "      <th>unix_ts_ms</th>\n",
       "      <th>ts_datetime</th>\n",
       "      <th>rev_time_ms</th>\n",
       "      <th>rev_time_s</th>\n",
       "      <th>rev_speed_m/s</th>\n",
       "    </tr>\n",
       "  </thead>\n",
       "  <tbody>\n",
       "    <tr>\n",
       "      <th>0</th>\n",
       "      <td>1636217711256</td>\n",
       "      <td>2021-11-06 16:55:11.256</td>\n",
       "      <td>0</td>\n",
       "      <td>0.000</td>\n",
       "      <td>0.000000</td>\n",
       "    </tr>\n",
       "    <tr>\n",
       "      <th>1</th>\n",
       "      <td>1636217712103</td>\n",
       "      <td>2021-11-06 16:55:12.103</td>\n",
       "      <td>847</td>\n",
       "      <td>0.847</td>\n",
       "      <td>0.741816</td>\n",
       "    </tr>\n",
       "    <tr>\n",
       "      <th>2</th>\n",
       "      <td>1636217713260</td>\n",
       "      <td>2021-11-06 16:55:13.260</td>\n",
       "      <td>1157</td>\n",
       "      <td>1.157</td>\n",
       "      <td>0.543058</td>\n",
       "    </tr>\n",
       "  </tbody>\n",
       "</table>\n",
       "</div>"
      ],
      "text/plain": [
       "      unix_ts_ms             ts_datetime  rev_time_ms  rev_time_s  \\\n",
       "0  1636217711256 2021-11-06 16:55:11.256            0       0.000   \n",
       "1  1636217712103 2021-11-06 16:55:12.103          847       0.847   \n",
       "2  1636217713260 2021-11-06 16:55:13.260         1157       1.157   \n",
       "\n",
       "   rev_speed_m/s  \n",
       "0       0.000000  \n",
       "1       0.741816  \n",
       "2       0.543058  "
      ]
     },
     "execution_count": 16,
     "metadata": {},
     "output_type": "execute_result"
    }
   ],
   "source": [
    "#convert NaN to 0\n",
    "wheel_df.fillna(0, inplace=True)\n",
    "wheel_df.head(3)"
   ]
  },
  {
   "cell_type": "markdown",
   "id": "7b35f2bd",
   "metadata": {},
   "source": [
    "### EDA for outliers"
   ]
  },
  {
   "cell_type": "code",
   "execution_count": 17,
   "id": "b76dcc54",
   "metadata": {},
   "outputs": [
    {
     "data": {
      "text/plain": [
       "count    12149.000000\n",
       "mean         0.721567\n",
       "std          0.361023\n",
       "min          0.000000\n",
       "25%          0.577499\n",
       "50%          0.776661\n",
       "75%          0.892498\n",
       "max         28.559933\n",
       "Name: rev_speed_m/s, dtype: float64"
      ]
     },
     "execution_count": 17,
     "metadata": {},
     "output_type": "execute_result"
    }
   ],
   "source": [
    "#inspect distribution of speed values\n",
    "wheel_df[\"rev_speed_m/s\"].describe()"
   ]
  },
  {
   "cell_type": "code",
   "execution_count": 18,
   "id": "72f384b7",
   "metadata": {},
   "outputs": [
    {
     "data": {
      "text/html": [
       "<div>\n",
       "<style scoped>\n",
       "    .dataframe tbody tr th:only-of-type {\n",
       "        vertical-align: middle;\n",
       "    }\n",
       "\n",
       "    .dataframe tbody tr th {\n",
       "        vertical-align: top;\n",
       "    }\n",
       "\n",
       "    .dataframe thead th {\n",
       "        text-align: right;\n",
       "    }\n",
       "</style>\n",
       "<table border=\"1\" class=\"dataframe\">\n",
       "  <thead>\n",
       "    <tr style=\"text-align: right;\">\n",
       "      <th></th>\n",
       "      <th>unix_ts_ms</th>\n",
       "      <th>ts_datetime</th>\n",
       "      <th>rev_time_ms</th>\n",
       "      <th>rev_time_s</th>\n",
       "      <th>rev_speed_m/s</th>\n",
       "    </tr>\n",
       "  </thead>\n",
       "  <tbody>\n",
       "    <tr>\n",
       "      <th>12137</th>\n",
       "      <td>1636273297117</td>\n",
       "      <td>2021-11-07 08:21:37.117</td>\n",
       "      <td>22</td>\n",
       "      <td>0.022</td>\n",
       "      <td>28.559933</td>\n",
       "    </tr>\n",
       "    <tr>\n",
       "      <th>12138</th>\n",
       "      <td>1636273297207</td>\n",
       "      <td>2021-11-07 08:21:37.207</td>\n",
       "      <td>90</td>\n",
       "      <td>0.090</td>\n",
       "      <td>6.981317</td>\n",
       "    </tr>\n",
       "    <tr>\n",
       "      <th>12140</th>\n",
       "      <td>1636273399583</td>\n",
       "      <td>2021-11-07 08:23:19.583</td>\n",
       "      <td>95</td>\n",
       "      <td>0.095</td>\n",
       "      <td>6.613879</td>\n",
       "    </tr>\n",
       "    <tr>\n",
       "      <th>12142</th>\n",
       "      <td>1636273424050</td>\n",
       "      <td>2021-11-07 08:23:44.050</td>\n",
       "      <td>129</td>\n",
       "      <td>0.129</td>\n",
       "      <td>4.870686</td>\n",
       "    </tr>\n",
       "  </tbody>\n",
       "</table>\n",
       "</div>"
      ],
      "text/plain": [
       "          unix_ts_ms             ts_datetime  rev_time_ms  rev_time_s  \\\n",
       "12137  1636273297117 2021-11-07 08:21:37.117           22       0.022   \n",
       "12138  1636273297207 2021-11-07 08:21:37.207           90       0.090   \n",
       "12140  1636273399583 2021-11-07 08:23:19.583           95       0.095   \n",
       "12142  1636273424050 2021-11-07 08:23:44.050          129       0.129   \n",
       "\n",
       "       rev_speed_m/s  \n",
       "12137      28.559933  \n",
       "12138       6.981317  \n",
       "12140       6.613879  \n",
       "12142       4.870686  "
      ]
     },
     "execution_count": 18,
     "metadata": {},
     "output_type": "execute_result"
    }
   ],
   "source": [
    "#manually check speed values > 4\n",
    "wheel_df[wheel_df['rev_speed_m/s'] > 4]"
   ]
  },
  {
   "cell_type": "markdown",
   "id": "b3888bcf",
   "metadata": {},
   "source": [
    "* Manually inspect data around the outliers to see if they are caused by malfunction of the sensor"
   ]
  },
  {
   "cell_type": "code",
   "execution_count": 19,
   "id": "1c94f890",
   "metadata": {},
   "outputs": [
    {
     "data": {
      "text/html": [
       "<div>\n",
       "<style scoped>\n",
       "    .dataframe tbody tr th:only-of-type {\n",
       "        vertical-align: middle;\n",
       "    }\n",
       "\n",
       "    .dataframe tbody tr th {\n",
       "        vertical-align: top;\n",
       "    }\n",
       "\n",
       "    .dataframe thead th {\n",
       "        text-align: right;\n",
       "    }\n",
       "</style>\n",
       "<table border=\"1\" class=\"dataframe\">\n",
       "  <thead>\n",
       "    <tr style=\"text-align: right;\">\n",
       "      <th></th>\n",
       "      <th>unix_ts_ms</th>\n",
       "      <th>ts_datetime</th>\n",
       "      <th>rev_time_ms</th>\n",
       "      <th>rev_time_s</th>\n",
       "      <th>rev_speed_m/s</th>\n",
       "    </tr>\n",
       "  </thead>\n",
       "  <tbody>\n",
       "    <tr>\n",
       "      <th>12130</th>\n",
       "      <td>1636254883574</td>\n",
       "      <td>2021-11-07 03:14:43.574</td>\n",
       "      <td>2218</td>\n",
       "      <td>2.218</td>\n",
       "      <td>0.283282</td>\n",
       "    </tr>\n",
       "    <tr>\n",
       "      <th>12131</th>\n",
       "      <td>1636254885869</td>\n",
       "      <td>2021-11-07 03:14:45.869</td>\n",
       "      <td>2295</td>\n",
       "      <td>2.295</td>\n",
       "      <td>0.273777</td>\n",
       "    </tr>\n",
       "    <tr>\n",
       "      <th>12132</th>\n",
       "      <td>1636254887221</td>\n",
       "      <td>2021-11-07 03:14:47.221</td>\n",
       "      <td>1352</td>\n",
       "      <td>1.352</td>\n",
       "      <td>0.464733</td>\n",
       "    </tr>\n",
       "    <tr>\n",
       "      <th>12133</th>\n",
       "      <td>1636254888648</td>\n",
       "      <td>2021-11-07 03:14:48.648</td>\n",
       "      <td>1427</td>\n",
       "      <td>1.427</td>\n",
       "      <td>0.440307</td>\n",
       "    </tr>\n",
       "    <tr>\n",
       "      <th>12134</th>\n",
       "      <td>1636262116555</td>\n",
       "      <td>2021-11-07 05:15:16.555</td>\n",
       "      <td>7227907</td>\n",
       "      <td>7227.907</td>\n",
       "      <td>0.000087</td>\n",
       "    </tr>\n",
       "    <tr>\n",
       "      <th>12135</th>\n",
       "      <td>1636262186612</td>\n",
       "      <td>2021-11-07 05:16:26.612</td>\n",
       "      <td>70057</td>\n",
       "      <td>70.057</td>\n",
       "      <td>0.008969</td>\n",
       "    </tr>\n",
       "    <tr>\n",
       "      <th>12136</th>\n",
       "      <td>1636273297095</td>\n",
       "      <td>2021-11-07 08:21:37.095</td>\n",
       "      <td>11110483</td>\n",
       "      <td>11110.483</td>\n",
       "      <td>0.000057</td>\n",
       "    </tr>\n",
       "    <tr>\n",
       "      <th>12137</th>\n",
       "      <td>1636273297117</td>\n",
       "      <td>2021-11-07 08:21:37.117</td>\n",
       "      <td>22</td>\n",
       "      <td>0.022</td>\n",
       "      <td>28.559933</td>\n",
       "    </tr>\n",
       "    <tr>\n",
       "      <th>12138</th>\n",
       "      <td>1636273297207</td>\n",
       "      <td>2021-11-07 08:21:37.207</td>\n",
       "      <td>90</td>\n",
       "      <td>0.090</td>\n",
       "      <td>6.981317</td>\n",
       "    </tr>\n",
       "    <tr>\n",
       "      <th>12139</th>\n",
       "      <td>1636273399488</td>\n",
       "      <td>2021-11-07 08:23:19.488</td>\n",
       "      <td>102281</td>\n",
       "      <td>102.281</td>\n",
       "      <td>0.006143</td>\n",
       "    </tr>\n",
       "    <tr>\n",
       "      <th>12140</th>\n",
       "      <td>1636273399583</td>\n",
       "      <td>2021-11-07 08:23:19.583</td>\n",
       "      <td>95</td>\n",
       "      <td>0.095</td>\n",
       "      <td>6.613879</td>\n",
       "    </tr>\n",
       "    <tr>\n",
       "      <th>12141</th>\n",
       "      <td>1636273423921</td>\n",
       "      <td>2021-11-07 08:23:43.921</td>\n",
       "      <td>24338</td>\n",
       "      <td>24.338</td>\n",
       "      <td>0.025816</td>\n",
       "    </tr>\n",
       "    <tr>\n",
       "      <th>12142</th>\n",
       "      <td>1636273424050</td>\n",
       "      <td>2021-11-07 08:23:44.050</td>\n",
       "      <td>129</td>\n",
       "      <td>0.129</td>\n",
       "      <td>4.870686</td>\n",
       "    </tr>\n",
       "    <tr>\n",
       "      <th>12143</th>\n",
       "      <td>1636274254067</td>\n",
       "      <td>2021-11-07 08:37:34.067</td>\n",
       "      <td>830017</td>\n",
       "      <td>830.017</td>\n",
       "      <td>0.000757</td>\n",
       "    </tr>\n",
       "    <tr>\n",
       "      <th>12144</th>\n",
       "      <td>1636287290854</td>\n",
       "      <td>2021-11-07 12:14:50.854</td>\n",
       "      <td>13036787</td>\n",
       "      <td>13036.787</td>\n",
       "      <td>0.000048</td>\n",
       "    </tr>\n",
       "    <tr>\n",
       "      <th>12145</th>\n",
       "      <td>1636289435237</td>\n",
       "      <td>2021-11-07 12:50:35.237</td>\n",
       "      <td>2144383</td>\n",
       "      <td>2144.383</td>\n",
       "      <td>0.000293</td>\n",
       "    </tr>\n",
       "    <tr>\n",
       "      <th>12146</th>\n",
       "      <td>1636289438815</td>\n",
       "      <td>2021-11-07 12:50:38.815</td>\n",
       "      <td>3578</td>\n",
       "      <td>3.578</td>\n",
       "      <td>0.175606</td>\n",
       "    </tr>\n",
       "    <tr>\n",
       "      <th>12147</th>\n",
       "      <td>1636295238416</td>\n",
       "      <td>2021-11-07 14:27:18.416</td>\n",
       "      <td>5799601</td>\n",
       "      <td>5799.601</td>\n",
       "      <td>0.000108</td>\n",
       "    </tr>\n",
       "    <tr>\n",
       "      <th>12148</th>\n",
       "      <td>1636299854502</td>\n",
       "      <td>2021-11-07 15:44:14.502</td>\n",
       "      <td>4616086</td>\n",
       "      <td>4616.086</td>\n",
       "      <td>0.000136</td>\n",
       "    </tr>\n",
       "  </tbody>\n",
       "</table>\n",
       "</div>"
      ],
      "text/plain": [
       "          unix_ts_ms             ts_datetime  rev_time_ms  rev_time_s  \\\n",
       "12130  1636254883574 2021-11-07 03:14:43.574         2218       2.218   \n",
       "12131  1636254885869 2021-11-07 03:14:45.869         2295       2.295   \n",
       "12132  1636254887221 2021-11-07 03:14:47.221         1352       1.352   \n",
       "12133  1636254888648 2021-11-07 03:14:48.648         1427       1.427   \n",
       "12134  1636262116555 2021-11-07 05:15:16.555      7227907    7227.907   \n",
       "12135  1636262186612 2021-11-07 05:16:26.612        70057      70.057   \n",
       "12136  1636273297095 2021-11-07 08:21:37.095     11110483   11110.483   \n",
       "12137  1636273297117 2021-11-07 08:21:37.117           22       0.022   \n",
       "12138  1636273297207 2021-11-07 08:21:37.207           90       0.090   \n",
       "12139  1636273399488 2021-11-07 08:23:19.488       102281     102.281   \n",
       "12140  1636273399583 2021-11-07 08:23:19.583           95       0.095   \n",
       "12141  1636273423921 2021-11-07 08:23:43.921        24338      24.338   \n",
       "12142  1636273424050 2021-11-07 08:23:44.050          129       0.129   \n",
       "12143  1636274254067 2021-11-07 08:37:34.067       830017     830.017   \n",
       "12144  1636287290854 2021-11-07 12:14:50.854     13036787   13036.787   \n",
       "12145  1636289435237 2021-11-07 12:50:35.237      2144383    2144.383   \n",
       "12146  1636289438815 2021-11-07 12:50:38.815         3578       3.578   \n",
       "12147  1636295238416 2021-11-07 14:27:18.416      5799601    5799.601   \n",
       "12148  1636299854502 2021-11-07 15:44:14.502      4616086    4616.086   \n",
       "\n",
       "       rev_speed_m/s  \n",
       "12130       0.283282  \n",
       "12131       0.273777  \n",
       "12132       0.464733  \n",
       "12133       0.440307  \n",
       "12134       0.000087  \n",
       "12135       0.008969  \n",
       "12136       0.000057  \n",
       "12137      28.559933  \n",
       "12138       6.981317  \n",
       "12139       0.006143  \n",
       "12140       6.613879  \n",
       "12141       0.025816  \n",
       "12142       4.870686  \n",
       "12143       0.000757  \n",
       "12144       0.000048  \n",
       "12145       0.000293  \n",
       "12146       0.175606  \n",
       "12147       0.000108  \n",
       "12148       0.000136  "
      ]
     },
     "execution_count": 19,
     "metadata": {},
     "output_type": "execute_result"
    }
   ],
   "source": [
    "wheel_df.iloc[12130:12150,:]"
   ]
  },
  {
   "cell_type": "markdown",
   "id": "cd84362c",
   "metadata": {},
   "source": [
    "* Visualize the outliers by plotting speed vs time"
   ]
  },
  {
   "cell_type": "code",
   "execution_count": 20,
   "id": "dd37abc5",
   "metadata": {},
   "outputs": [
    {
     "data": {
      "image/png": "[encoded data removed]",
      "text/plain": [
       "<Figure size 648x432 with 1 Axes>"
      ]
     },
     "metadata": {
      "needs_background": "light"
     },
     "output_type": "display_data"
    }
   ],
   "source": [
    "import matplotlib.pyplot as plt\n",
    "\n",
    "#plot rev_speed vs time\n",
    "wheel_df.plot.line(x='ts_datetime',\n",
    "                   y='rev_speed_m/s',\n",
    "                   figsize=(9,6),\n",
    "                   grid=True)\n",
    "plt.show()"
   ]
  },
  {
   "cell_type": "markdown",
   "id": "f9445ad0",
   "metadata": {},
   "source": [
    "* Plot is dominated by the max outlier\n",
    "* Plot confirms that speeds above 5 m/s are not realistic and can be cut\n",
    "\n",
    "### Removing outliers from the dataset"
   ]
  },
  {
   "cell_type": "code",
   "execution_count": 21,
   "id": "91170259",
   "metadata": {},
   "outputs": [
    {
     "name": "stdout",
     "output_type": "stream",
     "text": [
      "Dataset shape with outliers: (12149, 5)\n",
      "\n",
      "Dataset shape after removing outliers: (12146, 5)\n"
     ]
    }
   ],
   "source": [
    "print('Dataset shape with outliers:', wheel_df.shape)\n",
    "\n",
    "#removing observations where rev_speed_m/s > 5\n",
    "wheel_df = wheel_df[wheel_df['rev_speed_m/s'] < 5]\n",
    "\n",
    "print('\\nDataset shape after removing outliers:', wheel_df.shape)"
   ]
  },
  {
   "cell_type": "code",
   "execution_count": 22,
   "id": "46066fdd",
   "metadata": {},
   "outputs": [
    {
     "data": {
      "image/png": "[encoded data removed]",
      "text/plain": [
       "<Figure size 648x432 with 1 Axes>"
      ]
     },
     "metadata": {
      "needs_background": "light"
     },
     "output_type": "display_data"
    }
   ],
   "source": [
    "#plot rev_speed vs time after removing outliers\n",
    "wheel_df.plot.line(x='ts_datetime',\n",
    "                   y='rev_speed_m/s',\n",
    "                   figsize=(9,6),\n",
    "                   grid=True)\n",
    "plt.show()"
   ]
  },
  {
   "cell_type": "markdown",
   "id": "d8acd295",
   "metadata": {},
   "source": [
    "* There are more outliers due to sensor error etc, to investigte also the dense areas lets create a zoom-able plot"
   ]
  },
  {
   "cell_type": "code",
   "execution_count": 23,
   "id": "f08ef8bb",
   "metadata": {},
   "outputs": [],
   "source": [
    "# import sys\n",
    "\n",
    "# sys.path.append('/home/tonu/Documents/data_science/jupyter_anaconda/custom_modules')\n",
    "# sys.path"
   ]
  },
  {
   "cell_type": "code",
   "execution_count": 25,
   "id": "15bbf36b",
   "metadata": {},
   "outputs": [
    {
     "name": "stdout",
     "output_type": "stream",
     "text": [
      "\n"
     ]
    }
   ],
   "source": [
    "%%bash\n",
    "\n",
    "echo $JUPYTER_PATH"
   ]
  },
  {
   "cell_type": "code",
   "execution_count": null,
   "id": "259d8563",
   "metadata": {},
   "outputs": [],
   "source": []
  }
 ],
 "metadata": {
  "kernelspec": {
   "display_name": "Python 3",
   "language": "python",
   "name": "python3"
  },
  "language_info": {
   "codemirror_mode": {
    "name": "ipython",
    "version": 3
   },
   "file_extension": ".py",
   "mimetype": "text/x-python",
   "name": "python",
   "nbconvert_exporter": "python",
   "pygments_lexer": "ipython3",
   "version": "3.7.9"
  },
  "latex_envs": {
   "LaTeX_envs_menu_present": true,
   "autoclose": false,
   "autocomplete": true,
   "bibliofile": "biblio.bib",
   "cite_by": "apalike",
   "current_citInitial": 1,
   "eqLabelWithNumbers": true,
   "eqNumInitial": 1,
   "hotkeys": {
    "equation": "Ctrl-E",
    "itemize": "Ctrl-I"
   },
   "labels_anchors": false,
   "latex_user_defs": false,
   "report_style_numbering": false,
   "user_envs_cfg": false
  },
  "varInspector": {
   "cols": {
    "lenName": 16,
    "lenType": 16,
    "lenVar": 40
   },
   "kernels_config": {
    "python": {
     "delete_cmd_postfix": "",
     "delete_cmd_prefix": "del ",
     "library": "var_list.py",
     "varRefreshCmd": "print(var_dic_list())"
    },
    "r": {
     "delete_cmd_postfix": ") ",
     "delete_cmd_prefix": "rm(",
     "library": "var_list.r",
     "varRefreshCmd": "cat(var_dic_list()) "
    }
   },
   "types_to_exclude": [
    "module",
    "function",
    "builtin_function_or_method",
    "instance",
    "_Feature"
   ],
   "window_display": false
  }
 },
 "nbformat": 4,
 "nbformat_minor": 5
}
