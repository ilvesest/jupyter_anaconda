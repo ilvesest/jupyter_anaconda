{
 "cells": [
  {
   "cell_type": "markdown",
   "id": "91cc0601",
   "metadata": {},
   "source": [
    "<center><font size=\"20\">Scheduling Scripts</font></center>"
   ]
  },
  {
   "cell_type": "code",
   "execution_count": 4,
   "id": "113d53fe",
   "metadata": {},
   "outputs": [],
   "source": [
    "from selenium import webdriver\n",
    "from selenium.webdriver.firefox.options import Options #for headless mode\n",
    "from selenium.webdriver.firefox.service import Service as FirefoxService\n",
    "from webdriver_manager.firefox import GeckoDriverManager\n",
    "from datetime import datetime\n",
    "import os, sys\n",
    "\n",
    "\n",
    "options = Options()\n",
    "options.headless = True #headless mode parameter\n",
    "\n",
    "driver = webdriver.Firefox(\n",
    "    service=FirefoxService(GeckoDriverManager().install()), \n",
    "    options=options)\n",
    "\n",
    "url = \"https://www.thesun.co.uk/sport/football/\"\n",
    "driver.get(url)\n",
    "\n",
    "#find all football news containers\n",
    "containers = driver.find_elements(\n",
    "    by='xpath', \n",
    "    value='//div[@class=\"teaser__copy-container\"]'\n",
    "    )\n",
    "\n",
    "#find title, subtitles and hyperlink texts\n",
    "titles, sub_ts, hrefs = [], [], []\n",
    "for i,container in enumerate(containers):\n",
    "    \n",
    "    if i == 5: break\n",
    "    \n",
    "    titles.append(container.find_element(by='xpath', value='./a/h2').text)\n",
    "    sub_ts.append(container.find_element(by='xpath', value='./a/p').text)\n",
    "    hrefs.append(container.find_element(by='xpath', value='./a').get_attribute(\"href\"))\n",
    "\n",
    "driver.quit()\n",
    "    \n",
    "df = pd.DataFrame(data=\n",
    "                  {'titles':titles,\n",
    "                   'sub_titles': sub_ts,\n",
    "                   'hrefs':hrefs})\n",
    "\n",
    "#app_path = os.path.dirname(sys.executable)\n",
    "app_path = os.getcwd()\n",
    "\n",
    "now = datetime.now()\n",
    "year_month_day = now.strftime(\"%Y_%m_%d\") #YYYY_MM_DD\n",
    "\n",
    "file_name = f\"headlines-{year_month_day}.csv\"\n",
    "\n",
    "#for different OS compability use OS module to generate the path\n",
    "#since macOS, linux and windows have different path methods\n",
    "final_path = os.path.join(app_path, \"data\" ,file_name)\n",
    "\n",
    "df.to_csv(final_path)"
   ]
  },
  {
   "cell_type": "code",
   "execution_count": 10,
   "id": "0df94b66",
   "metadata": {},
   "outputs": [],
   "source": [
    "\n",
    "\n"
   ]
  }
 ],
 "metadata": {
  "kernelspec": {
   "display_name": "Python 3 (ipykernel)",
   "language": "python",
   "name": "python3"
  },
  "language_info": {
   "codemirror_mode": {
    "name": "ipython",
    "version": 3
   },
   "file_extension": ".py",
   "mimetype": "text/x-python",
   "name": "python",
   "nbconvert_exporter": "python",
   "pygments_lexer": "ipython3",
   "version": "3.9.13"
  },
  "latex_envs": {
   "LaTeX_envs_menu_present": true,
   "autoclose": false,
   "autocomplete": true,
   "bibliofile": "biblio.bib",
   "cite_by": "apalike",
   "current_citInitial": 1,
   "eqLabelWithNumbers": true,
   "eqNumInitial": 1,
   "hotkeys": {
    "equation": "Ctrl-E",
    "itemize": "Ctrl-I"
   },
   "labels_anchors": false,
   "latex_user_defs": false,
   "report_style_numbering": false,
   "user_envs_cfg": false
  },
  "toc": {
   "base_numbering": 1,
   "nav_menu": {},
   "number_sections": true,
   "sideBar": true,
   "skip_h1_title": false,
   "title_cell": "Table of Contents",
   "title_sidebar": "Contents",
   "toc_cell": false,
   "toc_position": {
    "height": "560.6px",
    "left": "116px",
    "top": "180px",
    "width": "165px"
   },
   "toc_section_display": true,
   "toc_window_display": true
  },
  "varInspector": {
   "cols": {
    "lenName": 16,
    "lenType": 16,
    "lenVar": 40
   },
   "kernels_config": {
    "python": {
     "delete_cmd_postfix": "",
     "delete_cmd_prefix": "del ",
     "library": "var_list.py",
     "varRefreshCmd": "print(var_dic_list())"
    },
    "r": {
     "delete_cmd_postfix": ") ",
     "delete_cmd_prefix": "rm(",
     "library": "var_list.r",
     "varRefreshCmd": "cat(var_dic_list()) "
    }
   },
   "types_to_exclude": [
    "module",
    "function",
    "builtin_function_or_method",
    "instance",
    "_Feature"
   ],
   "window_display": false
  }
 },
 "nbformat": 4,
 "nbformat_minor": 5
}
