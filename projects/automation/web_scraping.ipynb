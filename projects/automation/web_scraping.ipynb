{
 "cells": [
  {
   "cell_type": "markdown",
   "id": "5e9d39cc",
   "metadata": {},
   "source": [
    "**<center><font size=\"40\">Web Scraping</font></center>**"
   ]
  },
  {
   "cell_type": "markdown",
   "id": "8b5a61a5",
   "metadata": {},
   "source": [
    "# TABLES"
   ]
  },
  {
   "cell_type": "markdown",
   "id": "d8f889e0",
   "metadata": {},
   "source": [
    "## pandas"
   ]
  },
  {
   "cell_type": "markdown",
   "id": "d8f3fb82",
   "metadata": {},
   "source": [
    "<code>pd.read_csv()</code> - Read HTML tables into a <code>list</code> of <code>DataFrame</code> objects."
   ]
  },
  {
   "cell_type": "code",
   "execution_count": 21,
   "id": "074a7b2c",
   "metadata": {},
   "outputs": [
    {
     "name": "stdout",
     "output_type": "stream",
     "text": [
      "<class 'list'>\n",
      "23\n"
     ]
    }
   ],
   "source": [
    "import pandas as pd\n",
    "\n",
    "url = \"https://en.wikipedia.org/wiki/List_of_\" \\\n",
    "    \"The_Simpsons_episodes_(seasons_1%E2%80%9320)\"\n",
    "\n",
    "# read html tables into list of df-s\n",
    "df_list = pd.read_html(io=url)\n",
    "\n",
    "print(type(df_list))\n",
    "print(len(df_list))"
   ]
  },
  {
   "cell_type": "code",
   "execution_count": 12,
   "id": "02c811e4",
   "metadata": {},
   "outputs": [
    {
     "data": {
      "text/html": [
       "<div>\n",
       "<style scoped>\n",
       "    .dataframe tbody tr th:only-of-type {\n",
       "        vertical-align: middle;\n",
       "    }\n",
       "\n",
       "    .dataframe tbody tr th {\n",
       "        vertical-align: top;\n",
       "    }\n",
       "\n",
       "    .dataframe thead th {\n",
       "        text-align: right;\n",
       "    }\n",
       "</style>\n",
       "<table border=\"1\" class=\"dataframe\">\n",
       "  <thead>\n",
       "    <tr style=\"text-align: right;\">\n",
       "      <th></th>\n",
       "      <th>No.overall</th>\n",
       "      <th>No. inseason</th>\n",
       "      <th>Title</th>\n",
       "      <th>Directed by</th>\n",
       "      <th>Written by</th>\n",
       "      <th>Original air date</th>\n",
       "      <th>Prod.code</th>\n",
       "      <th>U.S. viewers(millions)</th>\n",
       "    </tr>\n",
       "  </thead>\n",
       "  <tbody>\n",
       "    <tr>\n",
       "      <th>0</th>\n",
       "      <td>1</td>\n",
       "      <td>1</td>\n",
       "      <td>\"Simpsons Roasting on an Open Fire\"</td>\n",
       "      <td>David Silverman</td>\n",
       "      <td>Mimi Pond</td>\n",
       "      <td>December 17, 1989</td>\n",
       "      <td>7G08</td>\n",
       "      <td>26.7[46]</td>\n",
       "    </tr>\n",
       "    <tr>\n",
       "      <th>1</th>\n",
       "      <td>2</td>\n",
       "      <td>2</td>\n",
       "      <td>\"Bart the Genius\"</td>\n",
       "      <td>David Silverman</td>\n",
       "      <td>Jon Vitti</td>\n",
       "      <td>January 14, 1990</td>\n",
       "      <td>7G02</td>\n",
       "      <td>24.5[46]</td>\n",
       "    </tr>\n",
       "  </tbody>\n",
       "</table>\n",
       "</div>"
      ],
      "text/plain": [
       "   No.overall  No. inseason                                Title  \\\n",
       "0           1             1  \"Simpsons Roasting on an Open Fire\"   \n",
       "1           2             2                    \"Bart the Genius\"   \n",
       "\n",
       "       Directed by Written by  Original air date Prod.code  \\\n",
       "0  David Silverman  Mimi Pond  December 17, 1989      7G08   \n",
       "1  David Silverman  Jon Vitti   January 14, 1990      7G02   \n",
       "\n",
       "  U.S. viewers(millions)  \n",
       "0               26.7[46]  \n",
       "1               24.5[46]  "
      ]
     },
     "execution_count": 12,
     "metadata": {},
     "output_type": "execute_result"
    }
   ],
   "source": [
    "df_list[1].head(2)"
   ]
  },
  {
   "cell_type": "markdown",
   "id": "a005b2c2",
   "metadata": {},
   "source": [
    "<code>match</code> argument in <code>pd.read_html()</code> : str or compiled regular expression, optional\n",
    "\n"
   ]
  },
  {
   "cell_type": "code",
   "execution_count": 22,
   "id": "6cd39fbd",
   "metadata": {},
   "outputs": [
    {
     "data": {
      "text/html": [
       "<div>\n",
       "<style scoped>\n",
       "    .dataframe tbody tr th:only-of-type {\n",
       "        vertical-align: middle;\n",
       "    }\n",
       "\n",
       "    .dataframe tbody tr th {\n",
       "        vertical-align: top;\n",
       "    }\n",
       "\n",
       "    .dataframe thead th {\n",
       "        text-align: right;\n",
       "    }\n",
       "</style>\n",
       "<table border=\"1\" class=\"dataframe\">\n",
       "  <thead>\n",
       "    <tr style=\"text-align: right;\">\n",
       "      <th></th>\n",
       "      <th>No.overall</th>\n",
       "      <th>No. inseason</th>\n",
       "      <th>Title</th>\n",
       "      <th>Directed by</th>\n",
       "      <th>Written by</th>\n",
       "      <th>Original air date</th>\n",
       "      <th>Prod.code</th>\n",
       "      <th>U.S. viewers(millions)</th>\n",
       "    </tr>\n",
       "  </thead>\n",
       "  <tbody>\n",
       "    <tr>\n",
       "      <th>0</th>\n",
       "      <td>60</td>\n",
       "      <td>1</td>\n",
       "      <td>\"Kamp Krusty\"</td>\n",
       "      <td>Mark Kirkland</td>\n",
       "      <td>David M. Stern</td>\n",
       "      <td>September 24, 1992</td>\n",
       "      <td>8F24</td>\n",
       "      <td>21.8[104]</td>\n",
       "    </tr>\n",
       "    <tr>\n",
       "      <th>1</th>\n",
       "      <td>61</td>\n",
       "      <td>2</td>\n",
       "      <td>\"A Streetcar Named Marge\"</td>\n",
       "      <td>Rich Moore</td>\n",
       "      <td>Jeff Martin</td>\n",
       "      <td>October 1, 1992</td>\n",
       "      <td>8F18</td>\n",
       "      <td>18.3[105]</td>\n",
       "    </tr>\n",
       "    <tr>\n",
       "      <th>2</th>\n",
       "      <td>62</td>\n",
       "      <td>3</td>\n",
       "      <td>\"Homer the Heretic\"</td>\n",
       "      <td>Jim Reardon</td>\n",
       "      <td>George Meyer</td>\n",
       "      <td>October 8, 1992</td>\n",
       "      <td>9F01</td>\n",
       "      <td>19.3[106]</td>\n",
       "    </tr>\n",
       "    <tr>\n",
       "      <th>3</th>\n",
       "      <td>63</td>\n",
       "      <td>4</td>\n",
       "      <td>\"Lisa the Beauty Queen\"</td>\n",
       "      <td>Mark Kirkland</td>\n",
       "      <td>Jeff Martin</td>\n",
       "      <td>October 15, 1992</td>\n",
       "      <td>9F02</td>\n",
       "      <td>19[107]</td>\n",
       "    </tr>\n",
       "    <tr>\n",
       "      <th>4</th>\n",
       "      <td>64</td>\n",
       "      <td>5</td>\n",
       "      <td>\"Treehouse of Horror III\"</td>\n",
       "      <td>Carlos Baeza</td>\n",
       "      <td>Al Jean &amp; Mike ReissJay Kogen &amp; Wallace Woloda...</td>\n",
       "      <td>October 29, 1992</td>\n",
       "      <td>9F04</td>\n",
       "      <td>25.1[108]</td>\n",
       "    </tr>\n",
       "  </tbody>\n",
       "</table>\n",
       "</div>"
      ],
      "text/plain": [
       "   No.overall  No. inseason                      Title    Directed by  \\\n",
       "0          60             1              \"Kamp Krusty\"  Mark Kirkland   \n",
       "1          61             2  \"A Streetcar Named Marge\"     Rich Moore   \n",
       "2          62             3        \"Homer the Heretic\"    Jim Reardon   \n",
       "3          63             4    \"Lisa the Beauty Queen\"  Mark Kirkland   \n",
       "4          64             5  \"Treehouse of Horror III\"   Carlos Baeza   \n",
       "\n",
       "                                          Written by   Original air date  \\\n",
       "0                                     David M. Stern  September 24, 1992   \n",
       "1                                        Jeff Martin     October 1, 1992   \n",
       "2                                       George Meyer     October 8, 1992   \n",
       "3                                        Jeff Martin    October 15, 1992   \n",
       "4  Al Jean & Mike ReissJay Kogen & Wallace Woloda...    October 29, 1992   \n",
       "\n",
       "  Prod.code U.S. viewers(millions)  \n",
       "0      8F24              21.8[104]  \n",
       "1      8F18              18.3[105]  \n",
       "2      9F01              19.3[106]  \n",
       "3      9F02                19[107]  \n",
       "4      9F04              25.1[108]  "
      ]
     },
     "execution_count": 22,
     "metadata": {},
     "output_type": "execute_result"
    }
   ],
   "source": [
    "df_list = pd.read_html(\n",
    "    io=url,\n",
    "    match=\"Treehouse of Horror III\")\n",
    "\n",
    "df_list[0].head()"
   ]
  },
  {
   "cell_type": "markdown",
   "id": "25111781",
   "metadata": {},
   "source": [
    "## requests & bs4"
   ]
  },
  {
   "cell_type": "markdown",
   "id": "aee98161",
   "metadata": {},
   "source": [
    "Selecting table using table Headline / Heading\n",
    "\n",
    "Iterative strategy:\n",
    "1. Find table\n",
    "2. Find first preceeding heading\n",
    "3. Try matching it with given heading\n",
    "\n",
    "Working in opposite order would be too ambigious to match the table with corresponding heading as there can be nested headings."
   ]
  },
  {
   "cell_type": "code",
   "execution_count": 79,
   "id": "2d52d351",
   "metadata": {},
   "outputs": [],
   "source": [
    "import requests\n",
    "from bs4 import BeautifulSoup as BS\n",
    "import re"
   ]
  },
  {
   "cell_type": "code",
   "execution_count": 44,
   "id": "6f576234",
   "metadata": {},
   "outputs": [],
   "source": [
    "# Creating the response object\n",
    "response_object = requests.get(url)\n",
    "\n",
    "# Extracting the text from the webpage\n",
    "r_html = response_object.text\n",
    "\n",
    "# Creating the soup object\n",
    "soup = BS(r_html)"
   ]
  },
  {
   "cell_type": "code",
   "execution_count": 162,
   "id": "534ee7d2",
   "metadata": {
    "scrolled": true
   },
   "outputs": [
    {
     "data": {
      "text/html": [
       "<div>\n",
       "<style scoped>\n",
       "    .dataframe tbody tr th:only-of-type {\n",
       "        vertical-align: middle;\n",
       "    }\n",
       "\n",
       "    .dataframe tbody tr th {\n",
       "        vertical-align: top;\n",
       "    }\n",
       "\n",
       "    .dataframe thead tr th {\n",
       "        text-align: left;\n",
       "    }\n",
       "</style>\n",
       "<table border=\"1\" class=\"dataframe\">\n",
       "  <thead>\n",
       "    <tr>\n",
       "      <th></th>\n",
       "      <th>Season</th>\n",
       "      <th colspan=\"2\" halign=\"left\">Episodes</th>\n",
       "      <th colspan=\"2\" halign=\"left\">Originally aired</th>\n",
       "      <th>Households / viewers</th>\n",
       "      <th>Rank</th>\n",
       "      <th>Rating</th>\n",
       "    </tr>\n",
       "    <tr>\n",
       "      <th></th>\n",
       "      <th>Season</th>\n",
       "      <th>Episodes</th>\n",
       "      <th>Episodes.1</th>\n",
       "      <th>First aired</th>\n",
       "      <th>Last aired</th>\n",
       "      <th>Households / viewers</th>\n",
       "      <th>Rank</th>\n",
       "      <th>Rating</th>\n",
       "    </tr>\n",
       "  </thead>\n",
       "  <tbody>\n",
       "    <tr>\n",
       "      <th>0</th>\n",
       "      <td>1</td>\n",
       "      <td>13</td>\n",
       "      <td>13</td>\n",
       "      <td>December 17, 1989</td>\n",
       "      <td>May 13, 1990</td>\n",
       "      <td>13.4m h.  [n1]  [12]</td>\n",
       "      <td>30</td>\n",
       "      <td>14.5</td>\n",
       "    </tr>\n",
       "  </tbody>\n",
       "</table>\n",
       "</div>"
      ],
      "text/plain": [
       "  Season Episodes              Originally aired                \\\n",
       "  Season Episodes Episodes.1        First aired    Last aired   \n",
       "0      1       13         13  December 17, 1989  May 13, 1990   \n",
       "\n",
       "   Households / viewers Rank Rating  \n",
       "   Households / viewers Rank Rating  \n",
       "0  13.4m h.  [n1]  [12]   30   14.5  "
      ]
     },
     "execution_count": 162,
     "metadata": {},
     "output_type": "execute_result"
    }
   ],
   "source": [
    "pd.read_html(io=soup.find(name='table').prettify())[0].head(1)"
   ]
  },
  {
   "cell_type": "code",
   "execution_count": 171,
   "id": "8b32aaf6",
   "metadata": {
    "scrolled": false
   },
   "outputs": [
    {
     "data": {
      "text/html": [
       "<div>\n",
       "<style scoped>\n",
       "    .dataframe tbody tr th:only-of-type {\n",
       "        vertical-align: middle;\n",
       "    }\n",
       "\n",
       "    .dataframe tbody tr th {\n",
       "        vertical-align: top;\n",
       "    }\n",
       "\n",
       "    .dataframe thead th {\n",
       "        text-align: right;\n",
       "    }\n",
       "</style>\n",
       "<table border=\"1\" class=\"dataframe\">\n",
       "  <thead>\n",
       "    <tr style=\"text-align: right;\">\n",
       "      <th></th>\n",
       "      <th>No.  overall</th>\n",
       "      <th>No.  in  season</th>\n",
       "      <th>Title</th>\n",
       "      <th>Directed by</th>\n",
       "      <th>Written by</th>\n",
       "      <th>Original air date</th>\n",
       "      <th>Prod.  code</th>\n",
       "      <th>U.S. viewers  (millions)</th>\n",
       "    </tr>\n",
       "  </thead>\n",
       "  <tbody>\n",
       "    <tr>\n",
       "      <th>0</th>\n",
       "      <td>1</td>\n",
       "      <td>1</td>\n",
       "      <td>\"  Simpsons Roasting on an Open Fire  \"</td>\n",
       "      <td>David Silverman</td>\n",
       "      <td>Mimi Pond</td>\n",
       "      <td>December 17, 1989</td>\n",
       "      <td>7G08</td>\n",
       "      <td>26.7  [46]</td>\n",
       "    </tr>\n",
       "    <tr>\n",
       "      <th>1</th>\n",
       "      <td>2</td>\n",
       "      <td>2</td>\n",
       "      <td>\"  Bart the Genius  \"</td>\n",
       "      <td>David Silverman</td>\n",
       "      <td>Jon Vitti</td>\n",
       "      <td>January 14, 1990</td>\n",
       "      <td>7G02</td>\n",
       "      <td>24.5  [46]</td>\n",
       "    </tr>\n",
       "    <tr>\n",
       "      <th>2</th>\n",
       "      <td>3</td>\n",
       "      <td>3</td>\n",
       "      <td>\"  Homer's Odyssey  \"</td>\n",
       "      <td>Wes Archer</td>\n",
       "      <td>Jay Kogen  &amp;  Wallace Wolodarsky</td>\n",
       "      <td>January 21, 1990</td>\n",
       "      <td>7G03</td>\n",
       "      <td>27.5  [47]</td>\n",
       "    </tr>\n",
       "    <tr>\n",
       "      <th>3</th>\n",
       "      <td>4</td>\n",
       "      <td>4</td>\n",
       "      <td>\"  There's No Disgrace Like Home  \"</td>\n",
       "      <td>Gregg Vanzo  &amp; Kent Butterworth</td>\n",
       "      <td>Al Jean  &amp;  Mike Reiss</td>\n",
       "      <td>January 28, 1990</td>\n",
       "      <td>7G04</td>\n",
       "      <td>20.2  [48]</td>\n",
       "    </tr>\n",
       "    <tr>\n",
       "      <th>4</th>\n",
       "      <td>5</td>\n",
       "      <td>5</td>\n",
       "      <td>\"  Bart the General  \"</td>\n",
       "      <td>David Silverman</td>\n",
       "      <td>John Swartzwelder</td>\n",
       "      <td>February 4, 1990</td>\n",
       "      <td>7G05</td>\n",
       "      <td>27.1  [49]</td>\n",
       "    </tr>\n",
       "  </tbody>\n",
       "</table>\n",
       "</div>"
      ],
      "text/plain": [
       "   No.  overall  No.  in  season                                    Title  \\\n",
       "0             1                1  \"  Simpsons Roasting on an Open Fire  \"   \n",
       "1             2                2                    \"  Bart the Genius  \"   \n",
       "2             3                3                    \"  Homer's Odyssey  \"   \n",
       "3             4                4      \"  There's No Disgrace Like Home  \"   \n",
       "4             5                5                   \"  Bart the General  \"   \n",
       "\n",
       "                       Directed by                        Written by  \\\n",
       "0                  David Silverman                         Mimi Pond   \n",
       "1                  David Silverman                         Jon Vitti   \n",
       "2                       Wes Archer  Jay Kogen  &  Wallace Wolodarsky   \n",
       "3  Gregg Vanzo  & Kent Butterworth            Al Jean  &  Mike Reiss   \n",
       "4                  David Silverman                 John Swartzwelder   \n",
       "\n",
       "   Original air date Prod.  code U.S. viewers  (millions)  \n",
       "0  December 17, 1989        7G08               26.7  [46]  \n",
       "1   January 14, 1990        7G02               24.5  [46]  \n",
       "2   January 21, 1990        7G03               27.5  [47]  \n",
       "3   January 28, 1990        7G04               20.2  [48]  \n",
       "4   February 4, 1990        7G05               27.1  [49]  "
      ]
     },
     "execution_count": 171,
     "metadata": {},
     "output_type": "execute_result"
    }
   ],
   "source": [
    "#heading variable\n",
    "heading = \"Season 1 (1989–90)\"\n",
    "\n",
    "# finding all table soup objects on url\n",
    "tables_soup_list = soup.find_all(name='table')\n",
    "\n",
    "table_df = None\n",
    "# iterating through table headings\n",
    "for table_soup in tables_soup_list:\n",
    "    #find preceeding headline if possible\n",
    "    try:\n",
    "        #find preceeding heading -> try to find heading string\n",
    "        #re.escape() escapes metacharacters in the string\n",
    "        heading_ = table_soup \\\n",
    "            .find_previous_sibling(name=re.compile(\"h\\d+\")) \\\n",
    "            .find(string=re.compile(re.escape(heading)))  \n",
    "        \n",
    "    except AttributeError: #skip Nonetype results\n",
    "        continue\n",
    "    \n",
    "    #if match is found convert html code into DF\n",
    "    if heading_ == heading:\n",
    "        table_df = pd.read_html(io=table_soup.prettify())[0]\n",
    "        break\n",
    "\n",
    "table_df.head()"
   ]
  },
  {
   "cell_type": "markdown",
   "id": "4325da0c",
   "metadata": {},
   "source": []
  },
  {
   "cell_type": "markdown",
   "id": "5f2a48f8",
   "metadata": {},
   "source": [
    "# FILES\n",
    "Automate saving multiple files from web."
   ]
  },
  {
   "cell_type": "markdown",
   "id": "e266e619",
   "metadata": {},
   "source": [
    "# TEXT\n",
    "\n",
    "## Selenium 4.x\n",
    "[Webpage](https://github.com/SergeyPirogov/webdriver_manager) to install browser drivers."
   ]
  },
  {
   "cell_type": "markdown",
   "id": "7cd9bdee",
   "metadata": {},
   "source": [
    "### Opening the Browser"
   ]
  },
  {
   "cell_type": "code",
   "execution_count": 14,
   "id": "0cb61167",
   "metadata": {},
   "outputs": [
    {
     "name": "stderr",
     "output_type": "stream",
     "text": [
      "[WDM] - Downloading: 16.2kB [00:00, 6.42MB/s]                   \n"
     ]
    }
   ],
   "source": [
    "from selenium import webdriver\n",
    "from selenium.webdriver.firefox.service import Service as FirefoxService\n",
    "from webdriver_manager.firefox import GeckoDriverManager\n",
    "\n",
    "#installing drivers for Firefox\n",
    "driver = webdriver.Firefox(service=FirefoxService(GeckoDriverManager().install()))"
   ]
  },
  {
   "cell_type": "code",
   "execution_count": 18,
   "id": "fa8c9f76",
   "metadata": {},
   "outputs": [
    {
     "name": "stdout",
     "output_type": "stream",
     "text": [
      "BOOT OR BUST\n",
      "Southgate admits he will be given the boot if England flop at World Cup\n",
      "https://www.thesun.co.uk/sport/19917002/england-germany-gareth-southgate-world-cup-2022/\n",
      "\n",
      "CUP FLOG FEAR\n",
      "Female football fans risk jail or flogging at World Cup if raped in Qatar\n",
      "https://www.thesun.co.uk/sport/19916698/female-football-fans-jail-world-cup-qatar-rape/\n",
      "\n",
      "'THE PUSH'\n",
      "Gareth Southgate casts more doubt on Ivan Toney making England's World Cup squad\n",
      "https://www.thesun.co.uk/sport/19916726/england-world-cup-squad-ivan-toney/\n",
      "\n",
      "ROAR-HEEM\n",
      "Sterling vows to lift wounded Three Lions as Southgate under increasing pressure\n",
      "https://www.thesun.co.uk/sport/19917138/raheem-sterling-england-germany-southgate-world-cup/\n",
      "\n",
      "UP NEXT\n",
      "England could face Kazakhstan, Montenegro and Albania after Nations League drop\n",
      "https://www.thesun.co.uk/sport/19914624/relegated-england-possible-nations-league-opponents/\n",
      "\n"
     ]
    }
   ],
   "source": [
    "#go to webpage\n",
    "url = \"https://www.thesun.co.uk/sport/football/\"\n",
    "driver.get(url)\n",
    "\n",
    "#find all football news containers\n",
    "containers = driver.find_elements(\n",
    "    by='xpath', \n",
    "    value='//div[@class=\"teaser__copy-container\"]'\n",
    "    )\n",
    "#find title, subtitles and hyperlink texts\n",
    "for i,container in enumerate(containers):\n",
    "    \n",
    "    if i == 5: break\n",
    "    \n",
    "    title = container.find_element(by='xpath', value='./a/h2').text\n",
    "    sub_title = container.find_element(by='xpath', value='./a/p').text\n",
    "    href = container.find_element(by='xpath', value='./a').get_attribute(\"href\")\n",
    "    \n",
    "    print(f\"{title}\\n{sub_title}\\n{href}\\n\")"
   ]
  },
  {
   "cell_type": "markdown",
   "id": "95189475",
   "metadata": {},
   "source": [
    "### Headless Mode"
   ]
  },
  {
   "cell_type": "code",
   "execution_count": 19,
   "id": "47cdd379",
   "metadata": {},
   "outputs": [],
   "source": [
    "from selenium import webdriver\n",
    "from selenium.webdriver.firefox.options import Options #for headless mode\n",
    "from selenium.webdriver.firefox.service import Service as FirefoxService\n",
    "from webdriver_manager.firefox import GeckoDriverManager"
   ]
  },
  {
   "cell_type": "code",
   "execution_count": 20,
   "id": "5f671434",
   "metadata": {},
   "outputs": [
    {
     "name": "stderr",
     "output_type": "stream",
     "text": [
      "[WDM] - Downloading: 16.2kB [00:00, 4.64MB/s]                   \n"
     ]
    },
    {
     "name": "stdout",
     "output_type": "stream",
     "text": [
      "Headless script:\n",
      "BOOT OR BUST\n",
      "Southgate admits he will be given the boot if England flop at World Cup\n",
      "https://www.thesun.co.uk/sport/19917002/england-germany-gareth-southgate-world-cup-2022/\n",
      "\n",
      "CUP FLOG FEAR\n",
      "Female football fans risk jail or flogging at World Cup if raped in Qatar\n",
      "https://www.thesun.co.uk/sport/19916698/female-football-fans-jail-world-cup-qatar-rape/\n",
      "\n",
      "LOWERING THE TONE\n",
      "Southgate casts more doubt on Ivan Toney making England's World Cup squad\n",
      "https://www.thesun.co.uk/sport/19916726/england-world-cup-squad-ivan-toney/\n",
      "\n",
      "ROAR-HEEM\n",
      "Sterling vows to lift wounded Three Lions as Southgate under increasing pressure\n",
      "https://www.thesun.co.uk/sport/19917138/raheem-sterling-england-germany-southgate-world-cup/\n",
      "\n",
      "UP NEXT\n",
      "England could face Kazakhstan, Montenegro and Albania after Nations League drop\n",
      "https://www.thesun.co.uk/sport/19914624/relegated-england-possible-nations-league-opponents/\n",
      "\n"
     ]
    }
   ],
   "source": [
    "options = Options()\n",
    "options.headless = True #headless mode parameter\n",
    "\n",
    "driver = webdriver.Firefox(\n",
    "    service=FirefoxService(GeckoDriverManager().install()), \n",
    "    options=options)\n",
    "\n",
    "driver.get(url)\n",
    "\n",
    "#find all football news containers\n",
    "containers = driver.find_elements(\n",
    "    by='xpath', \n",
    "    value='//div[@class=\"teaser__copy-container\"]'\n",
    "    )\n",
    "\n",
    "print(f\"Headless script:\")\n",
    "\n",
    "#find title, subtitles and hyperlink texts\n",
    "for i,container in enumerate(containers):\n",
    "    \n",
    "    if i == 5: break\n",
    "    \n",
    "    title = container.find_element(by='xpath', value='./a/h2').text\n",
    "    sub_title = container.find_element(by='xpath', value='./a/p').text\n",
    "    href = container.find_element(by='xpath', value='./a').get_attribute(\"href\")\n",
    "    \n",
    "    print(f\"{title}\\n{sub_title}\\n{href}\\n\")"
   ]
  },
  {
   "cell_type": "code",
   "execution_count": null,
   "id": "3e3f52b1",
   "metadata": {},
   "outputs": [],
   "source": []
  }
 ],
 "metadata": {
  "kernelspec": {
   "display_name": "Python 3 (ipykernel)",
   "language": "python",
   "name": "python3"
  },
  "language_info": {
   "codemirror_mode": {
    "name": "ipython",
    "version": 3
   },
   "file_extension": ".py",
   "mimetype": "text/x-python",
   "name": "python",
   "nbconvert_exporter": "python",
   "pygments_lexer": "ipython3",
   "version": "3.9.13"
  },
  "latex_envs": {
   "LaTeX_envs_menu_present": true,
   "autoclose": false,
   "autocomplete": true,
   "bibliofile": "biblio.bib",
   "cite_by": "apalike",
   "current_citInitial": 1,
   "eqLabelWithNumbers": true,
   "eqNumInitial": 1,
   "hotkeys": {
    "equation": "Ctrl-E",
    "itemize": "Ctrl-I"
   },
   "labels_anchors": false,
   "latex_user_defs": false,
   "report_style_numbering": false,
   "user_envs_cfg": false
  },
  "toc": {
   "base_numbering": 1,
   "nav_menu": {},
   "number_sections": true,
   "sideBar": true,
   "skip_h1_title": false,
   "title_cell": "Table of Contents",
   "title_sidebar": "Contents",
   "toc_cell": false,
   "toc_position": {
    "height": "499.167px",
    "left": "81px",
    "top": "87.6667px",
    "width": "165px"
   },
   "toc_section_display": true,
   "toc_window_display": true
  },
  "varInspector": {
   "cols": {
    "lenName": 16,
    "lenType": 16,
    "lenVar": 40
   },
   "kernels_config": {
    "python": {
     "delete_cmd_postfix": "",
     "delete_cmd_prefix": "del ",
     "library": "var_list.py",
     "varRefreshCmd": "print(var_dic_list())"
    },
    "r": {
     "delete_cmd_postfix": ") ",
     "delete_cmd_prefix": "rm(",
     "library": "var_list.r",
     "varRefreshCmd": "cat(var_dic_list()) "
    }
   },
   "types_to_exclude": [
    "module",
    "function",
    "builtin_function_or_method",
    "instance",
    "_Feature"
   ],
   "window_display": false
  }
 },
 "nbformat": 4,
 "nbformat_minor": 5
}
