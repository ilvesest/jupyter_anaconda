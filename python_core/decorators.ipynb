{
 "cells": [
  {
   "cell_type": "markdown",
   "metadata": {},
   "source": [
    "# Decorators"
   ]
  },
  {
   "cell_type": "code",
   "execution_count": 1,
   "metadata": {},
   "outputs": [],
   "source": [
    "# define adding function\n",
    "def add(x, y=10):\n",
    "    return x + y"
   ]
  },
  {
   "cell_type": "code",
   "execution_count": 7,
   "metadata": {},
   "outputs": [
    {
     "name": "stdout",
     "output_type": "stream",
     "text": [
      "add(10) 20\n",
      "add(a, b) ab\n",
      "add(12) 22\n"
     ]
    }
   ],
   "source": [
    "print('add(10)', add(10))\n",
    "print('add(a, b)', add('a', y=\"b\"))\n",
    "print('add(12)', add(12))"
   ]
  },
  {
   "cell_type": "markdown",
   "metadata": {},
   "source": [
    "**What if we'd like to time our function 'add':**"
   ]
  },
  {
   "cell_type": "code",
   "execution_count": 8,
   "metadata": {},
   "outputs": [
    {
     "name": "stdout",
     "output_type": "stream",
     "text": [
      "add(10) 20\n",
      "elapsed time:  0.0012617111206054688\n",
      "add(a, b) ab\n",
      "elapsed time:  0.0005254745483398438\n",
      "add(12) 22\n",
      "elapsed time:  0.0005505084991455078\n"
     ]
    }
   ],
   "source": [
    "from time import time\n",
    "\n",
    "# we could do very messy thing:\n",
    "b4 = time()\n",
    "print('add(10)', add(10))\n",
    "aft = time()\n",
    "print('elapsed time: ', aft - b4)\n",
    "\n",
    "b4 = time()\n",
    "print('add(a, b)', add('a', y=\"b\"))\n",
    "aft = time()\n",
    "print('elapsed time: ', aft - b4)\n",
    "\n",
    "b4 = time()\n",
    "print('add(12)', add(12))\n",
    "aft = time()\n",
    "print('elapsed time: ', aft - b4)"
   ]
  },
  {
   "cell_type": "markdown",
   "metadata": {},
   "source": [
    "**This is messy and ugly. We could try to build a timing function:**"
   ]
  },
  {
   "cell_type": "code",
   "execution_count": 9,
   "metadata": {},
   "outputs": [],
   "source": [
    "# building timer function\n",
    "def timer(func, *args, **kwargs):\n",
    "    b4 = time()\n",
    "    rv = func(*args, **kwargs) # rv : return value\n",
    "    aft = time()\n",
    "    print('elapsed time: ', aft - b4)\n",
    "    return rv"
   ]
  },
  {
   "cell_type": "code",
   "execution_count": 14,
   "metadata": {},
   "outputs": [
    {
     "name": "stdout",
     "output_type": "stream",
     "text": [
      "elapsed time:  1.9073486328125e-06\n",
      "add(10) 20\n",
      "elapsed time:  2.384185791015625e-06\n",
      "add(a, b) ab\n",
      "elapsed time:  1.1920928955078125e-06\n",
      "add(12) 22\n"
     ]
    }
   ],
   "source": [
    "print('add(10)', timer(add, 10))\n",
    "print('add(a, b)', timer(add, x='a', y=\"b\"))\n",
    "print('add(12)', timer(add, 12))"
   ]
  },
  {
   "cell_type": "markdown",
   "metadata": {},
   "source": [
    "**Let's try the wrapper method:**"
   ]
  },
  {
   "cell_type": "code",
   "execution_count": 19,
   "metadata": {},
   "outputs": [],
   "source": [
    "def timer(func):\n",
    "    def wrapper(*a, **kw):\n",
    "        b4 = time()\n",
    "        rv = func(*a, **kw) # rv : return value\n",
    "        aft = time()\n",
    "        print('elapsed time:', aft - b4, 's')\n",
    "        return rv\n",
    "    return wrapper"
   ]
  },
  {
   "cell_type": "code",
   "execution_count": 22,
   "metadata": {},
   "outputs": [
    {
     "name": "stdout",
     "output_type": "stream",
     "text": [
      "elapsed time: 9.5367431640625e-07\n",
      "add(10) 20\n",
      "elapsed time: 1.430511474609375e-06\n",
      "add(a, b) ab\n",
      "elapsed time: 4.76837158203125e-07\n",
      "add(12) 22\n"
     ]
    }
   ],
   "source": [
    "def add(x, y=10):\n",
    "    return x + y\n",
    "\n",
    "add = timer(add) # this is the decorator in Python\n",
    "\n",
    "print('add(10)', add(10))\n",
    "print('add(a, b)', add(x='a', y=\"b\"))\n",
    "print('add(12)', add(12))\n",
    "\n"
   ]
  },
  {
   "cell_type": "code",
   "execution_count": 23,
   "metadata": {},
   "outputs": [
    {
     "name": "stdout",
     "output_type": "stream",
     "text": [
      "elapsed time: 9.5367431640625e-07\n"
     ]
    },
    {
     "data": {
      "text/plain": [
       "9"
      ]
     },
     "execution_count": 23,
     "metadata": {},
     "output_type": "execute_result"
    }
   ],
   "source": [
    "@timer\n",
    "def sub(x, y=1):\n",
    "    return x - y\n",
    "\n",
    "sub(10)"
   ]
  },
  {
   "cell_type": "code",
   "execution_count": 24,
   "metadata": {},
   "outputs": [],
   "source": [
    "def ntimes(n):\n",
    "    def inner(func):\n",
    "        def wrapper(*a, **kw):\n",
    "            for _ in range(n):\n",
    "                print('running {.__name__}'.format(func))\n",
    "                rv = func(*a, **kw)\n",
    "            return rv\n",
    "        return wrapper\n",
    "    return inner"
   ]
  },
  {
   "cell_type": "code",
   "execution_count": 27,
   "metadata": {},
   "outputs": [
    {
     "name": "stdout",
     "output_type": "stream",
     "text": [
      "running wrapper\n",
      "yea\n",
      "elapsed time: 0.00021648406982421875\n",
      "running wrapper\n",
      "yea\n",
      "elapsed time: 0.0001983642578125\n",
      "running wrapper\n",
      "yea\n",
      "elapsed time: 0.0001938343048095703\n",
      "running wrapper\n",
      "yea\n",
      "elapsed time: 0.0001976490020751953\n"
     ]
    },
    {
     "data": {
      "text/plain": [
       "9"
      ]
     },
     "execution_count": 27,
     "metadata": {},
     "output_type": "execute_result"
    }
   ],
   "source": [
    "@ntimes(4)\n",
    "@timer\n",
    "def subb(x, y=1):\n",
    "    print('yea')\n",
    "    return x - y\n",
    "\n",
    "subb(10)"
   ]
  },
  {
   "cell_type": "code",
   "execution_count": null,
   "metadata": {},
   "outputs": [],
   "source": []
  }
 ],
 "metadata": {
  "kernelspec": {
   "display_name": "Python 3",
   "language": "python",
   "name": "python3"
  },
  "language_info": {
   "codemirror_mode": {
    "name": "ipython",
    "version": 3
   },
   "file_extension": ".py",
   "mimetype": "text/x-python",
   "name": "python",
   "nbconvert_exporter": "python",
   "pygments_lexer": "ipython3",
   "version": "3.7.3"
  },
  "latex_envs": {
   "LaTeX_envs_menu_present": true,
   "autoclose": true,
   "autocomplete": true,
   "bibliofile": "biblio.bib",
   "cite_by": "apalike",
   "current_citInitial": 1,
   "eqLabelWithNumbers": true,
   "eqNumInitial": 1,
   "hotkeys": {
    "equation": "Ctrl-E",
    "itemize": "Ctrl-I"
   },
   "labels_anchors": false,
   "latex_user_defs": false,
   "report_style_numbering": false,
   "user_envs_cfg": false
  },
  "toc": {
   "base_numbering": 1,
   "nav_menu": {},
   "number_sections": true,
   "sideBar": true,
   "skip_h1_title": false,
   "title_cell": "Table of Contents",
   "title_sidebar": "Contents",
   "toc_cell": false,
   "toc_position": {},
   "toc_section_display": true,
   "toc_window_display": false
  }
 },
 "nbformat": 4,
 "nbformat_minor": 2
}
