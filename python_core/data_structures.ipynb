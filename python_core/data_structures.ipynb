{
 "cells": [
  {
   "cell_type": "markdown",
   "id": "75cb6249",
   "metadata": {},
   "source": [
    "<center>\n",
    "    <u>\n",
    "        <font size=30>Data Structures</font>\n",
    "    </u>\n",
    "</center><br><br>"
   ]
  },
  {
   "cell_type": "markdown",
   "id": "9fdb2da8",
   "metadata": {},
   "source": [
    "# Queue\n",
    "* Linear data structure that stores items in First In First Out (FIFO) manner.  With a queue the least recently added item is removed first."
   ]
  },
  {
   "cell_type": "markdown",
   "id": "708992d0",
   "metadata": {},
   "source": [
    "## List   $O(n)$"
   ]
  },
  {
   "cell_type": "code",
   "execution_count": 6,
   "id": "94b6dbc6",
   "metadata": {},
   "outputs": [
    {
     "name": "stdout",
     "output_type": "stream",
     "text": [
      "Element 'a' dequeued.\n",
      "Element 'b' dequeued.\n",
      "Element 'c' dequeued.\n"
     ]
    }
   ],
   "source": [
    "# init empty list\n",
    "list_q = []\n",
    "\n",
    "# adding elements to the queue\n",
    "list_q.append('a')\n",
    "list_q.append('b')\n",
    "list_q.append('c')\n",
    "\n",
    "#removing elements fromt the queue\n",
    "for _ in range(len(list_q)):\n",
    "    print(f\"Element '{list_q.pop(0)}' dequeued.\")"
   ]
  },
  {
   "cell_type": "code",
   "execution_count": 7,
   "id": "450fecbb",
   "metadata": {},
   "outputs": [
    {
     "name": "stdout",
     "output_type": "stream",
     "text": [
      "Queue list_q = [] after removing elements\n"
     ]
    }
   ],
   "source": [
    "print(f\"Queue {list_q = } after removing elements\")"
   ]
  },
  {
   "cell_type": "markdown",
   "id": "25d58894",
   "metadata": {},
   "source": [
    "## collections    $O(1)$"
   ]
  },
  {
   "cell_type": "code",
   "execution_count": 16,
   "id": "96a24af3",
   "metadata": {},
   "outputs": [
    {
     "name": "stdout",
     "output_type": "stream",
     "text": [
      "deque(['a', 'b', 'c'])\n",
      "Element a dequed from left : deque(['b', 'c'])\n",
      "Element b dequed from left : deque(['c'])\n",
      "Element c dequed from left : deque([])\n",
      "Queue is empty.\n"
     ]
    }
   ],
   "source": [
    "from collections import deque\n",
    "\n",
    "# init queue\n",
    "collections_q = deque()\n",
    "\n",
    "# adding elements\n",
    "collections_q.append('a')\n",
    "collections_q.append('b')\n",
    "collections_q.append('c')\n",
    "\n",
    "# removing elements\n",
    "print(f\"{collections_q}\")\n",
    "while True:\n",
    "    try:\n",
    "        print(f\"Element {collections_q.popleft()} dequed from left : {collections_q}\")\n",
    "    except IndexError:\n",
    "        print('Queue is empty.')\n",
    "        break"
   ]
  },
  {
   "cell_type": "markdown",
   "id": "4e54b509",
   "metadata": {},
   "source": [
    "## queue"
   ]
  },
  {
   "cell_type": "code",
   "execution_count": 37,
   "id": "21f0f6f9",
   "metadata": {},
   "outputs": [
    {
     "name": "stdout",
     "output_type": "stream",
     "text": [
      "deque(['a', 'b', 'c'])\n",
      "Element a dequed from left : deque(['b', 'c'])\n",
      "Element b dequed from left : deque(['c'])\n",
      "Element c dequed from left : deque([])\n",
      "Queue is empty.\n"
     ]
    }
   ],
   "source": [
    "from queue import Queue\n",
    "import queue\n",
    "\n",
    "# init queue\n",
    "queue_q = Queue(maxsize=3)\n",
    "\n",
    "# adding elements to the queue\n",
    "queue_q.put('a')\n",
    "queue_q.put('b')\n",
    "queue_q.put('c')\n",
    "\n",
    "# remove elements from queue\n",
    "print(f\"{queue_q.queue}\")\n",
    "while True:\n",
    "    try:\n",
    "        print(f\"Element {queue_q.get_nowait()} dequed from left : {queue_q.queue}\")\n",
    "    except queue.Empty:\n",
    "        print(f'Queue is empty.')\n",
    "        break"
   ]
  },
  {
   "cell_type": "code",
   "execution_count": 133,
   "id": "b6cadf59",
   "metadata": {},
   "outputs": [
    {
     "data": {
      "text/plain": [
       "'Not present!'"
      ]
     },
     "execution_count": 133,
     "metadata": {},
     "output_type": "execute_result"
    }
   ],
   "source": [
    "class Game(LogicGame): pass"
   ]
  },
  {
   "cell_type": "code",
   "execution_count": 140,
   "id": "64e3a0ae",
   "metadata": {},
   "outputs": [
    {
     "data": {
      "text/plain": [
       "[('apples', 5, 1.5), ('oranges', 3, 2.25), ('bananas', 4, 0.89)]"
      ]
     },
     "execution_count": 140,
     "metadata": {},
     "output_type": "execute_result"
    }
   ],
   "source": [
    "def print_alpha_nums(abc_list, num_list):\n",
    "    for char in abc_list:\n",
    "        for num in num_list:\n",
    "        print(char, num)"
   ]
  },
  {
   "cell_type": "code",
   "execution_count": 141,
   "id": "426c02bd",
   "metadata": {},
   "outputs": [
    {
     "data": {
      "text/plain": [
       "set"
      ]
     },
     "execution_count": 141,
     "metadata": {},
     "output_type": "execute_result"
    }
   ],
   "source": [
    "def init(self): pass"
   ]
  },
  {
   "cell_type": "code",
   "execution_count": 143,
   "id": "fb62d506",
   "metadata": {},
   "outputs": [
    {
     "data": {
      "text/plain": [
       "1"
      ]
     },
     "execution_count": 143,
     "metadata": {},
     "output_type": "execute_result"
    }
   ],
   "source": [
    "a = [1,2,4]\n",
    "len(a) // 2"
   ]
  },
  {
   "cell_type": "code",
   "execution_count": null,
   "id": "105ba75d",
   "metadata": {},
   "outputs": [],
   "source": []
  }
 ],
 "metadata": {
  "kernelspec": {
   "display_name": "Python 3 (ipykernel)",
   "language": "python",
   "name": "python3"
  },
  "language_info": {
   "codemirror_mode": {
    "name": "ipython",
    "version": 3
   },
   "file_extension": ".py",
   "mimetype": "text/x-python",
   "name": "python",
   "nbconvert_exporter": "python",
   "pygments_lexer": "ipython3",
   "version": "3.9.7"
  },
  "latex_envs": {
   "LaTeX_envs_menu_present": true,
   "autoclose": false,
   "autocomplete": true,
   "bibliofile": "biblio.bib",
   "cite_by": "apalike",
   "current_citInitial": 1,
   "eqLabelWithNumbers": true,
   "eqNumInitial": 1,
   "hotkeys": {
    "equation": "Ctrl-E",
    "itemize": "Ctrl-I"
   },
   "labels_anchors": false,
   "latex_user_defs": false,
   "report_style_numbering": false,
   "user_envs_cfg": false
  },
  "toc": {
   "base_numbering": 1,
   "nav_menu": {},
   "number_sections": true,
   "sideBar": true,
   "skip_h1_title": false,
   "title_cell": "Table of Contents",
   "title_sidebar": "Contents",
   "toc_cell": false,
   "toc_position": {},
   "toc_section_display": true,
   "toc_window_display": false
  },
  "varInspector": {
   "cols": {
    "lenName": 16,
    "lenType": 16,
    "lenVar": 40
   },
   "kernels_config": {
    "python": {
     "delete_cmd_postfix": "",
     "delete_cmd_prefix": "del ",
     "library": "var_list.py",
     "varRefreshCmd": "print(var_dic_list())"
    },
    "r": {
     "delete_cmd_postfix": ") ",
     "delete_cmd_prefix": "rm(",
     "library": "var_list.r",
     "varRefreshCmd": "cat(var_dic_list()) "
    }
   },
   "types_to_exclude": [
    "module",
    "function",
    "builtin_function_or_method",
    "instance",
    "_Feature"
   ],
   "window_display": false
  }
 },
 "nbformat": 4,
 "nbformat_minor": 5
}
