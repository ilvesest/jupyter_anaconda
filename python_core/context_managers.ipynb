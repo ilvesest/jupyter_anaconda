{
 "cells": [
  {
   "cell_type": "markdown",
   "metadata": {},
   "source": [
    "## Context manager"
   ]
  },
  {
   "cell_type": "markdown",
   "metadata": {},
   "source": [
    "The most basic **conect manager**:"
   ]
  },
  {
   "cell_type": "code",
   "execution_count": 13,
   "metadata": {},
   "outputs": [],
   "source": [
    "with open('context_managers.ipynb') as f:\n",
    "    pass"
   ]
  },
  {
   "cell_type": "markdown",
   "metadata": {},
   "source": [
    "### How to write our own context manager"
   ]
  },
  {
   "cell_type": "code",
   "execution_count": 29,
   "metadata": {},
   "outputs": [],
   "source": [
    "# simple contect manager:\n",
    "\n",
    "# with ctx() as x:\n",
    "#     pass\n",
    "\n",
    "# under the hood this CM would look like this:\n",
    "\n",
    "# x = ctx().__enter__()\n",
    "# try:\n",
    "#     pass\n",
    "# finally:\n",
    "#     x.__exit__()"
   ]
  },
  {
   "cell_type": "code",
   "execution_count": 32,
   "metadata": {},
   "outputs": [
    {
     "name": "stdout",
     "output_type": "stream",
     "text": [
      "(3, 3)\n",
      "(2, 2)\n"
     ]
    }
   ],
   "source": [
    "from sqlite3 import connect\n",
    "\n",
    "with connect('test_db') as conn:\n",
    "    cur = conn.cursor()\n",
    "    cur.execute('create table points(x int, y int)')\n",
    "    cur.execute('insert into points (x, y) values(3, 3)')\n",
    "    cur.execute('insert into points (x, y) values(2, 2)')\n",
    "    \n",
    "    for row in cur.execute('select x, y from points'):\n",
    "        print(row)\n",
    "    cur.execute('drop table points')"
   ]
  },
  {
   "cell_type": "code",
   "execution_count": 42,
   "metadata": {},
   "outputs": [],
   "source": [
    "# creating a context manager\n",
    "class Temptable:\n",
    "    def __init__(self, cur):\n",
    "        self.cur = cur\n",
    "        \n",
    "    def __enter__(self):\n",
    "        print('__enter__')\n",
    "        cur.execute('create table points(x int, y int)')\n",
    "        \n",
    "    def __exit__(self, *args):\n",
    "        self.cur.execute('drop table points')\n",
    "        print('__exit__')"
   ]
  },
  {
   "cell_type": "code",
   "execution_count": 43,
   "metadata": {},
   "outputs": [
    {
     "name": "stdout",
     "output_type": "stream",
     "text": [
      "__enter__\n",
      "(3, 3)\n",
      "(2, 2)\n",
      "__exit__\n"
     ]
    }
   ],
   "source": [
    "with connect('test_db') as conn:\n",
    "    cur = conn.cursor()\n",
    "    with Temptable(cur):\n",
    "        cur.execute('insert into points (x, y) values(3, 3)')\n",
    "        cur.execute('insert into points (x, y) values(2, 2)')\n",
    "\n",
    "        for row in cur.execute('select x, y from points'):\n",
    "            print(row)"
   ]
  },
  {
   "cell_type": "markdown",
   "metadata": {},
   "source": [
    "### Should __exit__ be called before __enter__?  -- Nope, thus we need generator for sequencing"
   ]
  },
  {
   "cell_type": "code",
   "execution_count": 45,
   "metadata": {},
   "outputs": [
    {
     "name": "stdout",
     "output_type": "stream",
     "text": [
      "table created\n",
      "(3, 3)\n",
      "(2, 2)\n",
      "table removed\n"
     ]
    }
   ],
   "source": [
    "# create generator\n",
    "def temptable2(cur):\n",
    "    cur.execute('create table points(x int, y int)')\n",
    "    print('table created')\n",
    "    \n",
    "    yield\n",
    "    \n",
    "    cur.execute('drop table points')\n",
    "    print('table removed')\n",
    "\n",
    "# create context manager\n",
    "class Contextmanager:\n",
    "    def __init__(self, cur):\n",
    "        self.cur = cur\n",
    "    def __enter__(self):\n",
    "        self.gen = temptable2(self.cur)\n",
    "        next(self.gen)\n",
    "    def __exit__(self, *args):\n",
    "        next(self.gen, None)\n",
    "\n",
    "#using nested context managers\n",
    "with connect('test_db') as conn:\n",
    "    cur = conn.cursor()\n",
    "    with Contextmanager(cur):\n",
    "        cur.execute('insert into points (x, y) values(3, 3)')\n",
    "        cur.execute('insert into points (x, y) values(2, 2)')\n",
    "\n",
    "        for row in cur.execute('select x, y from points'):\n",
    "            print(row)"
   ]
  },
  {
   "cell_type": "markdown",
   "metadata": {},
   "source": [
    "### We could generalize it"
   ]
  },
  {
   "cell_type": "code",
   "execution_count": 51,
   "metadata": {},
   "outputs": [
    {
     "name": "stdout",
     "output_type": "stream",
     "text": [
      "table created\n",
      "(3, 3)\n",
      "(2, 2)\n",
      "table removed\n"
     ]
    }
   ],
   "source": [
    "# create generator\n",
    "def temptable2(cur):\n",
    "    cur.execute('create table points(x int, y int)')\n",
    "    print('table created')\n",
    "    \n",
    "    yield\n",
    "    \n",
    "    cur.execute('drop table points')\n",
    "    print('table removed')\n",
    "\n",
    "# create context manager\n",
    "class Contextmanager:\n",
    "    def __init__(self, gen):\n",
    "        self.gen = gen\n",
    "    def __call__(self, *a, **kw):\n",
    "        self.a, self.kw = a, kw\n",
    "        return self\n",
    "    def __enter__(self):\n",
    "        self.gen.instance = self.gen(*self.a, *self.kw)\n",
    "        next(self.gen.instance)\n",
    "    def __exit__(self, *args):\n",
    "        next(self.gen.instance, None)\n",
    "\n",
    "#using nested context managers\n",
    "with connect('test_db') as conn:\n",
    "    cur = conn.cursor()\n",
    "    with Contextmanager(temptable2)(cur): # this line is ugly\n",
    "        cur.execute('insert into points (x, y) values(3, 3)')\n",
    "        cur.execute('insert into points (x, y) values(2, 2)')\n",
    "\n",
    "        for row in cur.execute('select x, y from points'):\n",
    "            print(row)"
   ]
  },
  {
   "cell_type": "markdown",
   "metadata": {},
   "source": [
    "What we could do:"
   ]
  },
  {
   "cell_type": "code",
   "execution_count": 53,
   "metadata": {},
   "outputs": [
    {
     "name": "stdout",
     "output_type": "stream",
     "text": [
      "table created\n",
      "(3, 3)\n",
      "(2, 2)\n",
      "table removed\n"
     ]
    }
   ],
   "source": [
    "# create context manager\n",
    "class Contextmanager:\n",
    "    def __init__(self, gen):\n",
    "        self.gen = gen\n",
    "    def __call__(self, *a, **kw):\n",
    "        self.a, self.kw = a, kw\n",
    "        return self\n",
    "    def __enter__(self):\n",
    "        self.gen.instance = self.gen(*self.a, *self.kw)\n",
    "        next(self.gen.instance)\n",
    "    def __exit__(self, *args):\n",
    "        next(self.gen.instance, None)\n",
    "\n",
    "# create generator\n",
    "def temptable2(cur):\n",
    "    cur.execute('create table points(x int, y int)')\n",
    "    print('table created')\n",
    "    yield\n",
    "    cur.execute('drop table points')\n",
    "    print('table removed')\n",
    "\n",
    "# this is actually a decorator\n",
    "temptable2 = Contextmanager(temptable2) # added this\n",
    "\n",
    "#using nested context managers\n",
    "with connect('test_db') as conn:\n",
    "    cur = conn.cursor()\n",
    "    with temptable2(cur): # removed \"contextmanager\"\n",
    "        cur.execute('insert into points (x, y) values(3, 3)')\n",
    "        cur.execute('insert into points (x, y) values(2, 2)')\n",
    "\n",
    "        for row in cur.execute('select x, y from points'):\n",
    "            print(row)"
   ]
  },
  {
   "cell_type": "markdown",
   "metadata": {},
   "source": [
    "**So we could write it as a decorator**"
   ]
  },
  {
   "cell_type": "code",
   "execution_count": 54,
   "metadata": {},
   "outputs": [
    {
     "name": "stdout",
     "output_type": "stream",
     "text": [
      "table created\n",
      "(3, 3)\n",
      "(2, 2)\n",
      "table removed\n"
     ]
    }
   ],
   "source": [
    "# create context manager\n",
    "class Contextmanager:\n",
    "    def __init__(self, gen):\n",
    "        self.gen = gen\n",
    "    def __call__(self, *a, **kw):\n",
    "        self.a, self.kw = a, kw\n",
    "        return self\n",
    "    def __enter__(self):\n",
    "        self.gen.instance = self.gen(*self.a, *self.kw)\n",
    "        next(self.gen.instance)\n",
    "    def __exit__(self, *args):\n",
    "        next(self.gen.instance, None)\n",
    "\n",
    "# create generator\n",
    "@Contextmanager\n",
    "def temptable2(cur):\n",
    "    cur.execute('create table points(x int, y int)')\n",
    "    print('table created')\n",
    "    yield\n",
    "    cur.execute('drop table points')\n",
    "    print('table removed')\n",
    "\n",
    "#using nested context managers\n",
    "with connect('test_db') as conn:\n",
    "    cur = conn.cursor()\n",
    "    with temptable2(cur): # removed \"contextmanager\"\n",
    "        cur.execute('insert into points (x, y) values(3, 3)')\n",
    "        cur.execute('insert into points (x, y) values(2, 2)')\n",
    "\n",
    "        for row in cur.execute('select x, y from points'):\n",
    "            print(row)"
   ]
  },
  {
   "cell_type": "markdown",
   "metadata": {},
   "source": [
    "**It turns out that we do not need to define contextmanager ourselves, its already done in libraries:**"
   ]
  },
  {
   "cell_type": "code",
   "execution_count": 56,
   "metadata": {},
   "outputs": [
    {
     "name": "stdout",
     "output_type": "stream",
     "text": [
      "table created\n",
      "(3, 3)\n",
      "(2, 2)\n",
      "table removed\n"
     ]
    }
   ],
   "source": [
    "from contextlib import contextmanager\n",
    "\n",
    "# create generator, for completeness adding a try-finally statement\n",
    "@contextmanager\n",
    "def temptable2(cur):\n",
    "    cur.execute('create table points(x int, y int)')\n",
    "    print('table created')\n",
    "    try:\n",
    "        yield\n",
    "    finally:\n",
    "        cur.execute('drop table points')\n",
    "        print('table removed')\n",
    "\n",
    "#using nested context managers\n",
    "with connect('test_db') as conn:\n",
    "    cur = conn.cursor()\n",
    "    with temptable2(cur): # removed \"contextmanager\"\n",
    "        cur.execute('insert into points (x, y) values(3, 3)')\n",
    "        cur.execute('insert into points (x, y) values(2, 2)')\n",
    "\n",
    "        for row in cur.execute('select x, y from points'):\n",
    "            print(row)"
   ]
  },
  {
   "cell_type": "code",
   "execution_count": null,
   "metadata": {},
   "outputs": [],
   "source": []
  }
 ],
 "metadata": {
  "kernelspec": {
   "display_name": "Python 3",
   "language": "python",
   "name": "python3"
  },
  "language_info": {
   "codemirror_mode": {
    "name": "ipython",
    "version": 3
   },
   "file_extension": ".py",
   "mimetype": "text/x-python",
   "name": "python",
   "nbconvert_exporter": "python",
   "pygments_lexer": "ipython3",
   "version": "3.7.3"
  },
  "latex_envs": {
   "LaTeX_envs_menu_present": true,
   "autoclose": true,
   "autocomplete": true,
   "bibliofile": "biblio.bib",
   "cite_by": "apalike",
   "current_citInitial": 1,
   "eqLabelWithNumbers": true,
   "eqNumInitial": 1,
   "hotkeys": {
    "equation": "Ctrl-E",
    "itemize": "Ctrl-I"
   },
   "labels_anchors": false,
   "latex_user_defs": false,
   "report_style_numbering": false,
   "user_envs_cfg": false
  },
  "toc": {
   "base_numbering": 1,
   "nav_menu": {},
   "number_sections": true,
   "sideBar": true,
   "skip_h1_title": false,
   "title_cell": "Table of Contents",
   "title_sidebar": "Contents",
   "toc_cell": false,
   "toc_position": {},
   "toc_section_display": true,
   "toc_window_display": false
  }
 },
 "nbformat": 4,
 "nbformat_minor": 2
}
